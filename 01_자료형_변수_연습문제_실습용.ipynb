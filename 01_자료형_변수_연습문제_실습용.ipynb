{
 "cells": [
  {
   "cell_type": "markdown",
   "metadata": {
    "id": "P7z4Artlbeza"
   },
   "source": [
    "# Q1.홍길동 씨의 과목별 점수는 다음과 같다. 홍길동 씨의 평균 점수를 구해보자.\n",
    "\n",
    "|과목|점수|\n",
    "|----|:---:|\n",
    "|국어|80|\n",
    "|영어|75|\n",
    "|수학|55|"
   ]
  },
  {
   "cell_type": "code",
   "execution_count": 5,
   "metadata": {
    "ExecuteTime": {
     "end_time": "2023-11-28T00:16:33.139763Z",
     "start_time": "2023-11-28T00:16:33.116050Z"
    },
    "id": "NiD3GmFCp49j"
   },
   "outputs": [
    {
     "ename": "TypeError",
     "evalue": "unsupported operand type(s) for +: 'int' and 'str'",
     "output_type": "error",
     "traceback": [
      "\u001b[1;31m---------------------------------------------------------------------------\u001b[0m",
      "\u001b[1;31mTypeError\u001b[0m                                 Traceback (most recent call last)",
      "Cell \u001b[1;32mIn[5], line 13\u001b[0m\n\u001b[0;32m      6\u001b[0m \u001b[38;5;124;03m\"\"\"\u001b[39;00m\n\u001b[0;32m      7\u001b[0m \u001b[38;5;124;03m홍길동 = {'국어' : 80, '영어' :75, '수학':55}\u001b[39;00m\n\u001b[0;32m      8\u001b[0m \u001b[38;5;124;03mavg = sum(홍길동.values())/len(홍길동)\u001b[39;00m\n\u001b[0;32m      9\u001b[0m \u001b[38;5;124;03mprint(avg)\u001b[39;00m\n\u001b[0;32m     10\u001b[0m \n\u001b[0;32m     11\u001b[0m \u001b[38;5;124;03m\"\"\"\u001b[39;00m\n\u001b[0;32m     12\u001b[0m 홍길동 \u001b[38;5;241m=\u001b[39m {\u001b[38;5;124m'\u001b[39m\u001b[38;5;124m국어\u001b[39m\u001b[38;5;124m'\u001b[39m : \u001b[38;5;241m80\u001b[39m, \u001b[38;5;124m'\u001b[39m\u001b[38;5;124m영어\u001b[39m\u001b[38;5;124m'\u001b[39m :\u001b[38;5;241m75\u001b[39m, \u001b[38;5;124m'\u001b[39m\u001b[38;5;124m수학\u001b[39m\u001b[38;5;124m'\u001b[39m:\u001b[38;5;241m55\u001b[39m}\n\u001b[1;32m---> 13\u001b[0m avg \u001b[38;5;241m=\u001b[39m \u001b[38;5;28msum\u001b[39m(\u001b[38;5;28mlist\u001b[39m(홍길동))\u001b[38;5;241m/\u001b[39m\u001b[38;5;28mlen\u001b[39m(홍길동)\n",
      "\u001b[1;31mTypeError\u001b[0m: unsupported operand type(s) for +: 'int' and 'str'"
     ]
    }
   ],
   "source": [
    "\"\"\"\n",
    "홍길동 = {'국어' : 80, '영어' :75, '수학':55}\n",
    "(홍길동[\"국어\"]+홍길동[\"영어\"]+홍길동[\"수학\"])/len(홍길동)\n",
    "\"\"\"\n",
    "\n",
    "\"\"\"\n",
    "홍길동 = {'국어' : 80, '영어' :75, '수학':55}\n",
    "avg = sum(홍길동.values())/len(홍길동)\n",
    "print(avg)\n",
    "\n",
    "\"\"\"\n",
    "\n"
   ]
  },
  {
   "cell_type": "markdown",
   "metadata": {
    "id": "3TafgBl9dPiZ"
   },
   "source": [
    "# Q2. 자연수 13이 홀수인지 짝수인지 판별할 수 있는 방법에 대해 말해보자."
   ]
  },
  {
   "cell_type": "code",
   "execution_count": 24,
   "metadata": {
    "id": "z7p-E4bRp49k"
   },
   "outputs": [
    {
     "data": {
      "text/plain": [
       "1"
      ]
     },
     "execution_count": 24,
     "metadata": {},
     "output_type": "execute_result"
    }
   ],
   "source": [
    "# 나머지 연산자를 쓰면 어떨까\n",
    "# 2로 나누었을 때 나머지가 1이 남으면 홀수, 0이 남으면 짝수\n",
    "\n",
    "13%2"
   ]
  },
  {
   "cell_type": "markdown",
   "metadata": {
    "id": "7T8b-FHDdPgI"
   },
   "source": [
    "# Q3. 홍길동 씨의 주민등록번호는 881120-1068234이다.   \n",
    "홍길동씨의 주민등록번호를 연월일(YYYYMMDD)부분과 그 뒤의 숫자 부분으로 나누어 출력해보자.\n",
    "```\n",
    "pin = '881120-1068234'\n",
    "yyyymmdd = # 입력\n",
    "num =  # 입력\n",
    "print() # 연월일 부분 출력\n",
    "print() # 숫자부분 출력\n",
    "```"
   ]
  },
  {
   "cell_type": "code",
   "execution_count": 29,
   "metadata": {
    "ExecuteTime": {
     "end_time": "2023-11-27T10:03:13.287195Z",
     "start_time": "2023-11-27T10:03:13.279759Z"
    },
    "id": "v9EjmVT7p49l"
   },
   "outputs": [
    {
     "name": "stdout",
     "output_type": "stream",
     "text": [
      "19881120\n",
      "1068234\n"
     ]
    },
    {
     "data": {
      "text/plain": [
       "\"\\n다른 풀이\\npin = '881120-1068234'\\nyyyymmdd = '19'+pin[:6]\\nnum =  pin[-7:]\\nprint(yyyymmdd)\\nprint(num)\\n\\n\""
      ]
     },
     "execution_count": 29,
     "metadata": {},
     "output_type": "execute_result"
    }
   ],
   "source": [
    "pin = \"881120-1068234\"\n",
    "yyyymmdd = pin.split(\"-\")[0]\n",
    "num = pin.split(\"-\")[1]\n",
    "print(int(\"19\"+yyyymmdd))\n",
    "print(int(num))\n",
    "\n",
    "\"\"\"\n",
    "다른 풀이\n",
    "pin = '881120-1068234'\n",
    "yyyymmdd = '19'+pin[:6]\n",
    "num =  pin[-7:]\n",
    "print(yyyymmdd)\n",
    "print(num)\n",
    "\n",
    "\"\"\""
   ]
  },
  {
   "cell_type": "markdown",
   "metadata": {
    "id": "AtioTrtJdPd4"
   },
   "source": [
    "# Q4. 주민등록번호 뒷자리의 맨 첫 번째 숫자는 성별을 나타낸다.   \n",
    "주민등록번호에서 성별을 나타내는 숫자를 출력해보자.\n",
    "```\n",
    "pin = \"881120-1068234\"\n",
    "print( )\n",
    "```"
   ]
  },
  {
   "cell_type": "code",
   "execution_count": 4,
   "metadata": {
    "id": "qo8AcMyip49l"
   },
   "outputs": [
    {
     "name": "stdout",
     "output_type": "stream",
     "text": [
      "1\n"
     ]
    }
   ],
   "source": [
    "pin = \"881120-1068234\"\n",
    "print(pin[7])"
   ]
  },
  {
   "cell_type": "markdown",
   "metadata": {
    "id": "XaXv7gsrdPbb"
   },
   "source": [
    "# Q5. 다음과 같은 문자열 a:b:c:d가 있다.   \n",
    "문자열의 replace 함수를 사용하여 a#b#c#d로 바꿔서 출력해보자.\n",
    "```\n",
    "a = \"a:b:c:d\"\n",
    "b =\n",
    "print(b)\n",
    "```"
   ]
  },
  {
   "cell_type": "code",
   "execution_count": 5,
   "metadata": {
    "id": "wH3gpY3-p49m"
   },
   "outputs": [
    {
     "name": "stdout",
     "output_type": "stream",
     "text": [
      "a#b#c#d\n"
     ]
    }
   ],
   "source": [
    "a = \"a:b:c:d\"\n",
    "b = a.replace(\":\",\"#\")\n",
    "print(b)"
   ]
  },
  {
   "cell_type": "markdown",
   "metadata": {
    "id": "-fANvuSaj8-C"
   },
   "source": [
    "# Q6. [1, 3, 5, 4, 2] 리스트를 [5, 4, 3, 2, 1]로 만들어 보자.\n",
    "```\n",
    "a = [1, 3, 5, 4, 2]\n",
    "a.\n",
    "a.\n",
    "print()\n",
    "```"
   ]
  },
  {
   "cell_type": "code",
   "execution_count": 51,
   "metadata": {
    "ExecuteTime": {
     "end_time": "2023-11-27T12:11:20.970285Z",
     "start_time": "2023-11-27T12:11:20.961913Z"
    },
    "id": "qZ-i5aiRp49n"
   },
   "outputs": [
    {
     "name": "stdout",
     "output_type": "stream",
     "text": [
      "[5, 4, 3, 2, 1]\n"
     ]
    },
    {
     "data": {
      "text/plain": [
       "'\\n다른 풀이\\na = [1, 3, 5, 4, 2]\\na.sort()\\nb = a[::-1]\\nprint(b)\\n'"
      ]
     },
     "execution_count": 51,
     "metadata": {},
     "output_type": "execute_result"
    }
   ],
   "source": [
    "a = [1, 3, 5, 4, 2]\n",
    "a.sort(),a.reverse()\n",
    "print(a)\n",
    "\n",
    "\"\"\"\n",
    "다른 풀이\n",
    "a = [1, 3, 5, 4, 2]\n",
    "a.sort()\n",
    "b = a[::-1]\n",
    "print(b)\n",
    "\"\"\""
   ]
  },
  {
   "cell_type": "markdown",
   "metadata": {
    "id": "6lES5LRAdPY4"
   },
   "source": [
    "# Q7. ['Life', 'is', 'too', 'short'] 리스트를 Life is too short 문자열로 만들어 출력해보자.\n",
    "```\n",
    "a = ['Life', 'is', 'too', 'short']\n",
    "result =\n",
    "print(result)\n",
    "```"
   ]
  },
  {
   "cell_type": "code",
   "execution_count": 33,
   "metadata": {
    "ExecuteTime": {
     "end_time": "2023-11-27T10:04:35.200379Z",
     "start_time": "2023-11-27T10:04:35.194857Z"
    },
    "id": "oJ7ze-x6p49n"
   },
   "outputs": [
    {
     "name": "stdout",
     "output_type": "stream",
     "text": [
      "Life is too short\n"
     ]
    }
   ],
   "source": [
    "a = ['Life', 'is', 'too', 'short']\n",
    "result = \" \".join(a)\n",
    "print(result)"
   ]
  },
  {
   "cell_type": "markdown",
   "metadata": {
    "id": "PqSrz8p8dPU6"
   },
   "source": [
    "# Q8. (1,2,3) 튜플에 값 4를 추가하여 (1,2,3,4)를 만들어 출력해 보자.\n",
    "```\n",
    "a = (1, 2, 3)\n",
    "a =\n",
    "print(a)\n",
    "```"
   ]
  },
  {
   "cell_type": "code",
   "execution_count": 52,
   "metadata": {
    "ExecuteTime": {
     "end_time": "2023-11-27T12:19:27.380316Z",
     "start_time": "2023-11-27T12:19:27.374288Z"
    },
    "id": "eV0ZiH_-p49n"
   },
   "outputs": [
    {
     "name": "stdout",
     "output_type": "stream",
     "text": [
      "(1, 2, 3, 4)\n"
     ]
    }
   ],
   "source": [
    "\"\"\"\n",
    "a = (1, 2, 3)\n",
    "a = (1,2,3,4)\n",
    "print(a)\n",
    "\n",
    "\"\"\"\n",
    "a = (1,2,3)\n",
    "b = (4,)\n",
    "print(a + b)\n"
   ]
  },
  {
   "cell_type": "markdown",
   "metadata": {
    "id": "qmTUwfF3luRo"
   },
   "source": [
    "# Q9. 다음과 같은 딕셔너리 a가 있다.\n",
    "```\n",
    ">>> a = dict()\n",
    ">>> a\n",
    "{}\n",
    "```\n",
    "다음 중 오류가 발생하는 경우를 고르고, 그 이유를 설명해 보자.   \n",
    "1. a['name'] = 'python'\n",
    "2. a[('a',)] = 'python'\n",
    "3. a[[1]] = 'python'\n",
    "4. a[250] = 'python'"
   ]
  },
  {
   "cell_type": "code",
   "execution_count": null,
   "metadata": {
    "id": "lccjjP_up49o"
   },
   "outputs": [],
   "source": [
    "#\n",
    "3번\n",
    "리스트는 mutable한 객체라 키가 될 수 없음"
   ]
  },
  {
   "cell_type": "markdown",
   "metadata": {
    "id": "I9jnR3JXm_9r"
   },
   "source": [
    "# Q10. 딕셔너리 a에서 'B'에 해당되는 값을 추출해 보자.\n",
    "```\n",
    "a = {'A':90, 'B':80, 'C':70}\n",
    "result =\n",
    "print(a)\n",
    "print(result)\n",
    "```"
   ]
  },
  {
   "cell_type": "code",
   "execution_count": 40,
   "metadata": {
    "ExecuteTime": {
     "end_time": "2023-11-27T10:11:25.255209Z",
     "start_time": "2023-11-27T10:11:25.250865Z"
    },
    "id": "iU4C4JT-p49o"
   },
   "outputs": [
    {
     "name": "stdout",
     "output_type": "stream",
     "text": [
      "{'A': 90, 'B': 80, 'C': 70}\n",
      "80\n"
     ]
    }
   ],
   "source": [
    "a = {'A':90, 'B':80, 'C':70}\n",
    "result = a['B']\n",
    "print(a)\n",
    "print(result)"
   ]
  },
  {
   "cell_type": "markdown",
   "metadata": {
    "id": "nN3vmxD-nUZC"
   },
   "source": [
    "# Q11. a 리스트에서 중복 숫자를 제거해 보자.\n",
    "\n",
    "a = [1, 1, 1, 2, 2, 3, 3, 3, 4, 4, 5]\n",
    "aSet = set(a)\n",
    "b =\n",
    "print(b)\n"
   ]
  },
  {
   "cell_type": "code",
   "execution_count": 49,
   "metadata": {
    "ExecuteTime": {
     "end_time": "2023-11-27T12:08:02.501875Z",
     "start_time": "2023-11-27T12:08:02.494607Z"
    },
    "id": "md_gELw4p49o"
   },
   "outputs": [
    {
     "data": {
      "text/plain": [
       "set"
      ]
     },
     "execution_count": 49,
     "metadata": {},
     "output_type": "execute_result"
    }
   ],
   "source": [
    "a = [1, 1, 1, 2, 2, 3, 3, 3, 4, 4, 5]\n",
    "aSet = set(a)\n",
    "b = list(aSet)\n",
    "print(b)"
   ]
  },
  {
   "cell_type": "markdown",
   "metadata": {
    "id": "noodmU5Mnv5Z"
   },
   "source": [
    "# Q12. 파이썬은 다음처럼 동일한 값에 여러 개의 변수를 선언할 수 있다.   \n",
    "다음과 같이 a, b 변수를 선언한 후 a의 두 번째 요솟값을 변경하면 b 값은 어떻게될까?   \n",
    "그리고 이런 결과가 나오는 이유에 대해 설명해보자.\n",
    "```\n",
    ">>> a = b = [1, 2, 3]\n",
    ">>> a[1] = 4\n",
    ">>> print(b)\n",
    "```"
   ]
  },
  {
   "cell_type": "code",
   "execution_count": 42,
   "metadata": {
    "ExecuteTime": {
     "end_time": "2023-11-27T10:12:44.914809Z",
     "start_time": "2023-11-27T10:12:44.911161Z"
    },
    "id": "H2l5YyTwp49o"
   },
   "outputs": [
    {
     "name": "stdout",
     "output_type": "stream",
     "text": [
      "[1, 4, 3]\n"
     ]
    }
   ],
   "source": [
    "#얕은 복사로 인해 같은 메모리 값을 참조해서"
   ]
  },
  {
   "cell_type": "markdown",
   "metadata": {
    "id": "YTuIYpyhp49p"
   },
   "source": [
    "```\n",
    "\"서두르지 마라, 그러나 멈추지도 마라.\"\n",
    "- 요한 볼프강 폰 괴테\n",
    "```"
   ]
  }
 ],
 "metadata": {
  "colab": {
   "provenance": []
  },
  "kernelspec": {
   "display_name": "Python 3 (ipykernel)",
   "language": "python",
   "name": "python3"
  },
  "language_info": {
   "codemirror_mode": {
    "name": "ipython",
    "version": 3
   },
   "file_extension": ".py",
   "mimetype": "text/x-python",
   "name": "python",
   "nbconvert_exporter": "python",
   "pygments_lexer": "ipython3",
   "version": "3.11.5"
  },
  "toc": {
   "base_numbering": 1,
   "nav_menu": {},
   "number_sections": true,
   "sideBar": true,
   "skip_h1_title": false,
   "title_cell": "Table of Contents",
   "title_sidebar": "Contents",
   "toc_cell": false,
   "toc_position": {
    "height": "calc(100% - 180px)",
    "left": "10px",
    "top": "150px",
    "width": "216px"
   },
   "toc_section_display": true,
   "toc_window_display": false
  },
  "varInspector": {
   "cols": {
    "lenName": 16,
    "lenType": 16,
    "lenVar": 40
   },
   "kernels_config": {
    "python": {
     "delete_cmd_postfix": "",
     "delete_cmd_prefix": "del ",
     "library": "var_list.py",
     "varRefreshCmd": "print(var_dic_list())"
    },
    "r": {
     "delete_cmd_postfix": ") ",
     "delete_cmd_prefix": "rm(",
     "library": "var_list.r",
     "varRefreshCmd": "cat(var_dic_list()) "
    }
   },
   "types_to_exclude": [
    "module",
    "function",
    "builtin_function_or_method",
    "instance",
    "_Feature"
   ],
   "window_display": false
  }
 },
 "nbformat": 4,
 "nbformat_minor": 1
}
