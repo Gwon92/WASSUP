{
 "cells": [
  {
   "cell_type": "code",
   "execution_count": 4,
   "id": "7e38ea0f",
   "metadata": {
    "ExecuteTime": {
     "end_time": "2023-12-14T11:44:38.474700Z",
     "start_time": "2023-12-14T11:44:25.594525Z"
    }
   },
   "outputs": [
    {
     "name": "stdout",
     "output_type": "stream",
     "text": [
      "Requirement already satisfied: selenium in c:\\users\\pee\\anaconda3\\lib\\site-packages (4.16.0)\n",
      "Requirement already satisfied: urllib3[socks]<3,>=1.26 in c:\\users\\pee\\anaconda3\\lib\\site-packages (from selenium) (1.26.16)\n",
      "Requirement already satisfied: trio~=0.17 in c:\\users\\pee\\anaconda3\\lib\\site-packages (from selenium) (0.23.2)\n",
      "Requirement already satisfied: trio-websocket~=0.9 in c:\\users\\pee\\anaconda3\\lib\\site-packages (from selenium) (0.11.1)\n",
      "Requirement already satisfied: certifi>=2021.10.8 in c:\\users\\pee\\anaconda3\\lib\\site-packages (from selenium) (2023.7.22)\n",
      "Requirement already satisfied: attrs>=20.1.0 in c:\\users\\pee\\anaconda3\\lib\\site-packages (from trio~=0.17->selenium) (22.1.0)\n",
      "Requirement already satisfied: sortedcontainers in c:\\users\\pee\\anaconda3\\lib\\site-packages (from trio~=0.17->selenium) (2.4.0)\n",
      "Requirement already satisfied: idna in c:\\users\\pee\\anaconda3\\lib\\site-packages (from trio~=0.17->selenium) (3.4)\n",
      "Requirement already satisfied: outcome in c:\\users\\pee\\anaconda3\\lib\\site-packages (from trio~=0.17->selenium) (1.3.0.post0)\n",
      "Requirement already satisfied: sniffio>=1.3.0 in c:\\users\\pee\\anaconda3\\lib\\site-packages (from trio~=0.17->selenium) (1.3.0)\n",
      "Requirement already satisfied: cffi>=1.14 in c:\\users\\pee\\anaconda3\\lib\\site-packages (from trio~=0.17->selenium) (1.15.1)\n",
      "Requirement already satisfied: wsproto>=0.14 in c:\\users\\pee\\anaconda3\\lib\\site-packages (from trio-websocket~=0.9->selenium) (1.2.0)\n",
      "Requirement already satisfied: PySocks!=1.5.7,<2.0,>=1.5.6 in c:\\users\\pee\\anaconda3\\lib\\site-packages (from urllib3[socks]<3,>=1.26->selenium) (1.7.1)\n",
      "Requirement already satisfied: pycparser in c:\\users\\pee\\anaconda3\\lib\\site-packages (from cffi>=1.14->trio~=0.17->selenium) (2.21)\n",
      "Requirement already satisfied: h11<1,>=0.9.0 in c:\\users\\pee\\anaconda3\\lib\\site-packages (from wsproto>=0.14->trio-websocket~=0.9->selenium) (0.14.0)\n"
     ]
    }
   ],
   "source": [
    "!pip install selenium"
   ]
  },
  {
   "cell_type": "code",
   "execution_count": 8,
   "id": "e70ab3fe",
   "metadata": {
    "ExecuteTime": {
     "end_time": "2023-12-14T11:45:35.276290Z",
     "start_time": "2023-12-14T11:45:35.263694Z"
    }
   },
   "outputs": [
    {
     "ename": "SyntaxError",
     "evalue": "unterminated string literal (detected at line 62) (74938721.py, line 62)",
     "output_type": "error",
     "traceback": [
      "\u001b[1;36m  Cell \u001b[1;32mIn[8], line 62\u001b[1;36m\u001b[0m\n\u001b[1;33m    DF.to_excel(f_dir+'\\'+filename)\u001b[0m\n\u001b[1;37m                      ^\u001b[0m\n\u001b[1;31mSyntaxError\u001b[0m\u001b[1;31m:\u001b[0m unterminated string literal (detected at line 62)\n"
     ]
    }
   ],
   "source": [
    "from selenium import webdriver\n",
    "from selenium.webdriver.common.by import By\n",
    "from selenium.webdriver.chrome.options import Options\n",
    "import time, random, os, pandas as pd\n",
    "\n",
    "options = Options()\n",
    "options.add_argument(\"--start-maximized\") \n",
    "options.add_argument(\"--headless=new\") \n",
    "options.add_experimental_option(\"detach\", True) \n",
    "\n",
    "d = webdriver.Chrome(options=options)\n",
    "\n",
    "#app_name = input(\"App 이름은 무엇인가요? : \")\n",
    "#app_url = input(\"App URL을 입력해주세요 : \")\n",
    "#scroll = int(int(input(\"몇 개의 리뷰를 가져올까요?: \"))/44)\n",
    "now = time.localtime()\n",
    "date_format = '%04d%02d%02d'%(now.tm_year, now.tm_mon, now.tm_mday)\n",
    "f_dir = f'{os.getcwd()}\\GoogleStoreReview'\n",
    "\n",
    "#test용###\n",
    "app_url = \"https://play.google.com/store/apps/details?id=com.ilevit.alwayz.android&hl=ko-KR\"\n",
    "app_name= 'test'\n",
    "scroll = 10\n",
    "#####\n",
    "\n",
    "d.get(app_url)\n",
    "\n",
    "time.sleep(random.randint(3,5))\n",
    "\n",
    "#더보기 클릭 열기\n",
    "moer ='//[@id=\"yDmH0d\"]/c-wiz[2]/div/div/div[2]/div[2]/div/div[1]/div[1]/c-wiz[4]/section/div/div[2]/div[5]/div/div/button/span'\n",
    "d.find_element(By.XPATH, moer).click()\n",
    "#moer.send_keys(Keys.ENTER)\n",
    "\n",
    "\n",
    "#페이지 스크롤링 \n",
    "for a in range(scroll):\n",
    "    block = d.find_element(By.CSS_SELECTOR, 'div.fysCi')\n",
    "    d.execute_script('arguments[0].scrollTop = arguments[0].scrollHeight', block ) \n",
    "\n",
    "#리뷰별로 찾고\n",
    "data = d.find_elements(By.CSS_SELECTOR, 'div.RHo1pe')\n",
    "\n",
    "#요소별 추출\n",
    "def text(x):\n",
    "    data = d.find_elements(By.CSS_SELECTOR, 'div.RHo1pe')\n",
    "    #[<selenium sdjalkrjsalkrajslkfjsalfk;s>,<selenium dsaklfjsdlkrjsarser]\n",
    "    review={}\n",
    "    for i in data\n",
    "        review['rat'] = len(i.find_elements(By.CSS_SELECTOR, 'span.Z1Dz7b'))\n",
    "        review['text'] = i.find_element(By.CSS_SELECTOR, 'div.h3YV2d').text\n",
    "        review['date'] = i.find_element(By.CSSSELECTOR, 'span.bp9Aid').text\n",
    "    return review\n",
    "\n",
    "result=[]\n",
    "for x in data:\n",
    "    result.append(text(x))\n",
    "\n",
    "#result = [text(x) for x in data]\n",
    "\n",
    "#파일로 저장\n",
    "df = pd.DataFrame(result)\n",
    "filename = f'GoogleStoreReview{appname}{scroll44}건_{date_format}.xlsx'\n",
    "DF.to_excel(f_dir+'\\'+filename)\n",
    "print(f'====== {filename} 파일 저장 완료 ======')"
   ]
  },
  {
   "cell_type": "code",
   "execution_count": 9,
   "id": "743c5eb8",
   "metadata": {
    "ExecuteTime": {
     "end_time": "2023-12-14T11:46:35.538769Z",
     "start_time": "2023-12-14T11:46:31.260714Z"
    }
   },
   "outputs": [],
   "source": [
    "from selenium import webdriver\n",
    "from selenium.webdriver.common.by import By\n",
    "from selenium.webdriver.chrome.options import Options\n",
    "import time, random, os, pandas as pd\n",
    "\n",
    "options = Options()\n",
    "options.add_argument(\"--start-maximized\") \n",
    "options.add_argument(\"--headless=new\") \n",
    "options.add_experimental_option(\"detach\", True) \n",
    "\n",
    "d = webdriver.Chrome(options=options)\n",
    "\n",
    "#app_name = input(\"App 이름은 무엇인가요? : \")\n",
    "#app_url = input(\"App URL을 입력해주세요 : \")\n",
    "#scroll = int(int(input(\"몇 개의 리뷰를 가져올까요?: \"))/44)\n",
    "now = time.localtime()\n",
    "date_format = '%04d%02d%02d'%(now.tm_year, now.tm_mon, now.tm_mday)\n",
    "f_dir = f'{os.getcwd()}\\GoogleStoreReview'\n",
    "\n",
    "#test용###\n",
    "app_url = \"https://play.google.com/store/apps/details?id=com.ilevit.alwayz.android&hl=ko-KR\"\n",
    "app_name= 'test'\n",
    "scroll = 10\n",
    "#####\n",
    "\n",
    "d.get(app_url)\n",
    "\n",
    "time.sleep(random.randint(3,5))\n",
    "\n"
   ]
  },
  {
   "cell_type": "code",
   "execution_count": 12,
   "id": "f3a1df30",
   "metadata": {
    "ExecuteTime": {
     "end_time": "2023-12-14T11:51:38.990065Z",
     "start_time": "2023-12-14T11:51:35.069582Z"
    }
   },
   "outputs": [],
   "source": [
    "#test용###\n",
    "app_url = \"https://play.google.com/store/apps/details?id=com.ilevit.alwayz.android&hl=ko-KR\"\n",
    "app_name= 'test'\n",
    "scroll = 10\n",
    "#####\n",
    "\n",
    "d.get(app_url)\n",
    "\n",
    "time.sleep(random.randint(3,5))"
   ]
  }
 ],
 "metadata": {
  "kernelspec": {
   "display_name": "Python 3 (ipykernel)",
   "language": "python",
   "name": "python3"
  },
  "language_info": {
   "codemirror_mode": {
    "name": "ipython",
    "version": 3
   },
   "file_extension": ".py",
   "mimetype": "text/x-python",
   "name": "python",
   "nbconvert_exporter": "python",
   "pygments_lexer": "ipython3",
   "version": "3.11.5"
  },
  "toc": {
   "base_numbering": 1,
   "nav_menu": {},
   "number_sections": true,
   "sideBar": true,
   "skip_h1_title": false,
   "title_cell": "Table of Contents",
   "title_sidebar": "Contents",
   "toc_cell": false,
   "toc_position": {},
   "toc_section_display": true,
   "toc_window_display": false
  }
 },
 "nbformat": 4,
 "nbformat_minor": 5
}
