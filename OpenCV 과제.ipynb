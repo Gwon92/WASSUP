{
 "cells": [
  {
   "cell_type": "code",
   "execution_count": 15,
   "id": "c7ba4a0f",
   "metadata": {
    "ExecuteTime": {
     "end_time": "2023-12-26T04:14:02.250480Z",
     "start_time": "2023-12-26T04:14:02.245819Z"
    }
   },
   "outputs": [],
   "source": [
    "from tensorflow.keras.datasets import mnist\n",
    "import cv2\n",
    "import matplotlib.pyplot as plt\n",
    "import sys\n",
    "import numpy as np\n",
    "import os\n",
    "import glob\n",
    "import random"
   ]
  },
  {
   "cell_type": "code",
   "execution_count": 5,
   "id": "b81601aa",
   "metadata": {
    "ExecuteTime": {
     "end_time": "2023-12-26T04:10:47.873776Z",
     "start_time": "2023-12-26T04:10:47.861762Z"
    },
    "scrolled": true
   },
   "outputs": [
    {
     "data": {
      "text/plain": [
       "['1_0.jpg',\n",
       " '1_1.jpg',\n",
       " '1_10.jpg',\n",
       " '1_11.jpg',\n",
       " '1_12.jpg',\n",
       " '1_13.jpg',\n",
       " '1_14.jpg',\n",
       " '1_15.jpg',\n",
       " '1_16.jpg',\n",
       " '1_17.jpg',\n",
       " '1_18.jpg',\n",
       " '1_19.jpg',\n",
       " '1_2.jpg',\n",
       " '1_20.jpg',\n",
       " '1_21.jpg',\n",
       " '1_3.jpg',\n",
       " '1_4.jpg',\n",
       " '1_5.jpg',\n",
       " '1_6.jpg',\n",
       " '1_7.jpg',\n",
       " '1_8.jpg',\n",
       " '1_9.jpg',\n",
       " '2_0.jpg',\n",
       " '2_1.jpg',\n",
       " '2_10.jpg',\n",
       " '2_11.jpg',\n",
       " '2_12.jpg',\n",
       " '2_13.jpg',\n",
       " '2_14.jpg',\n",
       " '2_15.jpg',\n",
       " '2_16.jpg',\n",
       " '2_17.jpg',\n",
       " '2_18.jpg',\n",
       " '2_19.jpg',\n",
       " '2_2.jpg',\n",
       " '2_20.jpg',\n",
       " '2_21.jpg',\n",
       " '2_22.jpg',\n",
       " '2_23.jpg',\n",
       " '2_24.jpg',\n",
       " '2_25.jpg',\n",
       " '2_3.jpg',\n",
       " '2_4.jpg',\n",
       " '2_5.jpg',\n",
       " '2_6.jpg',\n",
       " '2_7.jpg',\n",
       " '2_8.jpg',\n",
       " '2_9.jpg']"
      ]
     },
     "execution_count": 5,
     "metadata": {},
     "output_type": "execute_result"
    }
   ],
   "source": [
    "# image 폴더에 있는 이미지 리스트를 변수에 저장하기\n",
    "img_folder_list = os.listdir('C:\\workspace\\python\\WASSUP\\data\\image')\n",
    "img_folder_list"
   ]
  },
  {
   "cell_type": "code",
   "execution_count": 7,
   "id": "e391eac8",
   "metadata": {
    "ExecuteTime": {
     "end_time": "2023-12-26T04:12:38.926243Z",
     "start_time": "2023-12-26T04:12:38.917735Z"
    }
   },
   "outputs": [
    {
     "data": {
      "text/plain": [
       "['C:\\\\workspace\\\\python\\\\WASSUP\\\\data\\\\image\\\\1_0.jpg',\n",
       " 'C:\\\\workspace\\\\python\\\\WASSUP\\\\data\\\\image\\\\1_1.jpg',\n",
       " 'C:\\\\workspace\\\\python\\\\WASSUP\\\\data\\\\image\\\\1_10.jpg',\n",
       " 'C:\\\\workspace\\\\python\\\\WASSUP\\\\data\\\\image\\\\1_11.jpg',\n",
       " 'C:\\\\workspace\\\\python\\\\WASSUP\\\\data\\\\image\\\\1_12.jpg',\n",
       " 'C:\\\\workspace\\\\python\\\\WASSUP\\\\data\\\\image\\\\1_13.jpg',\n",
       " 'C:\\\\workspace\\\\python\\\\WASSUP\\\\data\\\\image\\\\1_14.jpg',\n",
       " 'C:\\\\workspace\\\\python\\\\WASSUP\\\\data\\\\image\\\\1_15.jpg',\n",
       " 'C:\\\\workspace\\\\python\\\\WASSUP\\\\data\\\\image\\\\1_16.jpg',\n",
       " 'C:\\\\workspace\\\\python\\\\WASSUP\\\\data\\\\image\\\\1_17.jpg',\n",
       " 'C:\\\\workspace\\\\python\\\\WASSUP\\\\data\\\\image\\\\1_18.jpg',\n",
       " 'C:\\\\workspace\\\\python\\\\WASSUP\\\\data\\\\image\\\\1_19.jpg',\n",
       " 'C:\\\\workspace\\\\python\\\\WASSUP\\\\data\\\\image\\\\1_2.jpg',\n",
       " 'C:\\\\workspace\\\\python\\\\WASSUP\\\\data\\\\image\\\\1_20.jpg',\n",
       " 'C:\\\\workspace\\\\python\\\\WASSUP\\\\data\\\\image\\\\1_21.jpg',\n",
       " 'C:\\\\workspace\\\\python\\\\WASSUP\\\\data\\\\image\\\\1_3.jpg',\n",
       " 'C:\\\\workspace\\\\python\\\\WASSUP\\\\data\\\\image\\\\1_4.jpg',\n",
       " 'C:\\\\workspace\\\\python\\\\WASSUP\\\\data\\\\image\\\\1_5.jpg',\n",
       " 'C:\\\\workspace\\\\python\\\\WASSUP\\\\data\\\\image\\\\1_6.jpg',\n",
       " 'C:\\\\workspace\\\\python\\\\WASSUP\\\\data\\\\image\\\\1_7.jpg',\n",
       " 'C:\\\\workspace\\\\python\\\\WASSUP\\\\data\\\\image\\\\1_8.jpg',\n",
       " 'C:\\\\workspace\\\\python\\\\WASSUP\\\\data\\\\image\\\\1_9.jpg',\n",
       " 'C:\\\\workspace\\\\python\\\\WASSUP\\\\data\\\\image\\\\2_0.jpg',\n",
       " 'C:\\\\workspace\\\\python\\\\WASSUP\\\\data\\\\image\\\\2_1.jpg',\n",
       " 'C:\\\\workspace\\\\python\\\\WASSUP\\\\data\\\\image\\\\2_10.jpg',\n",
       " 'C:\\\\workspace\\\\python\\\\WASSUP\\\\data\\\\image\\\\2_11.jpg',\n",
       " 'C:\\\\workspace\\\\python\\\\WASSUP\\\\data\\\\image\\\\2_12.jpg',\n",
       " 'C:\\\\workspace\\\\python\\\\WASSUP\\\\data\\\\image\\\\2_13.jpg',\n",
       " 'C:\\\\workspace\\\\python\\\\WASSUP\\\\data\\\\image\\\\2_14.jpg',\n",
       " 'C:\\\\workspace\\\\python\\\\WASSUP\\\\data\\\\image\\\\2_15.jpg',\n",
       " 'C:\\\\workspace\\\\python\\\\WASSUP\\\\data\\\\image\\\\2_16.jpg',\n",
       " 'C:\\\\workspace\\\\python\\\\WASSUP\\\\data\\\\image\\\\2_17.jpg',\n",
       " 'C:\\\\workspace\\\\python\\\\WASSUP\\\\data\\\\image\\\\2_18.jpg',\n",
       " 'C:\\\\workspace\\\\python\\\\WASSUP\\\\data\\\\image\\\\2_19.jpg',\n",
       " 'C:\\\\workspace\\\\python\\\\WASSUP\\\\data\\\\image\\\\2_2.jpg',\n",
       " 'C:\\\\workspace\\\\python\\\\WASSUP\\\\data\\\\image\\\\2_20.jpg',\n",
       " 'C:\\\\workspace\\\\python\\\\WASSUP\\\\data\\\\image\\\\2_21.jpg',\n",
       " 'C:\\\\workspace\\\\python\\\\WASSUP\\\\data\\\\image\\\\2_22.jpg',\n",
       " 'C:\\\\workspace\\\\python\\\\WASSUP\\\\data\\\\image\\\\2_23.jpg',\n",
       " 'C:\\\\workspace\\\\python\\\\WASSUP\\\\data\\\\image\\\\2_24.jpg',\n",
       " 'C:\\\\workspace\\\\python\\\\WASSUP\\\\data\\\\image\\\\2_25.jpg',\n",
       " 'C:\\\\workspace\\\\python\\\\WASSUP\\\\data\\\\image\\\\2_3.jpg',\n",
       " 'C:\\\\workspace\\\\python\\\\WASSUP\\\\data\\\\image\\\\2_4.jpg',\n",
       " 'C:\\\\workspace\\\\python\\\\WASSUP\\\\data\\\\image\\\\2_5.jpg',\n",
       " 'C:\\\\workspace\\\\python\\\\WASSUP\\\\data\\\\image\\\\2_6.jpg',\n",
       " 'C:\\\\workspace\\\\python\\\\WASSUP\\\\data\\\\image\\\\2_7.jpg',\n",
       " 'C:\\\\workspace\\\\python\\\\WASSUP\\\\data\\\\image\\\\2_8.jpg',\n",
       " 'C:\\\\workspace\\\\python\\\\WASSUP\\\\data\\\\image\\\\2_9.jpg']"
      ]
     },
     "execution_count": 7,
     "metadata": {},
     "output_type": "execute_result"
    }
   ],
   "source": [
    "img_path = glob.glob('C:\\workspace\\python\\WASSUP\\data\\image\\*.jpg') # 이미지폴더내 모든 이미지파일 경로\n",
    "img_path"
   ]
  },
  {
   "cell_type": "code",
   "execution_count": 8,
   "id": "eec4b3cc",
   "metadata": {
    "ExecuteTime": {
     "end_time": "2023-12-26T04:12:42.019291Z",
     "start_time": "2023-12-26T04:12:42.011707Z"
    }
   },
   "outputs": [],
   "source": [
    "import random\n",
    "def rd_change(img):\n",
    "    rows, cols, channels = img.shape\n",
    "    rotate = random.randint(0,360)\n",
    "    x_shift = random.randint(-100,100)\n",
    "    y_shift = random.randint(-100,100)\n",
    "\n",
    "    # move\n",
    "    sm = np.float32([[1,0,x_shift],[0,1,y_shift]])\n",
    "    img = cv2.warpAffine(img,sm,(cols,rows))\n",
    "\n",
    "    # rotate\n",
    "    rm = cv2.getRotationMatrix2D((cols/2,rows/2),rotate,1)\n",
    "    img = cv2.warpAffine(img,rm,(cols,rows))\n",
    "    \n",
    "    return img"
   ]
  },
  {
   "cell_type": "code",
   "execution_count": 9,
   "id": "90735ef1",
   "metadata": {
    "ExecuteTime": {
     "end_time": "2023-12-26T04:12:44.368142Z",
     "start_time": "2023-12-26T04:12:44.363701Z"
    }
   },
   "outputs": [],
   "source": [
    "# 파일명 잘라오기\n",
    "def file_name(path):\n",
    "    name = path.split('\\\\')[1]\n",
    "    return name"
   ]
  },
  {
   "cell_type": "code",
   "execution_count": 18,
   "id": "4e077503",
   "metadata": {
    "ExecuteTime": {
     "end_time": "2023-12-26T04:17:14.906945Z",
     "start_time": "2023-12-26T04:17:14.147418Z"
    },
    "scrolled": false
   },
   "outputs": [
    {
     "name": "stdout",
     "output_type": "stream",
     "text": [
      "1 C:\\workspace\\python\\WASSUP\\data\\image\\1_0.jpg 변환 저장 완료\n",
      "2 C:\\workspace\\python\\WASSUP\\data\\image\\1_1.jpg 변환 저장 완료\n",
      "3 C:\\workspace\\python\\WASSUP\\data\\image\\1_10.jpg 변환 저장 완료\n",
      "4 C:\\workspace\\python\\WASSUP\\data\\image\\1_11.jpg 변환 저장 완료\n",
      "5 C:\\workspace\\python\\WASSUP\\data\\image\\1_12.jpg 변환 저장 완료\n",
      "6 C:\\workspace\\python\\WASSUP\\data\\image\\1_13.jpg 변환 저장 완료\n",
      "7 C:\\workspace\\python\\WASSUP\\data\\image\\1_14.jpg 변환 저장 완료\n",
      "8 C:\\workspace\\python\\WASSUP\\data\\image\\1_15.jpg 변환 저장 완료\n",
      "9 C:\\workspace\\python\\WASSUP\\data\\image\\1_16.jpg 변환 저장 완료\n",
      "10 C:\\workspace\\python\\WASSUP\\data\\image\\1_17.jpg 변환 저장 완료\n",
      "11 C:\\workspace\\python\\WASSUP\\data\\image\\1_18.jpg 변환 저장 완료\n",
      "12 C:\\workspace\\python\\WASSUP\\data\\image\\1_19.jpg 변환 저장 완료\n",
      "13 C:\\workspace\\python\\WASSUP\\data\\image\\1_2.jpg 변환 저장 완료\n",
      "14 C:\\workspace\\python\\WASSUP\\data\\image\\1_20.jpg 변환 저장 완료\n",
      "15 C:\\workspace\\python\\WASSUP\\data\\image\\1_21.jpg 변환 저장 완료\n",
      "16 C:\\workspace\\python\\WASSUP\\data\\image\\1_3.jpg 변환 저장 완료\n",
      "17 C:\\workspace\\python\\WASSUP\\data\\image\\1_4.jpg 변환 저장 완료\n",
      "18 C:\\workspace\\python\\WASSUP\\data\\image\\1_5.jpg 변환 저장 완료\n",
      "19 C:\\workspace\\python\\WASSUP\\data\\image\\1_6.jpg 변환 저장 완료\n",
      "20 C:\\workspace\\python\\WASSUP\\data\\image\\1_7.jpg 변환 저장 완료\n",
      "21 C:\\workspace\\python\\WASSUP\\data\\image\\1_8.jpg 변환 저장 완료\n",
      "22 C:\\workspace\\python\\WASSUP\\data\\image\\1_9.jpg 변환 저장 완료\n",
      "23 C:\\workspace\\python\\WASSUP\\data\\image\\2_0.jpg 변환 저장 완료\n",
      "24 C:\\workspace\\python\\WASSUP\\data\\image\\2_1.jpg 변환 저장 완료\n",
      "25 C:\\workspace\\python\\WASSUP\\data\\image\\2_10.jpg 변환 저장 완료\n",
      "26 C:\\workspace\\python\\WASSUP\\data\\image\\2_11.jpg 변환 저장 완료\n",
      "27 C:\\workspace\\python\\WASSUP\\data\\image\\2_12.jpg 변환 저장 완료\n",
      "28 C:\\workspace\\python\\WASSUP\\data\\image\\2_13.jpg 변환 저장 완료\n",
      "29 C:\\workspace\\python\\WASSUP\\data\\image\\2_14.jpg 변환 저장 완료\n",
      "30 C:\\workspace\\python\\WASSUP\\data\\image\\2_15.jpg 변환 저장 완료\n",
      "31 C:\\workspace\\python\\WASSUP\\data\\image\\2_16.jpg 변환 저장 완료\n",
      "32 C:\\workspace\\python\\WASSUP\\data\\image\\2_17.jpg 변환 저장 완료\n",
      "33 C:\\workspace\\python\\WASSUP\\data\\image\\2_18.jpg 변환 저장 완료\n",
      "34 C:\\workspace\\python\\WASSUP\\data\\image\\2_19.jpg 변환 저장 완료\n",
      "35 C:\\workspace\\python\\WASSUP\\data\\image\\2_2.jpg 변환 저장 완료\n",
      "36 C:\\workspace\\python\\WASSUP\\data\\image\\2_20.jpg 변환 저장 완료\n",
      "37 C:\\workspace\\python\\WASSUP\\data\\image\\2_21.jpg 변환 저장 완료\n",
      "38 C:\\workspace\\python\\WASSUP\\data\\image\\2_22.jpg 변환 저장 완료\n",
      "39 C:\\workspace\\python\\WASSUP\\data\\image\\2_23.jpg 변환 저장 완료\n",
      "40 C:\\workspace\\python\\WASSUP\\data\\image\\2_24.jpg 변환 저장 완료\n",
      "41 C:\\workspace\\python\\WASSUP\\data\\image\\2_25.jpg 변환 저장 완료\n",
      "42 C:\\workspace\\python\\WASSUP\\data\\image\\2_3.jpg 변환 저장 완료\n",
      "43 C:\\workspace\\python\\WASSUP\\data\\image\\2_4.jpg 변환 저장 완료\n",
      "44 C:\\workspace\\python\\WASSUP\\data\\image\\2_5.jpg 변환 저장 완료\n",
      "45 C:\\workspace\\python\\WASSUP\\data\\image\\2_6.jpg 변환 저장 완료\n",
      "46 C:\\workspace\\python\\WASSUP\\data\\image\\2_7.jpg 변환 저장 완료\n",
      "47 C:\\workspace\\python\\WASSUP\\data\\image\\2_8.jpg 변환 저장 완료\n",
      "48 C:\\workspace\\python\\WASSUP\\data\\image\\2_9.jpg 변환 저장 완료\n"
     ]
    }
   ],
   "source": [
    "num = 0\n",
    "for path in img_path:\n",
    "    img = cv2.imread(path)\n",
    "    rd_changed = rd_change(img)\n",
    "    \n",
    "    name = file_name(path)\n",
    "    cv2.imwrite('C:\\workspace\\python\\WASSUP\\data\\result'+name+\".jpg\", rd_changed)\n",
    "    num += 1\n",
    "    print(num, path, '변환 저장 완료')"
   ]
  },
  {
   "cell_type": "code",
   "execution_count": null,
   "id": "e13096d7",
   "metadata": {},
   "outputs": [],
   "source": []
  },
  {
   "cell_type": "code",
   "execution_count": null,
   "id": "6a32a02f",
   "metadata": {},
   "outputs": [],
   "source": [
    "# 어케 만들지 "
   ]
  },
  {
   "cell_type": "code",
   "execution_count": 21,
   "id": "a708be68",
   "metadata": {
    "ExecuteTime": {
     "end_time": "2023-12-26T10:43:58.316086Z",
     "start_time": "2023-12-26T10:43:58.287119Z"
    }
   },
   "outputs": [],
   "source": [
    "img = cv2.imread('C:\\workspace\\python\\WASSUP\\data\\car.jpg')"
   ]
  },
  {
   "cell_type": "code",
   "execution_count": 23,
   "id": "52aeeab0",
   "metadata": {
    "ExecuteTime": {
     "end_time": "2023-12-26T10:44:07.020849Z",
     "start_time": "2023-12-26T10:44:06.985248Z"
    }
   },
   "outputs": [
    {
     "data": {
      "text/plain": [
       "array([[[236, 238, 219],\n",
       "        [236, 238, 219],\n",
       "        [236, 238, 219],\n",
       "        ...,\n",
       "        [119, 125,  72],\n",
       "        [103, 118,  61],\n",
       "        [100, 119,  62]],\n",
       "\n",
       "       [[237, 239, 220],\n",
       "        [236, 238, 219],\n",
       "        [236, 238, 219],\n",
       "        ...,\n",
       "        [125, 131,  76],\n",
       "        [103, 118,  61],\n",
       "        [ 86, 106,  47]],\n",
       "\n",
       "       [[237, 239, 220],\n",
       "        [237, 239, 220],\n",
       "        [237, 239, 220],\n",
       "        ...,\n",
       "        [119, 125,  68],\n",
       "        [103, 117,  59],\n",
       "        [ 87, 105,  44]]], dtype=uint8)"
      ]
     },
     "execution_count": 23,
     "metadata": {},
     "output_type": "execute_result"
    }
   ],
   "source": [
    "image = cv2.imread('C:\\workspace\\python\\WASSUP\\data\\car.jpg', cv2.IMREAD_ANYCOLOR) # BGR로 인식하므로 컨버팅 필요\n",
    "image[:3]"
   ]
  },
  {
   "cell_type": "code",
   "execution_count": null,
   "id": "0bbb41bb",
   "metadata": {},
   "outputs": [],
   "source": []
  },
  {
   "cell_type": "code",
   "execution_count": null,
   "id": "391aa7cf",
   "metadata": {},
   "outputs": [],
   "source": []
  },
  {
   "cell_type": "code",
   "execution_count": null,
   "id": "37ff01e9",
   "metadata": {},
   "outputs": [],
   "source": []
  },
  {
   "cell_type": "code",
   "execution_count": null,
   "id": "aad37a84",
   "metadata": {},
   "outputs": [],
   "source": []
  },
  {
   "cell_type": "code",
   "execution_count": null,
   "id": "92122528",
   "metadata": {},
   "outputs": [],
   "source": []
  },
  {
   "cell_type": "code",
   "execution_count": null,
   "id": "63536b97",
   "metadata": {},
   "outputs": [],
   "source": []
  }
 ],
 "metadata": {
  "kernelspec": {
   "display_name": "Python 3 (ipykernel)",
   "language": "python",
   "name": "python3"
  },
  "language_info": {
   "codemirror_mode": {
    "name": "ipython",
    "version": 3
   },
   "file_extension": ".py",
   "mimetype": "text/x-python",
   "name": "python",
   "nbconvert_exporter": "python",
   "pygments_lexer": "ipython3",
   "version": "3.11.5"
  },
  "toc": {
   "base_numbering": 1,
   "nav_menu": {},
   "number_sections": true,
   "sideBar": true,
   "skip_h1_title": false,
   "title_cell": "Table of Contents",
   "title_sidebar": "Contents",
   "toc_cell": false,
   "toc_position": {},
   "toc_section_display": true,
   "toc_window_display": false
  }
 },
 "nbformat": 4,
 "nbformat_minor": 5
}
