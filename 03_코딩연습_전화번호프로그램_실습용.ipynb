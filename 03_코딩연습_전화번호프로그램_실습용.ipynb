{
 "cells": [
  {
   "cell_type": "code",
   "execution_count": 15,
   "metadata": {
    "ExecuteTime": {
     "end_time": "2023-11-29T02:48:09.050789Z",
     "start_time": "2023-11-29T01:54:22.232822Z"
    }
   },
   "outputs": [
    {
     "name": "stdout",
     "output_type": "stream",
     "text": [
      "\n",
      "    ----------------------------------------------\n",
      "    1 : 연락처 추가\n",
      "    2 : 연락처 전체 보기\n",
      "    3 : 검색, 이름을 입력받아서 전화번호 조회\n",
      "    4 : 수정, 이름을 입력받아서 전화번호 입력수정\n",
      "    5 : 삭제, 이름 입력받아서 삭제\n",
      "    6 : 프로그램 종료\n",
      "    -----------------------------------------------\n",
      "    \n",
      "원하는 기능의 번호를 입력하세요.2\n",
      "\n",
      "***번호 리스트***\n",
      "이름:홍길동\n",
      "번호:010-123-4567\n",
      "\n",
      "    ----------------------------------------------\n",
      "    1 : 연락처 추가\n",
      "    2 : 연락처 전체 보기\n",
      "    3 : 검색, 이름을 입력받아서 전화번호 조회\n",
      "    4 : 수정, 이름을 입력받아서 전화번호 입력수정\n",
      "    5 : 삭제, 이름 입력받아서 삭제\n",
      "    6 : 프로그램 종료\n",
      "    -----------------------------------------------\n",
      "    \n"
     ]
    },
    {
     "ename": "KeyboardInterrupt",
     "evalue": "Interrupted by user",
     "output_type": "error",
     "traceback": [
      "\u001b[1;31m---------------------------------------------------------------------------\u001b[0m",
      "\u001b[1;31mKeyboardInterrupt\u001b[0m                         Traceback (most recent call last)",
      "Cell \u001b[1;32mIn[15], line 15\u001b[0m\n\u001b[0;32m      3\u001b[0m \u001b[38;5;28;01mwhile\u001b[39;00m \u001b[38;5;28;01mTrue\u001b[39;00m:\n\u001b[0;32m      4\u001b[0m     \u001b[38;5;28mprint\u001b[39m(\u001b[38;5;124m\"\"\"\u001b[39m\n\u001b[0;32m      5\u001b[0m \u001b[38;5;124m    ----------------------------------------------\u001b[39m\n\u001b[0;32m      6\u001b[0m \u001b[38;5;124m    1 : 연락처 추가\u001b[39m\n\u001b[1;32m   (...)\u001b[0m\n\u001b[0;32m     12\u001b[0m \u001b[38;5;124m    -----------------------------------------------\u001b[39m\n\u001b[0;32m     13\u001b[0m \u001b[38;5;124m    \u001b[39m\u001b[38;5;124m\"\"\"\u001b[39m)\n\u001b[1;32m---> 15\u001b[0m     choice \u001b[38;5;241m=\u001b[39m \u001b[38;5;28minput\u001b[39m(\u001b[38;5;124m\"\u001b[39m\u001b[38;5;124m원하는 기능의 번호를 입력하세요.\u001b[39m\u001b[38;5;124m\"\u001b[39m)\n\u001b[0;32m     17\u001b[0m     \u001b[38;5;28;01mif\u001b[39;00m choice \u001b[38;5;241m==\u001b[39m \u001b[38;5;124m\"\u001b[39m\u001b[38;5;124m1\u001b[39m\u001b[38;5;124m\"\u001b[39m:\n\u001b[0;32m     18\u001b[0m         name \u001b[38;5;241m=\u001b[39m \u001b[38;5;28minput\u001b[39m(\u001b[38;5;124m\"\u001b[39m\u001b[38;5;124m이름 입력:\u001b[39m\u001b[38;5;124m\"\u001b[39m)\n",
      "File \u001b[1;32m~\\anaconda3\\Lib\\site-packages\\ipykernel\\kernelbase.py:1202\u001b[0m, in \u001b[0;36mKernel.raw_input\u001b[1;34m(self, prompt)\u001b[0m\n\u001b[0;32m   1200\u001b[0m     msg \u001b[38;5;241m=\u001b[39m \u001b[38;5;124m\"\u001b[39m\u001b[38;5;124mraw_input was called, but this frontend does not support input requests.\u001b[39m\u001b[38;5;124m\"\u001b[39m\n\u001b[0;32m   1201\u001b[0m     \u001b[38;5;28;01mraise\u001b[39;00m StdinNotImplementedError(msg)\n\u001b[1;32m-> 1202\u001b[0m \u001b[38;5;28;01mreturn\u001b[39;00m \u001b[38;5;28mself\u001b[39m\u001b[38;5;241m.\u001b[39m_input_request(\n\u001b[0;32m   1203\u001b[0m     \u001b[38;5;28mstr\u001b[39m(prompt),\n\u001b[0;32m   1204\u001b[0m     \u001b[38;5;28mself\u001b[39m\u001b[38;5;241m.\u001b[39m_parent_ident[\u001b[38;5;124m\"\u001b[39m\u001b[38;5;124mshell\u001b[39m\u001b[38;5;124m\"\u001b[39m],\n\u001b[0;32m   1205\u001b[0m     \u001b[38;5;28mself\u001b[39m\u001b[38;5;241m.\u001b[39mget_parent(\u001b[38;5;124m\"\u001b[39m\u001b[38;5;124mshell\u001b[39m\u001b[38;5;124m\"\u001b[39m),\n\u001b[0;32m   1206\u001b[0m     password\u001b[38;5;241m=\u001b[39m\u001b[38;5;28;01mFalse\u001b[39;00m,\n\u001b[0;32m   1207\u001b[0m )\n",
      "File \u001b[1;32m~\\anaconda3\\Lib\\site-packages\\ipykernel\\kernelbase.py:1245\u001b[0m, in \u001b[0;36mKernel._input_request\u001b[1;34m(self, prompt, ident, parent, password)\u001b[0m\n\u001b[0;32m   1242\u001b[0m \u001b[38;5;28;01mexcept\u001b[39;00m \u001b[38;5;167;01mKeyboardInterrupt\u001b[39;00m:\n\u001b[0;32m   1243\u001b[0m     \u001b[38;5;66;03m# re-raise KeyboardInterrupt, to truncate traceback\u001b[39;00m\n\u001b[0;32m   1244\u001b[0m     msg \u001b[38;5;241m=\u001b[39m \u001b[38;5;124m\"\u001b[39m\u001b[38;5;124mInterrupted by user\u001b[39m\u001b[38;5;124m\"\u001b[39m\n\u001b[1;32m-> 1245\u001b[0m     \u001b[38;5;28;01mraise\u001b[39;00m \u001b[38;5;167;01mKeyboardInterrupt\u001b[39;00m(msg) \u001b[38;5;28;01mfrom\u001b[39;00m \u001b[38;5;28;01mNone\u001b[39;00m\n\u001b[0;32m   1246\u001b[0m \u001b[38;5;28;01mexcept\u001b[39;00m \u001b[38;5;167;01mException\u001b[39;00m:\n\u001b[0;32m   1247\u001b[0m     \u001b[38;5;28mself\u001b[39m\u001b[38;5;241m.\u001b[39mlog\u001b[38;5;241m.\u001b[39mwarning(\u001b[38;5;124m\"\u001b[39m\u001b[38;5;124mInvalid Message:\u001b[39m\u001b[38;5;124m\"\u001b[39m, exc_info\u001b[38;5;241m=\u001b[39m\u001b[38;5;28;01mTrue\u001b[39;00m)\n",
      "\u001b[1;31mKeyboardInterrupt\u001b[0m: Interrupted by user"
     ]
    }
   ],
   "source": [
    "phone = {'홍길동':'010-123-4567'}\n",
    "\n",
    "while True:\n",
    "    print(\"\"\"\n",
    "    ----------------------------------------------\n",
    "    1 : 연락처 추가\n",
    "    2 : 연락처 전체 보기\n",
    "    3 : 연락처 검색\n",
    "    4 : 연락처 수정\n",
    "    5 : 연락처 삭제\n",
    "    6 : 프로그램 종료\n",
    "    -----------------------------------------------\n",
    "    \"\"\")\n",
    "\n",
    "    choice = input(\"원하는 기능의 번호를 입력하세요.\")\n",
    "\n",
    "    if choice == \"1\":\n",
    "        name = input(\"이름 입력:\")\n",
    "        number = input(\"번호 입력:\")\n",
    "        phone[name] = number\n",
    "        print(\"\\n***전화번호가 추가되었습니다***\")\n",
    "    elif choice == \"2\":\n",
    "        print(\"\\n***번호 리스트***\")\n",
    "        for key,value in phone.items():\n",
    "            print(\"이름:\"+key)\n",
    "            print(\"번호:\"+value)\n",
    "    elif choice == \"3\":\n",
    "        name = input(\"이름 입력:\")\n",
    "        if name in phone.keys():\n",
    "            print(f\"\\n{name}님의 전화번호는 {phone[name]}입니다.\")\n",
    "        else:\n",
    "            print(\"\\n존재하지 않는 이름입니다.\")\n",
    "    elif choice == \"4\":\n",
    "        name = input(\"이름 입력:\")\n",
    "        number = input(\"새로운 번호 입력:\")\n",
    "        if name in phone.keys():\n",
    "            phone[name] = number\n",
    "            print(\"\\n***번호가 업데이트 되었습니다.***\")\n",
    "        else:\n",
    "            print(\"\\n존재하지 않는 이름입니다.\")\n",
    "    elif choice == \"5\":\n",
    "        name = input(\"이름 입력:\")\n",
    "        if name in phone.keys():\n",
    "            del phone[name]\n",
    "            print(\"\\n***삭제가 완료되었습니다***\")\n",
    "        else:\n",
    "            print(\"\\n존재하지 않는 이름입니다.\")\n",
    "    elif choice == \"6\":\n",
    "        print(\"***종료합니다.***\")\n",
    "        break"
   ]
  }
 ],
 "metadata": {
  "kernelspec": {
   "display_name": "Python 3 (ipykernel)",
   "language": "python",
   "name": "python3"
  },
  "language_info": {
   "codemirror_mode": {
    "name": "ipython",
    "version": 3
   },
   "file_extension": ".py",
   "mimetype": "text/x-python",
   "name": "python",
   "nbconvert_exporter": "python",
   "pygments_lexer": "ipython3",
   "version": "3.11.5"
  },
  "toc": {
   "base_numbering": 1,
   "nav_menu": {},
   "number_sections": true,
   "sideBar": true,
   "skip_h1_title": false,
   "title_cell": "Table of Contents",
   "title_sidebar": "Contents",
   "toc_cell": false,
   "toc_position": {},
   "toc_section_display": true,
   "toc_window_display": false
  },
  "varInspector": {
   "cols": {
    "lenName": 16,
    "lenType": 16,
    "lenVar": 40
   },
   "kernels_config": {
    "python": {
     "delete_cmd_postfix": "",
     "delete_cmd_prefix": "del ",
     "library": "var_list.py",
     "varRefreshCmd": "print(var_dic_list())"
    },
    "r": {
     "delete_cmd_postfix": ") ",
     "delete_cmd_prefix": "rm(",
     "library": "var_list.r",
     "varRefreshCmd": "cat(var_dic_list()) "
    }
   },
   "types_to_exclude": [
    "module",
    "function",
    "builtin_function_or_method",
    "instance",
    "_Feature"
   ],
   "window_display": false
  }
 },
 "nbformat": 4,
 "nbformat_minor": 2
}
