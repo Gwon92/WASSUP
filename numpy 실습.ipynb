{
 "cells": [
  {
   "cell_type": "code",
   "execution_count": 2,
   "id": "c82d6966",
   "metadata": {
    "ExecuteTime": {
     "end_time": "2023-12-18T10:40:35.516719Z",
     "start_time": "2023-12-18T10:40:35.193474Z"
    }
   },
   "outputs": [],
   "source": [
    "import numpy as np"
   ]
  },
  {
   "cell_type": "code",
   "execution_count": 2,
   "id": "c76735f7",
   "metadata": {
    "ExecuteTime": {
     "end_time": "2023-12-14T06:12:35.828438Z",
     "start_time": "2023-12-14T06:12:35.821027Z"
    }
   },
   "outputs": [
    {
     "data": {
      "text/plain": [
       "(array(0), 0, numpy.ndarray)"
      ]
     },
     "execution_count": 2,
     "metadata": {},
     "output_type": "execute_result"
    }
   ],
   "source": [
    "a = np.array(0)\n",
    "a, a.ndim, type(a)"
   ]
  },
  {
   "cell_type": "code",
   "execution_count": 3,
   "id": "f5391c56",
   "metadata": {
    "ExecuteTime": {
     "end_time": "2023-12-14T06:15:04.809802Z",
     "start_time": "2023-12-14T06:15:04.802318Z"
    }
   },
   "outputs": [
    {
     "data": {
      "text/plain": [
       "(array([2, 4, 6]), 1, numpy.ndarray)"
      ]
     },
     "execution_count": 3,
     "metadata": {},
     "output_type": "execute_result"
    }
   ],
   "source": [
    "a = np.array([2, 4, 6])\n",
    "a, a.ndim, type(a)"
   ]
  },
  {
   "cell_type": "code",
   "execution_count": 4,
   "id": "ca9a8cc2",
   "metadata": {
    "ExecuteTime": {
     "end_time": "2023-12-14T06:15:24.519371Z",
     "start_time": "2023-12-14T06:15:24.512002Z"
    }
   },
   "outputs": [
    {
     "data": {
      "text/plain": [
       "(array([[1, 2, 3],\n",
       "        [4, 5, 6]]),\n",
       " 2,\n",
       " numpy.ndarray)"
      ]
     },
     "execution_count": 4,
     "metadata": {},
     "output_type": "execute_result"
    }
   ],
   "source": [
    "a = np.array( [[1,2,3], [4,5,6]] )\n",
    "a, a.ndim, type(a)"
   ]
  },
  {
   "cell_type": "code",
   "execution_count": 5,
   "id": "671df2c6",
   "metadata": {
    "ExecuteTime": {
     "end_time": "2023-12-14T06:15:37.465867Z",
     "start_time": "2023-12-14T06:15:37.459868Z"
    }
   },
   "outputs": [
    {
     "data": {
      "text/plain": [
       "(array([[[1, 2, 3],\n",
       "         [4, 5, 6]],\n",
       " \n",
       "        [[1, 2, 3],\n",
       "         [4, 5, 6]]]),\n",
       " 3,\n",
       " numpy.ndarray)"
      ]
     },
     "execution_count": 5,
     "metadata": {},
     "output_type": "execute_result"
    }
   ],
   "source": [
    "a = np.array( [ [[1,2,3], [4,5,6]], [[1,2,3], [4,5,6]] ] )\n",
    "a, a.ndim, type(a)"
   ]
  },
  {
   "cell_type": "code",
   "execution_count": null,
   "id": "8b8a9842",
   "metadata": {},
   "outputs": [],
   "source": []
  },
  {
   "cell_type": "code",
   "execution_count": 6,
   "id": "857be5dd",
   "metadata": {
    "ExecuteTime": {
     "end_time": "2023-12-14T06:19:44.718181Z",
     "start_time": "2023-12-14T06:19:44.710926Z"
    }
   },
   "outputs": [
    {
     "data": {
      "text/plain": [
       "(array(3), ())"
      ]
     },
     "execution_count": 6,
     "metadata": {},
     "output_type": "execute_result"
    }
   ],
   "source": [
    "a = np.array(3)\n",
    "a, a.shape # 행렬아님"
   ]
  },
  {
   "cell_type": "code",
   "execution_count": 7,
   "id": "a2396ef6",
   "metadata": {
    "ExecuteTime": {
     "end_time": "2023-12-14T06:19:54.362910Z",
     "start_time": "2023-12-14T06:19:54.356382Z"
    }
   },
   "outputs": [
    {
     "data": {
      "text/plain": [
       "(array([1, 3, 5, 7, 9]), (5,))"
      ]
     },
     "execution_count": 7,
     "metadata": {},
     "output_type": "execute_result"
    }
   ],
   "source": [
    "a = np.array([ 1, 3, 5, 7, 9 ])\n",
    "a, a.shape"
   ]
  },
  {
   "cell_type": "code",
   "execution_count": 8,
   "id": "515ee443",
   "metadata": {
    "ExecuteTime": {
     "end_time": "2023-12-14T06:20:26.806338Z",
     "start_time": "2023-12-14T06:20:26.799521Z"
    }
   },
   "outputs": [
    {
     "data": {
      "text/plain": [
       "(array([[1, 2, 3],\n",
       "        [4, 5, 6]]),\n",
       " (2, 3))"
      ]
     },
     "execution_count": 8,
     "metadata": {},
     "output_type": "execute_result"
    }
   ],
   "source": [
    "a = np.array([[1,2,3], [4,5,6]])\n",
    "a, a.shape"
   ]
  },
  {
   "cell_type": "code",
   "execution_count": 9,
   "id": "a5be2d97",
   "metadata": {
    "ExecuteTime": {
     "end_time": "2023-12-14T06:20:44.620532Z",
     "start_time": "2023-12-14T06:20:44.611803Z"
    }
   },
   "outputs": [
    {
     "data": {
      "text/plain": [
       "(array([[[0, 0, 0, 0],\n",
       "         [0, 0, 0, 0],\n",
       "         [0, 0, 0, 0]],\n",
       " \n",
       "        [[0, 0, 0, 0],\n",
       "         [0, 0, 0, 0],\n",
       "         [0, 0, 0, 0]]]),\n",
       " (2, 3, 4))"
      ]
     },
     "execution_count": 9,
     "metadata": {},
     "output_type": "execute_result"
    }
   ],
   "source": [
    "a = np.array([[[0, 0, 0, 0], [0, 0, 0, 0], [0, 0, 0, 0]], [[0, 0, 0, 0], [0, 0, 0, 0], [0, 0, 0, 0]]])\n",
    "a, a.shape # 2개의 3행 4열"
   ]
  },
  {
   "cell_type": "code",
   "execution_count": 10,
   "id": "1d99f5b3",
   "metadata": {
    "ExecuteTime": {
     "end_time": "2023-12-14T06:31:34.745810Z",
     "start_time": "2023-12-14T06:31:34.740002Z"
    }
   },
   "outputs": [
    {
     "data": {
      "text/plain": [
       "5"
      ]
     },
     "execution_count": 10,
     "metadata": {},
     "output_type": "execute_result"
    }
   ],
   "source": [
    "a= np.array([1, 3, 5, 7, 9])\n",
    "a.size"
   ]
  },
  {
   "cell_type": "code",
   "execution_count": 11,
   "id": "71dc699b",
   "metadata": {
    "ExecuteTime": {
     "end_time": "2023-12-14T06:31:40.056779Z",
     "start_time": "2023-12-14T06:31:40.048576Z"
    }
   },
   "outputs": [
    {
     "data": {
      "text/plain": [
       "6"
      ]
     },
     "execution_count": 11,
     "metadata": {},
     "output_type": "execute_result"
    }
   ],
   "source": [
    "a = np.array([[1,2,3], [4,5,6]])\n",
    "a.size"
   ]
  },
  {
   "cell_type": "code",
   "execution_count": 13,
   "id": "d31093b3",
   "metadata": {
    "ExecuteTime": {
     "end_time": "2023-12-14T06:32:20.969034Z",
     "start_time": "2023-12-14T06:32:20.963034Z"
    }
   },
   "outputs": [
    {
     "name": "stdout",
     "output_type": "stream",
     "text": [
      "[10, 56, 77, 23, 44] <class 'list'> 5\n"
     ]
    }
   ],
   "source": [
    "myList = [10, 56, 77, 23, 44]\n",
    "print(myList, type(myList), len(myList))"
   ]
  },
  {
   "cell_type": "code",
   "execution_count": 14,
   "id": "fa27bf60",
   "metadata": {
    "ExecuteTime": {
     "end_time": "2023-12-14T06:32:50.216994Z",
     "start_time": "2023-12-14T06:32:50.211720Z"
    }
   },
   "outputs": [
    {
     "name": "stdout",
     "output_type": "stream",
     "text": [
      "[10 56 77 23 44] <class 'numpy.ndarray'> 5\n",
      "차원=1, 구조=(5,) 구조타입=<class 'tuple'>, size=5\n"
     ]
    }
   ],
   "source": [
    "myArr = np.array(myList)\n",
    "print(myArr, type(myArr), len(myArr))\n",
    "print(f'차원={myArr.ndim}, 구조={myArr.shape} 구조타입={type(myArr.shape)}, size={myArr.size}')\n"
   ]
  },
  {
   "cell_type": "code",
   "execution_count": 15,
   "id": "7f5c2064",
   "metadata": {
    "ExecuteTime": {
     "end_time": "2023-12-14T06:34:26.863020Z",
     "start_time": "2023-12-14T06:34:26.856943Z"
    }
   },
   "outputs": [
    {
     "data": {
      "text/plain": [
       "([[1, 2, 3], [10, 20, 30], [100, 200, 300]], 3)"
      ]
     },
     "execution_count": 15,
     "metadata": {},
     "output_type": "execute_result"
    }
   ],
   "source": [
    "# 2차원 리스트 객체(이터러블)\n",
    "myList2 = [[1,2,3 ],[10,20,30],[100,200,300]]\n",
    "myList2, len(myList2)"
   ]
  },
  {
   "cell_type": "code",
   "execution_count": 16,
   "id": "8496f726",
   "metadata": {
    "ExecuteTime": {
     "end_time": "2023-12-14T06:34:46.270976Z",
     "start_time": "2023-12-14T06:34:46.265144Z"
    }
   },
   "outputs": [
    {
     "name": "stdout",
     "output_type": "stream",
     "text": [
      "[[  1   2   3]\n",
      " [ 10  20  30]\n",
      " [100 200 300]] <class 'numpy.ndarray'> 3\n",
      "차원= 2, 구조 = (3, 3) 구조타입 = <class 'tuple'>, size = 9\n"
     ]
    }
   ],
   "source": [
    "myArr2 = np.array(myList2)\n",
    "print(myArr2, type(myArr2), len(myArr2))\n",
    "print(f'차원= {myArr2.ndim}, 구조 = {myArr2.shape} 구조타입 = {type(myArr2.shape)}, size = {myArr2.size}')"
   ]
  },
  {
   "cell_type": "code",
   "execution_count": 17,
   "id": "b4a07681",
   "metadata": {
    "ExecuteTime": {
     "end_time": "2023-12-14T06:35:45.172042Z",
     "start_time": "2023-12-14T06:35:45.165490Z"
    }
   },
   "outputs": [
    {
     "name": "stdout",
     "output_type": "stream",
     "text": [
      "[[1, 2, 3, 4], [10, 20, 30, 40, 50], [100, 200]] <class 'list'> 3\n"
     ]
    }
   ],
   "source": [
    "# 2차원 리스트에서 각 행의 수가 다를 경우?\n",
    "myList21 = [ [1,2,3,4 ],[10,20 ,30,40,50],[100,200,]]\n",
    "print(myList21, type(myList21), len(myList21))"
   ]
  },
  {
   "cell_type": "code",
   "execution_count": 18,
   "id": "fc5f1c39",
   "metadata": {
    "ExecuteTime": {
     "end_time": "2023-12-14T06:36:20.139648Z",
     "start_time": "2023-12-14T06:36:18.718541Z"
    },
    "scrolled": true
   },
   "outputs": [
    {
     "ename": "ValueError",
     "evalue": "setting an array element with a sequence. The requested array has an inhomogeneous shape after 1 dimensions. The detected shape was (3,) + inhomogeneous part.",
     "output_type": "error",
     "traceback": [
      "\u001b[1;31m---------------------------------------------------------------------------\u001b[0m",
      "\u001b[1;31mValueError\u001b[0m                                Traceback (most recent call last)",
      "Cell \u001b[1;32mIn[18], line 1\u001b[0m\n\u001b[1;32m----> 1\u001b[0m myArr21 \u001b[38;5;241m=\u001b[39m np\u001b[38;5;241m.\u001b[39marray(myList21)\n\u001b[0;32m      2\u001b[0m \u001b[38;5;28mprint\u001b[39m(myArr21, \u001b[38;5;28mtype\u001b[39m(myArr21), \u001b[38;5;28mlen\u001b[39m(myArr21))\n\u001b[0;32m      3\u001b[0m \u001b[38;5;28mprint\u001b[39m(\u001b[38;5;124mf\u001b[39m\u001b[38;5;124m'\u001b[39m\u001b[38;5;124m차원= \u001b[39m\u001b[38;5;132;01m{\u001b[39;00mmyArr21\u001b[38;5;241m.\u001b[39mndim\u001b[38;5;132;01m}\u001b[39;00m\u001b[38;5;124m, 구조 = \u001b[39m\u001b[38;5;132;01m{\u001b[39;00mmyArr21\u001b[38;5;241m.\u001b[39mshape\u001b[38;5;132;01m}\u001b[39;00m\u001b[38;5;124m 구조타입 = \u001b[39m\u001b[38;5;132;01m{\u001b[39;00m\u001b[38;5;28mtype\u001b[39m(myArr21\u001b[38;5;241m.\u001b[39mshape)\u001b[38;5;132;01m}\u001b[39;00m\u001b[38;5;124m, size = \u001b[39m\u001b[38;5;132;01m{\u001b[39;00mmyArr21\u001b[38;5;241m.\u001b[39msize\u001b[38;5;132;01m}\u001b[39;00m\u001b[38;5;124m'\u001b[39m)\n",
      "\u001b[1;31mValueError\u001b[0m: setting an array element with a sequence. The requested array has an inhomogeneous shape after 1 dimensions. The detected shape was (3,) + inhomogeneous part."
     ]
    }
   ],
   "source": [
    "myArr21 = np.array(myList21)\n",
    "print(myArr21, type(myArr21), len(myArr21))\n",
    "print(f'차원= {myArr21.ndim}, 구조 = {myArr21.shape} 구조타입 = {type(myArr21.shape)}, size = {myArr21.size}')"
   ]
  },
  {
   "cell_type": "code",
   "execution_count": 19,
   "id": "7b87bdc0",
   "metadata": {
    "ExecuteTime": {
     "end_time": "2023-12-14T06:38:58.467624Z",
     "start_time": "2023-12-14T06:38:58.443093Z"
    },
    "scrolled": true
   },
   "outputs": [
    {
     "name": "stdout",
     "output_type": "stream",
     "text": [
      "[10, 30, 50, 1, 2, 3]\n"
     ]
    },
    {
     "ename": "TypeError",
     "evalue": "can only concatenate list (not \"int\") to list",
     "output_type": "error",
     "traceback": [
      "\u001b[1;31m---------------------------------------------------------------------------\u001b[0m",
      "\u001b[1;31mTypeError\u001b[0m                                 Traceback (most recent call last)",
      "Cell \u001b[1;32mIn[19], line 5\u001b[0m\n\u001b[0;32m      3\u001b[0m listB \u001b[38;5;241m=\u001b[39m [\u001b[38;5;241m1\u001b[39m, \u001b[38;5;241m2\u001b[39m, \u001b[38;5;241m3\u001b[39m]\n\u001b[0;32m      4\u001b[0m \u001b[38;5;28mprint\u001b[39m(listA \u001b[38;5;241m+\u001b[39m listB) \u001b[38;5;66;03m# 리스트의 + 연산자는 조인역할\u001b[39;00m\n\u001b[1;32m----> 5\u001b[0m \u001b[38;5;28mprint\u001b[39m(listA \u001b[38;5;241m+\u001b[39m \u001b[38;5;241m2\u001b[39m)\n",
      "\u001b[1;31mTypeError\u001b[0m: can only concatenate list (not \"int\") to list"
     ]
    }
   ],
   "source": [
    "# 리스트의 산술연산자 +, * \n",
    "listA = [10, 30, 50]\n",
    "listB = [1, 2, 3]\n",
    "print(listA + listB) # 리스트의 + 연산자는 조인역할\n",
    "print(listA + 2) # 불가"
   ]
  },
  {
   "cell_type": "code",
   "execution_count": 20,
   "id": "dd4dea41",
   "metadata": {
    "ExecuteTime": {
     "end_time": "2023-12-14T06:39:15.175853Z",
     "start_time": "2023-12-14T06:39:15.152337Z"
    }
   },
   "outputs": [
    {
     "name": "stdout",
     "output_type": "stream",
     "text": [
      "[10, 30, 50, 10, 30, 50]\n"
     ]
    },
    {
     "ename": "TypeError",
     "evalue": "can't multiply sequence by non-int of type 'list'",
     "output_type": "error",
     "traceback": [
      "\u001b[1;31m---------------------------------------------------------------------------\u001b[0m",
      "\u001b[1;31mTypeError\u001b[0m                                 Traceback (most recent call last)",
      "Cell \u001b[1;32mIn[20], line 2\u001b[0m\n\u001b[0;32m      1\u001b[0m \u001b[38;5;28mprint\u001b[39m(listA \u001b[38;5;241m*\u001b[39m \u001b[38;5;241m2\u001b[39m) \u001b[38;5;66;03m# 해당 리스트의 반복\u001b[39;00m\n\u001b[1;32m----> 2\u001b[0m \u001b[38;5;28mprint\u001b[39m(listA \u001b[38;5;241m*\u001b[39m listB)\n",
      "\u001b[1;31mTypeError\u001b[0m: can't multiply sequence by non-int of type 'list'"
     ]
    }
   ],
   "source": [
    "print(listA * 2) # 해당 리스트의 반복\n",
    "print(listA * listB) # 불가"
   ]
  },
  {
   "cell_type": "code",
   "execution_count": 21,
   "id": "0ce1f55f",
   "metadata": {
    "ExecuteTime": {
     "end_time": "2023-12-14T06:39:25.232827Z",
     "start_time": "2023-12-14T06:39:25.226230Z"
    }
   },
   "outputs": [
    {
     "name": "stdout",
     "output_type": "stream",
     "text": [
      "[3 4 5]\n",
      "[2 4 6]\n"
     ]
    }
   ],
   "source": [
    "# 넘파이의 산술연산\n",
    "arrA = np.array([1, 2, 3])\n",
    "print(arrA + 2)\n",
    "print(arrA * 2)"
   ]
  },
  {
   "cell_type": "code",
   "execution_count": 22,
   "id": "bb65b623",
   "metadata": {
    "ExecuteTime": {
     "end_time": "2023-12-14T06:39:38.283076Z",
     "start_time": "2023-12-14T06:39:38.273356Z"
    }
   },
   "outputs": [
    {
     "name": "stdout",
     "output_type": "stream",
     "text": [
      "[5 7 9]\n",
      "[ 4 10 18]\n",
      "[0.25 0.4  0.5 ]\n",
      "[0 0 0]\n",
      "[1 2 3]\n"
     ]
    }
   ],
   "source": [
    "arrB = np.array([4, 5, 6])\n",
    "print(arrA + arrB)\n",
    "print(arrA * arrB)\n",
    "print(arrA / arrB)\n",
    "print(arrA // arrB) # 몫\n",
    "print(arrA % arrB) # 나머지"
   ]
  },
  {
   "cell_type": "code",
   "execution_count": null,
   "id": "b6bbdd7e",
   "metadata": {},
   "outputs": [],
   "source": []
  },
  {
   "cell_type": "code",
   "execution_count": null,
   "id": "a1d7d6ef",
   "metadata": {},
   "outputs": [],
   "source": [
    "test = [[1,2,3],[1,2]]"
   ]
  },
  {
   "cell_type": "code",
   "execution_count": 32,
   "id": "b86f5c79",
   "metadata": {
    "ExecuteTime": {
     "end_time": "2023-12-14T11:16:02.858619Z",
     "start_time": "2023-12-14T11:16:02.853207Z"
    }
   },
   "outputs": [],
   "source": [
    "arr = [[1,2,3],[1,2,\"데이터\"]]\n",
    "arr2 = arr = [[1,2,3],[1,2,\"데이터\"]]\n",
    "# 비어있는 값을 넣는다 null"
   ]
  },
  {
   "cell_type": "code",
   "execution_count": 33,
   "id": "787e0169",
   "metadata": {
    "ExecuteTime": {
     "end_time": "2023-12-14T11:16:06.504994Z",
     "start_time": "2023-12-14T11:16:06.499346Z"
    }
   },
   "outputs": [
    {
     "name": "stdout",
     "output_type": "stream",
     "text": [
      "차원= 2, 구조 = (2, 3) 구조타입 = <class 'tuple'>, size = 6\n"
     ]
    }
   ],
   "source": [
    "myArray = np.array(arr)\n",
    "yourArray = np.array(arr2)\n",
    "print(f'차원= {myArray.ndim}, 구조 = {myArray.shape} 구조타입 = {type(myArray.shape)}, size = {myArray.size}')\n",
    "\n"
   ]
  },
  {
   "cell_type": "code",
   "execution_count": 46,
   "id": "9cdcf238",
   "metadata": {
    "ExecuteTime": {
     "end_time": "2023-12-14T12:40:43.776255Z",
     "start_time": "2023-12-14T12:40:43.765140Z"
    }
   },
   "outputs": [
    {
     "name": "stdout",
     "output_type": "stream",
     "text": [
      "[['1' '2' '3']\n",
      " ['1' '2' '데이터']]\n"
     ]
    }
   ],
   "source": [
    "print(myArray)\n",
    "#myArray"
   ]
  },
  {
   "cell_type": "code",
   "execution_count": 1,
   "id": "a41a6858",
   "metadata": {
    "ExecuteTime": {
     "end_time": "2023-12-14T10:42:57.306171Z",
     "start_time": "2023-12-14T10:42:57.291274Z"
    }
   },
   "outputs": [
    {
     "name": "stdout",
     "output_type": "stream",
     "text": [
      "[[1, 2, 3, 4], [10, 20, 30, 40, 50], [100, 200]] <class 'list'> 3\n"
     ]
    }
   ],
   "source": [
    "myList21 = [ [1,2,3,4 ],[10,20 ,30,40,50],[100,200,]]\n",
    "print(myList21, type(myList21), len(myList21))"
   ]
  },
  {
   "cell_type": "code",
   "execution_count": 4,
   "id": "e02bbdc4",
   "metadata": {
    "ExecuteTime": {
     "end_time": "2023-12-14T10:43:32.750230Z",
     "start_time": "2023-12-14T10:43:32.598934Z"
    }
   },
   "outputs": [
    {
     "ename": "ValueError",
     "evalue": "setting an array element with a sequence. The requested array has an inhomogeneous shape after 1 dimensions. The detected shape was (3,) + inhomogeneous part.",
     "output_type": "error",
     "traceback": [
      "\u001b[1;31m---------------------------------------------------------------------------\u001b[0m",
      "\u001b[1;31mValueError\u001b[0m                                Traceback (most recent call last)",
      "Cell \u001b[1;32mIn[4], line 1\u001b[0m\n\u001b[1;32m----> 1\u001b[0m myArr21 \u001b[38;5;241m=\u001b[39m np\u001b[38;5;241m.\u001b[39marray(myList21)\n\u001b[0;32m      2\u001b[0m \u001b[38;5;28mprint\u001b[39m(myArr21, \u001b[38;5;28mtype\u001b[39m(myArr21), \u001b[38;5;28mlen\u001b[39m(myArr21))\n\u001b[0;32m      3\u001b[0m \u001b[38;5;28mprint\u001b[39m(\u001b[38;5;124mf\u001b[39m\u001b[38;5;124m'\u001b[39m\u001b[38;5;124m차원= \u001b[39m\u001b[38;5;132;01m{\u001b[39;00mmyArr21\u001b[38;5;241m.\u001b[39mndim\u001b[38;5;132;01m}\u001b[39;00m\u001b[38;5;124m, 구조 = \u001b[39m\u001b[38;5;132;01m{\u001b[39;00mmyArr21\u001b[38;5;241m.\u001b[39mshape\u001b[38;5;132;01m}\u001b[39;00m\u001b[38;5;124m 구조타입 = \u001b[39m\u001b[38;5;132;01m{\u001b[39;00m\u001b[38;5;28mtype\u001b[39m(myArr21\u001b[38;5;241m.\u001b[39mshape)\u001b[38;5;132;01m}\u001b[39;00m\u001b[38;5;124m, size = \u001b[39m\u001b[38;5;132;01m{\u001b[39;00mmyArr21\u001b[38;5;241m.\u001b[39msize\u001b[38;5;132;01m}\u001b[39;00m\u001b[38;5;124m'\u001b[39m)\n",
      "\u001b[1;31mValueError\u001b[0m: setting an array element with a sequence. The requested array has an inhomogeneous shape after 1 dimensions. The detected shape was (3,) + inhomogeneous part."
     ]
    }
   ],
   "source": [
    "myArr21 = np.array(myList21)\n",
    "print(myArr21, type(myArr21), len(myArr21))\n",
    "print(f'차원= {myArr21.ndim}, 구조 = {myArr21.shape} 구조타입 = {type(myArr21.shape)}, size = {myArr21.size}')"
   ]
  },
  {
   "cell_type": "code",
   "execution_count": 24,
   "id": "c1b395e1",
   "metadata": {
    "ExecuteTime": {
     "end_time": "2023-12-14T10:56:59.251021Z",
     "start_time": "2023-12-14T10:56:59.242573Z"
    }
   },
   "outputs": [
    {
     "data": {
      "text/plain": [
       "'epdlxj데이터'"
      ]
     },
     "execution_count": 24,
     "metadata": {},
     "output_type": "execute_result"
    }
   ],
   "source": [
    "\"epdlxj\" + \"데이터\""
   ]
  },
  {
   "cell_type": "code",
   "execution_count": 29,
   "id": "c2dfc1f3",
   "metadata": {
    "ExecuteTime": {
     "end_time": "2023-12-14T11:14:03.596911Z",
     "start_time": "2023-12-14T11:14:03.591264Z"
    }
   },
   "outputs": [
    {
     "name": "stdout",
     "output_type": "stream",
     "text": [
      "['안녕', 100, 3.14, True, False]\n"
     ]
    }
   ],
   "source": [
    "myList_c = ['안녕', 100, 3.14, True, False] # 리스트는 혼합된 형 그대로 유지\n",
    "print(myList_c)"
   ]
  },
  {
   "cell_type": "code",
   "execution_count": 31,
   "id": "dc28fa1f",
   "metadata": {
    "ExecuteTime": {
     "end_time": "2023-12-14T11:14:21.076403Z",
     "start_time": "2023-12-14T11:14:21.070050Z"
    }
   },
   "outputs": [
    {
     "name": "stdout",
     "output_type": "stream",
     "text": [
      "['안녕' '100' '3.14' 'True' 'False'] <class 'numpy.ndarray'> <U32\n"
     ]
    },
    {
     "data": {
      "text/plain": [
       "array(['안녕', '100', '3.14', 'True', 'False'], dtype='<U32')"
      ]
     },
     "execution_count": 31,
     "metadata": {},
     "output_type": "execute_result"
    }
   ],
   "source": [
    "myArr_c = np.array(myList_c) # 넘파이배열은 '문자열'로 통일 자동형변환\n",
    "print(myArr_c, type(myArr_c), myArr_c.dtype)\n",
    "myArr_c"
   ]
  },
  {
   "cell_type": "code",
   "execution_count": 36,
   "id": "429da815",
   "metadata": {
    "ExecuteTime": {
     "end_time": "2023-12-14T11:24:18.173050Z",
     "start_time": "2023-12-14T11:24:18.168484Z"
    }
   },
   "outputs": [],
   "source": [
    "test = np.array([[[1, 2, 3, 4], [5, 6, 7, 8], [9, 10, 11, 12]], [[13, 14, 15, 16], [17,18, 19, 20], [21, 22, 23, 24]]])"
   ]
  },
  {
   "cell_type": "code",
   "execution_count": 45,
   "id": "c1915fb8",
   "metadata": {
    "ExecuteTime": {
     "end_time": "2023-12-14T11:25:53.606392Z",
     "start_time": "2023-12-14T11:25:53.598864Z"
    }
   },
   "outputs": [
    {
     "data": {
      "text/plain": [
       "24"
      ]
     },
     "execution_count": 45,
     "metadata": {},
     "output_type": "execute_result"
    }
   ],
   "source": [
    "test[1]"
   ]
  },
  {
   "cell_type": "code",
   "execution_count": 4,
   "id": "65401dff",
   "metadata": {
    "ExecuteTime": {
     "end_time": "2023-12-15T04:31:23.184870Z",
     "start_time": "2023-12-15T04:31:23.169723Z"
    }
   },
   "outputs": [
    {
     "name": "stderr",
     "output_type": "stream",
     "text": [
      "C:\\Users\\Pee\\AppData\\Local\\Temp\\ipykernel_21724\\2068585620.py:1: RuntimeWarning: divide by zero encountered in divide\n",
      "  np.array([0, 1, -1, 0]) / np.array([1, 0, 0, 0])\n",
      "C:\\Users\\Pee\\AppData\\Local\\Temp\\ipykernel_21724\\2068585620.py:1: RuntimeWarning: invalid value encountered in divide\n",
      "  np.array([0, 1, -1, 0]) / np.array([1, 0, 0, 0])\n"
     ]
    },
    {
     "data": {
      "text/plain": [
       "array([  0.,  inf, -inf,  nan])"
      ]
     },
     "execution_count": 4,
     "metadata": {},
     "output_type": "execute_result"
    }
   ],
   "source": [
    "np.array([0, 1, -1, 0]) / np.array([1, 0, 0, 0])"
   ]
  },
  {
   "cell_type": "code",
   "execution_count": 5,
   "id": "a8dc2b09",
   "metadata": {
    "ExecuteTime": {
     "end_time": "2023-12-15T04:31:25.670443Z",
     "start_time": "2023-12-15T04:31:25.663388Z"
    }
   },
   "outputs": [
    {
     "name": "stderr",
     "output_type": "stream",
     "text": [
      "C:\\Users\\Pee\\AppData\\Local\\Temp\\ipykernel_21724\\2933082444.py:1: RuntimeWarning: divide by zero encountered in log\n",
      "  np.log(0)\n"
     ]
    },
    {
     "data": {
      "text/plain": [
       "-inf"
      ]
     },
     "execution_count": 5,
     "metadata": {},
     "output_type": "execute_result"
    }
   ],
   "source": [
    "np.log(0)"
   ]
  },
  {
   "cell_type": "code",
   "execution_count": 6,
   "id": "9971e679",
   "metadata": {
    "ExecuteTime": {
     "end_time": "2023-12-15T04:31:30.250970Z",
     "start_time": "2023-12-15T04:31:30.246089Z"
    }
   },
   "outputs": [
    {
     "data": {
      "text/plain": [
       "0.0"
      ]
     },
     "execution_count": 6,
     "metadata": {},
     "output_type": "execute_result"
    }
   ],
   "source": [
    "np.exp(-np.inf)"
   ]
  },
  {
   "cell_type": "code",
   "execution_count": 7,
   "id": "6aed5971",
   "metadata": {
    "ExecuteTime": {
     "end_time": "2023-12-15T04:33:32.891007Z",
     "start_time": "2023-12-15T04:33:32.886449Z"
    }
   },
   "outputs": [],
   "source": [
    "x = np.array([18,   5,  10,  23,  19,  -8,  10,   0,   0,   5,   2,  15,   8,\n",
    "              2,   5,   4,  15,  -1,   4,  -7, -24,   7,   9,  -6,  23, -13])"
   ]
  },
  {
   "cell_type": "code",
   "execution_count": 8,
   "id": "aa063630",
   "metadata": {
    "ExecuteTime": {
     "end_time": "2023-12-15T04:33:36.775076Z",
     "start_time": "2023-12-15T04:33:36.769134Z"
    }
   },
   "outputs": [
    {
     "data": {
      "text/plain": [
       "4.8076923076923075"
      ]
     },
     "execution_count": 8,
     "metadata": {},
     "output_type": "execute_result"
    }
   ],
   "source": [
    "np.mean(x)"
   ]
  },
  {
   "cell_type": "code",
   "execution_count": 9,
   "id": "1f6faae8",
   "metadata": {
    "ExecuteTime": {
     "end_time": "2023-12-15T04:33:40.151598Z",
     "start_time": "2023-12-15T04:33:40.144232Z"
    }
   },
   "outputs": [
    {
     "data": {
      "text/plain": [
       "115.23224852071006"
      ]
     },
     "execution_count": 9,
     "metadata": {},
     "output_type": "execute_result"
    }
   ],
   "source": [
    "np.var(x)"
   ]
  },
  {
   "cell_type": "code",
   "execution_count": 10,
   "id": "fd7ccdd5",
   "metadata": {
    "ExecuteTime": {
     "end_time": "2023-12-15T04:33:44.261142Z",
     "start_time": "2023-12-15T04:33:44.255149Z"
    }
   },
   "outputs": [
    {
     "data": {
      "text/plain": [
       "10.734628476137871"
      ]
     },
     "execution_count": 10,
     "metadata": {},
     "output_type": "execute_result"
    }
   ],
   "source": [
    "np.std(x)"
   ]
  },
  {
   "cell_type": "code",
   "execution_count": 11,
   "id": "c0dd557f",
   "metadata": {
    "ExecuteTime": {
     "end_time": "2023-12-15T04:33:48.963465Z",
     "start_time": "2023-12-15T04:33:48.956042Z"
    }
   },
   "outputs": [
    {
     "data": {
      "text/plain": [
       "23"
      ]
     },
     "execution_count": 11,
     "metadata": {},
     "output_type": "execute_result"
    }
   ],
   "source": [
    "np.max(x)"
   ]
  },
  {
   "cell_type": "code",
   "execution_count": 12,
   "id": "0f302e55",
   "metadata": {
    "ExecuteTime": {
     "end_time": "2023-12-15T04:33:52.229871Z",
     "start_time": "2023-12-15T04:33:52.223578Z"
    }
   },
   "outputs": [
    {
     "data": {
      "text/plain": [
       "-24"
      ]
     },
     "execution_count": 12,
     "metadata": {},
     "output_type": "execute_result"
    }
   ],
   "source": [
    "np.min(x)"
   ]
  },
  {
   "cell_type": "code",
   "execution_count": 13,
   "id": "cf450460",
   "metadata": {
    "ExecuteTime": {
     "end_time": "2023-12-15T04:33:56.524873Z",
     "start_time": "2023-12-15T04:33:56.516929Z"
    }
   },
   "outputs": [
    {
     "data": {
      "text/plain": [
       "5.0"
      ]
     },
     "execution_count": 13,
     "metadata": {},
     "output_type": "execute_result"
    }
   ],
   "source": [
    "np.median(x)"
   ]
  },
  {
   "cell_type": "code",
   "execution_count": 14,
   "id": "207a61b9",
   "metadata": {
    "ExecuteTime": {
     "end_time": "2023-12-15T04:34:02.957796Z",
     "start_time": "2023-12-15T04:34:02.949652Z"
    }
   },
   "outputs": [
    {
     "data": {
      "text/plain": [
       "-24.0"
      ]
     },
     "execution_count": 14,
     "metadata": {},
     "output_type": "execute_result"
    }
   ],
   "source": [
    "np.percentile(x, 0)"
   ]
  },
  {
   "cell_type": "code",
   "execution_count": 15,
   "id": "1f22ba69",
   "metadata": {
    "ExecuteTime": {
     "end_time": "2023-12-15T04:34:07.701756Z",
     "start_time": "2023-12-15T04:34:07.695260Z"
    }
   },
   "outputs": [
    {
     "data": {
      "text/plain": [
       "0.0"
      ]
     },
     "execution_count": 15,
     "metadata": {},
     "output_type": "execute_result"
    }
   ],
   "source": [
    "np.percentile(x, 25)"
   ]
  },
  {
   "cell_type": "code",
   "execution_count": 16,
   "id": "f23066a5",
   "metadata": {
    "ExecuteTime": {
     "end_time": "2023-12-15T04:34:13.084861Z",
     "start_time": "2023-12-15T04:34:13.077819Z"
    }
   },
   "outputs": [
    {
     "data": {
      "text/plain": [
       "5.0"
      ]
     },
     "execution_count": 16,
     "metadata": {},
     "output_type": "execute_result"
    }
   ],
   "source": [
    "np.percentile(x, 50)"
   ]
  },
  {
   "cell_type": "code",
   "execution_count": 17,
   "id": "f1d8840b",
   "metadata": {
    "ExecuteTime": {
     "end_time": "2023-12-15T04:34:17.511704Z",
     "start_time": "2023-12-15T04:34:17.505462Z"
    }
   },
   "outputs": [
    {
     "data": {
      "text/plain": [
       "10.0"
      ]
     },
     "execution_count": 17,
     "metadata": {},
     "output_type": "execute_result"
    }
   ],
   "source": [
    "np.percentile(x, 75)"
   ]
  },
  {
   "cell_type": "code",
   "execution_count": 19,
   "id": "8ed4582e",
   "metadata": {
    "ExecuteTime": {
     "end_time": "2023-12-15T04:34:29.723243Z",
     "start_time": "2023-12-15T04:34:29.716851Z"
    }
   },
   "outputs": [
    {
     "data": {
      "text/plain": [
       "23.0"
      ]
     },
     "execution_count": 19,
     "metadata": {},
     "output_type": "execute_result"
    }
   ],
   "source": [
    "np.percentile(x, 100)"
   ]
  },
  {
   "cell_type": "code",
   "execution_count": 20,
   "id": "ed9fe5cc",
   "metadata": {
    "ExecuteTime": {
     "end_time": "2023-12-15T04:41:22.220826Z",
     "start_time": "2023-12-15T04:41:22.214600Z"
    }
   },
   "outputs": [
    {
     "name": "stdout",
     "output_type": "stream",
     "text": [
      "[1. 1. 1. 1. 1. 1. 1. 1. 1. 1.] float64\n"
     ]
    }
   ],
   "source": [
    "print(np.ones(10), np.ones(10).dtype) "
   ]
  },
  {
   "cell_type": "code",
   "execution_count": 22,
   "id": "b21f6292",
   "metadata": {
    "ExecuteTime": {
     "end_time": "2023-12-15T04:41:51.274240Z",
     "start_time": "2023-12-15T04:41:51.267355Z"
    }
   },
   "outputs": [
    {
     "name": "stdout",
     "output_type": "stream",
     "text": [
      "[[[1. 1. 1. 1. 1. 1.]\n",
      "  [1. 1. 1. 1. 1. 1.]\n",
      "  [1. 1. 1. 1. 1. 1.]\n",
      "  [1. 1. 1. 1. 1. 1.]]\n",
      "\n",
      " [[1. 1. 1. 1. 1. 1.]\n",
      "  [1. 1. 1. 1. 1. 1.]\n",
      "  [1. 1. 1. 1. 1. 1.]\n",
      "  [1. 1. 1. 1. 1. 1.]]] float64\n"
     ]
    }
   ],
   "source": [
    "print(np.ones((2,4,6)), np.ones((2,4)).dtype)"
   ]
  },
  {
   "cell_type": "code",
   "execution_count": 23,
   "id": "0c75779d",
   "metadata": {
    "ExecuteTime": {
     "end_time": "2023-12-15T04:44:29.849414Z",
     "start_time": "2023-12-15T04:44:29.843276Z"
    }
   },
   "outputs": [
    {
     "name": "stdout",
     "output_type": "stream",
     "text": [
      "[ 1  3  5  7  9 11 13 15 17 19] <class 'numpy.ndarray'>\n"
     ]
    }
   ],
   "source": [
    "print(np.arange(1, 20, 2), type(np.arange(1, 20,2)))"
   ]
  },
  {
   "cell_type": "code",
   "execution_count": 24,
   "id": "8c253890",
   "metadata": {
    "ExecuteTime": {
     "end_time": "2023-12-15T04:46:15.744303Z",
     "start_time": "2023-12-15T04:46:15.736998Z"
    }
   },
   "outputs": [
    {
     "data": {
      "text/plain": [
       "array([  0.,  25.,  50.,  75., 100.])"
      ]
     },
     "execution_count": 24,
     "metadata": {},
     "output_type": "execute_result"
    }
   ],
   "source": [
    "np.linspace(0, 100, 5)"
   ]
  },
  {
   "cell_type": "code",
   "execution_count": 25,
   "id": "57795836",
   "metadata": {
    "ExecuteTime": {
     "end_time": "2023-12-15T04:46:21.723274Z",
     "start_time": "2023-12-15T04:46:21.716223Z"
    }
   },
   "outputs": [
    {
     "data": {
      "text/plain": [
       "array([ 1.25892541,  1.58489319,  1.99526231,  2.51188643,  3.16227766,\n",
       "        3.98107171,  5.01187234,  6.30957344,  7.94328235, 10.        ])"
      ]
     },
     "execution_count": 25,
     "metadata": {},
     "output_type": "execute_result"
    }
   ],
   "source": [
    "np.logspace(0.1, 1, 10)"
   ]
  },
  {
   "cell_type": "code",
   "execution_count": 36,
   "id": "5f9d12e3",
   "metadata": {
    "ExecuteTime": {
     "end_time": "2023-12-15T05:14:06.346020Z",
     "start_time": "2023-12-15T05:14:06.338442Z"
    }
   },
   "outputs": [
    {
     "data": {
      "text/plain": [
       "array([0., 0., 0., 0., 0., 0., 0., 0., 0., 0., 0., 0., 0., 0., 0., 0., 0.,\n",
       "       0., 0., 0., 0., 0., 0., 0., 0., 0., 0., 0., 0., 0.])"
      ]
     },
     "execution_count": 36,
     "metadata": {},
     "output_type": "execute_result"
    }
   ],
   "source": [
    "np.zeros(30).reshape(2,3,5).flatten()"
   ]
  },
  {
   "cell_type": "code",
   "execution_count": 32,
   "id": "d860fcca",
   "metadata": {
    "ExecuteTime": {
     "end_time": "2023-12-15T05:13:36.820243Z",
     "start_time": "2023-12-15T05:13:36.814340Z"
    }
   },
   "outputs": [
    {
     "data": {
      "text/plain": [
       "array([[0., 0., 0., 0., 0.],\n",
       "       [0., 0., 0., 0., 0.],\n",
       "       [0., 0., 0., 0., 0.],\n",
       "       [0., 0., 0., 0., 0.],\n",
       "       [0., 0., 0., 0., 0.],\n",
       "       [0., 0., 0., 0., 0.]])"
      ]
     },
     "execution_count": 32,
     "metadata": {},
     "output_type": "execute_result"
    }
   ],
   "source": [
    "np.zeros(30).reshape(2,3,5).reshape(-1,5)"
   ]
  },
  {
   "cell_type": "code",
   "execution_count": 41,
   "id": "380e836a",
   "metadata": {
    "ExecuteTime": {
     "end_time": "2023-12-15T05:18:47.850310Z",
     "start_time": "2023-12-15T05:18:47.844205Z"
    }
   },
   "outputs": [
    {
     "data": {
      "text/plain": [
       "array([[ 1,  2,  3,  4,  5],\n",
       "       [ 6,  7,  8,  9, 10],\n",
       "       [11, 12, 13, 14, 15],\n",
       "       [16, 17, 18, 19, 20]])"
      ]
     },
     "execution_count": 41,
     "metadata": {},
     "output_type": "execute_result"
    }
   ],
   "source": [
    "np.arange(1,21).reshape(5,4).reshape(-1,5)"
   ]
  },
  {
   "cell_type": "code",
   "execution_count": 42,
   "id": "52f94724",
   "metadata": {
    "ExecuteTime": {
     "end_time": "2023-12-15T05:22:58.783443Z",
     "start_time": "2023-12-15T05:22:58.777062Z"
    }
   },
   "outputs": [
    {
     "data": {
      "text/plain": [
       "(array([1, 2, 3, 4, 5, 6, 7, 8, 9]), dtype('int32'))"
      ]
     },
     "execution_count": 42,
     "metadata": {},
     "output_type": "execute_result"
    }
   ],
   "source": [
    "matrix1 = np.arange(1, 10)\n",
    "matrix1, matrix1.dtype"
   ]
  },
  {
   "cell_type": "code",
   "execution_count": 43,
   "id": "87fc7427",
   "metadata": {
    "ExecuteTime": {
     "end_time": "2023-12-15T05:23:09.063279Z",
     "start_time": "2023-12-15T05:23:09.055760Z"
    }
   },
   "outputs": [
    {
     "data": {
      "text/plain": [
       "(array([[1, 2, 3],\n",
       "        [4, 5, 6],\n",
       "        [7, 8, 9]]),\n",
       " dtype('int32'))"
      ]
     },
     "execution_count": 43,
     "metadata": {},
     "output_type": "execute_result"
    }
   ],
   "source": [
    "matrix = np.arange(1, 10).reshape(3,3)\n",
    "matrix, matrix.dtype"
   ]
  },
  {
   "cell_type": "code",
   "execution_count": 44,
   "id": "6f9358f6",
   "metadata": {
    "ExecuteTime": {
     "end_time": "2023-12-15T05:23:15.314346Z",
     "start_time": "2023-12-15T05:23:15.306163Z"
    }
   },
   "outputs": [
    {
     "data": {
      "text/plain": [
       "(array([[1., 2., 3.],\n",
       "        [4., 5., 6.],\n",
       "        [7., 8., 9.]]),\n",
       " dtype('float64'))"
      ]
     },
     "execution_count": 44,
     "metadata": {},
     "output_type": "execute_result"
    }
   ],
   "source": [
    "matrix = np.arange(1, 10, dtype=float).reshape(3,3)\n",
    "matrix, matrix.dtype"
   ]
  },
  {
   "cell_type": "code",
   "execution_count": null,
   "id": "70df1cc2",
   "metadata": {},
   "outputs": [],
   "source": [
    "num= np.arange(1,47)\n",
    "np.random.shuffle(num)\n",
    "num[:6]"
   ]
  },
  {
   "cell_type": "code",
   "execution_count": 46,
   "id": "18643147",
   "metadata": {
    "ExecuteTime": {
     "end_time": "2023-12-15T06:29:52.643311Z",
     "start_time": "2023-12-15T06:29:52.636294Z"
    }
   },
   "outputs": [
    {
     "data": {
      "text/plain": [
       "array([18, 27,  1,  6, 28, 16])"
      ]
     },
     "execution_count": 46,
     "metadata": {},
     "output_type": "execute_result"
    }
   ],
   "source": [
    "np.random.randint(1,46,6)"
   ]
  },
  {
   "cell_type": "code",
   "execution_count": 47,
   "id": "eebb142e",
   "metadata": {
    "ExecuteTime": {
     "end_time": "2023-12-15T07:15:26.919729Z",
     "start_time": "2023-12-15T07:15:26.910928Z"
    }
   },
   "outputs": [
    {
     "data": {
      "text/plain": [
       "array([nan,  0.,  0.,  0.,  0.,  0.,  0.,  0.,  0.,  0.])"
      ]
     },
     "execution_count": 47,
     "metadata": {},
     "output_type": "execute_result"
    }
   ],
   "source": [
    "np.empty(10)"
   ]
  },
  {
   "cell_type": "code",
   "execution_count": null,
   "id": "10b7109c",
   "metadata": {},
   "outputs": [],
   "source": []
  },
  {
   "cell_type": "code",
   "execution_count": 48,
   "id": "d7a28b7d",
   "metadata": {
    "ExecuteTime": {
     "end_time": "2023-12-15T10:42:53.196679Z",
     "start_time": "2023-12-15T10:42:53.182231Z"
    }
   },
   "outputs": [
    {
     "name": "stdout",
     "output_type": "stream",
     "text": [
      "[1. 1. 1. 1. 1. 1. 1. 1. 1. 1.] float64\n"
     ]
    }
   ],
   "source": [
    "print(np.ones(10), np.ones(10).dtype) "
   ]
  },
  {
   "cell_type": "code",
   "execution_count": 49,
   "id": "25f3576d",
   "metadata": {
    "ExecuteTime": {
     "end_time": "2023-12-15T10:43:00.183242Z",
     "start_time": "2023-12-15T10:43:00.175211Z"
    }
   },
   "outputs": [
    {
     "data": {
      "text/plain": [
       "array([1., 1., 1., 1., 1., 1., 1., 1., 1., 1.])"
      ]
     },
     "execution_count": 49,
     "metadata": {},
     "output_type": "execute_result"
    }
   ],
   "source": [
    "np.ones(10)"
   ]
  },
  {
   "cell_type": "code",
   "execution_count": 52,
   "id": "90e37590",
   "metadata": {
    "ExecuteTime": {
     "end_time": "2023-12-15T10:46:24.277333Z",
     "start_time": "2023-12-15T10:46:24.270121Z"
    }
   },
   "outputs": [
    {
     "data": {
      "text/plain": [
       "array([[ 1,  2,  3,  4,  5],\n",
       "       [ 6,  7,  8,  9, 10],\n",
       "       [11, 12, 13, 14, 15],\n",
       "       [16, 17, 18, 19, 20]])"
      ]
     },
     "execution_count": 52,
     "metadata": {},
     "output_type": "execute_result"
    }
   ],
   "source": [
    "np.arange(1,21).reshape(4,5)"
   ]
  },
  {
   "cell_type": "code",
   "execution_count": 64,
   "id": "54cf07fd",
   "metadata": {
    "ExecuteTime": {
     "end_time": "2023-12-15T10:51:00.083554Z",
     "start_time": "2023-12-15T10:51:00.076185Z"
    }
   },
   "outputs": [
    {
     "data": {
      "text/plain": [
       "array([[['1.0', '2.0', '3.0', '4.0', '5.0'],\n",
       "        ['6.0', '7.0', '8.0', '9.0', '10.0']],\n",
       "\n",
       "       [['11.0', '12.0', '13.0', '14.0', '15.0'],\n",
       "        ['16.0', '17.0', '18.0', '19.0', '20.0']]], dtype='<U5')"
      ]
     },
     "execution_count": 64,
     "metadata": {},
     "output_type": "execute_result"
    }
   ],
   "source": [
    "arr = np.arange(1,21).reshape(2,2,5)\n",
    "arr.dtype #얘를 float64로 바꾸려면?\n",
    "arr1 = arr.astype(np.float64)\n",
    "arr1.dtype\n",
    "arr2 = arr1.astype(\"<U5\")\n",
    "arr2"
   ]
  },
  {
   "cell_type": "code",
   "execution_count": 66,
   "id": "e7c62510",
   "metadata": {
    "ExecuteTime": {
     "end_time": "2023-12-15T10:55:35.007169Z",
     "start_time": "2023-12-15T10:55:35.002332Z"
    }
   },
   "outputs": [],
   "source": [
    "arr = np.array([\n",
    "                [10, 11, 12, 13, 14],\n",
    "                [15, 16, 17, 18, 19],\n",
    "                [20, 21, 22, 23, 24]\n",
    "               ])"
   ]
  },
  {
   "cell_type": "code",
   "execution_count": 80,
   "id": "d7d560f9",
   "metadata": {
    "ExecuteTime": {
     "end_time": "2023-12-15T11:06:56.850867Z",
     "start_time": "2023-12-15T11:06:56.845746Z"
    }
   },
   "outputs": [
    {
     "data": {
      "text/plain": [
       "array([[20, 21, 22, 23, 24],\n",
       "       [15, 16, 17, 18, 19],\n",
       "       [10, 11, 12, 13, 14]])"
      ]
     },
     "execution_count": 80,
     "metadata": {},
     "output_type": "execute_result"
    }
   ],
   "source": [
    "arr[::-1, ::]"
   ]
  },
  {
   "cell_type": "code",
   "execution_count": 90,
   "id": "2fc45b3d",
   "metadata": {
    "ExecuteTime": {
     "end_time": "2023-12-15T11:25:49.017627Z",
     "start_time": "2023-12-15T11:25:49.011869Z"
    }
   },
   "outputs": [],
   "source": [
    "arr = np.array( [\n",
    "                [ 1,  2,  3,  4,  5],\n",
    "                [ 6,  7,  8,  9, 10],\n",
    "                [11, 12, 13, 14, 15],\n",
    "                [16, 17, 18, 19, 20],\n",
    "                [21, 22, 23, 24, 25]\n",
    "                ])"
   ]
  },
  {
   "cell_type": "code",
   "execution_count": 107,
   "id": "196d3ee2",
   "metadata": {
    "ExecuteTime": {
     "end_time": "2023-12-15T11:32:40.402015Z",
     "start_time": "2023-12-15T11:32:40.393859Z"
    }
   },
   "outputs": [
    {
     "data": {
      "text/plain": [
       "array([[25, 24, 23],\n",
       "       [20, 19, 18],\n",
       "       [15, 14, 13],\n",
       "       [10,  9,  8],\n",
       "       [ 5,  4,  3]])"
      ]
     },
     "execution_count": 107,
     "metadata": {},
     "output_type": "execute_result"
    }
   ],
   "source": [
    "arr[::-1, 4:1:-1]"
   ]
  },
  {
   "cell_type": "code",
   "execution_count": 128,
   "id": "821ec064",
   "metadata": {
    "ExecuteTime": {
     "end_time": "2023-12-15T11:39:19.992461Z",
     "start_time": "2023-12-15T11:39:19.984158Z"
    }
   },
   "outputs": [
    {
     "data": {
      "text/plain": [
       "array([[ 9,  5, 13, 14, 24, 54],\n",
       "       [23, 53, 23, 54, 45, 22],\n",
       "       [26, 23, 19, 24, 11, 22],\n",
       "       [ 5,  4,  3,  9, 21, 43]])"
      ]
     },
     "execution_count": 128,
     "metadata": {},
     "output_type": "execute_result"
    }
   ],
   "source": [
    "arr = np.random.randint(3,60,(4,6))\n",
    "arr"
   ]
  },
  {
   "cell_type": "code",
   "execution_count": 135,
   "id": "a6135fdc",
   "metadata": {
    "ExecuteTime": {
     "end_time": "2023-12-15T11:50:36.632520Z",
     "start_time": "2023-12-15T11:50:36.624310Z"
    }
   },
   "outputs": [
    {
     "data": {
      "text/plain": [
       "array([[54, 24],\n",
       "       [54, 53],\n",
       "       [26, 24],\n",
       "       [43, 21]])"
      ]
     },
     "execution_count": 135,
     "metadata": {},
     "output_type": "execute_result"
    }
   ],
   "source": [
    "np.sort(arr,axis=1)[::, ::-1]"
   ]
  },
  {
   "cell_type": "code",
   "execution_count": null,
   "id": "d9ed0503",
   "metadata": {},
   "outputs": [],
   "source": []
  },
  {
   "cell_type": "code",
   "execution_count": null,
   "id": "47b49e27",
   "metadata": {},
   "outputs": [],
   "source": [
    "np.sum(m1[0,:], axis=0) # x축(행 방향) 합계"
   ]
  },
  {
   "cell_type": "code",
   "execution_count": null,
   "id": "dd792406",
   "metadata": {},
   "outputs": [],
   "source": []
  },
  {
   "cell_type": "code",
   "execution_count": null,
   "id": "a28d0b04",
   "metadata": {},
   "outputs": [],
   "source": []
  },
  {
   "cell_type": "code",
   "execution_count": 3,
   "id": "cf3bbd46",
   "metadata": {
    "ExecuteTime": {
     "end_time": "2023-12-18T10:40:39.758241Z",
     "start_time": "2023-12-18T10:40:39.746242Z"
    }
   },
   "outputs": [
    {
     "data": {
      "text/plain": [
       "array([[100,   1,   2,   3],\n",
       "       [200,   4,   5,   6],\n",
       "       [300,   7,   8,   9]])"
      ]
     },
     "execution_count": 3,
     "metadata": {},
     "output_type": "execute_result"
    }
   ],
   "source": [
    "arr = np.array([[100,   1,   2,   3],\n",
    "       [200,   4,   5,   6],\n",
    "       [300,   7,   8,   9]])\n",
    "arr"
   ]
  },
  {
   "cell_type": "code",
   "execution_count": 6,
   "id": "f126c9f3",
   "metadata": {
    "ExecuteTime": {
     "end_time": "2023-12-18T10:41:28.791285Z",
     "start_time": "2023-12-18T10:41:28.784986Z"
    }
   },
   "outputs": [
    {
     "data": {
      "text/plain": [
       "4"
      ]
     },
     "execution_count": 6,
     "metadata": {},
     "output_type": "execute_result"
    }
   ],
   "source": [
    "arr.shape[1]"
   ]
  },
  {
   "cell_type": "code",
   "execution_count": 7,
   "id": "cfe3eef6",
   "metadata": {
    "ExecuteTime": {
     "end_time": "2023-12-18T10:42:20.661234Z",
     "start_time": "2023-12-18T10:42:20.653285Z"
    }
   },
   "outputs": [
    {
     "data": {
      "text/plain": [
       "array([[100,   1,   2,   3,   4],\n",
       "       [200,   4,   5,   6,   5],\n",
       "       [300,   7,   8,   9,  10]])"
      ]
     },
     "execution_count": 7,
     "metadata": {},
     "output_type": "execute_result"
    }
   ],
   "source": [
    "arr = np.array([[100,   1,   2,   3,4],\n",
    "       [200,   4,   5,   6,5],\n",
    "       [300,   7,   8,   9,10]])\n",
    "arr"
   ]
  },
  {
   "cell_type": "code",
   "execution_count": 10,
   "id": "ee541639",
   "metadata": {
    "ExecuteTime": {
     "end_time": "2023-12-18T10:44:07.564201Z",
     "start_time": "2023-12-18T10:44:07.558386Z"
    }
   },
   "outputs": [
    {
     "data": {
      "text/plain": [
       "5"
      ]
     },
     "execution_count": 10,
     "metadata": {},
     "output_type": "execute_result"
    }
   ],
   "source": [
    "arr.shape[1]"
   ]
  },
  {
   "cell_type": "code",
   "execution_count": 11,
   "id": "71614dbd",
   "metadata": {
    "ExecuteTime": {
     "end_time": "2023-12-18T10:44:54.947115Z",
     "start_time": "2023-12-18T10:44:54.939225Z"
    }
   },
   "outputs": [
    {
     "data": {
      "text/plain": [
       "array([[ 100,    1,    2,    3,    4, 1000],\n",
       "       [ 200,    4,    5,    6,    5, 2000],\n",
       "       [ 300,    7,    8,    9,   10, 3000]])"
      ]
     },
     "execution_count": 11,
     "metadata": {},
     "output_type": "execute_result"
    }
   ],
   "source": [
    "np.insert(arr, arr.shape[1], [1000,2000,3000], axis=1)"
   ]
  },
  {
   "cell_type": "code",
   "execution_count": 25,
   "id": "e4091b67",
   "metadata": {
    "ExecuteTime": {
     "end_time": "2023-12-18T10:48:16.710314Z",
     "start_time": "2023-12-18T10:48:16.703696Z"
    }
   },
   "outputs": [
    {
     "data": {
      "text/plain": [
       "array([[100,   1,   2,   3,   4],\n",
       "       [200,   4,   5,   6,   5],\n",
       "       [300,   7,   8,   9,  10]])"
      ]
     },
     "execution_count": 25,
     "metadata": {},
     "output_type": "execute_result"
    }
   ],
   "source": [
    "arr"
   ]
  },
  {
   "cell_type": "code",
   "execution_count": 30,
   "id": "f8ee5a26",
   "metadata": {
    "ExecuteTime": {
     "end_time": "2023-12-18T10:49:20.722266Z",
     "start_time": "2023-12-18T10:49:20.717225Z"
    }
   },
   "outputs": [
    {
     "data": {
      "text/plain": [
       "array([[ 1,  2,  3,  4],\n",
       "       [ 4,  5,  6,  5],\n",
       "       [ 7,  8,  9, 10]])"
      ]
     },
     "execution_count": 30,
     "metadata": {},
     "output_type": "execute_result"
    }
   ],
   "source": [
    "arr = np.delete(arr,0,axis=1)\n",
    "arr"
   ]
  },
  {
   "cell_type": "code",
   "execution_count": 33,
   "id": "dc5eb139",
   "metadata": {
    "ExecuteTime": {
     "end_time": "2023-12-18T10:50:18.734358Z",
     "start_time": "2023-12-18T10:50:18.729219Z"
    }
   },
   "outputs": [],
   "source": [
    "arr = np.arange(1, 21)"
   ]
  },
  {
   "cell_type": "code",
   "execution_count": 40,
   "id": "47d38725",
   "metadata": {
    "ExecuteTime": {
     "end_time": "2023-12-18T10:51:29.948422Z",
     "start_time": "2023-12-18T10:51:29.940902Z"
    }
   },
   "outputs": [
    {
     "data": {
      "text/plain": [
       "array([11, 12, 13, 14])"
      ]
     },
     "execution_count": 40,
     "metadata": {},
     "output_type": "execute_result"
    }
   ],
   "source": [
    "arr[(arr > 10) & (arr < 15)]"
   ]
  },
  {
   "cell_type": "code",
   "execution_count": 42,
   "id": "a7fc9105",
   "metadata": {
    "ExecuteTime": {
     "end_time": "2023-12-18T10:53:08.103571Z",
     "start_time": "2023-12-18T10:53:08.097879Z"
    }
   },
   "outputs": [
    {
     "data": {
      "text/plain": [
       "array([10, 11, 12, 13, 14, 15, 16, 17, 18, 19])"
      ]
     },
     "execution_count": 42,
     "metadata": {},
     "output_type": "execute_result"
    }
   ],
   "source": [
    "arr = np.arange(10,20)\n",
    "arr"
   ]
  },
  {
   "cell_type": "code",
   "execution_count": 44,
   "id": "d0309f00",
   "metadata": {
    "ExecuteTime": {
     "end_time": "2023-12-18T10:53:33.407017Z",
     "start_time": "2023-12-18T10:53:33.401223Z"
    }
   },
   "outputs": [
    {
     "data": {
      "text/plain": [
       "array([10, 13, 15])"
      ]
     },
     "execution_count": 44,
     "metadata": {},
     "output_type": "execute_result"
    }
   ],
   "source": [
    "arr[[0,3,5]]"
   ]
  },
  {
   "cell_type": "code",
   "execution_count": 48,
   "id": "03fb554c",
   "metadata": {
    "ExecuteTime": {
     "end_time": "2023-12-18T10:55:32.168098Z",
     "start_time": "2023-12-18T10:55:32.160223Z"
    }
   },
   "outputs": [
    {
     "data": {
      "text/plain": [
       "array([10, 11, 12, 13, 14, 15, 32, 34, 18, 19])"
      ]
     },
     "execution_count": 48,
     "metadata": {},
     "output_type": "execute_result"
    }
   ],
   "source": [
    "np.where((arr>15)&(arr<18),arr*2,arr)"
   ]
  },
  {
   "cell_type": "code",
   "execution_count": null,
   "id": "9e651154",
   "metadata": {},
   "outputs": [],
   "source": []
  },
  {
   "cell_type": "code",
   "execution_count": null,
   "id": "ee4439da",
   "metadata": {},
   "outputs": [],
   "source": []
  },
  {
   "cell_type": "code",
   "execution_count": null,
   "id": "d9d314a6",
   "metadata": {},
   "outputs": [],
   "source": []
  },
  {
   "cell_type": "code",
   "execution_count": null,
   "id": "32b418da",
   "metadata": {},
   "outputs": [],
   "source": []
  },
  {
   "cell_type": "code",
   "execution_count": null,
   "id": "1b408c6e",
   "metadata": {},
   "outputs": [],
   "source": []
  },
  {
   "cell_type": "code",
   "execution_count": null,
   "id": "dd1dbf81",
   "metadata": {},
   "outputs": [],
   "source": []
  },
  {
   "cell_type": "code",
   "execution_count": null,
   "id": "89381c51",
   "metadata": {},
   "outputs": [],
   "source": []
  },
  {
   "cell_type": "code",
   "execution_count": null,
   "id": "00ca2e5f",
   "metadata": {},
   "outputs": [],
   "source": []
  }
 ],
 "metadata": {
  "kernelspec": {
   "display_name": "Python 3 (ipykernel)",
   "language": "python",
   "name": "python3"
  },
  "language_info": {
   "codemirror_mode": {
    "name": "ipython",
    "version": 3
   },
   "file_extension": ".py",
   "mimetype": "text/x-python",
   "name": "python",
   "nbconvert_exporter": "python",
   "pygments_lexer": "ipython3",
   "version": "3.11.5"
  },
  "toc": {
   "base_numbering": 1,
   "nav_menu": {},
   "number_sections": true,
   "sideBar": true,
   "skip_h1_title": false,
   "title_cell": "Table of Contents",
   "title_sidebar": "Contents",
   "toc_cell": false,
   "toc_position": {},
   "toc_section_display": true,
   "toc_window_display": false
  }
 },
 "nbformat": 4,
 "nbformat_minor": 5
}
