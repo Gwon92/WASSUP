{
 "cells": [
  {
   "cell_type": "markdown",
   "metadata": {},
   "source": [
    "# 전화번호 프로그램 만들기\n",
    "\n",
    "* 홍길동 010-123-4567\n",
    "* 기능1 : 연락처 추가\n",
    "* 기능2 : 연락처 전체 보기\n",
    "* 기능3 : 검색, 이름을 입력받아서 전화번호 조회\n",
    "* 기능4 : 수정, 이름을 입력받아서 전화번호 입력수정\n",
    "* 기능5 : 삭제, 이름 입력받아서 삭제\n",
    "* 기능6 : 프로그램 종료"
   ]
  },
  {
   "cell_type": "code",
   "execution_count": null,
   "metadata": {
    "ExecuteTime": {
     "start_time": "2023-11-29T01:54:22.230Z"
    }
   },
   "outputs": [
    {
     "name": "stdout",
     "output_type": "stream",
     "text": [
      "\n",
      "    ----------------------------------------------\n",
      "    1 : 연락처 추가\n",
      "    2 : 연락처 전체 보기\n",
      "    3 : 검색, 이름을 입력받아서 전화번호 조회\n",
      "    4 : 수정, 이름을 입력받아서 전화번호 입력수정\n",
      "    5 : 삭제, 이름 입력받아서 삭제\n",
      "    6 : 프로그램 종료\n",
      "    -----------------------------------------------\n",
      "    \n",
      "원하는 기능의 번호를 입력하세요.2\n",
      "\n",
      "***번호 리스트***\n",
      "이름:홍길동\n",
      "번호:010-123-4567\n",
      "\n",
      "    ----------------------------------------------\n",
      "    1 : 연락처 추가\n",
      "    2 : 연락처 전체 보기\n",
      "    3 : 검색, 이름을 입력받아서 전화번호 조회\n",
      "    4 : 수정, 이름을 입력받아서 전화번호 입력수정\n",
      "    5 : 삭제, 이름 입력받아서 삭제\n",
      "    6 : 프로그램 종료\n",
      "    -----------------------------------------------\n",
      "    \n"
     ]
    }
   ],
   "source": [
    "phone = {'홍길동':'010-123-4567'}\n",
    "\n",
    "while True:\n",
    "    print(\"\"\"\n",
    "    ----------------------------------------------\n",
    "    1 : 연락처 추가\n",
    "    2 : 연락처 전체 보기\n",
    "    3 : 연락처 검색\n",
    "    4 : 연락처 수정\n",
    "    5 : 연락처 삭제\n",
    "    6 : 프로그램 종료\n",
    "    -----------------------------------------------\n",
    "    \"\"\")\n",
    "\n",
    "    choice = input(\"원하는 기능의 번호를 입력하세요.\")\n",
    "\n",
    "    if choice == \"1\":\n",
    "        name = input(\"이름 입력:\")\n",
    "        number = input(\"번호 입력:\")\n",
    "        phone[name] = number\n",
    "        print(\"\\n***전화번호가 추가되었습니다***\")\n",
    "    elif choice == \"2\":\n",
    "        print(\"\\n***번호 리스트***\")\n",
    "        for key,value in phone.items():\n",
    "            print(\"이름:\"+key)\n",
    "            print(\"번호:\"+value)\n",
    "    elif choice == \"3\":\n",
    "        name = input(\"이름 입력:\")\n",
    "        if name in phone.keys():\n",
    "            print(f\"\\n{name}님의 전화번호는 {phone[name]}입니다.\")\n",
    "        else:\n",
    "            print(\"\\n존재하지 않는 이름입니다.\")\n",
    "    elif choice == \"4\":\n",
    "        name = input(\"이름 입력:\")\n",
    "        number = input(\"새로운 번호 입력:\")\n",
    "        if name in phone.keys():\n",
    "            phone[name] = number\n",
    "            print(\"\\n***번호가 업데이트 되었습니다.***\")\n",
    "        else:\n",
    "            print(\"\\n존재하지 않는 이름입니다.\")\n",
    "    elif choice == \"5\":\n",
    "        name = input(\"이름 입력:\")\n",
    "        if name in phone.keys():\n",
    "            del phone[name]\n",
    "            print(\"\\n***삭제가 완료되었습니다***\")\n",
    "        else:\n",
    "            print(\"\\n존재하지 않는 이름입니다.\")\n",
    "    elif choice == \"6\":\n",
    "        print(\"***종료합니다.***\")\n",
    "        break"
   ]
  }
 ],
 "metadata": {
  "kernelspec": {
   "display_name": "Python 3 (ipykernel)",
   "language": "python",
   "name": "python3"
  },
  "language_info": {
   "codemirror_mode": {
    "name": "ipython",
    "version": 3
   },
   "file_extension": ".py",
   "mimetype": "text/x-python",
   "name": "python",
   "nbconvert_exporter": "python",
   "pygments_lexer": "ipython3",
   "version": "3.11.5"
  },
  "toc": {
   "base_numbering": 1,
   "nav_menu": {},
   "number_sections": true,
   "sideBar": true,
   "skip_h1_title": false,
   "title_cell": "Table of Contents",
   "title_sidebar": "Contents",
   "toc_cell": false,
   "toc_position": {},
   "toc_section_display": true,
   "toc_window_display": false
  },
  "varInspector": {
   "cols": {
    "lenName": 16,
    "lenType": 16,
    "lenVar": 40
   },
   "kernels_config": {
    "python": {
     "delete_cmd_postfix": "",
     "delete_cmd_prefix": "del ",
     "library": "var_list.py",
     "varRefreshCmd": "print(var_dic_list())"
    },
    "r": {
     "delete_cmd_postfix": ") ",
     "delete_cmd_prefix": "rm(",
     "library": "var_list.r",
     "varRefreshCmd": "cat(var_dic_list()) "
    }
   },
   "types_to_exclude": [
    "module",
    "function",
    "builtin_function_or_method",
    "instance",
    "_Feature"
   ],
   "window_display": false
  }
 },
 "nbformat": 4,
 "nbformat_minor": 2
}
