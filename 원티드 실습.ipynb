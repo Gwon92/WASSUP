{
 "cells": [
  {
   "cell_type": "markdown",
   "id": "759d25e1-1de3-42ef-87ae-f99aadf448d4",
   "metadata": {},
   "source": [
    "#원티드에 접속하여 서울에 있는 PM 채용 공고를 스크래핑하기\n",
    "1. 원티드 PM 채용 공고 홈페이지에 접속한다 (https://www.wanted.co.kr/wdlist/507/559?country=kr&job_sort=job.latest_order&years=-1&locations=seoul.all)\n",
    "2. 화면에 보이는 채용 공고 정보를 받아온다.\n",
    "3. 채용 공고를 하나하나 접속해서 채용 공고에 있는 회사, 직무, 위치 정보를 추출한다. (advanced 과제: 자격 요건까지 찾아 저장하기 + 이미지도 따로 찾아 저장하기)\n",
    "4. 엑셀 파일로 저장한다.)"
   ]
  },
  {
   "cell_type": "code",
   "execution_count": 1,
   "id": "1f73a0ed-cf6d-4e8e-a42b-921095f60dfb",
   "metadata": {
    "ExecuteTime": {
     "end_time": "2023-12-14T11:46:11.006283Z",
     "start_time": "2023-12-14T11:46:09.368565Z"
    }
   },
   "outputs": [],
   "source": [
    "# 모듈을 가져오고 옵션 정의하기\n",
    "from bs4 import BeautifulSoup\n",
    "from selenium import webdriver\n",
    "from selenium.webdriver.common.by import By\n",
    "from selenium.webdriver.common.keys import Keys\n",
    "from selenium.webdriver.chrome.options import Options\n",
    "import math, time, os, pandas as pd, urllib.request\n",
    "\n",
    "options = Options()\n",
    "options.add_argument('--window-size=1800,1047')\n",
    "options.add_argument('--window-position=0,0')\n",
    "options.add_experimental_option(\"detach\", True)"
   ]
  },
  {
   "cell_type": "code",
   "execution_count": 2,
   "id": "0d6f141d-c50a-48b7-9fcb-91d68ebbde5d",
   "metadata": {
    "ExecuteTime": {
     "end_time": "2023-12-14T11:46:11.033513Z",
     "start_time": "2023-12-14T11:46:11.026265Z"
    }
   },
   "outputs": [],
   "source": [
    "# 폴더 이름 정의하고 폴더 생성하기\n",
    "now = time.localtime()\n",
    "date_format = '%04d%02d%02d'%(now.tm_year, now.tm_mon, now.tm_mday)\n",
    "f_dir = f'{os.getcwd()}\\\\채용공고_{date_format}'\n",
    "os.makedirs(f_dir)"
   ]
  },
  {
   "cell_type": "code",
   "execution_count": 3,
   "id": "67b70ede-ee58-4bb3-b759-f54a846dcf7e",
   "metadata": {
    "ExecuteTime": {
     "end_time": "2023-12-14T11:46:20.229905Z",
     "start_time": "2023-12-14T11:46:11.902540Z"
    }
   },
   "outputs": [],
   "source": [
    "# 브라우저 실행하기\n",
    "URL = 'https://www.wanted.co.kr/wdlist/507/559?country=kr&job_sort=job.latest_order&years=-1&locations=seoul.all'\n",
    "driver = webdriver.Chrome(options=options)\n",
    "driver.get(URL)\n",
    "time.sleep(2)"
   ]
  },
  {
   "cell_type": "code",
   "execution_count": 128,
   "id": "f77471df-b83c-49b1-8e40-d3b19c61d769",
   "metadata": {},
   "outputs": [
    {
     "name": "stdout",
     "output_type": "stream",
     "text": [
      "----------데이터 추출 완료----------\n",
      "----------파일 저장 완료----------\n"
     ]
    }
   ],
   "source": [
    "\n",
    "jobDescription = {\n",
    "    \"회사\":[],\n",
    "    \"직무\":[]\n",
    "}\n",
    "#채용 정보를 받아 저장하기\n",
    "def getJobDescription() :\n",
    "    driver.execute_script(\"window.scrollTo(0, 400)\")\n",
    "    for i in range(1,4):\n",
    "        jd = driver.find_element(By.XPATH,f\"/html/body/div[1]/div[3]/div/div/div[4]/ul/li[{i}]/div/a/div/div[1]\")\n",
    "        jd.click()\n",
    "        time.sleep(2)\n",
    "        \n",
    "        html = driver.page_source\n",
    "        html_dom = BeautifulSoup(html, 'lxml')\n",
    "        \n",
    "        title = html_dom.find('h2').text\n",
    "        company = driver.find_element(By.XPATH,\"/html/body/div[1]/div[3]/div[1]/div[1]/div[1]/section[2]/div[1]/h6/a\").text\n",
    "        jobDescription[\"회사\"].append(company)\n",
    "        jobDescription[\"직무\"].append(title)\n",
    "        driver.back()\n",
    "        time.sleep(2)\n",
    "        if i%4 == 0:\n",
    "            driver.execute_script(\"window.scrollTo(0, 900)\")\n",
    "    print(\"----------데이터 추출 완료----------\")\n",
    "\n",
    "#채용 정보를 파일로 저장하기\n",
    "def exportToExcel():\n",
    "    df = pd.DataFrame(jobDescription)\n",
    "    filename = f'채용공고_{date_format}.xlsx'\n",
    "    df.to_excel(f_dir+'\\\\'+filename)\n",
    "    print(\"----------파일 저장 완료----------\")\n",
    "\n",
    "\n",
    "getJobDescription()\n",
    "exportToExcel()"
   ]
  },
  {
   "cell_type": "code",
   "execution_count": null,
   "id": "7cbf60fc-565c-4881-9a03-7342c6b1af78",
   "metadata": {},
   "outputs": [],
   "source": []
  }
 ],
 "metadata": {
  "kernelspec": {
   "display_name": "Python 3 (ipykernel)",
   "language": "python",
   "name": "python3"
  },
  "language_info": {
   "codemirror_mode": {
    "name": "ipython",
    "version": 3
   },
   "file_extension": ".py",
   "mimetype": "text/x-python",
   "name": "python",
   "nbconvert_exporter": "python",
   "pygments_lexer": "ipython3",
   "version": "3.11.5"
  },
  "toc": {
   "base_numbering": 1,
   "nav_menu": {},
   "number_sections": true,
   "sideBar": true,
   "skip_h1_title": false,
   "title_cell": "Table of Contents",
   "title_sidebar": "Contents",
   "toc_cell": false,
   "toc_position": {},
   "toc_section_display": true,
   "toc_window_display": false
  }
 },
 "nbformat": 4,
 "nbformat_minor": 5
}
