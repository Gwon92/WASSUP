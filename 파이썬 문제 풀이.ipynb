{
 "cells": [
  {
   "cell_type": "code",
   "execution_count": 1,
   "id": "29b1ac0d",
   "metadata": {
    "scrolled": true
   },
   "outputs": [
    {
     "name": "stdout",
     "output_type": "stream",
     "text": [
      "Hello World\n"
     ]
    }
   ],
   "source": [
    "#1.답변\n",
    "print('Hello World')"
   ]
  },
  {
   "cell_type": "code",
   "execution_count": 2,
   "id": "16a7ebcd",
   "metadata": {
    "scrolled": true
   },
   "outputs": [
    {
     "name": "stdout",
     "output_type": "stream",
     "text": [
      "Mary's cosmetics\n"
     ]
    }
   ],
   "source": [
    "#2.답변\n",
    "print(\"Mary's cosmetics\")"
   ]
  },
  {
   "cell_type": "code",
   "execution_count": 3,
   "id": "509de91f",
   "metadata": {},
   "outputs": [
    {
     "name": "stdout",
     "output_type": "stream",
     "text": [
      "신씨가 소리질렀다.\"도둑이야\"\n"
     ]
    }
   ],
   "source": [
    "#3.답변\n",
    "print('신씨가 소리질렀다.\"도둑이야\"')"
   ]
  },
  {
   "cell_type": "code",
   "execution_count": 4,
   "id": "05064f0b",
   "metadata": {},
   "outputs": [
    {
     "name": "stdout",
     "output_type": "stream",
     "text": [
      "C:\\Windows\n"
     ]
    }
   ],
   "source": [
    "#4.답변\n",
    "print(\"C:\\Windows\")"
   ]
  },
  {
   "cell_type": "code",
   "execution_count": 6,
   "id": "55fdbe6f",
   "metadata": {},
   "outputs": [],
   "source": [
    "#5. 다음 코드를 실행해보고 \\t와 \\n의 역할을 설명해보세요.\n",
    "print(\"안녕하세요.\\n만나서\\t\\t반갑습니다.\")\n",
    "### \\n은 줄바꿈, \\t는 탭"
   ]
  },
  {
   "cell_type": "code",
   "execution_count": 7,
   "id": "2371f86a",
   "metadata": {},
   "outputs": [],
   "source": [
    "#6.답변 \n",
    "#오늘은 일요일로 출력됨"
   ]
  },
  {
   "cell_type": "code",
   "execution_count": 8,
   "id": "cc5b5a65",
   "metadata": {},
   "outputs": [
    {
     "name": "stdout",
     "output_type": "stream",
     "text": [
      "naver;kakao;sk;samsung\n",
      "naver;kakao;sk;samsung\n"
     ]
    }
   ],
   "source": [
    "#7.답변\n",
    "print('naver;kakao;sk;samsung')\n",
    "#책에 나온 답변\n",
    "print('naver','kakao','sk','samsung',sep=\";\")"
   ]
  },
  {
   "cell_type": "code",
   "execution_count": null,
   "id": "0238d4c1",
   "metadata": {},
   "outputs": [],
   "source": [
    "#8.답변\n",
    "print('naver/kakao/sk/samsung')\n",
    "#책에 나온 답변\n",
    "print(\"naver\", \"kakao\", \"samsung\", sep=\"/\")"
   ]
  },
  {
   "cell_type": "code",
   "execution_count": null,
   "id": "6b42e3ea",
   "metadata": {},
   "outputs": [],
   "source": [
    "#9.답변\n",
    "print(\"first\" , end=' ');print(\"second\")"
   ]
  },
  {
   "cell_type": "code",
   "execution_count": null,
   "id": "80206630",
   "metadata": {},
   "outputs": [],
   "source": [
    "#10.답변\n",
    "print(5/3)"
   ]
  },
  {
   "cell_type": "code",
   "execution_count": null,
   "id": "ec60dbdd",
   "metadata": {},
   "outputs": [],
   "source": [
    "#11.답변\n",
    "samsung = 50000\n",
    "total = samsung * 10 \n",
    "print(total)"
   ]
  },
  {
   "cell_type": "code",
   "execution_count": null,
   "id": "208ec6c0",
   "metadata": {},
   "outputs": [],
   "source": [
    "#12.답변\n",
    "시가총액 = 298000000000000\n",
    "현재가 = 50000\n",
    "PER = 15.79"
   ]
  },
  {
   "cell_type": "code",
   "execution_count": null,
   "id": "52eab9cf",
   "metadata": {},
   "outputs": [],
   "source": [
    "#13.답변\n",
    "s = \"hello\"\n",
    "t = \"python\"\n",
    "print(s +\"! \"+t)"
   ]
  },
  {
   "cell_type": "code",
   "execution_count": null,
   "id": "a3790945",
   "metadata": {},
   "outputs": [],
   "source": [
    "#14.답변\n",
    "print(2+2*3)"
   ]
  },
  {
   "cell_type": "code",
   "execution_count": null,
   "id": "51b3041e",
   "metadata": {},
   "outputs": [],
   "source": [
    "#15.답변\n",
    "a = \"132\"\n",
    "print(type(a))"
   ]
  },
  {
   "cell_type": "code",
   "execution_count": null,
   "id": "58fc32f4",
   "metadata": {},
   "outputs": [],
   "source": [
    "#16.답변\n",
    "num_str = \"720\"\n",
    "print(int(num_str))"
   ]
  },
  {
   "cell_type": "code",
   "execution_count": null,
   "id": "a1946b37",
   "metadata": {},
   "outputs": [],
   "source": [
    "#17.답변\n",
    "num = 100\n",
    "print(str(num))"
   ]
  },
  {
   "cell_type": "code",
   "execution_count": null,
   "id": "1377c5db",
   "metadata": {},
   "outputs": [],
   "source": [
    "#18.답변\n",
    "str = \"15.79\"\n",
    "print(float(str))"
   ]
  },
  {
   "cell_type": "code",
   "execution_count": null,
   "id": "274689db",
   "metadata": {},
   "outputs": [],
   "source": [
    "#19.답변\n",
    "year = \"2020\"\n",
    "num = int(year)\n",
    "print(num, num-1, num-2)"
   ]
  },
  {
   "cell_type": "code",
   "execution_count": null,
   "id": "1554556b",
   "metadata": {},
   "outputs": [],
   "source": [
    "#20.답변\n",
    "month = 48584\n",
    "duration = 36\n",
    "total = month * duration\n",
    "print(total)"
   ]
  },
  {
   "cell_type": "code",
   "execution_count": 9,
   "id": "9181698c",
   "metadata": {},
   "outputs": [
    {
     "name": "stdout",
     "output_type": "stream",
     "text": [
      "p t\n"
     ]
    }
   ],
   "source": [
    "#21.답변\n",
    "letters = 'python'\n",
    "print(letters[0],letters[2])"
   ]
  },
  {
   "cell_type": "code",
   "execution_count": 15,
   "id": "cc72bb4e",
   "metadata": {},
   "outputs": [
    {
     "name": "stdout",
     "output_type": "stream",
     "text": [
      "2210\n",
      "2210\n"
     ]
    }
   ],
   "source": [
    "#22.답변\n",
    "license_plate = \"22가 2210\"\n",
    "print(license_plate[-4:])\n",
    "print(license_plate[4:])"
   ]
  },
  {
   "cell_type": "code",
   "execution_count": 17,
   "id": "30fa312d",
   "metadata": {},
   "outputs": [
    {
     "name": "stdout",
     "output_type": "stream",
     "text": [
      "홀홀홀\n",
      "홀홀홀\n"
     ]
    }
   ],
   "source": [
    "#23.답변\n",
    "string = \"홀짝홀짝홀짝\"\n",
    "print(string.replace('짝',\"\"))\n",
    "#교과서 답변\n",
    "print(string[::2])"
   ]
  },
  {
   "cell_type": "code",
   "execution_count": 23,
   "id": "7ed0fefc",
   "metadata": {},
   "outputs": [
    {
     "name": "stdout",
     "output_type": "stream",
     "text": [
      "NOHTYP\n"
     ]
    }
   ],
   "source": [
    "#24.답변\n",
    "string = \"PYTHON\"\n",
    "#교과서 답변\n",
    "print(string[::-1])"
   ]
  },
  {
   "cell_type": "code",
   "execution_count": 25,
   "id": "0380d80a",
   "metadata": {},
   "outputs": [
    {
     "name": "stdout",
     "output_type": "stream",
     "text": [
      "010 1111 2222\n"
     ]
    }
   ],
   "source": [
    "#25.답변\n",
    "phone_number = \"010-1111-2222\"\n",
    "print(phone_number.replace(\"-\",\" \"))"
   ]
  },
  {
   "cell_type": "code",
   "execution_count": 27,
   "id": "a2791d68",
   "metadata": {},
   "outputs": [
    {
     "name": "stdout",
     "output_type": "stream",
     "text": [
      "01011112222\n"
     ]
    }
   ],
   "source": [
    "#26.답변\n",
    "phone_number = \"010-1111-2222\"\n",
    "print(phone_number.replace(\"-\",\"\"))"
   ]
  },
  {
   "cell_type": "code",
   "execution_count": 29,
   "id": "ce66a49f",
   "metadata": {},
   "outputs": [
    {
     "name": "stdout",
     "output_type": "stream",
     "text": [
      "kr\n"
     ]
    }
   ],
   "source": [
    "#27.답변\n",
    "url = \"http://sharebook.kr\"\n",
    "print(url.split(\".\")[1])"
   ]
  },
  {
   "cell_type": "code",
   "execution_count": 30,
   "id": "e6fab778",
   "metadata": {},
   "outputs": [
    {
     "ename": "TypeError",
     "evalue": "'str' object does not support item assignment",
     "output_type": "error",
     "traceback": [
      "\u001b[1;31m---------------------------------------------------------------------------\u001b[0m",
      "\u001b[1;31mTypeError\u001b[0m                                 Traceback (most recent call last)",
      "Cell \u001b[1;32mIn[30], line 3\u001b[0m\n\u001b[0;32m      1\u001b[0m \u001b[38;5;66;03m#28.답변\u001b[39;00m\n\u001b[0;32m      2\u001b[0m lang \u001b[38;5;241m=\u001b[39m \u001b[38;5;124m'\u001b[39m\u001b[38;5;124mpython\u001b[39m\u001b[38;5;124m'\u001b[39m\n\u001b[1;32m----> 3\u001b[0m lang[\u001b[38;5;241m0\u001b[39m] \u001b[38;5;241m=\u001b[39m \u001b[38;5;124m'\u001b[39m\u001b[38;5;124mP\u001b[39m\u001b[38;5;124m'\u001b[39m\n\u001b[0;32m      4\u001b[0m \u001b[38;5;28mprint\u001b[39m(lang)\n",
      "\u001b[1;31mTypeError\u001b[0m: 'str' object does not support item assignment"
     ]
    }
   ],
   "source": [
    "#28.답변\n",
    "lang = 'python'\n",
    "lang[0] = 'P'\n",
    "print(lang)\n",
    "# string은 immutable한 객체임으로 특정 인덱스의 값을 바꿀 수 없다."
   ]
  },
  {
   "cell_type": "code",
   "execution_count": 31,
   "id": "ed3d4d1e",
   "metadata": {},
   "outputs": [
    {
     "data": {
      "text/plain": [
       "'Abcdfe2A354A32A'"
      ]
     },
     "execution_count": 31,
     "metadata": {},
     "output_type": "execute_result"
    }
   ],
   "source": [
    "#29.답변\n",
    "string = 'abcdfe2a354a32a'\n",
    "string.replace('a','A')"
   ]
  },
  {
   "cell_type": "code",
   "execution_count": 32,
   "id": "866257bb",
   "metadata": {},
   "outputs": [
    {
     "name": "stdout",
     "output_type": "stream",
     "text": [
      "abcd\n"
     ]
    }
   ],
   "source": [
    "#30.답변 (오답)\n",
    "string = 'abcd'\n",
    "string.replace('b', 'B')\n",
    "print(string)\n",
    "#'aBcd'\n",
    "#정답은 abcd 그대로임. 문자열은 변경할 수 없는 자료형이기때문"
   ]
  },
  {
   "cell_type": "code",
   "execution_count": null,
   "id": "94b088b9",
   "metadata": {},
   "outputs": [],
   "source": [
    "#31.답변\n",
    "a = \"3\"\n",
    "b = \"4\"\n",
    "print(a + b)\n",
    "#\"34\""
   ]
  },
  {
   "cell_type": "code",
   "execution_count": null,
   "id": "52e6320a",
   "metadata": {},
   "outputs": [],
   "source": [
    "#32.답변\n",
    "print(\"Hi\" * 3)\n",
    "#\"HiHiHi\""
   ]
  },
  {
   "cell_type": "code",
   "execution_count": 33,
   "id": "5eb63b5d",
   "metadata": {},
   "outputs": [
    {
     "name": "stdout",
     "output_type": "stream",
     "text": [
      "--------------------------------------------------------------------------------\n"
     ]
    }
   ],
   "source": [
    "#33.답변\n",
    "print(\"-\"*80)"
   ]
  },
  {
   "cell_type": "code",
   "execution_count": 36,
   "id": "f7c4c144",
   "metadata": {},
   "outputs": [
    {
     "name": "stdout",
     "output_type": "stream",
     "text": [
      "python java python java python java\n"
     ]
    }
   ],
   "source": [
    "#34.답변\n",
    "t1 = 'python'\n",
    "t2 = 'java'\n",
    "print(t1 + \" \" + t2 + \" \" + t1 + \" \" + t2 + \" \" + t1 + \" \" + t2 )"
   ]
  },
  {
   "cell_type": "code",
   "execution_count": 42,
   "id": "0f83a196",
   "metadata": {},
   "outputs": [
    {
     "name": "stdout",
     "output_type": "stream",
     "text": [
      "이름: 김민수 나이: 10\n",
      "이름: 이철희 나이: 13\n"
     ]
    }
   ],
   "source": [
    "#35. 답변\n",
    "name1 = \"김민수\" \n",
    "age1 = 10\n",
    "name2 = \"이철희\"\n",
    "age2 = 13\n",
    "print(\"이름: %s 나이: %d\" % (name1, age1))\n",
    "print(\"이름: %s 나이: %d\" % (name2, age2))\n"
   ]
  },
  {
   "cell_type": "code",
   "execution_count": 43,
   "id": "6da08a85",
   "metadata": {},
   "outputs": [
    {
     "name": "stdout",
     "output_type": "stream",
     "text": [
      "이름: 김민수 나이: 10\n",
      "이름: 이철희 나이: 13\n"
     ]
    }
   ],
   "source": [
    "#36.답변\n",
    "name1 = \"김민수\" \n",
    "age1 = 10\n",
    "name2 = \"이철희\"\n",
    "age2 = 13\n",
    "print(\"이름: {} 나이: {}\".format(name1, age1))\n",
    "print(\"이름: {} 나이: {}\".format(name2, age2))"
   ]
  },
  {
   "cell_type": "code",
   "execution_count": 45,
   "id": "4e6e7e23",
   "metadata": {},
   "outputs": [
    {
     "name": "stdout",
     "output_type": "stream",
     "text": [
      "이름: 김민수 나이: 10\n",
      "이름: 이철희 나이: 13\n"
     ]
    }
   ],
   "source": [
    "#37.답변\n",
    "name1 = \"김민수\" \n",
    "age1 = 10\n",
    "name2 = \"이철희\"\n",
    "age2 = 13\n",
    "print(f\"이름: {name1} 나이: {age1}\")\n",
    "print(f\"이름: {name2} 나이: {age2}\")"
   ]
  },
  {
   "cell_type": "code",
   "execution_count": 46,
   "id": "6afd777c",
   "metadata": {},
   "outputs": [
    {
     "name": "stdout",
     "output_type": "stream",
     "text": [
      "5969782550\n"
     ]
    }
   ],
   "source": [
    "#38.답변\n",
    "stock = \"5,969,782,550\"\n",
    "print(int(stock.replace(\",\",\"\")))"
   ]
  },
  {
   "cell_type": "code",
   "execution_count": 47,
   "id": "3fb18509",
   "metadata": {},
   "outputs": [
    {
     "name": "stdout",
     "output_type": "stream",
     "text": [
      "2020/03\n"
     ]
    }
   ],
   "source": [
    "#39.답변\n",
    "quarter = \"2020/03(E) (IFRS연결)\"\n",
    "print(quarter[:7])"
   ]
  },
  {
   "cell_type": "code",
   "execution_count": 48,
   "id": "70d37029",
   "metadata": {},
   "outputs": [
    {
     "name": "stdout",
     "output_type": "stream",
     "text": [
      "삼성전자\n"
     ]
    }
   ],
   "source": [
    "#40.답변\n",
    "data = \"   삼성전자    \"\n",
    "print(data.strip())"
   ]
  },
  {
   "cell_type": "code",
   "execution_count": 49,
   "id": "34fc51f1",
   "metadata": {},
   "outputs": [
    {
     "name": "stdout",
     "output_type": "stream",
     "text": [
      "BTC_KRW\n"
     ]
    }
   ],
   "source": [
    "#41.답변\n",
    "ticker = \"btc_krw\"\n",
    "print(ticker.upper())"
   ]
  },
  {
   "cell_type": "code",
   "execution_count": 50,
   "id": "f31d8183",
   "metadata": {},
   "outputs": [
    {
     "name": "stdout",
     "output_type": "stream",
     "text": [
      "btc_krw\n"
     ]
    }
   ],
   "source": [
    "#42.답변\n",
    "ticker = \"BTC_KRW\"\n",
    "print(ticker.lower())"
   ]
  },
  {
   "cell_type": "code",
   "execution_count": 51,
   "id": "2d6fbbd4",
   "metadata": {},
   "outputs": [
    {
     "data": {
      "text/plain": [
       "'Hello'"
      ]
     },
     "execution_count": 51,
     "metadata": {},
     "output_type": "execute_result"
    }
   ],
   "source": [
    "#43.답변\n",
    "string = 'hello'\n",
    "string.capitalize()"
   ]
  },
  {
   "cell_type": "code",
   "execution_count": 54,
   "id": "ee185048",
   "metadata": {},
   "outputs": [
    {
     "data": {
      "text/plain": [
       "True"
      ]
     },
     "execution_count": 54,
     "metadata": {},
     "output_type": "execute_result"
    }
   ],
   "source": [
    "#44.답변 (오답)\n",
    "file_name = \"보고서.xlsx\"\n",
    "file_name.endswith('xlsx')"
   ]
  },
  {
   "cell_type": "code",
   "execution_count": 57,
   "id": "69ab69d0",
   "metadata": {},
   "outputs": [
    {
     "data": {
      "text/plain": [
       "True"
      ]
     },
     "execution_count": 57,
     "metadata": {},
     "output_type": "execute_result"
    }
   ],
   "source": [
    "#45.답변\n",
    "file_name = \"보고서.xlsx\"\n",
    "file_name.endswith((\"xlsx\",\"xls\"))"
   ]
  },
  {
   "cell_type": "code",
   "execution_count": 58,
   "id": "e65ce4bb",
   "metadata": {},
   "outputs": [
    {
     "data": {
      "text/plain": [
       "True"
      ]
     },
     "execution_count": 58,
     "metadata": {},
     "output_type": "execute_result"
    }
   ],
   "source": [
    "#46.답변\n",
    "file_name = \"2020_보고서.xlsx\"\n",
    "file_name.startswith(\"2020\")"
   ]
  },
  {
   "cell_type": "code",
   "execution_count": 60,
   "id": "2d4013d8",
   "metadata": {},
   "outputs": [
    {
     "name": "stdout",
     "output_type": "stream",
     "text": [
      "['hello', 'world']\n"
     ]
    }
   ],
   "source": [
    "#47.답변\n",
    "a = \"hello world\"\n",
    "print(a.split())"
   ]
  },
  {
   "cell_type": "code",
   "execution_count": 61,
   "id": "02503883",
   "metadata": {},
   "outputs": [
    {
     "name": "stdout",
     "output_type": "stream",
     "text": [
      "['btc', 'krw']\n"
     ]
    }
   ],
   "source": [
    "#48.답변\n",
    "ticker = \"btc_krw\"\n",
    "print(ticker.split(\"_\"))"
   ]
  },
  {
   "cell_type": "code",
   "execution_count": 62,
   "id": "4c2a753a",
   "metadata": {},
   "outputs": [
    {
     "name": "stdout",
     "output_type": "stream",
     "text": [
      "['2020', '05', '01']\n"
     ]
    }
   ],
   "source": [
    "#49.답변\n",
    "date = \"2020-05-01\"\n",
    "print(date.split(\"-\"))"
   ]
  },
  {
   "cell_type": "code",
   "execution_count": 63,
   "id": "4231e53f",
   "metadata": {},
   "outputs": [
    {
     "name": "stdout",
     "output_type": "stream",
     "text": [
      "039490\n"
     ]
    }
   ],
   "source": [
    "#50.답변\n",
    "data = \"039490     \"\n",
    "print(data.rstrip())"
   ]
  },
  {
   "cell_type": "code",
   "execution_count": null,
   "id": "8cf960a4",
   "metadata": {},
   "outputs": [],
   "source": [
    "#51.답변\n",
    "movie_rank = [\"닥터 스트레인지\", \"스플릿\", \"럭키\"]"
   ]
  },
  {
   "cell_type": "code",
   "execution_count": 65,
   "id": "defcb5aa",
   "metadata": {},
   "outputs": [
    {
     "name": "stdout",
     "output_type": "stream",
     "text": [
      "['닥터 스트레인지', '스플릿', '럭키', '배트맨']\n"
     ]
    }
   ],
   "source": [
    "#52.답변\n",
    "movie_rank = [\"닥터 스트레인지\", \"스플릿\", \"럭키\"]\n",
    "movie_rank.append(\"배트맨\")\n",
    "print(movie_rank)"
   ]
  },
  {
   "cell_type": "code",
   "execution_count": 66,
   "id": "bdb3bcba",
   "metadata": {},
   "outputs": [],
   "source": [
    "#53.답변 (오답)\n",
    "movie_rank = ['닥터 스트레인지', '스플릿', '럭키', '배트맨']\n",
    "movie_rank.insert(1,\"슈퍼맨\")"
   ]
  },
  {
   "cell_type": "code",
   "execution_count": 69,
   "id": "015915ce",
   "metadata": {
    "scrolled": true
   },
   "outputs": [
    {
     "name": "stdout",
     "output_type": "stream",
     "text": [
      "None\n"
     ]
    }
   ],
   "source": [
    "#54.답변 (오답)\n",
    "movie_rank = ['닥터 스트레인지', '슈퍼맨', '스플릿', '럭키', '배트맨']\n",
    "del movie_rank[3]\n",
    "print(movie_rank)"
   ]
  },
  {
   "cell_type": "code",
   "execution_count": null,
   "id": "77791d7b",
   "metadata": {},
   "outputs": [],
   "source": [
    "#55.답변\n",
    "movie_rank = ['닥터 스트레인지', '슈퍼맨', '스플릿', '배트맨']\n",
    "del movie_rank[2]\n",
    "del movie_rank[2]\n",
    "print(movie_rank)"
   ]
  },
  {
   "cell_type": "code",
   "execution_count": 71,
   "id": "e01b8406",
   "metadata": {},
   "outputs": [
    {
     "name": "stdout",
     "output_type": "stream",
     "text": [
      "['C', 'C++', 'JAVA', 'Python', 'Go', 'C#']\n"
     ]
    }
   ],
   "source": [
    "#56.답변\n",
    "lang1 = [\"C\", \"C++\", \"JAVA\"]\n",
    "lang2 = [\"Python\", \"Go\", \"C#\"]\n",
    "\n",
    "langs = lang1 + lang2\n",
    "print(langs)"
   ]
  },
  {
   "cell_type": "code",
   "execution_count": 73,
   "id": "763dc3ec",
   "metadata": {},
   "outputs": [
    {
     "name": "stdout",
     "output_type": "stream",
     "text": [
      "7\n",
      "1\n"
     ]
    }
   ],
   "source": [
    "#57.답변\n",
    "nums = [1, 2, 3, 4, 5, 6, 7]\n",
    "print(max(nums))\n",
    "print(min(nums))"
   ]
  },
  {
   "cell_type": "code",
   "execution_count": 74,
   "id": "9c0a3b64",
   "metadata": {},
   "outputs": [
    {
     "name": "stdout",
     "output_type": "stream",
     "text": [
      "15\n"
     ]
    }
   ],
   "source": [
    "#58.답변 (오답)\n",
    "nums = [1, 2, 3, 4, 5]\n",
    "print(sum(nums))"
   ]
  },
  {
   "cell_type": "code",
   "execution_count": 75,
   "id": "53727f8b",
   "metadata": {},
   "outputs": [
    {
     "data": {
      "text/plain": [
       "12"
      ]
     },
     "execution_count": 75,
     "metadata": {},
     "output_type": "execute_result"
    }
   ],
   "source": [
    "#59.답변\n",
    "cook = [\"피자\", \"김밥\", \"만두\", \"양념치킨\", \"족발\", \"피자\", \"김치만두\", \"쫄면\", \"소시지\", \"라면\", \"팥빙수\", \"김치전\"]\n",
    "len(cook)"
   ]
  },
  {
   "cell_type": "code",
   "execution_count": 78,
   "id": "b44238e4",
   "metadata": {},
   "outputs": [
    {
     "name": "stdout",
     "output_type": "stream",
     "text": [
      "3.0\n"
     ]
    }
   ],
   "source": [
    "#60.답변\n",
    "nums = [1, 2, 3, 4, 5]\n",
    "avg = sum(nums)/len(nums)\n",
    "print(avg)"
   ]
  },
  {
   "cell_type": "code",
   "execution_count": 80,
   "id": "356a5d61",
   "metadata": {},
   "outputs": [
    {
     "data": {
      "text/plain": [
       "[100, 130, 140, 150, 160, 170]"
      ]
     },
     "execution_count": 80,
     "metadata": {},
     "output_type": "execute_result"
    }
   ],
   "source": [
    "#61.답변\n",
    "price = ['20180728', 100, 130, 140, 150, 160, 170]\n",
    "price[1:]"
   ]
  },
  {
   "cell_type": "code",
   "execution_count": 84,
   "id": "b84dbbd0",
   "metadata": {},
   "outputs": [
    {
     "data": {
      "text/plain": [
       "[1, 3, 5, 7, 9]"
      ]
     },
     "execution_count": 84,
     "metadata": {},
     "output_type": "execute_result"
    }
   ],
   "source": [
    "#62.답변\n",
    "nums = [1, 2, 3, 4, 5, 6, 7, 8, 9, 10]\n",
    "nums[::2]"
   ]
  },
  {
   "cell_type": "code",
   "execution_count": 87,
   "id": "e7e59796",
   "metadata": {},
   "outputs": [
    {
     "data": {
      "text/plain": [
       "[2, 4, 6, 8, 10]"
      ]
     },
     "execution_count": 87,
     "metadata": {},
     "output_type": "execute_result"
    }
   ],
   "source": [
    "#63.답변\n",
    "nums = [1, 2, 3, 4, 5, 6, 7, 8, 9, 10]\n",
    "nums[1::2]"
   ]
  },
  {
   "cell_type": "code",
   "execution_count": 88,
   "id": "777cb246",
   "metadata": {},
   "outputs": [
    {
     "data": {
      "text/plain": [
       "[5, 4, 3, 2, 1]"
      ]
     },
     "execution_count": 88,
     "metadata": {},
     "output_type": "execute_result"
    }
   ],
   "source": [
    "#64.답변\n",
    "nums = [1, 2, 3, 4, 5]\n",
    "nums[::-1]"
   ]
  },
  {
   "cell_type": "code",
   "execution_count": 89,
   "id": "a3cbc548",
   "metadata": {},
   "outputs": [
    {
     "data": {
      "text/plain": [
       "'삼성전자 Naver'"
      ]
     },
     "execution_count": 89,
     "metadata": {},
     "output_type": "execute_result"
    }
   ],
   "source": [
    "#65.답변\n",
    "interest = ['삼성전자', 'LG전자', 'Naver']\n",
    "interest[0]+\" \"+interest[2]"
   ]
  },
  {
   "cell_type": "code",
   "execution_count": 91,
   "id": "69b3e6f2",
   "metadata": {},
   "outputs": [
    {
     "data": {
      "text/plain": [
       "'삼성전자 LG전자 Naver SK하이닉스 미래에셋대우'"
      ]
     },
     "execution_count": 91,
     "metadata": {},
     "output_type": "execute_result"
    }
   ],
   "source": [
    "#66.답변\n",
    "interest = ['삼성전자', 'LG전자', 'Naver', 'SK하이닉스', '미래에셋대우']\n",
    "\" \".join(interest)"
   ]
  },
  {
   "cell_type": "code",
   "execution_count": 92,
   "id": "39cf0bac",
   "metadata": {},
   "outputs": [
    {
     "data": {
      "text/plain": [
       "'삼성전자/LG전자/Naver/SK하이닉스/미래에셋대우'"
      ]
     },
     "execution_count": 92,
     "metadata": {},
     "output_type": "execute_result"
    }
   ],
   "source": [
    "#67.답변\n",
    "interest = ['삼성전자', 'LG전자', 'Naver', 'SK하이닉스', '미래에셋대우']\n",
    "\"/\".join(interest)"
   ]
  },
  {
   "cell_type": "code",
   "execution_count": 93,
   "id": "5a754513",
   "metadata": {},
   "outputs": [
    {
     "name": "stdout",
     "output_type": "stream",
     "text": [
      "삼성전자\n",
      "LG전자\n",
      "Naver\n",
      "SK하이닉스\n",
      "미래에셋대우\n"
     ]
    }
   ],
   "source": [
    "#68.답변\n",
    "interest = ['삼성전자', 'LG전자', 'Naver', 'SK하이닉스', '미래에셋대우']\n",
    "print(\"\\n\".join(interest))\n"
   ]
  },
  {
   "cell_type": "code",
   "execution_count": 94,
   "id": "2f89cf59",
   "metadata": {},
   "outputs": [
    {
     "name": "stdout",
     "output_type": "stream",
     "text": [
      "['삼성전자', 'LG전자', 'Naver']\n"
     ]
    }
   ],
   "source": [
    "#69.답변\n",
    "string = \"삼성전자/LG전자/Naver\"\n",
    "print(string.split(\"/\"))"
   ]
  },
  {
   "cell_type": "code",
   "execution_count": 97,
   "id": "9608b862",
   "metadata": {},
   "outputs": [
    {
     "name": "stdout",
     "output_type": "stream",
     "text": [
      "[2, 4, 3, 1, 5, 10, 9]\n"
     ]
    }
   ],
   "source": [
    "#70.답변\n",
    "data = [2, 4, 3, 1, 5, 10, 9]\n",
    "data.sort()\n",
    "print(data)"
   ]
  },
  {
   "cell_type": "code",
   "execution_count": null,
   "id": "fccbb5b6",
   "metadata": {},
   "outputs": [],
   "source": [
    "#71.답변\n",
    "my_variable = ()"
   ]
  },
  {
   "cell_type": "code",
   "execution_count": 98,
   "id": "17609c0b",
   "metadata": {},
   "outputs": [],
   "source": [
    "#72.답변\n",
    "movie_rank=(\"닥터 스트레인지\",\"스플릿\",\"럭키\")"
   ]
  },
  {
   "cell_type": "code",
   "execution_count": 99,
   "id": "8e6914ea",
   "metadata": {},
   "outputs": [],
   "source": [
    "#73.답변 (오답)\n",
    "movie_rank = (1,)"
   ]
  },
  {
   "cell_type": "code",
   "execution_count": null,
   "id": "2881b308",
   "metadata": {},
   "outputs": [],
   "source": [
    "#74.답변\n",
    "# 튜플은 값 수정이 불가능하기 때문이다."
   ]
  },
  {
   "cell_type": "code",
   "execution_count": null,
   "id": "ff1962f5",
   "metadata": {},
   "outputs": [],
   "source": [
    "#75.답변\n",
    "#튜플"
   ]
  },
  {
   "cell_type": "code",
   "execution_count": null,
   "id": "8c04b1d8",
   "metadata": {},
   "outputs": [],
   "source": [
    "#76.답변\n",
    "#다시 정의해야 함"
   ]
  },
  {
   "cell_type": "code",
   "execution_count": 100,
   "id": "d0520f21",
   "metadata": {},
   "outputs": [
    {
     "name": "stdout",
     "output_type": "stream",
     "text": [
      "<class 'list'>\n"
     ]
    }
   ],
   "source": [
    "#77.답변\n",
    "interest = ('삼성전자', 'LG전자', 'SK Hynix')\n",
    "data = list(interest)\n",
    "print(type(data))"
   ]
  },
  {
   "cell_type": "code",
   "execution_count": 101,
   "id": "cd356cfc",
   "metadata": {},
   "outputs": [
    {
     "name": "stdout",
     "output_type": "stream",
     "text": [
      "<class 'tuple'>\n"
     ]
    }
   ],
   "source": [
    "#78.답변\n",
    "interest = ['삼성전자', 'LG전자', 'SK Hynix']\n",
    "data = tuple(interest)\n",
    "print(type(data))"
   ]
  },
  {
   "cell_type": "code",
   "execution_count": null,
   "id": "228600ac",
   "metadata": {},
   "outputs": [],
   "source": [
    "#79.답변\n",
    "temp = ('apple', 'banana', 'cake')\n",
    "a, b, c = temp\n",
    "print(a, b, c)\n",
    "#모두가 apple banana cake값을 가진 튜플임"
   ]
  },
  {
   "cell_type": "code",
   "execution_count": 102,
   "id": "f28b38f0",
   "metadata": {
    "scrolled": true
   },
   "outputs": [
    {
     "name": "stdout",
     "output_type": "stream",
     "text": [
      "(2, 4, 6, 8, 10, 12, 14, 16, 18, 20, 22, 24, 26, 28, 30, 32, 34, 36, 38, 40, 42, 44, 46, 48, 50, 52, 54, 56, 58, 60, 62, 64, 66, 68, 70, 72, 74, 76, 78, 80, 82, 84, 86, 88, 90, 92, 94, 96, 98)\n"
     ]
    }
   ],
   "source": [
    "#80.답변 (오답)\n",
    "data = tuple(range(2, 100, 2))\n",
    "print( data )"
   ]
  },
  {
   "cell_type": "code",
   "execution_count": 24,
   "id": "ea110663",
   "metadata": {
    "ExecuteTime": {
     "end_time": "2023-11-27T11:17:14.655590Z",
     "start_time": "2023-11-27T11:17:14.649109Z"
    }
   },
   "outputs": [
    {
     "name": "stdout",
     "output_type": "stream",
     "text": [
      "7.8\n"
     ]
    }
   ],
   "source": [
    "#81. 답변\n",
    "scores = [8.8, 8.9, 8.7, 9.2, 9.3, 9.7, 9.9, 9.5, 7.8, 9.4]\n",
    "*valid_score, a, b = scores\n",
    "print(valid_score)"
   ]
  },
  {
   "cell_type": "code",
   "execution_count": 3,
   "id": "4a52aff9",
   "metadata": {
    "ExecuteTime": {
     "end_time": "2023-11-27T10:55:15.835615Z",
     "start_time": "2023-11-27T10:55:15.830233Z"
    }
   },
   "outputs": [
    {
     "name": "stdout",
     "output_type": "stream",
     "text": [
      "[8.8, 8.9, 8.7, 9.2, 9.3, 9.7, 9.9, 9.5]\n"
     ]
    }
   ],
   "source": [
    "#82. 답변\n",
    "scores = [8.8, 8.9, 8.7, 9.2, 9.3, 9.7, 9.9, 9.5, 7.8, 9.4]\n",
    "*valid_score, a, b = scores\n",
    "print(valid_score)"
   ]
  },
  {
   "cell_type": "code",
   "execution_count": null,
   "id": "111be664",
   "metadata": {},
   "outputs": [],
   "source": [
    "#83. 답변\n",
    "scores = [8.8, 8.9, 8.7, 9.2, 9.3, 9.7, 9.9, 9.5, 7.8, 9.4]\n",
    "a, *valid_score, b = scores\n",
    "print(valid_score)"
   ]
  },
  {
   "cell_type": "code",
   "execution_count": null,
   "id": "6a4381cd",
   "metadata": {},
   "outputs": [],
   "source": [
    "#84. 답변\n",
    "temp = {}"
   ]
  },
  {
   "cell_type": "code",
   "execution_count": null,
   "id": "49ea803b",
   "metadata": {},
   "outputs": [],
   "source": [
    "#85. 답변\n",
    "icecream = {\"메로나\": 1000, \"폴라포\": 1200, \"빵빠레\": 1800}"
   ]
  },
  {
   "cell_type": "code",
   "execution_count": 4,
   "id": "92d748dd",
   "metadata": {
    "ExecuteTime": {
     "end_time": "2023-11-27T10:58:33.412741Z",
     "start_time": "2023-11-27T10:58:33.407489Z"
    }
   },
   "outputs": [
    {
     "name": "stdout",
     "output_type": "stream",
     "text": [
      "{'메로나': 1000, '폴라포': 1200, '빵빠레': 1800, '죠스바': 1200, '월드콘': 1500}\n"
     ]
    }
   ],
   "source": [
    "#86 답변\n",
    "icecream = {\"메로나\": 1000, \"폴라포\": 1200, \"빵빠레\": 1800}\n",
    "icecream['죠스바'] = 1200\n",
    "icecream['월드콘'] = 1500\n",
    "print(icecream)"
   ]
  },
  {
   "cell_type": "code",
   "execution_count": 5,
   "id": "169a8343",
   "metadata": {
    "ExecuteTime": {
     "end_time": "2023-11-27T10:59:47.906370Z",
     "start_time": "2023-11-27T10:59:47.901295Z"
    }
   },
   "outputs": [
    {
     "name": "stdout",
     "output_type": "stream",
     "text": [
      "1000\n"
     ]
    }
   ],
   "source": [
    "#87.답변\n",
    "print(icecream['메로나'])"
   ]
  },
  {
   "cell_type": "code",
   "execution_count": 6,
   "id": "22b2db3a",
   "metadata": {
    "ExecuteTime": {
     "end_time": "2023-11-27T11:00:35.024215Z",
     "start_time": "2023-11-27T11:00:35.020188Z"
    }
   },
   "outputs": [
    {
     "name": "stdout",
     "output_type": "stream",
     "text": [
      "{'메로나': 1300, '폴라포': 1200, '빵빠레': 1800, '죠스바': 1200, '월드콘': 1500}\n"
     ]
    }
   ],
   "source": [
    "#88. 답변\n",
    "icecream['메로나'] = 1300\n",
    "print(icecream)"
   ]
  },
  {
   "cell_type": "code",
   "execution_count": 8,
   "id": "7bc63451",
   "metadata": {
    "ExecuteTime": {
     "end_time": "2023-11-27T11:01:26.226548Z",
     "start_time": "2023-11-27T11:01:24.942195Z"
    }
   },
   "outputs": [
    {
     "ename": "KeyError",
     "evalue": "'메로나'",
     "output_type": "error",
     "traceback": [
      "\u001b[1;31m---------------------------------------------------------------------------\u001b[0m",
      "\u001b[1;31mKeyError\u001b[0m                                  Traceback (most recent call last)",
      "Cell \u001b[1;32mIn[8], line 2\u001b[0m\n\u001b[0;32m      1\u001b[0m \u001b[38;5;66;03m#89. 답변\u001b[39;00m\n\u001b[1;32m----> 2\u001b[0m \u001b[38;5;28;01mdel\u001b[39;00m icecream[\u001b[38;5;124m'\u001b[39m\u001b[38;5;124m메로나\u001b[39m\u001b[38;5;124m'\u001b[39m]\n\u001b[0;32m      3\u001b[0m \u001b[38;5;28mprint\u001b[39m(icecream)\n",
      "\u001b[1;31mKeyError\u001b[0m: '메로나'"
     ]
    }
   ],
   "source": [
    "#89. 답변\n",
    "del icecream['메로나']\n",
    "print(icecream)"
   ]
  },
  {
   "cell_type": "code",
   "execution_count": null,
   "id": "3ed73096",
   "metadata": {},
   "outputs": [],
   "source": [
    "#90. 답변\n",
    "#딕셔너리에 '누가바' 키가 없어서 오류가 발생  "
   ]
  },
  {
   "cell_type": "code",
   "execution_count": 11,
   "id": "5480fed8",
   "metadata": {
    "ExecuteTime": {
     "end_time": "2023-11-27T11:05:58.009601Z",
     "start_time": "2023-11-27T11:05:58.005082Z"
    }
   },
   "outputs": [
    {
     "name": "stdout",
     "output_type": "stream",
     "text": [
      "{'메로나': [300, 20], '비비빅': [400, 3], '죠스바': [250, 100]}\n"
     ]
    }
   ],
   "source": [
    "#91. 답변\n",
    "inventory = {\"메로나\":[300,20],\"비비빅\":[400,3],\"죠스바\":[250,100]}\n",
    "print(inventory)"
   ]
  },
  {
   "cell_type": "code",
   "execution_count": 12,
   "id": "6df9ac1e",
   "metadata": {
    "ExecuteTime": {
     "end_time": "2023-11-27T11:06:41.168045Z",
     "start_time": "2023-11-27T11:06:41.163238Z"
    }
   },
   "outputs": [
    {
     "name": "stdout",
     "output_type": "stream",
     "text": [
      "[250, 100]\n"
     ]
    }
   ],
   "source": [
    "#92. 답변\n",
    "inventory = {\"메로나\":[300,20],\"비비빅\":[400,3],\"죠스바\":[250,100]}\n",
    "print(inventory['죠스바'][0])"
   ]
  },
  {
   "cell_type": "code",
   "execution_count": null,
   "id": "581eb15b",
   "metadata": {},
   "outputs": [],
   "source": [
    "#93. 답변\n",
    "inventory = {\"메로나\":[300,20],\"비비빅\":[400,3],\"죠스바\":[250,100]}\n",
    "print(inventory['죠스바'][1])"
   ]
  },
  {
   "cell_type": "code",
   "execution_count": null,
   "id": "2b50a438",
   "metadata": {},
   "outputs": [],
   "source": [
    "#94. 답변\n",
    "inventory['월드콘'] = [500,7]"
   ]
  },
  {
   "cell_type": "code",
   "execution_count": 13,
   "id": "482b0a77",
   "metadata": {
    "ExecuteTime": {
     "end_time": "2023-11-27T11:08:49.392183Z",
     "start_time": "2023-11-27T11:08:49.383247Z"
    }
   },
   "outputs": [
    {
     "data": {
      "text/plain": [
       "dict_keys(['탱크보이', '폴라포', '빵빠레', '월드콘', '메로나'])"
      ]
     },
     "execution_count": 13,
     "metadata": {},
     "output_type": "execute_result"
    }
   ],
   "source": [
    "#95. 답변\n",
    "icecream = {'탱크보이': 1200, '폴라포': 1200, '빵빠레': 1800, '월드콘': 1500, '메로나': 1000}\n",
    "print(list(icecream.keys()))"
   ]
  },
  {
   "cell_type": "code",
   "execution_count": 14,
   "id": "bde53b8e",
   "metadata": {
    "ExecuteTime": {
     "end_time": "2023-11-27T11:09:30.833251Z",
     "start_time": "2023-11-27T11:09:30.828698Z"
    }
   },
   "outputs": [
    {
     "name": "stdout",
     "output_type": "stream",
     "text": [
      "[1200, 1200, 1800, 1500, 1000]\n"
     ]
    }
   ],
   "source": [
    "#96. 답변\n",
    "icecream = {'탱크보이': 1200, '폴라포': 1200, '빵빠레': 1800, '월드콘': 1500, '메로나': 1000}\n",
    "print(list(icecream.values()))"
   ]
  },
  {
   "cell_type": "code",
   "execution_count": 28,
   "id": "83efbccc",
   "metadata": {
    "ExecuteTime": {
     "end_time": "2023-11-27T11:25:35.098657Z",
     "start_time": "2023-11-27T11:25:35.092657Z"
    }
   },
   "outputs": [
    {
     "data": {
      "text/plain": [
       "6700"
      ]
     },
     "execution_count": 28,
     "metadata": {},
     "output_type": "execute_result"
    }
   ],
   "source": [
    "#97. 답변\n",
    "icecream = {'탱크보이': 1200, '폴라포': 1200, '빵빠레': 1800, '월드콘': 1500, '메로나': 1000}\n",
    "sum(list(icecream.values()))"
   ]
  },
  {
   "cell_type": "code",
   "execution_count": 31,
   "id": "4eb9ea6f",
   "metadata": {
    "ExecuteTime": {
     "end_time": "2023-11-27T11:27:26.047349Z",
     "start_time": "2023-11-27T11:27:26.042544Z"
    }
   },
   "outputs": [
    {
     "name": "stdout",
     "output_type": "stream",
     "text": [
      "{'탱크보이': 1200, '폴라포': 1200, '빵빠레': 1800, '월드콘': 1500, '메로나': 1000, '팥빙수': 2700, '아맛나': 1000}\n"
     ]
    }
   ],
   "source": [
    "#98. 답변\n",
    "icecream = {'탱크보이': 1200, '폴라포': 1200, '빵빠레': 1800, '월드콘': 1500, '메로나': 1000}\n",
    "new_product = {'팥빙수':2700, '아맛나':1000}\n",
    "icecream.update(new_product)\n",
    "print(icecream)"
   ]
  },
  {
   "cell_type": "code",
   "execution_count": 33,
   "id": "257d2fc0",
   "metadata": {
    "ExecuteTime": {
     "end_time": "2023-11-27T11:35:04.407136Z",
     "start_time": "2023-11-27T11:35:04.402271Z"
    }
   },
   "outputs": [
    {
     "name": "stdout",
     "output_type": "stream",
     "text": [
      "{'apple': 300, 'pear': 250, 'peach': 400}\n"
     ]
    }
   ],
   "source": [
    "#99. 답변 (오답)\n",
    "keys = (\"apple\", \"pear\", \"peach\")\n",
    "vals = (300, 250, 400)\n",
    "result = dict(zip(keys, vals))\n",
    "print(result)"
   ]
  },
  {
   "cell_type": "code",
   "execution_count": null,
   "id": "d54c1aed",
   "metadata": {},
   "outputs": [],
   "source": [
    "#100. 답변 (오답)\n",
    "date = ['09/05', '09/06', '09/07', '09/08', '09/09']\n",
    "close_price = [10500, 10300, 10100, 10800, 11000]\n",
    "close_table = dict(zip(date, close_price))\n",
    "print(close_table)"
   ]
  },
  {
   "cell_type": "code",
   "execution_count": null,
   "id": "6c8b118d",
   "metadata": {},
   "outputs": [],
   "source": [
    "#101. 답변\n",
    "#bool 타입"
   ]
  },
  {
   "cell_type": "code",
   "execution_count": null,
   "id": "88c427e8",
   "metadata": {},
   "outputs": [],
   "source": [
    "#102. 답변\n",
    "#False"
   ]
  },
  {
   "cell_type": "code",
   "execution_count": null,
   "id": "377abf66",
   "metadata": {},
   "outputs": [],
   "source": [
    "#103. 답변\n",
    "True"
   ]
  },
  {
   "cell_type": "code",
   "execution_count": null,
   "id": "614dc6f9",
   "metadata": {},
   "outputs": [],
   "source": [
    "#104. 답변\n",
    "True"
   ]
  },
  {
   "cell_type": "code",
   "execution_count": 1,
   "id": "4852199c",
   "metadata": {
    "ExecuteTime": {
     "end_time": "2023-11-28T07:38:30.188717Z",
     "start_time": "2023-11-28T07:38:30.150197Z"
    }
   },
   "outputs": [
    {
     "name": "stdout",
     "output_type": "stream",
     "text": [
      "True\n"
     ]
    },
    {
     "data": {
      "text/plain": [
       "True"
      ]
     },
     "execution_count": 1,
     "metadata": {},
     "output_type": "execute_result"
    }
   ],
   "source": [
    "#105. 답변\n",
    "True"
   ]
  },
  {
   "cell_type": "code",
   "execution_count": null,
   "id": "e875a7a3",
   "metadata": {},
   "outputs": [],
   "source": [
    "#106. 답변\n",
    "#비교 연산자가 이상하게 삽입됨 >= 가 맞음"
   ]
  },
  {
   "cell_type": "code",
   "execution_count": null,
   "id": "3f20447d",
   "metadata": {},
   "outputs": [],
   "source": [
    "#107. 답변\n",
    "#아무것도 출력이 안 됨"
   ]
  },
  {
   "cell_type": "code",
   "execution_count": null,
   "id": "5ab5d46f",
   "metadata": {},
   "outputs": [],
   "source": [
    "#108. 답변\n",
    "#if 부분의 조건문이 False 이므로 else 구문의 \"Hi, there\""
   ]
  },
  {
   "cell_type": "code",
   "execution_count": null,
   "id": "68836806",
   "metadata": {},
   "outputs": [],
   "source": [
    "#109. 답변\n",
    "#if 부분이 True이므로 1과 2가 실행됨"
   ]
  },
  {
   "cell_type": "code",
   "execution_count": null,
   "id": "a48f1fd3",
   "metadata": {},
   "outputs": [],
   "source": [
    "#110. 답변\n",
    "# 3과 5가 출력됨"
   ]
  },
  {
   "cell_type": "code",
   "execution_count": null,
   "id": "72893dec",
   "metadata": {},
   "outputs": [],
   "source": [
    "#111. 답변\n",
    "user = input(\"\")\n",
    "print(user * 2)"
   ]
  },
  {
   "cell_type": "code",
   "execution_count": 2,
   "id": "304df032",
   "metadata": {
    "ExecuteTime": {
     "end_time": "2023-11-28T10:55:48.043544Z",
     "start_time": "2023-11-28T10:55:46.598547Z"
    }
   },
   "outputs": [
    {
     "name": "stdout",
     "output_type": "stream",
     "text": [
      "숫자를 입력하세요: 10\n",
      "20\n"
     ]
    }
   ],
   "source": [
    "#112. 답변\n",
    "num = input(\"숫자를 입력하세요: \")\n",
    "print(int(num)+10)"
   ]
  },
  {
   "cell_type": "code",
   "execution_count": 5,
   "id": "eae7878e",
   "metadata": {
    "ExecuteTime": {
     "end_time": "2023-11-28T10:57:43.001255Z",
     "start_time": "2023-11-28T10:57:39.757487Z"
    }
   },
   "outputs": [
    {
     "name": "stdout",
     "output_type": "stream",
     "text": [
      "입력: 20\n",
      "짝수\n"
     ]
    }
   ],
   "source": [
    "#113. 답변\n",
    "num = input(\"입력: \")\n",
    "if int(num)%2 == 1:\n",
    "    print (\"홀수\")\n",
    "else :\n",
    "    print (\"짝수\")"
   ]
  },
  {
   "cell_type": "code",
   "execution_count": 8,
   "id": "cefe54af",
   "metadata": {
    "ExecuteTime": {
     "end_time": "2023-11-28T10:59:26.652994Z",
     "start_time": "2023-11-28T10:59:24.084346Z"
    }
   },
   "outputs": [
    {
     "name": "stdout",
     "output_type": "stream",
     "text": [
      "입력값: 267\n",
      "255\n"
     ]
    }
   ],
   "source": [
    "#114. 답변\n",
    "num = input(\"입력값: \")\n",
    "if int(num) + 20 > 255:\n",
    "    print(255)\n",
    "else :\n",
    "    print(int(num)+20)"
   ]
  },
  {
   "cell_type": "code",
   "execution_count": 11,
   "id": "4edfe03a",
   "metadata": {
    "ExecuteTime": {
     "end_time": "2023-11-28T11:01:28.375943Z",
     "start_time": "2023-11-28T11:01:26.540214Z"
    }
   },
   "outputs": [
    {
     "name": "stdout",
     "output_type": "stream",
     "text": [
      "입력값: 40\n",
      "20\n"
     ]
    }
   ],
   "source": [
    "#115. 답변\n",
    "num = input(\"입력값: \")\n",
    "if int(num) - 20 > 255:\n",
    "    print(255)\n",
    "elif int(num) - 20 < 0:\n",
    "    print(0)\n",
    "else :\n",
    "    print(int(num)-20)"
   ]
  },
  {
   "cell_type": "code",
   "execution_count": 12,
   "id": "83a23564",
   "metadata": {
    "ExecuteTime": {
     "end_time": "2023-11-28T11:03:19.991136Z",
     "start_time": "2023-11-28T11:03:15.181365Z"
    }
   },
   "outputs": [
    {
     "name": "stdout",
     "output_type": "stream",
     "text": [
      "현재시간: 02:00\n",
      "정각 입니다.\n"
     ]
    }
   ],
   "source": [
    "#116. 답변\n",
    "time = input(\"현재시간: \")\n",
    "if time[-2:]==\"00\" :\n",
    "    print(\"정각 입니다.\")\n",
    "else:\n",
    "    print(\"정각이 아닙니다.\")"
   ]
  },
  {
   "cell_type": "code",
   "execution_count": 14,
   "id": "6691b7ed",
   "metadata": {
    "ExecuteTime": {
     "end_time": "2023-11-28T11:04:51.038438Z",
     "start_time": "2023-11-28T11:04:48.234091Z"
    }
   },
   "outputs": [
    {
     "name": "stdout",
     "output_type": "stream",
     "text": [
      "좋아하는 과일은? 키위\n",
      "오답입니다\n"
     ]
    }
   ],
   "source": [
    "#117. 답변\n",
    "fruit = [\"사과\", \"포도\", \"홍시\"]\n",
    "name = input(\"좋아하는 과일은? \")\n",
    "if name in fruit :\n",
    "    print(\"정답입니다\")\n",
    "else:\n",
    "    print(\"오답입니다\")"
   ]
  },
  {
   "cell_type": "code",
   "execution_count": 17,
   "id": "64734fa4",
   "metadata": {
    "ExecuteTime": {
     "end_time": "2023-11-28T11:08:24.783225Z",
     "start_time": "2023-11-28T11:08:21.095955Z"
    }
   },
   "outputs": [
    {
     "name": "stdout",
     "output_type": "stream",
     "text": [
      "종목명: Microsoft\n",
      "투자 경고 종목입니다\n"
     ]
    }
   ],
   "source": [
    "#118. 답변\n",
    "warn_investment_list = [\"Microsoft\", \"Google\", \"Naver\", \"Kakao\", \"SAMSUNG\", \"LG\"]\n",
    "name = input(\"종목명: \")\n",
    "if name in warn_investment_list:\n",
    "    print(\"투자 경고 종목입니다\")\n",
    "else:\n",
    "    print(\"투자 경고 종목이 아닙니다.\")"
   ]
  },
  {
   "cell_type": "code",
   "execution_count": 24,
   "id": "406d5e39",
   "metadata": {
    "ExecuteTime": {
     "end_time": "2023-11-28T11:12:25.926924Z",
     "start_time": "2023-11-28T11:12:23.751035Z"
    }
   },
   "outputs": [
    {
     "name": "stdout",
     "output_type": "stream",
     "text": [
      "제가좋아하는계절은: 봄\n",
      "정답입니다\n"
     ]
    }
   ],
   "source": [
    "#119. 답변\n",
    "fruit = {\"봄\" : \"딸기\", \"여름\" : \"토마토\", \"가을\" : \"사과\"}\n",
    "season = list(fruit.keys())\n",
    "name = input(\"제가좋아하는계절은: \")\n",
    "if name in season:\n",
    "    print(\"정답입니다\")\n",
    "else:\n",
    "    print(\"오답입니다\")"
   ]
  },
  {
   "cell_type": "code",
   "execution_count": 25,
   "id": "3ecf438a",
   "metadata": {
    "ExecuteTime": {
     "end_time": "2023-11-28T11:13:45.671449Z",
     "start_time": "2023-11-28T11:13:43.103368Z"
    }
   },
   "outputs": [
    {
     "name": "stdout",
     "output_type": "stream",
     "text": [
      "좋아하는과일은? 딸기\n",
      "정답입니다\n"
     ]
    }
   ],
   "source": [
    "#120. 답변\n",
    "fruit = {\"봄\" : \"딸기\", \"여름\" : \"토마토\", \"가을\" : \"사과\"}\n",
    "fruit_name = list(fruit.values())\n",
    "name = input(\"좋아하는과일은? \")\n",
    "if name in fruit_name:\n",
    "    print(\"정답입니다\")\n",
    "else:\n",
    "    print(\"오답입니다\")"
   ]
  },
  {
   "cell_type": "code",
   "execution_count": 31,
   "id": "0cb7ecc3",
   "metadata": {
    "ExecuteTime": {
     "end_time": "2023-11-28T11:47:22.904476Z",
     "start_time": "2023-11-28T11:47:21.242182Z"
    }
   },
   "outputs": [
    {
     "name": "stdout",
     "output_type": "stream",
     "text": [
      "알파벳 입력:a\n",
      "A\n"
     ]
    }
   ],
   "source": [
    "#121. 답변\n",
    "alpha = input(\"알파벳 입력:\")\n",
    "if alpha.islower:\n",
    "    print(alpha.upper())\n",
    "else:\n",
    "    print(alpha.lower())"
   ]
  },
  {
   "cell_type": "code",
   "execution_count": 36,
   "id": "f983af31",
   "metadata": {
    "ExecuteTime": {
     "end_time": "2023-11-28T11:57:53.627111Z",
     "start_time": "2023-11-28T11:57:51.076136Z"
    }
   },
   "outputs": [
    {
     "name": "stdout",
     "output_type": "stream",
     "text": [
      "score:54\n",
      "C\n"
     ]
    }
   ],
   "source": [
    "#122. 답변\n",
    "score = int(input(\"score:\"))\n",
    "if score > 80 and score <= 100 :\n",
    "    print(\"A\")\n",
    "elif score > 60 and score <=80 :\n",
    "    print(\"B\")\n",
    "elif score > 40 and score <=60 :\n",
    "    print(\"C\")\n",
    "elif score > 20 and score <=40 :\n",
    "    print(\"D\")\n",
    "else:\n",
    "    print(\"E\")"
   ]
  },
  {
   "cell_type": "code",
   "execution_count": 40,
   "id": "31d61acc",
   "metadata": {
    "ExecuteTime": {
     "end_time": "2023-11-28T12:07:38.070380Z",
     "start_time": "2023-11-28T12:07:31.885091Z"
    }
   },
   "outputs": [
    {
     "name": "stdout",
     "output_type": "stream",
     "text": [
      "입력:121 달러\n",
      "141207 원\n"
     ]
    }
   ],
   "source": [
    "#123. 답변\n",
    "#공백을 넣는다고 가정하니까 split을 써야함\n",
    "\n",
    "first = input(\"입력:\")\n",
    "money= int(first.split(\" \")[0])\n",
    "curr = first.split(\" \")[1]\n",
    "if curr == \"달러\" :\n",
    "    print(str(money*1167)+\" 원\")\n",
    "elif curr == \"엔\" :\n",
    "    print(str(money*1.096)+\" 원\")\n",
    "elif curr == \"유로\" :\n",
    "    print(str(money*1268)+\" 원\")\n",
    "elif curr == \"위안\" :\n",
    "    print(str(money*171)+\" 원\")"
   ]
  },
  {
   "cell_type": "code",
   "execution_count": 42,
   "id": "a936e743",
   "metadata": {
    "ExecuteTime": {
     "end_time": "2023-11-28T12:11:13.392103Z",
     "start_time": "2023-11-28T12:11:11.734920Z"
    }
   },
   "outputs": [
    {
     "name": "stdout",
     "output_type": "stream",
     "text": [
      "number1: 1\n",
      "number2: 2\n",
      "number3: 3\n",
      "3\n"
     ]
    }
   ],
   "source": [
    "#124. 답변\n",
    "first = int(input(\"number1: \"))\n",
    "second = int(input(\"number2: \"))\n",
    "third = int(input(\"number3: \"))\n",
    "arr = [first,second,third]\n",
    "print(max(arr))\n"
   ]
  },
  {
   "cell_type": "code",
   "execution_count": 43,
   "id": "0a800eb2",
   "metadata": {
    "ExecuteTime": {
     "end_time": "2023-11-28T12:15:25.465270Z",
     "start_time": "2023-11-28T12:15:18.140885Z"
    }
   },
   "outputs": [
    {
     "name": "stdout",
     "output_type": "stream",
     "text": [
      "휴대전화 번호 입력: 011-5544-5342\n",
      "당신은 SKT 사용자입니다.\n"
     ]
    }
   ],
   "source": [
    "#125. 답변\n",
    "mobile = input(\"휴대전화 번호 입력: \")\n",
    "digit = mobile.split(\"-\")[0]\n",
    "\n",
    "if digit == \"011\":\n",
    "    print(\"당신은 SKT 사용자입니다.\")\n",
    "elif digit == \"016\":\n",
    "    print(\"당신은 KT 사용자입니다.\")\n",
    "elif digit == \"019\":\n",
    "    print(\"당신은 LGU 사용자입니다.\")\n",
    "else:\n",
    "    print(\"알수없음\")"
   ]
  },
  {
   "cell_type": "code",
   "execution_count": 44,
   "id": "0030c46b",
   "metadata": {
    "ExecuteTime": {
     "end_time": "2023-11-28T12:25:46.787434Z",
     "start_time": "2023-11-28T12:25:43.031974Z"
    }
   },
   "outputs": [
    {
     "name": "stdout",
     "output_type": "stream",
     "text": [
      "우편번호: 01234\n",
      "강북구\n"
     ]
    }
   ],
   "source": [
    "#126. 답변\n",
    "name = input(\"우편번호: \")\n",
    "location = name[2]\n",
    "if location == \"0\" or \"1\" or \"2\":\n",
    "    print(\"강북구\")\n",
    "elif location == \"3\" or \"4\" or \"5\":\n",
    "    print(\"도봉구\")\n",
    "elif location == \"6\"or \"7\" or \"8\" or \"9\":\n",
    "    print(\"노원구\")\n"
   ]
  },
  {
   "cell_type": "code",
   "execution_count": 46,
   "id": "b4ee0e09",
   "metadata": {
    "ExecuteTime": {
     "end_time": "2023-11-28T12:28:35.379410Z",
     "start_time": "2023-11-28T12:28:31.537220Z"
    }
   },
   "outputs": [
    {
     "name": "stdout",
     "output_type": "stream",
     "text": [
      "주민등록번호: 2121344-1234414\n",
      "남자\n"
     ]
    }
   ],
   "source": [
    "#127. 답변\n",
    "social_id = input(\"주민등록번호: \")\n",
    "back = social_id.split(\"-\")[1][0]\n",
    "if back == \"1\" or \"3\":\n",
    "    print(\"남자\")\n",
    "else:\n",
    "    print(\"여자\")"
   ]
  },
  {
   "cell_type": "code",
   "execution_count": 51,
   "id": "8d3d3113",
   "metadata": {
    "ExecuteTime": {
     "end_time": "2023-11-28T12:33:58.649277Z",
     "start_time": "2023-11-28T12:33:50.532246Z"
    }
   },
   "outputs": [
    {
     "name": "stdout",
     "output_type": "stream",
     "text": [
      "주민등록번호: 121211-1034455\n",
      "서울 입니다.\n"
     ]
    }
   ],
   "source": [
    "#128. 답변\n",
    "social_id = input(\"주민등록번호: \")\n",
    "back = social_id.split(\"-\")[1][1:3]\n",
    "num = int(back.replace(\"0\",\"\"))\n",
    "if num <= 8:\n",
    "    print(\"서울 입니다.\")\n",
    "elif num > 8 and num <=12:\n",
    "    print(\"서울이 아닙니다.\")"
   ]
  },
  {
   "cell_type": "code",
   "execution_count": 54,
   "id": "1ec918e2",
   "metadata": {
    "ExecuteTime": {
     "end_time": "2023-11-28T12:47:09.120888Z",
     "start_time": "2023-11-28T12:47:04.111213Z"
    }
   },
   "outputs": [
    {
     "name": "stdout",
     "output_type": "stream",
     "text": [
      "주민등록번호: 123456-1234567\n",
      "유효하지 않은 주민등록번호입니다.\n"
     ]
    }
   ],
   "source": [
    "#129. 답변\n",
    "social_id = input(\"주민등록번호: \")\n",
    "front = social_id.split(\"-\")[0]\n",
    "back = social_id.split(\"-\")[1]\n",
    "# 1차 계산\n",
    "first = (int(front[0])*2+int(front[1])*3+int(front[2])*4+int(front[3])*5+int(front[4])*6+int(front[5])*7+int(back[0])*8+int(back[1])*9+int(back[2])*2+int(back[3])*3+int(back[4])*4+int(back[5])*5)/11\n",
    "if 11-first == int(back[6]):\n",
    "    print(\"유효한 주민등록번호입니다.\")\n",
    "else:\n",
    "    print(\"유효하지 않은 주민등록번호입니다.\")"
   ]
  },
  {
   "cell_type": "code",
   "execution_count": 56,
   "id": "9a6f060b",
   "metadata": {
    "ExecuteTime": {
     "end_time": "2023-11-28T12:55:38.926523Z",
     "start_time": "2023-11-28T12:55:38.136459Z"
    }
   },
   "outputs": [
    {
     "name": "stdout",
     "output_type": "stream",
     "text": [
      "상승장\n"
     ]
    }
   ],
   "source": [
    "#130. 답변\n",
    "import requests\n",
    "btc = requests.get(\"https://api.bithumb.com/public/ticker/\").json()['data']\n",
    "#변동폭\n",
    "change = int(btc['max_price'])-int(btc['min_price'])\n",
    "if int(btc['opening_price'])+change > int(btc['max_price']):\n",
    "    print(\"상승장\")\n",
    "else:\n",
    "    print(\"하락장\")"
   ]
  },
  {
   "cell_type": "code",
   "execution_count": null,
   "id": "45e299c3",
   "metadata": {},
   "outputs": [],
   "source": [
    "#131. 답변\n",
    "# 변수라는 단어가 세번 출력됨"
   ]
  },
  {
   "cell_type": "code",
   "execution_count": null,
   "id": "6fb45281",
   "metadata": {},
   "outputs": [],
   "source": [
    "#132. 답변\n",
    "# '#####'이 세번 출력됨"
   ]
  },
  {
   "cell_type": "code",
   "execution_count": null,
   "id": "c23f0247",
   "metadata": {
    "ExecuteTime": {
     "end_time": "2023-11-29T08:24:38.623853Z",
     "start_time": "2023-11-29T08:24:38.618355Z"
    }
   },
   "outputs": [],
   "source": [
    "#133. 답변\n",
    "print(\"A\")\n",
    "print(\"B\")\n",
    "print(\"C\")"
   ]
  },
  {
   "cell_type": "code",
   "execution_count": 1,
   "id": "d0572caf",
   "metadata": {
    "ExecuteTime": {
     "end_time": "2023-11-29T08:24:38.623853Z",
     "start_time": "2023-11-29T08:24:38.618355Z"
    }
   },
   "outputs": [
    {
     "name": "stdout",
     "output_type": "stream",
     "text": [
      "출력:A\n",
      "출력:B\n",
      "출력:C\n"
     ]
    }
   ],
   "source": [
    "#134. 답변\n",
    "print(\"출력:A\")\n",
    "print(\"출력:B\")\n",
    "print(\"출력:C\")"
   ]
  },
  {
   "cell_type": "code",
   "execution_count": 2,
   "id": "4e919d1e",
   "metadata": {
    "ExecuteTime": {
     "end_time": "2023-11-29T08:24:38.623853Z",
     "start_time": "2023-11-29T08:24:38.618355Z"
    }
   },
   "outputs": [
    {
     "name": "stdout",
     "output_type": "stream",
     "text": [
      "변환: a\n",
      "변환: b\n",
      "변환: c\n"
     ]
    }
   ],
   "source": [
    "#135. 답변\n",
    "a = \"A\"\n",
    "b = \"B\"\n",
    "c = \"C\"\n",
    "\n",
    "print(\"변환:\",a.lower())\n",
    "print(\"변환:\",b.lower())\n",
    "print(\"변환:\",c.lower())"
   ]
  },
  {
   "cell_type": "code",
   "execution_count": 3,
   "id": "eeba71c0",
   "metadata": {
    "ExecuteTime": {
     "end_time": "2023-11-29T08:24:38.623853Z",
     "start_time": "2023-11-29T08:24:38.618355Z"
    }
   },
   "outputs": [
    {
     "name": "stdout",
     "output_type": "stream",
     "text": [
      "10\n",
      "20\n",
      "30\n"
     ]
    }
   ],
   "source": [
    "#136. 답변\n",
    "nums = [10,20,30]\n",
    "for num in nums:\n",
    "    print(num)"
   ]
  },
  {
   "cell_type": "code",
   "execution_count": null,
   "id": "223cc436",
   "metadata": {
    "ExecuteTime": {
     "end_time": "2023-11-29T08:24:38.623853Z",
     "start_time": "2023-11-29T08:24:38.618355Z"
    }
   },
   "outputs": [],
   "source": [
    "#137. 답변\n",
    "nums = [10,20,30]\n",
    "for num in nums:\n",
    "    print(num)\n",
    "    print(\"-------\")"
   ]
  },
  {
   "cell_type": "code",
   "execution_count": 4,
   "id": "80eb51fe",
   "metadata": {
    "ExecuteTime": {
     "end_time": "2023-11-29T08:24:38.623853Z",
     "start_time": "2023-11-29T08:24:38.618355Z"
    }
   },
   "outputs": [
    {
     "name": "stdout",
     "output_type": "stream",
     "text": [
      "10\n",
      "-------\n",
      "20\n",
      "-------\n",
      "30\n",
      "-------\n"
     ]
    }
   ],
   "source": [
    "#138. 답변\n",
    "nums = [10,20,30]\n",
    "for num in nums:\n",
    "    print(num)\n",
    "    print(\"-------\")"
   ]
  },
  {
   "cell_type": "code",
   "execution_count": null,
   "id": "29382f1f",
   "metadata": {
    "ExecuteTime": {
     "end_time": "2023-11-29T08:24:38.623853Z",
     "start_time": "2023-11-29T08:24:38.618355Z"
    }
   },
   "outputs": [],
   "source": [
    "#139. 답변\n",
    "print(\"++++\")\n",
    "nums = [10,20,30]\n",
    "for num in nums:\n",
    "    print(num)"
   ]
  },
  {
   "cell_type": "code",
   "execution_count": 7,
   "id": "f1c0ad81",
   "metadata": {
    "ExecuteTime": {
     "end_time": "2023-11-29T08:24:38.623853Z",
     "start_time": "2023-11-29T08:24:38.618355Z"
    }
   },
   "outputs": [
    {
     "name": "stdout",
     "output_type": "stream",
     "text": [
      "-------\n",
      "-------\n",
      "-------\n",
      "-------\n"
     ]
    }
   ],
   "source": [
    "#140. 답변\n",
    "for num in range(0,4):\n",
    "    print(\"-------\")"
   ]
  },
  {
   "cell_type": "code",
   "execution_count": 8,
   "id": "4a5a82f9",
   "metadata": {
    "ExecuteTime": {
     "end_time": "2023-11-29T08:24:38.623853Z",
     "start_time": "2023-11-29T08:24:38.618355Z"
    }
   },
   "outputs": [
    {
     "name": "stdout",
     "output_type": "stream",
     "text": [
      "110\n",
      "210\n",
      "310\n"
     ]
    }
   ],
   "source": [
    "#141. 답변\n",
    "리스트 = [100, 200, 300]\n",
    "for money in 리스트:\n",
    "    print(money + 10)"
   ]
  },
  {
   "cell_type": "code",
   "execution_count": 9,
   "id": "3817bec5",
   "metadata": {
    "ExecuteTime": {
     "end_time": "2023-11-29T08:24:38.623853Z",
     "start_time": "2023-11-29T08:24:38.618355Z"
    }
   },
   "outputs": [
    {
     "name": "stdout",
     "output_type": "stream",
     "text": [
      "오늘의 메뉴: 김밥\n",
      "오늘의 메뉴: 라면\n",
      "오늘의 메뉴: 튀김\n"
     ]
    }
   ],
   "source": [
    "#142. 답변\n",
    "리스트 = [\"김밥\", \"라면\", \"튀김\"]\n",
    "for name in 리스트:\n",
    "    print(\"오늘의 메뉴:\",name)"
   ]
  },
  {
   "cell_type": "code",
   "execution_count": 10,
   "id": "4e183bd9",
   "metadata": {
    "ExecuteTime": {
     "end_time": "2023-11-29T08:24:38.623853Z",
     "start_time": "2023-11-29T08:24:38.618355Z"
    }
   },
   "outputs": [
    {
     "name": "stdout",
     "output_type": "stream",
     "text": [
      "6\n",
      "4\n",
      "4\n"
     ]
    }
   ],
   "source": [
    "#143. 답변\n",
    "리스트 = [\"SK하이닉스\", \"삼성전자\", \"LG전자\"]\n",
    "for name in 리스트:\n",
    "    print(len(name))"
   ]
  },
  {
   "cell_type": "code",
   "execution_count": 13,
   "id": "77cee3ad",
   "metadata": {
    "ExecuteTime": {
     "end_time": "2023-11-29T08:24:38.623853Z",
     "start_time": "2023-11-29T08:24:38.618355Z"
    }
   },
   "outputs": [
    {
     "name": "stdout",
     "output_type": "stream",
     "text": [
      "dog 3\n",
      "cat 3\n",
      "parrot 6\n"
     ]
    }
   ],
   "source": [
    "#144. 답변\n",
    "리스트 = ['dog', 'cat', 'parrot']\n",
    "for name in 리스트:\n",
    "    print(name +\" \"+ str(len(name)))\n"
   ]
  },
  {
   "cell_type": "code",
   "execution_count": 14,
   "id": "a9b7be54",
   "metadata": {
    "ExecuteTime": {
     "end_time": "2023-11-29T08:24:38.623853Z",
     "start_time": "2023-11-29T08:24:38.618355Z"
    }
   },
   "outputs": [
    {
     "name": "stdout",
     "output_type": "stream",
     "text": [
      "d\n",
      "c\n",
      "p\n"
     ]
    }
   ],
   "source": [
    "#145. 답변\n",
    "리스트 = ['dog', 'cat', 'parrot']\n",
    "for name in 리스트:\n",
    "    print(name[0]) "
   ]
  },
  {
   "cell_type": "code",
   "execution_count": 16,
   "id": "921a7273",
   "metadata": {
    "ExecuteTime": {
     "end_time": "2023-11-29T08:24:38.623853Z",
     "start_time": "2023-11-29T08:24:38.618355Z"
    }
   },
   "outputs": [
    {
     "name": "stdout",
     "output_type": "stream",
     "text": [
      "3 x 1\n",
      "3 x 2\n",
      "3 x 3\n"
     ]
    }
   ],
   "source": [
    "#146. 답변\n",
    "리스트 = [1, 2, 3]\n",
    "for num in 리스트:\n",
    "    print(\"3 x\",num)"
   ]
  },
  {
   "cell_type": "code",
   "execution_count": 18,
   "id": "f4be55ba",
   "metadata": {
    "ExecuteTime": {
     "end_time": "2023-11-29T08:24:38.623853Z",
     "start_time": "2023-11-29T08:24:38.618355Z"
    }
   },
   "outputs": [
    {
     "name": "stdout",
     "output_type": "stream",
     "text": [
      "3 x 1 = 3\n",
      "3 x 2 = 6\n",
      "3 x 3 = 9\n"
     ]
    }
   ],
   "source": [
    "#147. 답변\n",
    "리스트 = [1, 2, 3]\n",
    "for num in 리스트:\n",
    "    print(f\"3 x {num} =\",str(3*num)) "
   ]
  },
  {
   "cell_type": "code",
   "execution_count": 20,
   "id": "b95ce5d2",
   "metadata": {
    "ExecuteTime": {
     "end_time": "2023-11-29T08:24:38.623853Z",
     "start_time": "2023-11-29T08:24:38.618355Z"
    }
   },
   "outputs": [
    {
     "name": "stdout",
     "output_type": "stream",
     "text": [
      "나\n",
      "다\n",
      "라\n"
     ]
    }
   ],
   "source": [
    "#148. 답변\n",
    "리스트 = [\"가\", \"나\", \"다\", \"라\"]\n",
    "for num in range(1,4):\n",
    "    print(리스트[num])"
   ]
  },
  {
   "cell_type": "code",
   "execution_count": null,
   "id": "07c3706a",
   "metadata": {
    "ExecuteTime": {
     "end_time": "2023-11-29T08:24:38.623853Z",
     "start_time": "2023-11-29T08:24:38.618355Z"
    }
   },
   "outputs": [],
   "source": [
    "#149. 답변\n",
    "리스트 = [\"가\", \"나\", \"다\", \"라\"]\n",
    "for text in 리스트[: :2]:\n",
    "  print(text)\n"
   ]
  },
  {
   "cell_type": "code",
   "execution_count": null,
   "id": "ed1d83a8",
   "metadata": {
    "ExecuteTime": {
     "end_time": "2023-11-29T08:24:38.623853Z",
     "start_time": "2023-11-29T08:24:38.618355Z"
    }
   },
   "outputs": [],
   "source": [
    "#150. 답변\n",
    "리스트 = [\"가\", \"나\", \"다\", \"라\"]\n",
    "for text in 리스트[: :-1]:\n",
    "  print(text)"
   ]
  },
  {
   "cell_type": "code",
   "execution_count": 21,
   "id": "cd9a9463",
   "metadata": {
    "ExecuteTime": {
     "end_time": "2023-11-29T08:24:38.623853Z",
     "start_time": "2023-11-29T08:24:38.618355Z"
    },
    "scrolled": true
   },
   "outputs": [
    {
     "name": "stdout",
     "output_type": "stream",
     "text": [
      "-20\n",
      "-3\n"
     ]
    }
   ],
   "source": [
    "#151. 답변\n",
    "리스트 = [3, -20, -3, 44]\n",
    "for num in 리스트:\n",
    "    if num < 0:\n",
    "        print(num)\n"
   ]
  },
  {
   "cell_type": "code",
   "execution_count": 22,
   "id": "7a97cf71",
   "metadata": {
    "ExecuteTime": {
     "end_time": "2023-11-29T08:24:38.623853Z",
     "start_time": "2023-11-29T08:24:38.618355Z"
    }
   },
   "outputs": [
    {
     "name": "stdout",
     "output_type": "stream",
     "text": [
      "3\n"
     ]
    }
   ],
   "source": [
    "#152. 답변\n",
    "리스트 = [3, 100, 23, 44]\n",
    "for num in 리스트:\n",
    "    if num%3 == 0:\n",
    "        print(num)"
   ]
  },
  {
   "cell_type": "code",
   "execution_count": 24,
   "id": "48b2f107",
   "metadata": {
    "ExecuteTime": {
     "end_time": "2023-11-29T08:24:38.623853Z",
     "start_time": "2023-11-29T08:24:38.618355Z"
    }
   },
   "outputs": [
    {
     "name": "stdout",
     "output_type": "stream",
     "text": [
      "12\n",
      "18\n"
     ]
    }
   ],
   "source": [
    "#153. 답변\n",
    "리스트 = [13, 21, 12, 14, 30, 18]\n",
    "for num in 리스트:\n",
    "    if num%3 ==0 and num<20:\n",
    "        print(num)"
   ]
  },
  {
   "cell_type": "code",
   "execution_count": 28,
   "id": "b85990e1",
   "metadata": {
    "ExecuteTime": {
     "end_time": "2023-11-29T08:24:38.623853Z",
     "start_time": "2023-11-29T08:24:38.618355Z"
    }
   },
   "outputs": [
    {
     "name": "stdout",
     "output_type": "stream",
     "text": [
      "study\n",
      "python\n",
      "language\n"
     ]
    }
   ],
   "source": [
    "#154. 답변\n",
    "리스트 = [\"I\", \"study\", \"python\", \"language\", \"!\"]\n",
    "for text in 리스트:\n",
    "    if len(text) >=3:\n",
    "        print(text)"
   ]
  },
  {
   "cell_type": "code",
   "execution_count": 30,
   "id": "5842e2e3",
   "metadata": {
    "ExecuteTime": {
     "end_time": "2023-11-29T08:24:38.623853Z",
     "start_time": "2023-11-29T08:24:38.618355Z"
    }
   },
   "outputs": [
    {
     "name": "stdout",
     "output_type": "stream",
     "text": [
      "A\n",
      "D\n"
     ]
    }
   ],
   "source": [
    "#155. 답변\n",
    "리스트 = [\"A\", \"b\", \"c\", \"D\"]\n",
    "for text in 리스트:\n",
    "    if text.islower() == False:\n",
    "        print(text)\n"
   ]
  },
  {
   "cell_type": "code",
   "execution_count": 31,
   "id": "487064f8",
   "metadata": {
    "ExecuteTime": {
     "end_time": "2023-11-29T08:24:38.623853Z",
     "start_time": "2023-11-29T08:24:38.618355Z"
    }
   },
   "outputs": [
    {
     "name": "stdout",
     "output_type": "stream",
     "text": [
      "b\n",
      "c\n"
     ]
    }
   ],
   "source": [
    "#156. 답변\n",
    "리스트 = [\"A\", \"b\", \"c\", \"D\"]\n",
    "for text in 리스트:\n",
    "    if text.islower() == True:\n",
    "        print(text)\n"
   ]
  },
  {
   "cell_type": "code",
   "execution_count": 32,
   "id": "768a1a2e",
   "metadata": {
    "ExecuteTime": {
     "end_time": "2023-11-29T08:24:38.623853Z",
     "start_time": "2023-11-29T08:24:38.618355Z"
    }
   },
   "outputs": [
    {
     "name": "stdout",
     "output_type": "stream",
     "text": [
      "Dog\n",
      "Cat\n",
      "Parrot\n"
     ]
    }
   ],
   "source": [
    "#157. 답변\n",
    "리스트 = ['dog', 'cat', 'parrot']\n",
    "for text in 리스트:\n",
    "    print(text[0].upper()+text[1:])\n"
   ]
  },
  {
   "cell_type": "code",
   "execution_count": 33,
   "id": "7f5b2d1c",
   "metadata": {
    "ExecuteTime": {
     "end_time": "2023-11-29T08:24:38.623853Z",
     "start_time": "2023-11-29T08:24:38.618355Z"
    }
   },
   "outputs": [
    {
     "name": "stdout",
     "output_type": "stream",
     "text": [
      "hello\n",
      "ex01\n",
      "intro\n"
     ]
    }
   ],
   "source": [
    "#158. 답변\n",
    "리스트 = ['hello.py', 'ex01.py', 'intro.hwp']\n",
    "for text in 리스트:\n",
    "    print(text.split(\".\")[0])"
   ]
  },
  {
   "cell_type": "code",
   "execution_count": 34,
   "id": "d9446014",
   "metadata": {
    "ExecuteTime": {
     "end_time": "2023-11-29T08:24:38.623853Z",
     "start_time": "2023-11-29T08:24:38.618355Z"
    }
   },
   "outputs": [
    {
     "name": "stdout",
     "output_type": "stream",
     "text": [
      "intra.h\n",
      "define.h\n"
     ]
    }
   ],
   "source": [
    "#159. 답변\n",
    "리스트 = ['intra.h', 'intra.c', 'define.h', 'run.py']\n",
    "for text in 리스트:\n",
    "    spl = text.split(\".\")\n",
    "    if spl[1] == \"h\":\n",
    "        print(text)"
   ]
  },
  {
   "cell_type": "code",
   "execution_count": 37,
   "id": "cd161ea5",
   "metadata": {
    "ExecuteTime": {
     "end_time": "2023-11-29T08:24:38.623853Z",
     "start_time": "2023-11-29T08:24:38.618355Z"
    }
   },
   "outputs": [
    {
     "name": "stdout",
     "output_type": "stream",
     "text": [
      "intra.h\n",
      "intra.c\n",
      "define.h\n"
     ]
    }
   ],
   "source": [
    "#160. 답변\n",
    "리스트 = ['intra.h', 'intra.c', 'define.h', 'run.py']\n",
    "for text in 리스트:\n",
    "    spl = text.split(\".\")\n",
    "    if spl[1] == \"h\" or spl[1] ==\"c\":\n",
    "        print(text)"
   ]
  },
  {
   "cell_type": "code",
   "execution_count": 38,
   "id": "1e62424d",
   "metadata": {
    "ExecuteTime": {
     "end_time": "2023-11-29T10:41:18.384487Z",
     "start_time": "2023-11-29T10:41:18.369999Z"
    }
   },
   "outputs": [
    {
     "name": "stdout",
     "output_type": "stream",
     "text": [
      "0\n",
      "1\n",
      "2\n",
      "3\n",
      "4\n",
      "5\n",
      "6\n",
      "7\n",
      "8\n",
      "9\n",
      "10\n",
      "11\n",
      "12\n",
      "13\n",
      "14\n",
      "15\n",
      "16\n",
      "17\n",
      "18\n",
      "19\n",
      "20\n",
      "21\n",
      "22\n",
      "23\n",
      "24\n",
      "25\n",
      "26\n",
      "27\n",
      "28\n",
      "29\n",
      "30\n",
      "31\n",
      "32\n",
      "33\n",
      "34\n",
      "35\n",
      "36\n",
      "37\n",
      "38\n",
      "39\n",
      "40\n",
      "41\n",
      "42\n",
      "43\n",
      "44\n",
      "45\n",
      "46\n",
      "47\n",
      "48\n",
      "49\n",
      "50\n",
      "51\n",
      "52\n",
      "53\n",
      "54\n",
      "55\n",
      "56\n",
      "57\n",
      "58\n",
      "59\n",
      "60\n",
      "61\n",
      "62\n",
      "63\n",
      "64\n",
      "65\n",
      "66\n",
      "67\n",
      "68\n",
      "69\n",
      "70\n",
      "71\n",
      "72\n",
      "73\n",
      "74\n",
      "75\n",
      "76\n",
      "77\n",
      "78\n",
      "79\n",
      "80\n",
      "81\n",
      "82\n",
      "83\n",
      "84\n",
      "85\n",
      "86\n",
      "87\n",
      "88\n",
      "89\n",
      "90\n",
      "91\n",
      "92\n",
      "93\n",
      "94\n",
      "95\n",
      "96\n",
      "97\n",
      "98\n",
      "99\n"
     ]
    }
   ],
   "source": [
    "#161. 답변\n",
    "for num in range(0,100):\n",
    "    print(num)"
   ]
  },
  {
   "cell_type": "code",
   "execution_count": 40,
   "id": "f6dc28f0",
   "metadata": {
    "ExecuteTime": {
     "end_time": "2023-11-29T10:42:08.415394Z",
     "start_time": "2023-11-29T10:42:08.410579Z"
    }
   },
   "outputs": [
    {
     "name": "stdout",
     "output_type": "stream",
     "text": [
      "2002\n",
      "2006\n",
      "2010\n",
      "2014\n",
      "2018\n",
      "2022\n",
      "2026\n",
      "2030\n",
      "2034\n",
      "2038\n",
      "2042\n",
      "2046\n",
      "2050\n"
     ]
    }
   ],
   "source": [
    "#162. 답변\n",
    "for num in range(2002,2051,4):\n",
    "    print(num)"
   ]
  },
  {
   "cell_type": "code",
   "execution_count": 42,
   "id": "a46cf109",
   "metadata": {
    "ExecuteTime": {
     "end_time": "2023-11-29T10:43:12.516180Z",
     "start_time": "2023-11-29T10:43:12.511868Z"
    }
   },
   "outputs": [
    {
     "name": "stdout",
     "output_type": "stream",
     "text": [
      "3\n",
      "6\n",
      "9\n",
      "12\n",
      "15\n",
      "18\n",
      "21\n",
      "24\n",
      "27\n",
      "30\n"
     ]
    }
   ],
   "source": [
    "#163. 답변\n",
    "for num in range(3,31,3):\n",
    "    print(num)"
   ]
  },
  {
   "cell_type": "code",
   "execution_count": 43,
   "id": "fd35f773",
   "metadata": {
    "ExecuteTime": {
     "end_time": "2023-11-29T10:43:36.817097Z",
     "start_time": "2023-11-29T10:43:36.811971Z"
    }
   },
   "outputs": [
    {
     "name": "stdout",
     "output_type": "stream",
     "text": [
      "99\n",
      "98\n",
      "97\n",
      "96\n",
      "95\n",
      "94\n",
      "93\n",
      "92\n",
      "91\n",
      "90\n",
      "89\n",
      "88\n",
      "87\n",
      "86\n",
      "85\n",
      "84\n",
      "83\n",
      "82\n",
      "81\n",
      "80\n",
      "79\n",
      "78\n",
      "77\n",
      "76\n",
      "75\n",
      "74\n",
      "73\n",
      "72\n",
      "71\n",
      "70\n",
      "69\n",
      "68\n",
      "67\n",
      "66\n",
      "65\n",
      "64\n",
      "63\n",
      "62\n",
      "61\n",
      "60\n",
      "59\n",
      "58\n",
      "57\n",
      "56\n",
      "55\n",
      "54\n",
      "53\n",
      "52\n",
      "51\n",
      "50\n",
      "49\n",
      "48\n",
      "47\n",
      "46\n",
      "45\n",
      "44\n",
      "43\n",
      "42\n",
      "41\n",
      "40\n",
      "39\n",
      "38\n",
      "37\n",
      "36\n",
      "35\n",
      "34\n",
      "33\n",
      "32\n",
      "31\n",
      "30\n",
      "29\n",
      "28\n",
      "27\n",
      "26\n",
      "25\n",
      "24\n",
      "23\n",
      "22\n",
      "21\n",
      "20\n",
      "19\n",
      "18\n",
      "17\n",
      "16\n",
      "15\n",
      "14\n",
      "13\n",
      "12\n",
      "11\n",
      "10\n",
      "9\n",
      "8\n",
      "7\n",
      "6\n",
      "5\n",
      "4\n",
      "3\n",
      "2\n",
      "1\n",
      "0\n"
     ]
    }
   ],
   "source": [
    "#164. 답변\n",
    "for num in range(100):\n",
    "    print(99 - num)"
   ]
  },
  {
   "cell_type": "code",
   "execution_count": 45,
   "id": "c85803b1",
   "metadata": {
    "ExecuteTime": {
     "end_time": "2023-11-29T10:44:35.724860Z",
     "start_time": "2023-11-29T10:44:35.720724Z"
    }
   },
   "outputs": [
    {
     "name": "stdout",
     "output_type": "stream",
     "text": [
      "0.0\n",
      "0.1\n",
      "0.2\n",
      "0.3\n",
      "0.4\n",
      "0.5\n",
      "0.6\n",
      "0.7\n",
      "0.8\n",
      "0.9\n"
     ]
    }
   ],
   "source": [
    "#165. 답변\n",
    "for num in range(0,10):\n",
    "    print(float(num/10))"
   ]
  },
  {
   "cell_type": "code",
   "execution_count": 46,
   "id": "f1027f33",
   "metadata": {
    "ExecuteTime": {
     "end_time": "2023-11-29T10:45:11.126458Z",
     "start_time": "2023-11-29T10:45:11.120949Z"
    }
   },
   "outputs": [
    {
     "name": "stdout",
     "output_type": "stream",
     "text": [
      "3 x 1  =  3\n",
      "3 x 2  =  6\n",
      "3 x 3  =  9\n",
      "3 x 4  =  12\n",
      "3 x 5  =  15\n",
      "3 x 6  =  18\n",
      "3 x 7  =  21\n",
      "3 x 8  =  24\n",
      "3 x 9  =  27\n"
     ]
    }
   ],
   "source": [
    "#166. 답변\n",
    "for num in range(1, 10) :\n",
    "    print (3, \"x\", num, \" = \", 3 * num)"
   ]
  },
  {
   "cell_type": "code",
   "execution_count": 47,
   "id": "c96818f2",
   "metadata": {
    "ExecuteTime": {
     "end_time": "2023-11-29T10:45:41.976248Z",
     "start_time": "2023-11-29T10:45:41.970943Z"
    }
   },
   "outputs": [
    {
     "name": "stdout",
     "output_type": "stream",
     "text": [
      "3 x 1  =  3\n",
      "3 x 3  =  9\n",
      "3 x 5  =  15\n",
      "3 x 7  =  21\n",
      "3 x 9  =  27\n"
     ]
    }
   ],
   "source": [
    "#167. 답변\n",
    "num = 3\n",
    "for i in range(1, 10, 2) :\n",
    "    print (num, \"x\", i, \" = \", num * i)"
   ]
  },
  {
   "cell_type": "code",
   "execution_count": 48,
   "id": "003dad84",
   "metadata": {
    "ExecuteTime": {
     "end_time": "2023-11-29T10:46:44.393898Z",
     "start_time": "2023-11-29T10:46:44.388928Z"
    }
   },
   "outputs": [
    {
     "name": "stdout",
     "output_type": "stream",
     "text": [
      "합 : 55\n"
     ]
    }
   ],
   "source": [
    "#168. 답변\n",
    "total = 0\n",
    "for num in range(1, 11):\n",
    "    total += num\n",
    "print (\"합 :\", total)"
   ]
  },
  {
   "cell_type": "code",
   "execution_count": 49,
   "id": "d7a3a7aa",
   "metadata": {
    "ExecuteTime": {
     "end_time": "2023-11-29T10:47:20.846116Z",
     "start_time": "2023-11-29T10:47:20.840924Z"
    }
   },
   "outputs": [
    {
     "name": "stdout",
     "output_type": "stream",
     "text": [
      "합 : 25\n"
     ]
    }
   ],
   "source": [
    "#169. 답변\n",
    "total = 0\n",
    "for num in range(1, 11, 2):\n",
    "    total += num\n",
    "print (\"합 :\", total)"
   ]
  },
  {
   "cell_type": "code",
   "execution_count": 50,
   "id": "1613ad36",
   "metadata": {
    "ExecuteTime": {
     "end_time": "2023-11-29T10:47:49.222604Z",
     "start_time": "2023-11-29T10:47:49.216917Z"
    }
   },
   "outputs": [
    {
     "name": "stdout",
     "output_type": "stream",
     "text": [
      "3486784401\n"
     ]
    }
   ],
   "source": [
    "#170. 답변\n",
    "total = 1\n",
    "for num in range(1, 11) :\n",
    "    total *= i\n",
    "print(total)"
   ]
  },
  {
   "cell_type": "code",
   "execution_count": 51,
   "id": "2430b381",
   "metadata": {
    "ExecuteTime": {
     "end_time": "2023-11-29T10:53:09.263581Z",
     "start_time": "2023-11-29T10:53:09.259045Z"
    }
   },
   "outputs": [
    {
     "name": "stdout",
     "output_type": "stream",
     "text": [
      "32100\n",
      "32150\n",
      "32000\n",
      "32500\n"
     ]
    }
   ],
   "source": [
    "#171. 답변\n",
    "price_list = [32100, 32150, 32000, 32500]\n",
    "for num in range(0,len(price_list)):\n",
    "    print(price_list[num])"
   ]
  },
  {
   "cell_type": "code",
   "execution_count": 52,
   "id": "870ba0f9",
   "metadata": {
    "ExecuteTime": {
     "end_time": "2023-11-29T10:53:47.836910Z",
     "start_time": "2023-11-29T10:53:47.831839Z"
    }
   },
   "outputs": [
    {
     "name": "stdout",
     "output_type": "stream",
     "text": [
      "0 32100\n",
      "1 32150\n",
      "2 32000\n",
      "3 32500\n"
     ]
    }
   ],
   "source": [
    "#172. 답변\n",
    "price_list = [32100, 32150, 32000, 32500]\n",
    "for num in range(0,len(price_list)):\n",
    "    print(num, price_list[num])"
   ]
  },
  {
   "cell_type": "code",
   "execution_count": 53,
   "id": "d0730a48",
   "metadata": {
    "ExecuteTime": {
     "end_time": "2023-11-29T10:55:22.819579Z",
     "start_time": "2023-11-29T10:55:22.814954Z"
    }
   },
   "outputs": [
    {
     "name": "stdout",
     "output_type": "stream",
     "text": [
      "3 32100\n",
      "2 32150\n",
      "1 32000\n",
      "0 32500\n"
     ]
    }
   ],
   "source": [
    "#173. 답변\n",
    "price_list = [32100, 32150, 32000, 32500]\n",
    "for num in range(0,len(price_list)):\n",
    "    print(3-num, price_list[num])"
   ]
  },
  {
   "cell_type": "code",
   "execution_count": 54,
   "id": "1ccd2145",
   "metadata": {
    "ExecuteTime": {
     "end_time": "2023-11-29T10:56:35.455669Z",
     "start_time": "2023-11-29T10:56:35.449802Z"
    }
   },
   "outputs": [
    {
     "name": "stdout",
     "output_type": "stream",
     "text": [
      "100 32150\n",
      "110 32000\n",
      "120 32500\n"
     ]
    }
   ],
   "source": [
    "#174. 답변\n",
    "price_list = [32100, 32150, 32000, 32500]\n",
    "for num in range(1,len(price_list)):\n",
    "    print(90+10*num, price_list[num])"
   ]
  },
  {
   "cell_type": "code",
   "execution_count": 57,
   "id": "d43cf608",
   "metadata": {
    "ExecuteTime": {
     "end_time": "2023-11-29T11:01:01.985513Z",
     "start_time": "2023-11-29T11:01:01.979594Z"
    }
   },
   "outputs": [
    {
     "name": "stdout",
     "output_type": "stream",
     "text": [
      "가 나\n",
      "나 다\n",
      "다 라\n"
     ]
    }
   ],
   "source": [
    "#175. 답변\n",
    "my_list = [\"가\", \"나\", \"다\", \"라\"]\n",
    "for num in range(len(my_list)-1):\n",
    "    print(my_list[num],my_list[num+1])"
   ]
  },
  {
   "cell_type": "code",
   "execution_count": 58,
   "id": "4a64c16f",
   "metadata": {
    "ExecuteTime": {
     "end_time": "2023-11-29T11:06:03.226516Z",
     "start_time": "2023-11-29T11:06:03.222546Z"
    }
   },
   "outputs": [
    {
     "name": "stdout",
     "output_type": "stream",
     "text": [
      "가 나 다\n",
      "나 다 라\n",
      "다 라 마\n"
     ]
    }
   ],
   "source": [
    "#176. 답변\n",
    "my_list = [\"가\", \"나\", \"다\", \"라\",\"마\"]\n",
    "for num in range(len(my_list)-2):\n",
    "    print(my_list[num],my_list[num+1], my_list[num+2])"
   ]
  },
  {
   "cell_type": "code",
   "execution_count": 61,
   "id": "ee925298",
   "metadata": {
    "ExecuteTime": {
     "end_time": "2023-11-29T11:09:36.266549Z",
     "start_time": "2023-11-29T11:09:36.260481Z"
    }
   },
   "outputs": [
    {
     "name": "stdout",
     "output_type": "stream",
     "text": [
      "라 다\n",
      "다 나\n",
      "나 가\n",
      "가 라\n"
     ]
    }
   ],
   "source": [
    "#177. 답변\n",
    "my_list = [\"가\", \"나\", \"다\", \"라\"]\n",
    "for num in range(len(my_list)):\n",
    "    print(my_list[3 - num],my_list[2 - num])"
   ]
  },
  {
   "cell_type": "code",
   "execution_count": 62,
   "id": "cc741de5",
   "metadata": {
    "ExecuteTime": {
     "end_time": "2023-11-29T11:11:09.303085Z",
     "start_time": "2023-11-29T11:11:09.297612Z"
    }
   },
   "outputs": [
    {
     "name": "stdout",
     "output_type": "stream",
     "text": [
      "100\n",
      "200\n",
      "400\n"
     ]
    }
   ],
   "source": [
    "#178. 답변\n",
    "my_list = [100, 200, 400, 800]\n",
    "for num in range(len(my_list) - 1):\n",
    "    print(abs(my_list[num+1] - my_list[num]))"
   ]
  },
  {
   "cell_type": "code",
   "execution_count": 64,
   "id": "c12eb8bf",
   "metadata": {
    "ExecuteTime": {
     "end_time": "2023-11-29T11:12:49.611412Z",
     "start_time": "2023-11-29T11:12:49.605592Z"
    }
   },
   "outputs": [
    {
     "name": "stdout",
     "output_type": "stream",
     "text": [
      "233.33333333333334\n",
      "466.6666666666667\n",
      "733.3333333333334\n",
      "1033.3333333333333\n"
     ]
    }
   ],
   "source": [
    "#179. 답변\n",
    "my_list = [100, 200, 400, 800, 1000, 1300]\n",
    "for num in range(len(my_list) - 2):\n",
    "    print((my_list[num]+my_list[num+1]+my_list[num+2])/3)"
   ]
  },
  {
   "cell_type": "code",
   "execution_count": 77,
   "id": "aecfb8bc",
   "metadata": {
    "ExecuteTime": {
     "end_time": "2023-11-29T11:38:49.798766Z",
     "start_time": "2023-11-29T11:38:49.793256Z"
    }
   },
   "outputs": [
    {
     "name": "stdout",
     "output_type": "stream",
     "text": [
      "[50, 100, 30, 80, 0]\n"
     ]
    }
   ],
   "source": [
    "#180. 답변\n",
    "low_prices  = [100, 200, 400, 800, 1000]\n",
    "high_prices = [150, 300, 430, 880, 1000]\n",
    "volatility = []\n",
    "for num in range(len(low_prices)):\n",
    "    volatility.append(high_prices[num]-low_prices[num])\n",
    "print(volatility)"
   ]
  },
  {
   "cell_type": "code",
   "execution_count": 76,
   "id": "b3fe9267",
   "metadata": {
    "ExecuteTime": {
     "end_time": "2023-11-29T11:38:47.812304Z",
     "start_time": "2023-11-29T11:38:47.808258Z"
    }
   },
   "outputs": [],
   "source": [
    "#181. 답변\n",
    "apart = [ [\"101호\", \"102호\"], [\"201호\", \"202호\"], [\"301호\", \"302호\"] ]"
   ]
  },
  {
   "cell_type": "code",
   "execution_count": 75,
   "id": "e5604c1f",
   "metadata": {
    "ExecuteTime": {
     "end_time": "2023-11-29T11:38:46.426765Z",
     "start_time": "2023-11-29T11:38:46.422049Z"
    }
   },
   "outputs": [],
   "source": [
    "#182. 답변\n",
    "stock = [ [\"시가\", 100, 200, 300], [\"종가\", 80, 210, 330] ]"
   ]
  },
  {
   "cell_type": "code",
   "execution_count": 74,
   "id": "c89c212d",
   "metadata": {
    "ExecuteTime": {
     "end_time": "2023-11-29T11:38:45.106378Z",
     "start_time": "2023-11-29T11:38:45.102031Z"
    }
   },
   "outputs": [],
   "source": [
    "#183. 답변\n",
    "stock = {\"시가\": [100, 200, 300], \"종가\": [80, 210, 330] }"
   ]
  },
  {
   "cell_type": "code",
   "execution_count": 73,
   "id": "cf8933ae",
   "metadata": {
    "ExecuteTime": {
     "end_time": "2023-11-29T11:38:43.625575Z",
     "start_time": "2023-11-29T11:38:43.621463Z"
    }
   },
   "outputs": [],
   "source": [
    "#184. 답변\n",
    "stock = {\"10/10\": [80, 110, 70, 90], \"10/11\": [210, 230, 190, 200] }"
   ]
  },
  {
   "cell_type": "code",
   "execution_count": 72,
   "id": "c284e5a0",
   "metadata": {
    "ExecuteTime": {
     "end_time": "2023-11-29T11:38:41.769678Z",
     "start_time": "2023-11-29T11:38:41.765259Z"
    }
   },
   "outputs": [],
   "source": [
    "#185. 답변\n",
    "apart = [ [101, 102], [201, 202], [301, 302] ]"
   ]
  },
  {
   "cell_type": "code",
   "execution_count": 71,
   "id": "06801602",
   "metadata": {
    "ExecuteTime": {
     "end_time": "2023-11-29T11:38:39.293982Z",
     "start_time": "2023-11-29T11:38:39.288265Z"
    }
   },
   "outputs": [
    {
     "name": "stdout",
     "output_type": "stream",
     "text": [
      "101 호\n",
      "102 호\n",
      "201 호\n",
      "202 호\n",
      "301 호\n",
      "302 호\n"
     ]
    }
   ],
   "source": [
    "#186. 답변\n",
    "apart = [ [101, 102], [201, 202], [301, 302] ]\n",
    "for row in apart:\n",
    "    for col in row:\n",
    "        print(col, \"호\")"
   ]
  },
  {
   "cell_type": "code",
   "execution_count": 70,
   "id": "4a795945",
   "metadata": {
    "ExecuteTime": {
     "end_time": "2023-11-29T11:38:38.000722Z",
     "start_time": "2023-11-29T11:38:37.995839Z"
    }
   },
   "outputs": [
    {
     "name": "stdout",
     "output_type": "stream",
     "text": [
      "301 호\n",
      "302 호\n",
      "201 호\n",
      "202 호\n",
      "101 호\n",
      "102 호\n"
     ]
    }
   ],
   "source": [
    "#187. 답변\n",
    "apart = [ [101, 102], [201, 202], [301, 302] ]\n",
    "for row in apart[::-1]:\n",
    "    for col in row:\n",
    "        print(col, \"호\")"
   ]
  },
  {
   "cell_type": "code",
   "execution_count": 69,
   "id": "f6f91195",
   "metadata": {
    "ExecuteTime": {
     "end_time": "2023-11-29T11:38:36.567488Z",
     "start_time": "2023-11-29T11:38:36.562071Z"
    }
   },
   "outputs": [
    {
     "name": "stdout",
     "output_type": "stream",
     "text": [
      "101 호\n",
      "-----\n",
      "102 호\n",
      "-----\n",
      "201 호\n",
      "-----\n",
      "202 호\n",
      "-----\n",
      "301 호\n",
      "-----\n",
      "302 호\n",
      "-----\n"
     ]
    }
   ],
   "source": [
    "#188. 답변\n",
    "apart = [ [101, 102], [201, 202], [301, 302] ]\n",
    "for row in apart:\n",
    "    for col in row:\n",
    "        print(col, \"호\")\n",
    "        print(\"-\" * 5)"
   ]
  },
  {
   "cell_type": "code",
   "execution_count": 68,
   "id": "88c7c4bb",
   "metadata": {
    "ExecuteTime": {
     "end_time": "2023-11-29T11:38:33.554869Z",
     "start_time": "2023-11-29T11:38:33.550781Z"
    }
   },
   "outputs": [
    {
     "name": "stdout",
     "output_type": "stream",
     "text": [
      "101 호\n",
      "102 호\n",
      "-----\n",
      "201 호\n",
      "202 호\n",
      "-----\n",
      "301 호\n",
      "302 호\n",
      "-----\n"
     ]
    }
   ],
   "source": [
    "#189. 답변\n",
    "apart = [ [101, 102], [201, 202], [301, 302] ]\n",
    "for row in apart:\n",
    "    for col in row:\n",
    "        print(col, \"호\")\n",
    "    print(\"-----\")"
   ]
  },
  {
   "cell_type": "code",
   "execution_count": 78,
   "id": "7e761ca2",
   "metadata": {
    "ExecuteTime": {
     "end_time": "2023-11-29T11:40:33.329225Z",
     "start_time": "2023-11-29T11:40:33.322783Z"
    }
   },
   "outputs": [
    {
     "name": "stdout",
     "output_type": "stream",
     "text": [
      "101 호\n",
      "102 호\n",
      "201 호\n",
      "202 호\n",
      "301 호\n",
      "302 호\n",
      "-----\n"
     ]
    }
   ],
   "source": [
    "#190. 답변\n",
    "apart = [ [101, 102], [201, 202], [301, 302] ]\n",
    "for row in apart:\n",
    "    for col in row:\n",
    "        print(col, \"호\")\n",
    "print(\"-----\")"
   ]
  },
  {
   "cell_type": "code",
   "execution_count": 79,
   "id": "2d86dd40",
   "metadata": {
    "ExecuteTime": {
     "end_time": "2023-11-29T11:42:39.062253Z",
     "start_time": "2023-11-29T11:42:39.057208Z"
    }
   },
   "outputs": [
    {
     "name": "stdout",
     "output_type": "stream",
     "text": [
      "2000.28\n",
      "3050.427\n",
      "2050.2870000000003\n",
      "1980.2772\n",
      "7501.05\n",
      "2050.2870000000003\n",
      "2050.2870000000003\n",
      "1980.2772\n",
      "15452.163\n",
      "15052.107\n",
      "15552.177\n",
      "14902.086000000001\n"
     ]
    }
   ],
   "source": [
    "#191. 답변\n",
    "data = [\n",
    "    [ 2000,  3050,  2050,  1980],\n",
    "    [ 7500,  2050,  2050,  1980],\n",
    "    [15450, 15050, 15550, 14900]\n",
    "]\n",
    "\n",
    "for line in data:\n",
    "    for column in line:\n",
    "        print(column * 1.00014)\n"
   ]
  },
  {
   "cell_type": "code",
   "execution_count": 80,
   "id": "dce00cb7",
   "metadata": {
    "ExecuteTime": {
     "end_time": "2023-11-29T11:43:00.636799Z",
     "start_time": "2023-11-29T11:43:00.630067Z"
    }
   },
   "outputs": [
    {
     "name": "stdout",
     "output_type": "stream",
     "text": [
      "2000.28\n",
      "3050.427\n",
      "2050.2870000000003\n",
      "1980.2772\n",
      "----\n",
      "7501.05\n",
      "2050.2870000000003\n",
      "2050.2870000000003\n",
      "1980.2772\n",
      "----\n",
      "15452.163\n",
      "15052.107\n",
      "15552.177\n",
      "14902.086000000001\n",
      "----\n"
     ]
    }
   ],
   "source": [
    "#192. 답변\n",
    "data = [\n",
    "    [ 2000,  3050,  2050,  1980],\n",
    "    [ 7500,  2050,  2050,  1980],\n",
    "    [15450, 15050, 15550, 14900]\n",
    "]\n",
    "\n",
    "for line in data:\n",
    "    for column in line:\n",
    "        print(column * 1.00014)\n",
    "    print(\"----\")"
   ]
  },
  {
   "cell_type": "code",
   "execution_count": 81,
   "id": "c44e88ce",
   "metadata": {
    "ExecuteTime": {
     "end_time": "2023-11-29T11:43:47.136979Z",
     "start_time": "2023-11-29T11:43:47.131194Z"
    }
   },
   "outputs": [
    {
     "name": "stdout",
     "output_type": "stream",
     "text": [
      "[2000.28, 3050.427, 2050.2870000000003, 1980.2772, 7501.05, 2050.2870000000003, 2050.2870000000003, 1980.2772, 15452.163, 15052.107, 15552.177, 14902.086000000001]\n"
     ]
    }
   ],
   "source": [
    "#193. 답변\n",
    "result = []\n",
    "data = [\n",
    "    [ 2000,  3050,  2050,  1980],\n",
    "    [ 7500,  2050,  2050,  1980],\n",
    "    [15450, 15050, 15550, 14900]\n",
    "]\n",
    "\n",
    "for line in data:\n",
    "    for column in line:\n",
    "        result.append(column * 1.00014)\n",
    "print(result)"
   ]
  },
  {
   "cell_type": "code",
   "execution_count": 82,
   "id": "b167394d",
   "metadata": {
    "ExecuteTime": {
     "end_time": "2023-11-29T11:45:43.526051Z",
     "start_time": "2023-11-29T11:45:43.520023Z"
    }
   },
   "outputs": [
    {
     "name": "stdout",
     "output_type": "stream",
     "text": [
      "[[2000.28, 3050.427, 2050.2870000000003, 1980.2772], [7501.05, 2050.2870000000003, 2050.2870000000003, 1980.2772], [15452.163, 15052.107, 15552.177, 14902.086000000001]]\n"
     ]
    }
   ],
   "source": [
    "#194. 답변\n",
    "result = []\n",
    "data = [\n",
    "    [ 2000,  3050,  2050,  1980],\n",
    "    [ 7500,  2050,  2050,  1980],\n",
    "    [15450, 15050, 15550, 14900]\n",
    "]\n",
    "\n",
    "for line in data:\n",
    "    arr = []\n",
    "    for column in line:\n",
    "        arr.append(column * 1.00014)\n",
    "    result.append(arr)\n",
    "print(result)"
   ]
  },
  {
   "cell_type": "code",
   "execution_count": 83,
   "id": "2a7d3bc7",
   "metadata": {
    "ExecuteTime": {
     "end_time": "2023-11-29T11:50:30.051703Z",
     "start_time": "2023-11-29T11:50:30.046003Z"
    }
   },
   "outputs": [
    {
     "name": "stdout",
     "output_type": "stream",
     "text": [
      "100\n",
      "190\n",
      "310\n"
     ]
    }
   ],
   "source": [
    "#195. 답변\n",
    "ohlc = [[\"open\", \"high\", \"low\", \"close\"],\n",
    "        [100, 110, 70, 100],\n",
    "        [200, 210, 180, 190],\n",
    "        [300, 310, 300, 310]]\n",
    "\n",
    "for row in ohlc[1:]:\n",
    "    print(row[3])"
   ]
  },
  {
   "cell_type": "code",
   "execution_count": null,
   "id": "d8321a6d",
   "metadata": {
    "ExecuteTime": {
     "end_time": "2023-11-29T08:24:38.623853Z",
     "start_time": "2023-11-29T08:24:38.618355Z"
    }
   },
   "outputs": [],
   "source": [
    "#196. 답변\n",
    "ohlc = [[\"open\", \"high\", \"low\", \"close\"],\n",
    "        [100, 110, 70, 100],\n",
    "        [200, 210, 180, 190],\n",
    "        [300, 310, 300, 310]]\n",
    "\n",
    "for row in ohlc[1:]:\n",
    "    if (row[3] > 150):\n",
    "        print(row[3])"
   ]
  },
  {
   "cell_type": "code",
   "execution_count": 84,
   "id": "53ee70e4",
   "metadata": {
    "ExecuteTime": {
     "end_time": "2023-11-29T11:52:04.880068Z",
     "start_time": "2023-11-29T11:52:04.873588Z"
    }
   },
   "outputs": [
    {
     "name": "stdout",
     "output_type": "stream",
     "text": [
      "100\n",
      "310\n"
     ]
    }
   ],
   "source": [
    "#197. 답변\n",
    "ohlc = [[\"open\", \"high\", \"low\", \"close\"],\n",
    "        [100, 110, 70, 100],\n",
    "        [200, 210, 180, 190],\n",
    "        [300, 310, 300, 310]]\n",
    "for row in ohlc[1:]:\n",
    "    if (row[3] >= row[0]):\n",
    "        print(row[3])"
   ]
  },
  {
   "cell_type": "code",
   "execution_count": 85,
   "id": "50fe769e",
   "metadata": {
    "ExecuteTime": {
     "end_time": "2023-11-29T11:52:19.461606Z",
     "start_time": "2023-11-29T11:52:19.454933Z"
    }
   },
   "outputs": [],
   "source": [
    "#198. 답변\n",
    "ohlc = [[\"open\", \"high\", \"low\", \"close\"],\n",
    "        [100, 110, 70, 100],\n",
    "        [200, 210, 180, 190],\n",
    "        [300, 310, 300, 310]]\n",
    "volatility = []\n",
    "for row in ohlc[1:]:\n",
    "    volatility.append(row[1]-row[2])"
   ]
  },
  {
   "cell_type": "code",
   "execution_count": 86,
   "id": "0da6278e",
   "metadata": {
    "ExecuteTime": {
     "end_time": "2023-11-29T11:52:42.123358Z",
     "start_time": "2023-11-29T11:52:42.117079Z"
    }
   },
   "outputs": [
    {
     "name": "stdout",
     "output_type": "stream",
     "text": [
      "10\n"
     ]
    }
   ],
   "source": [
    "#199. 답변\n",
    "ohlc = [[\"open\", \"high\", \"low\", \"close\"],\n",
    "        [100, 110, 70, 100],\n",
    "        [200, 210, 180, 190],\n",
    "        [300, 310, 300, 310]]\n",
    "for row in ohlc[1:]:\n",
    "    if row[3] > row[0]:\n",
    "        print(row[1]-row[2])"
   ]
  },
  {
   "cell_type": "code",
   "execution_count": 88,
   "id": "027bf439",
   "metadata": {
    "ExecuteTime": {
     "end_time": "2023-11-29T12:08:47.977472Z",
     "start_time": "2023-11-29T12:08:47.970869Z"
    }
   },
   "outputs": [],
   "source": [
    "#200. 답변\n",
    "ohlc = [[\"open\", \"high\", \"low\", \"close\"],\n",
    "        [100, 110, 70, 100],\n",
    "        [200, 210, 180, 190],\n",
    "        [300, 310, 300, 310]]\n",
    "plus = 0\n",
    "for row in ohlc[1:]:\n",
    "    plus += (row[3] - row[0])"
   ]
  },
  {
   "cell_type": "code",
   "execution_count": 11,
   "id": "cf8c033a",
   "metadata": {
    "ExecuteTime": {
     "end_time": "2023-11-30T10:43:29.614411Z",
     "start_time": "2023-11-30T10:43:29.607886Z"
    }
   },
   "outputs": [
    {
     "name": "stdout",
     "output_type": "stream",
     "text": [
      "비트코인\n"
     ]
    }
   ],
   "source": [
    "#201. 답변\n",
    "\n",
    "def print_coin():\n",
    "    print(\"비트코인\")"
   ]
  },
  {
   "cell_type": "code",
   "execution_count": null,
   "id": "4a78ddc0",
   "metadata": {
    "ExecuteTime": {
     "end_time": "2023-11-30T10:58:31.512032Z",
     "start_time": "2023-11-30T10:58:31.507097Z"
    }
   },
   "outputs": [],
   "source": [
    "#202. 답변\n",
    "print_coin()"
   ]
  },
  {
   "cell_type": "code",
   "execution_count": null,
   "id": "8514d8d4",
   "metadata": {
    "ExecuteTime": {
     "end_time": "2023-11-30T10:58:31.512032Z",
     "start_time": "2023-11-30T10:58:31.507097Z"
    }
   },
   "outputs": [],
   "source": [
    "#203. 답변\n",
    "for i in range(100):\n",
    "    print_coin()"
   ]
  },
  {
   "cell_type": "code",
   "execution_count": null,
   "id": "85d5dab7",
   "metadata": {
    "ExecuteTime": {
     "end_time": "2023-11-30T10:58:31.512032Z",
     "start_time": "2023-11-30T10:58:31.507097Z"
    }
   },
   "outputs": [],
   "source": [
    "#204. 답변\n",
    "def print_coins():\n",
    "    for i in range(100):\n",
    "        print(\"비트코인\")"
   ]
  },
  {
   "cell_type": "code",
   "execution_count": null,
   "id": "3bbcc16b",
   "metadata": {
    "ExecuteTime": {
     "end_time": "2023-11-30T10:58:31.512032Z",
     "start_time": "2023-11-30T10:58:31.507097Z"
    }
   },
   "outputs": [],
   "source": [
    "#205. 답변\n",
    "#함수가 정의되기 전에 먼저 함수가 호출됨"
   ]
  },
  {
   "cell_type": "code",
   "execution_count": null,
   "id": "99c3e025",
   "metadata": {
    "ExecuteTime": {
     "end_time": "2023-11-30T10:58:31.512032Z",
     "start_time": "2023-11-30T10:58:31.507097Z"
    }
   },
   "outputs": [],
   "source": [
    "#206. 답변\n",
    "#A, B, C, A, B 순서로 값이 출력됨"
   ]
  },
  {
   "cell_type": "code",
   "execution_count": null,
   "id": "28c30d5d",
   "metadata": {
    "ExecuteTime": {
     "end_time": "2023-11-30T10:58:31.512032Z",
     "start_time": "2023-11-30T10:58:31.507097Z"
    }
   },
   "outputs": [],
   "source": [
    "#207. 답변\n",
    "#A, C, B, E, D"
   ]
  },
  {
   "cell_type": "code",
   "execution_count": 13,
   "id": "c55baf85",
   "metadata": {
    "ExecuteTime": {
     "end_time": "2023-11-30T10:58:31.512032Z",
     "start_time": "2023-11-30T10:58:31.507097Z"
    }
   },
   "outputs": [
    {
     "name": "stdout",
     "output_type": "stream",
     "text": [
      "7\n"
     ]
    }
   ],
   "source": [
    "#208. 답변 매개변수 = parameter 인자 = arguments\n",
    "def add_num(a,b):\n",
    "    c = a + b\n",
    "    return c\n",
    "\n",
    "a = add_num(3,4)\n",
    "print(a)\n"
   ]
  },
  {
   "cell_type": "code",
   "execution_count": 16,
   "id": "8d3e51e6",
   "metadata": {
    "ExecuteTime": {
     "end_time": "2023-11-30T10:58:31.512032Z",
     "start_time": "2023-11-30T10:58:31.507097Z"
    }
   },
   "outputs": [
    {
     "name": "stdout",
     "output_type": "stream",
     "text": [
      "3\n"
     ]
    }
   ],
   "source": [
    "#209. 답변\n",
    "def n_plus_1 (n) :\n",
    "    result = n + 1\n",
    "\n",
    "n_plus_1(3)\n",
    "print (result)"
   ]
  },
  {
   "cell_type": "code",
   "execution_count": null,
   "id": "3def494b",
   "metadata": {
    "ExecuteTime": {
     "end_time": "2023-11-30T10:58:31.512032Z",
     "start_time": "2023-11-30T10:58:31.507097Z"
    }
   },
   "outputs": [],
   "source": [
    "#210. 답변\n",
    "#B C B C B C A"
   ]
  },
  {
   "cell_type": "code",
   "execution_count": null,
   "id": "22969fdf",
   "metadata": {
    "ExecuteTime": {
     "end_time": "2023-11-30T10:58:31.512032Z",
     "start_time": "2023-11-30T10:58:31.507097Z"
    }
   },
   "outputs": [],
   "source": [
    "#211. 답변\n",
    "#화면에 '안녕'과 'Hi'가 출력됨"
   ]
  },
  {
   "cell_type": "code",
   "execution_count": null,
   "id": "35dc1352",
   "metadata": {
    "ExecuteTime": {
     "end_time": "2023-11-30T10:58:31.512032Z",
     "start_time": "2023-11-30T10:58:31.507097Z"
    }
   },
   "outputs": [],
   "source": [
    "#212. 답변\n",
    "#화면에 7 15가 출력됨"
   ]
  },
  {
   "cell_type": "code",
   "execution_count": null,
   "id": "dc1e522c",
   "metadata": {
    "ExecuteTime": {
     "end_time": "2023-11-30T10:58:31.512032Z",
     "start_time": "2023-11-30T10:58:31.507097Z"
    }
   },
   "outputs": [],
   "source": [
    "#213. 답변\n",
    "#인수로 아무값도 넣지 않아서"
   ]
  },
  {
   "cell_type": "code",
   "execution_count": null,
   "id": "db807428",
   "metadata": {
    "ExecuteTime": {
     "end_time": "2023-11-30T10:58:31.512032Z",
     "start_time": "2023-11-30T10:58:31.507097Z"
    }
   },
   "outputs": [],
   "source": [
    "#214. 답변\n",
    "# 문자열인 \"안녕\"과 정수인 3은 더해질 수 없음"
   ]
  },
  {
   "cell_type": "code",
   "execution_count": null,
   "id": "43845877",
   "metadata": {
    "ExecuteTime": {
     "end_time": "2023-11-30T10:58:31.512032Z",
     "start_time": "2023-11-30T10:58:31.507097Z"
    }
   },
   "outputs": [],
   "source": [
    "#215. 답변\n",
    "def print_with_smile (string) :\n",
    "    print (string + \":D\")"
   ]
  },
  {
   "cell_type": "code",
   "execution_count": null,
   "id": "087fa3d4",
   "metadata": {
    "ExecuteTime": {
     "end_time": "2023-11-30T10:58:31.512032Z",
     "start_time": "2023-11-30T10:58:31.507097Z"
    }
   },
   "outputs": [],
   "source": [
    "#216. 답변\n",
    "print_with_smile(\"안녕하세요\")"
   ]
  },
  {
   "cell_type": "code",
   "execution_count": null,
   "id": "0e00edf6",
   "metadata": {
    "ExecuteTime": {
     "end_time": "2023-11-30T10:58:31.512032Z",
     "start_time": "2023-11-30T10:58:31.507097Z"
    }
   },
   "outputs": [],
   "source": [
    "#217. 답변\n",
    "def print_upper_price(price) :\n",
    "    print(price * 1.3)"
   ]
  },
  {
   "cell_type": "code",
   "execution_count": null,
   "id": "4387c9b5",
   "metadata": {
    "ExecuteTime": {
     "end_time": "2023-11-30T10:58:31.512032Z",
     "start_time": "2023-11-30T10:58:31.507097Z"
    }
   },
   "outputs": [],
   "source": [
    "#218. 답변\n",
    "def print_sum (a, b) :\n",
    "    print (a + b)"
   ]
  },
  {
   "cell_type": "code",
   "execution_count": null,
   "id": "2d9e2aac",
   "metadata": {
    "ExecuteTime": {
     "end_time": "2023-11-30T10:58:31.512032Z",
     "start_time": "2023-11-30T10:58:31.507097Z"
    }
   },
   "outputs": [],
   "source": [
    "#219. 답변\n",
    "def print_arithmetic_operation(a, b):\n",
    "    print(a, \"+\", b, \"=\", a + b)\n",
    "    print(a, \"-\", b, \"=\", a - b)\n",
    "    print(a, \"*\", b, \"=\", a * b)\n",
    "    print(a, \"/\", b, \"=\", a / b)"
   ]
  },
  {
   "cell_type": "code",
   "execution_count": null,
   "id": "ddddc828",
   "metadata": {
    "ExecuteTime": {
     "end_time": "2023-11-30T10:58:31.512032Z",
     "start_time": "2023-11-30T10:58:31.507097Z"
    }
   },
   "outputs": [],
   "source": [
    "#220. 답변\n",
    "def print_max(a, b, c) :\n",
    "    max_val = 0\n",
    "    if a > max_val :\n",
    "        max_val = a\n",
    "    if b > max_val :\n",
    "        max_val = b\n",
    "    if c > max_val :\n",
    "        max_val = c\n",
    "    print(max_val)"
   ]
  },
  {
   "cell_type": "code",
   "execution_count": null,
   "id": "b91d441b",
   "metadata": {
    "ExecuteTime": {
     "end_time": "2023-11-30T10:58:31.512032Z",
     "start_time": "2023-11-30T10:58:31.507097Z"
    }
   },
   "outputs": [],
   "source": [
    "#221. 답변\n",
    "def print_reverse(string) :\n",
    "    print(string[::-1])"
   ]
  },
  {
   "cell_type": "code",
   "execution_count": null,
   "id": "8fadacd5",
   "metadata": {
    "ExecuteTime": {
     "end_time": "2023-11-30T10:58:31.512032Z",
     "start_time": "2023-11-30T10:58:31.507097Z"
    }
   },
   "outputs": [],
   "source": [
    "#222. 답변\n",
    "def print_score(score_list) :\n",
    "    print(sum(score_list)/len(score_list))"
   ]
  },
  {
   "cell_type": "code",
   "execution_count": null,
   "id": "7ae89933",
   "metadata": {
    "ExecuteTime": {
     "end_time": "2023-11-30T10:58:31.512032Z",
     "start_time": "2023-11-30T10:58:31.507097Z"
    }
   },
   "outputs": [],
   "source": [
    "#223. 답변\n",
    "def print_even (my_list) :\n",
    "    for v in my_list :\n",
    "        if v % 2 == 0 :\n",
    "            print(v)"
   ]
  },
  {
   "cell_type": "code",
   "execution_count": null,
   "id": "c0be3061",
   "metadata": {
    "ExecuteTime": {
     "end_time": "2023-11-30T10:58:31.512032Z",
     "start_time": "2023-11-30T10:58:31.507097Z"
    }
   },
   "outputs": [],
   "source": [
    "#224. 답변\n",
    "def print_keys(dic):\n",
    "    for keys in dic.keys():\n",
    "        print(keys)"
   ]
  },
  {
   "cell_type": "code",
   "execution_count": null,
   "id": "8d32fbc9",
   "metadata": {
    "ExecuteTime": {
     "end_time": "2023-11-30T10:58:31.512032Z",
     "start_time": "2023-11-30T10:58:31.507097Z"
    }
   },
   "outputs": [],
   "source": [
    "#225. 답변\n",
    "def print_value_by_key (my_dict, key) :\n",
    "    print(my_dict[key])"
   ]
  },
  {
   "cell_type": "code",
   "execution_count": null,
   "id": "38ed58b3",
   "metadata": {
    "ExecuteTime": {
     "end_time": "2023-11-30T10:58:31.512032Z",
     "start_time": "2023-11-30T10:58:31.507097Z"
    }
   },
   "outputs": [],
   "source": [
    "#226. 답변\n",
    "def print_5xn(line):\n",
    "    chunk_num = int(len(line) / 5)\n",
    "    for x in range(chunk_num + 1) :\n",
    "        print(line[x * 5: x * 5 + 5])"
   ]
  },
  {
   "cell_type": "code",
   "execution_count": null,
   "id": "e45e566b",
   "metadata": {
    "ExecuteTime": {
     "end_time": "2023-11-30T10:58:31.512032Z",
     "start_time": "2023-11-30T10:58:31.507097Z"
    }
   },
   "outputs": [],
   "source": [
    "#227. 답변\n",
    "def print_mxn(line, num):\n",
    "    chunk_num = int(len(line) / num)\n",
    "    for x in range(chunk_num + 1) :\n",
    "        print(line[x * num: x * num + num])"
   ]
  },
  {
   "cell_type": "code",
   "execution_count": null,
   "id": "2237d74b",
   "metadata": {
    "ExecuteTime": {
     "end_time": "2023-11-30T10:58:31.512032Z",
     "start_time": "2023-11-30T10:58:31.507097Z"
    }
   },
   "outputs": [],
   "source": [
    "#228. 답변\n",
    "def calc_monthly_salary(annual_pay) :\n",
    "    monthly_pay = int(annual_pay / 12)\n",
    "    return monthly_pay"
   ]
  },
  {
   "cell_type": "code",
   "execution_count": null,
   "id": "7a01516a",
   "metadata": {
    "ExecuteTime": {
     "end_time": "2023-11-30T10:58:31.512032Z",
     "start_time": "2023-11-30T10:58:31.507097Z"
    }
   },
   "outputs": [],
   "source": [
    "#229. 답변\n",
    "def my_print (a, b) :\n",
    "    print(\"왼쪽:\", a)\n",
    "    print(\"오른쪽:\", b)\n",
    "\n",
    "my_print(a=100, b=200)"
   ]
  },
  {
   "cell_type": "code",
   "execution_count": null,
   "id": "acfc8520",
   "metadata": {
    "ExecuteTime": {
     "end_time": "2023-11-30T10:58:31.512032Z",
     "start_time": "2023-11-30T10:58:31.507097Z"
    }
   },
   "outputs": [],
   "source": [
    "#230. 답변\n",
    "def my_print (a, b) :\n",
    "    print(\"왼쪽:\", a)\n",
    "    print(\"오른쪽:\", b)\n",
    "\n",
    "my_print(b=100, a=200)"
   ]
  },
  {
   "cell_type": "code",
   "execution_count": 15,
   "id": "d0bc7631",
   "metadata": {
    "ExecuteTime": {
     "end_time": "2023-11-30T10:58:31.512032Z",
     "start_time": "2023-11-30T10:58:31.507097Z"
    }
   },
   "outputs": [
    {
     "name": "stdout",
     "output_type": "stream",
     "text": [
      "3\n"
     ]
    }
   ],
   "source": [
    "#231. 답변\n",
    "#result가 지역 변수이기 때문에 오류가 발생함"
   ]
  },
  {
   "cell_type": "code",
   "execution_count": null,
   "id": "c664cde9",
   "metadata": {
    "ExecuteTime": {
     "end_time": "2023-11-30T10:58:31.512032Z",
     "start_time": "2023-11-30T10:58:31.507097Z"
    }
   },
   "outputs": [],
   "source": [
    "#232. 답변\n",
    "def make_url(string) :\n",
    "    url = \"www.\" + string + \".com\"\n",
    "    return url"
   ]
  },
  {
   "cell_type": "code",
   "execution_count": null,
   "id": "c67c2003",
   "metadata": {
    "ExecuteTime": {
     "end_time": "2023-11-30T10:58:31.512032Z",
     "start_time": "2023-11-30T10:58:31.507097Z"
    }
   },
   "outputs": [],
   "source": [
    "#233. 답변\n",
    "def make_list (string) :\n",
    "    my_list = []\n",
    "    for 변수 in string :\n",
    "        my_list.append(변수)\n",
    "    return my_list"
   ]
  },
  {
   "cell_type": "code",
   "execution_count": 2,
   "id": "0c6fec1b",
   "metadata": {
    "ExecuteTime": {
     "end_time": "2023-11-30T10:58:31.512032Z",
     "start_time": "2023-11-30T10:58:31.507097Z"
    }
   },
   "outputs": [
    {
     "data": {
      "text/plain": [
       "[4, 6, 8]"
      ]
     },
     "execution_count": 2,
     "metadata": {},
     "output_type": "execute_result"
    }
   ],
   "source": [
    "#234. 답변\n",
    "def pickup_even (num_list):\n",
    "    result = []\n",
    "    for num in num_list:\n",
    "        if num%2 == 0:\n",
    "            result.append(num)\n",
    "    return result\n",
    "\n",
    "pickup_even([3, 4, 5, 6, 7, 8])"
   ]
  },
  {
   "cell_type": "code",
   "execution_count": null,
   "id": "51120df0",
   "metadata": {
    "ExecuteTime": {
     "end_time": "2023-11-30T10:58:31.512032Z",
     "start_time": "2023-11-30T10:58:31.507097Z"
    }
   },
   "outputs": [],
   "source": [
    "#235. 답변\n",
    "def convert_int (string) :\n",
    "    return int(string.replace(',', ''))"
   ]
  },
  {
   "cell_type": "code",
   "execution_count": null,
   "id": "37642513",
   "metadata": {
    "ExecuteTime": {
     "end_time": "2023-11-30T10:58:31.512032Z",
     "start_time": "2023-11-30T10:58:31.507097Z"
    }
   },
   "outputs": [],
   "source": [
    "#236. 답변\n",
    "# 변수 a에는 14가 할당되고, b에는 함수(14)의 실행값인 18이 할당되고, c에는 함수(18)의 실행값인 22가 할당됨"
   ]
  },
  {
   "cell_type": "code",
   "execution_count": 3,
   "id": "1f881c49",
   "metadata": {
    "ExecuteTime": {
     "end_time": "2023-11-30T10:58:31.512032Z",
     "start_time": "2023-11-30T10:58:31.507097Z"
    }
   },
   "outputs": [
    {
     "name": "stdout",
     "output_type": "stream",
     "text": [
      "22\n"
     ]
    }
   ],
   "source": [
    "#237. 답변\n",
    "# 중첩 함수에서 가장 안쪽부터 시작해서 결국 236번 문제와 같은 22가 변수 c에 할당됨"
   ]
  },
  {
   "cell_type": "code",
   "execution_count": null,
   "id": "3487d4cb",
   "metadata": {
    "ExecuteTime": {
     "end_time": "2023-11-30T10:58:31.512032Z",
     "start_time": "2023-11-30T10:58:31.507097Z"
    }
   },
   "outputs": [],
   "source": [
    "#238. 답변\n",
    "# 변수 c에는 140이라는 값이 할당된다."
   ]
  },
  {
   "cell_type": "code",
   "execution_count": null,
   "id": "15cf3c42",
   "metadata": {
    "ExecuteTime": {
     "end_time": "2023-11-30T10:58:31.512032Z",
     "start_time": "2023-11-30T10:58:31.507097Z"
    }
   },
   "outputs": [],
   "source": [
    "#239. 답변\n",
    "# 변수 c에는 16이라는 값이 할당되어 화면에 16이 출력됨"
   ]
  },
  {
   "cell_type": "code",
   "execution_count": 4,
   "id": "4c4e4585",
   "metadata": {
    "ExecuteTime": {
     "end_time": "2023-11-30T10:58:31.512032Z",
     "start_time": "2023-11-30T10:58:31.507097Z"
    },
    "scrolled": true
   },
   "outputs": [
    {
     "name": "stdout",
     "output_type": "stream",
     "text": [
      "28\n"
     ]
    }
   ],
   "source": [
    "#240. 답변\n",
    "#28"
   ]
  },
  {
   "cell_type": "code",
   "execution_count": 1,
   "id": "2c6797b6",
   "metadata": {
    "ExecuteTime": {
     "start_time": "2023-12-05T12:57:48.869Z"
    },
    "scrolled": true
   },
   "outputs": [
    {
     "name": "stdout",
     "output_type": "stream",
     "text": [
      "2023-12-05 21:50:39.403635\n"
     ]
    }
   ],
   "source": [
    "#241. 답변\n",
    "import datetime\n",
    "\n",
    "now = datetime.datetime.now()\n",
    "print(now)"
   ]
  },
  {
   "cell_type": "code",
   "execution_count": 2,
   "id": "a63485d3",
   "metadata": {
    "ExecuteTime": {
     "start_time": "2023-12-05T12:57:48.869Z"
    },
    "scrolled": true
   },
   "outputs": [
    {
     "name": "stdout",
     "output_type": "stream",
     "text": [
      "2023-12-05 21:50:46.615697 <class 'datetime.datetime'>\n"
     ]
    }
   ],
   "source": [
    "#242. 답변\n",
    "import datetime\n",
    "\n",
    "now = datetime.datetime.now()\n",
    "print(now, type(now))"
   ]
  },
  {
   "cell_type": "code",
   "execution_count": 5,
   "id": "4b62a23a",
   "metadata": {
    "ExecuteTime": {
     "start_time": "2023-12-05T12:57:48.869Z"
    },
    "scrolled": true
   },
   "outputs": [
    {
     "name": "stdout",
     "output_type": "stream",
     "text": [
      "5일 전: 2023-11-30 21:51:48.369208\n",
      "4일 전: 2023-12-01 21:51:48.369208\n",
      "3일 전: 2023-12-02 21:51:48.369208\n",
      "2일 전: 2023-12-03 21:51:48.369208\n",
      "1일 전: 2023-12-04 21:51:48.369208\n"
     ]
    }
   ],
   "source": [
    "#243. 답변\n",
    "import datetime\n",
    "\n",
    "now = datetime.datetime.now()\n",
    "\n",
    "for day in range(5, 0, -1):\n",
    "    delta = datetime.timedelta(days=day)\n",
    "    date = now - delta\n",
    "    print(f\"{day}일 전:\",date)"
   ]
  },
  {
   "cell_type": "code",
   "execution_count": 7,
   "id": "0b9103cc",
   "metadata": {
    "ExecuteTime": {
     "start_time": "2023-12-05T12:57:48.869Z"
    },
    "scrolled": true
   },
   "outputs": [
    {
     "name": "stdout",
     "output_type": "stream",
     "text": [
      "21:52:11\n"
     ]
    }
   ],
   "source": [
    "#244. 답변\n",
    "import datetime\n",
    "\n",
    "now = datetime.datetime.now()\n",
    "print(now.strftime(\"%H:%M:%S\"))"
   ]
  },
  {
   "cell_type": "code",
   "execution_count": 6,
   "id": "badb5d5f",
   "metadata": {
    "ExecuteTime": {
     "start_time": "2023-12-05T12:57:48.869Z"
    },
    "scrolled": true
   },
   "outputs": [
    {
     "name": "stdout",
     "output_type": "stream",
     "text": [
      "2020-05-04 00:00:00 <class 'datetime.datetime'>\n"
     ]
    }
   ],
   "source": [
    "#245. 답변\n",
    "import datetime\n",
    "\n",
    "day = \"2020-05-04\"\n",
    "ret = datetime.datetime.strptime(day, \"%Y-%m-%d\")\n",
    "print(ret, type(ret))"
   ]
  },
  {
   "cell_type": "code",
   "execution_count": null,
   "id": "fc040693",
   "metadata": {
    "ExecuteTime": {
     "start_time": "2023-12-05T12:57:48.869Z"
    },
    "scrolled": true
   },
   "outputs": [
    {
     "name": "stdout",
     "output_type": "stream",
     "text": [
      "2023-12-05 21:52:20.375197\n",
      "2023-12-05 21:52:21.375701\n",
      "2023-12-05 21:52:22.375959\n",
      "2023-12-05 21:52:23.376199\n",
      "2023-12-05 21:52:24.376713\n",
      "2023-12-05 21:52:25.377239\n",
      "2023-12-05 21:52:26.377700\n",
      "2023-12-05 21:52:27.378199\n",
      "2023-12-05 21:52:28.379713\n",
      "2023-12-05 21:52:29.380772\n",
      "2023-12-05 21:52:30.381069\n",
      "2023-12-05 21:52:31.381716\n",
      "2023-12-05 21:52:32.382702\n",
      "2023-12-05 21:52:33.382844\n",
      "2023-12-05 21:52:34.383453\n",
      "2023-12-05 21:52:35.384201\n",
      "2023-12-05 21:52:36.384740\n",
      "2023-12-05 21:52:37.385364\n",
      "2023-12-05 21:52:38.386419\n",
      "2023-12-05 21:52:39.387477\n",
      "2023-12-05 21:52:40.388195\n",
      "2023-12-05 21:52:41.388782\n",
      "2023-12-05 21:52:42.389736\n",
      "2023-12-05 21:52:43.390203\n",
      "2023-12-05 21:52:44.391013\n",
      "2023-12-05 21:52:45.391706\n",
      "2023-12-05 21:52:46.392226\n",
      "2023-12-05 21:52:47.392432\n",
      "2023-12-05 21:52:48.393395\n",
      "2023-12-05 21:52:49.394305\n",
      "2023-12-05 21:52:50.394509\n",
      "2023-12-05 21:52:51.394639\n",
      "2023-12-05 21:52:52.395197\n",
      "2023-12-05 21:52:53.396195\n",
      "2023-12-05 21:52:54.396720\n",
      "2023-12-05 21:52:55.397787\n",
      "2023-12-05 21:52:56.398197\n",
      "2023-12-05 21:52:57.399210\n",
      "2023-12-05 21:52:58.400193\n",
      "2023-12-05 21:52:59.401196\n",
      "2023-12-05 21:53:00.401333\n",
      "2023-12-05 21:53:01.402219\n",
      "2023-12-05 21:53:02.402621\n",
      "2023-12-05 21:53:03.403705\n",
      "2023-12-05 21:53:04.404706\n",
      "2023-12-05 21:53:05.405703\n",
      "2023-12-05 21:53:06.406731\n",
      "2023-12-05 21:53:07.407198\n",
      "2023-12-05 21:53:08.407841\n",
      "2023-12-05 21:53:09.408202\n",
      "2023-12-05 21:53:10.408701\n",
      "2023-12-05 21:53:11.409192\n",
      "2023-12-05 21:53:12.410207\n",
      "2023-12-05 21:53:13.411190\n",
      "2023-12-05 21:53:14.411701\n",
      "2023-12-05 21:53:15.412703\n",
      "2023-12-05 21:53:16.412848\n",
      "2023-12-05 21:53:17.412996\n",
      "2023-12-05 21:53:18.413715\n",
      "2023-12-05 21:53:19.414696\n",
      "2023-12-05 21:53:20.415696\n",
      "2023-12-05 21:53:21.416714\n",
      "2023-12-05 21:53:22.417243\n",
      "2023-12-05 21:53:23.417690\n",
      "2023-12-05 21:53:24.418700\n",
      "2023-12-05 21:53:25.419693\n",
      "2023-12-05 21:53:26.420325\n",
      "2023-12-05 21:53:27.420692\n",
      "2023-12-05 21:53:28.421693\n",
      "2023-12-05 21:53:29.422692\n",
      "2023-12-05 21:53:30.423706\n",
      "2023-12-05 21:53:31.423963\n",
      "2023-12-05 21:53:32.424111\n",
      "2023-12-05 21:53:33.424299\n",
      "2023-12-05 21:53:34.424475\n",
      "2023-12-05 21:53:35.424696\n",
      "2023-12-05 21:53:36.425229\n",
      "2023-12-05 21:53:37.425358\n",
      "2023-12-05 21:53:38.425508\n",
      "2023-12-05 21:53:39.426497\n",
      "2023-12-05 21:53:40.426744\n",
      "2023-12-05 21:53:41.427690\n",
      "2023-12-05 21:53:42.428697\n",
      "2023-12-05 21:53:43.429752\n",
      "2023-12-05 21:53:44.430716\n",
      "2023-12-05 21:53:45.431698\n",
      "2023-12-05 21:53:46.431850\n",
      "2023-12-05 21:53:47.431997\n",
      "2023-12-05 21:53:48.432143\n",
      "2023-12-05 21:53:49.432285\n",
      "2023-12-05 21:53:50.432684\n",
      "2023-12-05 21:53:51.433328\n",
      "2023-12-05 21:53:52.433473\n",
      "2023-12-05 21:53:53.433693\n",
      "2023-12-05 21:53:54.433852\n",
      "2023-12-05 21:53:55.434500\n",
      "2023-12-05 21:53:56.434688\n",
      "2023-12-05 21:53:57.434866\n",
      "2023-12-05 21:53:58.435702\n",
      "2023-12-05 21:53:59.436057\n",
      "2023-12-05 21:54:00.437194\n",
      "2023-12-05 21:54:01.437773\n",
      "2023-12-05 21:54:02.438683\n",
      "2023-12-05 21:54:03.439684\n",
      "2023-12-05 21:54:04.440745\n",
      "2023-12-05 21:54:05.441681\n",
      "2023-12-05 21:54:06.442399\n",
      "2023-12-05 21:54:07.442543\n",
      "2023-12-05 21:54:08.442875\n",
      "2023-12-05 21:54:09.443016\n",
      "2023-12-05 21:54:10.443173\n",
      "2023-12-05 21:54:11.443327\n",
      "2023-12-05 21:54:12.443701\n",
      "2023-12-05 21:54:13.443857\n",
      "2023-12-05 21:54:14.444684\n",
      "2023-12-05 21:54:15.445140\n",
      "2023-12-05 21:54:16.445286\n",
      "2023-12-05 21:54:17.445711\n",
      "2023-12-05 21:54:18.446690\n",
      "2023-12-05 21:54:19.447216\n",
      "2023-12-05 21:54:20.448242\n",
      "2023-12-05 21:54:21.448684\n",
      "2023-12-05 21:54:22.449167\n",
      "2023-12-05 21:54:23.450183\n",
      "2023-12-05 21:54:24.450688\n",
      "2023-12-05 21:54:25.451709\n",
      "2023-12-05 21:54:26.451862\n",
      "2023-12-05 21:54:27.452008\n",
      "2023-12-05 21:54:28.452677\n",
      "2023-12-05 21:54:29.453684\n",
      "2023-12-05 21:54:30.453841\n",
      "2023-12-05 21:54:31.454699\n",
      "2023-12-05 21:54:32.455704\n",
      "2023-12-05 21:54:33.456690\n",
      "2023-12-05 21:54:34.457198\n",
      "2023-12-05 21:54:35.457659\n",
      "2023-12-05 21:54:36.458371\n",
      "2023-12-05 21:54:37.458616\n",
      "2023-12-05 21:54:38.459613\n",
      "2023-12-05 21:54:39.460670\n",
      "2023-12-05 21:54:40.461716\n",
      "2023-12-05 21:54:41.461866\n",
      "2023-12-05 21:54:42.462031\n",
      "2023-12-05 21:54:43.462194\n",
      "2023-12-05 21:54:44.462336\n",
      "2023-12-05 21:54:45.462479\n",
      "2023-12-05 21:54:46.462622\n",
      "2023-12-05 21:54:47.462768\n",
      "2023-12-05 21:54:48.462911\n",
      "2023-12-05 21:54:49.463056\n",
      "2023-12-05 21:54:50.463204\n",
      "2023-12-05 21:54:51.463381\n",
      "2023-12-05 21:54:52.464217\n",
      "2023-12-05 21:54:53.464347\n",
      "2023-12-05 21:54:54.464482\n",
      "2023-12-05 21:54:55.464610\n",
      "2023-12-05 21:54:56.464750\n",
      "2023-12-05 21:54:57.464906\n",
      "2023-12-05 21:54:58.465055\n",
      "2023-12-05 21:54:59.465680\n",
      "2023-12-05 21:55:00.465838\n",
      "2023-12-05 21:55:01.466018\n",
      "2023-12-05 21:55:02.466671\n",
      "2023-12-05 21:55:03.466819\n",
      "2023-12-05 21:55:04.467199\n",
      "2023-12-05 21:55:05.467904\n",
      "2023-12-05 21:55:06.468693\n",
      "2023-12-05 21:55:07.469665\n",
      "2023-12-05 21:55:08.470672\n",
      "2023-12-05 21:55:09.471698\n",
      "2023-12-05 21:55:10.472679\n",
      "2023-12-05 21:55:11.472813\n",
      "2023-12-05 21:55:12.472957\n",
      "2023-12-05 21:55:13.473937\n",
      "2023-12-05 21:55:14.474118\n",
      "2023-12-05 21:55:15.474257\n",
      "2023-12-05 21:55:16.474680\n",
      "2023-12-05 21:55:17.474887\n",
      "2023-12-05 21:55:18.475469\n",
      "2023-12-05 21:55:19.475818\n",
      "2023-12-05 21:55:20.476666\n",
      "2023-12-05 21:55:21.477926\n",
      "2023-12-05 21:55:22.478670\n",
      "2023-12-05 21:55:23.479661\n",
      "2023-12-05 21:55:24.480707\n",
      "2023-12-05 21:55:25.481682\n",
      "2023-12-05 21:55:26.481827\n",
      "2023-12-05 21:55:27.481982\n",
      "2023-12-05 21:55:28.482132\n",
      "2023-12-05 21:55:29.482279\n",
      "2023-12-05 21:55:30.482664\n",
      "2023-12-05 21:55:31.483292\n",
      "2023-12-05 21:55:32.483675\n",
      "2023-12-05 21:55:33.484554\n",
      "2023-12-05 21:55:34.484789\n",
      "2023-12-05 21:55:35.484944\n",
      "2023-12-05 21:55:36.485100\n",
      "2023-12-05 21:55:37.485254\n",
      "2023-12-05 21:55:38.485663\n",
      "2023-12-05 21:55:39.486673\n",
      "2023-12-05 21:55:40.487405\n",
      "2023-12-05 21:55:41.487697\n",
      "2023-12-05 21:55:42.488711\n",
      "2023-12-05 21:55:43.489824\n",
      "2023-12-05 21:55:44.491012\n",
      "2023-12-05 21:55:45.491966\n",
      "2023-12-05 21:55:46.492111\n",
      "2023-12-05 21:55:47.492286\n",
      "2023-12-05 21:55:48.492571\n",
      "2023-12-05 21:55:49.493658\n",
      "2023-12-05 21:55:50.493972\n",
      "2023-12-05 21:55:51.494683\n",
      "2023-12-05 21:55:52.494904\n",
      "2023-12-05 21:55:53.495825\n",
      "2023-12-05 21:55:54.496151\n",
      "2023-12-05 21:55:55.496689\n",
      "2023-12-05 21:55:56.497184\n",
      "2023-12-05 21:55:57.497595\n",
      "2023-12-05 21:55:58.498672\n",
      "2023-12-05 21:55:59.499053\n",
      "2023-12-05 21:56:00.499829\n",
      "2023-12-05 21:56:01.500689\n",
      "2023-12-05 21:56:02.501005\n",
      "2023-12-05 21:56:03.501164\n",
      "2023-12-05 21:56:04.501667\n",
      "2023-12-05 21:56:05.501807\n",
      "2023-12-05 21:56:06.502032\n",
      "2023-12-05 21:56:07.502678\n",
      "2023-12-05 21:56:08.503660\n",
      "2023-12-05 21:56:09.504156\n",
      "2023-12-05 21:56:10.504655\n",
      "2023-12-05 21:56:11.504784\n",
      "2023-12-05 21:56:12.505099\n",
      "2023-12-05 21:56:13.505778\n",
      "2023-12-05 21:56:14.506657\n",
      "2023-12-05 21:56:15.507378\n",
      "2023-12-05 21:56:16.507689\n",
      "2023-12-05 21:56:17.508149\n",
      "2023-12-05 21:56:18.508669\n",
      "2023-12-05 21:56:19.509659\n",
      "2023-12-05 21:56:20.510331\n",
      "2023-12-05 21:56:21.511170\n",
      "2023-12-05 21:56:22.511393\n",
      "2023-12-05 21:56:23.511602\n",
      "2023-12-05 21:56:24.512584\n",
      "2023-12-05 21:56:25.513607\n",
      "2023-12-05 21:56:26.514693\n",
      "2023-12-05 21:56:27.515238\n",
      "2023-12-05 21:56:28.515672\n",
      "2023-12-05 21:56:29.516160\n",
      "2023-12-05 21:56:30.517147\n",
      "2023-12-05 21:56:31.519415\n",
      "2023-12-05 21:56:32.519924\n",
      "2023-12-05 21:56:33.520144\n",
      "2023-12-05 21:56:34.520404\n",
      "2023-12-05 21:56:35.520656\n",
      "2023-12-05 21:56:36.521146\n",
      "2023-12-05 21:56:37.521700\n",
      "2023-12-05 21:56:38.522143\n",
      "2023-12-05 21:56:39.522653\n",
      "2023-12-05 21:56:40.523187\n",
      "2023-12-05 21:56:41.523645\n",
      "2023-12-05 21:56:42.524222\n",
      "2023-12-05 21:56:43.525145\n",
      "2023-12-05 21:56:44.526144\n",
      "2023-12-05 21:56:45.526661\n",
      "2023-12-05 21:56:46.527180\n",
      "2023-12-05 21:56:47.527644\n",
      "2023-12-05 21:56:48.528124\n",
      "2023-12-05 21:56:49.528605\n",
      "2023-12-05 21:56:50.529646\n",
      "2023-12-05 21:56:51.530081\n",
      "2023-12-05 21:56:52.530671\n",
      "2023-12-05 21:56:53.531082\n",
      "2023-12-05 21:56:54.531646\n",
      "2023-12-05 21:56:55.532327\n",
      "2023-12-05 21:56:56.533162\n",
      "2023-12-05 21:56:57.533306\n",
      "2023-12-05 21:56:58.533456\n",
      "2023-12-05 21:56:59.533692\n",
      "2023-12-05 21:57:00.534142\n",
      "2023-12-05 21:57:01.535140\n",
      "2023-12-05 21:57:02.535648\n",
      "2023-12-05 21:57:03.535786\n",
      "2023-12-05 21:57:04.536684\n",
      "2023-12-05 21:57:05.537171\n",
      "2023-12-05 21:57:06.537651\n",
      "2023-12-05 21:57:07.538885\n",
      "2023-12-05 21:57:08.540142\n",
      "2023-12-05 21:57:09.541139\n",
      "2023-12-05 21:57:10.541838\n",
      "2023-12-05 21:57:11.542134\n",
      "2023-12-05 21:57:12.542544\n",
      "2023-12-05 21:57:13.543627\n",
      "2023-12-05 21:57:14.544150\n",
      "2023-12-05 21:57:15.545139\n",
      "2023-12-05 21:57:16.545660\n",
      "2023-12-05 21:57:17.545800\n",
      "2023-12-05 21:57:18.546650\n",
      "2023-12-05 21:57:19.547136\n",
      "2023-12-05 21:57:20.548085\n",
      "2023-12-05 21:57:21.549146\n",
      "2023-12-05 21:57:22.550105\n",
      "2023-12-05 21:57:23.550456\n"
     ]
    },
    {
     "name": "stdout",
     "output_type": "stream",
     "text": [
      "2023-12-05 21:57:24.550645\n",
      "2023-12-05 21:57:25.551687\n",
      "2023-12-05 21:57:26.551812\n",
      "2023-12-05 21:57:27.552038\n",
      "2023-12-05 21:57:28.553134\n",
      "2023-12-05 21:57:29.554132\n",
      "2023-12-05 21:57:30.555135\n",
      "2023-12-05 21:57:31.555271\n",
      "2023-12-05 21:57:32.556145\n",
      "2023-12-05 21:57:33.556283\n",
      "2023-12-05 21:57:34.557132\n",
      "2023-12-05 21:57:35.557654\n",
      "2023-12-05 21:57:36.558641\n",
      "2023-12-05 21:57:37.559642\n",
      "2023-12-05 21:57:38.559794\n",
      "2023-12-05 21:57:39.561131\n",
      "2023-12-05 21:57:40.562128\n",
      "2023-12-05 21:57:41.563230\n",
      "2023-12-05 21:57:42.563398\n",
      "2023-12-05 21:57:43.563642\n",
      "2023-12-05 21:57:44.564643\n",
      "2023-12-05 21:57:45.565643\n",
      "2023-12-05 21:57:46.565799\n",
      "2023-12-05 21:57:47.567001\n",
      "2023-12-05 21:57:48.567635\n",
      "2023-12-05 21:57:49.568654\n",
      "2023-12-05 21:57:50.569638\n",
      "2023-12-05 21:57:51.570637\n",
      "2023-12-05 21:57:52.570786\n",
      "2023-12-05 21:57:53.571634\n",
      "2023-12-05 21:57:54.571847\n",
      "2023-12-05 21:57:55.572129\n",
      "2023-12-05 21:57:56.572629\n",
      "2023-12-05 21:57:57.573965\n",
      "2023-12-05 21:57:58.574129\n",
      "2023-12-05 21:57:59.574287\n",
      "2023-12-05 21:58:00.575125\n",
      "2023-12-05 21:58:01.576063\n",
      "2023-12-05 21:58:02.576262\n",
      "2023-12-05 21:58:03.577126\n",
      "2023-12-05 21:58:04.577630\n",
      "2023-12-05 21:58:05.578634\n",
      "2023-12-05 21:58:06.579628\n",
      "2023-12-05 21:58:07.580125\n",
      "2023-12-05 21:58:08.580632\n",
      "2023-12-05 21:58:09.581633\n",
      "2023-12-05 21:58:10.582549\n",
      "2023-12-05 21:58:11.583498\n",
      "2023-12-05 21:58:12.583652\n",
      "2023-12-05 21:58:13.584474\n",
      "2023-12-05 21:58:14.584627\n",
      "2023-12-05 21:58:15.584758\n",
      "2023-12-05 21:58:16.585402\n",
      "2023-12-05 21:58:17.585533\n",
      "2023-12-05 21:58:18.586365\n",
      "2023-12-05 21:58:19.587122\n",
      "2023-12-05 21:58:20.587627\n",
      "2023-12-05 21:58:21.588628\n",
      "2023-12-05 21:58:22.589286\n",
      "2023-12-05 21:58:23.590123\n",
      "2023-12-05 21:58:24.591120\n",
      "2023-12-05 21:58:25.591258\n",
      "2023-12-05 21:58:26.592124\n",
      "2023-12-05 21:58:27.592628\n",
      "2023-12-05 21:58:28.593681\n",
      "2023-12-05 21:58:29.593827\n",
      "2023-12-05 21:58:30.594816\n",
      "2023-12-05 21:58:31.594970\n",
      "2023-12-05 21:58:32.595633\n",
      "2023-12-05 21:58:33.596074\n",
      "2023-12-05 21:58:34.597093\n",
      "2023-12-05 21:58:35.597650\n",
      "2023-12-05 21:58:36.598642\n",
      "2023-12-05 21:58:37.599639\n",
      "2023-12-05 21:58:38.600630\n",
      "2023-12-05 21:58:39.601123\n",
      "2023-12-05 21:58:40.601473\n",
      "2023-12-05 21:58:41.602627\n",
      "2023-12-05 21:58:42.603635\n",
      "2023-12-05 21:58:43.604136\n",
      "2023-12-05 21:58:44.604304\n",
      "2023-12-05 21:58:45.604853\n",
      "2023-12-05 21:58:46.605010\n",
      "2023-12-05 21:58:47.606149\n",
      "2023-12-05 21:58:48.606310\n",
      "2023-12-05 21:58:49.606623\n",
      "2023-12-05 21:58:50.607513\n",
      "2023-12-05 21:58:51.608623\n",
      "2023-12-05 21:58:52.609187\n",
      "2023-12-05 21:58:53.609522\n",
      "2023-12-05 21:58:54.610648\n",
      "2023-12-05 21:58:55.611628\n",
      "2023-12-05 21:58:56.612136\n",
      "2023-12-05 21:58:57.613114\n",
      "2023-12-05 21:58:58.614114\n",
      "2023-12-05 21:58:59.614570\n",
      "2023-12-05 21:59:00.614702\n",
      "2023-12-05 21:59:01.615528\n",
      "2023-12-05 21:59:02.616120\n",
      "2023-12-05 21:59:03.617114\n",
      "2023-12-05 21:59:04.617617\n",
      "2023-12-05 21:59:05.617968\n",
      "2023-12-05 21:59:06.618618\n",
      "2023-12-05 21:59:07.619615\n",
      "2023-12-05 21:59:08.620616\n",
      "2023-12-05 21:59:09.621110\n",
      "2023-12-05 21:59:10.622112\n",
      "2023-12-05 21:59:11.622616\n",
      "2023-12-05 21:59:12.623620\n",
      "2023-12-05 21:59:13.623763\n",
      "2023-12-05 21:59:14.624111\n",
      "2023-12-05 21:59:15.624776\n",
      "2023-12-05 21:59:16.624921\n",
      "2023-12-05 21:59:17.625072\n",
      "2023-12-05 21:59:18.626209\n",
      "2023-12-05 21:59:19.626600\n",
      "2023-12-05 21:59:20.627112\n",
      "2023-12-05 21:59:21.627456\n",
      "2023-12-05 21:59:22.627615\n",
      "2023-12-05 21:59:23.628616\n",
      "2023-12-05 21:59:24.628915\n",
      "2023-12-05 21:59:25.629055\n",
      "2023-12-05 21:59:26.629621\n",
      "2023-12-05 21:59:27.630633\n",
      "2023-12-05 21:59:28.631615\n",
      "2023-12-05 21:59:29.631840\n",
      "2023-12-05 21:59:30.631988\n",
      "2023-12-05 21:59:31.632151\n",
      "2023-12-05 21:59:32.633108\n",
      "2023-12-05 21:59:33.633623\n",
      "2023-12-05 21:59:34.633763\n",
      "2023-12-05 21:59:35.634073\n",
      "2023-12-05 21:59:36.634227\n",
      "2023-12-05 21:59:37.634376\n",
      "2023-12-05 21:59:38.634614\n",
      "2023-12-05 21:59:39.635617\n",
      "2023-12-05 21:59:40.636454\n",
      "2023-12-05 21:59:41.637143\n",
      "2023-12-05 21:59:42.637609\n",
      "2023-12-05 21:59:43.638619\n",
      "2023-12-05 21:59:44.639029\n",
      "2023-12-05 21:59:45.639615\n",
      "2023-12-05 21:59:46.640620\n",
      "2023-12-05 21:59:47.641607\n",
      "2023-12-05 21:59:48.642100\n",
      "2023-12-05 21:59:49.642607\n",
      "2023-12-05 21:59:50.643651\n",
      "2023-12-05 21:59:51.644617\n",
      "2023-12-05 21:59:52.644805\n",
      "2023-12-05 21:59:53.644983\n",
      "2023-12-05 21:59:54.645135\n",
      "2023-12-05 21:59:55.645623\n",
      "2023-12-05 21:59:56.646507\n",
      "2023-12-05 21:59:57.648097\n",
      "2023-12-05 21:59:58.648616\n",
      "2023-12-05 21:59:59.649652\n",
      "2023-12-05 22:00:00.650621\n",
      "2023-12-05 22:00:01.651102\n",
      "2023-12-05 22:00:02.652106\n",
      "2023-12-05 22:00:03.652607\n",
      "2023-12-05 22:00:04.652754\n",
      "2023-12-05 22:00:05.652881\n",
      "2023-12-05 22:00:06.653007\n",
      "2023-12-05 22:00:07.653918\n",
      "2023-12-05 22:00:08.654612\n",
      "2023-12-05 22:00:09.655636\n",
      "2023-12-05 22:00:10.656621\n",
      "2023-12-05 22:00:11.657147\n",
      "2023-12-05 22:00:12.657607\n",
      "2023-12-05 22:00:13.658107\n",
      "2023-12-05 22:00:14.658605\n",
      "2023-12-05 22:00:15.659600\n",
      "2023-12-05 22:00:16.660604\n",
      "2023-12-05 22:00:17.661623\n",
      "2023-12-05 22:00:18.662107\n",
      "2023-12-05 22:00:19.662609\n",
      "2023-12-05 22:00:20.663097\n",
      "2023-12-05 22:00:21.663598\n",
      "2023-12-05 22:00:22.664600\n",
      "2023-12-05 22:00:23.664759\n",
      "2023-12-05 22:00:24.665607\n",
      "2023-12-05 22:00:25.665737\n",
      "2023-12-05 22:00:26.666776\n",
      "2023-12-05 22:00:27.667123\n",
      "2023-12-05 22:00:28.667656\n",
      "2023-12-05 22:00:29.668289\n",
      "2023-12-05 22:00:30.669097\n",
      "2023-12-05 22:00:31.670095\n",
      "2023-12-05 22:00:32.670596\n",
      "2023-12-05 22:00:33.670763\n",
      "2023-12-05 22:00:34.671604\n",
      "2023-12-05 22:00:35.672094\n",
      "2023-12-05 22:00:36.672597\n",
      "2023-12-05 22:00:37.673093\n",
      "2023-12-05 22:00:38.673600\n",
      "2023-12-05 22:00:39.674605\n",
      "2023-12-05 22:00:40.674749\n",
      "2023-12-05 22:00:41.675611\n",
      "2023-12-05 22:00:42.675763\n",
      "2023-12-05 22:00:43.676609\n",
      "2023-12-05 22:00:44.677613\n",
      "2023-12-05 22:00:45.678598\n",
      "2023-12-05 22:00:46.679598\n",
      "2023-12-05 22:00:47.680600\n",
      "2023-12-05 22:00:48.681588\n",
      "2023-12-05 22:00:49.681743\n",
      "2023-12-05 22:00:50.682105\n",
      "2023-12-05 22:00:51.682757\n",
      "2023-12-05 22:00:52.683596\n",
      "2023-12-05 22:00:53.683763\n",
      "2023-12-05 22:00:54.683982\n",
      "2023-12-05 22:00:55.684597\n",
      "2023-12-05 22:00:56.684809\n",
      "2023-12-05 22:00:57.684944\n",
      "2023-12-05 22:00:58.685601\n",
      "2023-12-05 22:00:59.685812\n",
      "2023-12-05 22:01:00.685978\n",
      "2023-12-05 22:01:01.686606\n",
      "2023-12-05 22:01:02.687086\n",
      "2023-12-05 22:01:03.687484\n",
      "2023-12-05 22:01:04.688593\n",
      "2023-12-05 22:01:05.689101\n",
      "2023-12-05 22:01:06.690109\n",
      "2023-12-05 22:01:07.690589\n",
      "2023-12-05 22:01:08.691078\n",
      "2023-12-05 22:01:09.691598\n",
      "2023-12-05 22:01:10.692417\n",
      "2023-12-05 22:01:11.692733\n",
      "2023-12-05 22:01:12.693087\n",
      "2023-12-05 22:01:13.693228\n",
      "2023-12-05 22:01:14.693450\n",
      "2023-12-05 22:01:15.694566\n",
      "2023-12-05 22:01:16.694712\n",
      "2023-12-05 22:01:17.695606\n",
      "2023-12-05 22:01:18.696614\n",
      "2023-12-05 22:01:19.697129\n",
      "2023-12-05 22:01:20.697615\n",
      "2023-12-05 22:01:21.698594\n",
      "2023-12-05 22:01:22.699598\n",
      "2023-12-05 22:01:23.700603\n",
      "2023-12-05 22:01:24.701613\n",
      "2023-12-05 22:01:25.701762\n",
      "2023-12-05 22:01:26.702087\n",
      "2023-12-05 22:01:27.702639\n",
      "2023-12-05 22:01:28.703608\n",
      "2023-12-05 22:01:29.703744\n",
      "2023-12-05 22:01:30.704612\n",
      "2023-12-05 22:01:31.704742\n",
      "2023-12-05 22:01:32.704962\n",
      "2023-12-05 22:01:33.705209\n",
      "2023-12-05 22:01:34.706088\n",
      "2023-12-05 22:01:35.706593\n",
      "2023-12-05 22:01:36.707135\n",
      "2023-12-05 22:01:37.707594\n",
      "2023-12-05 22:01:38.709082\n",
      "2023-12-05 22:01:39.710092\n",
      "2023-12-05 22:01:40.711101\n",
      "2023-12-05 22:01:41.711597\n",
      "2023-12-05 22:01:42.712554\n",
      "2023-12-05 22:01:43.712704\n",
      "2023-12-05 22:01:44.713601\n",
      "2023-12-05 22:01:45.714594\n",
      "2023-12-05 22:01:46.715595\n",
      "2023-12-05 22:01:47.716077\n",
      "2023-12-05 22:01:48.716599\n",
      "2023-12-05 22:01:49.716926\n",
      "2023-12-05 22:01:50.717626\n",
      "2023-12-05 22:01:51.717915\n",
      "2023-12-05 22:01:52.718585\n",
      "2023-12-05 22:01:53.719590\n",
      "2023-12-05 22:01:54.720580\n",
      "2023-12-05 22:01:55.720921\n",
      "2023-12-05 22:01:56.721590\n",
      "2023-12-05 22:01:57.722582\n",
      "2023-12-05 22:01:58.723020\n",
      "2023-12-05 22:01:59.723585\n",
      "2023-12-05 22:02:00.724577\n",
      "2023-12-05 22:02:01.725586\n",
      "2023-12-05 22:02:02.726595\n",
      "2023-12-05 22:02:03.727530\n",
      "2023-12-05 22:02:04.728580\n",
      "2023-12-05 22:02:05.729075\n",
      "2023-12-05 22:02:06.729579\n",
      "2023-12-05 22:02:07.730578\n",
      "2023-12-05 22:02:08.730738\n",
      "2023-12-05 22:02:09.731581\n",
      "2023-12-05 22:02:10.731735\n",
      "2023-12-05 22:02:11.732591\n",
      "2023-12-05 22:02:12.732743\n",
      "2023-12-05 22:02:13.733071\n",
      "2023-12-05 22:02:14.733202\n",
      "2023-12-05 22:02:15.734311\n",
      "2023-12-05 22:02:16.734470\n",
      "2023-12-05 22:02:17.734623\n",
      "2023-12-05 22:02:18.734803\n",
      "2023-12-05 22:02:19.734971\n",
      "2023-12-05 22:02:20.736071\n",
      "2023-12-05 22:02:21.736767\n",
      "2023-12-05 22:02:22.737743\n",
      "2023-12-05 22:02:23.738582\n",
      "2023-12-05 22:02:24.739576\n",
      "2023-12-05 22:02:25.740586\n",
      "2023-12-05 22:02:26.746075\n",
      "2023-12-05 22:02:27.746593\n"
     ]
    },
    {
     "name": "stdout",
     "output_type": "stream",
     "text": [
      "2023-12-05 22:02:28.747185\n",
      "2023-12-05 22:02:29.747662\n",
      "2023-12-05 22:02:30.748583\n",
      "2023-12-05 22:02:31.749585\n",
      "2023-12-05 22:02:32.750077\n",
      "2023-12-05 22:02:33.750578\n",
      "2023-12-05 22:02:34.751591\n",
      "2023-12-05 22:02:35.752586\n",
      "2023-12-05 22:02:36.752715\n",
      "2023-12-05 22:02:37.752847\n",
      "2023-12-05 22:02:38.752992\n",
      "2023-12-05 22:02:39.753120\n",
      "2023-12-05 22:02:40.753250\n",
      "2023-12-05 22:02:41.753574\n",
      "2023-12-05 22:02:42.753709\n",
      "2023-12-05 22:02:43.754066\n",
      "2023-12-05 22:02:44.754587\n",
      "2023-12-05 22:02:45.755651\n",
      "2023-12-05 22:02:46.755789\n",
      "2023-12-05 22:02:47.756487\n",
      "2023-12-05 22:02:48.757598\n",
      "2023-12-05 22:02:49.758675\n",
      "2023-12-05 22:02:50.759749\n",
      "2023-12-05 22:02:51.760069\n",
      "2023-12-05 22:02:52.761077\n",
      "2023-12-05 22:02:53.761843\n",
      "2023-12-05 22:02:54.761977\n",
      "2023-12-05 22:02:55.762811\n",
      "2023-12-05 22:02:56.762935\n",
      "2023-12-05 22:02:57.763166\n",
      "2023-12-05 22:02:58.763572\n",
      "2023-12-05 22:02:59.763715\n",
      "2023-12-05 22:03:00.764062\n",
      "2023-12-05 22:03:01.764203\n",
      "2023-12-05 22:03:02.764364\n",
      "2023-12-05 22:03:03.764565\n",
      "2023-12-05 22:03:04.765570\n",
      "2023-12-05 22:03:05.765725\n",
      "2023-12-05 22:03:06.766588\n",
      "2023-12-05 22:03:07.767613\n",
      "2023-12-05 22:03:08.768081\n",
      "2023-12-05 22:03:09.768575\n",
      "2023-12-05 22:03:10.769570\n",
      "2023-12-05 22:03:11.770613\n",
      "2023-12-05 22:03:12.771073\n",
      "2023-12-05 22:03:13.772179\n",
      "2023-12-05 22:03:14.772358\n",
      "2023-12-05 22:03:15.772567\n",
      "2023-12-05 22:03:16.772710\n",
      "2023-12-05 22:03:17.772852\n",
      "2023-12-05 22:03:18.773562\n",
      "2023-12-05 22:03:19.773707\n",
      "2023-12-05 22:03:20.773877\n",
      "2023-12-05 22:03:21.773998\n",
      "2023-12-05 22:03:22.774234\n",
      "2023-12-05 22:03:23.775081\n",
      "2023-12-05 22:03:24.775230\n",
      "2023-12-05 22:03:25.776066\n",
      "2023-12-05 22:03:26.777100\n",
      "2023-12-05 22:03:27.777933\n",
      "2023-12-05 22:03:28.778559\n",
      "2023-12-05 22:03:29.779561\n",
      "2023-12-05 22:03:30.780663\n",
      "2023-12-05 22:03:31.781565\n",
      "2023-12-05 22:03:32.782558\n",
      "2023-12-05 22:03:33.783081\n",
      "2023-12-05 22:03:34.783241\n",
      "2023-12-05 22:03:35.783562\n",
      "2023-12-05 22:03:36.784565\n",
      "2023-12-05 22:03:37.785559\n",
      "2023-12-05 22:03:38.786567\n",
      "2023-12-05 22:03:39.787126\n",
      "2023-12-05 22:03:40.787599\n",
      "2023-12-05 22:03:41.788558\n",
      "2023-12-05 22:03:42.789556\n",
      "2023-12-05 22:03:43.796571\n",
      "2023-12-05 22:03:44.796895\n",
      "2023-12-05 22:03:45.797094\n",
      "2023-12-05 22:03:46.797781\n",
      "2023-12-05 22:03:47.798019\n",
      "2023-12-05 22:03:48.798590\n",
      "2023-12-05 22:03:49.799179\n",
      "2023-12-05 22:03:50.799595\n",
      "2023-12-05 22:03:51.800580\n",
      "2023-12-05 22:03:52.800916\n",
      "2023-12-05 22:03:53.801585\n",
      "2023-12-05 22:03:54.801737\n",
      "2023-12-05 22:03:55.801872\n",
      "2023-12-05 22:03:56.802004\n",
      "2023-12-05 22:03:57.802694\n",
      "2023-12-05 22:03:58.803770\n",
      "2023-12-05 22:03:59.804848\n",
      "2023-12-05 22:04:00.805920\n",
      "2023-12-05 22:04:01.806654\n",
      "2023-12-05 22:04:02.806923\n",
      "2023-12-05 22:04:03.808039\n",
      "2023-12-05 22:04:04.808650\n",
      "2023-12-05 22:04:05.809556\n",
      "2023-12-05 22:04:06.810048\n",
      "2023-12-05 22:04:07.810211\n",
      "2023-12-05 22:04:08.811057\n",
      "2023-12-05 22:04:09.811360\n",
      "2023-12-05 22:04:10.812565\n",
      "2023-12-05 22:04:11.812695\n",
      "2023-12-05 22:04:12.812828\n",
      "2023-12-05 22:04:13.812950\n",
      "2023-12-05 22:04:14.813535\n",
      "2023-12-05 22:04:15.813663\n",
      "2023-12-05 22:04:16.813829\n",
      "2023-12-05 22:04:17.814367\n",
      "2023-12-05 22:04:18.815218\n",
      "2023-12-05 22:04:19.815742\n",
      "2023-12-05 22:04:20.815868\n",
      "2023-12-05 22:04:21.816237\n",
      "2023-12-05 22:04:22.817002\n",
      "2023-12-05 22:04:23.817657\n",
      "2023-12-05 22:04:24.817889\n",
      "2023-12-05 22:04:25.818067\n",
      "2023-12-05 22:04:26.818863\n",
      "2023-12-05 22:04:27.820132\n",
      "2023-12-05 22:04:28.820941\n",
      "2023-12-05 22:04:29.821559\n",
      "2023-12-05 22:04:30.822194\n",
      "2023-12-05 22:04:31.822580\n",
      "2023-12-05 22:04:32.823355\n",
      "2023-12-05 22:04:33.823615\n",
      "2023-12-05 22:04:34.824111\n",
      "2023-12-05 22:04:35.824555\n",
      "2023-12-05 22:04:36.824724\n",
      "2023-12-05 22:04:37.824882\n",
      "2023-12-05 22:04:38.825946\n",
      "2023-12-05 22:04:39.826095\n",
      "2023-12-05 22:04:40.826250\n",
      "2023-12-05 22:04:41.826401\n",
      "2023-12-05 22:04:42.826957\n",
      "2023-12-05 22:04:43.827494\n",
      "2023-12-05 22:04:44.828626\n",
      "2023-12-05 22:04:45.829460\n",
      "2023-12-05 22:04:46.830871\n",
      "2023-12-05 22:04:47.831855\n",
      "2023-12-05 22:04:48.832561\n",
      "2023-12-05 22:04:49.833580\n",
      "2023-12-05 22:04:50.833747\n",
      "2023-12-05 22:04:51.833917\n",
      "2023-12-05 22:04:52.834893\n",
      "2023-12-05 22:04:53.835729\n",
      "2023-12-05 22:04:54.836614\n",
      "2023-12-05 22:04:55.837648\n",
      "2023-12-05 22:04:56.838676\n",
      "2023-12-05 22:04:57.839539\n",
      "2023-12-05 22:04:58.840539\n",
      "2023-12-05 22:04:59.841036\n",
      "2023-12-05 22:05:00.841994\n",
      "2023-12-05 22:05:01.842583\n",
      "2023-12-05 22:05:02.842735\n",
      "2023-12-05 22:05:03.842893\n",
      "2023-12-05 22:05:04.843547\n",
      "2023-12-05 22:05:05.843729\n",
      "2023-12-05 22:05:06.844553\n",
      "2023-12-05 22:05:07.845455\n",
      "2023-12-05 22:05:08.846550\n",
      "2023-12-05 22:05:09.846764\n",
      "2023-12-05 22:05:10.847543\n",
      "2023-12-05 22:05:11.848054\n",
      "2023-12-05 22:05:12.849076\n",
      "2023-12-05 22:05:13.850051\n",
      "2023-12-05 22:05:14.851031\n",
      "2023-12-05 22:05:15.851972\n",
      "2023-12-05 22:05:16.852798\n",
      "2023-12-05 22:05:17.852928\n",
      "2023-12-05 22:05:18.853059\n",
      "2023-12-05 22:05:19.854037\n",
      "2023-12-05 22:05:20.855050\n",
      "2023-12-05 22:05:21.856031\n",
      "2023-12-05 22:05:22.856760\n",
      "2023-12-05 22:05:23.857576\n",
      "2023-12-05 22:05:24.858554\n",
      "2023-12-05 22:05:25.859583\n",
      "2023-12-05 22:05:26.859718\n",
      "2023-12-05 22:05:27.859851\n",
      "2023-12-05 22:05:28.860031\n",
      "2023-12-05 22:05:29.860540\n",
      "2023-12-05 22:05:30.861565\n",
      "2023-12-05 22:05:31.862026\n",
      "2023-12-05 22:05:32.862187\n",
      "2023-12-05 22:05:33.863029\n",
      "2023-12-05 22:05:34.863661\n",
      "2023-12-05 22:05:35.863921\n",
      "2023-12-05 22:05:36.864898\n",
      "2023-12-05 22:05:37.865961\n",
      "2023-12-05 22:05:38.866112\n",
      "2023-12-05 22:05:39.866544\n",
      "2023-12-05 22:05:40.866845\n",
      "2023-12-05 22:05:41.868033\n",
      "2023-12-05 22:05:42.868778\n",
      "2023-12-05 22:05:43.869759\n",
      "2023-12-05 22:05:44.870757\n",
      "2023-12-05 22:05:45.871531\n",
      "2023-12-05 22:05:46.872534\n",
      "2023-12-05 22:05:47.873549\n",
      "2023-12-05 22:05:48.874666\n",
      "2023-12-05 22:05:49.875544\n",
      "2023-12-05 22:05:50.875692\n",
      "2023-12-05 22:05:51.876553\n",
      "2023-12-05 22:05:52.877087\n",
      "2023-12-05 22:05:53.877747\n",
      "2023-12-05 22:05:54.878123\n",
      "2023-12-05 22:05:55.878536\n",
      "2023-12-05 22:05:56.879512\n",
      "2023-12-05 22:05:57.879985\n",
      "2023-12-05 22:05:58.880572\n",
      "2023-12-05 22:05:59.881552\n",
      "2023-12-05 22:06:00.882420\n",
      "2023-12-05 22:06:01.883500\n",
      "2023-12-05 22:06:02.884494\n",
      "2023-12-05 22:06:03.884991\n",
      "2023-12-05 22:06:04.885684\n",
      "2023-12-05 22:06:05.886305\n",
      "2023-12-05 22:06:06.886440\n",
      "2023-12-05 22:06:07.887310\n",
      "2023-12-05 22:06:08.888531\n",
      "2023-12-05 22:06:09.889261\n",
      "2023-12-05 22:06:10.889407\n",
      "2023-12-05 22:06:11.890235\n",
      "2023-12-05 22:06:12.890562\n",
      "2023-12-05 22:06:13.891197\n",
      "2023-12-05 22:06:14.891532\n",
      "2023-12-05 22:06:15.892020\n",
      "2023-12-05 22:06:16.893020\n",
      "2023-12-05 22:06:17.894102\n",
      "2023-12-05 22:06:18.895019\n",
      "2023-12-05 22:06:19.895174\n",
      "2023-12-05 22:06:20.896086\n",
      "2023-12-05 22:06:21.897037\n",
      "2023-12-05 22:06:22.897611\n",
      "2023-12-05 22:06:23.898533\n",
      "2023-12-05 22:06:24.898967\n",
      "2023-12-05 22:06:25.899955\n",
      "2023-12-05 22:06:26.900495\n",
      "2023-12-05 22:06:27.901018\n",
      "2023-12-05 22:06:28.901533\n",
      "2023-12-05 22:06:29.901977\n",
      "2023-12-05 22:06:30.903019\n",
      "2023-12-05 22:06:31.903530\n",
      "2023-12-05 22:06:32.904045\n",
      "2023-12-05 22:06:33.904538\n",
      "2023-12-05 22:06:34.905672\n",
      "2023-12-05 22:06:35.905799\n",
      "2023-12-05 22:06:36.905948\n",
      "2023-12-05 22:06:37.906111\n",
      "2023-12-05 22:06:38.906688\n",
      "2023-12-05 22:06:39.907070\n",
      "2023-12-05 22:06:40.907514\n",
      "2023-12-05 22:06:41.908636\n",
      "2023-12-05 22:06:42.909616\n",
      "2023-12-05 22:06:43.910558\n",
      "2023-12-05 22:06:44.911516\n",
      "2023-12-05 22:06:45.912565\n",
      "2023-12-05 22:06:46.913517\n",
      "2023-12-05 22:06:47.914013\n",
      "2023-12-05 22:06:48.915013\n",
      "2023-12-05 22:06:49.915554\n",
      "2023-12-05 22:06:50.916463\n",
      "2023-12-05 22:06:51.917379\n",
      "2023-12-05 22:06:52.918521\n",
      "2023-12-05 22:06:53.919023\n",
      "2023-12-05 22:06:54.920015\n",
      "2023-12-05 22:06:55.920550\n",
      "2023-12-05 22:06:56.921346\n",
      "2023-12-05 22:06:57.922343\n",
      "2023-12-05 22:06:58.922550\n",
      "2023-12-05 22:06:59.923553\n",
      "2023-12-05 22:07:00.923698\n",
      "2023-12-05 22:07:01.924014\n",
      "2023-12-05 22:07:02.925009\n",
      "2023-12-05 22:07:03.925131\n",
      "2023-12-05 22:07:04.925271\n",
      "2023-12-05 22:07:05.926016\n",
      "2023-12-05 22:07:06.926170\n",
      "2023-12-05 22:07:07.926823\n",
      "2023-12-05 22:07:08.927043\n",
      "2023-12-05 22:07:09.927532\n",
      "2023-12-05 22:07:10.927879\n",
      "2023-12-05 22:07:11.928530\n",
      "2023-12-05 22:07:12.929561\n",
      "2023-12-05 22:07:13.930010\n",
      "2023-12-05 22:07:14.930556\n",
      "2023-12-05 22:07:15.931562\n",
      "2023-12-05 22:07:16.931707\n",
      "2023-12-05 22:07:17.932513\n",
      "2023-12-05 22:07:18.932673\n",
      "2023-12-05 22:07:19.932830\n",
      "2023-12-05 22:07:20.932975\n",
      "2023-12-05 22:07:21.933859\n",
      "2023-12-05 22:07:22.934007\n",
      "2023-12-05 22:07:23.934157\n",
      "2023-12-05 22:07:24.934305\n",
      "2023-12-05 22:07:25.934601\n",
      "2023-12-05 22:07:26.935572\n",
      "2023-12-05 22:07:27.935827\n",
      "2023-12-05 22:07:28.935980\n",
      "2023-12-05 22:07:29.936292\n",
      "2023-12-05 22:07:30.936440\n",
      "2023-12-05 22:07:31.936904\n"
     ]
    },
    {
     "name": "stdout",
     "output_type": "stream",
     "text": [
      "2023-12-05 22:07:32.937513\n",
      "2023-12-05 22:07:33.938555\n",
      "2023-12-05 22:07:34.939553\n",
      "2023-12-05 22:07:35.940009\n",
      "2023-12-05 22:07:36.940505\n",
      "2023-12-05 22:07:37.941557\n",
      "2023-12-05 22:07:38.942555\n",
      "2023-12-05 22:07:39.942702\n",
      "2023-12-05 22:07:40.942846\n",
      "2023-12-05 22:07:41.942975\n",
      "2023-12-05 22:07:42.943831\n",
      "2023-12-05 22:07:43.944008\n",
      "2023-12-05 22:07:44.944146\n",
      "2023-12-05 22:07:45.944506\n",
      "2023-12-05 22:07:46.944654\n",
      "2023-12-05 22:07:47.945561\n",
      "2023-12-05 22:07:48.946562\n",
      "2023-12-05 22:07:49.947001\n",
      "2023-12-05 22:07:50.947395\n",
      "2023-12-05 22:07:51.948249\n",
      "2023-12-05 22:07:52.948568\n",
      "2023-12-05 22:07:53.948938\n",
      "2023-12-05 22:07:54.949554\n",
      "2023-12-05 22:07:55.950510\n",
      "2023-12-05 22:07:56.951265\n",
      "2023-12-05 22:07:57.952014\n",
      "2023-12-05 22:07:58.953036\n",
      "2023-12-05 22:07:59.953576\n",
      "2023-12-05 22:08:00.953998\n",
      "2023-12-05 22:08:01.954138\n",
      "2023-12-05 22:08:02.954287\n",
      "2023-12-05 22:08:03.954435\n",
      "2023-12-05 22:08:04.954558\n",
      "2023-12-05 22:08:05.954761\n",
      "2023-12-05 22:08:06.955305\n",
      "2023-12-05 22:08:07.955998\n",
      "2023-12-05 22:08:08.956533\n",
      "2023-12-05 22:08:09.957021\n",
      "2023-12-05 22:08:10.957776\n",
      "2023-12-05 22:08:11.957988\n",
      "2023-12-05 22:08:12.958571\n",
      "2023-12-05 22:08:13.959552\n",
      "2023-12-05 22:08:14.960568\n",
      "2023-12-05 22:08:15.961501\n",
      "2023-12-05 22:08:16.961998\n",
      "2023-12-05 22:08:17.962997\n",
      "2023-12-05 22:08:18.963203\n",
      "2023-12-05 22:08:19.964496\n",
      "2023-12-05 22:08:20.965562\n",
      "2023-12-05 22:08:21.965992\n",
      "2023-12-05 22:08:22.966679\n",
      "2023-12-05 22:08:23.967470\n",
      "2023-12-05 22:08:24.967990\n",
      "2023-12-05 22:08:25.968993\n",
      "2023-12-05 22:08:26.969991\n",
      "2023-12-05 22:08:27.970549\n",
      "2023-12-05 22:08:28.971511\n",
      "2023-12-05 22:08:29.971997\n",
      "2023-12-05 22:08:30.972535\n",
      "2023-12-05 22:08:31.973502\n",
      "2023-12-05 22:08:32.973657\n",
      "2023-12-05 22:08:33.973990\n",
      "2023-12-05 22:08:34.974552\n",
      "2023-12-05 22:08:35.974685\n",
      "2023-12-05 22:08:36.974996\n",
      "2023-12-05 22:08:37.976057\n",
      "2023-12-05 22:08:38.976558\n",
      "2023-12-05 22:08:39.977029\n",
      "2023-12-05 22:08:40.977500\n",
      "2023-12-05 22:08:41.977703\n",
      "2023-12-05 22:08:42.978156\n",
      "2023-12-05 22:08:43.978552\n",
      "2023-12-05 22:08:44.979559\n",
      "2023-12-05 22:08:45.979991\n",
      "2023-12-05 22:08:46.981510\n",
      "2023-12-05 22:08:47.981642\n",
      "2023-12-05 22:08:48.982556\n",
      "2023-12-05 22:08:49.982987\n",
      "2023-12-05 22:08:50.983131\n",
      "2023-12-05 22:08:51.983309\n",
      "2023-12-05 22:08:52.983459\n",
      "2023-12-05 22:08:53.983624\n",
      "2023-12-05 22:08:54.983778\n",
      "2023-12-05 22:08:55.983987\n",
      "2023-12-05 22:08:56.984140\n",
      "2023-12-05 22:08:57.984987\n",
      "2023-12-05 22:08:58.985434\n",
      "2023-12-05 22:08:59.985578\n",
      "2023-12-05 22:09:00.985983\n",
      "2023-12-05 22:09:01.986938\n",
      "2023-12-05 22:09:02.987543\n",
      "2023-12-05 22:09:03.987715\n",
      "2023-12-05 22:09:04.988489\n",
      "2023-12-05 22:09:05.989553\n",
      "2023-12-05 22:09:06.990552\n",
      "2023-12-05 22:09:07.990709\n",
      "2023-12-05 22:09:08.991508\n",
      "2023-12-05 22:09:09.991757\n",
      "2023-12-05 22:09:10.992477\n",
      "2023-12-05 22:09:11.992929\n",
      "2023-12-05 22:09:12.993567\n",
      "2023-12-05 22:09:13.993752\n",
      "2023-12-05 22:09:14.993901\n",
      "2023-12-05 22:09:15.994568\n",
      "2023-12-05 22:09:16.995501\n",
      "2023-12-05 22:09:17.996594\n",
      "2023-12-05 22:09:18.996990\n",
      "2023-12-05 22:09:19.997220\n",
      "2023-12-05 22:09:20.997494\n",
      "2023-12-05 22:09:21.998554\n",
      "2023-12-05 22:09:22.999343\n",
      "2023-12-05 22:09:23.999562\n",
      "2023-12-05 22:09:25.000126\n",
      "2023-12-05 22:09:26.000567\n",
      "2023-12-05 22:09:27.001433\n",
      "2023-12-05 22:09:28.001563\n",
      "2023-12-05 22:09:29.002052\n",
      "2023-12-05 22:09:30.002200\n",
      "2023-12-05 22:09:31.002485\n",
      "2023-12-05 22:09:32.002635\n",
      "2023-12-05 22:09:33.003588\n",
      "2023-12-05 22:09:34.003977\n",
      "2023-12-05 22:09:35.004115\n",
      "2023-12-05 22:09:36.004565\n",
      "2023-12-05 22:09:37.004709\n",
      "2023-12-05 22:09:38.005228\n",
      "2023-12-05 22:09:39.005370\n",
      "2023-12-05 22:09:40.005540\n",
      "2023-12-05 22:09:41.005686\n",
      "2023-12-05 22:09:42.005844\n",
      "2023-12-05 22:09:43.006554\n",
      "2023-12-05 22:09:44.006983\n",
      "2023-12-05 22:09:45.007496\n",
      "2023-12-05 22:09:46.008558\n",
      "2023-12-05 22:09:47.009550\n",
      "2023-12-05 22:09:48.010609\n",
      "2023-12-05 22:09:49.011484\n",
      "2023-12-05 22:09:50.011628\n",
      "2023-12-05 22:09:51.011771\n",
      "2023-12-05 22:09:52.011913\n",
      "2023-12-05 22:09:53.012561\n",
      "2023-12-05 22:09:54.013674\n",
      "2023-12-05 22:09:55.013825\n",
      "2023-12-05 22:09:56.013974\n",
      "2023-12-05 22:09:57.014515\n",
      "2023-12-05 22:09:58.015505\n",
      "2023-12-05 22:09:59.016751\n",
      "2023-12-05 22:10:00.017402\n",
      "2023-12-05 22:10:01.017569\n",
      "2023-12-05 22:10:02.017970\n",
      "2023-12-05 22:10:03.018494\n",
      "2023-12-05 22:10:04.018970\n",
      "2023-12-05 22:10:05.019497\n",
      "2023-12-05 22:10:06.020558\n",
      "2023-12-05 22:10:07.021634\n",
      "2023-12-05 22:10:08.021772\n",
      "2023-12-05 22:10:09.022932\n",
      "2023-12-05 22:10:10.023491\n",
      "2023-12-05 22:10:11.023625\n",
      "2023-12-05 22:10:12.023768\n",
      "2023-12-05 22:10:13.024486\n",
      "2023-12-05 22:10:14.024977\n",
      "2023-12-05 22:10:15.025971\n",
      "2023-12-05 22:10:16.026143\n",
      "2023-12-05 22:10:17.026307\n",
      "2023-12-05 22:10:18.026575\n",
      "2023-12-05 22:10:19.026966\n",
      "2023-12-05 22:10:20.027485\n",
      "2023-12-05 22:10:21.027984\n",
      "2023-12-05 22:10:22.028557\n",
      "2023-12-05 22:10:23.029551\n",
      "2023-12-05 22:10:24.030552\n",
      "2023-12-05 22:10:25.030966\n",
      "2023-12-05 22:10:26.031475\n",
      "2023-12-05 22:10:27.031993\n",
      "2023-12-05 22:10:28.032519\n",
      "2023-12-05 22:10:29.033559\n",
      "2023-12-05 22:10:30.033965\n",
      "2023-12-05 22:10:31.034472\n",
      "2023-12-05 22:10:32.035558\n",
      "2023-12-05 22:10:33.035767\n",
      "2023-12-05 22:10:34.036777\n",
      "2023-12-05 22:10:35.036964\n",
      "2023-12-05 22:10:36.037561\n",
      "2023-12-05 22:10:37.038561\n",
      "2023-12-05 22:10:38.039555\n",
      "2023-12-05 22:10:39.040541\n",
      "2023-12-05 22:10:40.041560\n",
      "2023-12-05 22:10:41.042469\n",
      "2023-12-05 22:10:42.042597\n",
      "2023-12-05 22:10:43.042722\n",
      "2023-12-05 22:10:44.043961\n",
      "2023-12-05 22:10:45.044964\n",
      "2023-12-05 22:10:46.046098\n",
      "2023-12-05 22:10:47.046862\n",
      "2023-12-05 22:10:48.047768\n",
      "2023-12-05 22:10:49.048615\n",
      "2023-12-05 22:10:50.049557\n",
      "2023-12-05 22:10:51.050557\n",
      "2023-12-05 22:10:52.051573\n",
      "2023-12-05 22:10:53.052694\n",
      "2023-12-05 22:10:54.053310\n",
      "2023-12-05 22:10:55.053605\n",
      "2023-12-05 22:10:56.053995\n",
      "2023-12-05 22:10:57.054548\n",
      "2023-12-05 22:10:58.055105\n",
      "2023-12-05 22:10:59.055383\n",
      "2023-12-05 22:11:00.056004\n",
      "2023-12-05 22:11:01.056172\n",
      "2023-12-05 22:11:02.056961\n",
      "2023-12-05 22:11:03.057586\n",
      "2023-12-05 22:11:04.058541\n",
      "2023-12-05 22:11:05.059632\n",
      "2023-12-05 22:11:06.060466\n",
      "2023-12-05 22:11:07.061493\n",
      "2023-12-05 22:11:08.062503\n",
      "2023-12-05 22:11:09.063209\n",
      "2023-12-05 22:11:10.063743\n",
      "2023-12-05 22:11:11.064305\n",
      "2023-12-05 22:11:12.065311\n",
      "2023-12-05 22:11:13.065862\n",
      "2023-12-05 22:11:14.066030\n",
      "2023-12-05 22:11:15.066517\n",
      "2023-12-05 22:11:16.067015\n",
      "2023-12-05 22:11:17.067779\n",
      "2023-12-05 22:11:18.068477\n",
      "2023-12-05 22:11:19.069477\n",
      "2023-12-05 22:11:20.069956\n",
      "2023-12-05 22:11:21.070462\n",
      "2023-12-05 22:11:22.071469\n",
      "2023-12-05 22:11:23.071960\n",
      "2023-12-05 22:11:24.072978\n",
      "2023-12-05 22:11:25.073110\n",
      "2023-12-05 22:11:26.073249\n",
      "2023-12-05 22:11:27.073711\n",
      "2023-12-05 22:11:28.073952\n",
      "2023-12-05 22:11:29.074563\n",
      "2023-12-05 22:11:30.075241\n",
      "2023-12-05 22:11:31.075396\n",
      "2023-12-05 22:11:32.075953\n",
      "2023-12-05 22:11:33.076954\n",
      "2023-12-05 22:11:34.077454\n",
      "2023-12-05 22:11:35.078554\n",
      "2023-12-05 22:11:36.079460\n",
      "2023-12-05 22:11:37.080455\n",
      "2023-12-05 22:11:38.080698\n",
      "2023-12-05 22:11:39.081454\n",
      "2023-12-05 22:11:40.081630\n",
      "2023-12-05 22:11:41.081784\n",
      "2023-12-05 22:11:42.082460\n",
      "2023-12-05 22:11:43.083557\n",
      "2023-12-05 22:11:44.084777\n",
      "2023-12-05 22:11:45.084923\n",
      "2023-12-05 22:11:46.085092\n",
      "2023-12-05 22:11:47.085238\n",
      "2023-12-05 22:11:48.085455\n",
      "2023-12-05 22:11:49.085948\n",
      "2023-12-05 22:11:50.086567\n",
      "2023-12-05 22:11:51.086982\n",
      "2023-12-05 22:11:52.087448\n",
      "2023-12-05 22:11:53.088448\n",
      "2023-12-05 22:11:54.089454\n",
      "2023-12-05 22:11:55.090563\n",
      "2023-12-05 22:11:56.091623\n",
      "2023-12-05 22:11:57.091966\n",
      "2023-12-05 22:11:58.092977\n",
      "2023-12-05 22:11:59.093566\n",
      "2023-12-05 22:12:00.093932\n",
      "2023-12-05 22:12:01.094444\n",
      "2023-12-05 22:12:02.094719\n",
      "2023-12-05 22:12:03.095416\n",
      "2023-12-05 22:12:04.095594\n",
      "2023-12-05 22:12:05.096370\n",
      "2023-12-05 22:12:06.097362\n",
      "2023-12-05 22:12:07.097950\n",
      "2023-12-05 22:12:08.098946\n",
      "2023-12-05 22:12:09.099713\n",
      "2023-12-05 22:12:10.100459\n",
      "2023-12-05 22:12:11.100944\n",
      "2023-12-05 22:12:12.101948\n",
      "2023-12-05 22:12:13.102956\n",
      "2023-12-05 22:12:14.103943\n",
      "2023-12-05 22:12:15.104954\n",
      "2023-12-05 22:12:16.105946\n",
      "2023-12-05 22:12:17.107130\n",
      "2023-12-05 22:12:18.107797\n",
      "2023-12-05 22:12:19.108097\n",
      "2023-12-05 22:12:20.108992\n",
      "2023-12-05 22:12:21.110052\n",
      "2023-12-05 22:12:22.110940\n",
      "2023-12-05 22:12:23.112029\n",
      "2023-12-05 22:12:24.112189\n",
      "2023-12-05 22:12:25.112942\n",
      "2023-12-05 22:12:26.113948\n",
      "2023-12-05 22:12:27.114939\n",
      "2023-12-05 22:12:28.115138\n",
      "2023-12-05 22:12:29.115562\n",
      "2023-12-05 22:12:30.115699\n",
      "2023-12-05 22:12:31.115830\n",
      "2023-12-05 22:12:32.116839\n",
      "2023-12-05 22:12:33.117393\n",
      "2023-12-05 22:12:34.117800\n",
      "2023-12-05 22:12:35.118556\n",
      "2023-12-05 22:12:36.119558\n"
     ]
    },
    {
     "name": "stdout",
     "output_type": "stream",
     "text": [
      "2023-12-05 22:12:37.120550\n",
      "2023-12-05 22:12:38.120720\n",
      "2023-12-05 22:12:39.120940\n",
      "2023-12-05 22:12:40.121696\n",
      "2023-12-05 22:12:41.122440\n",
      "2023-12-05 22:12:42.122590\n",
      "2023-12-05 22:12:43.123623\n",
      "2023-12-05 22:12:44.123777\n",
      "2023-12-05 22:12:45.123918\n",
      "2023-12-05 22:12:46.124651\n",
      "2023-12-05 22:12:47.125729\n",
      "2023-12-05 22:12:48.126802\n",
      "2023-12-05 22:12:49.127894\n",
      "2023-12-05 22:12:50.128953\n",
      "2023-12-05 22:12:51.129564\n",
      "2023-12-05 22:12:52.130570\n",
      "2023-12-05 22:12:53.131430\n",
      "2023-12-05 22:12:54.132412\n",
      "2023-12-05 22:12:55.133445\n",
      "2023-12-05 22:12:56.133626\n",
      "2023-12-05 22:12:57.134368\n",
      "2023-12-05 22:12:58.134738\n",
      "2023-12-05 22:12:59.135560\n",
      "2023-12-05 22:13:00.136323\n",
      "2023-12-05 22:13:01.136966\n",
      "2023-12-05 22:13:02.137271\n",
      "2023-12-05 22:13:03.137440\n",
      "2023-12-05 22:13:04.137940\n",
      "2023-12-05 22:13:05.138935\n",
      "2023-12-05 22:13:06.139437\n",
      "2023-12-05 22:13:07.140434\n",
      "2023-12-05 22:13:08.141554\n",
      "2023-12-05 22:13:09.142551\n",
      "2023-12-05 22:13:10.142931\n",
      "2023-12-05 22:13:11.143080\n",
      "2023-12-05 22:13:12.144058\n",
      "2023-12-05 22:13:13.144444\n",
      "2023-12-05 22:13:14.145120\n",
      "2023-12-05 22:13:15.145436\n",
      "2023-12-05 22:13:16.145584\n",
      "2023-12-05 22:13:17.145929\n",
      "2023-12-05 22:13:18.146953\n",
      "2023-12-05 22:13:19.147099\n",
      "2023-12-05 22:13:20.147566\n",
      "2023-12-05 22:13:21.147893\n",
      "2023-12-05 22:13:22.148343\n",
      "2023-12-05 22:13:23.148567\n",
      "2023-12-05 22:13:24.149589\n",
      "2023-12-05 22:13:25.149929\n",
      "2023-12-05 22:13:26.150788\n",
      "2023-12-05 22:13:27.150931\n",
      "2023-12-05 22:13:28.151073\n",
      "2023-12-05 22:13:29.151754\n",
      "2023-12-05 22:13:30.152727\n",
      "2023-12-05 22:13:31.152925\n",
      "2023-12-05 22:13:32.153937\n",
      "2023-12-05 22:13:33.154180\n",
      "2023-12-05 22:13:34.154341\n",
      "2023-12-05 22:13:35.155456\n",
      "2023-12-05 22:13:36.156600\n",
      "2023-12-05 22:13:37.157404\n",
      "2023-12-05 22:13:38.158556\n",
      "2023-12-05 22:13:39.159432\n",
      "2023-12-05 22:13:40.160533\n",
      "2023-12-05 22:13:41.160676\n",
      "2023-12-05 22:13:42.161553\n",
      "2023-12-05 22:13:43.161711\n",
      "2023-12-05 22:13:44.161882\n",
      "2023-12-05 22:13:45.162553\n",
      "2023-12-05 22:13:46.163412\n",
      "2023-12-05 22:13:47.164521\n",
      "2023-12-05 22:13:48.164655\n",
      "2023-12-05 22:13:49.164810\n",
      "2023-12-05 22:13:50.165927\n",
      "2023-12-05 22:13:51.166303\n",
      "2023-12-05 22:13:52.167301\n",
      "2023-12-05 22:13:53.168033\n",
      "2023-12-05 22:13:54.168431\n",
      "2023-12-05 22:13:55.169452\n",
      "2023-12-05 22:13:56.170557\n",
      "2023-12-05 22:13:57.171554\n",
      "2023-12-05 22:13:58.172429\n",
      "2023-12-05 22:13:59.173423\n",
      "2023-12-05 22:14:00.174559\n",
      "2023-12-05 22:14:01.174717\n",
      "2023-12-05 22:14:02.175223\n",
      "2023-12-05 22:14:03.175559\n",
      "2023-12-05 22:14:04.175711\n",
      "2023-12-05 22:14:05.175972\n",
      "2023-12-05 22:14:06.176425\n",
      "2023-12-05 22:14:07.177011\n",
      "2023-12-05 22:14:08.177420\n",
      "2023-12-05 22:14:09.177933\n",
      "2023-12-05 22:14:10.178942\n",
      "2023-12-05 22:14:11.179554\n",
      "2023-12-05 22:14:12.180559\n",
      "2023-12-05 22:14:13.180721\n",
      "2023-12-05 22:14:14.180881\n",
      "2023-12-05 22:14:15.181102\n",
      "2023-12-05 22:14:16.181326\n",
      "2023-12-05 22:14:17.181558\n",
      "2023-12-05 22:14:18.181713\n",
      "2023-12-05 22:14:19.181873\n",
      "2023-12-05 22:14:20.182556\n",
      "2023-12-05 22:14:21.182697\n",
      "2023-12-05 22:14:22.183573\n",
      "2023-12-05 22:14:23.184569\n",
      "2023-12-05 22:14:24.184722\n",
      "2023-12-05 22:14:25.184902\n",
      "2023-12-05 22:14:26.185915\n",
      "2023-12-05 22:14:27.186846\n",
      "2023-12-05 22:14:28.187589\n",
      "2023-12-05 22:14:29.188553\n",
      "2023-12-05 22:14:30.189424\n",
      "2023-12-05 22:14:31.190452\n",
      "2023-12-05 22:14:32.190781\n",
      "2023-12-05 22:14:33.191416\n",
      "2023-12-05 22:14:34.192483\n",
      "2023-12-05 22:14:35.192915\n",
      "2023-12-05 22:14:36.193558\n",
      "2023-12-05 22:14:37.193930\n",
      "2023-12-05 22:14:38.194912\n",
      "2023-12-05 22:14:39.195918\n",
      "2023-12-05 22:14:40.196563\n",
      "2023-12-05 22:14:41.197429\n",
      "2023-12-05 22:14:42.198423\n",
      "2023-12-05 22:14:43.199554\n",
      "2023-12-05 22:14:44.200419\n",
      "2023-12-05 22:14:45.201424\n",
      "2023-12-05 22:14:46.202240\n",
      "2023-12-05 22:14:47.202458\n",
      "2023-12-05 22:14:48.202911\n",
      "2023-12-05 22:14:49.203187\n",
      "2023-12-05 22:14:50.203909\n",
      "2023-12-05 22:14:51.204142\n",
      "2023-12-05 22:14:52.204913\n",
      "2023-12-05 22:14:53.205908\n",
      "2023-12-05 22:14:54.206911\n",
      "2023-12-05 22:14:55.207417\n",
      "2023-12-05 22:14:56.207998\n",
      "2023-12-05 22:14:57.208415\n",
      "2023-12-05 22:14:58.209420\n",
      "2023-12-05 22:14:59.209995\n",
      "2023-12-05 22:15:00.210993\n",
      "2023-12-05 22:15:01.211413\n",
      "2023-12-05 22:15:02.211559\n",
      "2023-12-05 22:15:03.212560\n",
      "2023-12-05 22:15:04.212694\n",
      "2023-12-05 22:15:05.213572\n",
      "2023-12-05 22:15:06.214620\n",
      "2023-12-05 22:15:07.214907\n",
      "2023-12-05 22:15:08.215048\n",
      "2023-12-05 22:15:09.215216\n",
      "2023-12-05 22:15:10.215908\n",
      "2023-12-05 22:15:11.216191\n",
      "2023-12-05 22:15:12.216414\n",
      "2023-12-05 22:15:13.216904\n",
      "2023-12-05 22:15:14.217475\n",
      "2023-12-05 22:15:15.218554\n",
      "2023-12-05 22:15:16.219550\n",
      "2023-12-05 22:15:17.220586\n",
      "2023-12-05 22:15:18.221595\n",
      "2023-12-05 22:15:19.222556\n",
      "2023-12-05 22:15:20.223396\n",
      "2023-12-05 22:15:21.224549\n",
      "2023-12-05 22:15:22.225309\n",
      "2023-12-05 22:15:23.225448\n",
      "2023-12-05 22:15:24.225902\n",
      "2023-12-05 22:15:25.226233\n",
      "2023-12-05 22:15:26.226374\n",
      "2023-12-05 22:15:27.227718\n",
      "2023-12-05 22:15:28.228811\n",
      "2023-12-05 22:15:29.229552\n",
      "2023-12-05 22:15:30.230558\n",
      "2023-12-05 22:15:31.231556\n",
      "2023-12-05 22:15:32.232378\n",
      "2023-12-05 22:15:33.233405\n",
      "2023-12-05 22:15:34.233548\n",
      "2023-12-05 22:15:35.233712\n",
      "2023-12-05 22:15:36.234285\n",
      "2023-12-05 22:15:37.234571\n",
      "2023-12-05 22:15:38.234701\n",
      "2023-12-05 22:15:39.234844\n",
      "2023-12-05 22:15:40.235237\n",
      "2023-12-05 22:15:41.235556\n",
      "2023-12-05 22:15:42.236140\n",
      "2023-12-05 22:15:43.236897\n",
      "2023-12-05 22:15:44.237404\n",
      "2023-12-05 22:15:45.237558\n",
      "2023-12-05 22:15:46.238402\n",
      "2023-12-05 22:15:47.238895\n",
      "2023-12-05 22:15:48.239550\n",
      "2023-12-05 22:15:49.239698\n",
      "2023-12-05 22:15:50.239897\n",
      "2023-12-05 22:15:51.240397\n",
      "2023-12-05 22:15:52.240574\n",
      "2023-12-05 22:15:53.240965\n",
      "2023-12-05 22:15:54.241899\n",
      "2023-12-05 22:15:55.242911\n",
      "2023-12-05 22:15:56.243070\n",
      "2023-12-05 22:15:57.243895\n",
      "2023-12-05 22:15:58.244401\n",
      "2023-12-05 22:15:59.244565\n",
      "2023-12-05 22:16:00.245594\n",
      "2023-12-05 22:16:01.245819\n",
      "2023-12-05 22:16:02.246414\n",
      "2023-12-05 22:16:03.246904\n",
      "2023-12-05 22:16:04.247454\n",
      "2023-12-05 22:16:05.248564\n",
      "2023-12-05 22:16:06.248953\n",
      "2023-12-05 22:16:07.249534\n",
      "2023-12-05 22:16:08.250659\n",
      "2023-12-05 22:16:09.250895\n",
      "2023-12-05 22:16:10.251559\n",
      "2023-12-05 22:16:11.251734\n",
      "2023-12-05 22:16:12.252565\n",
      "2023-12-05 22:16:13.252712\n",
      "2023-12-05 22:16:14.252851\n",
      "2023-12-05 22:16:15.253910\n",
      "2023-12-05 22:16:16.254503\n"
     ]
    }
   ],
   "source": [
    "#246. 답변\n",
    "import time\n",
    "import datetime\n",
    "\n",
    "while True:\n",
    "    now = datetime.datetime.now()\n",
    "    print(now)\n",
    "    time.sleep(1)\n"
   ]
  },
  {
   "cell_type": "code",
   "execution_count": 4,
   "id": "b0c475fc",
   "metadata": {
    "ExecuteTime": {
     "start_time": "2023-12-05T12:57:48.869Z"
    },
    "scrolled": true
   },
   "outputs": [
    {
     "name": "stdout",
     "output_type": "stream",
     "text": [
      "28\n"
     ]
    }
   ],
   "source": [
    "#247. 답변\n",
    "#import 모듈\n",
    "#import 모듈 as 이름\n",
    "#from 모듈 import 함수명\n",
    "#from 모듈 import *"
   ]
  },
  {
   "cell_type": "code",
   "execution_count": null,
   "id": "5f1b7f9f",
   "metadata": {
    "ExecuteTime": {
     "start_time": "2023-12-05T12:57:48.869Z"
    },
    "scrolled": true
   },
   "outputs": [],
   "source": [
    "#248. 답변\n",
    "import os\n",
    "ret = os.getcwd()\n",
    "print(ret, type(ret))"
   ]
  },
  {
   "cell_type": "code",
   "execution_count": 44,
   "id": "470b21a3",
   "metadata": {
    "ExecuteTime": {
     "end_time": "2023-12-05T13:51:46.762988Z",
     "start_time": "2023-12-05T13:51:46.757794Z"
    },
    "scrolled": true
   },
   "outputs": [],
   "source": [
    "#249. 답변\n",
    "import os\n",
    "os.rename(\"C:/workspace/python/WASSUP/adfasf.txt\", \"C:/workspace/python/WASSUP/sdfdfddr.txt\")"
   ]
  },
  {
   "cell_type": "code",
   "execution_count": null,
   "id": "21d9dd6d",
   "metadata": {
    "ExecuteTime": {
     "start_time": "2023-12-05T12:58:06.232Z"
    }
   },
   "outputs": [],
   "source": [
    "#250. 답변\n",
    "import numpy\n",
    "for i in numpy.arange(0, 5, 0.1):\n",
    "    print(i)"
   ]
  },
  {
   "cell_type": "code",
   "execution_count": 4,
   "id": "3f5657b3",
   "metadata": {
    "ExecuteTime": {
     "end_time": "2023-12-04T08:24:11.694373Z",
     "start_time": "2023-12-04T08:24:11.688128Z"
    },
    "scrolled": true
   },
   "outputs": [
    {
     "name": "stdout",
     "output_type": "stream",
     "text": [
      "28\n"
     ]
    }
   ],
   "source": [
    "#251. 답변\n",
    "# 클래스는 마치 '도면'과 같아요. 예를 들어, '로봇'이라는 클래스를 만들면, 이 로봇이 어떻게 생겼고, 어떤 기능을 가지고 있는지에 대한 설계도면이라고 생각하면 돼요. 로봇이 두 발로 걷고, 손으로 물건을 잡을 수 있다는 것들이 이 도면에 다 적혀있어요."
   ]
  },
  {
   "cell_type": "code",
   "execution_count": 4,
   "id": "48cc1338",
   "metadata": {
    "ExecuteTime": {
     "end_time": "2023-12-04T08:24:11.694373Z",
     "start_time": "2023-12-04T08:24:11.688128Z"
    },
    "scrolled": true
   },
   "outputs": [
    {
     "name": "stdout",
     "output_type": "stream",
     "text": [
      "28\n"
     ]
    }
   ],
   "source": [
    "#252. 답변\n",
    "class Human:\n",
    "    pass"
   ]
  },
  {
   "cell_type": "code",
   "execution_count": 4,
   "id": "955ffcdc",
   "metadata": {
    "ExecuteTime": {
     "end_time": "2023-12-04T08:24:11.694373Z",
     "start_time": "2023-12-04T08:24:11.688128Z"
    },
    "scrolled": true
   },
   "outputs": [
    {
     "name": "stdout",
     "output_type": "stream",
     "text": [
      "28\n"
     ]
    }
   ],
   "source": [
    "#253. 답변\n",
    "class Human:\n",
    "    pass\n",
    "\n",
    "areum = Human()"
   ]
  },
  {
   "cell_type": "code",
   "execution_count": 4,
   "id": "edbc7a3f",
   "metadata": {
    "ExecuteTime": {
     "end_time": "2023-12-04T08:24:11.694373Z",
     "start_time": "2023-12-04T08:24:11.688128Z"
    },
    "scrolled": true
   },
   "outputs": [
    {
     "name": "stdout",
     "output_type": "stream",
     "text": [
      "응애응애\n"
     ]
    }
   ],
   "source": [
    "#254. 답변\n",
    "class Human:\n",
    "    def __init__(self):\n",
    "        print(\"응애응애\")\n",
    "\n",
    "areum = Human()\n"
   ]
  },
  {
   "cell_type": "code",
   "execution_count": 3,
   "id": "778f9d36",
   "metadata": {
    "ExecuteTime": {
     "end_time": "2023-12-04T08:24:11.694373Z",
     "start_time": "2023-12-04T08:24:11.688128Z"
    },
    "scrolled": true
   },
   "outputs": [
    {
     "name": "stdout",
     "output_type": "stream",
     "text": [
      "아름\n"
     ]
    }
   ],
   "source": [
    "#255. 답변\n",
    "class Human:\n",
    "    def __init__(self, name, age, sex):\n",
    "        self.name = name\n",
    "        self.age = age\n",
    "        self.sex = sex\n",
    "\n",
    "areum = Human(\"아름\", 25, \"여자\")\n",
    "print(areum.name)"
   ]
  },
  {
   "cell_type": "code",
   "execution_count": null,
   "id": "652efa0b",
   "metadata": {
    "ExecuteTime": {
     "start_time": "2023-12-05T13:02:48.989Z"
    },
    "scrolled": true
   },
   "outputs": [],
   "source": [
    "#256. 답변\n",
    "class Human:\n",
    "    def __init__(self, name, age, sex):\n",
    "        self.name = name\n",
    "        self.age = age\n",
    "        self.sex = sex\n",
    "\n",
    "areum = Human(\"아름\", 25, \"여자\")\n",
    "print(areum.age, areum.name, areum.sex)"
   ]
  },
  {
   "cell_type": "code",
   "execution_count": 1,
   "id": "899fa604",
   "metadata": {
    "ExecuteTime": {
     "end_time": "2023-12-04T08:24:11.694373Z",
     "start_time": "2023-12-04T08:24:11.688128Z"
    },
    "scrolled": true
   },
   "outputs": [
    {
     "name": "stdout",
     "output_type": "stream",
     "text": [
      "이름: 아름 나이: 25 성별: 여자\n"
     ]
    }
   ],
   "source": [
    "#257. 답변\n",
    "class Human:\n",
    "    def __init__(self, name, age, sex):\n",
    "        self.name = name\n",
    "        self.age = age\n",
    "        self.sex = sex\n",
    "\n",
    "    def who(self):\n",
    "        print(\"이름: {} 나이: {} 성별: {}\".format(self.name, self.age, self.sex))\n",
    "\n",
    "areum = Human(\"아름\", 25, \"여자\")\n",
    "areum.who()"
   ]
  },
  {
   "cell_type": "code",
   "execution_count": 5,
   "id": "9f357dab",
   "metadata": {
    "ExecuteTime": {
     "end_time": "2023-12-04T08:24:11.694373Z",
     "start_time": "2023-12-04T08:24:11.688128Z"
    },
    "scrolled": true
   },
   "outputs": [
    {
     "name": "stdout",
     "output_type": "stream",
     "text": [
      "이름: 불명 나이: 미상 성별: 모름\n",
      "이름: 아름 나이: 25 성별: 여자\n"
     ]
    }
   ],
   "source": [
    "#258. 답변\n",
    "class Human:\n",
    "    def __init__(self, name, age, sex):\n",
    "        self.name = name\n",
    "        self.age = age\n",
    "        self.sex = sex\n",
    "\n",
    "    def who(self):\n",
    "        print(\"이름: {} 나이: {} 성별: {}\".format(self.name, self.age, self.sex))\n",
    "\n",
    "    def setInfo(self, name, age, sex):\n",
    "        self.name = name\n",
    "        self.age = age\n",
    "        self.sex = sex\n",
    "\n",
    "\n",
    "areum = Human(\"불명\", \"미상\", \"모름\")\n",
    "areum.who()\n",
    "\n",
    "areum.setInfo(\"아름\", 25, \"여자\")\n",
    "areum.who()"
   ]
  },
  {
   "cell_type": "code",
   "execution_count": 6,
   "id": "890590b8",
   "metadata": {
    "ExecuteTime": {
     "end_time": "2023-12-04T08:24:11.694373Z",
     "start_time": "2023-12-04T08:24:11.688128Z"
    },
    "scrolled": true
   },
   "outputs": [
    {
     "name": "stdout",
     "output_type": "stream",
     "text": [
      "나의 죽음을 알리지마라\n"
     ]
    }
   ],
   "source": [
    "#259. 답변\n",
    "class Human:\n",
    "    def __init__(self, name, age, sex):\n",
    "        self.name = name\n",
    "        self.age = age\n",
    "        self.sex = sex\n",
    "\n",
    "    def __del__(self):\n",
    "        print(\"나의 죽음을 알리지마라\")\n",
    "\n",
    "    def who(self):\n",
    "        print(\"이름: {} 나이: {} 성별: {}\".format(self.name, self.age, self.sex))\n",
    "\n",
    "    def setInfo(self, name, age, sex):\n",
    "        self.name = name\n",
    "        self.age = age\n",
    "        self.sex = sex\n",
    "\n",
    "areum = Human(\"아름\", 25, \"여자\")\n",
    "del(areum)"
   ]
  },
  {
   "cell_type": "code",
   "execution_count": 8,
   "id": "ddeedb02",
   "metadata": {
    "ExecuteTime": {
     "end_time": "2023-12-04T08:24:11.694373Z",
     "start_time": "2023-12-04T08:24:11.688128Z"
    },
    "scrolled": true
   },
   "outputs": [
    {
     "name": "stdout",
     "output_type": "stream",
     "text": [
      "Oh my god\n"
     ]
    }
   ],
   "source": [
    "#260. 답변\n",
    "# self 변수가 누락되어서"
   ]
  },
  {
   "cell_type": "code",
   "execution_count": 9,
   "id": "75f1b891",
   "metadata": {
    "ExecuteTime": {
     "end_time": "2023-12-04T08:24:11.694373Z",
     "start_time": "2023-12-04T08:24:11.688128Z"
    },
    "scrolled": true
   },
   "outputs": [],
   "source": [
    "#261. 답변\n",
    "class Stock:\n",
    "    pass"
   ]
  },
  {
   "cell_type": "code",
   "execution_count": 11,
   "id": "7899ec07",
   "metadata": {
    "ExecuteTime": {
     "end_time": "2023-12-04T08:24:11.694373Z",
     "start_time": "2023-12-04T08:24:11.688128Z"
    },
    "scrolled": true
   },
   "outputs": [
    {
     "name": "stdout",
     "output_type": "stream",
     "text": [
      "삼성전자\n",
      "005930\n"
     ]
    }
   ],
   "source": [
    "#262. 답변\n",
    "\n",
    "class Stock:\n",
    "    def __init__(self, name, code):\n",
    "        self.name = name\n",
    "        self.code = code\n",
    "\n",
    "삼성 = Stock(\"삼성전자\", \"005930\")        \n",
    "        \n",
    "print(삼성.name)\n",
    "print(삼성.code)"
   ]
  },
  {
   "cell_type": "code",
   "execution_count": 13,
   "id": "2c0eef89",
   "metadata": {
    "ExecuteTime": {
     "end_time": "2023-12-04T08:24:11.694373Z",
     "start_time": "2023-12-04T08:24:11.688128Z"
    },
    "scrolled": true
   },
   "outputs": [],
   "source": [
    "#263. 답변\n",
    "class Stock:\n",
    "    def __init__(self, name, code):\n",
    "        self.name = name\n",
    "        self.code = code\n",
    "\n",
    "    def set_name(self, name):\n",
    "        self.name = name\n",
    "\n",
    "stock = Stock(None, None)\n",
    "stock.set_name(\"삼성전자\")\n",
    "print(stock.name)"
   ]
  },
  {
   "cell_type": "code",
   "execution_count": 20,
   "id": "aa9e7bb1",
   "metadata": {
    "ExecuteTime": {
     "end_time": "2023-12-04T08:24:11.694373Z",
     "start_time": "2023-12-04T08:24:11.688128Z"
    },
    "scrolled": true
   },
   "outputs": [
    {
     "name": "stdout",
     "output_type": "stream",
     "text": [
      "005930\n"
     ]
    }
   ],
   "source": [
    "#264. 답변\n",
    "class Stock:\n",
    "    def __init__(self, name, code):\n",
    "        self.name = name\n",
    "        self.code = code\n",
    "\n",
    "    def set_name(self, name):\n",
    "        self.name = name\n",
    "    \n",
    "    def set_code(self,code):\n",
    "        self.code = code\n",
    "\n",
    "stock = Stock(None, None)\n",
    "stock.set_code(\"005930\")\n",
    "print(stock.code)"
   ]
  },
  {
   "cell_type": "code",
   "execution_count": 22,
   "id": "aed3387d",
   "metadata": {
    "ExecuteTime": {
     "end_time": "2023-12-04T08:24:11.694373Z",
     "start_time": "2023-12-04T08:24:11.688128Z"
    },
    "scrolled": true
   },
   "outputs": [
    {
     "name": "stdout",
     "output_type": "stream",
     "text": [
      "삼성전자\n",
      "005930\n"
     ]
    },
    {
     "data": {
      "text/plain": [
       "'005930'"
      ]
     },
     "execution_count": 22,
     "metadata": {},
     "output_type": "execute_result"
    }
   ],
   "source": [
    "#265. 답변\n",
    "class Stock:\n",
    "    def __init__(self, name, code):\n",
    "        self.name = name\n",
    "        self.code = code\n",
    "\n",
    "    def set_name(self, name):\n",
    "        self.name = name\n",
    "\n",
    "    def set_code(self, code):\n",
    "        self.code = code\n",
    "\n",
    "    def get_name(self):\n",
    "        print(self.name)\n",
    "        return self.name\n",
    "\n",
    "    def get_code(self):\n",
    "        print(self.code)\n",
    "        return self.code\n",
    "\n",
    "삼성 = Stock(\"삼성전자\", \"005930\")\n",
    "삼성.get_name()\n",
    "삼성.get_code()"
   ]
  },
  {
   "cell_type": "code",
   "execution_count": 24,
   "id": "19952388",
   "metadata": {
    "ExecuteTime": {
     "end_time": "2023-12-04T08:24:11.694373Z",
     "start_time": "2023-12-04T08:24:11.688128Z"
    },
    "scrolled": true
   },
   "outputs": [],
   "source": [
    "#266. 답변\n",
    "class Stock:\n",
    "    def __init__(self, name, code, per, pbr, 배당수익률):\n",
    "        self.name = name\n",
    "        self.code = code\n",
    "        self.per = per\n",
    "        self.pbr = pbr\n",
    "        self.배당수익률 = 배당수익률\n",
    "\n",
    "    def set_name(self, name):\n",
    "        self.name = name\n",
    "\n",
    "    def set_code(self, code):\n",
    "        self.code = code\n",
    "\n",
    "    def get_name(self):\n",
    "        return self.name\n",
    "\n",
    "    def get_code(self):\n",
    "        return self.code"
   ]
  },
  {
   "cell_type": "code",
   "execution_count": 25,
   "id": "9ee14ca1",
   "metadata": {
    "ExecuteTime": {
     "end_time": "2023-12-04T08:24:11.694373Z",
     "start_time": "2023-12-04T08:24:11.688128Z"
    },
    "scrolled": true
   },
   "outputs": [
    {
     "name": "stdout",
     "output_type": "stream",
     "text": [
      "<__main__.Stock object at 0x000001EB2F43E990>\n"
     ]
    }
   ],
   "source": [
    "#267. 답변\n",
    "stock = Stock(\"삼성전자\", \"005930\", 15.79, 1.33, 2.83)"
   ]
  },
  {
   "cell_type": "code",
   "execution_count": 27,
   "id": "80448dd8",
   "metadata": {
    "ExecuteTime": {
     "end_time": "2023-12-04T08:24:11.694373Z",
     "start_time": "2023-12-04T08:24:11.688128Z"
    },
    "scrolled": true
   },
   "outputs": [],
   "source": [
    "#268. 답변\n",
    "class Stock:\n",
    "    def __init__(self, name, code, per, pbr, dividend):\n",
    "        self.name = name\n",
    "        self.code = code\n",
    "        self.per = per\n",
    "        self.pbr = pbr\n",
    "        self.dividend = dividend\n",
    "\n",
    "    def set_name(self, name):\n",
    "        self.name = name\n",
    "\n",
    "    def set_code(self, code):\n",
    "        self.code = code\n",
    "\n",
    "    def get_name(self):\n",
    "        return self.name\n",
    "\n",
    "    def get_code(self):\n",
    "        return self.code\n",
    "\n",
    "    def set_per(self, per):\n",
    "        self.per = per\n",
    "\n",
    "    def set_pbr(self, pbr):\n",
    "        self.pbr = pbr\n",
    "\n",
    "    def set_dividend(self, dividend):\n",
    "        self.dividend = dividend"
   ]
  },
  {
   "cell_type": "code",
   "execution_count": 28,
   "id": "e26506a2",
   "metadata": {
    "ExecuteTime": {
     "end_time": "2023-12-04T08:24:11.694373Z",
     "start_time": "2023-12-04T08:24:11.688128Z"
    },
    "scrolled": true
   },
   "outputs": [
    {
     "name": "stdout",
     "output_type": "stream",
     "text": [
      "12.75\n"
     ]
    }
   ],
   "source": [
    "#269. 답변\n",
    "stock = Stock(\"삼성전자\", \"005930\", 15.79, 1.33, 2.83)\n",
    "stock.set_per(12.75)\n",
    "print(stock.per)\n"
   ]
  },
  {
   "cell_type": "code",
   "execution_count": 30,
   "id": "5f28052d",
   "metadata": {
    "ExecuteTime": {
     "end_time": "2023-12-04T08:24:11.694373Z",
     "start_time": "2023-12-04T08:24:11.688128Z"
    },
    "scrolled": true
   },
   "outputs": [
    {
     "name": "stdout",
     "output_type": "stream",
     "text": [
      "종목코드: 005930 종목 per: 15.79\n",
      "종목코드: 005380 종목 per: 8.7\n",
      "종목코드: 066570 종목 per: 317.34\n"
     ]
    }
   ],
   "source": [
    "#270. 답변\n",
    "samsung = Stock(\"삼성전자\", \"005930\", 15.79, 1.33, 2.83)\n",
    "hyundai = Stock(\"현대차\", \"005380\", 8.70, 0.35, 4.27)\n",
    "lg = Stock(\"LG전자\", \"066570\", 317.34, 0.69, 1.37)\n",
    "\n",
    "empty = []\n",
    "\n",
    "empty.append(samsung)\n",
    "empty.append(hyundai)\n",
    "empty.append(lg)\n",
    "\n",
    "for company in empty:\n",
    "    print(\"종목코드:\", company.code,\"종목 per:\", company.per)"
   ]
  },
  {
   "cell_type": "code",
   "execution_count": null,
   "id": "e954887e",
   "metadata": {
    "ExecuteTime": {
     "start_time": "2023-12-05T13:16:06.795Z"
    }
   },
   "outputs": [],
   "source": [
    "#271. 답변 (오답)\n",
    "import random\n",
    "\n",
    "class Account:\n",
    "    def __init__(self, name, balance):\n",
    "        self.name = name\n",
    "        self.balance = balance\n",
    "        self.bank = \"SC은행\"\n",
    "        num1 = random.randint(0, 999)\n",
    "        num2 = random.randint(0, 99)\n",
    "        num3 = random.randint(0, 999999)\n",
    "\n",
    "        num1 = str(num1).zfill(3)      # 1 -> '1' -> '001'\n",
    "        num2 = str(num2).zfill(2)      # 1 -> '1' -> '01'\n",
    "        num3 = str(num3).zfill(6)      # 1 -> '1' -> '0000001'\n",
    "        self.account_number = num1 + '-' + num2 + '-' + num3  # 001-01-000001\n",
    "\n",
    "kim = Account(\"김민수\", 100)\n",
    "print(kim.name)\n",
    "print(kim.balance)\n",
    "print(kim.bank)\n",
    "print(kim.account_number)"
   ]
  },
  {
   "cell_type": "code",
   "execution_count": null,
   "id": "0a129ed6",
   "metadata": {
    "ExecuteTime": {
     "start_time": "2023-12-05T13:16:06.795Z"
    }
   },
   "outputs": [],
   "source": [
    "#272. 답변\n",
    "import random\n",
    "\n",
    "class Account:\n",
    "    account_num = 0\n",
    "\n",
    "    def __init__(self, name, balance):\n",
    "        self.name = name\n",
    "        self.balance = balance\n",
    "        self.bank = \"SC은행\"\n",
    "\n",
    "        num1 = random.randint(0, 999)\n",
    "        num2 = random.randint(0, 99)\n",
    "        num3 = random.randint(0, 999999)\n",
    "\n",
    "        num1 = str(num1).zfill(3) \n",
    "        num2 = str(num2).zfill(2)\n",
    "        num3 = str(num3).zfill(6) \n",
    "        self.account_number = num1 + '-' + num2 + '-' + num3\n",
    "\n",
    "        Account.account_num += 1\n",
    "\n",
    "pee = Account(\"피승권\", 130)\n",
    "park = Account(\"박지성\", 10000)\n",
    "print(Account.account_num)"
   ]
  },
  {
   "cell_type": "code",
   "execution_count": 18,
   "id": "c6f67840",
   "metadata": {
    "ExecuteTime": {
     "end_time": "2023-12-05T13:29:41.114977Z",
     "start_time": "2023-12-05T13:29:41.106719Z"
    }
   },
   "outputs": [
    {
     "name": "stdout",
     "output_type": "stream",
     "text": [
      "2\n"
     ]
    }
   ],
   "source": [
    "#273. 답변\n",
    "import random\n",
    "\n",
    "class Account:\n",
    "    account_num = 0\n",
    "\n",
    "    def __init__(self, name, balance):\n",
    "        self.name = name\n",
    "        self.balance = balance\n",
    "        self.bank = \"SC은행\"\n",
    "\n",
    "        num1 = random.randint(0, 999)\n",
    "        num2 = random.randint(0, 99)\n",
    "        num3 = random.randint(0, 999999)\n",
    "\n",
    "        num1 = str(num1).zfill(3) \n",
    "        num2 = str(num2).zfill(2)\n",
    "        num3 = str(num3).zfill(6) \n",
    "        self.account_number = num1 + '-' + num2 + '-' + num3\n",
    "\n",
    "        Account.account_num += 1\n",
    "    \n",
    "    def get_account_num(self):\n",
    "        print(self.account_num)\n",
    "\n",
    "pee = Account(\"피승권\", 130)\n",
    "park = Account(\"박지성\", 10000)\n",
    "park.get_account_num()"
   ]
  },
  {
   "cell_type": "code",
   "execution_count": 17,
   "id": "7db4d788",
   "metadata": {
    "ExecuteTime": {
     "end_time": "2023-12-05T13:29:32.907566Z",
     "start_time": "2023-12-05T13:29:32.899565Z"
    }
   },
   "outputs": [
    {
     "name": "stdout",
     "output_type": "stream",
     "text": [
      "2\n"
     ]
    }
   ],
   "source": [
    "#274. 답변\n",
    "import random\n",
    "\n",
    "class Account:\n",
    "    account_num = 0\n",
    "\n",
    "    def __init__(self, name, balance):\n",
    "        self.name = name\n",
    "        self.balance = balance\n",
    "        self.bank = \"SC은행\"\n",
    "\n",
    "        num1 = random.randint(0, 999)\n",
    "        num2 = random.randint(0, 99)\n",
    "        num3 = random.randint(0, 999999)\n",
    "\n",
    "        num1 = str(num1).zfill(3) \n",
    "        num2 = str(num2).zfill(2)\n",
    "        num3 = str(num3).zfill(6) \n",
    "        self.account_number = num1 + '-' + num2 + '-' + num3\n",
    "\n",
    "        Account.account_num += 1\n",
    "    \n",
    "    def get_account_num(self):\n",
    "        print(self.account_num)\n",
    "        \n",
    "    def deposit(self,amount):\n",
    "        if amount >= 1:\n",
    "            self.balance += amount"
   ]
  },
  {
   "cell_type": "code",
   "execution_count": 19,
   "id": "d9656a82",
   "metadata": {
    "ExecuteTime": {
     "end_time": "2023-12-05T13:30:40.829966Z",
     "start_time": "2023-12-05T13:30:40.819752Z"
    }
   },
   "outputs": [
    {
     "name": "stdout",
     "output_type": "stream",
     "text": [
      "40\n"
     ]
    }
   ],
   "source": [
    "#275. 답변\n",
    "import random\n",
    "\n",
    "class Account:\n",
    "    account_num = 0\n",
    "\n",
    "    def __init__(self, name, balance):\n",
    "        self.name = name\n",
    "        self.balance = balance\n",
    "        self.bank = \"SC은행\"\n",
    "\n",
    "        num1 = random.randint(0, 999)\n",
    "        num2 = random.randint(0, 99)\n",
    "        num3 = random.randint(0, 999999)\n",
    "\n",
    "        num1 = str(num1).zfill(3) \n",
    "        num2 = str(num2).zfill(2)\n",
    "        num3 = str(num3).zfill(6) \n",
    "        self.account_number = num1 + '-' + num2 + '-' + num3\n",
    "\n",
    "        Account.account_num += 1\n",
    "    \n",
    "    def get_account_num(self):\n",
    "        print(self.account_num)\n",
    "        \n",
    "    def deposit(self,amount):\n",
    "        if amount >= 1:\n",
    "            self.balance += amount\n",
    "    \n",
    "    def withdraw(self,amount):\n",
    "        if amount >= self.balance:\n",
    "            print(\"출금이 불가합니다.\")\n",
    "        else :\n",
    "            self.balance -= amount\n",
    "            \n",
    "\n",
    "pee = Account(\"피승권\", 130)\n",
    "pee.withdraw(90)\n",
    "print(pee.balance)"
   ]
  },
  {
   "cell_type": "code",
   "execution_count": 20,
   "id": "9b0d1096",
   "metadata": {
    "ExecuteTime": {
     "end_time": "2023-12-05T13:33:07.432958Z",
     "start_time": "2023-12-05T13:33:07.422672Z"
    }
   },
   "outputs": [
    {
     "name": "stdout",
     "output_type": "stream",
     "text": [
      "은행이름:  SC은행\n",
      "예금주:  피승권\n",
      "계좌번호:  394-07-112631\n",
      "잔고:  130원\n"
     ]
    }
   ],
   "source": [
    "#276. 답변\n",
    "import random\n",
    "\n",
    "class Account:\n",
    "    account_num = 0\n",
    "\n",
    "    def __init__(self, name, balance):\n",
    "        self.name = name\n",
    "        self.balance = balance\n",
    "        self.bank = \"SC은행\"\n",
    "\n",
    "        num1 = random.randint(0, 999)\n",
    "        num2 = random.randint(0, 99)\n",
    "        num3 = random.randint(0, 999999)\n",
    "\n",
    "        num1 = str(num1).zfill(3) \n",
    "        num2 = str(num2).zfill(2)\n",
    "        num3 = str(num3).zfill(6) \n",
    "        self.account_number = num1 + '-' + num2 + '-' + num3\n",
    "\n",
    "        Account.account_num += 1\n",
    "    \n",
    "    def get_account_num(self):\n",
    "        print(self.account_num)\n",
    "        \n",
    "    def deposit(self,amount):\n",
    "        if amount >= 1:\n",
    "            self.balance += amount\n",
    "    \n",
    "    def withdraw(self,amount):\n",
    "        if amount >= self.balance:\n",
    "            print(\"출금이 불가합니다.\")\n",
    "        else :\n",
    "            self.balance -= amount\n",
    "    \n",
    "    def display_info(self):\n",
    "        print(\"은행이름: \", self.bank)\n",
    "        print(\"예금주: \", self.name)\n",
    "        print(\"계좌번호: \", self.account_number)\n",
    "        print(\"잔고: \", f\"{self.balance}원\")    \n",
    "\n",
    "pee = Account(\"피승권\", 130)\n",
    "pee.display_info()\n",
    "# 잔고가 너무 슬프다..."
   ]
  },
  {
   "cell_type": "code",
   "execution_count": 22,
   "id": "99e63bea",
   "metadata": {
    "ExecuteTime": {
     "end_time": "2023-12-05T13:35:08.518724Z",
     "start_time": "2023-12-05T13:35:08.505163Z"
    }
   },
   "outputs": [
    {
     "name": "stdout",
     "output_type": "stream",
     "text": [
      "688345.3\n"
     ]
    }
   ],
   "source": [
    "#277. 답변\n",
    "import random\n",
    "\n",
    "class Account:\n",
    "    account_num = 0\n",
    "    deposit_count = 0\n",
    "    \n",
    "\n",
    "    def __init__(self, name, balance):\n",
    "        self.name = name\n",
    "        self.balance = balance\n",
    "        self.bank = \"SC은행\"\n",
    "\n",
    "        num1 = random.randint(0, 999)\n",
    "        num2 = random.randint(0, 99)\n",
    "        num3 = random.randint(0, 999999)\n",
    "\n",
    "        num1 = str(num1).zfill(3) \n",
    "        num2 = str(num2).zfill(2)\n",
    "        num3 = str(num3).zfill(6) \n",
    "        self.account_number = num1 + '-' + num2 + '-' + num3\n",
    "\n",
    "        Account.account_num += 1\n",
    "    \n",
    "    def get_account_num(self):\n",
    "        print(self.account_num)\n",
    "        \n",
    "    def deposit(self,amount):\n",
    "        if amount >= 1:\n",
    "            self.balance += amount\n",
    "            self.deposit_count += 1\n",
    "            if self.deposit_count % 5 == 0:\n",
    "                self.balance = (self.balance * 1.01)\n",
    "    \n",
    "    def withdraw(self,amount):\n",
    "        if amount >= self.balance:\n",
    "            print(\"출금이 불가합니다.\")\n",
    "        else :\n",
    "            self.balance -= amount\n",
    "    \n",
    "    def display_info(self):\n",
    "        print(\"은행이름: \", self.bank)\n",
    "        print(\"예금주: \", self.name)\n",
    "        print(\"계좌번호: \", self.account_number)\n",
    "        print(\"잔고: \", f\"{self.balance}원\")    \n",
    "        \n",
    "        \n",
    "pee = Account(\"피승권\", 130)\n",
    "pee.deposit(120)\n",
    "pee.deposit(73550)\n",
    "pee.deposit(600660)\n",
    "pee.deposit(3070)\n",
    "pee.deposit(4000)\n",
    "print(pee.balance)\n",
    "#이제 부자다!!"
   ]
  },
  {
   "cell_type": "code",
   "execution_count": 12,
   "id": "f9c48422",
   "metadata": {
    "ExecuteTime": {
     "end_time": "2023-12-05T13:28:41.793676Z",
     "start_time": "2023-12-05T13:28:41.782560Z"
    }
   },
   "outputs": [
    {
     "name": "stdout",
     "output_type": "stream",
     "text": [
      "[<__main__.Account object at 0x000001A7D9A58A50>, <__main__.Account object at 0x000001A7D997E0D0>, <__main__.Account object at 0x000001A7D8A248D0>]\n"
     ]
    }
   ],
   "source": [
    "#278. 답변\n",
    "import random\n",
    "\n",
    "class Account:\n",
    "    account_num = 0\n",
    "    deposit_count = 0\n",
    "    def __init__(self, name, balance):\n",
    "        self.name = name\n",
    "        self.balance = balance\n",
    "        self.bank = \"SC은행\"\n",
    "\n",
    "        num1 = random.randint(0, 999)\n",
    "        num2 = random.randint(0, 99)\n",
    "        num3 = random.randint(0, 999999)\n",
    "\n",
    "        num1 = str(num1).zfill(3) \n",
    "        num2 = str(num2).zfill(2)\n",
    "        num3 = str(num3).zfill(6) \n",
    "        self.account_number = num1 + '-' + num2 + '-' + num3\n",
    "\n",
    "        Account.account_num += 1\n",
    "    \n",
    "    def get_account_num(self):\n",
    "        print(self.account_num)\n",
    "        \n",
    "    def deposit(self,amount):\n",
    "        if amount >= 1:\n",
    "            self.balance += amount\n",
    "            self.deposit_count += 1\n",
    "            if self.deposit_count % 5 == 0:\n",
    "                self.balance = (self.balance * 1.01)\n",
    "    \n",
    "    def withdraw(self,amount):\n",
    "        if amount >= self.balance:\n",
    "            print(\"출금이 불가합니다.\")\n",
    "        else :\n",
    "            self.balance -= amount\n",
    "    \n",
    "    def display_info(self):\n",
    "        print(\"은행이름: \", self.bank)\n",
    "        print(\"예금주: \", self.name)\n",
    "        print(\"계좌번호: \", self.account_number)\n",
    "        print(\"잔고: \", f\"{self.balance}원\")    \n",
    "        \n",
    "        \n",
    "customer = []\n",
    "cus1 = Account(\"cus1\", 100)\n",
    "cus2 = Account(\"cus2\", 200)\n",
    "cus3 = Account(\"cus3\", 300)\n",
    "\n",
    "customer.append(cus1)\n",
    "customer.append(cus2)\n",
    "customer.append(cus3)\n",
    "\n",
    "print(customer)"
   ]
  },
  {
   "cell_type": "code",
   "execution_count": 23,
   "id": "9274c7a5",
   "metadata": {
    "ExecuteTime": {
     "end_time": "2023-12-05T13:35:31.242256Z",
     "start_time": "2023-12-05T13:35:31.230557Z"
    }
   },
   "outputs": [
    {
     "name": "stdout",
     "output_type": "stream",
     "text": [
      "은행이름:  SC은행\n",
      "예금주:  cus1\n",
      "계좌번호:  262-92-264874\n",
      "잔고:  10000000원\n",
      "은행이름:  SC은행\n",
      "예금주:  cus2\n",
      "계좌번호:  206-32-608218\n",
      "잔고:  2000000000원\n"
     ]
    }
   ],
   "source": [
    "#279. 답변\n",
    "import random\n",
    "\n",
    "class Account:\n",
    "    account_num = 0\n",
    "    deposit_count = 0\n",
    "    def __init__(self, name, balance):\n",
    "        self.name = name\n",
    "        self.balance = balance\n",
    "        self.bank = \"SC은행\"\n",
    "\n",
    "        num1 = random.randint(0, 999)\n",
    "        num2 = random.randint(0, 99)\n",
    "        num3 = random.randint(0, 999999)\n",
    "\n",
    "        num1 = str(num1).zfill(3) \n",
    "        num2 = str(num2).zfill(2)\n",
    "        num3 = str(num3).zfill(6) \n",
    "        self.account_number = num1 + '-' + num2 + '-' + num3\n",
    "\n",
    "        Account.account_num += 1\n",
    "    \n",
    "    def get_account_num(self):\n",
    "        print(self.account_num)\n",
    "        \n",
    "    def deposit(self,amount):\n",
    "        if amount >= 1:\n",
    "            self.balance += amount\n",
    "            self.deposit_count += 1\n",
    "            if self.deposit_count % 5 == 0:\n",
    "                self.balance = (self.balance * 1.01)\n",
    "    \n",
    "    def withdraw(self,amount):\n",
    "        if amount >= self.balance:\n",
    "            print(\"출금이 불가합니다.\")\n",
    "        else :\n",
    "            self.balance -= amount\n",
    "    \n",
    "    def display_info(self):\n",
    "        print(\"은행이름: \", self.bank)\n",
    "        print(\"예금주: \", self.name)\n",
    "        print(\"계좌번호: \", self.account_number)\n",
    "        print(\"잔고: \", f\"{self.balance}원\")    \n",
    "        \n",
    "        \n",
    "customer = []\n",
    "cus1 = Account(\"cus1\", 10000000)\n",
    "cus2 = Account(\"cus2\", 2000000000)\n",
    "cus3 = Account(\"cus3\", 300)\n",
    "\n",
    "customer.append(cus1)\n",
    "customer.append(cus2)\n",
    "customer.append(cus3)\n",
    "\n",
    "for i in customer:\n",
    "    if i.balance >= 1000000:\n",
    "        i.display_info()"
   ]
  },
  {
   "cell_type": "code",
   "execution_count": null,
   "id": "7d9ee4d5",
   "metadata": {
    "ExecuteTime": {
     "end_time": "2023-12-05T13:27:13.023510Z",
     "start_time": "2023-12-05T13:27:13.023510Z"
    }
   },
   "outputs": [],
   "source": [
    "#280. 답변 (오답)\n",
    "import random\n",
    "\n",
    "\n",
    "class Account:\n",
    "    account_count = 0\n",
    "    \n",
    "    def __init__(self, name, balance):\n",
    "        self.deposit_count = 0\n",
    "        self.deposit_log = []\n",
    "        self.withdraw_log = []\n",
    "\n",
    "        self.name = name\n",
    "        self.balance = balance\n",
    "        self.bank = \"SC은행\"\n",
    "\n",
    "        num1 = random.randint(0, 999)\n",
    "        num2 = random.randint(0, 99)\n",
    "        num3 = random.randint(0, 999999)\n",
    "\n",
    "        num1 = str(num1).zfill(3) \n",
    "        num2 = str(num2).zfill(2)  \n",
    "        num3 = str(num3).zfill(6)  \n",
    "        self.account_number = num1 + '-' + num2 + '-' + num3 \n",
    "        Account.account_count += 1\n",
    "\n",
    "    @classmethod\n",
    "    def get_account_num(cls):\n",
    "        print(cls.account_count)\n",
    "\n",
    "    def deposit(self, amount):\n",
    "        if amount >= 1:\n",
    "            self.deposit_log.append(amount)\n",
    "            self.balance += amount\n",
    "\n",
    "            self.deposit_count += 1\n",
    "            if self.deposit_count % 5 == 0:\n",
    "                self.balance = (self.balance * 1.01)\n",
    "\n",
    "\n",
    "    def withdraw(self, amount):\n",
    "        if self.balance > amount:\n",
    "            self.withdraw_log.append(amount)\n",
    "            self.balance -= amount\n",
    "\n",
    "    def display_info(self):\n",
    "        print(\"은행이름: \", self.bank)\n",
    "        print(\"예금주: \", self.name)\n",
    "        print(\"계좌번호: \", self.account_number)\n",
    "        print(\"잔고: \", self.balance)\n",
    "\n",
    "    def withdraw_history(self):\n",
    "        for amount in self.withdraw_log:\n",
    "            print(amount)\n",
    "\n",
    "    def deposit_history(self):\n",
    "        for amount in self.deposit_log:\n",
    "            print(amount)"
   ]
  },
  {
   "cell_type": "code",
   "execution_count": 24,
   "id": "5e838349",
   "metadata": {
    "ExecuteTime": {
     "end_time": "2023-12-05T13:38:41.338543Z",
     "start_time": "2023-12-05T13:38:41.332606Z"
    }
   },
   "outputs": [
    {
     "name": "stdout",
     "output_type": "stream",
     "text": [
      "2\n",
      "1000\n"
     ]
    }
   ],
   "source": [
    "#281. 답변\n",
    "class 차:\n",
    "    def __init__(self, 바퀴, 가격):\n",
    "        self.바퀴 = 바퀴\n",
    "        self.가격 = 가격\n",
    "\n",
    "car = 차(2, 1000)\n",
    "print(car.바퀴)\n",
    "print(car.가격)"
   ]
  },
  {
   "cell_type": "code",
   "execution_count": 25,
   "id": "a1cb207d",
   "metadata": {
    "ExecuteTime": {
     "end_time": "2023-12-05T13:39:04.093488Z",
     "start_time": "2023-12-05T13:39:04.087966Z"
    }
   },
   "outputs": [],
   "source": [
    "#282. 답변\n",
    "class 차:\n",
    "    def __init__(self, 바퀴, 가격):\n",
    "        self.바퀴 = 바퀴\n",
    "        self.가격 = 가격\n",
    "\n",
    "        \n",
    "        \n",
    "class 자전차(차):\n",
    "    pass"
   ]
  },
  {
   "cell_type": "code",
   "execution_count": 26,
   "id": "083a324d",
   "metadata": {
    "ExecuteTime": {
     "end_time": "2023-12-05T13:39:21.110301Z",
     "start_time": "2023-12-05T13:39:21.103569Z"
    }
   },
   "outputs": [
    {
     "name": "stdout",
     "output_type": "stream",
     "text": [
      "100\n"
     ]
    }
   ],
   "source": [
    "#283. 답변\n",
    "class 차:\n",
    "    def __init__(self, 바퀴, 가격):\n",
    "        self.바퀴 = 바퀴\n",
    "        self.가격 = 가격\n",
    "\n",
    "\n",
    "        \n",
    "class 자전차(차):\n",
    "    def __init__(self, 바퀴, 가격):\n",
    "        self.바퀴 = 바퀴\n",
    "        self.가격 = 가격\n",
    "\n",
    "bicycle = 자전차(2, 100)\n",
    "print(bicycle.가격)"
   ]
  },
  {
   "cell_type": "code",
   "execution_count": 28,
   "id": "6b407f7b",
   "metadata": {
    "ExecuteTime": {
     "end_time": "2023-12-05T13:39:53.705871Z",
     "start_time": "2023-12-05T13:39:53.699110Z"
    }
   },
   "outputs": [
    {
     "name": "stdout",
     "output_type": "stream",
     "text": [
      "시마노\n"
     ]
    }
   ],
   "source": [
    "#284. 답변\n",
    "class 차:\n",
    "    def __init__(self, 바퀴, 가격):\n",
    "        self.바퀴 = 바퀴\n",
    "        self.가격 = 가격\n",
    "\n",
    "\n",
    "        \n",
    "class 자전차(차):\n",
    "    def __init__(self, 바퀴, 가격, 구동계):\n",
    "        super().__init__(바퀴, 가격)\n",
    "        #차.__init__(self, 바퀴, 가격)\n",
    "        self.구동계 = 구동계\n",
    "\n",
    "bicycle = 자전차(2, 100, \"시마노\")\n",
    "print(bicycle.구동계)"
   ]
  },
  {
   "cell_type": "code",
   "execution_count": 29,
   "id": "d71b0691",
   "metadata": {
    "ExecuteTime": {
     "end_time": "2023-12-05T13:40:43.277176Z",
     "start_time": "2023-12-05T13:40:43.271553Z"
    }
   },
   "outputs": [
    {
     "name": "stdout",
     "output_type": "stream",
     "text": [
      "바퀴수  4\n",
      "가격  1000\n"
     ]
    }
   ],
   "source": [
    "#285. 답변\n",
    "class 차:\n",
    "    def __init__(self, 바퀴, 가격):\n",
    "        self.바퀴 = 바퀴\n",
    "        self.가격 = 가격\n",
    "\n",
    "        \n",
    "class 자동차(차):\n",
    "    def __init__(self, 바퀴, 가격):\n",
    "        super().__init__(바퀴, 가격)\n",
    "\n",
    "    def 정보(self):\n",
    "        print(\"바퀴수 \", self.바퀴)\n",
    "        print(\"가격 \", self.가격)\n",
    "\n",
    "car = 자동차(4, 1000)\n",
    "car.정보()"
   ]
  },
  {
   "cell_type": "code",
   "execution_count": 30,
   "id": "d1f8ca04",
   "metadata": {
    "ExecuteTime": {
     "end_time": "2023-12-05T13:40:54.947555Z",
     "start_time": "2023-12-05T13:40:54.938557Z"
    }
   },
   "outputs": [
    {
     "name": "stdout",
     "output_type": "stream",
     "text": [
      "바퀴수  2\n",
      "가격  100\n"
     ]
    }
   ],
   "source": [
    "#286. 답변\n",
    "class 차:\n",
    "    def __init__(self, 바퀴, 가격):\n",
    "        self.바퀴 = 바퀴\n",
    "        self.가격 = 가격\n",
    "\n",
    "    def 정보(self):\n",
    "        print(\"바퀴수 \", self.바퀴)\n",
    "        print(\"가격 \", self.가격)\n",
    "\n",
    "        \n",
    "        \n",
    "class 자동차(차):\n",
    "    def __init__(self, 바퀴, 가격):\n",
    "        super().__init__(바퀴, 가격)\n",
    "\n",
    "        \n",
    "        \n",
    "class 자전차(차):\n",
    "    def __init__(self, 바퀴, 가격, 구동계):\n",
    "        super().__init__(바퀴, 가격)\n",
    "        self.구동계 = 구동계\n",
    "\n",
    "        \n",
    "bicycle = 자전차(2, 100, \"시마노\")\n",
    "bicycle.정보()"
   ]
  },
  {
   "cell_type": "code",
   "execution_count": 31,
   "id": "e7cb6554",
   "metadata": {
    "ExecuteTime": {
     "end_time": "2023-12-05T13:41:47.230600Z",
     "start_time": "2023-12-05T13:41:47.222561Z"
    }
   },
   "outputs": [
    {
     "name": "stdout",
     "output_type": "stream",
     "text": [
      "바퀴수  2\n",
      "가격  100\n",
      "구동계  시마노\n"
     ]
    }
   ],
   "source": [
    "#287. 답변 (오답)\n",
    "class 차:\n",
    "    def __init__(self, 바퀴, 가격):\n",
    "        self.바퀴 = 바퀴\n",
    "        self.가격 = 가격\n",
    "\n",
    "    def 정보(self):\n",
    "        print(\"바퀴수 \", self.바퀴)\n",
    "        print(\"가격 \", self.가격)\n",
    "\n",
    "        \n",
    "        \n",
    "class 자동차(차):\n",
    "    def __init__(self, 바퀴, 가격):\n",
    "        super().__init__(바퀴, 가격)\n",
    "\n",
    "        \n",
    "        \n",
    "class 자전차(차):\n",
    "    def __init__(self, 바퀴, 가격, 구동계):\n",
    "        super().__init__(바퀴, 가격)\n",
    "        self.구동계 = 구동계\n",
    "\n",
    "    def 정보(self):\n",
    "        super().정보()\n",
    "        print(\"구동계 \", self.구동계)\n",
    "\n",
    "        \n",
    "bicycle = 자전차(2, 100, \"시마노\")\n",
    "bicycle.정보()"
   ]
  },
  {
   "cell_type": "code",
   "execution_count": 37,
   "id": "ff87e539",
   "metadata": {
    "ExecuteTime": {
     "end_time": "2023-12-05T13:46:38.503764Z",
     "start_time": "2023-12-05T13:46:38.500011Z"
    }
   },
   "outputs": [],
   "source": [
    "#288. 답변\n",
    "#자식 클래스에서 정의된 호출 함수가 기존의 부모 클래스에서 존재하던 호출 함수를 오버라이딩함. 그런 이유로 자식 클래스로 만들어진 나라는 객체에서 호출 메서드를 실행하면 '자식 호출'값이 반환됨"
   ]
  },
  {
   "cell_type": "code",
   "execution_count": 36,
   "id": "0438fa68",
   "metadata": {
    "ExecuteTime": {
     "end_time": "2023-12-05T13:46:36.612844Z",
     "start_time": "2023-12-05T13:46:36.608579Z"
    }
   },
   "outputs": [],
   "source": [
    "#289. 답변\n",
    "#이것도 역시 부모 클래스에 존재하던 init함수가 자식 클래스로 상속되는 과정에서 오버라이딩 됨. 그래서 자식 클래스로 만들어진 나라는 객체가 생설될 때는 '자식생성'이란 문구가 출력됨"
   ]
  },
  {
   "cell_type": "code",
   "execution_count": 35,
   "id": "58d2345d",
   "metadata": {
    "ExecuteTime": {
     "end_time": "2023-12-05T13:46:32.398906Z",
     "start_time": "2023-12-05T13:46:32.394502Z"
    }
   },
   "outputs": [],
   "source": [
    "#290. 답변\n",
    "#자식 클래스가 부모 클래스를 오버라이딩 하는데, super()함수를 이용하여 부모 클래스에 있는 init 함수의 코드를 가져옴. 그래서 실행값은 '자식생성'과 '부모생성'"
   ]
  },
  {
   "cell_type": "code",
   "execution_count": 41,
   "id": "5ee882a8",
   "metadata": {
    "ExecuteTime": {
     "end_time": "2023-12-05T13:49:55.854490Z",
     "start_time": "2023-12-05T13:49:55.848455Z"
    }
   },
   "outputs": [],
   "source": [
    "#291. 답변\n",
    "f = open(\"C:\\workspace\\python\\WASSUP\\매수종목1.txt\", mode=\"wt\")\n",
    "f.write(\"005930\\n\")\n",
    "f.write(\"005380\\n\")\n",
    "f.write(\"035420\")\n",
    "f.close()"
   ]
  },
  {
   "cell_type": "code",
   "execution_count": 45,
   "id": "dc737d8e",
   "metadata": {
    "ExecuteTime": {
     "end_time": "2023-12-05T13:53:28.274173Z",
     "start_time": "2023-12-05T13:53:28.266949Z"
    }
   },
   "outputs": [],
   "source": [
    "#292. 답변\n",
    "f = open(\"C:\\workspace\\python\\WASSUP\\매수종목2.txt\", mode=\"wt\")\n",
    "f.write(\"005930 삼성전자\\n\")\n",
    "f.write(\"005380 현대차\\n\")\n",
    "f.write(\"035420 NAVER\\n\")\n",
    "f.close()"
   ]
  },
  {
   "cell_type": "code",
   "execution_count": 47,
   "id": "4788457f",
   "metadata": {
    "ExecuteTime": {
     "end_time": "2023-12-05T13:54:10.867775Z",
     "start_time": "2023-12-05T13:54:10.861155Z"
    }
   },
   "outputs": [],
   "source": [
    "#293. 답변 (오답)\n",
    "import csv\n",
    "\n",
    "f = open(\"C:\\workspace\\python\\WASSUP\\매수종목.csv\", mode=\"wt\", encoding=\"cp949\", newline='')\n",
    "writer = csv.writer(f)\n",
    "writer.writerow([\"종목명\", \"종목코드\", \"PER\"])\n",
    "writer.writerow([\"삼성전자\", \"005930\", 15.59])\n",
    "writer.writerow([\"NAVER\", \"035420\", 55.82])\n",
    "f.close()"
   ]
  },
  {
   "cell_type": "code",
   "execution_count": 48,
   "id": "83b692a1",
   "metadata": {
    "ExecuteTime": {
     "end_time": "2023-12-05T13:54:44.182155Z",
     "start_time": "2023-12-05T13:54:44.175902Z"
    }
   },
   "outputs": [
    {
     "name": "stdout",
     "output_type": "stream",
     "text": [
      "['005930', '005380', '035420']\n"
     ]
    }
   ],
   "source": [
    "#294. 답변\n",
    "f = open(\"C:\\workspace\\python\\WASSUP\\매수종목1.txt\")\n",
    "lines = f.readlines()\n",
    "\n",
    "codes = []\n",
    "for line in lines:\n",
    "    code = line.strip()\n",
    "    codes.append(code)\n",
    "\n",
    "print(codes)\n",
    "\n",
    "f.close()"
   ]
  },
  {
   "cell_type": "code",
   "execution_count": 49,
   "id": "9d7e40c4",
   "metadata": {
    "ExecuteTime": {
     "end_time": "2023-12-05T13:59:53.112856Z",
     "start_time": "2023-12-05T13:59:53.106418Z"
    }
   },
   "outputs": [
    {
     "name": "stdout",
     "output_type": "stream",
     "text": [
      "{'005930': '삼성전자', '005380': '현대차', '035420': 'NAVER'}\n"
     ]
    }
   ],
   "source": [
    "#295. 답변\n",
    "f = open(\"C:\\workspace\\python\\WASSUP\\매수종목2.txt\")\n",
    "lines = f.readlines()\n",
    "data = {}\n",
    "for line in lines:\n",
    "    line = line.strip()\n",
    "    k, v = line.split()\n",
    "    data[k] = v\n",
    "\n",
    "print(data)\n",
    "f.close()"
   ]
  },
  {
   "cell_type": "code",
   "execution_count": 50,
   "id": "4c87ceab",
   "metadata": {
    "ExecuteTime": {
     "end_time": "2023-12-05T14:00:19.926956Z",
     "start_time": "2023-12-05T14:00:19.921831Z"
    }
   },
   "outputs": [
    {
     "name": "stdout",
     "output_type": "stream",
     "text": [
      "10.31\n",
      "0\n",
      "8.0\n"
     ]
    }
   ],
   "source": [
    "#296. 답변\n",
    "per = [\"10.31\", \"\", \"8.00\"]\n",
    "\n",
    "for i in per:\n",
    "    try:\n",
    "        print(float(i))\n",
    "    except:\n",
    "        print(0)"
   ]
  },
  {
   "cell_type": "code",
   "execution_count": 52,
   "id": "c63923d2",
   "metadata": {
    "ExecuteTime": {
     "end_time": "2023-12-05T14:01:24.837828Z",
     "start_time": "2023-12-05T14:01:24.832308Z"
    }
   },
   "outputs": [
    {
     "name": "stdout",
     "output_type": "stream",
     "text": [
      "[10.31, 0, 8.0]\n"
     ]
    }
   ],
   "source": [
    "#297. 답변\n",
    "per = [\"10.31\",\"\",\"8.00\"]\n",
    "new_per=[]\n",
    "for i in per:\n",
    "    try:\n",
    "        v = float(i)\n",
    "    except:\n",
    "        v = 0\n",
    "    new_per.append(v)\n",
    "print(new_per)"
   ]
  },
  {
   "cell_type": "code",
   "execution_count": 53,
   "id": "c2bcd44c",
   "metadata": {
    "ExecuteTime": {
     "end_time": "2023-12-05T14:01:53.748884Z",
     "start_time": "2023-12-05T14:01:53.743814Z"
    }
   },
   "outputs": [
    {
     "name": "stdout",
     "output_type": "stream",
     "text": [
      "나누기 에러가 발생했습니다\n"
     ]
    }
   ],
   "source": [
    "#298. 답변\n",
    "try:\n",
    "    b = 3 / 0\n",
    "except ZeroDivisionError:\n",
    "    print(\"나누기 에러가 발생했습니다\")"
   ]
  },
  {
   "cell_type": "code",
   "execution_count": 54,
   "id": "fc81130d",
   "metadata": {
    "ExecuteTime": {
     "end_time": "2023-12-05T14:02:13.194969Z",
     "start_time": "2023-12-05T14:02:13.189816Z"
    }
   },
   "outputs": [
    {
     "name": "stdout",
     "output_type": "stream",
     "text": [
      "1\n",
      "2\n",
      "3\n",
      "list index out of range\n",
      "list index out of range\n"
     ]
    }
   ],
   "source": [
    "#299. 답변\n",
    "data = [1, 2, 3]\n",
    "for i in range(5):\n",
    "    try:\n",
    "        print(data[i])\n",
    "    except IndexError as e:\n",
    "        print(e)"
   ]
  },
  {
   "cell_type": "code",
   "execution_count": 58,
   "id": "eae576a7",
   "metadata": {
    "ExecuteTime": {
     "end_time": "2023-12-05T14:06:31.608124Z",
     "start_time": "2023-12-05T14:06:31.601855Z"
    }
   },
   "outputs": [
    {
     "name": "stdout",
     "output_type": "stream",
     "text": [
      "10.31\n",
      "else 구문이여\n",
      "finally 구문이여\n",
      "오류가 발생했슴다\n",
      "finally 구문이여\n",
      "8.0\n",
      "else 구문이여\n",
      "finally 구문이여\n"
     ]
    }
   ],
   "source": [
    "#300. 답변\n",
    "per = [\"10.31\", \"\", \"8.00\"]\n",
    "\n",
    "for i in per:\n",
    "    try:\n",
    "        print(float(i))\n",
    "    except:\n",
    "        print(\"오류가 발생했슴다\")\n",
    "    else:\n",
    "        print(\"else 구문이여\")\n",
    "    finally:\n",
    "        print(\"finally 구문이여\")"
   ]
  }
 ],
 "metadata": {
  "kernelspec": {
   "display_name": "Python 3 (ipykernel)",
   "language": "python",
   "name": "python3"
  },
  "language_info": {
   "codemirror_mode": {
    "name": "ipython",
    "version": 3
   },
   "file_extension": ".py",
   "mimetype": "text/x-python",
   "name": "python",
   "nbconvert_exporter": "python",
   "pygments_lexer": "ipython3",
   "version": "3.11.5"
  },
  "toc": {
   "base_numbering": 1,
   "nav_menu": {},
   "number_sections": true,
   "sideBar": true,
   "skip_h1_title": false,
   "title_cell": "Table of Contents",
   "title_sidebar": "Contents",
   "toc_cell": false,
   "toc_position": {
    "height": "calc(100% - 180px)",
    "left": "10px",
    "top": "150px",
    "width": "297px"
   },
   "toc_section_display": true,
   "toc_window_display": false
  }
 },
 "nbformat": 4,
 "nbformat_minor": 5
}
