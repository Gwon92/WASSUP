{
 "cells": [
  {
   "cell_type": "code",
   "execution_count": 1,
   "id": "a4181492",
   "metadata": {
    "ExecuteTime": {
     "end_time": "2023-12-07T04:37:33.738339Z",
     "start_time": "2023-12-07T04:37:33.558309Z"
    }
   },
   "outputs": [],
   "source": [
    "from bs4 import BeautifulSoup\n",
    "import lxml\n"
   ]
  },
  {
   "cell_type": "code",
   "execution_count": 2,
   "id": "1f6e6520",
   "metadata": {
    "ExecuteTime": {
     "end_time": "2023-12-07T04:37:56.580593Z",
     "start_time": "2023-12-07T04:37:56.522446Z"
    }
   },
   "outputs": [],
   "source": [
    "BeautifulSoup?"
   ]
  },
  {
   "cell_type": "code",
   "execution_count": 4,
   "id": "4f17443b",
   "metadata": {
    "ExecuteTime": {
     "end_time": "2023-12-07T04:40:54.786830Z",
     "start_time": "2023-12-07T04:40:54.782171Z"
    }
   },
   "outputs": [],
   "source": [
    "# sample\n",
    "html = '''\n",
    "<div id=prices >\n",
    "    <table >\n",
    "        <tr class=bb>\n",
    "            <th class=\"bb lm lft\">Date\n",
    "            <th class=\"rgt bb\">Open\n",
    "            <th class=\"rgt bb\">High\n",
    "            <th class=\"rgt bb\">Low\n",
    "            <th class=\"rgt bb\">Close\n",
    "            <th class=\"rgt bb rm\">Volume\n",
    "        <tr>\n",
    "            <td class=\"lm\">Feb 28, 2014\n",
    "            <td class=\"rgt\">100.71\n",
    "            <td class=\"rgt\">100.71\n",
    "            <td class=\"rgt\">100.71\n",
    "            <td class=\"rgt\">100.71\n",
    "            <td class=\"rgt rm\">0\n",
    "     </table>\n",
    "'''"
   ]
  },
  {
   "cell_type": "code",
   "execution_count": 5,
   "id": "d4292fab",
   "metadata": {
    "ExecuteTime": {
     "end_time": "2023-12-07T04:40:56.531922Z",
     "start_time": "2023-12-07T04:40:56.513519Z"
    }
   },
   "outputs": [
    {
     "data": {
      "text/plain": [
       "<html><body><div id=\"prices\">\n",
       "<table>\n",
       "<tr class=\"bb\">\n",
       "<th class=\"bb lm lft\">Date\n",
       "            </th><th class=\"rgt bb\">Open\n",
       "            </th><th class=\"rgt bb\">High\n",
       "            </th><th class=\"rgt bb\">Low\n",
       "            </th><th class=\"rgt bb\">Close\n",
       "            </th><th class=\"rgt bb rm\">Volume\n",
       "        </th></tr><tr>\n",
       "<td class=\"lm\">Feb 28, 2014\n",
       "            </td><td class=\"rgt\">100.71\n",
       "            </td><td class=\"rgt\">100.71\n",
       "            </td><td class=\"rgt\">100.71\n",
       "            </td><td class=\"rgt\">100.71\n",
       "            </td><td class=\"rgt rm\">0\n",
       "     </td></tr></table>\n",
       "</div></body></html>"
      ]
     },
     "execution_count": 5,
     "metadata": {},
     "output_type": "execute_result"
    }
   ],
   "source": [
    " #lxml의 HTML파서\n",
    "BeautifulSoup(html, 'lxml')"
   ]
  },
  {
   "cell_type": "code",
   "execution_count": 8,
   "id": "216a3752",
   "metadata": {
    "ExecuteTime": {
     "end_time": "2023-12-07T04:43:00.661543Z",
     "start_time": "2023-12-07T04:43:00.651493Z"
    }
   },
   "outputs": [
    {
     "data": {
      "text/plain": [
       "\n",
       "<div id=\"prices\">\n",
       "<table>\n",
       "<tr class=\"bb\">\n",
       "<th class=\"bb lm lft\">Date\n",
       "            <th class=\"rgt bb\">Open\n",
       "            <th class=\"rgt bb\">High\n",
       "            <th class=\"rgt bb\">Low\n",
       "            <th class=\"rgt bb\">Close\n",
       "            <th class=\"rgt bb rm\">Volume\n",
       "        <tr>\n",
       "<td class=\"lm\">Feb 28, 2014\n",
       "            <td class=\"rgt\">100.71\n",
       "            <td class=\"rgt\">100.71\n",
       "            <td class=\"rgt\">100.71\n",
       "            <td class=\"rgt\">100.71\n",
       "            <td class=\"rgt rm\">0\n",
       "     </td></td></td></td></td></td></tr></th></th></th></th></th></th></tr></table>\n",
       "</div>"
      ]
     },
     "execution_count": 8,
     "metadata": {},
     "output_type": "execute_result"
    }
   ],
   "source": [
    "# 파이썬 표준 html파서\n",
    "BeautifulSoup(html, 'html.parser') "
   ]
  },
  {
   "cell_type": "code",
   "execution_count": 16,
   "id": "76e2a80c",
   "metadata": {
    "ExecuteTime": {
     "end_time": "2023-12-07T05:05:51.923054Z",
     "start_time": "2023-12-07T05:05:51.915153Z"
    },
    "scrolled": true
   },
   "outputs": [],
   "source": [
    "html_file = open('sample/market.html', encoding='utf-8')\n",
    "html_src = html_file.read()\n",
    "html_file.close()"
   ]
  },
  {
   "cell_type": "code",
   "execution_count": 17,
   "id": "fd3ad10d",
   "metadata": {
    "ExecuteTime": {
     "end_time": "2023-12-07T05:05:55.215544Z",
     "start_time": "2023-12-07T05:05:55.208362Z"
    }
   },
   "outputs": [
    {
     "data": {
      "text/plain": [
       "'<html>\\n    <body>\\n        <h1> 과일 목록 </h1>\\n        <div>\\n                <p id=\\'banana\\' class=\\'fruit\\' title=\\'바나나\\'>\\n                      <span class = \\'price\\'> 3000원 </span>\\n                      <span class = \\'count\\'> 10개 </span>\\n                      <span class = \\'store\\'> 바나나가게 </span>\\n                      <a href = \\'https://www.banana.com\\'> banana.com </a>\\n                </p>\\n                <p id=\\'cherry\\' class=\\'fruit\\' title=\\'체리\\'>\\n                    <span class = \\'price\\'> 100원 </span>\\n                    <span class = \\'count\\'> 50개 </span>\\n                    <span class = \\'store\\'> 체리가게</span>\\n                    <a href = \\'https://www.cherry.com\\'> cherry.com </a>\\n                </p>\\n                <p id=\\'orange\\' class=\\'fruit best\\' title=\\'오렌지\\'>\\n                    <span class = \\'price\\'> 500원 </span>\\n                    <span class = \\'count\\'> 20개 </span>\\n                    <span class = \\'store\\'> 오렌지가게</span>\\n                    <a href = \\'https://www.orange.com\\'> orange.com </a>\\n                    <span>\\n                        <a href=\"https://www.orange.blog/\">오렌지 효능</a>\\n                    </span>\\n                </p>\\n        </div>\\n    </body> \\n</html>'"
      ]
     },
     "execution_count": 17,
     "metadata": {},
     "output_type": "execute_result"
    }
   ],
   "source": [
    "html_src"
   ]
  },
  {
   "cell_type": "code",
   "execution_count": 18,
   "id": "77728b01",
   "metadata": {
    "ExecuteTime": {
     "end_time": "2023-12-07T05:06:41.983714Z",
     "start_time": "2023-12-07T05:06:41.978486Z"
    }
   },
   "outputs": [
    {
     "name": "stdout",
     "output_type": "stream",
     "text": [
      "<html>\n",
      "    <body>\n",
      "        <h1> 과일 목록 </h1>\n",
      "        <div>\n",
      "                <p id='banana' class='fruit' title='바나나'>\n",
      "                      <span class = 'price'> 3000원 </span>\n",
      "                      <span class = 'count'> 10개 </span>\n",
      "                      <span class = 'store'> 바나나가게 </span>\n",
      "                      <a href = 'https://www.banana.com'> banana.com </a>\n",
      "                </p>\n",
      "                <p id='cherry' class='fruit' title='체리'>\n",
      "                    <span class = 'price'> 100원 </span>\n",
      "                    <span class = 'count'> 50개 </span>\n",
      "                    <span class = 'store'> 체리가게</span>\n",
      "                    <a href = 'https://www.cherry.com'> cherry.com </a>\n",
      "                </p>\n",
      "                <p id='orange' class='fruit best' title='오렌지'>\n",
      "                    <span class = 'price'> 500원 </span>\n",
      "                    <span class = 'count'> 20개 </span>\n",
      "                    <span class = 'store'> 오렌지가게</span>\n",
      "                    <a href = 'https://www.orange.com'> orange.com </a>\n",
      "                    <span>\n",
      "                        <a href=\"https://www.orange.blog/\">오렌지 효능</a>\n",
      "                    </span>\n",
      "                </p>\n",
      "        </div>\n",
      "    </body> \n",
      "</html>\n"
     ]
    }
   ],
   "source": [
    "print(html_src)"
   ]
  },
  {
   "cell_type": "code",
   "execution_count": 19,
   "id": "cc993aa4",
   "metadata": {
    "ExecuteTime": {
     "end_time": "2023-12-07T05:07:44.419668Z",
     "start_time": "2023-12-07T05:07:44.413443Z"
    }
   },
   "outputs": [],
   "source": [
    "# DOM구조로 변환(구문 분석)\n",
    "soup = BeautifulSoup(html_src, 'lxml')"
   ]
  },
  {
   "cell_type": "code",
   "execution_count": 20,
   "id": "2355c5c4",
   "metadata": {
    "ExecuteTime": {
     "end_time": "2023-12-07T05:07:49.646089Z",
     "start_time": "2023-12-07T05:07:49.639951Z"
    }
   },
   "outputs": [
    {
     "data": {
      "text/plain": [
       "bs4.BeautifulSoup"
      ]
     },
     "execution_count": 20,
     "metadata": {},
     "output_type": "execute_result"
    }
   ],
   "source": [
    "type(soup)"
   ]
  },
  {
   "cell_type": "code",
   "execution_count": 21,
   "id": "3db025d0",
   "metadata": {
    "ExecuteTime": {
     "end_time": "2023-12-07T05:09:10.522173Z",
     "start_time": "2023-12-07T05:09:10.513471Z"
    },
    "scrolled": true
   },
   "outputs": [
    {
     "data": {
      "text/plain": [
       "<html>\n",
       "<body>\n",
       "<h1> 과일 목록 </h1>\n",
       "<div>\n",
       "<p class=\"fruit\" id=\"banana\" title=\"바나나\">\n",
       "<span class=\"price\"> 3000원 </span>\n",
       "<span class=\"count\"> 10개 </span>\n",
       "<span class=\"store\"> 바나나가게 </span>\n",
       "<a href=\"https://www.banana.com\"> banana.com </a>\n",
       "</p>\n",
       "<p class=\"fruit\" id=\"cherry\" title=\"체리\">\n",
       "<span class=\"price\"> 100원 </span>\n",
       "<span class=\"count\"> 50개 </span>\n",
       "<span class=\"store\"> 체리가게</span>\n",
       "<a href=\"https://www.cherry.com\"> cherry.com </a>\n",
       "</p>\n",
       "<p class=\"fruit best\" id=\"orange\" title=\"오렌지\">\n",
       "<span class=\"price\"> 500원 </span>\n",
       "<span class=\"count\"> 20개 </span>\n",
       "<span class=\"store\"> 오렌지가게</span>\n",
       "<a href=\"https://www.orange.com\"> orange.com </a>\n",
       "<span>\n",
       "<a href=\"https://www.orange.blog/\">오렌지 효능</a>\n",
       "</span>\n",
       "</p>\n",
       "</div>\n",
       "</body>\n",
       "</html>"
      ]
     },
     "execution_count": 21,
     "metadata": {},
     "output_type": "execute_result"
    }
   ],
   "source": [
    "soup"
   ]
  },
  {
   "cell_type": "code",
   "execution_count": 22,
   "id": "584aa7ad",
   "metadata": {
    "ExecuteTime": {
     "end_time": "2023-12-07T05:10:39.597134Z",
     "start_time": "2023-12-07T05:10:39.590233Z"
    }
   },
   "outputs": [
    {
     "data": {
      "text/plain": [
       "<p class=\"fruit\" id=\"banana\" title=\"바나나\">\n",
       "<span class=\"price\"> 3000원 </span>\n",
       "<span class=\"count\"> 10개 </span>\n",
       "<span class=\"store\"> 바나나가게 </span>\n",
       "<a href=\"https://www.banana.com\"> banana.com </a>\n",
       "</p>"
      ]
     },
     "execution_count": 22,
     "metadata": {},
     "output_type": "execute_result"
    }
   ],
   "source": [
    "soup.find('p')"
   ]
  },
  {
   "cell_type": "code",
   "execution_count": 23,
   "id": "bf2df695",
   "metadata": {
    "ExecuteTime": {
     "end_time": "2023-12-07T05:10:50.048202Z",
     "start_time": "2023-12-07T05:10:50.041443Z"
    }
   },
   "outputs": [
    {
     "data": {
      "text/plain": [
       "bs4.element.Tag"
      ]
     },
     "execution_count": 23,
     "metadata": {},
     "output_type": "execute_result"
    }
   ],
   "source": [
    "type(soup.find('p'))"
   ]
  },
  {
   "cell_type": "code",
   "execution_count": 24,
   "id": "0520427e",
   "metadata": {
    "ExecuteTime": {
     "end_time": "2023-12-07T05:10:55.349516Z",
     "start_time": "2023-12-07T05:10:55.342259Z"
    }
   },
   "outputs": [
    {
     "data": {
      "text/plain": [
       "[<p class=\"fruit\" id=\"banana\" title=\"바나나\">\n",
       " <span class=\"price\"> 3000원 </span>\n",
       " <span class=\"count\"> 10개 </span>\n",
       " <span class=\"store\"> 바나나가게 </span>\n",
       " <a href=\"https://www.banana.com\"> banana.com </a>\n",
       " </p>,\n",
       " <p class=\"fruit\" id=\"cherry\" title=\"체리\">\n",
       " <span class=\"price\"> 100원 </span>\n",
       " <span class=\"count\"> 50개 </span>\n",
       " <span class=\"store\"> 체리가게</span>\n",
       " <a href=\"https://www.cherry.com\"> cherry.com </a>\n",
       " </p>,\n",
       " <p class=\"fruit best\" id=\"orange\" title=\"오렌지\">\n",
       " <span class=\"price\"> 500원 </span>\n",
       " <span class=\"count\"> 20개 </span>\n",
       " <span class=\"store\"> 오렌지가게</span>\n",
       " <a href=\"https://www.orange.com\"> orange.com </a>\n",
       " <span>\n",
       " <a href=\"https://www.orange.blog/\">오렌지 효능</a>\n",
       " </span>\n",
       " </p>]"
      ]
     },
     "execution_count": 24,
     "metadata": {},
     "output_type": "execute_result"
    }
   ],
   "source": [
    "soup.find_all('p')"
   ]
  },
  {
   "cell_type": "code",
   "execution_count": 25,
   "id": "24bc34f8",
   "metadata": {
    "ExecuteTime": {
     "end_time": "2023-12-07T05:14:49.297496Z",
     "start_time": "2023-12-07T05:14:49.289529Z"
    }
   },
   "outputs": [
    {
     "data": {
      "text/plain": [
       "<p class=\"fruit best\" id=\"orange\" title=\"오렌지\">\n",
       "<span class=\"price\"> 500원 </span>\n",
       "<span class=\"count\"> 20개 </span>\n",
       "<span class=\"store\"> 오렌지가게</span>\n",
       "<a href=\"https://www.orange.com\"> orange.com </a>\n",
       "<span>\n",
       "<a href=\"https://www.orange.blog/\">오렌지 효능</a>\n",
       "</span>\n",
       "</p>"
      ]
     },
     "execution_count": 25,
     "metadata": {},
     "output_type": "execute_result"
    }
   ],
   "source": [
    "soup.find('p', id=\"orange\")"
   ]
  },
  {
   "cell_type": "code",
   "execution_count": 26,
   "id": "434bbe6f",
   "metadata": {
    "ExecuteTime": {
     "end_time": "2023-12-07T05:14:56.014138Z",
     "start_time": "2023-12-07T05:14:56.008394Z"
    }
   },
   "outputs": [
    {
     "data": {
      "text/plain": [
       "[<p class=\"fruit\" id=\"banana\" title=\"바나나\">\n",
       " <span class=\"price\"> 3000원 </span>\n",
       " <span class=\"count\"> 10개 </span>\n",
       " <span class=\"store\"> 바나나가게 </span>\n",
       " <a href=\"https://www.banana.com\"> banana.com </a>\n",
       " </p>,\n",
       " <p class=\"fruit\" id=\"cherry\" title=\"체리\">\n",
       " <span class=\"price\"> 100원 </span>\n",
       " <span class=\"count\"> 50개 </span>\n",
       " <span class=\"store\"> 체리가게</span>\n",
       " <a href=\"https://www.cherry.com\"> cherry.com </a>\n",
       " </p>,\n",
       " <p class=\"fruit best\" id=\"orange\" title=\"오렌지\">\n",
       " <span class=\"price\"> 500원 </span>\n",
       " <span class=\"count\"> 20개 </span>\n",
       " <span class=\"store\"> 오렌지가게</span>\n",
       " <a href=\"https://www.orange.com\"> orange.com </a>\n",
       " <span>\n",
       " <a href=\"https://www.orange.blog/\">오렌지 효능</a>\n",
       " </span>\n",
       " </p>]"
      ]
     },
     "execution_count": 26,
     "metadata": {},
     "output_type": "execute_result"
    }
   ],
   "source": [
    "soup.find_all(class_='fruit')"
   ]
  },
  {
   "cell_type": "code",
   "execution_count": 27,
   "id": "7f68e847",
   "metadata": {
    "ExecuteTime": {
     "end_time": "2023-12-07T05:15:13.157729Z",
     "start_time": "2023-12-07T05:15:13.150013Z"
    }
   },
   "outputs": [
    {
     "data": {
      "text/plain": [
       "[<p class=\"fruit\" id=\"banana\" title=\"바나나\">\n",
       " <span class=\"price\"> 3000원 </span>\n",
       " <span class=\"count\"> 10개 </span>\n",
       " <span class=\"store\"> 바나나가게 </span>\n",
       " <a href=\"https://www.banana.com\"> banana.com </a>\n",
       " </p>,\n",
       " <p class=\"fruit\" id=\"cherry\" title=\"체리\">\n",
       " <span class=\"price\"> 100원 </span>\n",
       " <span class=\"count\"> 50개 </span>\n",
       " <span class=\"store\"> 체리가게</span>\n",
       " <a href=\"https://www.cherry.com\"> cherry.com </a>\n",
       " </p>,\n",
       " <p class=\"fruit best\" id=\"orange\" title=\"오렌지\">\n",
       " <span class=\"price\"> 500원 </span>\n",
       " <span class=\"count\"> 20개 </span>\n",
       " <span class=\"store\"> 오렌지가게</span>\n",
       " <a href=\"https://www.orange.com\"> orange.com </a>\n",
       " <span>\n",
       " <a href=\"https://www.orange.blog/\">오렌지 효능</a>\n",
       " </span>\n",
       " </p>]"
      ]
     },
     "execution_count": 27,
     "metadata": {},
     "output_type": "execute_result"
    }
   ],
   "source": [
    "soup.select('p')"
   ]
  },
  {
   "cell_type": "code",
   "execution_count": 28,
   "id": "9f958e0f",
   "metadata": {
    "ExecuteTime": {
     "end_time": "2023-12-07T05:15:20.729126Z",
     "start_time": "2023-12-07T05:15:20.722007Z"
    }
   },
   "outputs": [
    {
     "data": {
      "text/plain": [
       "<p class=\"fruit\" id=\"banana\" title=\"바나나\">\n",
       "<span class=\"price\"> 3000원 </span>\n",
       "<span class=\"count\"> 10개 </span>\n",
       "<span class=\"store\"> 바나나가게 </span>\n",
       "<a href=\"https://www.banana.com\"> banana.com </a>\n",
       "</p>"
      ]
     },
     "execution_count": 28,
     "metadata": {},
     "output_type": "execute_result"
    }
   ],
   "source": [
    "soup.select_one('p')\n"
   ]
  },
  {
   "cell_type": "code",
   "execution_count": 29,
   "id": "73210e09",
   "metadata": {
    "ExecuteTime": {
     "end_time": "2023-12-07T05:15:25.922012Z",
     "start_time": "2023-12-07T05:15:25.914668Z"
    }
   },
   "outputs": [
    {
     "data": {
      "text/plain": [
       "[<p class=\"fruit best\" id=\"orange\" title=\"오렌지\">\n",
       " <span class=\"price\"> 500원 </span>\n",
       " <span class=\"count\"> 20개 </span>\n",
       " <span class=\"store\"> 오렌지가게</span>\n",
       " <a href=\"https://www.orange.com\"> orange.com </a>\n",
       " <span>\n",
       " <a href=\"https://www.orange.blog/\">오렌지 효능</a>\n",
       " </span>\n",
       " </p>]"
      ]
     },
     "execution_count": 29,
     "metadata": {},
     "output_type": "execute_result"
    }
   ],
   "source": [
    "soup.select('#orange') # id 속성"
   ]
  },
  {
   "cell_type": "code",
   "execution_count": 30,
   "id": "8b82103a",
   "metadata": {
    "ExecuteTime": {
     "end_time": "2023-12-07T05:15:34.760331Z",
     "start_time": "2023-12-07T05:15:34.751623Z"
    }
   },
   "outputs": [
    {
     "data": {
      "text/plain": [
       "<p class=\"fruit best\" id=\"orange\" title=\"오렌지\">\n",
       "<span class=\"price\"> 500원 </span>\n",
       "<span class=\"count\"> 20개 </span>\n",
       "<span class=\"store\"> 오렌지가게</span>\n",
       "<a href=\"https://www.orange.com\"> orange.com </a>\n",
       "<span>\n",
       "<a href=\"https://www.orange.blog/\">오렌지 효능</a>\n",
       "</span>\n",
       "</p>"
      ]
     },
     "execution_count": 30,
     "metadata": {},
     "output_type": "execute_result"
    }
   ],
   "source": [
    "soup.select_one('#orange')"
   ]
  },
  {
   "cell_type": "code",
   "execution_count": 31,
   "id": "50a5efe0",
   "metadata": {
    "ExecuteTime": {
     "end_time": "2023-12-07T05:15:40.082834Z",
     "start_time": "2023-12-07T05:15:40.074995Z"
    }
   },
   "outputs": [
    {
     "data": {
      "text/plain": [
       "[<span class=\"price\"> 3000원 </span>,\n",
       " <span class=\"price\"> 100원 </span>,\n",
       " <span class=\"price\"> 500원 </span>]"
      ]
     },
     "execution_count": 31,
     "metadata": {},
     "output_type": "execute_result"
    }
   ],
   "source": [
    "soup.select('.price') # class 속성"
   ]
  },
  {
   "cell_type": "code",
   "execution_count": 32,
   "id": "13fa54df",
   "metadata": {
    "ExecuteTime": {
     "end_time": "2023-12-07T05:15:44.431711Z",
     "start_time": "2023-12-07T05:15:44.424257Z"
    }
   },
   "outputs": [
    {
     "data": {
      "text/plain": [
       "[<p class=\"fruit best\" id=\"orange\" title=\"오렌지\">\n",
       " <span class=\"price\"> 500원 </span>\n",
       " <span class=\"count\"> 20개 </span>\n",
       " <span class=\"store\"> 오렌지가게</span>\n",
       " <a href=\"https://www.orange.com\"> orange.com </a>\n",
       " <span>\n",
       " <a href=\"https://www.orange.blog/\">오렌지 효능</a>\n",
       " </span>\n",
       " </p>]"
      ]
     },
     "execution_count": 32,
     "metadata": {},
     "output_type": "execute_result"
    }
   ],
   "source": [
    "soup.select('p#orange') #AND관계"
   ]
  },
  {
   "cell_type": "code",
   "execution_count": 33,
   "id": "c42bc0de",
   "metadata": {
    "ExecuteTime": {
     "end_time": "2023-12-07T05:15:51.739534Z",
     "start_time": "2023-12-07T05:15:51.731988Z"
    }
   },
   "outputs": [
    {
     "data": {
      "text/plain": [
       "[<span class=\"store\"> 바나나가게 </span>,\n",
       " <a href=\"https://www.banana.com\"> banana.com </a>,\n",
       " <span class=\"store\"> 체리가게</span>,\n",
       " <a href=\"https://www.cherry.com\"> cherry.com </a>,\n",
       " <span class=\"store\"> 오렌지가게</span>,\n",
       " <a href=\"https://www.orange.com\"> orange.com </a>,\n",
       " <a href=\"https://www.orange.blog/\">오렌지 효능</a>]"
      ]
     },
     "execution_count": 33,
     "metadata": {},
     "output_type": "execute_result"
    }
   ],
   "source": [
    "soup.select('a, .store')  # , = OR 관계"
   ]
  },
  {
   "cell_type": "code",
   "execution_count": 34,
   "id": "fe98114d",
   "metadata": {
    "ExecuteTime": {
     "end_time": "2023-12-07T05:18:02.584909Z",
     "start_time": "2023-12-07T05:18:02.577907Z"
    }
   },
   "outputs": [
    {
     "data": {
      "text/plain": [
       "[<p class=\"fruit best\" id=\"orange\" title=\"오렌지\">\n",
       " <span class=\"price\"> 500원 </span>\n",
       " <span class=\"count\"> 20개 </span>\n",
       " <span class=\"store\"> 오렌지가게</span>\n",
       " <a href=\"https://www.orange.com\"> orange.com </a>\n",
       " <span>\n",
       " <a href=\"https://www.orange.blog/\">오렌지 효능</a>\n",
       " </span>\n",
       " </p>]"
      ]
     },
     "execution_count": 34,
     "metadata": {},
     "output_type": "execute_result"
    }
   ],
   "source": [
    "soup.select('.fruit.best') # 클래스값이 2개인 태그, "
   ]
  },
  {
   "cell_type": "code",
   "execution_count": 35,
   "id": "3c016910",
   "metadata": {
    "ExecuteTime": {
     "end_time": "2023-12-07T05:27:04.952349Z",
     "start_time": "2023-12-07T05:27:04.944503Z"
    }
   },
   "outputs": [
    {
     "data": {
      "text/plain": [
       "[<p class=\"fruit best\" id=\"orange\" title=\"오렌지\">\n",
       " <span class=\"price\"> 500원 </span>\n",
       " <span class=\"count\"> 20개 </span>\n",
       " <span class=\"store\"> 오렌지가게</span>\n",
       " <a href=\"https://www.orange.com\"> orange.com </a>\n",
       " <span>\n",
       " <a href=\"https://www.orange.blog/\">오렌지 효능</a>\n",
       " </span>\n",
       " </p>]"
      ]
     },
     "execution_count": 35,
     "metadata": {},
     "output_type": "execute_result"
    }
   ],
   "source": [
    "soup.select('.fruit.best') # 클래스값이 2개인 태그, "
   ]
  },
  {
   "cell_type": "code",
   "execution_count": 36,
   "id": "3cb86464",
   "metadata": {
    "ExecuteTime": {
     "end_time": "2023-12-07T05:27:09.730456Z",
     "start_time": "2023-12-07T05:27:09.725483Z"
    }
   },
   "outputs": [
    {
     "data": {
      "text/plain": [
       "[<a href=\"https://www.orange.com\"> orange.com </a>]"
      ]
     },
     "execution_count": 36,
     "metadata": {},
     "output_type": "execute_result"
    }
   ],
   "source": [
    "soup.select('.fruit.best>a')"
   ]
  },
  {
   "cell_type": "code",
   "execution_count": 37,
   "id": "81288292",
   "metadata": {
    "ExecuteTime": {
     "end_time": "2023-12-07T05:27:13.846433Z",
     "start_time": "2023-12-07T05:27:13.839433Z"
    }
   },
   "outputs": [
    {
     "data": {
      "text/plain": [
       "[<a href=\"https://www.orange.com\"> orange.com </a>]"
      ]
     },
     "execution_count": 37,
     "metadata": {},
     "output_type": "execute_result"
    }
   ],
   "source": [
    "soup.select('.fruit.best > a') # > 자식관계(공백주의) )"
   ]
  },
  {
   "cell_type": "code",
   "execution_count": 38,
   "id": "9b74e203",
   "metadata": {
    "ExecuteTime": {
     "end_time": "2023-12-07T05:27:18.309161Z",
     "start_time": "2023-12-07T05:27:18.302897Z"
    }
   },
   "outputs": [
    {
     "data": {
      "text/plain": [
       "[<a href=\"https://www.orange.com\"> orange.com </a>,\n",
       " <a href=\"https://www.orange.blog/\">오렌지 효능</a>]"
      ]
     },
     "execution_count": 38,
     "metadata": {},
     "output_type": "execute_result"
    }
   ],
   "source": [
    "soup.select('.fruit.best a')# 공백 자손 관계"
   ]
  },
  {
   "cell_type": "code",
   "execution_count": 39,
   "id": "f3ffc017",
   "metadata": {
    "ExecuteTime": {
     "end_time": "2023-12-07T05:27:25.621443Z",
     "start_time": "2023-12-07T05:27:25.613562Z"
    }
   },
   "outputs": [
    {
     "data": {
      "text/plain": [
       "[<a href=\"https://www.orange.blog/\">오렌지 효능</a>]"
      ]
     },
     "execution_count": 39,
     "metadata": {},
     "output_type": "execute_result"
    }
   ],
   "source": [
    "soup.select('.fruit.best > span > a')"
   ]
  },
  {
   "cell_type": "code",
   "execution_count": 40,
   "id": "d5589faa",
   "metadata": {
    "ExecuteTime": {
     "end_time": "2023-12-07T05:27:29.185157Z",
     "start_time": "2023-12-07T05:27:29.178560Z"
    }
   },
   "outputs": [
    {
     "data": {
      "text/plain": [
       "bs4.element.ResultSet"
      ]
     },
     "execution_count": 40,
     "metadata": {},
     "output_type": "execute_result"
    }
   ],
   "source": [
    "mylist = soup.select('.fruit.best a')\n",
    "type(mylist)"
   ]
  },
  {
   "cell_type": "code",
   "execution_count": 41,
   "id": "7901a2e1",
   "metadata": {
    "ExecuteTime": {
     "end_time": "2023-12-07T05:27:33.238282Z",
     "start_time": "2023-12-07T05:27:33.233063Z"
    }
   },
   "outputs": [
    {
     "data": {
      "text/plain": [
       "bs4.element.Tag"
      ]
     },
     "execution_count": 41,
     "metadata": {},
     "output_type": "execute_result"
    }
   ],
   "source": [
    "type(mylist[0])"
   ]
  },
  {
   "cell_type": "code",
   "execution_count": 42,
   "id": "af069d6a",
   "metadata": {
    "ExecuteTime": {
     "end_time": "2023-12-07T05:27:37.728039Z",
     "start_time": "2023-12-07T05:27:37.723710Z"
    }
   },
   "outputs": [
    {
     "name": "stdout",
     "output_type": "stream",
     "text": [
      " orange.com \n",
      "오렌지 효능\n"
     ]
    }
   ],
   "source": [
    "for tagItem in mylist :\n",
    "    print(tagItem.text)"
   ]
  },
  {
   "cell_type": "code",
   "execution_count": 43,
   "id": "e73fa0eb",
   "metadata": {
    "ExecuteTime": {
     "end_time": "2023-12-07T05:31:25.114880Z",
     "start_time": "2023-12-07T05:31:25.110404Z"
    }
   },
   "outputs": [
    {
     "name": "stdout",
     "output_type": "stream",
     "text": [
      "<a href=\"https://www.orange.blog/\">오렌지 효능</a>\n"
     ]
    }
   ],
   "source": [
    "print(tagItem)"
   ]
  },
  {
   "cell_type": "code",
   "execution_count": 44,
   "id": "c848607c",
   "metadata": {
    "ExecuteTime": {
     "end_time": "2023-12-07T05:31:33.470311Z",
     "start_time": "2023-12-07T05:31:33.465314Z"
    }
   },
   "outputs": [
    {
     "name": "stdout",
     "output_type": "stream",
     "text": [
      "https://www.orange.com\n",
      "https://www.orange.blog/\n"
     ]
    }
   ],
   "source": [
    "for item in mylist :\n",
    "    print(item['href'])"
   ]
  },
  {
   "cell_type": "code",
   "execution_count": 45,
   "id": "27132d96",
   "metadata": {
    "ExecuteTime": {
     "end_time": "2023-12-07T05:31:46.915349Z",
     "start_time": "2023-12-07T05:31:46.910503Z"
    }
   },
   "outputs": [],
   "source": [
    "items = soup.select('.fruit')"
   ]
  },
  {
   "cell_type": "code",
   "execution_count": 46,
   "id": "3a0ba2b3",
   "metadata": {
    "ExecuteTime": {
     "end_time": "2023-12-07T05:31:51.659872Z",
     "start_time": "2023-12-07T05:31:51.654395Z"
    }
   },
   "outputs": [
    {
     "name": "stdout",
     "output_type": "stream",
     "text": [
      "[<p class=\"fruit\" id=\"banana\" title=\"바나나\">\n",
      "<span class=\"price\"> 3000원 </span>\n",
      "<span class=\"count\"> 10개 </span>\n",
      "<span class=\"store\"> 바나나가게 </span>\n",
      "<a href=\"https://www.banana.com\"> banana.com </a>\n",
      "</p>, <p class=\"fruit\" id=\"cherry\" title=\"체리\">\n",
      "<span class=\"price\"> 100원 </span>\n",
      "<span class=\"count\"> 50개 </span>\n",
      "<span class=\"store\"> 체리가게</span>\n",
      "<a href=\"https://www.cherry.com\"> cherry.com </a>\n",
      "</p>, <p class=\"fruit best\" id=\"orange\" title=\"오렌지\">\n",
      "<span class=\"price\"> 500원 </span>\n",
      "<span class=\"count\"> 20개 </span>\n",
      "<span class=\"store\"> 오렌지가게</span>\n",
      "<a href=\"https://www.orange.com\"> orange.com </a>\n",
      "<span>\n",
      "<a href=\"https://www.orange.blog/\">오렌지 효능</a>\n",
      "</span>\n",
      "</p>]\n"
     ]
    }
   ],
   "source": [
    "print(items)"
   ]
  },
  {
   "cell_type": "code",
   "execution_count": 47,
   "id": "a373a951",
   "metadata": {
    "ExecuteTime": {
     "end_time": "2023-12-07T05:32:03.600078Z",
     "start_time": "2023-12-07T05:32:03.593595Z"
    },
    "scrolled": true
   },
   "outputs": [
    {
     "name": "stdout",
     "output_type": "stream",
     "text": [
      "바나나  3000원   10개   바나나가게 \n",
      "체리  100원   50개   체리가게\n",
      "오렌지  500원   20개   오렌지가게\n"
     ]
    }
   ],
   "source": [
    "for item in items:    \n",
    "    name = item['title']\n",
    "    price = item.find('span','price').text\n",
    "    count = item.find('span','count').text\n",
    "    store = item.find('span', 'store').text\n",
    "    print(name, price, count, store) "
   ]
  },
  {
   "cell_type": "code",
   "execution_count": 48,
   "id": "b5ed2f87",
   "metadata": {
    "ExecuteTime": {
     "end_time": "2023-12-07T05:59:45.606683Z",
     "start_time": "2023-12-07T05:59:45.601354Z"
    }
   },
   "outputs": [],
   "source": [
    "e = soup.find('p', id=\"orange\")"
   ]
  },
  {
   "cell_type": "code",
   "execution_count": 49,
   "id": "710852fe",
   "metadata": {
    "ExecuteTime": {
     "end_time": "2023-12-07T05:59:49.161306Z",
     "start_time": "2023-12-07T05:59:49.155354Z"
    }
   },
   "outputs": [
    {
     "data": {
      "text/plain": [
       "'p'"
      ]
     },
     "execution_count": 49,
     "metadata": {},
     "output_type": "execute_result"
    }
   ],
   "source": [
    "e.name"
   ]
  },
  {
   "cell_type": "code",
   "execution_count": 50,
   "id": "2e98db7c",
   "metadata": {
    "ExecuteTime": {
     "end_time": "2023-12-07T05:59:53.116518Z",
     "start_time": "2023-12-07T05:59:53.109100Z"
    }
   },
   "outputs": [
    {
     "data": {
      "text/plain": [
       "{'id': 'orange', 'class': ['fruit', 'best'], 'title': '오렌지'}"
      ]
     },
     "execution_count": 50,
     "metadata": {},
     "output_type": "execute_result"
    }
   ],
   "source": [
    "e.attrs"
   ]
  },
  {
   "cell_type": "code",
   "execution_count": 51,
   "id": "d955046b",
   "metadata": {
    "ExecuteTime": {
     "end_time": "2023-12-07T05:59:58.207878Z",
     "start_time": "2023-12-07T05:59:58.201346Z"
    }
   },
   "outputs": [
    {
     "data": {
      "text/plain": [
       "'오렌지'"
      ]
     },
     "execution_count": 51,
     "metadata": {},
     "output_type": "execute_result"
    }
   ],
   "source": [
    "e['title']"
   ]
  },
  {
   "cell_type": "code",
   "execution_count": 52,
   "id": "328d5856",
   "metadata": {
    "ExecuteTime": {
     "end_time": "2023-12-07T06:00:01.798671Z",
     "start_time": "2023-12-07T06:00:01.794346Z"
    }
   },
   "outputs": [],
   "source": [
    "e.string"
   ]
  },
  {
   "cell_type": "code",
   "execution_count": 53,
   "id": "ce92b170",
   "metadata": {
    "ExecuteTime": {
     "end_time": "2023-12-07T06:00:06.986547Z",
     "start_time": "2023-12-07T06:00:06.981994Z"
    }
   },
   "outputs": [
    {
     "name": "stdout",
     "output_type": "stream",
     "text": [
      "None\n"
     ]
    }
   ],
   "source": [
    "print(e.string)"
   ]
  },
  {
   "cell_type": "code",
   "execution_count": 54,
   "id": "804085b4",
   "metadata": {
    "ExecuteTime": {
     "end_time": "2023-12-07T06:00:11.483699Z",
     "start_time": "2023-12-07T06:00:11.477435Z"
    }
   },
   "outputs": [
    {
     "data": {
      "text/plain": [
       "<generator object Tag._all_strings at 0x00000240F82B2A40>"
      ]
     },
     "execution_count": 54,
     "metadata": {},
     "output_type": "execute_result"
    }
   ],
   "source": [
    "e.strings"
   ]
  },
  {
   "cell_type": "code",
   "execution_count": 55,
   "id": "91e723f5",
   "metadata": {
    "ExecuteTime": {
     "end_time": "2023-12-07T06:00:18.987334Z",
     "start_time": "2023-12-07T06:00:18.982334Z"
    },
    "scrolled": true
   },
   "outputs": [
    {
     "name": "stdout",
     "output_type": "stream",
     "text": [
      "\n",
      "\n",
      " 500원 \n",
      "\n",
      "\n",
      " 20개 \n",
      "\n",
      "\n",
      " 오렌지가게\n",
      "\n",
      "\n",
      " orange.com \n",
      "\n",
      "\n",
      "\n",
      "\n",
      "오렌지 효능\n",
      "\n",
      "\n",
      "\n",
      "\n"
     ]
    }
   ],
   "source": [
    "for item in e.strings:\n",
    "    print(item)"
   ]
  },
  {
   "cell_type": "code",
   "execution_count": 56,
   "id": "c12f678a",
   "metadata": {
    "ExecuteTime": {
     "end_time": "2023-12-07T06:00:30.780271Z",
     "start_time": "2023-12-07T06:00:30.775212Z"
    }
   },
   "outputs": [
    {
     "data": {
      "text/plain": [
       "'\\n 500원 \\n 20개 \\n 오렌지가게\\n orange.com \\n\\n오렌지 효능\\n\\n'"
      ]
     },
     "execution_count": 56,
     "metadata": {},
     "output_type": "execute_result"
    }
   ],
   "source": [
    "e.text"
   ]
  },
  {
   "cell_type": "code",
   "execution_count": 57,
   "id": "09a1f9e4",
   "metadata": {
    "ExecuteTime": {
     "end_time": "2023-12-07T06:01:56.652463Z",
     "start_time": "2023-12-07T06:01:56.644007Z"
    }
   },
   "outputs": [
    {
     "data": {
      "text/plain": [
       "<div>\n",
       "<p class=\"fruit\" id=\"banana\" title=\"바나나\">\n",
       "<span class=\"price\"> 3000원 </span>\n",
       "<span class=\"count\"> 10개 </span>\n",
       "<span class=\"store\"> 바나나가게 </span>\n",
       "<a href=\"https://www.banana.com\"> banana.com </a>\n",
       "</p>\n",
       "<p class=\"fruit\" id=\"cherry\" title=\"체리\">\n",
       "<span class=\"price\"> 100원 </span>\n",
       "<span class=\"count\"> 50개 </span>\n",
       "<span class=\"store\"> 체리가게</span>\n",
       "<a href=\"https://www.cherry.com\"> cherry.com </a>\n",
       "</p>\n",
       "<p class=\"fruit best\" id=\"orange\" title=\"오렌지\">\n",
       "<span class=\"price\"> 500원 </span>\n",
       "<span class=\"count\"> 20개 </span>\n",
       "<span class=\"store\"> 오렌지가게</span>\n",
       "<a href=\"https://www.orange.com\"> orange.com </a>\n",
       "<span>\n",
       "<a href=\"https://www.orange.blog/\">오렌지 효능</a>\n",
       "</span>\n",
       "</p>\n",
       "</div>"
      ]
     },
     "execution_count": 57,
     "metadata": {},
     "output_type": "execute_result"
    }
   ],
   "source": [
    "e.parent"
   ]
  },
  {
   "cell_type": "code",
   "execution_count": 58,
   "id": "a1f95570",
   "metadata": {
    "ExecuteTime": {
     "end_time": "2023-12-07T06:02:01.396439Z",
     "start_time": "2023-12-07T06:02:01.390272Z"
    }
   },
   "outputs": [
    {
     "data": {
      "text/plain": [
       "<generator object PageElement.parents at 0x00000240F829A680>"
      ]
     },
     "execution_count": 58,
     "metadata": {},
     "output_type": "execute_result"
    }
   ],
   "source": [
    "e.parents"
   ]
  },
  {
   "cell_type": "code",
   "execution_count": 59,
   "id": "edcb7c57",
   "metadata": {
    "ExecuteTime": {
     "end_time": "2023-12-07T06:02:07.953409Z",
     "start_time": "2023-12-07T06:02:07.948160Z"
    }
   },
   "outputs": [
    {
     "name": "stdout",
     "output_type": "stream",
     "text": [
      "div\n",
      "body\n",
      "html\n",
      "[document]\n"
     ]
    }
   ],
   "source": [
    "for item in e.parents:\n",
    "    print(item.name)"
   ]
  },
  {
   "cell_type": "code",
   "execution_count": 60,
   "id": "11135b9e",
   "metadata": {
    "ExecuteTime": {
     "end_time": "2023-12-07T06:02:13.513862Z",
     "start_time": "2023-12-07T06:02:13.507139Z"
    }
   },
   "outputs": [
    {
     "data": {
      "text/plain": [
       "['\\n',\n",
       " <span class=\"price\"> 500원 </span>,\n",
       " '\\n',\n",
       " <span class=\"count\"> 20개 </span>,\n",
       " '\\n',\n",
       " <span class=\"store\"> 오렌지가게</span>,\n",
       " '\\n',\n",
       " <a href=\"https://www.orange.com\"> orange.com </a>,\n",
       " '\\n',\n",
       " <span>\n",
       " <a href=\"https://www.orange.blog/\">오렌지 효능</a>\n",
       " </span>,\n",
       " '\\n']"
      ]
     },
     "execution_count": 60,
     "metadata": {},
     "output_type": "execute_result"
    }
   ],
   "source": [
    "# 모든 자식 요소(list)\n",
    "e.contents"
   ]
  },
  {
   "cell_type": "code",
   "execution_count": 61,
   "id": "e3e745b1",
   "metadata": {
    "ExecuteTime": {
     "end_time": "2023-12-07T06:02:17.993230Z",
     "start_time": "2023-12-07T06:02:17.986879Z"
    }
   },
   "outputs": [
    {
     "data": {
      "text/plain": [
       "<list_iterator at 0x240f8307670>"
      ]
     },
     "execution_count": 61,
     "metadata": {},
     "output_type": "execute_result"
    }
   ],
   "source": [
    "# 모든 자식 요소(eter)\n",
    "e.children"
   ]
  },
  {
   "cell_type": "code",
   "execution_count": 62,
   "id": "f237a218",
   "metadata": {
    "ExecuteTime": {
     "end_time": "2023-12-07T06:02:22.429940Z",
     "start_time": "2023-12-07T06:02:22.424447Z"
    }
   },
   "outputs": [
    {
     "name": "stdout",
     "output_type": "stream",
     "text": [
      "None\n",
      "span\n",
      "None\n",
      "span\n",
      "None\n",
      "span\n",
      "None\n",
      "a\n",
      "None\n",
      "span\n",
      "None\n"
     ]
    }
   ],
   "source": [
    "for item in e.children:\n",
    "    print(item.name)"
   ]
  },
  {
   "cell_type": "code",
   "execution_count": null,
   "id": "3ce05b19",
   "metadata": {},
   "outputs": [],
   "source": []
  },
  {
   "cell_type": "code",
   "execution_count": null,
   "id": "69557eb3",
   "metadata": {},
   "outputs": [],
   "source": []
  },
  {
   "cell_type": "code",
   "execution_count": null,
   "id": "b9df2523",
   "metadata": {},
   "outputs": [],
   "source": []
  },
  {
   "cell_type": "code",
   "execution_count": null,
   "id": "4799e6fe",
   "metadata": {},
   "outputs": [],
   "source": []
  },
  {
   "cell_type": "code",
   "execution_count": null,
   "id": "72ea6878",
   "metadata": {},
   "outputs": [],
   "source": []
  },
  {
   "cell_type": "code",
   "execution_count": null,
   "id": "64c612f7",
   "metadata": {},
   "outputs": [],
   "source": []
  },
  {
   "cell_type": "code",
   "execution_count": null,
   "id": "17a6de0e",
   "metadata": {},
   "outputs": [],
   "source": []
  },
  {
   "cell_type": "code",
   "execution_count": null,
   "id": "0130f5c5",
   "metadata": {},
   "outputs": [],
   "source": []
  },
  {
   "cell_type": "code",
   "execution_count": null,
   "id": "270a9543",
   "metadata": {},
   "outputs": [],
   "source": []
  }
 ],
 "metadata": {
  "kernelspec": {
   "display_name": "Python 3 (ipykernel)",
   "language": "python",
   "name": "python3"
  },
  "language_info": {
   "codemirror_mode": {
    "name": "ipython",
    "version": 3
   },
   "file_extension": ".py",
   "mimetype": "text/x-python",
   "name": "python",
   "nbconvert_exporter": "python",
   "pygments_lexer": "ipython3",
   "version": "3.11.5"
  },
  "toc": {
   "base_numbering": 1,
   "nav_menu": {},
   "number_sections": true,
   "sideBar": true,
   "skip_h1_title": false,
   "title_cell": "Table of Contents",
   "title_sidebar": "Contents",
   "toc_cell": false,
   "toc_position": {},
   "toc_section_display": true,
   "toc_window_display": false
  }
 },
 "nbformat": 4,
 "nbformat_minor": 5
}
