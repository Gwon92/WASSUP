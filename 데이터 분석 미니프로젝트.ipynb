{
 "cells": [
  {
   "cell_type": "markdown",
   "id": "0f5d695e",
   "metadata": {},
   "source": [
    "# 프로젝트 개요\n",
    "* 주제 : 온라인 학습 플랫폼 사용자 행동 패턴 분석\n",
    "* 개요 :\n",
    "```\n",
    "이번 프로젝트는 학습 서비스를 이용하는 독자들 중 누가 서비스 구독을 연장할지 예측하기 위한 사전 파악에 초점을 맞추고 있습니다. 우리의 목표는 유저들의 학습 습관, 선호도, 이용 행태 등 다양한 측면을 면밀히 분석하는 것입니다.\n",
    "\n",
    "\n",
    "이를 위해, 우리는 유저들의 학습 패턴, 서비스 이용 시간, 콘텐츠에 대한 반응, 그리고 이들이 얼마나 자주 서비스를 이용하는지 등 다양한 데이터를 수집하고 분석할 계획입니다. 이 데이터는 유저들이 서비스에 얼마나 만족하고 있는지, 어떤 요소들이 그들의 구독 결정에 영향을 미치는지 이해하는 데 중요한 역할을 할 것입니다.\n",
    "```\n",
    "* 데이터셋 : mini.csv\n",
    "    * 메타데이터\n",
    "        * user_id: 사용자의 고유 식별자\n",
    "        * subscription_duration: 사용자가 서비스에 가입한 기간 (월)\n",
    "        * recent_login_time: 사용자가 마지막으로 로그인한 시간 (일)\n",
    "        * average_login_time:  사용자의 일반적인 로그인 시간\n",
    "        * average_time_per_learning_session: 각 학습 세션에 소요된 평균 시간 (분)\n",
    "        * monthly_active_learning_days: 월간 활동적인 학습 일수\n",
    "        * total_completed_courses: 완료한 총 코스 수\n",
    "        * recent_learning_achievement: 최근 학습 성취도\n",
    "        * abandoned_learning_sessions: 중단된 학습 세션 수\n",
    "        * community_engagement_level: 커뮤니티 참여도\n",
    "        * preferred_difficulty_level: 선호하는 난이도\n",
    "        * subscription_type: 구독 유형\n",
    "        * customer_inquiry_history: 고객 문의 이력\n",
    "        * payment_pattern : 사용자의 지난 3개월 간의 결제 패턴을 10진수로 표현한 값.\n",
    "          - 7: 3개월 모두 결제함\n",
    "          - 6: 첫 2개월은 결제했으나 마지막 달에는 결제하지 않음\n",
    "          - 5: 첫 달과 마지막 달에 결제함\n",
    "          - 4: 첫 달에만 결제함\n",
    "          - 3: 마지막 2개월에 결제함\n",
    "          - 2: 가운데 달에만 결제함\n",
    "          - 1: 마지막 달에만 결제함\n",
    "          - 0: 3개월 동안 결제하지 않음\n",
    "        * target: 사용자가 다음 달에도 구독을 계속할지 (1) 또는 취소할지 (0)를 나타냄"
   ]
  },
  {
   "cell_type": "markdown",
   "id": "40202b1b",
   "metadata": {
    "ExecuteTime": {
     "end_time": "2024-01-02T02:46:03.319335Z",
     "start_time": "2024-01-02T02:46:03.309850Z"
    }
   },
   "source": [
    "# 목표 설정\n",
    "- 이번 데이터 분석의 최종적인 목표는 '구독을 연장할 확률이 높은 유저들이 가지는 특징을 찾는다.' 입니다.\n",
    "- 이를 위해 여러가지 가설을 설정하고 데이터 분석을 시도해보려고 합니다."
   ]
  },
  {
   "cell_type": "markdown",
   "id": "d8313742",
   "metadata": {},
   "source": [
    "# 탐색적 데이터 분석 단계\n",
    "\n",
    "- 가설을 설정하기 전에 데이터를 여러 방식으로 살펴보려고 합니다.\n",
    "- 구독 연장과 직접적으로 연관이 있는 데이터는 target인 것으로 보입니다.\n",
    "- target 데이터와 다른 데이터 간의 상관 관계를 분석한다면 구독 연장하는 유저의 특징을 파악하는데 있어서 좋은 아이디어를 얻을 수 있을거라 생각했습니다."
   ]
  },
  {
   "cell_type": "markdown",
   "id": "788a7340",
   "metadata": {},
   "source": [
    "## 상관 관계 분석\n",
    "\n",
    "- target 데이터와 다른 데이터 간의 상관 관계 분석을 통해 구독 연장과 관련있는 변수가 무엇인지 확인해보려 합니다."
   ]
  },
  {
   "cell_type": "code",
   "execution_count": 88,
   "id": "7a4458d6",
   "metadata": {
    "ExecuteTime": {
     "end_time": "2024-01-02T04:37:37.196824Z",
     "start_time": "2024-01-02T04:37:37.189468Z"
    }
   },
   "outputs": [],
   "source": [
    "import seaborn as sns\n",
    "import matplotlib.pyplot as plt\n",
    "import pandas as pd\n",
    "from matplotlib import font_manager, rc \n",
    "font_path = \"C:/Windows/Fonts/malgun.ttf\"\n",
    "font = font_manager.FontProperties(fname = font_path).get_name()\n",
    "rc('font', family = font)\n",
    "plt.rcParams['axes.unicode_minus'] = False"
   ]
  },
  {
   "cell_type": "code",
   "execution_count": 89,
   "id": "20255e60",
   "metadata": {
    "ExecuteTime": {
     "end_time": "2024-01-02T04:37:39.240858Z",
     "start_time": "2024-01-02T04:37:39.203429Z"
    }
   },
   "outputs": [],
   "source": [
    "# 데이터 가져오기\n",
    "df = pd.read_csv('C:\\workspace\\python\\WASSUP\\mini.csv', encoding= 'cp949')"
   ]
  },
  {
   "cell_type": "markdown",
   "id": "b58a2608",
   "metadata": {
    "ExecuteTime": {
     "end_time": "2024-01-02T01:14:21.783385Z",
     "start_time": "2024-01-02T01:14:20.160665Z"
    }
   },
   "source": [
    "### 데이터 정제\n",
    "- 중복 데이터 제거\n",
    "- user_id 열을 index로 지정\n",
    "- 열의 이름을 한글로 변경\n",
    "- 실수화 할 수 있는 범주형 데이터를 찾아 실수화 (추후 분석을 위해)"
   ]
  },
  {
   "cell_type": "code",
   "execution_count": 90,
   "id": "b83acf6a",
   "metadata": {
    "ExecuteTime": {
     "end_time": "2024-01-02T04:37:41.269673Z",
     "start_time": "2024-01-02T04:37:41.254997Z"
    }
   },
   "outputs": [
    {
     "data": {
      "text/plain": [
       "0"
      ]
     },
     "execution_count": 90,
     "metadata": {},
     "output_type": "execute_result"
    }
   ],
   "source": [
    "#중복 데이터 갯수 확인\n",
    "df.duplicated().sum()"
   ]
  },
  {
   "cell_type": "code",
   "execution_count": 91,
   "id": "165793e5",
   "metadata": {
    "ExecuteTime": {
     "end_time": "2024-01-02T04:37:42.515343Z",
     "start_time": "2024-01-02T04:37:42.508997Z"
    },
    "scrolled": true
   },
   "outputs": [],
   "source": [
    "#user_id 열을 index로 지정\n",
    "df = df.set_index('user_id')"
   ]
  },
  {
   "cell_type": "code",
   "execution_count": 139,
   "id": "b6512b28",
   "metadata": {
    "ExecuteTime": {
     "end_time": "2024-01-02T06:35:38.937313Z",
     "start_time": "2024-01-02T06:35:38.931815Z"
    }
   },
   "outputs": [],
   "source": [
    "#열의 이름을 한글로 변경\n",
    "columns = ['서비스 가입 기간(월)', '최근 로그인 시간(일)', '평균 접속 시간(분)', '세션당 평균 학습 시간(분)', '활동적인 학습 일수', '완료 코스 개수', '최근 학습성취도', '중단된 학습 세션 수', '커뮤니티 참여도', '선호 학습 난도', '구독 유형', '고객 문의 이력', '3개월 간 결제패턴', '구독 연장 여부']\n",
    "\n",
    "df.columns = columns"
   ]
  },
  {
   "cell_type": "code",
   "execution_count": 140,
   "id": "e99bcdf3",
   "metadata": {
    "ExecuteTime": {
     "end_time": "2024-01-02T06:35:42.707645Z",
     "start_time": "2024-01-02T06:35:42.700807Z"
    }
   },
   "outputs": [],
   "source": [
    "#범주형 데이터 실수화\n",
    "difficulty_level = {'Low': 0, 'Medium': 1, 'High': 2}\n",
    "df['선호 학습 난도'] = df['선호 학습 난도'].map(difficulty_level)\n",
    "#subcription_type 변수는 실수화하기 어려워서 남겨둠"
   ]
  },
  {
   "cell_type": "markdown",
   "id": "4b651458",
   "metadata": {},
   "source": [
    "### 상관 관계 분석 결과 확인"
   ]
  },
  {
   "cell_type": "code",
   "execution_count": 141,
   "id": "eabc2964",
   "metadata": {
    "ExecuteTime": {
     "end_time": "2024-01-02T06:35:43.813242Z",
     "start_time": "2024-01-02T06:35:43.801821Z"
    }
   },
   "outputs": [],
   "source": [
    "#범주형 데이터를 제외한 열만 남기기.\n",
    "data = df.drop('구독 유형', axis=1)\n",
    "#상관 관계 계산 함수 실행\n",
    "correlation_matrix = data.corr()"
   ]
  },
  {
   "cell_type": "code",
   "execution_count": 142,
   "id": "0fa8f210",
   "metadata": {
    "ExecuteTime": {
     "end_time": "2024-01-02T06:35:45.492300Z",
     "start_time": "2024-01-02T06:35:45.485807Z"
    }
   },
   "outputs": [],
   "source": [
    "#target 행은 필요 없어서 제외 시키기\n",
    "correlation_matrix = correlation_matrix.drop('구독 연장 여부',axis=0)\n",
    "#시각화를 위해 target 열에 있는 데이터만 가져오고 상관 계수 값의 크기에 따라서 정렬하기\n",
    "target_correlations = correlation_matrix['구독 연장 여부'].sort_values(ascending=False)"
   ]
  },
  {
   "cell_type": "code",
   "execution_count": 143,
   "id": "8478d15d",
   "metadata": {
    "ExecuteTime": {
     "end_time": "2024-01-02T06:35:47.618909Z",
     "start_time": "2024-01-02T06:35:47.330802Z"
    },
    "scrolled": true
   },
   "outputs": [
    {
     "data": {
      "image/png": "[encoded data removed]",
      "text/plain": [
       "<Figure size 1000x600 with 1 Axes>"
      ]
     },
     "metadata": {},
     "output_type": "display_data"
    }
   ],
   "source": [
    "#시각화 하기\n",
    "plt.figure(figsize=(10, 6))\n",
    "sns.barplot(x=target_correlations.values, y=target_correlations.index)\n",
    "#plt.xticks(rotation=90)\n",
    "plt.title('구독 연장 여부와의 상관 관계 분석')\n",
    "plt.ylabel('변수')\n",
    "plt.xlabel('상관 계수')\n",
    "plt.show()"
   ]
  },
  {
   "cell_type": "markdown",
   "id": "8819bf5f",
   "metadata": {},
   "source": [
    "- 상관 관계 분석 결과, 세션당 평균 학습 시간 변수와 구독 연장 여부 변수 사이에 아주 약한 양의 상관 관계(상관 계수 0.118)가 있는 것으로 확인됩니다.\n",
    "- 그러나 상관 계수가 매우 낮기 때문에, 이 관계는 뚜렷하지 않습니다.\n",
    "- 가설을 세우지 않은 탐색적 데이터 분석 결과, 세션당 평균 학습 시간 변수와 구독 연장 여부 사이에 약한 상관 관계가 있음을 알 수 있었습니다.\n",
    "- 아직 구독 연장 여부와의 관계를 검증하지 않은 열이 존재합니다. 추가적으로 구독 유형과 구독 연장 여부 사이의 관계가 있는지 확인해보도록 하겠습니다."
   ]
  },
  {
   "cell_type": "markdown",
   "id": "0db33866",
   "metadata": {},
   "source": [
    "## 구독 연장과 구독 유형 사이에는 특별한 관계가 있을까?\n",
    "\n",
    "> 가설 : 프리미엄 구독자는 베이직 구독자보다 구독 연장을 희망하는 인원의 비율이 더 높을 것이다.\n"
   ]
  },
  {
   "cell_type": "markdown",
   "id": "b91b7dc7",
   "metadata": {},
   "source": [
    "### 비율 비교하기"
   ]
  },
  {
   "cell_type": "code",
   "execution_count": 144,
   "id": "df3e4097",
   "metadata": {
    "ExecuteTime": {
     "end_time": "2024-01-02T06:35:53.969271Z",
     "start_time": "2024-01-02T06:35:53.778423Z"
    }
   },
   "outputs": [
    {
     "data": {
      "image/png": "[encoded data removed]",
      "text/plain": [
       "<Figure size 800x700 with 2 Axes>"
      ]
     },
     "metadata": {},
     "output_type": "display_data"
    }
   ],
   "source": [
    "premium_retention = df[df['구독 유형'] == 'Premium']['구독 연장 여부'].value_counts()\n",
    "basic_retention = df[df['구독 유형'] == 'Basic']['구독 연장 여부'].value_counts()\n",
    "\n",
    "# 파이 차트 데이터 준비\n",
    "premium_user = [premium_retention[1], premium_retention[0]]  # 유지된 사용자, 유지되지 않은 사용자\n",
    "basic_user = [basic_retention[1], basic_retention[0]]  # 유지된 사용자, 유지되지 않은 사용자\n",
    "\n",
    "# 파이 차트 생성\n",
    "fig, ax = plt.subplots(1, 2, figsize=(8, 7))\n",
    "\n",
    "# 프리미엄 구독자 파이 차트\n",
    "ax[0].pie(premium_data, labels=['유지', '비유지'], autopct='%1.1f%%', startangle=45, colors=['#A4193D','#FFDFB9'])\n",
    "ax[0].set_title('프리미엄 구독자 유지 비율')\n",
    "\n",
    "# 베이직 구독자 파이 차트\n",
    "ax[1].pie(basic_data, labels=['유지', '비유지'], autopct='%1.1f%%', startangle=45, colors=[\"#2C5F2D\",\"#97BC62\"])\n",
    "ax[1].set_title('베이직 구독자 유지 비율')\n",
    "\n",
    "plt.show()"
   ]
  },
  {
   "cell_type": "markdown",
   "id": "9c8f96c4",
   "metadata": {},
   "source": [
    "- 프리미엄 구독자의 구독 유지 비율이 베이직 구독자의 구독 유지 비율에 비해 1%p 가량 높은 것을 확인할 수 있습니다.\n",
    "- 이것이 과연 유의미한 차이인지 확인하기 위해서 카이제곱 검정을 수행해보겠습니다."
   ]
  },
  {
   "cell_type": "code",
   "execution_count": 145,
   "id": "3738b5e8",
   "metadata": {
    "ExecuteTime": {
     "end_time": "2024-01-02T06:35:59.211505Z",
     "start_time": "2024-01-02T06:35:59.195711Z"
    }
   },
   "outputs": [
    {
     "data": {
      "text/html": [
       "<div>\n",
       "<style scoped>\n",
       "    .dataframe tbody tr th:only-of-type {\n",
       "        vertical-align: middle;\n",
       "    }\n",
       "\n",
       "    .dataframe tbody tr th {\n",
       "        vertical-align: top;\n",
       "    }\n",
       "\n",
       "    .dataframe thead th {\n",
       "        text-align: right;\n",
       "    }\n",
       "</style>\n",
       "<table border=\"1\" class=\"dataframe\">\n",
       "  <thead>\n",
       "    <tr style=\"text-align: right;\">\n",
       "      <th>구독 연장 여부</th>\n",
       "      <th>0</th>\n",
       "      <th>1</th>\n",
       "    </tr>\n",
       "    <tr>\n",
       "      <th>구독 유형</th>\n",
       "      <th></th>\n",
       "      <th></th>\n",
       "    </tr>\n",
       "  </thead>\n",
       "  <tbody>\n",
       "    <tr>\n",
       "      <th>Basic</th>\n",
       "      <td>2296</td>\n",
       "      <td>3683</td>\n",
       "    </tr>\n",
       "    <tr>\n",
       "      <th>Premium</th>\n",
       "      <td>1505</td>\n",
       "      <td>2516</td>\n",
       "    </tr>\n",
       "  </tbody>\n",
       "</table>\n",
       "</div>"
      ],
      "text/plain": [
       "구독 연장 여부     0     1\n",
       "구독 유형               \n",
       "Basic     2296  3683\n",
       "Premium   1505  2516"
      ]
     },
     "execution_count": 145,
     "metadata": {},
     "output_type": "execute_result"
    }
   ],
   "source": [
    "from scipy.stats import chi2_contingency\n",
    "contingency_table = pd.crosstab(df['구독 유형'], df['구독 연장 여부'])\n",
    "contingency_table"
   ]
  },
  {
   "cell_type": "code",
   "execution_count": 115,
   "id": "bcb46f09",
   "metadata": {
    "ExecuteTime": {
     "end_time": "2024-01-02T05:34:57.853227Z",
     "start_time": "2024-01-02T05:34:57.847468Z"
    }
   },
   "outputs": [
    {
     "data": {
      "text/plain": [
       "0.3363503107808859"
      ]
     },
     "execution_count": 115,
     "metadata": {},
     "output_type": "execute_result"
    }
   ],
   "source": [
    "result = chi2_contingency(contingency_table)\n",
    "result.pvalue"
   ]
  },
  {
   "cell_type": "markdown",
   "id": "189772de",
   "metadata": {},
   "source": [
    "- p-값이 약 0.336으로, 일반적으로 사용되는 유의 수준 0.05보다 큽니다. 이는 두 그룹 간의 차이가 통계적으로 유의미하지 않다는 것을 의미합니다.\n",
    "- 그러므로 프리미엄 구독자 중 구독 연장을 희망하는 비율이 베이직 구독자보다 유의미하게 높다고 주장하기 어렵습니다. 두 그룹 간의 차이는 통계적으로 유의미하지 않으며, 비율 차이도 크지 않습니다."
   ]
  },
  {
   "cell_type": "markdown",
   "id": "41e79ce0",
   "metadata": {},
   "source": [
    "- 변수 간의 상관 관계 분석을 통해 의미있는 인사이트를 도출하기는 어려운 것으로 보입니다.\n",
    "- 그러면 방향을 바꾸어 추가 분석을 진행해보겠습니다."
   ]
  }
 ],
 "metadata": {
  "kernelspec": {
   "display_name": "Python 3 (ipykernel)",
   "language": "python",
   "name": "python3"
  },
  "language_info": {
   "codemirror_mode": {
    "name": "ipython",
    "version": 3
   },
   "file_extension": ".py",
   "mimetype": "text/x-python",
   "name": "python",
   "nbconvert_exporter": "python",
   "pygments_lexer": "ipython3",
   "version": "3.11.5"
  },
  "toc": {
   "base_numbering": 1,
   "nav_menu": {},
   "number_sections": true,
   "sideBar": true,
   "skip_h1_title": false,
   "title_cell": "Table of Contents",
   "title_sidebar": "Contents",
   "toc_cell": false,
   "toc_position": {},
   "toc_section_display": true,
   "toc_window_display": false
  }
 },
 "nbformat": 4,
 "nbformat_minor": 5
}
