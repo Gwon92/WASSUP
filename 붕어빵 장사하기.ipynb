{
 "cells": [
  {
   "cell_type": "code",
   "execution_count": 28,
   "id": "559f4f57",
   "metadata": {
    "ExecuteTime": {
     "end_time": "2023-12-05T10:47:04.549863Z",
     "start_time": "2023-12-05T10:47:04.543380Z"
    }
   },
   "outputs": [
    {
     "name": "stdout",
     "output_type": "stream",
     "text": [
      "붕어빵 재료는 팥\n",
      "굽기는 미디움으로 해주세요\n"
     ]
    }
   ],
   "source": [
    "#붕어빵틀 클래스 정의하기\n",
    "\n",
    "class 붕어빵:\n",
    "    def __init__(self,ingredient):\n",
    "        self.ingredient = ingredient\n",
    "        print(\"붕어빵 재료는\",self.ingredient)\n",
    "    \n",
    "    def 굽기(self, done):\n",
    "        print(f\"굽기는 {done}으로 해주세요\")\n",
    "\n",
    "        \n",
    "팥붕 = 붕어빵(\"팥\")\n",
    "팥붕.굽기(\"미디움\")"
   ]
  },
  {
   "cell_type": "code",
   "execution_count": 27,
   "id": "8aaf78b0",
   "metadata": {
    "ExecuteTime": {
     "end_time": "2023-12-05T10:46:35.370209Z",
     "start_time": "2023-12-05T10:46:35.362691Z"
    },
    "scrolled": true
   },
   "outputs": [
    {
     "name": "stdout",
     "output_type": "stream",
     "text": [
      "붕어빵 재료는 슈크림\n",
      "굽기는 레어으로 해주십쇼\n",
      "붕어빵에 들어간 황금의 양은 3g 입니다\n"
     ]
    }
   ],
   "source": [
    "# 객체 생성하기\n",
    "class 황금붕어빵(붕어빵):\n",
    "    def 굽기(self, done):\n",
    "        print(f\"굽기는 {done}으로 해주십쇼\")\n",
    "        \n",
    "    def 황금넣기 (self,amount):\n",
    "        print(f\"붕어빵에 들어간 황금의 양은 {amount}g 입니다\")\n",
    "\n",
    "황금슈크림붕어빵 = 황금붕어빵(\"슈크림\")\n",
    "\n",
    "황금슈크림붕어빵.굽기(\"레어\")\n",
    "황금슈크림붕어빵.황금넣기(3)"
   ]
  },
  {
   "cell_type": "code",
   "execution_count": 29,
   "id": "779df457",
   "metadata": {
    "ExecuteTime": {
     "end_time": "2023-12-05T10:47:53.828695Z",
     "start_time": "2023-12-05T10:47:53.822237Z"
    }
   },
   "outputs": [
    {
     "name": "stdout",
     "output_type": "stream",
     "text": [
      "붕어빵 재료는 팥\n",
      "굽기는 웰던으로 해주십쇼\n"
     ]
    }
   ],
   "source": [
    "class 황금실버붕어빵(황금붕어빵):\n",
    "    def 실버넣기 (self, amount):\n",
    "        print(f\"붕어빵에 들어간 황금의 양은 {amount}g 입니다\")\n",
    "        \n",
    "황금실버팥붕어빵 = 황금실버붕어빵(\"팥\")\n",
    "황금실버팥붕어빵.굽기(\"웰던\")"
   ]
  },
  {
   "cell_type": "code",
   "execution_count": 49,
   "id": "df8ffce3",
   "metadata": {
    "ExecuteTime": {
     "end_time": "2023-12-05T11:01:05.801709Z",
     "start_time": "2023-12-05T11:01:05.795562Z"
    }
   },
   "outputs": [
    {
     "name": "stdout",
     "output_type": "stream",
     "text": [
      "피\n"
     ]
    }
   ],
   "source": [
    "class Family:\n",
    "    lastname = \"김\"\n",
    "\n",
    "father = Family()\n",
    "mother = Family()\n",
    "\n",
    "father.lastname = '피'\n",
    "Family.lastname = '박'\n",
    "\n",
    "print(father.lastname)"
   ]
  }
 ],
 "metadata": {
  "kernelspec": {
   "display_name": "Python 3 (ipykernel)",
   "language": "python",
   "name": "python3"
  },
  "language_info": {
   "codemirror_mode": {
    "name": "ipython",
    "version": 3
   },
   "file_extension": ".py",
   "mimetype": "text/x-python",
   "name": "python",
   "nbconvert_exporter": "python",
   "pygments_lexer": "ipython3",
   "version": "3.11.5"
  },
  "toc": {
   "base_numbering": 1,
   "nav_menu": {},
   "number_sections": true,
   "sideBar": true,
   "skip_h1_title": false,
   "title_cell": "Table of Contents",
   "title_sidebar": "Contents",
   "toc_cell": false,
   "toc_position": {},
   "toc_section_display": true,
   "toc_window_display": false
  }
 },
 "nbformat": 4,
 "nbformat_minor": 5
}
