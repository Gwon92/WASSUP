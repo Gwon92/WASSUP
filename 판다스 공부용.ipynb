{
 "cells": [
  {
   "cell_type": "code",
   "execution_count": 1,
   "id": "2e30ae9b",
   "metadata": {
    "ExecuteTime": {
     "end_time": "2023-12-20T06:03:46.484508Z",
     "start_time": "2023-12-20T06:03:45.346786Z"
    }
   },
   "outputs": [],
   "source": [
    "import pandas as pd\n",
    "import numpy as np"
   ]
  },
  {
   "cell_type": "code",
   "execution_count": 3,
   "id": "59457c82",
   "metadata": {
    "ExecuteTime": {
     "end_time": "2023-12-18T10:58:34.974929Z",
     "start_time": "2023-12-18T10:58:34.956731Z"
    }
   },
   "outputs": [
    {
     "data": {
      "text/plain": [
       "서울    9904312\n",
       "부산    3448737\n",
       "인천    2890451\n",
       "대구    2466052\n",
       "dtype: int64"
      ]
     },
     "execution_count": 3,
     "metadata": {},
     "output_type": "execute_result"
    }
   ],
   "source": [
    "s = pd.Series([9904312, 3448737, 2890451, 2466052],\n",
    "              index=[\"서울\", \"부산\", \"인천\", \"대구\"])\n",
    "s\n"
   ]
  },
  {
   "cell_type": "code",
   "execution_count": 7,
   "id": "2140c449",
   "metadata": {
    "ExecuteTime": {
     "end_time": "2023-12-18T10:59:27.380794Z",
     "start_time": "2023-12-18T10:59:27.375643Z"
    }
   },
   "outputs": [],
   "source": [
    "s.index.name = '네임'"
   ]
  },
  {
   "cell_type": "code",
   "execution_count": 5,
   "id": "b9837b5f",
   "metadata": {
    "ExecuteTime": {
     "end_time": "2023-12-18T10:59:07.595449Z",
     "start_time": "2023-12-18T10:59:07.589841Z"
    }
   },
   "outputs": [
    {
     "data": {
      "text/plain": [
       "array([9904312, 3448737, 2890451, 2466052], dtype=int64)"
      ]
     },
     "execution_count": 5,
     "metadata": {},
     "output_type": "execute_result"
    }
   ],
   "source": [
    "s.values"
   ]
  },
  {
   "cell_type": "code",
   "execution_count": 9,
   "id": "926c30da",
   "metadata": {
    "ExecuteTime": {
     "end_time": "2023-12-18T10:59:38.266271Z",
     "start_time": "2023-12-18T10:59:38.260329Z"
    }
   },
   "outputs": [
    {
     "data": {
      "text/plain": [
       "네임\n",
       "서울    9904312\n",
       "부산    3448737\n",
       "인천    2890451\n",
       "대구    2466052\n",
       "dtype: int64"
      ]
     },
     "execution_count": 9,
     "metadata": {},
     "output_type": "execute_result"
    }
   ],
   "source": [
    "s"
   ]
  },
  {
   "cell_type": "code",
   "execution_count": 10,
   "id": "c698753b",
   "metadata": {
    "ExecuteTime": {
     "end_time": "2023-12-18T11:00:05.611534Z",
     "start_time": "2023-12-18T11:00:05.607204Z"
    }
   },
   "outputs": [],
   "source": [
    "s = s/1000"
   ]
  },
  {
   "cell_type": "code",
   "execution_count": 15,
   "id": "d1fe58a2",
   "metadata": {
    "ExecuteTime": {
     "end_time": "2023-12-18T11:00:40.151632Z",
     "start_time": "2023-12-18T11:00:40.145283Z"
    }
   },
   "outputs": [
    {
     "data": {
      "text/plain": [
       "9904.312"
      ]
     },
     "execution_count": 15,
     "metadata": {},
     "output_type": "execute_result"
    }
   ],
   "source": [
    "s['서울']"
   ]
  },
  {
   "cell_type": "code",
   "execution_count": 16,
   "id": "3a9204d6",
   "metadata": {
    "ExecuteTime": {
     "end_time": "2023-12-18T11:03:42.892145Z",
     "start_time": "2023-12-18T11:03:42.884845Z"
    }
   },
   "outputs": [
    {
     "data": {
      "text/plain": [
       "서울    9631482\n",
       "부산    3393191\n",
       "인천    2632035\n",
       "대전    1490158\n",
       "dtype: int64"
      ]
     },
     "execution_count": 16,
     "metadata": {},
     "output_type": "execute_result"
    }
   ],
   "source": [
    "s2 = pd.Series({\"서울\": 9631482, \"부산\": 3393191, \"인천\": 2632035, \"대전\": 1490158})\n",
    "s2"
   ]
  },
  {
   "cell_type": "code",
   "execution_count": 21,
   "id": "03b6f4c4",
   "metadata": {
    "ExecuteTime": {
     "end_time": "2023-12-18T11:05:17.297043Z",
     "start_time": "2023-12-18T11:05:17.287993Z"
    }
   },
   "outputs": [
    {
     "data": {
      "text/plain": [
       "서울    9631482\n",
       "인천    2632035\n",
       "부산    3393191\n",
       "대전    1490158\n",
       "dtype: int64"
      ]
     },
     "execution_count": 21,
     "metadata": {},
     "output_type": "execute_result"
    }
   ],
   "source": [
    "s1 = pd.Series({\"서울\": 9631482, \"부산\": 3393191, \"인천\": 2632035, \"대전\": 1490158}, index =[\"서울\",\"인천\",\"부산\",\"대전\"])\n",
    "s1"
   ]
  },
  {
   "cell_type": "code",
   "execution_count": 22,
   "id": "f2ccf9c8",
   "metadata": {
    "ExecuteTime": {
     "end_time": "2023-12-18T11:05:18.592783Z",
     "start_time": "2023-12-18T11:05:18.582163Z"
    }
   },
   "outputs": [
    {
     "data": {
      "text/plain": [
       "서울    9631482\n",
       "인천    2632035\n",
       "부산    3393191\n",
       "dtype: int64"
      ]
     },
     "execution_count": 22,
     "metadata": {},
     "output_type": "execute_result"
    }
   ],
   "source": [
    "s2 = pd.Series({\"서울\": 9631482, \"부산\": 3393191, \"인천\": 2632035}, index =[\"서울\",\"인천\",\"부산\"])\n",
    "s2"
   ]
  },
  {
   "cell_type": "code",
   "execution_count": 23,
   "id": "2c9c23c6",
   "metadata": {
    "ExecuteTime": {
     "end_time": "2023-12-18T11:05:20.371452Z",
     "start_time": "2023-12-18T11:05:20.365225Z"
    }
   },
   "outputs": [],
   "source": [
    "s = s2 - s1"
   ]
  },
  {
   "cell_type": "code",
   "execution_count": 25,
   "id": "dc1e44a0",
   "metadata": {
    "ExecuteTime": {
     "end_time": "2023-12-18T11:06:39.947030Z",
     "start_time": "2023-12-18T11:06:39.938226Z"
    }
   },
   "outputs": [
    {
     "data": {
      "text/plain": [
       "대전    False\n",
       "부산     True\n",
       "서울     True\n",
       "인천     True\n",
       "dtype: bool"
      ]
     },
     "execution_count": 25,
     "metadata": {},
     "output_type": "execute_result"
    }
   ],
   "source": [
    "s.notnull()"
   ]
  },
  {
   "cell_type": "code",
   "execution_count": 28,
   "id": "b320ffc5",
   "metadata": {
    "ExecuteTime": {
     "end_time": "2023-12-18T11:07:06.619812Z",
     "start_time": "2023-12-18T11:07:06.613151Z"
    }
   },
   "outputs": [
    {
     "data": {
      "text/plain": [
       "부산    0.0\n",
       "서울    0.0\n",
       "인천    0.0\n",
       "dtype: float64"
      ]
     },
     "execution_count": 28,
     "metadata": {},
     "output_type": "execute_result"
    }
   ],
   "source": [
    "s[s.notnull()]"
   ]
  },
  {
   "cell_type": "code",
   "execution_count": 29,
   "id": "038aea50",
   "metadata": {
    "ExecuteTime": {
     "end_time": "2023-12-18T11:07:54.036744Z",
     "start_time": "2023-12-18T11:07:54.030221Z"
    }
   },
   "outputs": [],
   "source": [
    "s[\"경기\"] = 1213243"
   ]
  },
  {
   "cell_type": "code",
   "execution_count": 31,
   "id": "2623a561",
   "metadata": {
    "ExecuteTime": {
     "end_time": "2023-12-18T11:07:58.412482Z",
     "start_time": "2023-12-18T11:07:58.405149Z"
    }
   },
   "outputs": [
    {
     "data": {
      "text/plain": [
       "대전          NaN\n",
       "부산          0.0\n",
       "서울          0.0\n",
       "인천          0.0\n",
       "경기    1213243.0\n",
       "dtype: float64"
      ]
     },
     "execution_count": 31,
     "metadata": {},
     "output_type": "execute_result"
    }
   ],
   "source": [
    "s"
   ]
  },
  {
   "cell_type": "code",
   "execution_count": 63,
   "id": "8c8e4094",
   "metadata": {
    "ExecuteTime": {
     "end_time": "2023-12-19T11:10:38.582093Z",
     "start_time": "2023-12-19T11:10:38.562651Z"
    },
    "scrolled": true
   },
   "outputs": [
    {
     "data": {
      "text/html": [
       "<div>\n",
       "<style scoped>\n",
       "    .dataframe tbody tr th:only-of-type {\n",
       "        vertical-align: middle;\n",
       "    }\n",
       "\n",
       "    .dataframe tbody tr th {\n",
       "        vertical-align: top;\n",
       "    }\n",
       "\n",
       "    .dataframe thead th {\n",
       "        text-align: right;\n",
       "    }\n",
       "</style>\n",
       "<table border=\"1\" class=\"dataframe\">\n",
       "  <thead>\n",
       "    <tr style=\"text-align: right;\">\n",
       "      <th></th>\n",
       "      <th>지역</th>\n",
       "      <th>2015</th>\n",
       "      <th>2010</th>\n",
       "      <th>2005</th>\n",
       "      <th>2000</th>\n",
       "      <th>2010-2015 증가율</th>\n",
       "    </tr>\n",
       "  </thead>\n",
       "  <tbody>\n",
       "    <tr>\n",
       "      <th>서울</th>\n",
       "      <td>수도권</td>\n",
       "      <td>9904312</td>\n",
       "      <td>9631482</td>\n",
       "      <td>9762546</td>\n",
       "      <td>9853972</td>\n",
       "      <td>0.0283</td>\n",
       "    </tr>\n",
       "    <tr>\n",
       "      <th>부산</th>\n",
       "      <td>경상권</td>\n",
       "      <td>3448737</td>\n",
       "      <td>3393191</td>\n",
       "      <td>3512547</td>\n",
       "      <td>3655437</td>\n",
       "      <td>0.0163</td>\n",
       "    </tr>\n",
       "    <tr>\n",
       "      <th>인천</th>\n",
       "      <td>수도권</td>\n",
       "      <td>2890451</td>\n",
       "      <td>2632035</td>\n",
       "      <td>2517680</td>\n",
       "      <td>2466338</td>\n",
       "      <td>0.0982</td>\n",
       "    </tr>\n",
       "    <tr>\n",
       "      <th>대구</th>\n",
       "      <td>경상권</td>\n",
       "      <td>2466052</td>\n",
       "      <td>2431774</td>\n",
       "      <td>2456016</td>\n",
       "      <td>2473990</td>\n",
       "      <td>0.0141</td>\n",
       "    </tr>\n",
       "  </tbody>\n",
       "</table>\n",
       "</div>"
      ],
      "text/plain": [
       "     지역     2015     2010     2005     2000  2010-2015 증가율\n",
       "서울  수도권  9904312  9631482  9762546  9853972         0.0283\n",
       "부산  경상권  3448737  3393191  3512547  3655437         0.0163\n",
       "인천  수도권  2890451  2632035  2517680  2466338         0.0982\n",
       "대구  경상권  2466052  2431774  2456016  2473990         0.0141"
      ]
     },
     "execution_count": 63,
     "metadata": {},
     "output_type": "execute_result"
    }
   ],
   "source": [
    "data = {\n",
    "    \"2015\": [9904312, 3448737, 2890451, 2466052],\n",
    "    \"2010\": [9631482, 3393191, 2632035, 2431774],\n",
    "    \"2005\": [9762546, 3512547, 2517680, 2456016],\n",
    "    \"2000\": [9853972, 3655437, 2466338, 2473990],\n",
    "    \"지역\": [\"수도권\", \"경상권\", \"수도권\", \"경상권\"],\n",
    "    \"2010-2015 증가율\": [0.0283, 0.0163, 0.0982, 0.0141]\n",
    "}\n",
    "columns = [\"지역\", \"2015\", \"2010\", \"2005\", \"2000\", \"2010-2015 증가율\"] # 순서 지정\n",
    "index = [\"서울\", \"부산\", \"인천\", \"대구\"] # 순서 지정\n",
    "df = pd.DataFrame(data, index=index, columns=columns)\n",
    "df"
   ]
  },
  {
   "cell_type": "code",
   "execution_count": 25,
   "id": "18e039e9",
   "metadata": {
    "ExecuteTime": {
     "end_time": "2023-12-19T10:51:58.636533Z",
     "start_time": "2023-12-19T10:51:58.628941Z"
    }
   },
   "outputs": [],
   "source": [
    "df.loc['경기'] = ['수도권',12123,141341,14354,12414,0.23]"
   ]
  },
  {
   "cell_type": "code",
   "execution_count": 35,
   "id": "4fe3dd08",
   "metadata": {
    "ExecuteTime": {
     "end_time": "2023-12-19T10:56:33.693173Z",
     "start_time": "2023-12-19T10:56:33.685933Z"
    }
   },
   "outputs": [],
   "source": [
    "df.loc[df.shape[0]] = ['수도권',12121,12341231,1241241,1414,0.3]"
   ]
  },
  {
   "cell_type": "code",
   "execution_count": 65,
   "id": "ba05347a",
   "metadata": {
    "ExecuteTime": {
     "end_time": "2023-12-19T11:11:25.387909Z",
     "start_time": "2023-12-19T11:11:25.382374Z"
    }
   },
   "outputs": [
    {
     "data": {
      "text/plain": [
       "4"
      ]
     },
     "execution_count": 65,
     "metadata": {},
     "output_type": "execute_result"
    }
   ],
   "source": [
    "df.loc[:,\"지역\"].count()"
   ]
  },
  {
   "cell_type": "code",
   "execution_count": 45,
   "id": "4c763750",
   "metadata": {
    "ExecuteTime": {
     "end_time": "2023-12-18T11:13:44.229918Z",
     "start_time": "2023-12-18T11:13:44.219019Z"
    }
   },
   "outputs": [
    {
     "data": {
      "text/html": [
       "<div>\n",
       "<style scoped>\n",
       "    .dataframe tbody tr th:only-of-type {\n",
       "        vertical-align: middle;\n",
       "    }\n",
       "\n",
       "    .dataframe tbody tr th {\n",
       "        vertical-align: top;\n",
       "    }\n",
       "\n",
       "    .dataframe thead th {\n",
       "        text-align: right;\n",
       "    }\n",
       "</style>\n",
       "<table border=\"1\" class=\"dataframe\">\n",
       "  <thead>\n",
       "    <tr style=\"text-align: right;\">\n",
       "      <th></th>\n",
       "      <th>지역</th>\n",
       "      <th>2015</th>\n",
       "      <th>2010</th>\n",
       "      <th>2005</th>\n",
       "      <th>2000</th>\n",
       "      <th>2010-2015 증가율</th>\n",
       "    </tr>\n",
       "  </thead>\n",
       "  <tbody>\n",
       "    <tr>\n",
       "      <th>서울</th>\n",
       "      <td>수도권</td>\n",
       "      <td>9904312</td>\n",
       "      <td>9631482</td>\n",
       "      <td>9762546</td>\n",
       "      <td>9853972</td>\n",
       "      <td>2.83</td>\n",
       "    </tr>\n",
       "    <tr>\n",
       "      <th>부산</th>\n",
       "      <td>경상권</td>\n",
       "      <td>3448737</td>\n",
       "      <td>3393191</td>\n",
       "      <td>3512547</td>\n",
       "      <td>3655437</td>\n",
       "      <td>1.63</td>\n",
       "    </tr>\n",
       "    <tr>\n",
       "      <th>인천</th>\n",
       "      <td>수도권</td>\n",
       "      <td>2890451</td>\n",
       "      <td>2632035</td>\n",
       "      <td>2517680</td>\n",
       "      <td>2466338</td>\n",
       "      <td>9.82</td>\n",
       "    </tr>\n",
       "    <tr>\n",
       "      <th>대구</th>\n",
       "      <td>경상권</td>\n",
       "      <td>2466052</td>\n",
       "      <td>2431774</td>\n",
       "      <td>2456016</td>\n",
       "      <td>2473990</td>\n",
       "      <td>1.41</td>\n",
       "    </tr>\n",
       "  </tbody>\n",
       "</table>\n",
       "</div>"
      ],
      "text/plain": [
       "     지역     2015     2010     2005     2000  2010-2015 증가율\n",
       "서울  수도권  9904312  9631482  9762546  9853972           2.83\n",
       "부산  경상권  3448737  3393191  3512547  3655437           1.63\n",
       "인천  수도권  2890451  2632035  2517680  2466338           9.82\n",
       "대구  경상권  2466052  2431774  2456016  2473990           1.41"
      ]
     },
     "execution_count": 45,
     "metadata": {},
     "output_type": "execute_result"
    }
   ],
   "source": [
    "df[\"2010-2015 증가율\"] = df[\"2010-2015 증가율\"] * 100\n",
    "df"
   ]
  },
  {
   "cell_type": "code",
   "execution_count": 48,
   "id": "6086ee43",
   "metadata": {
    "ExecuteTime": {
     "end_time": "2023-12-18T11:15:48.624579Z",
     "start_time": "2023-12-18T11:15:48.618313Z"
    }
   },
   "outputs": [],
   "source": [
    "df[\"증가폭\"] = np.where(df[\"2010-2015 증가율\"]>=2,\"큼\",\"작음\")"
   ]
  },
  {
   "cell_type": "code",
   "execution_count": 23,
   "id": "a879809f",
   "metadata": {
    "ExecuteTime": {
     "end_time": "2023-12-19T10:51:05.183976Z",
     "start_time": "2023-12-19T10:51:05.161085Z"
    }
   },
   "outputs": [
    {
     "data": {
      "text/html": [
       "<div>\n",
       "<style scoped>\n",
       "    .dataframe tbody tr th:only-of-type {\n",
       "        vertical-align: middle;\n",
       "    }\n",
       "\n",
       "    .dataframe tbody tr th {\n",
       "        vertical-align: top;\n",
       "    }\n",
       "\n",
       "    .dataframe thead th {\n",
       "        text-align: right;\n",
       "    }\n",
       "</style>\n",
       "<table border=\"1\" class=\"dataframe\">\n",
       "  <thead>\n",
       "    <tr style=\"text-align: right;\">\n",
       "      <th></th>\n",
       "      <th>\\t\\t지점번호</th>\n",
       "      <th>지점명</th>\n",
       "      <th>일시</th>\n",
       "      <th>평균기온(℃)</th>\n",
       "      <th>평균최고기온(℃)</th>\n",
       "      <th>최고기온(℃)</th>\n",
       "      <th>\\t최고기온일자</th>\n",
       "      <th>평균최저기온(℃)</th>\n",
       "      <th>최저기온(℃)</th>\n",
       "      <th>최저기온일자</th>\n",
       "    </tr>\n",
       "  </thead>\n",
       "  <tbody>\n",
       "    <tr>\n",
       "      <th>0</th>\n",
       "      <td>\\t\\t108</td>\n",
       "      <td>서울</td>\n",
       "      <td>1907-10-01</td>\n",
       "      <td>13.9</td>\n",
       "      <td>20.2</td>\n",
       "      <td>25.4</td>\n",
       "      <td>1907-10-05</td>\n",
       "      <td>8.3</td>\n",
       "      <td>3.3</td>\n",
       "      <td>1907-10-24</td>\n",
       "    </tr>\n",
       "    <tr>\n",
       "      <th>1</th>\n",
       "      <td>\\t\\t108</td>\n",
       "      <td>서울</td>\n",
       "      <td>1907-11-01</td>\n",
       "      <td>5.3</td>\n",
       "      <td>10.2</td>\n",
       "      <td>21.3</td>\n",
       "      <td>1907-11-01</td>\n",
       "      <td>0.6</td>\n",
       "      <td>-8.9</td>\n",
       "      <td>1907-11-30</td>\n",
       "    </tr>\n",
       "    <tr>\n",
       "      <th>2</th>\n",
       "      <td>\\t\\t108</td>\n",
       "      <td>서울</td>\n",
       "      <td>1907-12-01</td>\n",
       "      <td>-3.9</td>\n",
       "      <td>0.8</td>\n",
       "      <td>9.0</td>\n",
       "      <td>1907-12-13</td>\n",
       "      <td>-8.7</td>\n",
       "      <td>-20.1</td>\n",
       "      <td>1907-12-23</td>\n",
       "    </tr>\n",
       "    <tr>\n",
       "      <th>3</th>\n",
       "      <td>\\t\\t108</td>\n",
       "      <td>서울</td>\n",
       "      <td>1908-01-01</td>\n",
       "      <td>-3.5</td>\n",
       "      <td>0.1</td>\n",
       "      <td>6.2</td>\n",
       "      <td>1908-01-31</td>\n",
       "      <td>-7.5</td>\n",
       "      <td>-14.3</td>\n",
       "      <td>1908-01-22</td>\n",
       "    </tr>\n",
       "    <tr>\n",
       "      <th>4</th>\n",
       "      <td>\\t\\t108</td>\n",
       "      <td>서울</td>\n",
       "      <td>1908-02-01</td>\n",
       "      <td>-4.0</td>\n",
       "      <td>0.8</td>\n",
       "      <td>8.4</td>\n",
       "      <td>1908-02-27</td>\n",
       "      <td>-8.8</td>\n",
       "      <td>-15.8</td>\n",
       "      <td>1908-02-07</td>\n",
       "    </tr>\n",
       "    <tr>\n",
       "      <th>...</th>\n",
       "      <td>...</td>\n",
       "      <td>...</td>\n",
       "      <td>...</td>\n",
       "      <td>...</td>\n",
       "      <td>...</td>\n",
       "      <td>...</td>\n",
       "      <td>...</td>\n",
       "      <td>...</td>\n",
       "      <td>...</td>\n",
       "      <td>...</td>\n",
       "    </tr>\n",
       "    <tr>\n",
       "      <th>1348</th>\n",
       "      <td>\\t</td>\n",
       "      <td>NaN</td>\n",
       "      <td>NaN</td>\n",
       "      <td>NaN</td>\n",
       "      <td>NaN</td>\n",
       "      <td>NaN</td>\n",
       "      <td>NaN</td>\n",
       "      <td>NaN</td>\n",
       "      <td>NaN</td>\n",
       "      <td>NaN</td>\n",
       "    </tr>\n",
       "    <tr>\n",
       "      <th>1349</th>\n",
       "      <td>\\t</td>\n",
       "      <td>NaN</td>\n",
       "      <td>NaN</td>\n",
       "      <td>NaN</td>\n",
       "      <td>NaN</td>\n",
       "      <td>NaN</td>\n",
       "      <td>NaN</td>\n",
       "      <td>NaN</td>\n",
       "      <td>NaN</td>\n",
       "      <td>NaN</td>\n",
       "    </tr>\n",
       "    <tr>\n",
       "      <th>1350</th>\n",
       "      <td>\\t\\t</td>\n",
       "      <td>NaN</td>\n",
       "      <td>NaN</td>\n",
       "      <td>NaN</td>\n",
       "      <td>NaN</td>\n",
       "      <td>NaN</td>\n",
       "      <td>NaN</td>\n",
       "      <td>NaN</td>\n",
       "      <td>NaN</td>\n",
       "      <td>NaN</td>\n",
       "    </tr>\n",
       "    <tr>\n",
       "      <th>1351</th>\n",
       "      <td>\\t</td>\n",
       "      <td>NaN</td>\n",
       "      <td>NaN</td>\n",
       "      <td>NaN</td>\n",
       "      <td>NaN</td>\n",
       "      <td>NaN</td>\n",
       "      <td>NaN</td>\n",
       "      <td>NaN</td>\n",
       "      <td>NaN</td>\n",
       "      <td>NaN</td>\n",
       "    </tr>\n",
       "    <tr>\n",
       "      <th>1352</th>\n",
       "      <td>\\t</td>\n",
       "      <td>NaN</td>\n",
       "      <td>NaN</td>\n",
       "      <td>NaN</td>\n",
       "      <td>NaN</td>\n",
       "      <td>NaN</td>\n",
       "      <td>NaN</td>\n",
       "      <td>NaN</td>\n",
       "      <td>NaN</td>\n",
       "      <td>NaN</td>\n",
       "    </tr>\n",
       "  </tbody>\n",
       "</table>\n",
       "<p>1353 rows × 10 columns</p>\n",
       "</div>"
      ],
      "text/plain": [
       "     \\t\\t지점번호  지점명          일시  평균기온(℃)  평균최고기온(℃)  최고기온(℃)    \\t최고기온일자  \\\n",
       "0     \\t\\t108   서울  1907-10-01     13.9       20.2     25.4  1907-10-05   \n",
       "1     \\t\\t108   서울  1907-11-01      5.3       10.2     21.3  1907-11-01   \n",
       "2     \\t\\t108   서울  1907-12-01     -3.9        0.8      9.0  1907-12-13   \n",
       "3     \\t\\t108   서울  1908-01-01     -3.5        0.1      6.2  1908-01-31   \n",
       "4     \\t\\t108   서울  1908-02-01     -4.0        0.8      8.4  1908-02-27   \n",
       "...       ...  ...         ...      ...        ...      ...         ...   \n",
       "1348       \\t  NaN         NaN      NaN        NaN      NaN         NaN   \n",
       "1349       \\t  NaN         NaN      NaN        NaN      NaN         NaN   \n",
       "1350     \\t\\t  NaN         NaN      NaN        NaN      NaN         NaN   \n",
       "1351       \\t  NaN         NaN      NaN        NaN      NaN         NaN   \n",
       "1352       \\t  NaN         NaN      NaN        NaN      NaN         NaN   \n",
       "\n",
       "      평균최저기온(℃)  최저기온(℃)      최저기온일자  \n",
       "0           8.3      3.3  1907-10-24  \n",
       "1           0.6     -8.9  1907-11-30  \n",
       "2          -8.7    -20.1  1907-12-23  \n",
       "3          -7.5    -14.3  1908-01-22  \n",
       "4          -8.8    -15.8  1908-02-07  \n",
       "...         ...      ...         ...  \n",
       "1348        NaN      NaN         NaN  \n",
       "1349        NaN      NaN         NaN  \n",
       "1350        NaN      NaN         NaN  \n",
       "1351        NaN      NaN         NaN  \n",
       "1352        NaN      NaN         NaN  \n",
       "\n",
       "[1353 rows x 10 columns]"
      ]
     },
     "execution_count": 23,
     "metadata": {},
     "output_type": "execute_result"
    }
   ],
   "source": [
    "df"
   ]
  },
  {
   "cell_type": "code",
   "execution_count": 60,
   "id": "a0110cf5",
   "metadata": {
    "ExecuteTime": {
     "end_time": "2023-12-18T11:18:45.627376Z",
     "start_time": "2023-12-18T11:18:45.591852Z"
    }
   },
   "outputs": [
    {
     "ename": "AttributeError",
     "evalue": "'Series' object has no attribute 'column'",
     "output_type": "error",
     "traceback": [
      "\u001b[1;31m---------------------------------------------------------------------------\u001b[0m",
      "\u001b[1;31mAttributeError\u001b[0m                            Traceback (most recent call last)",
      "Cell \u001b[1;32mIn[60], line 1\u001b[0m\n\u001b[1;32m----> 1\u001b[0m df[\u001b[38;5;124m'\u001b[39m\u001b[38;5;124m지역\u001b[39m\u001b[38;5;124m'\u001b[39m][\u001b[38;5;241m1\u001b[39m:\u001b[38;5;241m3\u001b[39m]\u001b[38;5;241m.\u001b[39mcolumn\n",
      "File \u001b[1;32m~\\anaconda3\\Lib\\site-packages\\pandas\\core\\generic.py:5989\u001b[0m, in \u001b[0;36mNDFrame.__getattr__\u001b[1;34m(self, name)\u001b[0m\n\u001b[0;32m   5982\u001b[0m \u001b[38;5;28;01mif\u001b[39;00m (\n\u001b[0;32m   5983\u001b[0m     name \u001b[38;5;129;01mnot\u001b[39;00m \u001b[38;5;129;01min\u001b[39;00m \u001b[38;5;28mself\u001b[39m\u001b[38;5;241m.\u001b[39m_internal_names_set\n\u001b[0;32m   5984\u001b[0m     \u001b[38;5;129;01mand\u001b[39;00m name \u001b[38;5;129;01mnot\u001b[39;00m \u001b[38;5;129;01min\u001b[39;00m \u001b[38;5;28mself\u001b[39m\u001b[38;5;241m.\u001b[39m_metadata\n\u001b[0;32m   5985\u001b[0m     \u001b[38;5;129;01mand\u001b[39;00m name \u001b[38;5;129;01mnot\u001b[39;00m \u001b[38;5;129;01min\u001b[39;00m \u001b[38;5;28mself\u001b[39m\u001b[38;5;241m.\u001b[39m_accessors\n\u001b[0;32m   5986\u001b[0m     \u001b[38;5;129;01mand\u001b[39;00m \u001b[38;5;28mself\u001b[39m\u001b[38;5;241m.\u001b[39m_info_axis\u001b[38;5;241m.\u001b[39m_can_hold_identifiers_and_holds_name(name)\n\u001b[0;32m   5987\u001b[0m ):\n\u001b[0;32m   5988\u001b[0m     \u001b[38;5;28;01mreturn\u001b[39;00m \u001b[38;5;28mself\u001b[39m[name]\n\u001b[1;32m-> 5989\u001b[0m \u001b[38;5;28;01mreturn\u001b[39;00m \u001b[38;5;28mobject\u001b[39m\u001b[38;5;241m.\u001b[39m\u001b[38;5;21m__getattribute__\u001b[39m(\u001b[38;5;28mself\u001b[39m, name)\n",
      "\u001b[1;31mAttributeError\u001b[0m: 'Series' object has no attribute 'column'"
     ]
    }
   ],
   "source": [
    "df['지역'][1:3]"
   ]
  },
  {
   "cell_type": "code",
   "execution_count": 61,
   "id": "ed1bb769",
   "metadata": {
    "ExecuteTime": {
     "end_time": "2023-12-18T11:19:09.629744Z",
     "start_time": "2023-12-18T11:19:09.618224Z"
    }
   },
   "outputs": [
    {
     "data": {
      "text/html": [
       "<div>\n",
       "<style scoped>\n",
       "    .dataframe tbody tr th:only-of-type {\n",
       "        vertical-align: middle;\n",
       "    }\n",
       "\n",
       "    .dataframe tbody tr th {\n",
       "        vertical-align: top;\n",
       "    }\n",
       "\n",
       "    .dataframe thead th {\n",
       "        text-align: right;\n",
       "    }\n",
       "</style>\n",
       "<table border=\"1\" class=\"dataframe\">\n",
       "  <thead>\n",
       "    <tr style=\"text-align: right;\">\n",
       "      <th></th>\n",
       "      <th>2010</th>\n",
       "      <th>2015</th>\n",
       "    </tr>\n",
       "  </thead>\n",
       "  <tbody>\n",
       "    <tr>\n",
       "      <th>서울</th>\n",
       "      <td>9631482</td>\n",
       "      <td>9904312</td>\n",
       "    </tr>\n",
       "    <tr>\n",
       "      <th>부산</th>\n",
       "      <td>3393191</td>\n",
       "      <td>3448737</td>\n",
       "    </tr>\n",
       "    <tr>\n",
       "      <th>인천</th>\n",
       "      <td>2632035</td>\n",
       "      <td>2890451</td>\n",
       "    </tr>\n",
       "    <tr>\n",
       "      <th>대구</th>\n",
       "      <td>2431774</td>\n",
       "      <td>2466052</td>\n",
       "    </tr>\n",
       "  </tbody>\n",
       "</table>\n",
       "</div>"
      ],
      "text/plain": [
       "       2010     2015\n",
       "서울  9631482  9904312\n",
       "부산  3393191  3448737\n",
       "인천  2632035  2890451\n",
       "대구  2431774  2466052"
      ]
     },
     "execution_count": 61,
     "metadata": {},
     "output_type": "execute_result"
    }
   ],
   "source": [
    "df[ [\"2010\", \"2015\"] ]"
   ]
  },
  {
   "cell_type": "code",
   "execution_count": 67,
   "id": "de6a401e",
   "metadata": {
    "ExecuteTime": {
     "end_time": "2023-12-18T11:20:37.391761Z",
     "start_time": "2023-12-18T11:20:37.385649Z"
    }
   },
   "outputs": [
    {
     "data": {
      "text/plain": [
       "pandas.core.series.Series"
      ]
     },
     "execution_count": 67,
     "metadata": {},
     "output_type": "execute_result"
    }
   ],
   "source": [
    "type(df[ \"2010\" ])"
   ]
  },
  {
   "cell_type": "code",
   "execution_count": 68,
   "id": "6c64551e",
   "metadata": {
    "ExecuteTime": {
     "end_time": "2023-12-18T11:20:38.696020Z",
     "start_time": "2023-12-18T11:20:38.685538Z"
    }
   },
   "outputs": [
    {
     "data": {
      "text/plain": [
       "pandas.core.frame.DataFrame"
      ]
     },
     "execution_count": 68,
     "metadata": {},
     "output_type": "execute_result"
    }
   ],
   "source": [
    "df[[\"2010\"]]\n",
    "type(df[[\"2010\"]])"
   ]
  },
  {
   "cell_type": "code",
   "execution_count": 71,
   "id": "0e79c439",
   "metadata": {
    "ExecuteTime": {
     "end_time": "2023-12-18T11:29:50.792219Z",
     "start_time": "2023-12-18T11:29:50.784437Z"
    }
   },
   "outputs": [
    {
     "data": {
      "text/html": [
       "<div>\n",
       "<style scoped>\n",
       "    .dataframe tbody tr th:only-of-type {\n",
       "        vertical-align: middle;\n",
       "    }\n",
       "\n",
       "    .dataframe tbody tr th {\n",
       "        vertical-align: top;\n",
       "    }\n",
       "\n",
       "    .dataframe thead th {\n",
       "        text-align: right;\n",
       "    }\n",
       "</style>\n",
       "<table border=\"1\" class=\"dataframe\">\n",
       "  <thead>\n",
       "    <tr style=\"text-align: right;\">\n",
       "      <th></th>\n",
       "      <th>2010</th>\n",
       "    </tr>\n",
       "  </thead>\n",
       "  <tbody>\n",
       "    <tr>\n",
       "      <th>부산</th>\n",
       "      <td>3393191</td>\n",
       "    </tr>\n",
       "    <tr>\n",
       "      <th>인천</th>\n",
       "      <td>2632035</td>\n",
       "    </tr>\n",
       "  </tbody>\n",
       "</table>\n",
       "</div>"
      ],
      "text/plain": [
       "       2010\n",
       "부산  3393191\n",
       "인천  2632035"
      ]
     },
     "execution_count": 71,
     "metadata": {},
     "output_type": "execute_result"
    }
   ],
   "source": [
    "df[[\"2010\"]][1:3]"
   ]
  },
  {
   "cell_type": "code",
   "execution_count": 22,
   "id": "82c8017e",
   "metadata": {
    "ExecuteTime": {
     "end_time": "2023-12-19T10:50:51.213962Z",
     "start_time": "2023-12-19T10:50:51.207388Z"
    }
   },
   "outputs": [
    {
     "ename": "SyntaxError",
     "evalue": "':' expected after dictionary key (1249874958.py, line 4)",
     "output_type": "error",
     "traceback": [
      "\u001b[1;36m  Cell \u001b[1;32mIn[22], line 4\u001b[1;36m\u001b[0m\n\u001b[1;33m    {'지역':\"경기\", '2015':12121, '2010':12398434, '2005':1284324, '2000':1202434, '2010-2015 증가율':21.4, '증가폭'}\u001b[0m\n\u001b[1;37m                                                                                                         ^\u001b[0m\n\u001b[1;31mSyntaxError\u001b[0m\u001b[1;31m:\u001b[0m ':' expected after dictionary key\n"
     ]
    }
   ],
   "source": [
    "#행 추가는 어떻게 해야??\n",
    "df.columns\n",
    "\n",
    "{'지역':\"경기\", '2015':12121, '2010':12398434, '2005':1284324, '2000':1202434, '2010-2015 증가율':21.4, '증가폭':}"
   ]
  },
  {
   "cell_type": "code",
   "execution_count": 78,
   "id": "76a366a7",
   "metadata": {
    "ExecuteTime": {
     "end_time": "2023-12-18T11:36:00.671579Z",
     "start_time": "2023-12-18T11:36:00.663920Z"
    }
   },
   "outputs": [],
   "source": [
    "df.loc['경기'] = [142124,1432123541,12412421,141424,124124,21.3,\"큼\"]"
   ]
  },
  {
   "cell_type": "code",
   "execution_count": 79,
   "id": "a2052566",
   "metadata": {
    "ExecuteTime": {
     "end_time": "2023-12-18T11:36:04.443537Z",
     "start_time": "2023-12-18T11:36:04.432228Z"
    }
   },
   "outputs": [
    {
     "data": {
      "text/html": [
       "<div>\n",
       "<style scoped>\n",
       "    .dataframe tbody tr th:only-of-type {\n",
       "        vertical-align: middle;\n",
       "    }\n",
       "\n",
       "    .dataframe tbody tr th {\n",
       "        vertical-align: top;\n",
       "    }\n",
       "\n",
       "    .dataframe thead th {\n",
       "        text-align: right;\n",
       "    }\n",
       "</style>\n",
       "<table border=\"1\" class=\"dataframe\">\n",
       "  <thead>\n",
       "    <tr style=\"text-align: right;\">\n",
       "      <th></th>\n",
       "      <th>지역</th>\n",
       "      <th>2015</th>\n",
       "      <th>2010</th>\n",
       "      <th>2005</th>\n",
       "      <th>2000</th>\n",
       "      <th>2010-2015 증가율</th>\n",
       "      <th>증가폭</th>\n",
       "    </tr>\n",
       "  </thead>\n",
       "  <tbody>\n",
       "    <tr>\n",
       "      <th>서울</th>\n",
       "      <td>수도권</td>\n",
       "      <td>9904312</td>\n",
       "      <td>9631482</td>\n",
       "      <td>9762546</td>\n",
       "      <td>9853972</td>\n",
       "      <td>2.83</td>\n",
       "      <td>큼</td>\n",
       "    </tr>\n",
       "    <tr>\n",
       "      <th>부산</th>\n",
       "      <td>경상권</td>\n",
       "      <td>3448737</td>\n",
       "      <td>3393191</td>\n",
       "      <td>3512547</td>\n",
       "      <td>3655437</td>\n",
       "      <td>1.63</td>\n",
       "      <td>작음</td>\n",
       "    </tr>\n",
       "    <tr>\n",
       "      <th>인천</th>\n",
       "      <td>수도권</td>\n",
       "      <td>2890451</td>\n",
       "      <td>2632035</td>\n",
       "      <td>2517680</td>\n",
       "      <td>2466338</td>\n",
       "      <td>9.82</td>\n",
       "      <td>큼</td>\n",
       "    </tr>\n",
       "    <tr>\n",
       "      <th>대구</th>\n",
       "      <td>경상권</td>\n",
       "      <td>2466052</td>\n",
       "      <td>2431774</td>\n",
       "      <td>2456016</td>\n",
       "      <td>2473990</td>\n",
       "      <td>1.41</td>\n",
       "      <td>작음</td>\n",
       "    </tr>\n",
       "    <tr>\n",
       "      <th>경기</th>\n",
       "      <td>142124</td>\n",
       "      <td>1432123541</td>\n",
       "      <td>12412421</td>\n",
       "      <td>141424</td>\n",
       "      <td>124124</td>\n",
       "      <td>21.30</td>\n",
       "      <td>큼</td>\n",
       "    </tr>\n",
       "  </tbody>\n",
       "</table>\n",
       "</div>"
      ],
      "text/plain": [
       "        지역        2015      2010     2005     2000  2010-2015 증가율 증가폭\n",
       "서울     수도권     9904312   9631482  9762546  9853972           2.83   큼\n",
       "부산     경상권     3448737   3393191  3512547  3655437           1.63  작음\n",
       "인천     수도권     2890451   2632035  2517680  2466338           9.82   큼\n",
       "대구     경상권     2466052   2431774  2456016  2473990           1.41  작음\n",
       "경기  142124  1432123541  12412421   141424   124124          21.30   큼"
      ]
     },
     "execution_count": 79,
     "metadata": {},
     "output_type": "execute_result"
    }
   ],
   "source": [
    "df"
   ]
  },
  {
   "cell_type": "code",
   "execution_count": null,
   "id": "13c5906a",
   "metadata": {},
   "outputs": [],
   "source": []
  },
  {
   "cell_type": "code",
   "execution_count": null,
   "id": "ca789998",
   "metadata": {},
   "outputs": [],
   "source": []
  },
  {
   "cell_type": "code",
   "execution_count": null,
   "id": "d037d3fd",
   "metadata": {},
   "outputs": [],
   "source": []
  },
  {
   "cell_type": "code",
   "execution_count": 187,
   "id": "2694c570",
   "metadata": {
    "ExecuteTime": {
     "end_time": "2023-12-19T12:30:59.736631Z",
     "start_time": "2023-12-19T12:30:59.607643Z"
    }
   },
   "outputs": [
    {
     "ename": "UnicodeDecodeError",
     "evalue": "'utf-8' codec can't decode byte 0xc1 in position 3: invalid start byte",
     "output_type": "error",
     "traceback": [
      "\u001b[1;31m---------------------------------------------------------------------------\u001b[0m",
      "\u001b[1;31mUnicodeDecodeError\u001b[0m                        Traceback (most recent call last)",
      "Cell \u001b[1;32mIn[187], line 1\u001b[0m\n\u001b[1;32m----> 1\u001b[0m pd\u001b[38;5;241m.\u001b[39mread_csv(\u001b[38;5;124m\"\u001b[39m\u001b[38;5;124mC:\u001b[39m\u001b[38;5;124m\\\u001b[39m\u001b[38;5;124mworkspace\u001b[39m\u001b[38;5;124m\\\u001b[39m\u001b[38;5;124mpython\u001b[39m\u001b[38;5;124m\\\u001b[39m\u001b[38;5;124mWASSUP\u001b[39m\u001b[38;5;124m\\\u001b[39m\u001b[38;5;124mdata/기상온도_서울202012.csv\u001b[39m\u001b[38;5;124m\"\u001b[39m)\n",
      "File \u001b[1;32m~\\anaconda3\\Lib\\site-packages\\pandas\\io\\parsers\\readers.py:912\u001b[0m, in \u001b[0;36mread_csv\u001b[1;34m(filepath_or_buffer, sep, delimiter, header, names, index_col, usecols, dtype, engine, converters, true_values, false_values, skipinitialspace, skiprows, skipfooter, nrows, na_values, keep_default_na, na_filter, verbose, skip_blank_lines, parse_dates, infer_datetime_format, keep_date_col, date_parser, date_format, dayfirst, cache_dates, iterator, chunksize, compression, thousands, decimal, lineterminator, quotechar, quoting, doublequote, escapechar, comment, encoding, encoding_errors, dialect, on_bad_lines, delim_whitespace, low_memory, memory_map, float_precision, storage_options, dtype_backend)\u001b[0m\n\u001b[0;32m    899\u001b[0m kwds_defaults \u001b[38;5;241m=\u001b[39m _refine_defaults_read(\n\u001b[0;32m    900\u001b[0m     dialect,\n\u001b[0;32m    901\u001b[0m     delimiter,\n\u001b[1;32m   (...)\u001b[0m\n\u001b[0;32m    908\u001b[0m     dtype_backend\u001b[38;5;241m=\u001b[39mdtype_backend,\n\u001b[0;32m    909\u001b[0m )\n\u001b[0;32m    910\u001b[0m kwds\u001b[38;5;241m.\u001b[39mupdate(kwds_defaults)\n\u001b[1;32m--> 912\u001b[0m \u001b[38;5;28;01mreturn\u001b[39;00m _read(filepath_or_buffer, kwds)\n",
      "File \u001b[1;32m~\\anaconda3\\Lib\\site-packages\\pandas\\io\\parsers\\readers.py:577\u001b[0m, in \u001b[0;36m_read\u001b[1;34m(filepath_or_buffer, kwds)\u001b[0m\n\u001b[0;32m    574\u001b[0m _validate_names(kwds\u001b[38;5;241m.\u001b[39mget(\u001b[38;5;124m\"\u001b[39m\u001b[38;5;124mnames\u001b[39m\u001b[38;5;124m\"\u001b[39m, \u001b[38;5;28;01mNone\u001b[39;00m))\n\u001b[0;32m    576\u001b[0m \u001b[38;5;66;03m# Create the parser.\u001b[39;00m\n\u001b[1;32m--> 577\u001b[0m parser \u001b[38;5;241m=\u001b[39m TextFileReader(filepath_or_buffer, \u001b[38;5;241m*\u001b[39m\u001b[38;5;241m*\u001b[39mkwds)\n\u001b[0;32m    579\u001b[0m \u001b[38;5;28;01mif\u001b[39;00m chunksize \u001b[38;5;129;01mor\u001b[39;00m iterator:\n\u001b[0;32m    580\u001b[0m     \u001b[38;5;28;01mreturn\u001b[39;00m parser\n",
      "File \u001b[1;32m~\\anaconda3\\Lib\\site-packages\\pandas\\io\\parsers\\readers.py:1407\u001b[0m, in \u001b[0;36mTextFileReader.__init__\u001b[1;34m(self, f, engine, **kwds)\u001b[0m\n\u001b[0;32m   1404\u001b[0m     \u001b[38;5;28mself\u001b[39m\u001b[38;5;241m.\u001b[39moptions[\u001b[38;5;124m\"\u001b[39m\u001b[38;5;124mhas_index_names\u001b[39m\u001b[38;5;124m\"\u001b[39m] \u001b[38;5;241m=\u001b[39m kwds[\u001b[38;5;124m\"\u001b[39m\u001b[38;5;124mhas_index_names\u001b[39m\u001b[38;5;124m\"\u001b[39m]\n\u001b[0;32m   1406\u001b[0m \u001b[38;5;28mself\u001b[39m\u001b[38;5;241m.\u001b[39mhandles: IOHandles \u001b[38;5;241m|\u001b[39m \u001b[38;5;28;01mNone\u001b[39;00m \u001b[38;5;241m=\u001b[39m \u001b[38;5;28;01mNone\u001b[39;00m\n\u001b[1;32m-> 1407\u001b[0m \u001b[38;5;28mself\u001b[39m\u001b[38;5;241m.\u001b[39m_engine \u001b[38;5;241m=\u001b[39m \u001b[38;5;28mself\u001b[39m\u001b[38;5;241m.\u001b[39m_make_engine(f, \u001b[38;5;28mself\u001b[39m\u001b[38;5;241m.\u001b[39mengine)\n",
      "File \u001b[1;32m~\\anaconda3\\Lib\\site-packages\\pandas\\io\\parsers\\readers.py:1679\u001b[0m, in \u001b[0;36mTextFileReader._make_engine\u001b[1;34m(self, f, engine)\u001b[0m\n\u001b[0;32m   1676\u001b[0m     \u001b[38;5;28;01mraise\u001b[39;00m \u001b[38;5;167;01mValueError\u001b[39;00m(msg)\n\u001b[0;32m   1678\u001b[0m \u001b[38;5;28;01mtry\u001b[39;00m:\n\u001b[1;32m-> 1679\u001b[0m     \u001b[38;5;28;01mreturn\u001b[39;00m mapping[engine](f, \u001b[38;5;241m*\u001b[39m\u001b[38;5;241m*\u001b[39m\u001b[38;5;28mself\u001b[39m\u001b[38;5;241m.\u001b[39moptions)\n\u001b[0;32m   1680\u001b[0m \u001b[38;5;28;01mexcept\u001b[39;00m \u001b[38;5;167;01mException\u001b[39;00m:\n\u001b[0;32m   1681\u001b[0m     \u001b[38;5;28;01mif\u001b[39;00m \u001b[38;5;28mself\u001b[39m\u001b[38;5;241m.\u001b[39mhandles \u001b[38;5;129;01mis\u001b[39;00m \u001b[38;5;129;01mnot\u001b[39;00m \u001b[38;5;28;01mNone\u001b[39;00m:\n",
      "File \u001b[1;32m~\\anaconda3\\Lib\\site-packages\\pandas\\io\\parsers\\c_parser_wrapper.py:93\u001b[0m, in \u001b[0;36mCParserWrapper.__init__\u001b[1;34m(self, src, **kwds)\u001b[0m\n\u001b[0;32m     90\u001b[0m \u001b[38;5;28;01mif\u001b[39;00m kwds[\u001b[38;5;124m\"\u001b[39m\u001b[38;5;124mdtype_backend\u001b[39m\u001b[38;5;124m\"\u001b[39m] \u001b[38;5;241m==\u001b[39m \u001b[38;5;124m\"\u001b[39m\u001b[38;5;124mpyarrow\u001b[39m\u001b[38;5;124m\"\u001b[39m:\n\u001b[0;32m     91\u001b[0m     \u001b[38;5;66;03m# Fail here loudly instead of in cython after reading\u001b[39;00m\n\u001b[0;32m     92\u001b[0m     import_optional_dependency(\u001b[38;5;124m\"\u001b[39m\u001b[38;5;124mpyarrow\u001b[39m\u001b[38;5;124m\"\u001b[39m)\n\u001b[1;32m---> 93\u001b[0m \u001b[38;5;28mself\u001b[39m\u001b[38;5;241m.\u001b[39m_reader \u001b[38;5;241m=\u001b[39m parsers\u001b[38;5;241m.\u001b[39mTextReader(src, \u001b[38;5;241m*\u001b[39m\u001b[38;5;241m*\u001b[39mkwds)\n\u001b[0;32m     95\u001b[0m \u001b[38;5;28mself\u001b[39m\u001b[38;5;241m.\u001b[39munnamed_cols \u001b[38;5;241m=\u001b[39m \u001b[38;5;28mself\u001b[39m\u001b[38;5;241m.\u001b[39m_reader\u001b[38;5;241m.\u001b[39munnamed_cols\n\u001b[0;32m     97\u001b[0m \u001b[38;5;66;03m# error: Cannot determine type of 'names'\u001b[39;00m\n",
      "File \u001b[1;32m~\\anaconda3\\Lib\\site-packages\\pandas\\_libs\\parsers.pyx:550\u001b[0m, in \u001b[0;36mpandas._libs.parsers.TextReader.__cinit__\u001b[1;34m()\u001b[0m\n",
      "File \u001b[1;32m~\\anaconda3\\Lib\\site-packages\\pandas\\_libs\\parsers.pyx:639\u001b[0m, in \u001b[0;36mpandas._libs.parsers.TextReader._get_header\u001b[1;34m()\u001b[0m\n",
      "File \u001b[1;32m~\\anaconda3\\Lib\\site-packages\\pandas\\_libs\\parsers.pyx:850\u001b[0m, in \u001b[0;36mpandas._libs.parsers.TextReader._tokenize_rows\u001b[1;34m()\u001b[0m\n",
      "File \u001b[1;32m~\\anaconda3\\Lib\\site-packages\\pandas\\_libs\\parsers.pyx:861\u001b[0m, in \u001b[0;36mpandas._libs.parsers.TextReader._check_tokenize_status\u001b[1;34m()\u001b[0m\n",
      "File \u001b[1;32m~\\anaconda3\\Lib\\site-packages\\pandas\\_libs\\parsers.pyx:2021\u001b[0m, in \u001b[0;36mpandas._libs.parsers.raise_parser_error\u001b[1;34m()\u001b[0m\n",
      "\u001b[1;31mUnicodeDecodeError\u001b[0m: 'utf-8' codec can't decode byte 0xc1 in position 3: invalid start byte"
     ]
    }
   ],
   "source": [
    "pd.read_csv(\"C:\\workspace\\python\\WASSUP\\data/기상온도_서울202012.csv\")"
   ]
  },
  {
   "cell_type": "code",
   "execution_count": 66,
   "id": "1e384edf",
   "metadata": {
    "ExecuteTime": {
     "end_time": "2023-12-19T11:11:53.554486Z",
     "start_time": "2023-12-19T11:11:53.540386Z"
    }
   },
   "outputs": [],
   "source": [
    "df = pd.read_csv(\"C:\\workspace\\python\\WASSUP\\data/기상온도_서울202012.csv\", encoding=\"cp949\")"
   ]
  },
  {
   "cell_type": "code",
   "execution_count": 12,
   "id": "f38c9996",
   "metadata": {
    "ExecuteTime": {
     "end_time": "2023-12-19T10:42:48.644390Z",
     "start_time": "2023-12-19T10:42:48.620396Z"
    }
   },
   "outputs": [],
   "source": [
    "df.to_e(\"file이름.csv\")"
   ]
  },
  {
   "cell_type": "code",
   "execution_count": 14,
   "id": "2ab456bf",
   "metadata": {
    "ExecuteTime": {
     "end_time": "2023-12-19T10:43:01.343396Z",
     "start_time": "2023-12-19T10:43:01.304230Z"
    }
   },
   "outputs": [
    {
     "data": {
      "text/html": [
       "<div>\n",
       "<style scoped>\n",
       "    .dataframe tbody tr th:only-of-type {\n",
       "        vertical-align: middle;\n",
       "    }\n",
       "\n",
       "    .dataframe tbody tr th {\n",
       "        vertical-align: top;\n",
       "    }\n",
       "\n",
       "    .dataframe thead th {\n",
       "        text-align: right;\n",
       "    }\n",
       "</style>\n",
       "<table border=\"1\" class=\"dataframe\">\n",
       "  <thead>\n",
       "    <tr style=\"text-align: right;\">\n",
       "      <th></th>\n",
       "      <th>Unnamed: 0</th>\n",
       "      <th>\\t\\t지점번호</th>\n",
       "      <th>지점명</th>\n",
       "      <th>일시</th>\n",
       "      <th>평균기온(℃)</th>\n",
       "      <th>평균최고기온(℃)</th>\n",
       "      <th>최고기온(℃)</th>\n",
       "      <th>\\t최고기온일자</th>\n",
       "      <th>평균최저기온(℃)</th>\n",
       "      <th>최저기온(℃)</th>\n",
       "      <th>최저기온일자</th>\n",
       "    </tr>\n",
       "  </thead>\n",
       "  <tbody>\n",
       "    <tr>\n",
       "      <th>0</th>\n",
       "      <td>0</td>\n",
       "      <td>\\t\\t108</td>\n",
       "      <td>서울</td>\n",
       "      <td>1907-10-01</td>\n",
       "      <td>13.9</td>\n",
       "      <td>20.2</td>\n",
       "      <td>25.4</td>\n",
       "      <td>1907-10-05</td>\n",
       "      <td>8.3</td>\n",
       "      <td>3.3</td>\n",
       "      <td>1907-10-24</td>\n",
       "    </tr>\n",
       "    <tr>\n",
       "      <th>1</th>\n",
       "      <td>1</td>\n",
       "      <td>\\t\\t108</td>\n",
       "      <td>서울</td>\n",
       "      <td>1907-11-01</td>\n",
       "      <td>5.3</td>\n",
       "      <td>10.2</td>\n",
       "      <td>21.3</td>\n",
       "      <td>1907-11-01</td>\n",
       "      <td>0.6</td>\n",
       "      <td>-8.9</td>\n",
       "      <td>1907-11-30</td>\n",
       "    </tr>\n",
       "    <tr>\n",
       "      <th>2</th>\n",
       "      <td>2</td>\n",
       "      <td>\\t\\t108</td>\n",
       "      <td>서울</td>\n",
       "      <td>1907-12-01</td>\n",
       "      <td>-3.9</td>\n",
       "      <td>0.8</td>\n",
       "      <td>9.0</td>\n",
       "      <td>1907-12-13</td>\n",
       "      <td>-8.7</td>\n",
       "      <td>-20.1</td>\n",
       "      <td>1907-12-23</td>\n",
       "    </tr>\n",
       "    <tr>\n",
       "      <th>3</th>\n",
       "      <td>3</td>\n",
       "      <td>\\t\\t108</td>\n",
       "      <td>서울</td>\n",
       "      <td>1908-01-01</td>\n",
       "      <td>-3.5</td>\n",
       "      <td>0.1</td>\n",
       "      <td>6.2</td>\n",
       "      <td>1908-01-31</td>\n",
       "      <td>-7.5</td>\n",
       "      <td>-14.3</td>\n",
       "      <td>1908-01-22</td>\n",
       "    </tr>\n",
       "    <tr>\n",
       "      <th>4</th>\n",
       "      <td>4</td>\n",
       "      <td>\\t\\t108</td>\n",
       "      <td>서울</td>\n",
       "      <td>1908-02-01</td>\n",
       "      <td>-4.0</td>\n",
       "      <td>0.8</td>\n",
       "      <td>8.4</td>\n",
       "      <td>1908-02-27</td>\n",
       "      <td>-8.8</td>\n",
       "      <td>-15.8</td>\n",
       "      <td>1908-02-07</td>\n",
       "    </tr>\n",
       "    <tr>\n",
       "      <th>...</th>\n",
       "      <td>...</td>\n",
       "      <td>...</td>\n",
       "      <td>...</td>\n",
       "      <td>...</td>\n",
       "      <td>...</td>\n",
       "      <td>...</td>\n",
       "      <td>...</td>\n",
       "      <td>...</td>\n",
       "      <td>...</td>\n",
       "      <td>...</td>\n",
       "      <td>...</td>\n",
       "    </tr>\n",
       "    <tr>\n",
       "      <th>1348</th>\n",
       "      <td>1348</td>\n",
       "      <td>\\t</td>\n",
       "      <td>NaN</td>\n",
       "      <td>NaN</td>\n",
       "      <td>NaN</td>\n",
       "      <td>NaN</td>\n",
       "      <td>NaN</td>\n",
       "      <td>NaN</td>\n",
       "      <td>NaN</td>\n",
       "      <td>NaN</td>\n",
       "      <td>NaN</td>\n",
       "    </tr>\n",
       "    <tr>\n",
       "      <th>1349</th>\n",
       "      <td>1349</td>\n",
       "      <td>\\t</td>\n",
       "      <td>NaN</td>\n",
       "      <td>NaN</td>\n",
       "      <td>NaN</td>\n",
       "      <td>NaN</td>\n",
       "      <td>NaN</td>\n",
       "      <td>NaN</td>\n",
       "      <td>NaN</td>\n",
       "      <td>NaN</td>\n",
       "      <td>NaN</td>\n",
       "    </tr>\n",
       "    <tr>\n",
       "      <th>1350</th>\n",
       "      <td>1350</td>\n",
       "      <td>\\t\\t</td>\n",
       "      <td>NaN</td>\n",
       "      <td>NaN</td>\n",
       "      <td>NaN</td>\n",
       "      <td>NaN</td>\n",
       "      <td>NaN</td>\n",
       "      <td>NaN</td>\n",
       "      <td>NaN</td>\n",
       "      <td>NaN</td>\n",
       "      <td>NaN</td>\n",
       "    </tr>\n",
       "    <tr>\n",
       "      <th>1351</th>\n",
       "      <td>1351</td>\n",
       "      <td>\\t</td>\n",
       "      <td>NaN</td>\n",
       "      <td>NaN</td>\n",
       "      <td>NaN</td>\n",
       "      <td>NaN</td>\n",
       "      <td>NaN</td>\n",
       "      <td>NaN</td>\n",
       "      <td>NaN</td>\n",
       "      <td>NaN</td>\n",
       "      <td>NaN</td>\n",
       "    </tr>\n",
       "    <tr>\n",
       "      <th>1352</th>\n",
       "      <td>1352</td>\n",
       "      <td>\\t</td>\n",
       "      <td>NaN</td>\n",
       "      <td>NaN</td>\n",
       "      <td>NaN</td>\n",
       "      <td>NaN</td>\n",
       "      <td>NaN</td>\n",
       "      <td>NaN</td>\n",
       "      <td>NaN</td>\n",
       "      <td>NaN</td>\n",
       "      <td>NaN</td>\n",
       "    </tr>\n",
       "  </tbody>\n",
       "</table>\n",
       "<p>1353 rows × 11 columns</p>\n",
       "</div>"
      ],
      "text/plain": [
       "      Unnamed: 0 \\t\\t지점번호  지점명          일시  평균기온(℃)  평균최고기온(℃)  최고기온(℃)  \\\n",
       "0              0  \\t\\t108   서울  1907-10-01     13.9       20.2     25.4   \n",
       "1              1  \\t\\t108   서울  1907-11-01      5.3       10.2     21.3   \n",
       "2              2  \\t\\t108   서울  1907-12-01     -3.9        0.8      9.0   \n",
       "3              3  \\t\\t108   서울  1908-01-01     -3.5        0.1      6.2   \n",
       "4              4  \\t\\t108   서울  1908-02-01     -4.0        0.8      8.4   \n",
       "...          ...      ...  ...         ...      ...        ...      ...   \n",
       "1348        1348       \\t  NaN         NaN      NaN        NaN      NaN   \n",
       "1349        1349       \\t  NaN         NaN      NaN        NaN      NaN   \n",
       "1350        1350     \\t\\t  NaN         NaN      NaN        NaN      NaN   \n",
       "1351        1351       \\t  NaN         NaN      NaN        NaN      NaN   \n",
       "1352        1352       \\t  NaN         NaN      NaN        NaN      NaN   \n",
       "\n",
       "        \\t최고기온일자  평균최저기온(℃)  최저기온(℃)      최저기온일자  \n",
       "0     1907-10-05        8.3      3.3  1907-10-24  \n",
       "1     1907-11-01        0.6     -8.9  1907-11-30  \n",
       "2     1907-12-13       -8.7    -20.1  1907-12-23  \n",
       "3     1908-01-31       -7.5    -14.3  1908-01-22  \n",
       "4     1908-02-27       -8.8    -15.8  1908-02-07  \n",
       "...          ...        ...      ...         ...  \n",
       "1348         NaN        NaN      NaN         NaN  \n",
       "1349         NaN        NaN      NaN         NaN  \n",
       "1350         NaN        NaN      NaN         NaN  \n",
       "1351         NaN        NaN      NaN         NaN  \n",
       "1352         NaN        NaN      NaN         NaN  \n",
       "\n",
       "[1353 rows x 11 columns]"
      ]
     },
     "execution_count": 14,
     "metadata": {},
     "output_type": "execute_result"
    }
   ],
   "source": [
    "pd.read_csv(\"C:\\workspace\\python\\WASSUP\\\\file이름.csv\")"
   ]
  },
  {
   "cell_type": "code",
   "execution_count": 19,
   "id": "dc8b86e8",
   "metadata": {
    "ExecuteTime": {
     "end_time": "2023-12-19T10:47:52.944345Z",
     "start_time": "2023-12-19T10:47:52.937423Z"
    }
   },
   "outputs": [
    {
     "data": {
      "text/plain": [
       "'1908-01-01'"
      ]
     },
     "execution_count": 19,
     "metadata": {},
     "output_type": "execute_result"
    }
   ],
   "source": [
    "df.loc[3,\"일시\"]"
   ]
  },
  {
   "cell_type": "code",
   "execution_count": 42,
   "id": "d15378e0",
   "metadata": {
    "ExecuteTime": {
     "end_time": "2023-12-19T10:59:04.351754Z",
     "start_time": "2023-12-19T10:59:04.324429Z"
    }
   },
   "outputs": [
    {
     "data": {
      "text/html": [
       "<div>\n",
       "<style scoped>\n",
       "    .dataframe tbody tr th:only-of-type {\n",
       "        vertical-align: middle;\n",
       "    }\n",
       "\n",
       "    .dataframe tbody tr th {\n",
       "        vertical-align: top;\n",
       "    }\n",
       "\n",
       "    .dataframe thead th {\n",
       "        text-align: right;\n",
       "    }\n",
       "</style>\n",
       "<table border=\"1\" class=\"dataframe\">\n",
       "  <thead>\n",
       "    <tr style=\"text-align: right;\">\n",
       "      <th></th>\n",
       "      <th>\\t\\t지점번호</th>\n",
       "      <th>지점명</th>\n",
       "      <th>일시</th>\n",
       "      <th>평균기온(℃)</th>\n",
       "      <th>평균최고기온(℃)</th>\n",
       "      <th>최고기온(℃)</th>\n",
       "      <th>\\t최고기온일자</th>\n",
       "      <th>평균최저기온(℃)</th>\n",
       "      <th>최저기온(℃)</th>\n",
       "      <th>최저기온일자</th>\n",
       "    </tr>\n",
       "  </thead>\n",
       "  <tbody>\n",
       "    <tr>\n",
       "      <th>0</th>\n",
       "      <td>\\t\\t108</td>\n",
       "      <td>서울</td>\n",
       "      <td>1907-10-01</td>\n",
       "      <td>13.9</td>\n",
       "      <td>20.2</td>\n",
       "      <td>25.4</td>\n",
       "      <td>1907-10-05</td>\n",
       "      <td>8.3</td>\n",
       "      <td>3.3</td>\n",
       "      <td>1907-10-24</td>\n",
       "    </tr>\n",
       "    <tr>\n",
       "      <th>1</th>\n",
       "      <td>\\t\\t108</td>\n",
       "      <td>서울</td>\n",
       "      <td>1907-11-01</td>\n",
       "      <td>5.3</td>\n",
       "      <td>10.2</td>\n",
       "      <td>21.3</td>\n",
       "      <td>1907-11-01</td>\n",
       "      <td>0.6</td>\n",
       "      <td>-8.9</td>\n",
       "      <td>1907-11-30</td>\n",
       "    </tr>\n",
       "    <tr>\n",
       "      <th>2</th>\n",
       "      <td>\\t\\t108</td>\n",
       "      <td>서울</td>\n",
       "      <td>1907-12-01</td>\n",
       "      <td>-3.9</td>\n",
       "      <td>0.8</td>\n",
       "      <td>9.0</td>\n",
       "      <td>1907-12-13</td>\n",
       "      <td>-8.7</td>\n",
       "      <td>-20.1</td>\n",
       "      <td>1907-12-23</td>\n",
       "    </tr>\n",
       "    <tr>\n",
       "      <th>3</th>\n",
       "      <td>\\t\\t108</td>\n",
       "      <td>서울</td>\n",
       "      <td>1908-01-01</td>\n",
       "      <td>-3.5</td>\n",
       "      <td>0.1</td>\n",
       "      <td>6.2</td>\n",
       "      <td>1908-01-31</td>\n",
       "      <td>-7.5</td>\n",
       "      <td>-14.3</td>\n",
       "      <td>1908-01-22</td>\n",
       "    </tr>\n",
       "    <tr>\n",
       "      <th>4</th>\n",
       "      <td>\\t\\t108</td>\n",
       "      <td>서울</td>\n",
       "      <td>1908-02-01</td>\n",
       "      <td>-4.0</td>\n",
       "      <td>0.8</td>\n",
       "      <td>8.4</td>\n",
       "      <td>1908-02-27</td>\n",
       "      <td>-8.8</td>\n",
       "      <td>-15.8</td>\n",
       "      <td>1908-02-07</td>\n",
       "    </tr>\n",
       "    <tr>\n",
       "      <th>...</th>\n",
       "      <td>...</td>\n",
       "      <td>...</td>\n",
       "      <td>...</td>\n",
       "      <td>...</td>\n",
       "      <td>...</td>\n",
       "      <td>...</td>\n",
       "      <td>...</td>\n",
       "      <td>...</td>\n",
       "      <td>...</td>\n",
       "      <td>...</td>\n",
       "    </tr>\n",
       "    <tr>\n",
       "      <th>1348</th>\n",
       "      <td>\\t</td>\n",
       "      <td>NaN</td>\n",
       "      <td>NaN</td>\n",
       "      <td>NaN</td>\n",
       "      <td>NaN</td>\n",
       "      <td>NaN</td>\n",
       "      <td>NaN</td>\n",
       "      <td>NaN</td>\n",
       "      <td>NaN</td>\n",
       "      <td>NaN</td>\n",
       "    </tr>\n",
       "    <tr>\n",
       "      <th>1349</th>\n",
       "      <td>\\t</td>\n",
       "      <td>NaN</td>\n",
       "      <td>NaN</td>\n",
       "      <td>NaN</td>\n",
       "      <td>NaN</td>\n",
       "      <td>NaN</td>\n",
       "      <td>NaN</td>\n",
       "      <td>NaN</td>\n",
       "      <td>NaN</td>\n",
       "      <td>NaN</td>\n",
       "    </tr>\n",
       "    <tr>\n",
       "      <th>1350</th>\n",
       "      <td>\\t\\t</td>\n",
       "      <td>NaN</td>\n",
       "      <td>NaN</td>\n",
       "      <td>NaN</td>\n",
       "      <td>NaN</td>\n",
       "      <td>NaN</td>\n",
       "      <td>NaN</td>\n",
       "      <td>NaN</td>\n",
       "      <td>NaN</td>\n",
       "      <td>NaN</td>\n",
       "    </tr>\n",
       "    <tr>\n",
       "      <th>1351</th>\n",
       "      <td>\\t</td>\n",
       "      <td>NaN</td>\n",
       "      <td>NaN</td>\n",
       "      <td>NaN</td>\n",
       "      <td>NaN</td>\n",
       "      <td>NaN</td>\n",
       "      <td>NaN</td>\n",
       "      <td>NaN</td>\n",
       "      <td>NaN</td>\n",
       "      <td>NaN</td>\n",
       "    </tr>\n",
       "    <tr>\n",
       "      <th>1352</th>\n",
       "      <td>\\t</td>\n",
       "      <td>NaN</td>\n",
       "      <td>NaN</td>\n",
       "      <td>NaN</td>\n",
       "      <td>NaN</td>\n",
       "      <td>NaN</td>\n",
       "      <td>NaN</td>\n",
       "      <td>NaN</td>\n",
       "      <td>NaN</td>\n",
       "      <td>NaN</td>\n",
       "    </tr>\n",
       "  </tbody>\n",
       "</table>\n",
       "<p>1353 rows × 10 columns</p>\n",
       "</div>"
      ],
      "text/plain": [
       "     \\t\\t지점번호  지점명          일시  평균기온(℃)  평균최고기온(℃)  최고기온(℃)    \\t최고기온일자  \\\n",
       "0     \\t\\t108   서울  1907-10-01     13.9       20.2     25.4  1907-10-05   \n",
       "1     \\t\\t108   서울  1907-11-01      5.3       10.2     21.3  1907-11-01   \n",
       "2     \\t\\t108   서울  1907-12-01     -3.9        0.8      9.0  1907-12-13   \n",
       "3     \\t\\t108   서울  1908-01-01     -3.5        0.1      6.2  1908-01-31   \n",
       "4     \\t\\t108   서울  1908-02-01     -4.0        0.8      8.4  1908-02-27   \n",
       "...       ...  ...         ...      ...        ...      ...         ...   \n",
       "1348       \\t  NaN         NaN      NaN        NaN      NaN         NaN   \n",
       "1349       \\t  NaN         NaN      NaN        NaN      NaN         NaN   \n",
       "1350     \\t\\t  NaN         NaN      NaN        NaN      NaN         NaN   \n",
       "1351       \\t  NaN         NaN      NaN        NaN      NaN         NaN   \n",
       "1352       \\t  NaN         NaN      NaN        NaN      NaN         NaN   \n",
       "\n",
       "      평균최저기온(℃)  최저기온(℃)      최저기온일자  \n",
       "0           8.3      3.3  1907-10-24  \n",
       "1           0.6     -8.9  1907-11-30  \n",
       "2          -8.7    -20.1  1907-12-23  \n",
       "3          -7.5    -14.3  1908-01-22  \n",
       "4          -8.8    -15.8  1908-02-07  \n",
       "...         ...      ...         ...  \n",
       "1348        NaN      NaN         NaN  \n",
       "1349        NaN      NaN         NaN  \n",
       "1350        NaN      NaN         NaN  \n",
       "1351        NaN      NaN         NaN  \n",
       "1352        NaN      NaN         NaN  \n",
       "\n",
       "[1353 rows x 10 columns]"
      ]
     },
     "execution_count": 42,
     "metadata": {},
     "output_type": "execute_result"
    }
   ],
   "source": [
    "df.iloc[df.shape[0]-1,df.shape[1]-1]\n"
   ]
  },
  {
   "cell_type": "code",
   "execution_count": 62,
   "id": "c13e3319",
   "metadata": {
    "ExecuteTime": {
     "end_time": "2023-12-19T11:10:26.219752Z",
     "start_time": "2023-12-19T11:10:26.214398Z"
    }
   },
   "outputs": [
    {
     "data": {
      "text/plain": [
       "10"
      ]
     },
     "execution_count": 62,
     "metadata": {},
     "output_type": "execute_result"
    }
   ],
   "source": [
    "df.loc[0].count()"
   ]
  },
  {
   "cell_type": "code",
   "execution_count": 67,
   "id": "7a8887bc",
   "metadata": {
    "ExecuteTime": {
     "end_time": "2023-12-19T11:12:05.416778Z",
     "start_time": "2023-12-19T11:12:05.382466Z"
    }
   },
   "outputs": [
    {
     "data": {
      "text/plain": [
       "\\t\\t지점번호  지점명  일시          평균기온(℃)  평균최고기온(℃)  최고기온(℃)  \\t최고기온일자    평균최저기온(℃)  최저기온(℃)  최저기온일자    \n",
       "\\t\\t108   서울   1907-10-01   13.9    20.2       25.4     1907-10-05   8.3        3.3     1907-10-24    1\n",
       "               1984-11-01   8.1     12.9       21.2     1984-11-06   4.1       -5.7     1984-11-28    1\n",
       "               1984-09-01   20.1    25.0       28.7     1984-09-07   16.3       10.1    1984-09-26    1\n",
       "               1984-08-01   26.3    30.5       35.2     1984-08-10   23.3       18.9    1984-08-17    1\n",
       "               1984-07-01   25.2    29.5       34.7     1984-07-31   22.0       19.2    1984-07-17    1\n",
       "                                                                                                     ..\n",
       "               1944-05-01   15.9    22.4       29.3     1944-05-29   10.8       4.6     1944-05-06    1\n",
       "               1944-04-01   9.6     16.1       23.4     1944-04-30   4.1       -0.9     1944-04-04    1\n",
       "               1944-03-01   3.2     8.9        18.2     1944-03-27  -1.8       -6.6     1944-03-07    1\n",
       "               1944-02-01  -2.4     2.7        9.7      1944-02-29  -8.0       -13.4    1944-02-08    1\n",
       "               2020-12-01  -0.2     4.0        9.4      2020-12-11  -4.1       -11.2    2020-12-16    1\n",
       "Name: count, Length: 1320, dtype: int64"
      ]
     },
     "execution_count": 67,
     "metadata": {},
     "output_type": "execute_result"
    }
   ],
   "source": [
    "df.value_counts()"
   ]
  },
  {
   "cell_type": "code",
   "execution_count": 188,
   "id": "bc9eec62",
   "metadata": {
    "ExecuteTime": {
     "end_time": "2023-12-19T12:35:23.160234Z",
     "start_time": "2023-12-19T12:35:23.152382Z"
    }
   },
   "outputs": [
    {
     "data": {
      "text/plain": [
       "0    3\n",
       "1    1\n",
       "2    0\n",
       "dtype: int32"
      ]
     },
     "execution_count": 188,
     "metadata": {},
     "output_type": "execute_result"
    }
   ],
   "source": [
    "#np.random.seed(10000000)\n",
    "s2 = pd.Series(np.random.randint(10, size=100))\n",
    "s2.head(3)"
   ]
  },
  {
   "cell_type": "code",
   "execution_count": 124,
   "id": "50ebbaac",
   "metadata": {
    "ExecuteTime": {
     "end_time": "2023-12-19T11:22:01.157949Z",
     "start_time": "2023-12-19T11:22:01.150373Z"
    }
   },
   "outputs": [
    {
     "data": {
      "text/plain": [
       "1    14\n",
       "5    15\n",
       "4    15\n",
       "3    16\n",
       "0    18\n",
       "2    22\n",
       "Name: count, dtype: int64"
      ]
     },
     "execution_count": 124,
     "metadata": {},
     "output_type": "execute_result"
    }
   ],
   "source": [
    "s2.value_counts().sort_values(ascending=True) #시리즈에서는"
   ]
  },
  {
   "cell_type": "code",
   "execution_count": 132,
   "id": "1a2bd6b1",
   "metadata": {
    "ExecuteTime": {
     "end_time": "2023-12-19T11:27:38.912951Z",
     "start_time": "2023-12-19T11:27:38.906774Z"
    }
   },
   "outputs": [
    {
     "data": {
      "text/plain": [
       "241"
      ]
     },
     "execution_count": 132,
     "metadata": {},
     "output_type": "execute_result"
    }
   ],
   "source": [
    "s2.sum()"
   ]
  },
  {
   "cell_type": "code",
   "execution_count": 131,
   "id": "e652c9d2",
   "metadata": {
    "ExecuteTime": {
     "end_time": "2023-12-19T11:26:37.981775Z",
     "start_time": "2023-12-19T11:26:37.951371Z"
    }
   },
   "outputs": [
    {
     "data": {
      "text/html": [
       "<div>\n",
       "<style scoped>\n",
       "    .dataframe tbody tr th:only-of-type {\n",
       "        vertical-align: middle;\n",
       "    }\n",
       "\n",
       "    .dataframe tbody tr th {\n",
       "        vertical-align: top;\n",
       "    }\n",
       "\n",
       "    .dataframe thead th {\n",
       "        text-align: right;\n",
       "    }\n",
       "</style>\n",
       "<table border=\"1\" class=\"dataframe\">\n",
       "  <thead>\n",
       "    <tr style=\"text-align: right;\">\n",
       "      <th></th>\n",
       "      <th>\\t\\t지점번호</th>\n",
       "      <th>지점명</th>\n",
       "      <th>일시</th>\n",
       "      <th>평균기온(℃)</th>\n",
       "      <th>평균최고기온(℃)</th>\n",
       "      <th>최고기온(℃)</th>\n",
       "      <th>\\t최고기온일자</th>\n",
       "      <th>평균최저기온(℃)</th>\n",
       "      <th>최저기온(℃)</th>\n",
       "      <th>최저기온일자</th>\n",
       "    </tr>\n",
       "  </thead>\n",
       "  <tbody>\n",
       "    <tr>\n",
       "      <th>1316</th>\n",
       "      <td>\\t\\t108</td>\n",
       "      <td>서울</td>\n",
       "      <td>2018-08-01</td>\n",
       "      <td>28.8</td>\n",
       "      <td>33.3</td>\n",
       "      <td>39.6</td>\n",
       "      <td>2018-08-01</td>\n",
       "      <td>25.2</td>\n",
       "      <td>20.2</td>\n",
       "      <td>2018-08-27</td>\n",
       "    </tr>\n",
       "    <tr>\n",
       "      <th>1027</th>\n",
       "      <td>\\t\\t108</td>\n",
       "      <td>서울</td>\n",
       "      <td>1994-07-01</td>\n",
       "      <td>28.5</td>\n",
       "      <td>32.6</td>\n",
       "      <td>38.4</td>\n",
       "      <td>1994-07-24</td>\n",
       "      <td>25.3</td>\n",
       "      <td>21.3</td>\n",
       "      <td>1994-07-02</td>\n",
       "    </tr>\n",
       "    <tr>\n",
       "      <th>1292</th>\n",
       "      <td>\\t\\t108</td>\n",
       "      <td>서울</td>\n",
       "      <td>2016-08-01</td>\n",
       "      <td>28.0</td>\n",
       "      <td>32.6</td>\n",
       "      <td>36.6</td>\n",
       "      <td>2016-08-21</td>\n",
       "      <td>24.5</td>\n",
       "      <td>16.1</td>\n",
       "      <td>2016-08-31</td>\n",
       "    </tr>\n",
       "    <tr>\n",
       "      <th>1315</th>\n",
       "      <td>\\t\\t108</td>\n",
       "      <td>서울</td>\n",
       "      <td>2018-07-01</td>\n",
       "      <td>27.8</td>\n",
       "      <td>32.1</td>\n",
       "      <td>38.3</td>\n",
       "      <td>2018-07-31</td>\n",
       "      <td>24.2</td>\n",
       "      <td>17.7</td>\n",
       "      <td>2018-07-08</td>\n",
       "    </tr>\n",
       "    <tr>\n",
       "      <th>430</th>\n",
       "      <td>\\t\\t108</td>\n",
       "      <td>서울</td>\n",
       "      <td>1943-08-01</td>\n",
       "      <td>27.8</td>\n",
       "      <td>34.6</td>\n",
       "      <td>38.2</td>\n",
       "      <td>1943-08-24</td>\n",
       "      <td>23.1</td>\n",
       "      <td>15.4</td>\n",
       "      <td>1943-08-31</td>\n",
       "    </tr>\n",
       "    <tr>\n",
       "      <th>...</th>\n",
       "      <td>...</td>\n",
       "      <td>...</td>\n",
       "      <td>...</td>\n",
       "      <td>...</td>\n",
       "      <td>...</td>\n",
       "      <td>...</td>\n",
       "      <td>...</td>\n",
       "      <td>...</td>\n",
       "      <td>...</td>\n",
       "      <td>...</td>\n",
       "    </tr>\n",
       "    <tr>\n",
       "      <th>1348</th>\n",
       "      <td>\\t</td>\n",
       "      <td>NaN</td>\n",
       "      <td>NaN</td>\n",
       "      <td>NaN</td>\n",
       "      <td>NaN</td>\n",
       "      <td>NaN</td>\n",
       "      <td>NaN</td>\n",
       "      <td>NaN</td>\n",
       "      <td>NaN</td>\n",
       "      <td>NaN</td>\n",
       "    </tr>\n",
       "    <tr>\n",
       "      <th>1349</th>\n",
       "      <td>\\t</td>\n",
       "      <td>NaN</td>\n",
       "      <td>NaN</td>\n",
       "      <td>NaN</td>\n",
       "      <td>NaN</td>\n",
       "      <td>NaN</td>\n",
       "      <td>NaN</td>\n",
       "      <td>NaN</td>\n",
       "      <td>NaN</td>\n",
       "      <td>NaN</td>\n",
       "    </tr>\n",
       "    <tr>\n",
       "      <th>1350</th>\n",
       "      <td>\\t\\t</td>\n",
       "      <td>NaN</td>\n",
       "      <td>NaN</td>\n",
       "      <td>NaN</td>\n",
       "      <td>NaN</td>\n",
       "      <td>NaN</td>\n",
       "      <td>NaN</td>\n",
       "      <td>NaN</td>\n",
       "      <td>NaN</td>\n",
       "      <td>NaN</td>\n",
       "    </tr>\n",
       "    <tr>\n",
       "      <th>1351</th>\n",
       "      <td>\\t</td>\n",
       "      <td>NaN</td>\n",
       "      <td>NaN</td>\n",
       "      <td>NaN</td>\n",
       "      <td>NaN</td>\n",
       "      <td>NaN</td>\n",
       "      <td>NaN</td>\n",
       "      <td>NaN</td>\n",
       "      <td>NaN</td>\n",
       "      <td>NaN</td>\n",
       "    </tr>\n",
       "    <tr>\n",
       "      <th>1352</th>\n",
       "      <td>\\t</td>\n",
       "      <td>NaN</td>\n",
       "      <td>NaN</td>\n",
       "      <td>NaN</td>\n",
       "      <td>NaN</td>\n",
       "      <td>NaN</td>\n",
       "      <td>NaN</td>\n",
       "      <td>NaN</td>\n",
       "      <td>NaN</td>\n",
       "      <td>NaN</td>\n",
       "    </tr>\n",
       "  </tbody>\n",
       "</table>\n",
       "<p>1353 rows × 10 columns</p>\n",
       "</div>"
      ],
      "text/plain": [
       "     \\t\\t지점번호  지점명          일시  평균기온(℃)  평균최고기온(℃)  최고기온(℃)    \\t최고기온일자  \\\n",
       "1316  \\t\\t108   서울  2018-08-01     28.8       33.3     39.6  2018-08-01   \n",
       "1027  \\t\\t108   서울  1994-07-01     28.5       32.6     38.4  1994-07-24   \n",
       "1292  \\t\\t108   서울  2016-08-01     28.0       32.6     36.6  2016-08-21   \n",
       "1315  \\t\\t108   서울  2018-07-01     27.8       32.1     38.3  2018-07-31   \n",
       "430   \\t\\t108   서울  1943-08-01     27.8       34.6     38.2  1943-08-24   \n",
       "...       ...  ...         ...      ...        ...      ...         ...   \n",
       "1348       \\t  NaN         NaN      NaN        NaN      NaN         NaN   \n",
       "1349       \\t  NaN         NaN      NaN        NaN      NaN         NaN   \n",
       "1350     \\t\\t  NaN         NaN      NaN        NaN      NaN         NaN   \n",
       "1351       \\t  NaN         NaN      NaN        NaN      NaN         NaN   \n",
       "1352       \\t  NaN         NaN      NaN        NaN      NaN         NaN   \n",
       "\n",
       "      평균최저기온(℃)  최저기온(℃)      최저기온일자  \n",
       "1316       25.2     20.2  2018-08-27  \n",
       "1027       25.3     21.3  1994-07-02  \n",
       "1292       24.5     16.1  2016-08-31  \n",
       "1315       24.2     17.7  2018-07-08  \n",
       "430        23.1     15.4  1943-08-31  \n",
       "...         ...      ...         ...  \n",
       "1348        NaN      NaN         NaN  \n",
       "1349        NaN      NaN         NaN  \n",
       "1350        NaN      NaN         NaN  \n",
       "1351        NaN      NaN         NaN  \n",
       "1352        NaN      NaN         NaN  \n",
       "\n",
       "[1353 rows x 10 columns]"
      ]
     },
     "execution_count": 131,
     "metadata": {},
     "output_type": "execute_result"
    }
   ],
   "source": [
    "df.sort_values(by=[\"평균기온(℃)\",\"최고기온(℃)\"],ascending=False)"
   ]
  },
  {
   "cell_type": "code",
   "execution_count": 141,
   "id": "fdeb67a2",
   "metadata": {
    "ExecuteTime": {
     "end_time": "2023-12-19T11:33:16.093764Z",
     "start_time": "2023-12-19T11:33:16.083373Z"
    }
   },
   "outputs": [
    {
     "data": {
      "text/plain": [
       "평균기온(℃)      15425.0\n",
       "평균최고기온(℃)    22032.9\n",
       "최고기온(℃)      30864.2\n",
       "dtype: float64"
      ]
     },
     "execution_count": 141,
     "metadata": {},
     "output_type": "execute_result"
    }
   ],
   "source": [
    "df[[\"평균기온(℃)\",\"평균최고기온(℃)\",\"최고기온(℃)\"]].sum(axis=0)"
   ]
  },
  {
   "cell_type": "code",
   "execution_count": 145,
   "id": "324e9dd2",
   "metadata": {
    "ExecuteTime": {
     "end_time": "2023-12-19T11:34:05.819248Z",
     "start_time": "2023-12-19T11:34:05.793370Z"
    }
   },
   "outputs": [
    {
     "data": {
      "text/html": [
       "<div>\n",
       "<style scoped>\n",
       "    .dataframe tbody tr th:only-of-type {\n",
       "        vertical-align: middle;\n",
       "    }\n",
       "\n",
       "    .dataframe tbody tr th {\n",
       "        vertical-align: top;\n",
       "    }\n",
       "\n",
       "    .dataframe thead th {\n",
       "        text-align: right;\n",
       "    }\n",
       "</style>\n",
       "<table border=\"1\" class=\"dataframe\">\n",
       "  <thead>\n",
       "    <tr style=\"text-align: right;\">\n",
       "      <th></th>\n",
       "      <th>\\t\\t지점번호</th>\n",
       "      <th>지점명</th>\n",
       "      <th>일시</th>\n",
       "      <th>평균기온(℃)</th>\n",
       "      <th>평균최고기온(℃)</th>\n",
       "      <th>최고기온(℃)</th>\n",
       "      <th>\\t최고기온일자</th>\n",
       "      <th>평균최저기온(℃)</th>\n",
       "      <th>최저기온(℃)</th>\n",
       "      <th>최저기온일자</th>\n",
       "    </tr>\n",
       "  </thead>\n",
       "  <tbody>\n",
       "    <tr>\n",
       "      <th>0</th>\n",
       "      <td>\\t\\t108</td>\n",
       "      <td>서울</td>\n",
       "      <td>1907-10-01</td>\n",
       "      <td>13.9</td>\n",
       "      <td>20.2</td>\n",
       "      <td>25.4</td>\n",
       "      <td>1907-10-05</td>\n",
       "      <td>8.3</td>\n",
       "      <td>3.3</td>\n",
       "      <td>1907-10-24</td>\n",
       "    </tr>\n",
       "    <tr>\n",
       "      <th>1</th>\n",
       "      <td>\\t\\t108</td>\n",
       "      <td>서울</td>\n",
       "      <td>1907-11-01</td>\n",
       "      <td>5.3</td>\n",
       "      <td>10.2</td>\n",
       "      <td>21.3</td>\n",
       "      <td>1907-11-01</td>\n",
       "      <td>0.6</td>\n",
       "      <td>-8.9</td>\n",
       "      <td>1907-11-30</td>\n",
       "    </tr>\n",
       "    <tr>\n",
       "      <th>2</th>\n",
       "      <td>\\t\\t108</td>\n",
       "      <td>서울</td>\n",
       "      <td>1907-12-01</td>\n",
       "      <td>-3.9</td>\n",
       "      <td>0.8</td>\n",
       "      <td>9.0</td>\n",
       "      <td>1907-12-13</td>\n",
       "      <td>-8.7</td>\n",
       "      <td>-20.1</td>\n",
       "      <td>1907-12-23</td>\n",
       "    </tr>\n",
       "    <tr>\n",
       "      <th>3</th>\n",
       "      <td>\\t\\t108</td>\n",
       "      <td>서울</td>\n",
       "      <td>1908-01-01</td>\n",
       "      <td>-3.5</td>\n",
       "      <td>0.1</td>\n",
       "      <td>6.2</td>\n",
       "      <td>1908-01-31</td>\n",
       "      <td>-7.5</td>\n",
       "      <td>-14.3</td>\n",
       "      <td>1908-01-22</td>\n",
       "    </tr>\n",
       "    <tr>\n",
       "      <th>4</th>\n",
       "      <td>\\t\\t108</td>\n",
       "      <td>서울</td>\n",
       "      <td>1908-02-01</td>\n",
       "      <td>-4.0</td>\n",
       "      <td>0.8</td>\n",
       "      <td>8.4</td>\n",
       "      <td>1908-02-27</td>\n",
       "      <td>-8.8</td>\n",
       "      <td>-15.8</td>\n",
       "      <td>1908-02-07</td>\n",
       "    </tr>\n",
       "    <tr>\n",
       "      <th>5</th>\n",
       "      <td>\\t\\t108</td>\n",
       "      <td>서울</td>\n",
       "      <td>1908-03-01</td>\n",
       "      <td>2.9</td>\n",
       "      <td>8.1</td>\n",
       "      <td>18.2</td>\n",
       "      <td>1908-03-29</td>\n",
       "      <td>-1.7</td>\n",
       "      <td>-7.4</td>\n",
       "      <td>1908-03-02</td>\n",
       "    </tr>\n",
       "    <tr>\n",
       "      <th>6</th>\n",
       "      <td>\\t\\t108</td>\n",
       "      <td>서울</td>\n",
       "      <td>1908-04-01</td>\n",
       "      <td>10.1</td>\n",
       "      <td>16.5</td>\n",
       "      <td>22.9</td>\n",
       "      <td>1908-04-20</td>\n",
       "      <td>4.6</td>\n",
       "      <td>-0.7</td>\n",
       "      <td>1908-04-07</td>\n",
       "    </tr>\n",
       "    <tr>\n",
       "      <th>7</th>\n",
       "      <td>\\t\\t108</td>\n",
       "      <td>서울</td>\n",
       "      <td>1908-05-01</td>\n",
       "      <td>14.9</td>\n",
       "      <td>21.1</td>\n",
       "      <td>25.2</td>\n",
       "      <td>1908-05-25</td>\n",
       "      <td>10.0</td>\n",
       "      <td>5.2</td>\n",
       "      <td>1908-05-04</td>\n",
       "    </tr>\n",
       "    <tr>\n",
       "      <th>8</th>\n",
       "      <td>\\t\\t108</td>\n",
       "      <td>서울</td>\n",
       "      <td>1908-06-01</td>\n",
       "      <td>20.7</td>\n",
       "      <td>26.8</td>\n",
       "      <td>32.4</td>\n",
       "      <td>1908-06-23</td>\n",
       "      <td>16.3</td>\n",
       "      <td>11.6</td>\n",
       "      <td>1908-06-08</td>\n",
       "    </tr>\n",
       "    <tr>\n",
       "      <th>9</th>\n",
       "      <td>\\t\\t108</td>\n",
       "      <td>서울</td>\n",
       "      <td>1908-07-01</td>\n",
       "      <td>23.5</td>\n",
       "      <td>27.6</td>\n",
       "      <td>32.9</td>\n",
       "      <td>1908-07-24</td>\n",
       "      <td>20.3</td>\n",
       "      <td>14.7</td>\n",
       "      <td>1908-07-06</td>\n",
       "    </tr>\n",
       "  </tbody>\n",
       "</table>\n",
       "</div>"
      ],
      "text/plain": [
       "  \\t\\t지점번호 지점명          일시  평균기온(℃)  평균최고기온(℃)  최고기온(℃)    \\t최고기온일자  \\\n",
       "0  \\t\\t108  서울  1907-10-01     13.9       20.2     25.4  1907-10-05   \n",
       "1  \\t\\t108  서울  1907-11-01      5.3       10.2     21.3  1907-11-01   \n",
       "2  \\t\\t108  서울  1907-12-01     -3.9        0.8      9.0  1907-12-13   \n",
       "3  \\t\\t108  서울  1908-01-01     -3.5        0.1      6.2  1908-01-31   \n",
       "4  \\t\\t108  서울  1908-02-01     -4.0        0.8      8.4  1908-02-27   \n",
       "5  \\t\\t108  서울  1908-03-01      2.9        8.1     18.2  1908-03-29   \n",
       "6  \\t\\t108  서울  1908-04-01     10.1       16.5     22.9  1908-04-20   \n",
       "7  \\t\\t108  서울  1908-05-01     14.9       21.1     25.2  1908-05-25   \n",
       "8  \\t\\t108  서울  1908-06-01     20.7       26.8     32.4  1908-06-23   \n",
       "9  \\t\\t108  서울  1908-07-01     23.5       27.6     32.9  1908-07-24   \n",
       "\n",
       "   평균최저기온(℃)  최저기온(℃)      최저기온일자  \n",
       "0        8.3      3.3  1907-10-24  \n",
       "1        0.6     -8.9  1907-11-30  \n",
       "2       -8.7    -20.1  1907-12-23  \n",
       "3       -7.5    -14.3  1908-01-22  \n",
       "4       -8.8    -15.8  1908-02-07  \n",
       "5       -1.7     -7.4  1908-03-02  \n",
       "6        4.6     -0.7  1908-04-07  \n",
       "7       10.0      5.2  1908-05-04  \n",
       "8       16.3     11.6  1908-06-08  \n",
       "9       20.3     14.7  1908-07-06  "
      ]
     },
     "execution_count": 145,
     "metadata": {},
     "output_type": "execute_result"
    }
   ],
   "source": []
  },
  {
   "cell_type": "code",
   "execution_count": 146,
   "id": "e5c23305",
   "metadata": {
    "ExecuteTime": {
     "end_time": "2023-12-19T11:34:32.288069Z",
     "start_time": "2023-12-19T11:34:32.276938Z"
    }
   },
   "outputs": [
    {
     "data": {
      "text/html": [
       "<div>\n",
       "<style scoped>\n",
       "    .dataframe tbody tr th:only-of-type {\n",
       "        vertical-align: middle;\n",
       "    }\n",
       "\n",
       "    .dataframe tbody tr th {\n",
       "        vertical-align: top;\n",
       "    }\n",
       "\n",
       "    .dataframe thead th {\n",
       "        text-align: right;\n",
       "    }\n",
       "</style>\n",
       "<table border=\"1\" class=\"dataframe\">\n",
       "  <thead>\n",
       "    <tr style=\"text-align: right;\">\n",
       "      <th></th>\n",
       "      <th>A</th>\n",
       "      <th>B</th>\n",
       "      <th>C</th>\n",
       "    </tr>\n",
       "  </thead>\n",
       "  <tbody>\n",
       "    <tr>\n",
       "      <th>0</th>\n",
       "      <td>1</td>\n",
       "      <td>2</td>\n",
       "      <td>1</td>\n",
       "    </tr>\n",
       "    <tr>\n",
       "      <th>1</th>\n",
       "      <td>3</td>\n",
       "      <td>3</td>\n",
       "      <td>5</td>\n",
       "    </tr>\n",
       "    <tr>\n",
       "      <th>2</th>\n",
       "      <td>4</td>\n",
       "      <td>1</td>\n",
       "      <td>2</td>\n",
       "    </tr>\n",
       "    <tr>\n",
       "      <th>3</th>\n",
       "      <td>3</td>\n",
       "      <td>2</td>\n",
       "      <td>4</td>\n",
       "    </tr>\n",
       "    <tr>\n",
       "      <th>4</th>\n",
       "      <td>4</td>\n",
       "      <td>3</td>\n",
       "      <td>4</td>\n",
       "    </tr>\n",
       "  </tbody>\n",
       "</table>\n",
       "</div>"
      ],
      "text/plain": [
       "   A  B  C\n",
       "0  1  2  1\n",
       "1  3  3  5\n",
       "2  4  1  2\n",
       "3  3  2  4\n",
       "4  4  3  4"
      ]
     },
     "execution_count": 146,
     "metadata": {},
     "output_type": "execute_result"
    }
   ],
   "source": [
    "df3 = pd.DataFrame({\n",
    "    'A': [1, 3, 4, 3, 4],\n",
    "    'B': [2, 3, 1, 2, 3],\n",
    "    'C': [1, 5, 2, 4, 4]\n",
    "})\n",
    "df3"
   ]
  },
  {
   "cell_type": "code",
   "execution_count": 152,
   "id": "e222aea4",
   "metadata": {
    "ExecuteTime": {
     "end_time": "2023-12-19T11:40:34.630864Z",
     "start_time": "2023-12-19T11:40:34.618375Z"
    }
   },
   "outputs": [
    {
     "name": "stdout",
     "output_type": "stream",
     "text": [
      "A    1\n",
      "B    2\n",
      "C    1\n",
      "Name: 0, dtype: int64\n",
      "A    3\n",
      "B    3\n",
      "C    5\n",
      "Name: 1, dtype: int64\n",
      "A    4\n",
      "B    1\n",
      "C    2\n",
      "Name: 2, dtype: int64\n",
      "A    3\n",
      "B    2\n",
      "C    4\n",
      "Name: 3, dtype: int64\n",
      "A    4\n",
      "B    3\n",
      "C    4\n",
      "Name: 4, dtype: int64\n"
     ]
    },
    {
     "data": {
      "text/plain": [
       "0    None\n",
       "1    None\n",
       "2    None\n",
       "3    None\n",
       "4    None\n",
       "dtype: object"
      ]
     },
     "execution_count": 152,
     "metadata": {},
     "output_type": "execute_result"
    }
   ],
   "source": [
    "df3.apply(lambda x: print(x),axis=1)"
   ]
  },
  {
   "cell_type": "code",
   "execution_count": null,
   "id": "1ec182d1",
   "metadata": {},
   "outputs": [],
   "source": []
  },
  {
   "cell_type": "code",
   "execution_count": 2,
   "id": "ad9940bf",
   "metadata": {
    "ExecuteTime": {
     "end_time": "2023-12-20T06:03:50.776889Z",
     "start_time": "2023-12-20T06:03:50.771323Z"
    }
   },
   "outputs": [],
   "source": [
    "ages = [0, 2, 10, 21, 23, 37, 31, 61, 20, 41, 32, 101]"
   ]
  },
  {
   "cell_type": "code",
   "execution_count": 3,
   "id": "ad656fff",
   "metadata": {
    "ExecuteTime": {
     "end_time": "2023-12-20T06:03:58.920164Z",
     "start_time": "2023-12-20T06:03:58.891450Z"
    }
   },
   "outputs": [
    {
     "data": {
      "text/plain": [
       "[NaN, '미성년자', '미성년자', '청년', '청년', ..., '장년', '미성년자', '중년', '중년', NaN]\n",
       "Length: 12\n",
       "Categories (5, object): ['미성년자' < '청년' < '중년' < '장년' < '노년']"
      ]
     },
     "execution_count": 3,
     "metadata": {},
     "output_type": "execute_result"
    }
   ],
   "source": [
    "bins = [1, 20, 30, 50, 70, 100]\n",
    "labels = [\"미성년자\", \"청년\", \"중년\", \"장년\", \"노년\"]\n",
    "cats = pd.cut(ages, bins, labels=labels)\n",
    "cats"
   ]
  },
  {
   "cell_type": "code",
   "execution_count": 4,
   "id": "770bcf89",
   "metadata": {
    "ExecuteTime": {
     "end_time": "2023-12-20T06:14:32.571520Z",
     "start_time": "2023-12-20T06:14:32.557105Z"
    }
   },
   "outputs": [
    {
     "data": {
      "text/plain": [
       "['Q1', 'Q2', 'Q4', 'Q3', 'Q1', ..., 'Q1', 'Q2', 'Q3', 'Q4', 'Q1']\n",
       "Length: 1000\n",
       "Categories (4, object): ['Q1' < 'Q2' < 'Q3' < 'Q4']"
      ]
     },
     "execution_count": 4,
     "metadata": {},
     "output_type": "execute_result"
    }
   ],
   "source": [
    "data = np.random.randn(1000)\n",
    "cats = pd.qcut(data, 4, labels=[\"Q1\", \"Q2\", \"Q3\", \"Q4\"])\n",
    "cats"
   ]
  },
  {
   "cell_type": "code",
   "execution_count": null,
   "id": "33cdd49d",
   "metadata": {},
   "outputs": [],
   "source": []
  },
  {
   "cell_type": "code",
   "execution_count": 5,
   "id": "d8cc4313",
   "metadata": {
    "ExecuteTime": {
     "end_time": "2023-12-20T06:45:45.771293Z",
     "start_time": "2023-12-20T06:45:45.760162Z"
    }
   },
   "outputs": [
    {
     "data": {
      "text/plain": [
       "array([[0.85, 0.89, 0.84, 0.86, 0.12],\n",
       "       [0.65, 0.21, 0.09, 0.61, 0.24],\n",
       "       [0.71, 0.39, 0.74, 0.54, 0.15]])"
      ]
     },
     "execution_count": 5,
     "metadata": {},
     "output_type": "execute_result"
    }
   ],
   "source": [
    "np.round(np.random.rand(3, 5), 2)"
   ]
  },
  {
   "cell_type": "code",
   "execution_count": 6,
   "id": "a6e0fe89",
   "metadata": {
    "ExecuteTime": {
     "end_time": "2023-12-20T06:45:52.668867Z",
     "start_time": "2023-12-20T06:45:52.661157Z"
    }
   },
   "outputs": [
    {
     "data": {
      "text/plain": [
       "array([['A', 'B', 'C', 'D', 'E'],\n",
       "       ['0.45', '0.22', '0.74', '0.78', '0.99'],\n",
       "       ['0.62', '0.82', '0.29', '0.42', '0.02'],\n",
       "       ['0.13', '0.52', '0.37', '0.85', '0.5']], dtype='<U32')"
      ]
     },
     "execution_count": 6,
     "metadata": {},
     "output_type": "execute_result"
    }
   ],
   "source": [
    "np.vstack([list('ABCDE'), np.round(np.random.rand(3, 5), 2)])"
   ]
  },
  {
   "cell_type": "code",
   "execution_count": 7,
   "id": "92fb4b5f",
   "metadata": {
    "ExecuteTime": {
     "end_time": "2023-12-20T06:46:04.195431Z",
     "start_time": "2023-12-20T06:46:04.169147Z"
    }
   },
   "outputs": [
    {
     "data": {
      "text/html": [
       "<div>\n",
       "<style scoped>\n",
       "    .dataframe tbody tr th:only-of-type {\n",
       "        vertical-align: middle;\n",
       "    }\n",
       "\n",
       "    .dataframe tbody tr th {\n",
       "        vertical-align: top;\n",
       "    }\n",
       "\n",
       "    .dataframe thead th {\n",
       "        text-align: right;\n",
       "    }\n",
       "</style>\n",
       "<table border=\"1\" class=\"dataframe\">\n",
       "  <thead>\n",
       "    <tr style=\"text-align: right;\">\n",
       "      <th></th>\n",
       "      <th>C1</th>\n",
       "      <th>C2</th>\n",
       "      <th>C3</th>\n",
       "      <th>C4</th>\n",
       "    </tr>\n",
       "  </thead>\n",
       "  <tbody>\n",
       "    <tr>\n",
       "      <th>0</th>\n",
       "      <td>A</td>\n",
       "      <td>0.55</td>\n",
       "      <td>0.65</td>\n",
       "      <td>0.79</td>\n",
       "    </tr>\n",
       "    <tr>\n",
       "      <th>1</th>\n",
       "      <td>B</td>\n",
       "      <td>0.72</td>\n",
       "      <td>0.44</td>\n",
       "      <td>0.53</td>\n",
       "    </tr>\n",
       "    <tr>\n",
       "      <th>2</th>\n",
       "      <td>C</td>\n",
       "      <td>0.6</td>\n",
       "      <td>0.89</td>\n",
       "      <td>0.57</td>\n",
       "    </tr>\n",
       "    <tr>\n",
       "      <th>3</th>\n",
       "      <td>D</td>\n",
       "      <td>0.54</td>\n",
       "      <td>0.96</td>\n",
       "      <td>0.93</td>\n",
       "    </tr>\n",
       "    <tr>\n",
       "      <th>4</th>\n",
       "      <td>E</td>\n",
       "      <td>0.42</td>\n",
       "      <td>0.38</td>\n",
       "      <td>0.07</td>\n",
       "    </tr>\n",
       "  </tbody>\n",
       "</table>\n",
       "</div>"
      ],
      "text/plain": [
       "  C1    C2    C3    C4\n",
       "0  A  0.55  0.65  0.79\n",
       "1  B  0.72  0.44  0.53\n",
       "2  C   0.6  0.89  0.57\n",
       "3  D  0.54  0.96  0.93\n",
       "4  E  0.42  0.38  0.07"
      ]
     },
     "execution_count": 7,
     "metadata": {},
     "output_type": "execute_result"
    }
   ],
   "source": [
    "np.random.seed(0)\n",
    "df1 = pd.DataFrame(np.vstack([list('ABCDE'), np.round(np.random.rand(3, 5), 2)]).T, # transpose\n",
    "                   columns=[\"C1\", \"C2\", \"C3\", \"C4\"])\n",
    "df1"
   ]
  },
  {
   "cell_type": "code",
   "execution_count": 8,
   "id": "8a561592",
   "metadata": {
    "ExecuteTime": {
     "end_time": "2023-12-20T06:48:17.272540Z",
     "start_time": "2023-12-20T06:48:17.262021Z"
    }
   },
   "outputs": [
    {
     "data": {
      "text/html": [
       "<div>\n",
       "<style scoped>\n",
       "    .dataframe tbody tr th:only-of-type {\n",
       "        vertical-align: middle;\n",
       "    }\n",
       "\n",
       "    .dataframe tbody tr th {\n",
       "        vertical-align: top;\n",
       "    }\n",
       "\n",
       "    .dataframe thead th {\n",
       "        text-align: right;\n",
       "    }\n",
       "</style>\n",
       "<table border=\"1\" class=\"dataframe\">\n",
       "  <thead>\n",
       "    <tr style=\"text-align: right;\">\n",
       "      <th></th>\n",
       "      <th>C2</th>\n",
       "      <th>C3</th>\n",
       "      <th>C4</th>\n",
       "    </tr>\n",
       "    <tr>\n",
       "      <th>C1</th>\n",
       "      <th></th>\n",
       "      <th></th>\n",
       "      <th></th>\n",
       "    </tr>\n",
       "  </thead>\n",
       "  <tbody>\n",
       "    <tr>\n",
       "      <th>A</th>\n",
       "      <td>0.55</td>\n",
       "      <td>0.65</td>\n",
       "      <td>0.79</td>\n",
       "    </tr>\n",
       "    <tr>\n",
       "      <th>B</th>\n",
       "      <td>0.72</td>\n",
       "      <td>0.44</td>\n",
       "      <td>0.53</td>\n",
       "    </tr>\n",
       "    <tr>\n",
       "      <th>C</th>\n",
       "      <td>0.6</td>\n",
       "      <td>0.89</td>\n",
       "      <td>0.57</td>\n",
       "    </tr>\n",
       "    <tr>\n",
       "      <th>D</th>\n",
       "      <td>0.54</td>\n",
       "      <td>0.96</td>\n",
       "      <td>0.93</td>\n",
       "    </tr>\n",
       "    <tr>\n",
       "      <th>E</th>\n",
       "      <td>0.42</td>\n",
       "      <td>0.38</td>\n",
       "      <td>0.07</td>\n",
       "    </tr>\n",
       "  </tbody>\n",
       "</table>\n",
       "</div>"
      ],
      "text/plain": [
       "      C2    C3    C4\n",
       "C1                  \n",
       "A   0.55  0.65  0.79\n",
       "B   0.72  0.44  0.53\n",
       "C    0.6  0.89  0.57\n",
       "D   0.54  0.96  0.93\n",
       "E   0.42  0.38  0.07"
      ]
     },
     "execution_count": 8,
     "metadata": {},
     "output_type": "execute_result"
    }
   ],
   "source": [
    "df2 = df1.set_index(\"C1\")\n",
    "df2"
   ]
  },
  {
   "cell_type": "code",
   "execution_count": 9,
   "id": "e923e828",
   "metadata": {
    "ExecuteTime": {
     "end_time": "2023-12-20T06:48:26.254704Z",
     "start_time": "2023-12-20T06:48:26.243035Z"
    }
   },
   "outputs": [
    {
     "data": {
      "text/html": [
       "<div>\n",
       "<style scoped>\n",
       "    .dataframe tbody tr th:only-of-type {\n",
       "        vertical-align: middle;\n",
       "    }\n",
       "\n",
       "    .dataframe tbody tr th {\n",
       "        vertical-align: top;\n",
       "    }\n",
       "\n",
       "    .dataframe thead th {\n",
       "        text-align: right;\n",
       "    }\n",
       "</style>\n",
       "<table border=\"1\" class=\"dataframe\">\n",
       "  <thead>\n",
       "    <tr style=\"text-align: right;\">\n",
       "      <th></th>\n",
       "      <th>C3</th>\n",
       "      <th>C4</th>\n",
       "    </tr>\n",
       "    <tr>\n",
       "      <th>C2</th>\n",
       "      <th></th>\n",
       "      <th></th>\n",
       "    </tr>\n",
       "  </thead>\n",
       "  <tbody>\n",
       "    <tr>\n",
       "      <th>0.55</th>\n",
       "      <td>0.65</td>\n",
       "      <td>0.79</td>\n",
       "    </tr>\n",
       "    <tr>\n",
       "      <th>0.72</th>\n",
       "      <td>0.44</td>\n",
       "      <td>0.53</td>\n",
       "    </tr>\n",
       "    <tr>\n",
       "      <th>0.6</th>\n",
       "      <td>0.89</td>\n",
       "      <td>0.57</td>\n",
       "    </tr>\n",
       "    <tr>\n",
       "      <th>0.54</th>\n",
       "      <td>0.96</td>\n",
       "      <td>0.93</td>\n",
       "    </tr>\n",
       "    <tr>\n",
       "      <th>0.42</th>\n",
       "      <td>0.38</td>\n",
       "      <td>0.07</td>\n",
       "    </tr>\n",
       "  </tbody>\n",
       "</table>\n",
       "</div>"
      ],
      "text/plain": [
       "        C3    C4\n",
       "C2              \n",
       "0.55  0.65  0.79\n",
       "0.72  0.44  0.53\n",
       "0.6   0.89  0.57\n",
       "0.54  0.96  0.93\n",
       "0.42  0.38  0.07"
      ]
     },
     "execution_count": 9,
     "metadata": {},
     "output_type": "execute_result"
    }
   ],
   "source": [
    "df2.set_index(\"C2\")"
   ]
  },
  {
   "cell_type": "code",
   "execution_count": 10,
   "id": "e09bc741",
   "metadata": {
    "ExecuteTime": {
     "end_time": "2023-12-20T06:48:48.443747Z",
     "start_time": "2023-12-20T06:48:48.430974Z"
    }
   },
   "outputs": [
    {
     "data": {
      "text/html": [
       "<div>\n",
       "<style scoped>\n",
       "    .dataframe tbody tr th:only-of-type {\n",
       "        vertical-align: middle;\n",
       "    }\n",
       "\n",
       "    .dataframe tbody tr th {\n",
       "        vertical-align: top;\n",
       "    }\n",
       "\n",
       "    .dataframe thead th {\n",
       "        text-align: right;\n",
       "    }\n",
       "</style>\n",
       "<table border=\"1\" class=\"dataframe\">\n",
       "  <thead>\n",
       "    <tr style=\"text-align: right;\">\n",
       "      <th></th>\n",
       "      <th>C1</th>\n",
       "      <th>C2</th>\n",
       "      <th>C3</th>\n",
       "      <th>C4</th>\n",
       "    </tr>\n",
       "  </thead>\n",
       "  <tbody>\n",
       "    <tr>\n",
       "      <th>0</th>\n",
       "      <td>A</td>\n",
       "      <td>0.55</td>\n",
       "      <td>0.65</td>\n",
       "      <td>0.79</td>\n",
       "    </tr>\n",
       "    <tr>\n",
       "      <th>1</th>\n",
       "      <td>B</td>\n",
       "      <td>0.72</td>\n",
       "      <td>0.44</td>\n",
       "      <td>0.53</td>\n",
       "    </tr>\n",
       "    <tr>\n",
       "      <th>2</th>\n",
       "      <td>C</td>\n",
       "      <td>0.6</td>\n",
       "      <td>0.89</td>\n",
       "      <td>0.57</td>\n",
       "    </tr>\n",
       "    <tr>\n",
       "      <th>3</th>\n",
       "      <td>D</td>\n",
       "      <td>0.54</td>\n",
       "      <td>0.96</td>\n",
       "      <td>0.93</td>\n",
       "    </tr>\n",
       "    <tr>\n",
       "      <th>4</th>\n",
       "      <td>E</td>\n",
       "      <td>0.42</td>\n",
       "      <td>0.38</td>\n",
       "      <td>0.07</td>\n",
       "    </tr>\n",
       "  </tbody>\n",
       "</table>\n",
       "</div>"
      ],
      "text/plain": [
       "  C1    C2    C3    C4\n",
       "0  A  0.55  0.65  0.79\n",
       "1  B  0.72  0.44  0.53\n",
       "2  C   0.6  0.89  0.57\n",
       "3  D  0.54  0.96  0.93\n",
       "4  E  0.42  0.38  0.07"
      ]
     },
     "execution_count": 10,
     "metadata": {},
     "output_type": "execute_result"
    }
   ],
   "source": [
    "df2.reset_index()"
   ]
  }
 ],
 "metadata": {
  "kernelspec": {
   "display_name": "Python 3 (ipykernel)",
   "language": "python",
   "name": "python3"
  },
  "language_info": {
   "codemirror_mode": {
    "name": "ipython",
    "version": 3
   },
   "file_extension": ".py",
   "mimetype": "text/x-python",
   "name": "python",
   "nbconvert_exporter": "python",
   "pygments_lexer": "ipython3",
   "version": "3.11.5"
  },
  "toc": {
   "base_numbering": 1,
   "nav_menu": {},
   "number_sections": true,
   "sideBar": true,
   "skip_h1_title": false,
   "title_cell": "Table of Contents",
   "title_sidebar": "Contents",
   "toc_cell": false,
   "toc_position": {},
   "toc_section_display": true,
   "toc_window_display": false
  }
 },
 "nbformat": 4,
 "nbformat_minor": 5
}
