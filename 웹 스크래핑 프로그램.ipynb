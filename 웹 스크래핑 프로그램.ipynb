{
 "cells": [
  {
   "cell_type": "code",
   "execution_count": null,
   "id": "fdd63b62",
   "metadata": {},
   "outputs": [],
   "source": [
    "\"\"\"\n",
    "예제 페이지에서 여행기사를 추출한다.\n",
    "https://korean.visitkorea.or.kr/main/main.do\n",
    "검색어와 스크래핑 건수를 입력받는다.\n",
    "페이지를 이동한다.\n",
    "상세 페이지별로 여행기사 정보를 수집한다.\n",
    "이미지와 텍스트를 추출해서 파일로 저장까지\\\n",
    "\n",
    "\"\"\""
   ]
  },
  {
   "cell_type": "code",
   "execution_count": 9,
   "id": "49c786a9",
   "metadata": {
    "ExecuteTime": {
     "end_time": "2023-12-13T02:06:43.931179Z",
     "start_time": "2023-12-13T02:06:43.926246Z"
    }
   },
   "outputs": [],
   "source": [
    "#https://korean.visitkorea.or.kr/main/main.do 페이지에 접속하기\n",
    "from bs4 import BeautifulSoup\n",
    "from selenium import webdriver\n",
    "from selenium.webdriver.common.by import By\n",
    "from selenium.webdriver.common.keys import Keys\n",
    "from selenium.webdriver.chrome.options import Options\n",
    "import time, urllib.request, os, math\n",
    "\n",
    "options = Options()\n",
    "options.add_argument('--window-size=974,1047')\n",
    "options.add_argument('--window-position=953,0')\n",
    "options.add_experimental_option(\"detach\", True)"
   ]
  },
  {
   "cell_type": "code",
   "execution_count": 5,
   "id": "d876bf89",
   "metadata": {
    "ExecuteTime": {
     "end_time": "2023-12-13T02:00:14.710656Z",
     "start_time": "2023-12-13T02:00:06.398407Z"
    }
   },
   "outputs": [],
   "source": [
    "URL = \"https://korean.visitkorea.or.kr/list/travelinfo.do?service=rem\"\n",
    "driver = webdriver.Chrome(options=options)\n",
    "driver.get(URL)\n",
    "time.sleep(2)"
   ]
  },
  {
   "cell_type": "code",
   "execution_count": 7,
   "id": "18fa938a",
   "metadata": {
    "ExecuteTime": {
     "end_time": "2023-12-13T02:01:23.690580Z",
     "start_time": "2023-12-13T02:01:18.677098Z"
    }
   },
   "outputs": [],
   "source": [
    "#일단 스크롤을 제일 아래로 내려 모든 정보가 렌더링 되도록 함\n",
    "driver.execute_script(\"window.scrollTo(0, document.body.scrollHeight)\")\n",
    "time.sleep(3)"
   ]
  },
  {
   "cell_type": "code",
   "execution_count": 25,
   "id": "a4d4059b",
   "metadata": {
    "ExecuteTime": {
     "end_time": "2023-12-13T02:28:39.945247Z",
     "start_time": "2023-12-13T02:28:31.032486Z"
    }
   },
   "outputs": [
    {
     "name": "stdout",
     "output_type": "stream",
     "text": [
      "크롤링 할 건수는 몇건입니까?: 10\n",
      "[행정안전부 x 한국섬진흥원] 2023 찾아가고 싶은 겨울섬 5 : 강화 석모도, 신안 압해도, 신안 흑산도, 거제 지심도, 통영 장사도\n"
     ]
    },
    {
     "ename": "NoSuchElementException",
     "evalue": "Message: no such element: Unable to locate element: {\"method\":\"css selector\",\"selector\":\"[id=\"topTitle\"]\"}\n  (Session info: chrome=120.0.6099.71); For documentation on this error, please visit: https://www.selenium.dev/documentation/webdriver/troubleshooting/errors#no-such-element-exception\nStacktrace:\n\tGetHandleVerifier [0x00007FF7D4A84D02+56194]\n\t(No symbol) [0x00007FF7D49F04B2]\n\t(No symbol) [0x00007FF7D48976AA]\n\t(No symbol) [0x00007FF7D48E16D0]\n\t(No symbol) [0x00007FF7D48E17EC]\n\t(No symbol) [0x00007FF7D4924D77]\n\t(No symbol) [0x00007FF7D4905EBF]\n\t(No symbol) [0x00007FF7D4922786]\n\t(No symbol) [0x00007FF7D4905C23]\n\t(No symbol) [0x00007FF7D48D4A45]\n\t(No symbol) [0x00007FF7D48D5AD4]\n\tGetHandleVerifier [0x00007FF7D4DFD5BB+3695675]\n\tGetHandleVerifier [0x00007FF7D4E56197+4059159]\n\tGetHandleVerifier [0x00007FF7D4E4DF63+4025827]\n\tGetHandleVerifier [0x00007FF7D4B1F029+687785]\n\t(No symbol) [0x00007FF7D49FB508]\n\t(No symbol) [0x00007FF7D49F7564]\n\t(No symbol) [0x00007FF7D49F76E9]\n\t(No symbol) [0x00007FF7D49E8094]\n\tBaseThreadInitThunk [0x00007FFC405C7344+20]\n\tRtlUserThreadStart [0x00007FFC40EE26B1+33]\n",
     "output_type": "error",
     "traceback": [
      "\u001b[1;31m---------------------------------------------------------------------------\u001b[0m",
      "\u001b[1;31mNoSuchElementException\u001b[0m                    Traceback (most recent call last)",
      "Cell \u001b[1;32mIn[25], line 17\u001b[0m\n\u001b[0;32m     15\u001b[0m \u001b[38;5;66;03m#텍스트 추출 및 저장\u001b[39;00m\n\u001b[0;32m     16\u001b[0m time\u001b[38;5;241m.\u001b[39msleep(\u001b[38;5;241m2\u001b[39m)\n\u001b[1;32m---> 17\u001b[0m title \u001b[38;5;241m=\u001b[39m driver\u001b[38;5;241m.\u001b[39mfind_element(By\u001b[38;5;241m.\u001b[39mID, \u001b[38;5;124m'\u001b[39m\u001b[38;5;124mtopTitle\u001b[39m\u001b[38;5;124m'\u001b[39m)\u001b[38;5;241m.\u001b[39mtext\n\u001b[0;32m     18\u001b[0m contents \u001b[38;5;241m=\u001b[39m driver\u001b[38;5;241m.\u001b[39mfind_elements(By\u001b[38;5;241m.\u001b[39mCLASS_NAME, \u001b[38;5;124m'\u001b[39m\u001b[38;5;124mtxt_p\u001b[39m\u001b[38;5;124m'\u001b[39m)\n\u001b[0;32m     19\u001b[0m \u001b[38;5;28;01mif\u001b[39;00m \u001b[38;5;28mlen\u001b[39m(contents) \u001b[38;5;241m<\u001b[39m\u001b[38;5;241m=\u001b[39m \u001b[38;5;241m0\u001b[39m:\n",
      "File \u001b[1;32m~\\anaconda3\\Lib\\site-packages\\selenium\\webdriver\\remote\\webdriver.py:742\u001b[0m, in \u001b[0;36mWebDriver.find_element\u001b[1;34m(self, by, value)\u001b[0m\n\u001b[0;32m    739\u001b[0m     by \u001b[38;5;241m=\u001b[39m By\u001b[38;5;241m.\u001b[39mCSS_SELECTOR\n\u001b[0;32m    740\u001b[0m     value \u001b[38;5;241m=\u001b[39m \u001b[38;5;124mf\u001b[39m\u001b[38;5;124m'\u001b[39m\u001b[38;5;124m[name=\u001b[39m\u001b[38;5;124m\"\u001b[39m\u001b[38;5;132;01m{\u001b[39;00mvalue\u001b[38;5;132;01m}\u001b[39;00m\u001b[38;5;124m\"\u001b[39m\u001b[38;5;124m]\u001b[39m\u001b[38;5;124m'\u001b[39m\n\u001b[1;32m--> 742\u001b[0m \u001b[38;5;28;01mreturn\u001b[39;00m \u001b[38;5;28mself\u001b[39m\u001b[38;5;241m.\u001b[39mexecute(Command\u001b[38;5;241m.\u001b[39mFIND_ELEMENT, {\u001b[38;5;124m\"\u001b[39m\u001b[38;5;124musing\u001b[39m\u001b[38;5;124m\"\u001b[39m: by, \u001b[38;5;124m\"\u001b[39m\u001b[38;5;124mvalue\u001b[39m\u001b[38;5;124m\"\u001b[39m: value})[\u001b[38;5;124m\"\u001b[39m\u001b[38;5;124mvalue\u001b[39m\u001b[38;5;124m\"\u001b[39m]\n",
      "File \u001b[1;32m~\\anaconda3\\Lib\\site-packages\\selenium\\webdriver\\remote\\webdriver.py:348\u001b[0m, in \u001b[0;36mWebDriver.execute\u001b[1;34m(self, driver_command, params)\u001b[0m\n\u001b[0;32m    346\u001b[0m response \u001b[38;5;241m=\u001b[39m \u001b[38;5;28mself\u001b[39m\u001b[38;5;241m.\u001b[39mcommand_executor\u001b[38;5;241m.\u001b[39mexecute(driver_command, params)\n\u001b[0;32m    347\u001b[0m \u001b[38;5;28;01mif\u001b[39;00m response:\n\u001b[1;32m--> 348\u001b[0m     \u001b[38;5;28mself\u001b[39m\u001b[38;5;241m.\u001b[39merror_handler\u001b[38;5;241m.\u001b[39mcheck_response(response)\n\u001b[0;32m    349\u001b[0m     response[\u001b[38;5;124m\"\u001b[39m\u001b[38;5;124mvalue\u001b[39m\u001b[38;5;124m\"\u001b[39m] \u001b[38;5;241m=\u001b[39m \u001b[38;5;28mself\u001b[39m\u001b[38;5;241m.\u001b[39m_unwrap_value(response\u001b[38;5;241m.\u001b[39mget(\u001b[38;5;124m\"\u001b[39m\u001b[38;5;124mvalue\u001b[39m\u001b[38;5;124m\"\u001b[39m, \u001b[38;5;28;01mNone\u001b[39;00m))\n\u001b[0;32m    350\u001b[0m     \u001b[38;5;28;01mreturn\u001b[39;00m response\n",
      "File \u001b[1;32m~\\anaconda3\\Lib\\site-packages\\selenium\\webdriver\\remote\\errorhandler.py:229\u001b[0m, in \u001b[0;36mErrorHandler.check_response\u001b[1;34m(self, response)\u001b[0m\n\u001b[0;32m    227\u001b[0m         alert_text \u001b[38;5;241m=\u001b[39m value[\u001b[38;5;124m\"\u001b[39m\u001b[38;5;124malert\u001b[39m\u001b[38;5;124m\"\u001b[39m]\u001b[38;5;241m.\u001b[39mget(\u001b[38;5;124m\"\u001b[39m\u001b[38;5;124mtext\u001b[39m\u001b[38;5;124m\"\u001b[39m)\n\u001b[0;32m    228\u001b[0m     \u001b[38;5;28;01mraise\u001b[39;00m exception_class(message, screen, stacktrace, alert_text)  \u001b[38;5;66;03m# type: ignore[call-arg]  # mypy is not smart enough here\u001b[39;00m\n\u001b[1;32m--> 229\u001b[0m \u001b[38;5;28;01mraise\u001b[39;00m exception_class(message, screen, stacktrace)\n",
      "\u001b[1;31mNoSuchElementException\u001b[0m: Message: no such element: Unable to locate element: {\"method\":\"css selector\",\"selector\":\"[id=\"topTitle\"]\"}\n  (Session info: chrome=120.0.6099.71); For documentation on this error, please visit: https://www.selenium.dev/documentation/webdriver/troubleshooting/errors#no-such-element-exception\nStacktrace:\n\tGetHandleVerifier [0x00007FF7D4A84D02+56194]\n\t(No symbol) [0x00007FF7D49F04B2]\n\t(No symbol) [0x00007FF7D48976AA]\n\t(No symbol) [0x00007FF7D48E16D0]\n\t(No symbol) [0x00007FF7D48E17EC]\n\t(No symbol) [0x00007FF7D4924D77]\n\t(No symbol) [0x00007FF7D4905EBF]\n\t(No symbol) [0x00007FF7D4922786]\n\t(No symbol) [0x00007FF7D4905C23]\n\t(No symbol) [0x00007FF7D48D4A45]\n\t(No symbol) [0x00007FF7D48D5AD4]\n\tGetHandleVerifier [0x00007FF7D4DFD5BB+3695675]\n\tGetHandleVerifier [0x00007FF7D4E56197+4059159]\n\tGetHandleVerifier [0x00007FF7D4E4DF63+4025827]\n\tGetHandleVerifier [0x00007FF7D4B1F029+687785]\n\t(No symbol) [0x00007FF7D49FB508]\n\t(No symbol) [0x00007FF7D49F7564]\n\t(No symbol) [0x00007FF7D49F76E9]\n\t(No symbol) [0x00007FF7D49E8094]\n\tBaseThreadInitThunk [0x00007FFC405C7344+20]\n\tRtlUserThreadStart [0x00007FFC40EE26B1+33]\n"
     ]
    }
   ],
   "source": [
    "cnt = int(input('크롤링 할 건수는 몇건입니까?: '))\n",
    "page_cnt = math.ceil(cnt / 10) # 크롤링 할 전체 페이지 수 (올림)\n",
    "\n",
    "tit_xpath = '//*[@id=\"contents\"]/div[2]/div[1]/ul/li[*]/div[2]/div/a'\n",
    "no = 0\n",
    "\n",
    "for x in range(1, page_cnt+1):\n",
    "    mylist = driver.find_elements(By.XPATH, tit_xpath)\n",
    "    \n",
    "    for item in mylist:\n",
    "        no += 1\n",
    "        if no > cnt:\n",
    "            break\n",
    "        item.click()\n",
    "        #텍스트 추출 및 저장\n",
    "        time.sleep(2)\n",
    "        try :\n",
    "            title = driver.find_element(By.ID, 'topTitle').text\n",
    "            contents = driver.find_elements(By.CLASS_NAME, 'txt_p')\n",
    "            if len(contents) <= 0:\n",
    "                contents_list = [item for item in contents]\n",
    "                contents_merge = ' '.join(contents_list)\n",
    "                print(contents_merge)\n",
    "            print(title)\n",
    "            driver.back()\n",
    "        except: driver.back()\n",
    "    \n",
    "    if no <= cnt:\n",
    "        #driver.execute_script(\"window.scrollTo(0, document.body.scrollHeight)\")\n",
    "        driver.find_element(By.ID, f'{x+1}').click()\n",
    "        time.sleep(5)\n"
   ]
  },
  {
   "cell_type": "code",
   "execution_count": null,
   "id": "d4d4b2b5",
   "metadata": {},
   "outputs": [],
   "source": [
    "#https://korean.visitkorea.or.kr/main/main.do 페이지에 접속하기\n",
    "from bs4 import BeautifulSoup\n",
    "from selenium import webdriver\n",
    "from selenium.webdriver.common.by import By\n",
    "from selenium.webdriver.common.keys import Keys\n",
    "from selenium.webdriver.chrome.options import Options\n",
    "import time, urllib.request, os, math\n",
    "\n",
    "options = Options()\n",
    "options.add_argument('--window-size=974,1047')\n",
    "options.add_argument('--window-position=953,0')\n",
    "options.add_experimental_option(\"detach\", True)"
   ]
  },
  {
   "cell_type": "code",
   "execution_count": null,
   "id": "3fb0d010",
   "metadata": {},
   "outputs": [],
   "source": [
    "cnt = int(input('크롤링 할 건수는 몇건입니까?: '))\n",
    "page_cnt = math.ceil(cnt / 10) # 크롤링 할 전체 페이지 수 (올림)"
   ]
  },
  {
   "cell_type": "code",
   "execution_count": null,
   "id": "221cd5f8",
   "metadata": {},
   "outputs": [],
   "source": [
    "URL = \"https://korean.visitkorea.or.kr/list/travelinfo.do?service=rem\"\n",
    "driver = webdriver.Chrome(options=options)\n",
    "driver.get(URL)\n",
    "time.sleep(2)"
   ]
  },
  {
   "cell_type": "code",
   "execution_count": null,
   "id": "e8b1ce25",
   "metadata": {},
   "outputs": [],
   "source": []
  }
 ],
 "metadata": {
  "kernelspec": {
   "display_name": "Python 3 (ipykernel)",
   "language": "python",
   "name": "python3"
  },
  "language_info": {
   "codemirror_mode": {
    "name": "ipython",
    "version": 3
   },
   "file_extension": ".py",
   "mimetype": "text/x-python",
   "name": "python",
   "nbconvert_exporter": "python",
   "pygments_lexer": "ipython3",
   "version": "3.11.5"
  },
  "toc": {
   "base_numbering": 1,
   "nav_menu": {},
   "number_sections": true,
   "sideBar": true,
   "skip_h1_title": false,
   "title_cell": "Table of Contents",
   "title_sidebar": "Contents",
   "toc_cell": false,
   "toc_position": {},
   "toc_section_display": true,
   "toc_window_display": false
  }
 },
 "nbformat": 4,
 "nbformat_minor": 5
}
