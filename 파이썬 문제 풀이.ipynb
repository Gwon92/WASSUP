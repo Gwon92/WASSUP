{
 "cells": [
  {
   "cell_type": "code",
   "execution_count": 1,
   "id": "29b1ac0d",
   "metadata": {
    "scrolled": true
   },
   "outputs": [
    {
     "name": "stdout",
     "output_type": "stream",
     "text": [
      "Hello World\n"
     ]
    }
   ],
   "source": [
    "#1.답변\n",
    "print('Hello World')"
   ]
  },
  {
   "cell_type": "code",
   "execution_count": 2,
   "id": "16a7ebcd",
   "metadata": {
    "scrolled": true
   },
   "outputs": [
    {
     "name": "stdout",
     "output_type": "stream",
     "text": [
      "Mary's cosmetics\n"
     ]
    }
   ],
   "source": [
    "#2.답변\n",
    "print(\"Mary's cosmetics\")"
   ]
  },
  {
   "cell_type": "code",
   "execution_count": 3,
   "id": "509de91f",
   "metadata": {},
   "outputs": [
    {
     "name": "stdout",
     "output_type": "stream",
     "text": [
      "신씨가 소리질렀다.\"도둑이야\"\n"
     ]
    }
   ],
   "source": [
    "#3.답변\n",
    "print('신씨가 소리질렀다.\"도둑이야\"')"
   ]
  },
  {
   "cell_type": "code",
   "execution_count": 4,
   "id": "05064f0b",
   "metadata": {},
   "outputs": [
    {
     "name": "stdout",
     "output_type": "stream",
     "text": [
      "C:\\Windows\n"
     ]
    }
   ],
   "source": [
    "#4.답변\n",
    "print(\"C:\\Windows\")"
   ]
  },
  {
   "cell_type": "code",
   "execution_count": 6,
   "id": "55fdbe6f",
   "metadata": {},
   "outputs": [],
   "source": [
    "#5. 다음 코드를 실행해보고 \\t와 \\n의 역할을 설명해보세요.\n",
    "print(\"안녕하세요.\\n만나서\\t\\t반갑습니다.\")\n",
    "### \\n은 줄바꿈, \\t는 탭"
   ]
  },
  {
   "cell_type": "code",
   "execution_count": 7,
   "id": "2371f86a",
   "metadata": {},
   "outputs": [],
   "source": [
    "#6.답변 \n",
    "#오늘은 일요일로 출력됨"
   ]
  },
  {
   "cell_type": "code",
   "execution_count": 8,
   "id": "cc5b5a65",
   "metadata": {},
   "outputs": [
    {
     "name": "stdout",
     "output_type": "stream",
     "text": [
      "naver;kakao;sk;samsung\n",
      "naver;kakao;sk;samsung\n"
     ]
    }
   ],
   "source": [
    "#7.답변\n",
    "print('naver;kakao;sk;samsung')\n",
    "#책에 나온 답변\n",
    "print('naver','kakao','sk','samsung',sep=\";\")"
   ]
  },
  {
   "cell_type": "code",
   "execution_count": null,
   "id": "0238d4c1",
   "metadata": {},
   "outputs": [],
   "source": [
    "#8.답변\n",
    "print('naver/kakao/sk/samsung')\n",
    "#책에 나온 답변\n",
    "print(\"naver\", \"kakao\", \"samsung\", sep=\"/\")"
   ]
  },
  {
   "cell_type": "code",
   "execution_count": null,
   "id": "6b42e3ea",
   "metadata": {},
   "outputs": [],
   "source": [
    "#9.답변\n",
    "print(\"first\" , end=' ');print(\"second\")"
   ]
  },
  {
   "cell_type": "code",
   "execution_count": null,
   "id": "80206630",
   "metadata": {},
   "outputs": [],
   "source": [
    "#10.답변\n",
    "print(5/3)"
   ]
  },
  {
   "cell_type": "code",
   "execution_count": null,
   "id": "ec60dbdd",
   "metadata": {},
   "outputs": [],
   "source": [
    "#11.답변\n",
    "samsung = 50000\n",
    "total = samsung * 10 \n",
    "print(total)"
   ]
  },
  {
   "cell_type": "code",
   "execution_count": null,
   "id": "208ec6c0",
   "metadata": {},
   "outputs": [],
   "source": [
    "#12.답변\n",
    "시가총액 = 298000000000000\n",
    "현재가 = 50000\n",
    "PER = 15.79"
   ]
  },
  {
   "cell_type": "code",
   "execution_count": null,
   "id": "52eab9cf",
   "metadata": {},
   "outputs": [],
   "source": [
    "#13.답변\n",
    "s = \"hello\"\n",
    "t = \"python\"\n",
    "print(s +\"! \"+t)"
   ]
  },
  {
   "cell_type": "code",
   "execution_count": null,
   "id": "a3790945",
   "metadata": {},
   "outputs": [],
   "source": [
    "#14.답변\n",
    "print(2+2*3)"
   ]
  },
  {
   "cell_type": "code",
   "execution_count": null,
   "id": "51b3041e",
   "metadata": {},
   "outputs": [],
   "source": [
    "#15.답변\n",
    "a = \"132\"\n",
    "print(type(a))"
   ]
  },
  {
   "cell_type": "code",
   "execution_count": null,
   "id": "58fc32f4",
   "metadata": {},
   "outputs": [],
   "source": [
    "#16.답변\n",
    "num_str = \"720\"\n",
    "print(int(num_str))"
   ]
  },
  {
   "cell_type": "code",
   "execution_count": null,
   "id": "a1946b37",
   "metadata": {},
   "outputs": [],
   "source": [
    "#17.답변\n",
    "num = 100\n",
    "print(str(num))"
   ]
  },
  {
   "cell_type": "code",
   "execution_count": null,
   "id": "1377c5db",
   "metadata": {},
   "outputs": [],
   "source": [
    "#18.답변\n",
    "str = \"15.79\"\n",
    "print(float(str))"
   ]
  },
  {
   "cell_type": "code",
   "execution_count": null,
   "id": "274689db",
   "metadata": {},
   "outputs": [],
   "source": [
    "#19.답변\n",
    "year = \"2020\"\n",
    "num = int(year)\n",
    "print(num, num-1, num-2)"
   ]
  },
  {
   "cell_type": "code",
   "execution_count": null,
   "id": "1554556b",
   "metadata": {},
   "outputs": [],
   "source": [
    "#20.답변\n",
    "month = 48584\n",
    "duration = 36\n",
    "total = month * duration\n",
    "print(total)"
   ]
  },
  {
   "cell_type": "code",
   "execution_count": 9,
   "id": "9181698c",
   "metadata": {},
   "outputs": [
    {
     "name": "stdout",
     "output_type": "stream",
     "text": [
      "p t\n"
     ]
    }
   ],
   "source": [
    "#21.답변\n",
    "letters = 'python'\n",
    "print(letters[0],letters[2])"
   ]
  },
  {
   "cell_type": "code",
   "execution_count": 15,
   "id": "cc72bb4e",
   "metadata": {},
   "outputs": [
    {
     "name": "stdout",
     "output_type": "stream",
     "text": [
      "2210\n",
      "2210\n"
     ]
    }
   ],
   "source": [
    "#22.답변\n",
    "license_plate = \"22가 2210\"\n",
    "print(license_plate[-4:])\n",
    "print(license_plate[4:])"
   ]
  },
  {
   "cell_type": "code",
   "execution_count": 17,
   "id": "30fa312d",
   "metadata": {},
   "outputs": [
    {
     "name": "stdout",
     "output_type": "stream",
     "text": [
      "홀홀홀\n",
      "홀홀홀\n"
     ]
    }
   ],
   "source": [
    "#23.답변\n",
    "string = \"홀짝홀짝홀짝\"\n",
    "print(string.replace('짝',\"\"))\n",
    "#교과서 답변\n",
    "print(string[::2])"
   ]
  },
  {
   "cell_type": "code",
   "execution_count": 23,
   "id": "7ed0fefc",
   "metadata": {},
   "outputs": [
    {
     "name": "stdout",
     "output_type": "stream",
     "text": [
      "NOHTYP\n"
     ]
    }
   ],
   "source": [
    "#24.답변\n",
    "string = \"PYTHON\"\n",
    "#교과서 답변\n",
    "print(string[::-1])"
   ]
  },
  {
   "cell_type": "code",
   "execution_count": 25,
   "id": "0380d80a",
   "metadata": {},
   "outputs": [
    {
     "name": "stdout",
     "output_type": "stream",
     "text": [
      "010 1111 2222\n"
     ]
    }
   ],
   "source": [
    "#25.답변\n",
    "phone_number = \"010-1111-2222\"\n",
    "print(phone_number.replace(\"-\",\" \"))"
   ]
  },
  {
   "cell_type": "code",
   "execution_count": 27,
   "id": "a2791d68",
   "metadata": {},
   "outputs": [
    {
     "name": "stdout",
     "output_type": "stream",
     "text": [
      "01011112222\n"
     ]
    }
   ],
   "source": [
    "#26.답변\n",
    "phone_number = \"010-1111-2222\"\n",
    "print(phone_number.replace(\"-\",\"\"))"
   ]
  },
  {
   "cell_type": "code",
   "execution_count": 29,
   "id": "ce66a49f",
   "metadata": {},
   "outputs": [
    {
     "name": "stdout",
     "output_type": "stream",
     "text": [
      "kr\n"
     ]
    }
   ],
   "source": [
    "#27.답변\n",
    "url = \"http://sharebook.kr\"\n",
    "print(url.split(\".\")[1])"
   ]
  },
  {
   "cell_type": "code",
   "execution_count": 30,
   "id": "e6fab778",
   "metadata": {},
   "outputs": [
    {
     "ename": "TypeError",
     "evalue": "'str' object does not support item assignment",
     "output_type": "error",
     "traceback": [
      "\u001b[1;31m---------------------------------------------------------------------------\u001b[0m",
      "\u001b[1;31mTypeError\u001b[0m                                 Traceback (most recent call last)",
      "Cell \u001b[1;32mIn[30], line 3\u001b[0m\n\u001b[0;32m      1\u001b[0m \u001b[38;5;66;03m#28.답변\u001b[39;00m\n\u001b[0;32m      2\u001b[0m lang \u001b[38;5;241m=\u001b[39m \u001b[38;5;124m'\u001b[39m\u001b[38;5;124mpython\u001b[39m\u001b[38;5;124m'\u001b[39m\n\u001b[1;32m----> 3\u001b[0m lang[\u001b[38;5;241m0\u001b[39m] \u001b[38;5;241m=\u001b[39m \u001b[38;5;124m'\u001b[39m\u001b[38;5;124mP\u001b[39m\u001b[38;5;124m'\u001b[39m\n\u001b[0;32m      4\u001b[0m \u001b[38;5;28mprint\u001b[39m(lang)\n",
      "\u001b[1;31mTypeError\u001b[0m: 'str' object does not support item assignment"
     ]
    }
   ],
   "source": [
    "#28.답변\n",
    "lang = 'python'\n",
    "lang[0] = 'P'\n",
    "print(lang)\n",
    "# string은 immutable한 객체임으로 특정 인덱스의 값을 바꿀 수 없다."
   ]
  },
  {
   "cell_type": "code",
   "execution_count": 31,
   "id": "ed3d4d1e",
   "metadata": {},
   "outputs": [
    {
     "data": {
      "text/plain": [
       "'Abcdfe2A354A32A'"
      ]
     },
     "execution_count": 31,
     "metadata": {},
     "output_type": "execute_result"
    }
   ],
   "source": [
    "#29.답변\n",
    "string = 'abcdfe2a354a32a'\n",
    "string.replace('a','A')"
   ]
  },
  {
   "cell_type": "code",
   "execution_count": 32,
   "id": "866257bb",
   "metadata": {},
   "outputs": [
    {
     "name": "stdout",
     "output_type": "stream",
     "text": [
      "abcd\n"
     ]
    }
   ],
   "source": [
    "#30.답변 (오답)\n",
    "string = 'abcd'\n",
    "string.replace('b', 'B')\n",
    "print(string)\n",
    "#'aBcd'\n",
    "#정답은 abcd 그대로임. 문자열은 변경할 수 없는 자료형이기때문"
   ]
  },
  {
   "cell_type": "code",
   "execution_count": null,
   "id": "94b088b9",
   "metadata": {},
   "outputs": [],
   "source": [
    "#31.답변\n",
    "a = \"3\"\n",
    "b = \"4\"\n",
    "print(a + b)\n",
    "#\"34\""
   ]
  },
  {
   "cell_type": "code",
   "execution_count": null,
   "id": "52e6320a",
   "metadata": {},
   "outputs": [],
   "source": [
    "#32.답변\n",
    "print(\"Hi\" * 3)\n",
    "#\"HiHiHi\""
   ]
  },
  {
   "cell_type": "code",
   "execution_count": 33,
   "id": "5eb63b5d",
   "metadata": {},
   "outputs": [
    {
     "name": "stdout",
     "output_type": "stream",
     "text": [
      "--------------------------------------------------------------------------------\n"
     ]
    }
   ],
   "source": [
    "#33.답변\n",
    "print(\"-\"*80)"
   ]
  },
  {
   "cell_type": "code",
   "execution_count": 36,
   "id": "f7c4c144",
   "metadata": {},
   "outputs": [
    {
     "name": "stdout",
     "output_type": "stream",
     "text": [
      "python java python java python java\n"
     ]
    }
   ],
   "source": [
    "#34.답변\n",
    "t1 = 'python'\n",
    "t2 = 'java'\n",
    "print(t1 + \" \" + t2 + \" \" + t1 + \" \" + t2 + \" \" + t1 + \" \" + t2 )"
   ]
  },
  {
   "cell_type": "code",
   "execution_count": 42,
   "id": "0f83a196",
   "metadata": {},
   "outputs": [
    {
     "name": "stdout",
     "output_type": "stream",
     "text": [
      "이름: 김민수 나이: 10\n",
      "이름: 이철희 나이: 13\n"
     ]
    }
   ],
   "source": [
    "#35. 답변\n",
    "name1 = \"김민수\" \n",
    "age1 = 10\n",
    "name2 = \"이철희\"\n",
    "age2 = 13\n",
    "print(\"이름: %s 나이: %d\" % (name1, age1))\n",
    "print(\"이름: %s 나이: %d\" % (name2, age2))\n"
   ]
  },
  {
   "cell_type": "code",
   "execution_count": 43,
   "id": "6da08a85",
   "metadata": {},
   "outputs": [
    {
     "name": "stdout",
     "output_type": "stream",
     "text": [
      "이름: 김민수 나이: 10\n",
      "이름: 이철희 나이: 13\n"
     ]
    }
   ],
   "source": [
    "#36.답변\n",
    "name1 = \"김민수\" \n",
    "age1 = 10\n",
    "name2 = \"이철희\"\n",
    "age2 = 13\n",
    "print(\"이름: {} 나이: {}\".format(name1, age1))\n",
    "print(\"이름: {} 나이: {}\".format(name2, age2))"
   ]
  },
  {
   "cell_type": "code",
   "execution_count": 45,
   "id": "4e6e7e23",
   "metadata": {},
   "outputs": [
    {
     "name": "stdout",
     "output_type": "stream",
     "text": [
      "이름: 김민수 나이: 10\n",
      "이름: 이철희 나이: 13\n"
     ]
    }
   ],
   "source": [
    "#37.답변\n",
    "name1 = \"김민수\" \n",
    "age1 = 10\n",
    "name2 = \"이철희\"\n",
    "age2 = 13\n",
    "print(f\"이름: {name1} 나이: {age1}\")\n",
    "print(f\"이름: {name2} 나이: {age2}\")"
   ]
  },
  {
   "cell_type": "code",
   "execution_count": 46,
   "id": "6afd777c",
   "metadata": {},
   "outputs": [
    {
     "name": "stdout",
     "output_type": "stream",
     "text": [
      "5969782550\n"
     ]
    }
   ],
   "source": [
    "#38.답변\n",
    "stock = \"5,969,782,550\"\n",
    "print(int(stock.replace(\",\",\"\")))"
   ]
  },
  {
   "cell_type": "code",
   "execution_count": 47,
   "id": "3fb18509",
   "metadata": {},
   "outputs": [
    {
     "name": "stdout",
     "output_type": "stream",
     "text": [
      "2020/03\n"
     ]
    }
   ],
   "source": [
    "#39.답변\n",
    "quarter = \"2020/03(E) (IFRS연결)\"\n",
    "print(quarter[:7])"
   ]
  },
  {
   "cell_type": "code",
   "execution_count": 48,
   "id": "70d37029",
   "metadata": {},
   "outputs": [
    {
     "name": "stdout",
     "output_type": "stream",
     "text": [
      "삼성전자\n"
     ]
    }
   ],
   "source": [
    "#40.답변\n",
    "data = \"   삼성전자    \"\n",
    "print(data.strip())"
   ]
  },
  {
   "cell_type": "code",
   "execution_count": 49,
   "id": "34fc51f1",
   "metadata": {},
   "outputs": [
    {
     "name": "stdout",
     "output_type": "stream",
     "text": [
      "BTC_KRW\n"
     ]
    }
   ],
   "source": [
    "#41.답변\n",
    "ticker = \"btc_krw\"\n",
    "print(ticker.upper())"
   ]
  },
  {
   "cell_type": "code",
   "execution_count": 50,
   "id": "f31d8183",
   "metadata": {},
   "outputs": [
    {
     "name": "stdout",
     "output_type": "stream",
     "text": [
      "btc_krw\n"
     ]
    }
   ],
   "source": [
    "#42.답변\n",
    "ticker = \"BTC_KRW\"\n",
    "print(ticker.lower())"
   ]
  },
  {
   "cell_type": "code",
   "execution_count": 51,
   "id": "2d6fbbd4",
   "metadata": {},
   "outputs": [
    {
     "data": {
      "text/plain": [
       "'Hello'"
      ]
     },
     "execution_count": 51,
     "metadata": {},
     "output_type": "execute_result"
    }
   ],
   "source": [
    "#43.답변\n",
    "string = 'hello'\n",
    "string.capitalize()"
   ]
  },
  {
   "cell_type": "code",
   "execution_count": 54,
   "id": "ee185048",
   "metadata": {},
   "outputs": [
    {
     "data": {
      "text/plain": [
       "True"
      ]
     },
     "execution_count": 54,
     "metadata": {},
     "output_type": "execute_result"
    }
   ],
   "source": [
    "#44.답변 (오답)\n",
    "file_name = \"보고서.xlsx\"\n",
    "file_name.endswith('xlsx')"
   ]
  },
  {
   "cell_type": "code",
   "execution_count": 57,
   "id": "69ab69d0",
   "metadata": {},
   "outputs": [
    {
     "data": {
      "text/plain": [
       "True"
      ]
     },
     "execution_count": 57,
     "metadata": {},
     "output_type": "execute_result"
    }
   ],
   "source": [
    "#45.답변\n",
    "file_name = \"보고서.xlsx\"\n",
    "file_name.endswith((\"xlsx\",\"xls\"))"
   ]
  },
  {
   "cell_type": "code",
   "execution_count": 58,
   "id": "e65ce4bb",
   "metadata": {},
   "outputs": [
    {
     "data": {
      "text/plain": [
       "True"
      ]
     },
     "execution_count": 58,
     "metadata": {},
     "output_type": "execute_result"
    }
   ],
   "source": [
    "#46.답변\n",
    "file_name = \"2020_보고서.xlsx\"\n",
    "file_name.startswith(\"2020\")"
   ]
  },
  {
   "cell_type": "code",
   "execution_count": 60,
   "id": "2d4013d8",
   "metadata": {},
   "outputs": [
    {
     "name": "stdout",
     "output_type": "stream",
     "text": [
      "['hello', 'world']\n"
     ]
    }
   ],
   "source": [
    "#47.답변\n",
    "a = \"hello world\"\n",
    "print(a.split())"
   ]
  },
  {
   "cell_type": "code",
   "execution_count": 61,
   "id": "02503883",
   "metadata": {},
   "outputs": [
    {
     "name": "stdout",
     "output_type": "stream",
     "text": [
      "['btc', 'krw']\n"
     ]
    }
   ],
   "source": [
    "#48.답변\n",
    "ticker = \"btc_krw\"\n",
    "print(ticker.split(\"_\"))"
   ]
  },
  {
   "cell_type": "code",
   "execution_count": 62,
   "id": "4c2a753a",
   "metadata": {},
   "outputs": [
    {
     "name": "stdout",
     "output_type": "stream",
     "text": [
      "['2020', '05', '01']\n"
     ]
    }
   ],
   "source": [
    "#49.답변\n",
    "date = \"2020-05-01\"\n",
    "print(date.split(\"-\"))"
   ]
  },
  {
   "cell_type": "code",
   "execution_count": 63,
   "id": "4231e53f",
   "metadata": {},
   "outputs": [
    {
     "name": "stdout",
     "output_type": "stream",
     "text": [
      "039490\n"
     ]
    }
   ],
   "source": [
    "#50.답변\n",
    "data = \"039490     \"\n",
    "print(data.rstrip())"
   ]
  },
  {
   "cell_type": "code",
   "execution_count": null,
   "id": "8cf960a4",
   "metadata": {},
   "outputs": [],
   "source": [
    "#51.답변\n",
    "movie_rank = [\"닥터 스트레인지\", \"스플릿\", \"럭키\"]"
   ]
  },
  {
   "cell_type": "code",
   "execution_count": 65,
   "id": "defcb5aa",
   "metadata": {},
   "outputs": [
    {
     "name": "stdout",
     "output_type": "stream",
     "text": [
      "['닥터 스트레인지', '스플릿', '럭키', '배트맨']\n"
     ]
    }
   ],
   "source": [
    "#52.답변\n",
    "movie_rank = [\"닥터 스트레인지\", \"스플릿\", \"럭키\"]\n",
    "movie_rank.append(\"배트맨\")\n",
    "print(movie_rank)"
   ]
  },
  {
   "cell_type": "code",
   "execution_count": 66,
   "id": "bdb3bcba",
   "metadata": {},
   "outputs": [],
   "source": [
    "#53.답변 (오답)\n",
    "movie_rank = ['닥터 스트레인지', '스플릿', '럭키', '배트맨']\n",
    "movie_rank.insert(1,\"슈퍼맨\")"
   ]
  },
  {
   "cell_type": "code",
   "execution_count": 69,
   "id": "015915ce",
   "metadata": {
    "scrolled": true
   },
   "outputs": [
    {
     "name": "stdout",
     "output_type": "stream",
     "text": [
      "None\n"
     ]
    }
   ],
   "source": [
    "#54.답변 (오답)\n",
    "movie_rank = ['닥터 스트레인지', '슈퍼맨', '스플릿', '럭키', '배트맨']\n",
    "del movie_rank[3]\n",
    "print(movie_rank)"
   ]
  },
  {
   "cell_type": "code",
   "execution_count": null,
   "id": "77791d7b",
   "metadata": {},
   "outputs": [],
   "source": [
    "#55.답변\n",
    "movie_rank = ['닥터 스트레인지', '슈퍼맨', '스플릿', '배트맨']\n",
    "del movie_rank[2]\n",
    "del movie_rank[2]\n",
    "print(movie_rank)"
   ]
  },
  {
   "cell_type": "code",
   "execution_count": 71,
   "id": "e01b8406",
   "metadata": {},
   "outputs": [
    {
     "name": "stdout",
     "output_type": "stream",
     "text": [
      "['C', 'C++', 'JAVA', 'Python', 'Go', 'C#']\n"
     ]
    }
   ],
   "source": [
    "#56.답변\n",
    "lang1 = [\"C\", \"C++\", \"JAVA\"]\n",
    "lang2 = [\"Python\", \"Go\", \"C#\"]\n",
    "\n",
    "langs = lang1 + lang2\n",
    "print(langs)"
   ]
  },
  {
   "cell_type": "code",
   "execution_count": 73,
   "id": "763dc3ec",
   "metadata": {},
   "outputs": [
    {
     "name": "stdout",
     "output_type": "stream",
     "text": [
      "7\n",
      "1\n"
     ]
    }
   ],
   "source": [
    "#57.답변\n",
    "nums = [1, 2, 3, 4, 5, 6, 7]\n",
    "print(max(nums))\n",
    "print(min(nums))"
   ]
  },
  {
   "cell_type": "code",
   "execution_count": 74,
   "id": "9c0a3b64",
   "metadata": {},
   "outputs": [
    {
     "name": "stdout",
     "output_type": "stream",
     "text": [
      "15\n"
     ]
    }
   ],
   "source": [
    "#58.답변 (오답)\n",
    "nums = [1, 2, 3, 4, 5]\n",
    "print(sum(nums))"
   ]
  },
  {
   "cell_type": "code",
   "execution_count": 75,
   "id": "53727f8b",
   "metadata": {},
   "outputs": [
    {
     "data": {
      "text/plain": [
       "12"
      ]
     },
     "execution_count": 75,
     "metadata": {},
     "output_type": "execute_result"
    }
   ],
   "source": [
    "#59.답변\n",
    "cook = [\"피자\", \"김밥\", \"만두\", \"양념치킨\", \"족발\", \"피자\", \"김치만두\", \"쫄면\", \"소시지\", \"라면\", \"팥빙수\", \"김치전\"]\n",
    "len(cook)"
   ]
  },
  {
   "cell_type": "code",
   "execution_count": 78,
   "id": "b44238e4",
   "metadata": {},
   "outputs": [
    {
     "name": "stdout",
     "output_type": "stream",
     "text": [
      "3.0\n"
     ]
    }
   ],
   "source": [
    "#60.답변\n",
    "nums = [1, 2, 3, 4, 5]\n",
    "avg = sum(nums)/len(nums)\n",
    "print(avg)"
   ]
  },
  {
   "cell_type": "code",
   "execution_count": 80,
   "id": "356a5d61",
   "metadata": {},
   "outputs": [
    {
     "data": {
      "text/plain": [
       "[100, 130, 140, 150, 160, 170]"
      ]
     },
     "execution_count": 80,
     "metadata": {},
     "output_type": "execute_result"
    }
   ],
   "source": [
    "#61.답변\n",
    "price = ['20180728', 100, 130, 140, 150, 160, 170]\n",
    "price[1:]"
   ]
  },
  {
   "cell_type": "code",
   "execution_count": 84,
   "id": "b84dbbd0",
   "metadata": {},
   "outputs": [
    {
     "data": {
      "text/plain": [
       "[1, 3, 5, 7, 9]"
      ]
     },
     "execution_count": 84,
     "metadata": {},
     "output_type": "execute_result"
    }
   ],
   "source": [
    "#62.답변\n",
    "nums = [1, 2, 3, 4, 5, 6, 7, 8, 9, 10]\n",
    "nums[::2]"
   ]
  },
  {
   "cell_type": "code",
   "execution_count": 87,
   "id": "e7e59796",
   "metadata": {},
   "outputs": [
    {
     "data": {
      "text/plain": [
       "[2, 4, 6, 8, 10]"
      ]
     },
     "execution_count": 87,
     "metadata": {},
     "output_type": "execute_result"
    }
   ],
   "source": [
    "#63.답변\n",
    "nums = [1, 2, 3, 4, 5, 6, 7, 8, 9, 10]\n",
    "nums[1::2]"
   ]
  },
  {
   "cell_type": "code",
   "execution_count": 88,
   "id": "777cb246",
   "metadata": {},
   "outputs": [
    {
     "data": {
      "text/plain": [
       "[5, 4, 3, 2, 1]"
      ]
     },
     "execution_count": 88,
     "metadata": {},
     "output_type": "execute_result"
    }
   ],
   "source": [
    "#64.답변\n",
    "nums = [1, 2, 3, 4, 5]\n",
    "nums[::-1]"
   ]
  },
  {
   "cell_type": "code",
   "execution_count": 89,
   "id": "a3cbc548",
   "metadata": {},
   "outputs": [
    {
     "data": {
      "text/plain": [
       "'삼성전자 Naver'"
      ]
     },
     "execution_count": 89,
     "metadata": {},
     "output_type": "execute_result"
    }
   ],
   "source": [
    "#65.답변\n",
    "interest = ['삼성전자', 'LG전자', 'Naver']\n",
    "interest[0]+\" \"+interest[2]"
   ]
  },
  {
   "cell_type": "code",
   "execution_count": 91,
   "id": "69b3e6f2",
   "metadata": {},
   "outputs": [
    {
     "data": {
      "text/plain": [
       "'삼성전자 LG전자 Naver SK하이닉스 미래에셋대우'"
      ]
     },
     "execution_count": 91,
     "metadata": {},
     "output_type": "execute_result"
    }
   ],
   "source": [
    "#66.답변\n",
    "interest = ['삼성전자', 'LG전자', 'Naver', 'SK하이닉스', '미래에셋대우']\n",
    "\" \".join(interest)"
   ]
  },
  {
   "cell_type": "code",
   "execution_count": 92,
   "id": "39cf0bac",
   "metadata": {},
   "outputs": [
    {
     "data": {
      "text/plain": [
       "'삼성전자/LG전자/Naver/SK하이닉스/미래에셋대우'"
      ]
     },
     "execution_count": 92,
     "metadata": {},
     "output_type": "execute_result"
    }
   ],
   "source": [
    "#67.답변\n",
    "interest = ['삼성전자', 'LG전자', 'Naver', 'SK하이닉스', '미래에셋대우']\n",
    "\"/\".join(interest)"
   ]
  },
  {
   "cell_type": "code",
   "execution_count": 93,
   "id": "5a754513",
   "metadata": {},
   "outputs": [
    {
     "name": "stdout",
     "output_type": "stream",
     "text": [
      "삼성전자\n",
      "LG전자\n",
      "Naver\n",
      "SK하이닉스\n",
      "미래에셋대우\n"
     ]
    }
   ],
   "source": [
    "#68.답변\n",
    "interest = ['삼성전자', 'LG전자', 'Naver', 'SK하이닉스', '미래에셋대우']\n",
    "print(\"\\n\".join(interest))\n"
   ]
  },
  {
   "cell_type": "code",
   "execution_count": 94,
   "id": "2f89cf59",
   "metadata": {},
   "outputs": [
    {
     "name": "stdout",
     "output_type": "stream",
     "text": [
      "['삼성전자', 'LG전자', 'Naver']\n"
     ]
    }
   ],
   "source": [
    "#69.답변\n",
    "string = \"삼성전자/LG전자/Naver\"\n",
    "print(string.split(\"/\"))"
   ]
  },
  {
   "cell_type": "code",
   "execution_count": 97,
   "id": "9608b862",
   "metadata": {},
   "outputs": [
    {
     "name": "stdout",
     "output_type": "stream",
     "text": [
      "[2, 4, 3, 1, 5, 10, 9]\n"
     ]
    }
   ],
   "source": [
    "#70.답변\n",
    "data = [2, 4, 3, 1, 5, 10, 9]\n",
    "data.sort()\n",
    "print(data)"
   ]
  },
  {
   "cell_type": "code",
   "execution_count": null,
   "id": "fccbb5b6",
   "metadata": {},
   "outputs": [],
   "source": [
    "#71.답변\n",
    "my_variable = ()"
   ]
  },
  {
   "cell_type": "code",
   "execution_count": 98,
   "id": "17609c0b",
   "metadata": {},
   "outputs": [],
   "source": [
    "#72.답변\n",
    "movie_rank=(\"닥터 스트레인지\",\"스플릿\",\"럭키\")"
   ]
  },
  {
   "cell_type": "code",
   "execution_count": 99,
   "id": "8e6914ea",
   "metadata": {},
   "outputs": [],
   "source": [
    "#73.답변 (오답)\n",
    "movie_rank = (1,)"
   ]
  },
  {
   "cell_type": "code",
   "execution_count": null,
   "id": "2881b308",
   "metadata": {},
   "outputs": [],
   "source": [
    "#74.답변\n",
    "# 튜플은 값 수정이 불가능하기 때문이다."
   ]
  },
  {
   "cell_type": "code",
   "execution_count": null,
   "id": "ff1962f5",
   "metadata": {},
   "outputs": [],
   "source": [
    "#75.답변\n",
    "#튜플"
   ]
  },
  {
   "cell_type": "code",
   "execution_count": null,
   "id": "8c04b1d8",
   "metadata": {},
   "outputs": [],
   "source": [
    "#76.답변\n",
    "#다시 정의해야 함"
   ]
  },
  {
   "cell_type": "code",
   "execution_count": 100,
   "id": "d0520f21",
   "metadata": {},
   "outputs": [
    {
     "name": "stdout",
     "output_type": "stream",
     "text": [
      "<class 'list'>\n"
     ]
    }
   ],
   "source": [
    "#77.답변\n",
    "interest = ('삼성전자', 'LG전자', 'SK Hynix')\n",
    "data = list(interest)\n",
    "print(type(data))"
   ]
  },
  {
   "cell_type": "code",
   "execution_count": 101,
   "id": "cd356cfc",
   "metadata": {},
   "outputs": [
    {
     "name": "stdout",
     "output_type": "stream",
     "text": [
      "<class 'tuple'>\n"
     ]
    }
   ],
   "source": [
    "#78.답변\n",
    "interest = ['삼성전자', 'LG전자', 'SK Hynix']\n",
    "data = tuple(interest)\n",
    "print(type(data))"
   ]
  },
  {
   "cell_type": "code",
   "execution_count": null,
   "id": "228600ac",
   "metadata": {},
   "outputs": [],
   "source": [
    "#79.답변\n",
    "temp = ('apple', 'banana', 'cake')\n",
    "a, b, c = temp\n",
    "print(a, b, c)\n",
    "#모두가 apple banana cake값을 가진 튜플임"
   ]
  },
  {
   "cell_type": "code",
   "execution_count": 102,
   "id": "f28b38f0",
   "metadata": {
    "scrolled": true
   },
   "outputs": [
    {
     "name": "stdout",
     "output_type": "stream",
     "text": [
      "(2, 4, 6, 8, 10, 12, 14, 16, 18, 20, 22, 24, 26, 28, 30, 32, 34, 36, 38, 40, 42, 44, 46, 48, 50, 52, 54, 56, 58, 60, 62, 64, 66, 68, 70, 72, 74, 76, 78, 80, 82, 84, 86, 88, 90, 92, 94, 96, 98)\n"
     ]
    }
   ],
   "source": [
    "#80.답변 (오답)\n",
    "data = tuple(range(2, 100, 2))\n",
    "print( data )"
   ]
  },
  {
   "cell_type": "code",
   "execution_count": 24,
   "id": "ea110663",
   "metadata": {
    "ExecuteTime": {
     "end_time": "2023-11-27T11:17:14.655590Z",
     "start_time": "2023-11-27T11:17:14.649109Z"
    }
   },
   "outputs": [
    {
     "name": "stdout",
     "output_type": "stream",
     "text": [
      "7.8\n"
     ]
    }
   ],
   "source": [
    "#81. 답변\n",
    "scores = [8.8, 8.9, 8.7, 9.2, 9.3, 9.7, 9.9, 9.5, 7.8, 9.4]\n",
    "*valid_score, a, b = scores\n",
    "print(valid_score)"
   ]
  },
  {
   "cell_type": "code",
   "execution_count": 3,
   "id": "4a52aff9",
   "metadata": {
    "ExecuteTime": {
     "end_time": "2023-11-27T10:55:15.835615Z",
     "start_time": "2023-11-27T10:55:15.830233Z"
    }
   },
   "outputs": [
    {
     "name": "stdout",
     "output_type": "stream",
     "text": [
      "[8.8, 8.9, 8.7, 9.2, 9.3, 9.7, 9.9, 9.5]\n"
     ]
    }
   ],
   "source": [
    "#82. 답변\n",
    "scores = [8.8, 8.9, 8.7, 9.2, 9.3, 9.7, 9.9, 9.5, 7.8, 9.4]\n",
    "*valid_score, a, b = scores\n",
    "print(valid_score)"
   ]
  },
  {
   "cell_type": "code",
   "execution_count": null,
   "id": "111be664",
   "metadata": {},
   "outputs": [],
   "source": [
    "#83. 답변\n",
    "scores = [8.8, 8.9, 8.7, 9.2, 9.3, 9.7, 9.9, 9.5, 7.8, 9.4]\n",
    "a, *valid_score, b = scores\n",
    "print(valid_score)"
   ]
  },
  {
   "cell_type": "code",
   "execution_count": null,
   "id": "6a4381cd",
   "metadata": {},
   "outputs": [],
   "source": [
    "#84. 답변\n",
    "temp = {}"
   ]
  },
  {
   "cell_type": "code",
   "execution_count": null,
   "id": "49ea803b",
   "metadata": {},
   "outputs": [],
   "source": [
    "#85. 답변\n",
    "icecream = {\"메로나\": 1000, \"폴라포\": 1200, \"빵빠레\": 1800}"
   ]
  },
  {
   "cell_type": "code",
   "execution_count": 4,
   "id": "92d748dd",
   "metadata": {
    "ExecuteTime": {
     "end_time": "2023-11-27T10:58:33.412741Z",
     "start_time": "2023-11-27T10:58:33.407489Z"
    }
   },
   "outputs": [
    {
     "name": "stdout",
     "output_type": "stream",
     "text": [
      "{'메로나': 1000, '폴라포': 1200, '빵빠레': 1800, '죠스바': 1200, '월드콘': 1500}\n"
     ]
    }
   ],
   "source": [
    "#86 답변\n",
    "icecream = {\"메로나\": 1000, \"폴라포\": 1200, \"빵빠레\": 1800}\n",
    "icecream['죠스바'] = 1200\n",
    "icecream['월드콘'] = 1500\n",
    "print(icecream)"
   ]
  },
  {
   "cell_type": "code",
   "execution_count": 5,
   "id": "169a8343",
   "metadata": {
    "ExecuteTime": {
     "end_time": "2023-11-27T10:59:47.906370Z",
     "start_time": "2023-11-27T10:59:47.901295Z"
    }
   },
   "outputs": [
    {
     "name": "stdout",
     "output_type": "stream",
     "text": [
      "1000\n"
     ]
    }
   ],
   "source": [
    "#87.답변\n",
    "print(icecream['메로나'])"
   ]
  },
  {
   "cell_type": "code",
   "execution_count": 6,
   "id": "22b2db3a",
   "metadata": {
    "ExecuteTime": {
     "end_time": "2023-11-27T11:00:35.024215Z",
     "start_time": "2023-11-27T11:00:35.020188Z"
    }
   },
   "outputs": [
    {
     "name": "stdout",
     "output_type": "stream",
     "text": [
      "{'메로나': 1300, '폴라포': 1200, '빵빠레': 1800, '죠스바': 1200, '월드콘': 1500}\n"
     ]
    }
   ],
   "source": [
    "#88. 답변\n",
    "icecream['메로나'] = 1300\n",
    "print(icecream)"
   ]
  },
  {
   "cell_type": "code",
   "execution_count": 8,
   "id": "7bc63451",
   "metadata": {
    "ExecuteTime": {
     "end_time": "2023-11-27T11:01:26.226548Z",
     "start_time": "2023-11-27T11:01:24.942195Z"
    }
   },
   "outputs": [
    {
     "ename": "KeyError",
     "evalue": "'메로나'",
     "output_type": "error",
     "traceback": [
      "\u001b[1;31m---------------------------------------------------------------------------\u001b[0m",
      "\u001b[1;31mKeyError\u001b[0m                                  Traceback (most recent call last)",
      "Cell \u001b[1;32mIn[8], line 2\u001b[0m\n\u001b[0;32m      1\u001b[0m \u001b[38;5;66;03m#89. 답변\u001b[39;00m\n\u001b[1;32m----> 2\u001b[0m \u001b[38;5;28;01mdel\u001b[39;00m icecream[\u001b[38;5;124m'\u001b[39m\u001b[38;5;124m메로나\u001b[39m\u001b[38;5;124m'\u001b[39m]\n\u001b[0;32m      3\u001b[0m \u001b[38;5;28mprint\u001b[39m(icecream)\n",
      "\u001b[1;31mKeyError\u001b[0m: '메로나'"
     ]
    }
   ],
   "source": [
    "#89. 답변\n",
    "del icecream['메로나']\n",
    "print(icecream)"
   ]
  },
  {
   "cell_type": "code",
   "execution_count": null,
   "id": "3ed73096",
   "metadata": {},
   "outputs": [],
   "source": [
    "#90. 답변\n",
    "#딕셔너리에 '누가바' 키가 없어서 오류가 발생  "
   ]
  },
  {
   "cell_type": "code",
   "execution_count": 11,
   "id": "5480fed8",
   "metadata": {
    "ExecuteTime": {
     "end_time": "2023-11-27T11:05:58.009601Z",
     "start_time": "2023-11-27T11:05:58.005082Z"
    }
   },
   "outputs": [
    {
     "name": "stdout",
     "output_type": "stream",
     "text": [
      "{'메로나': [300, 20], '비비빅': [400, 3], '죠스바': [250, 100]}\n"
     ]
    }
   ],
   "source": [
    "#91. 답변\n",
    "inventory = {\"메로나\":[300,20],\"비비빅\":[400,3],\"죠스바\":[250,100]}\n",
    "print(inventory)"
   ]
  },
  {
   "cell_type": "code",
   "execution_count": 12,
   "id": "6df9ac1e",
   "metadata": {
    "ExecuteTime": {
     "end_time": "2023-11-27T11:06:41.168045Z",
     "start_time": "2023-11-27T11:06:41.163238Z"
    }
   },
   "outputs": [
    {
     "name": "stdout",
     "output_type": "stream",
     "text": [
      "[250, 100]\n"
     ]
    }
   ],
   "source": [
    "#92. 답변\n",
    "inventory = {\"메로나\":[300,20],\"비비빅\":[400,3],\"죠스바\":[250,100]}\n",
    "print(inventory['죠스바'][0])"
   ]
  },
  {
   "cell_type": "code",
   "execution_count": null,
   "id": "581eb15b",
   "metadata": {},
   "outputs": [],
   "source": [
    "#93. 답변\n",
    "inventory = {\"메로나\":[300,20],\"비비빅\":[400,3],\"죠스바\":[250,100]}\n",
    "print(inventory['죠스바'][1])"
   ]
  },
  {
   "cell_type": "code",
   "execution_count": null,
   "id": "2b50a438",
   "metadata": {},
   "outputs": [],
   "source": [
    "#94. 답변\n",
    "inventory['월드콘'] = [500,7]"
   ]
  },
  {
   "cell_type": "code",
   "execution_count": 13,
   "id": "482b0a77",
   "metadata": {
    "ExecuteTime": {
     "end_time": "2023-11-27T11:08:49.392183Z",
     "start_time": "2023-11-27T11:08:49.383247Z"
    }
   },
   "outputs": [
    {
     "data": {
      "text/plain": [
       "dict_keys(['탱크보이', '폴라포', '빵빠레', '월드콘', '메로나'])"
      ]
     },
     "execution_count": 13,
     "metadata": {},
     "output_type": "execute_result"
    }
   ],
   "source": [
    "#95. 답변\n",
    "icecream = {'탱크보이': 1200, '폴라포': 1200, '빵빠레': 1800, '월드콘': 1500, '메로나': 1000}\n",
    "print(list(icecream.keys()))"
   ]
  },
  {
   "cell_type": "code",
   "execution_count": 14,
   "id": "bde53b8e",
   "metadata": {
    "ExecuteTime": {
     "end_time": "2023-11-27T11:09:30.833251Z",
     "start_time": "2023-11-27T11:09:30.828698Z"
    }
   },
   "outputs": [
    {
     "name": "stdout",
     "output_type": "stream",
     "text": [
      "[1200, 1200, 1800, 1500, 1000]\n"
     ]
    }
   ],
   "source": [
    "#96. 답변\n",
    "icecream = {'탱크보이': 1200, '폴라포': 1200, '빵빠레': 1800, '월드콘': 1500, '메로나': 1000}\n",
    "print(list(icecream.values()))"
   ]
  },
  {
   "cell_type": "code",
   "execution_count": 28,
   "id": "83efbccc",
   "metadata": {
    "ExecuteTime": {
     "end_time": "2023-11-27T11:25:35.098657Z",
     "start_time": "2023-11-27T11:25:35.092657Z"
    }
   },
   "outputs": [
    {
     "data": {
      "text/plain": [
       "6700"
      ]
     },
     "execution_count": 28,
     "metadata": {},
     "output_type": "execute_result"
    }
   ],
   "source": [
    "#97. 답변\n",
    "icecream = {'탱크보이': 1200, '폴라포': 1200, '빵빠레': 1800, '월드콘': 1500, '메로나': 1000}\n",
    "sum(list(icecream.values()))"
   ]
  },
  {
   "cell_type": "code",
   "execution_count": 31,
   "id": "4eb9ea6f",
   "metadata": {
    "ExecuteTime": {
     "end_time": "2023-11-27T11:27:26.047349Z",
     "start_time": "2023-11-27T11:27:26.042544Z"
    }
   },
   "outputs": [
    {
     "name": "stdout",
     "output_type": "stream",
     "text": [
      "{'탱크보이': 1200, '폴라포': 1200, '빵빠레': 1800, '월드콘': 1500, '메로나': 1000, '팥빙수': 2700, '아맛나': 1000}\n"
     ]
    }
   ],
   "source": [
    "#98. 답변\n",
    "icecream = {'탱크보이': 1200, '폴라포': 1200, '빵빠레': 1800, '월드콘': 1500, '메로나': 1000}\n",
    "new_product = {'팥빙수':2700, '아맛나':1000}\n",
    "icecream.update(new_product)\n",
    "print(icecream)"
   ]
  },
  {
   "cell_type": "code",
   "execution_count": 33,
   "id": "257d2fc0",
   "metadata": {
    "ExecuteTime": {
     "end_time": "2023-11-27T11:35:04.407136Z",
     "start_time": "2023-11-27T11:35:04.402271Z"
    }
   },
   "outputs": [
    {
     "name": "stdout",
     "output_type": "stream",
     "text": [
      "{'apple': 300, 'pear': 250, 'peach': 400}\n"
     ]
    }
   ],
   "source": [
    "#99. 답변 (오답)\n",
    "keys = (\"apple\", \"pear\", \"peach\")\n",
    "vals = (300, 250, 400)\n",
    "result = dict(zip(keys, vals))\n",
    "print(result)"
   ]
  },
  {
   "cell_type": "code",
   "execution_count": null,
   "id": "d54c1aed",
   "metadata": {},
   "outputs": [],
   "source": [
    "#100. 답변 (오답)\n",
    "date = ['09/05', '09/06', '09/07', '09/08', '09/09']\n",
    "close_price = [10500, 10300, 10100, 10800, 11000]\n",
    "close_table = dict(zip(date, close_price))\n",
    "print(close_table)"
   ]
  },
  {
   "cell_type": "code",
   "execution_count": null,
   "id": "6c8b118d",
   "metadata": {},
   "outputs": [],
   "source": [
    "#101. 답변\n",
    "#bool 타입"
   ]
  },
  {
   "cell_type": "code",
   "execution_count": null,
   "id": "88c427e8",
   "metadata": {},
   "outputs": [],
   "source": [
    "#102. 답변\n",
    "#False"
   ]
  },
  {
   "cell_type": "code",
   "execution_count": null,
   "id": "377abf66",
   "metadata": {},
   "outputs": [],
   "source": [
    "#103. 답변\n",
    "True"
   ]
  },
  {
   "cell_type": "code",
   "execution_count": null,
   "id": "614dc6f9",
   "metadata": {},
   "outputs": [],
   "source": [
    "#104. 답변\n",
    "True"
   ]
  },
  {
   "cell_type": "code",
   "execution_count": 1,
   "id": "4852199c",
   "metadata": {
    "ExecuteTime": {
     "end_time": "2023-11-28T07:38:30.188717Z",
     "start_time": "2023-11-28T07:38:30.150197Z"
    }
   },
   "outputs": [
    {
     "name": "stdout",
     "output_type": "stream",
     "text": [
      "True\n"
     ]
    },
    {
     "data": {
      "text/plain": [
       "True"
      ]
     },
     "execution_count": 1,
     "metadata": {},
     "output_type": "execute_result"
    }
   ],
   "source": [
    "#105. 답변\n",
    "True"
   ]
  },
  {
   "cell_type": "code",
   "execution_count": null,
   "id": "e875a7a3",
   "metadata": {},
   "outputs": [],
   "source": [
    "#106. 답변\n",
    "#비교 연산자가 이상하게 삽입됨 >= 가 맞음"
   ]
  },
  {
   "cell_type": "code",
   "execution_count": null,
   "id": "3f20447d",
   "metadata": {},
   "outputs": [],
   "source": [
    "#107. 답변\n",
    "#아무것도 출력이 안 됨"
   ]
  },
  {
   "cell_type": "code",
   "execution_count": null,
   "id": "5ab5d46f",
   "metadata": {},
   "outputs": [],
   "source": [
    "#108. 답변\n",
    "#if 부분의 조건문이 False 이므로 else 구문의 \"Hi, there\""
   ]
  },
  {
   "cell_type": "code",
   "execution_count": null,
   "id": "68836806",
   "metadata": {},
   "outputs": [],
   "source": [
    "#109. 답변\n",
    "#if 부분이 True이므로 1과 2가 실행됨"
   ]
  },
  {
   "cell_type": "code",
   "execution_count": null,
   "id": "a48f1fd3",
   "metadata": {},
   "outputs": [],
   "source": [
    "#110. 답변\n",
    "# 3과 5가 출력됨"
   ]
  },
  {
   "cell_type": "code",
   "execution_count": null,
   "id": "72893dec",
   "metadata": {},
   "outputs": [],
   "source": [
    "#111. 답변\n",
    "user = input(\"\")\n",
    "print(user * 2)"
   ]
  },
  {
   "cell_type": "code",
   "execution_count": 2,
   "id": "304df032",
   "metadata": {
    "ExecuteTime": {
     "end_time": "2023-11-28T10:55:48.043544Z",
     "start_time": "2023-11-28T10:55:46.598547Z"
    }
   },
   "outputs": [
    {
     "name": "stdout",
     "output_type": "stream",
     "text": [
      "숫자를 입력하세요: 10\n",
      "20\n"
     ]
    }
   ],
   "source": [
    "#112. 답변\n",
    "num = input(\"숫자를 입력하세요: \")\n",
    "print(int(num)+10)"
   ]
  },
  {
   "cell_type": "code",
   "execution_count": 5,
   "id": "eae7878e",
   "metadata": {
    "ExecuteTime": {
     "end_time": "2023-11-28T10:57:43.001255Z",
     "start_time": "2023-11-28T10:57:39.757487Z"
    }
   },
   "outputs": [
    {
     "name": "stdout",
     "output_type": "stream",
     "text": [
      "입력: 20\n",
      "짝수\n"
     ]
    }
   ],
   "source": [
    "#113. 답변\n",
    "num = input(\"입력: \")\n",
    "if int(num)%2 == 1:\n",
    "    print (\"홀수\")\n",
    "else :\n",
    "    print (\"짝수\")"
   ]
  },
  {
   "cell_type": "code",
   "execution_count": 8,
   "id": "cefe54af",
   "metadata": {
    "ExecuteTime": {
     "end_time": "2023-11-28T10:59:26.652994Z",
     "start_time": "2023-11-28T10:59:24.084346Z"
    }
   },
   "outputs": [
    {
     "name": "stdout",
     "output_type": "stream",
     "text": [
      "입력값: 267\n",
      "255\n"
     ]
    }
   ],
   "source": [
    "#114. 답변\n",
    "num = input(\"입력값: \")\n",
    "if int(num) + 20 > 255:\n",
    "    print(255)\n",
    "else :\n",
    "    print(int(num)+20)"
   ]
  },
  {
   "cell_type": "code",
   "execution_count": 11,
   "id": "4edfe03a",
   "metadata": {
    "ExecuteTime": {
     "end_time": "2023-11-28T11:01:28.375943Z",
     "start_time": "2023-11-28T11:01:26.540214Z"
    }
   },
   "outputs": [
    {
     "name": "stdout",
     "output_type": "stream",
     "text": [
      "입력값: 40\n",
      "20\n"
     ]
    }
   ],
   "source": [
    "#115. 답변\n",
    "num = input(\"입력값: \")\n",
    "if int(num) - 20 > 255:\n",
    "    print(255)\n",
    "elif int(num) - 20 < 0:\n",
    "    print(0)\n",
    "else :\n",
    "    print(int(num)-20)"
   ]
  },
  {
   "cell_type": "code",
   "execution_count": 12,
   "id": "83a23564",
   "metadata": {
    "ExecuteTime": {
     "end_time": "2023-11-28T11:03:19.991136Z",
     "start_time": "2023-11-28T11:03:15.181365Z"
    }
   },
   "outputs": [
    {
     "name": "stdout",
     "output_type": "stream",
     "text": [
      "현재시간: 02:00\n",
      "정각 입니다.\n"
     ]
    }
   ],
   "source": [
    "#116. 답변\n",
    "time = input(\"현재시간: \")\n",
    "if time[-2:]==\"00\" :\n",
    "    print(\"정각 입니다.\")\n",
    "else:\n",
    "    print(\"정각이 아닙니다.\")"
   ]
  },
  {
   "cell_type": "code",
   "execution_count": 14,
   "id": "6691b7ed",
   "metadata": {
    "ExecuteTime": {
     "end_time": "2023-11-28T11:04:51.038438Z",
     "start_time": "2023-11-28T11:04:48.234091Z"
    }
   },
   "outputs": [
    {
     "name": "stdout",
     "output_type": "stream",
     "text": [
      "좋아하는 과일은? 키위\n",
      "오답입니다\n"
     ]
    }
   ],
   "source": [
    "#117. 답변\n",
    "fruit = [\"사과\", \"포도\", \"홍시\"]\n",
    "name = input(\"좋아하는 과일은? \")\n",
    "if name in fruit :\n",
    "    print(\"정답입니다\")\n",
    "else:\n",
    "    print(\"오답입니다\")"
   ]
  },
  {
   "cell_type": "code",
   "execution_count": 17,
   "id": "64734fa4",
   "metadata": {
    "ExecuteTime": {
     "end_time": "2023-11-28T11:08:24.783225Z",
     "start_time": "2023-11-28T11:08:21.095955Z"
    }
   },
   "outputs": [
    {
     "name": "stdout",
     "output_type": "stream",
     "text": [
      "종목명: Microsoft\n",
      "투자 경고 종목입니다\n"
     ]
    }
   ],
   "source": [
    "#118. 답변\n",
    "warn_investment_list = [\"Microsoft\", \"Google\", \"Naver\", \"Kakao\", \"SAMSUNG\", \"LG\"]\n",
    "name = input(\"종목명: \")\n",
    "if name in warn_investment_list:\n",
    "    print(\"투자 경고 종목입니다\")\n",
    "else:\n",
    "    print(\"투자 경고 종목이 아닙니다.\")"
   ]
  },
  {
   "cell_type": "code",
   "execution_count": 24,
   "id": "406d5e39",
   "metadata": {
    "ExecuteTime": {
     "end_time": "2023-11-28T11:12:25.926924Z",
     "start_time": "2023-11-28T11:12:23.751035Z"
    }
   },
   "outputs": [
    {
     "name": "stdout",
     "output_type": "stream",
     "text": [
      "제가좋아하는계절은: 봄\n",
      "정답입니다\n"
     ]
    }
   ],
   "source": [
    "#119. 답변\n",
    "fruit = {\"봄\" : \"딸기\", \"여름\" : \"토마토\", \"가을\" : \"사과\"}\n",
    "season = list(fruit.keys())\n",
    "name = input(\"제가좋아하는계절은: \")\n",
    "if name in season:\n",
    "    print(\"정답입니다\")\n",
    "else:\n",
    "    print(\"오답입니다\")"
   ]
  },
  {
   "cell_type": "code",
   "execution_count": 25,
   "id": "3ecf438a",
   "metadata": {
    "ExecuteTime": {
     "end_time": "2023-11-28T11:13:45.671449Z",
     "start_time": "2023-11-28T11:13:43.103368Z"
    }
   },
   "outputs": [
    {
     "name": "stdout",
     "output_type": "stream",
     "text": [
      "좋아하는과일은? 딸기\n",
      "정답입니다\n"
     ]
    }
   ],
   "source": [
    "#120. 답변\n",
    "fruit = {\"봄\" : \"딸기\", \"여름\" : \"토마토\", \"가을\" : \"사과\"}\n",
    "fruit_name = list(fruit.values())\n",
    "name = input(\"좋아하는과일은? \")\n",
    "if name in fruit_name:\n",
    "    print(\"정답입니다\")\n",
    "else:\n",
    "    print(\"오답입니다\")"
   ]
  },
  {
   "cell_type": "code",
   "execution_count": 31,
   "id": "0cb7ecc3",
   "metadata": {
    "ExecuteTime": {
     "end_time": "2023-11-28T11:47:22.904476Z",
     "start_time": "2023-11-28T11:47:21.242182Z"
    }
   },
   "outputs": [
    {
     "name": "stdout",
     "output_type": "stream",
     "text": [
      "알파벳 입력:a\n",
      "A\n"
     ]
    }
   ],
   "source": [
    "#121. 답변\n",
    "alpha = input(\"알파벳 입력:\")\n",
    "if alpha.islower:\n",
    "    print(alpha.upper())\n",
    "else:\n",
    "    print(alpha.lower())"
   ]
  },
  {
   "cell_type": "code",
   "execution_count": 36,
   "id": "f983af31",
   "metadata": {
    "ExecuteTime": {
     "end_time": "2023-11-28T11:57:53.627111Z",
     "start_time": "2023-11-28T11:57:51.076136Z"
    }
   },
   "outputs": [
    {
     "name": "stdout",
     "output_type": "stream",
     "text": [
      "score:54\n",
      "C\n"
     ]
    }
   ],
   "source": [
    "#122. 답변\n",
    "score = int(input(\"score:\"))\n",
    "if score > 80 and score <= 100 :\n",
    "    print(\"A\")\n",
    "elif score > 60 and score <=80 :\n",
    "    print(\"B\")\n",
    "elif score > 40 and score <=60 :\n",
    "    print(\"C\")\n",
    "elif score > 20 and score <=40 :\n",
    "    print(\"D\")\n",
    "else:\n",
    "    print(\"E\")"
   ]
  },
  {
   "cell_type": "code",
   "execution_count": 40,
   "id": "31d61acc",
   "metadata": {
    "ExecuteTime": {
     "end_time": "2023-11-28T12:07:38.070380Z",
     "start_time": "2023-11-28T12:07:31.885091Z"
    }
   },
   "outputs": [
    {
     "name": "stdout",
     "output_type": "stream",
     "text": [
      "입력:121 달러\n",
      "141207 원\n"
     ]
    }
   ],
   "source": [
    "#123. 답변\n",
    "#공백을 넣는다고 가정하니까 split을 써야함\n",
    "\n",
    "first = input(\"입력:\")\n",
    "money= int(first.split(\" \")[0])\n",
    "curr = first.split(\" \")[1]\n",
    "if curr == \"달러\" :\n",
    "    print(str(money*1167)+\" 원\")\n",
    "elif curr == \"엔\" :\n",
    "    print(str(money*1.096)+\" 원\")\n",
    "elif curr == \"유로\" :\n",
    "    print(str(money*1268)+\" 원\")\n",
    "elif curr == \"위안\" :\n",
    "    print(str(money*171)+\" 원\")"
   ]
  },
  {
   "cell_type": "code",
   "execution_count": 42,
   "id": "a936e743",
   "metadata": {
    "ExecuteTime": {
     "end_time": "2023-11-28T12:11:13.392103Z",
     "start_time": "2023-11-28T12:11:11.734920Z"
    }
   },
   "outputs": [
    {
     "name": "stdout",
     "output_type": "stream",
     "text": [
      "number1: 1\n",
      "number2: 2\n",
      "number3: 3\n",
      "3\n"
     ]
    }
   ],
   "source": [
    "#124. 답변\n",
    "first = int(input(\"number1: \"))\n",
    "second = int(input(\"number2: \"))\n",
    "third = int(input(\"number3: \"))\n",
    "arr = [first,second,third]\n",
    "print(max(arr))\n"
   ]
  },
  {
   "cell_type": "code",
   "execution_count": 43,
   "id": "0a800eb2",
   "metadata": {
    "ExecuteTime": {
     "end_time": "2023-11-28T12:15:25.465270Z",
     "start_time": "2023-11-28T12:15:18.140885Z"
    }
   },
   "outputs": [
    {
     "name": "stdout",
     "output_type": "stream",
     "text": [
      "휴대전화 번호 입력: 011-5544-5342\n",
      "당신은 SKT 사용자입니다.\n"
     ]
    }
   ],
   "source": [
    "#125. 답변\n",
    "mobile = input(\"휴대전화 번호 입력: \")\n",
    "digit = mobile.split(\"-\")[0]\n",
    "\n",
    "if digit == \"011\":\n",
    "    print(\"당신은 SKT 사용자입니다.\")\n",
    "elif digit == \"016\":\n",
    "    print(\"당신은 KT 사용자입니다.\")\n",
    "elif digit == \"019\":\n",
    "    print(\"당신은 LGU 사용자입니다.\")\n",
    "else:\n",
    "    print(\"알수없음\")"
   ]
  },
  {
   "cell_type": "code",
   "execution_count": 44,
   "id": "0030c46b",
   "metadata": {
    "ExecuteTime": {
     "end_time": "2023-11-28T12:25:46.787434Z",
     "start_time": "2023-11-28T12:25:43.031974Z"
    }
   },
   "outputs": [
    {
     "name": "stdout",
     "output_type": "stream",
     "text": [
      "우편번호: 01234\n",
      "강북구\n"
     ]
    }
   ],
   "source": [
    "#126. 답변\n",
    "name = input(\"우편번호: \")\n",
    "location = name[2]\n",
    "if location == \"0\" or \"1\" or \"2\":\n",
    "    print(\"강북구\")\n",
    "elif location == \"3\" or \"4\" or \"5\":\n",
    "    print(\"도봉구\")\n",
    "elif location == \"6\"or \"7\" or \"8\" or \"9\":\n",
    "    print(\"노원구\")\n"
   ]
  },
  {
   "cell_type": "code",
   "execution_count": 46,
   "id": "b4ee0e09",
   "metadata": {
    "ExecuteTime": {
     "end_time": "2023-11-28T12:28:35.379410Z",
     "start_time": "2023-11-28T12:28:31.537220Z"
    }
   },
   "outputs": [
    {
     "name": "stdout",
     "output_type": "stream",
     "text": [
      "주민등록번호: 2121344-1234414\n",
      "남자\n"
     ]
    }
   ],
   "source": [
    "#127. 답변\n",
    "social_id = input(\"주민등록번호: \")\n",
    "back = social_id.split(\"-\")[1][0]\n",
    "if back == \"1\" or \"3\":\n",
    "    print(\"남자\")\n",
    "else:\n",
    "    print(\"여자\")"
   ]
  },
  {
   "cell_type": "code",
   "execution_count": 51,
   "id": "8d3d3113",
   "metadata": {
    "ExecuteTime": {
     "end_time": "2023-11-28T12:33:58.649277Z",
     "start_time": "2023-11-28T12:33:50.532246Z"
    }
   },
   "outputs": [
    {
     "name": "stdout",
     "output_type": "stream",
     "text": [
      "주민등록번호: 121211-1034455\n",
      "서울 입니다.\n"
     ]
    }
   ],
   "source": [
    "#128. 답변\n",
    "social_id = input(\"주민등록번호: \")\n",
    "back = social_id.split(\"-\")[1][1:3]\n",
    "num = int(back.replace(\"0\",\"\"))\n",
    "if num <= 8:\n",
    "    print(\"서울 입니다.\")\n",
    "elif num > 8 and num <=12:\n",
    "    print(\"서울이 아닙니다.\")"
   ]
  },
  {
   "cell_type": "code",
   "execution_count": 54,
   "id": "1ec918e2",
   "metadata": {
    "ExecuteTime": {
     "end_time": "2023-11-28T12:47:09.120888Z",
     "start_time": "2023-11-28T12:47:04.111213Z"
    }
   },
   "outputs": [
    {
     "name": "stdout",
     "output_type": "stream",
     "text": [
      "주민등록번호: 123456-1234567\n",
      "유효하지 않은 주민등록번호입니다.\n"
     ]
    }
   ],
   "source": [
    "#129. 답변\n",
    "social_id = input(\"주민등록번호: \")\n",
    "front = social_id.split(\"-\")[0]\n",
    "back = social_id.split(\"-\")[1]\n",
    "# 1차 계산\n",
    "first = (int(front[0])*2+int(front[1])*3+int(front[2])*4+int(front[3])*5+int(front[4])*6+int(front[5])*7+int(back[0])*8+int(back[1])*9+int(back[2])*2+int(back[3])*3+int(back[4])*4+int(back[5])*5)/11\n",
    "if 11-first == int(back[6]):\n",
    "    print(\"유효한 주민등록번호입니다.\")\n",
    "else:\n",
    "    print(\"유효하지 않은 주민등록번호입니다.\")"
   ]
  },
  {
   "cell_type": "code",
   "execution_count": 56,
   "id": "9a6f060b",
   "metadata": {
    "ExecuteTime": {
     "end_time": "2023-11-28T12:55:38.926523Z",
     "start_time": "2023-11-28T12:55:38.136459Z"
    }
   },
   "outputs": [
    {
     "name": "stdout",
     "output_type": "stream",
     "text": [
      "상승장\n"
     ]
    }
   ],
   "source": [
    "#130. 답변\n",
    "import requests\n",
    "btc = requests.get(\"https://api.bithumb.com/public/ticker/\").json()['data']\n",
    "#변동폭\n",
    "change = int(btc['max_price'])-int(btc['min_price'])\n",
    "if int(btc['opening_price'])+change > int(btc['max_price']):\n",
    "    print(\"상승장\")\n",
    "else:\n",
    "    print(\"하락장\")"
   ]
  },
  {
   "cell_type": "code",
   "execution_count": null,
   "id": "45e299c3",
   "metadata": {},
   "outputs": [],
   "source": [
    "#131. 답변\n",
    "# 변수라는 단어가 세번 출력됨"
   ]
  },
  {
   "cell_type": "code",
   "execution_count": null,
   "id": "6fb45281",
   "metadata": {},
   "outputs": [],
   "source": [
    "#132. 답변\n",
    "# '#####'이 세번 출력됨"
   ]
  },
  {
   "cell_type": "code",
   "execution_count": null,
   "id": "c23f0247",
   "metadata": {
    "ExecuteTime": {
     "end_time": "2023-11-29T08:24:38.623853Z",
     "start_time": "2023-11-29T08:24:38.618355Z"
    }
   },
   "outputs": [],
   "source": [
    "#133. 답변\n",
    "print(\"A\")\n",
    "print(\"B\")\n",
    "print(\"C\")"
   ]
  },
  {
   "cell_type": "code",
   "execution_count": 1,
   "id": "d0572caf",
   "metadata": {
    "ExecuteTime": {
     "end_time": "2023-11-29T08:24:38.623853Z",
     "start_time": "2023-11-29T08:24:38.618355Z"
    }
   },
   "outputs": [
    {
     "name": "stdout",
     "output_type": "stream",
     "text": [
      "출력:A\n",
      "출력:B\n",
      "출력:C\n"
     ]
    }
   ],
   "source": [
    "#134. 답변\n",
    "print(\"출력:A\")\n",
    "print(\"출력:B\")\n",
    "print(\"출력:C\")"
   ]
  },
  {
   "cell_type": "code",
   "execution_count": 2,
   "id": "4e919d1e",
   "metadata": {
    "ExecuteTime": {
     "end_time": "2023-11-29T08:24:38.623853Z",
     "start_time": "2023-11-29T08:24:38.618355Z"
    }
   },
   "outputs": [
    {
     "name": "stdout",
     "output_type": "stream",
     "text": [
      "변환: a\n",
      "변환: b\n",
      "변환: c\n"
     ]
    }
   ],
   "source": [
    "#135. 답변\n",
    "a = \"A\"\n",
    "b = \"B\"\n",
    "c = \"C\"\n",
    "\n",
    "print(\"변환:\",a.lower())\n",
    "print(\"변환:\",b.lower())\n",
    "print(\"변환:\",c.lower())"
   ]
  },
  {
   "cell_type": "code",
   "execution_count": 3,
   "id": "eeba71c0",
   "metadata": {
    "ExecuteTime": {
     "end_time": "2023-11-29T08:24:38.623853Z",
     "start_time": "2023-11-29T08:24:38.618355Z"
    }
   },
   "outputs": [
    {
     "name": "stdout",
     "output_type": "stream",
     "text": [
      "10\n",
      "20\n",
      "30\n"
     ]
    }
   ],
   "source": [
    "#136. 답변\n",
    "nums = [10,20,30]\n",
    "for num in nums:\n",
    "    print(num)"
   ]
  },
  {
   "cell_type": "code",
   "execution_count": null,
   "id": "223cc436",
   "metadata": {
    "ExecuteTime": {
     "end_time": "2023-11-29T08:24:38.623853Z",
     "start_time": "2023-11-29T08:24:38.618355Z"
    }
   },
   "outputs": [],
   "source": [
    "#137. 답변\n",
    "nums = [10,20,30]\n",
    "for num in nums:\n",
    "    print(num)\n",
    "    print(\"-------\")"
   ]
  },
  {
   "cell_type": "code",
   "execution_count": 4,
   "id": "80eb51fe",
   "metadata": {
    "ExecuteTime": {
     "end_time": "2023-11-29T08:24:38.623853Z",
     "start_time": "2023-11-29T08:24:38.618355Z"
    }
   },
   "outputs": [
    {
     "name": "stdout",
     "output_type": "stream",
     "text": [
      "10\n",
      "-------\n",
      "20\n",
      "-------\n",
      "30\n",
      "-------\n"
     ]
    }
   ],
   "source": [
    "#138. 답변\n",
    "nums = [10,20,30]\n",
    "for num in nums:\n",
    "    print(num)\n",
    "    print(\"-------\")"
   ]
  },
  {
   "cell_type": "code",
   "execution_count": null,
   "id": "29382f1f",
   "metadata": {
    "ExecuteTime": {
     "end_time": "2023-11-29T08:24:38.623853Z",
     "start_time": "2023-11-29T08:24:38.618355Z"
    }
   },
   "outputs": [],
   "source": [
    "#139. 답변\n",
    "print(\"++++\")\n",
    "nums = [10,20,30]\n",
    "for num in nums:\n",
    "    print(num)"
   ]
  },
  {
   "cell_type": "code",
   "execution_count": 7,
   "id": "f1c0ad81",
   "metadata": {
    "ExecuteTime": {
     "end_time": "2023-11-29T08:24:38.623853Z",
     "start_time": "2023-11-29T08:24:38.618355Z"
    }
   },
   "outputs": [
    {
     "name": "stdout",
     "output_type": "stream",
     "text": [
      "-------\n",
      "-------\n",
      "-------\n",
      "-------\n"
     ]
    }
   ],
   "source": [
    "#140. 답변\n",
    "for num in range(0,4):\n",
    "    print(\"-------\")"
   ]
  },
  {
   "cell_type": "code",
   "execution_count": 8,
   "id": "4a5a82f9",
   "metadata": {
    "ExecuteTime": {
     "end_time": "2023-11-29T08:24:38.623853Z",
     "start_time": "2023-11-29T08:24:38.618355Z"
    }
   },
   "outputs": [
    {
     "name": "stdout",
     "output_type": "stream",
     "text": [
      "110\n",
      "210\n",
      "310\n"
     ]
    }
   ],
   "source": [
    "#141. 답변\n",
    "리스트 = [100, 200, 300]\n",
    "for money in 리스트:\n",
    "    print(money + 10)"
   ]
  },
  {
   "cell_type": "code",
   "execution_count": 9,
   "id": "3817bec5",
   "metadata": {
    "ExecuteTime": {
     "end_time": "2023-11-29T08:24:38.623853Z",
     "start_time": "2023-11-29T08:24:38.618355Z"
    }
   },
   "outputs": [
    {
     "name": "stdout",
     "output_type": "stream",
     "text": [
      "오늘의 메뉴: 김밥\n",
      "오늘의 메뉴: 라면\n",
      "오늘의 메뉴: 튀김\n"
     ]
    }
   ],
   "source": [
    "#142. 답변\n",
    "리스트 = [\"김밥\", \"라면\", \"튀김\"]\n",
    "for name in 리스트:\n",
    "    print(\"오늘의 메뉴:\",name)"
   ]
  },
  {
   "cell_type": "code",
   "execution_count": 10,
   "id": "4e183bd9",
   "metadata": {
    "ExecuteTime": {
     "end_time": "2023-11-29T08:24:38.623853Z",
     "start_time": "2023-11-29T08:24:38.618355Z"
    }
   },
   "outputs": [
    {
     "name": "stdout",
     "output_type": "stream",
     "text": [
      "6\n",
      "4\n",
      "4\n"
     ]
    }
   ],
   "source": [
    "#143. 답변\n",
    "리스트 = [\"SK하이닉스\", \"삼성전자\", \"LG전자\"]\n",
    "for name in 리스트:\n",
    "    print(len(name))"
   ]
  },
  {
   "cell_type": "code",
   "execution_count": 13,
   "id": "77cee3ad",
   "metadata": {
    "ExecuteTime": {
     "end_time": "2023-11-29T08:24:38.623853Z",
     "start_time": "2023-11-29T08:24:38.618355Z"
    }
   },
   "outputs": [
    {
     "name": "stdout",
     "output_type": "stream",
     "text": [
      "dog 3\n",
      "cat 3\n",
      "parrot 6\n"
     ]
    }
   ],
   "source": [
    "#144. 답변\n",
    "리스트 = ['dog', 'cat', 'parrot']\n",
    "for name in 리스트:\n",
    "    print(name +\" \"+ str(len(name)))\n"
   ]
  },
  {
   "cell_type": "code",
   "execution_count": 14,
   "id": "a9b7be54",
   "metadata": {
    "ExecuteTime": {
     "end_time": "2023-11-29T08:24:38.623853Z",
     "start_time": "2023-11-29T08:24:38.618355Z"
    }
   },
   "outputs": [
    {
     "name": "stdout",
     "output_type": "stream",
     "text": [
      "d\n",
      "c\n",
      "p\n"
     ]
    }
   ],
   "source": [
    "#145. 답변\n",
    "리스트 = ['dog', 'cat', 'parrot']\n",
    "for name in 리스트:\n",
    "    print(name[0]) "
   ]
  },
  {
   "cell_type": "code",
   "execution_count": 16,
   "id": "921a7273",
   "metadata": {
    "ExecuteTime": {
     "end_time": "2023-11-29T08:24:38.623853Z",
     "start_time": "2023-11-29T08:24:38.618355Z"
    }
   },
   "outputs": [
    {
     "name": "stdout",
     "output_type": "stream",
     "text": [
      "3 x 1\n",
      "3 x 2\n",
      "3 x 3\n"
     ]
    }
   ],
   "source": [
    "#146. 답변\n",
    "리스트 = [1, 2, 3]\n",
    "for num in 리스트:\n",
    "    print(\"3 x\",num)"
   ]
  },
  {
   "cell_type": "code",
   "execution_count": 18,
   "id": "f4be55ba",
   "metadata": {
    "ExecuteTime": {
     "end_time": "2023-11-29T08:24:38.623853Z",
     "start_time": "2023-11-29T08:24:38.618355Z"
    }
   },
   "outputs": [
    {
     "name": "stdout",
     "output_type": "stream",
     "text": [
      "3 x 1 = 3\n",
      "3 x 2 = 6\n",
      "3 x 3 = 9\n"
     ]
    }
   ],
   "source": [
    "#147. 답변\n",
    "리스트 = [1, 2, 3]\n",
    "for num in 리스트:\n",
    "    print(f\"3 x {num} =\",str(3*num)) "
   ]
  },
  {
   "cell_type": "code",
   "execution_count": 20,
   "id": "b95ce5d2",
   "metadata": {
    "ExecuteTime": {
     "end_time": "2023-11-29T08:24:38.623853Z",
     "start_time": "2023-11-29T08:24:38.618355Z"
    }
   },
   "outputs": [
    {
     "name": "stdout",
     "output_type": "stream",
     "text": [
      "나\n",
      "다\n",
      "라\n"
     ]
    }
   ],
   "source": [
    "#148. 답변\n",
    "리스트 = [\"가\", \"나\", \"다\", \"라\"]\n",
    "for num in range(1,4):\n",
    "    print(리스트[num])"
   ]
  },
  {
   "cell_type": "code",
   "execution_count": null,
   "id": "07c3706a",
   "metadata": {
    "ExecuteTime": {
     "end_time": "2023-11-29T08:24:38.623853Z",
     "start_time": "2023-11-29T08:24:38.618355Z"
    }
   },
   "outputs": [],
   "source": [
    "#149. 답변\n",
    "리스트 = [\"가\", \"나\", \"다\", \"라\"]\n",
    "for text in 리스트[: :2]:\n",
    "  print(text)\n"
   ]
  },
  {
   "cell_type": "code",
   "execution_count": null,
   "id": "ed1d83a8",
   "metadata": {
    "ExecuteTime": {
     "end_time": "2023-11-29T08:24:38.623853Z",
     "start_time": "2023-11-29T08:24:38.618355Z"
    }
   },
   "outputs": [],
   "source": [
    "#150. 답변\n",
    "리스트 = [\"가\", \"나\", \"다\", \"라\"]\n",
    "for text in 리스트[: :-1]:\n",
    "  print(text)"
   ]
  },
  {
   "cell_type": "code",
   "execution_count": 21,
   "id": "cd9a9463",
   "metadata": {
    "ExecuteTime": {
     "end_time": "2023-11-29T08:24:38.623853Z",
     "start_time": "2023-11-29T08:24:38.618355Z"
    },
    "scrolled": true
   },
   "outputs": [
    {
     "name": "stdout",
     "output_type": "stream",
     "text": [
      "-20\n",
      "-3\n"
     ]
    }
   ],
   "source": [
    "#151. 답변\n",
    "리스트 = [3, -20, -3, 44]\n",
    "for num in 리스트:\n",
    "    if num < 0:\n",
    "        print(num)\n"
   ]
  },
  {
   "cell_type": "code",
   "execution_count": 22,
   "id": "7a97cf71",
   "metadata": {
    "ExecuteTime": {
     "end_time": "2023-11-29T08:24:38.623853Z",
     "start_time": "2023-11-29T08:24:38.618355Z"
    }
   },
   "outputs": [
    {
     "name": "stdout",
     "output_type": "stream",
     "text": [
      "3\n"
     ]
    }
   ],
   "source": [
    "#152. 답변\n",
    "리스트 = [3, 100, 23, 44]\n",
    "for num in 리스트:\n",
    "    if num%3 == 0:\n",
    "        print(num)"
   ]
  },
  {
   "cell_type": "code",
   "execution_count": 24,
   "id": "48b2f107",
   "metadata": {
    "ExecuteTime": {
     "end_time": "2023-11-29T08:24:38.623853Z",
     "start_time": "2023-11-29T08:24:38.618355Z"
    }
   },
   "outputs": [
    {
     "name": "stdout",
     "output_type": "stream",
     "text": [
      "12\n",
      "18\n"
     ]
    }
   ],
   "source": [
    "#153. 답변\n",
    "리스트 = [13, 21, 12, 14, 30, 18]\n",
    "for num in 리스트:\n",
    "    if num%3 ==0 and num<20:\n",
    "        print(num)"
   ]
  },
  {
   "cell_type": "code",
   "execution_count": 28,
   "id": "b85990e1",
   "metadata": {
    "ExecuteTime": {
     "end_time": "2023-11-29T08:24:38.623853Z",
     "start_time": "2023-11-29T08:24:38.618355Z"
    }
   },
   "outputs": [
    {
     "name": "stdout",
     "output_type": "stream",
     "text": [
      "study\n",
      "python\n",
      "language\n"
     ]
    }
   ],
   "source": [
    "#154. 답변\n",
    "리스트 = [\"I\", \"study\", \"python\", \"language\", \"!\"]\n",
    "for text in 리스트:\n",
    "    if len(text) >=3:\n",
    "        print(text)"
   ]
  },
  {
   "cell_type": "code",
   "execution_count": 30,
   "id": "5842e2e3",
   "metadata": {
    "ExecuteTime": {
     "end_time": "2023-11-29T08:24:38.623853Z",
     "start_time": "2023-11-29T08:24:38.618355Z"
    }
   },
   "outputs": [
    {
     "name": "stdout",
     "output_type": "stream",
     "text": [
      "A\n",
      "D\n"
     ]
    }
   ],
   "source": [
    "#155. 답변\n",
    "리스트 = [\"A\", \"b\", \"c\", \"D\"]\n",
    "for text in 리스트:\n",
    "    if text.islower() == False:\n",
    "        print(text)\n"
   ]
  },
  {
   "cell_type": "code",
   "execution_count": 31,
   "id": "487064f8",
   "metadata": {
    "ExecuteTime": {
     "end_time": "2023-11-29T08:24:38.623853Z",
     "start_time": "2023-11-29T08:24:38.618355Z"
    }
   },
   "outputs": [
    {
     "name": "stdout",
     "output_type": "stream",
     "text": [
      "b\n",
      "c\n"
     ]
    }
   ],
   "source": [
    "#156. 답변\n",
    "리스트 = [\"A\", \"b\", \"c\", \"D\"]\n",
    "for text in 리스트:\n",
    "    if text.islower() == True:\n",
    "        print(text)\n"
   ]
  },
  {
   "cell_type": "code",
   "execution_count": 32,
   "id": "768a1a2e",
   "metadata": {
    "ExecuteTime": {
     "end_time": "2023-11-29T08:24:38.623853Z",
     "start_time": "2023-11-29T08:24:38.618355Z"
    }
   },
   "outputs": [
    {
     "name": "stdout",
     "output_type": "stream",
     "text": [
      "Dog\n",
      "Cat\n",
      "Parrot\n"
     ]
    }
   ],
   "source": [
    "#157. 답변\n",
    "리스트 = ['dog', 'cat', 'parrot']\n",
    "for text in 리스트:\n",
    "    print(text[0].upper()+text[1:])\n"
   ]
  },
  {
   "cell_type": "code",
   "execution_count": 33,
   "id": "7f5b2d1c",
   "metadata": {
    "ExecuteTime": {
     "end_time": "2023-11-29T08:24:38.623853Z",
     "start_time": "2023-11-29T08:24:38.618355Z"
    }
   },
   "outputs": [
    {
     "name": "stdout",
     "output_type": "stream",
     "text": [
      "hello\n",
      "ex01\n",
      "intro\n"
     ]
    }
   ],
   "source": [
    "#158. 답변\n",
    "리스트 = ['hello.py', 'ex01.py', 'intro.hwp']\n",
    "for text in 리스트:\n",
    "    print(text.split(\".\")[0])"
   ]
  },
  {
   "cell_type": "code",
   "execution_count": 34,
   "id": "d9446014",
   "metadata": {
    "ExecuteTime": {
     "end_time": "2023-11-29T08:24:38.623853Z",
     "start_time": "2023-11-29T08:24:38.618355Z"
    }
   },
   "outputs": [
    {
     "name": "stdout",
     "output_type": "stream",
     "text": [
      "intra.h\n",
      "define.h\n"
     ]
    }
   ],
   "source": [
    "#159. 답변\n",
    "리스트 = ['intra.h', 'intra.c', 'define.h', 'run.py']\n",
    "for text in 리스트:\n",
    "    spl = text.split(\".\")\n",
    "    if spl[1] == \"h\":\n",
    "        print(text)"
   ]
  },
  {
   "cell_type": "code",
   "execution_count": 37,
   "id": "cd161ea5",
   "metadata": {
    "ExecuteTime": {
     "end_time": "2023-11-29T08:24:38.623853Z",
     "start_time": "2023-11-29T08:24:38.618355Z"
    }
   },
   "outputs": [
    {
     "name": "stdout",
     "output_type": "stream",
     "text": [
      "intra.h\n",
      "intra.c\n",
      "define.h\n"
     ]
    }
   ],
   "source": [
    "#160. 답변\n",
    "리스트 = ['intra.h', 'intra.c', 'define.h', 'run.py']\n",
    "for text in 리스트:\n",
    "    spl = text.split(\".\")\n",
    "    if spl[1] == \"h\" or spl[1] ==\"c\":\n",
    "        print(text)"
   ]
  },
  {
   "cell_type": "code",
   "execution_count": 38,
   "id": "1e62424d",
   "metadata": {
    "ExecuteTime": {
     "end_time": "2023-11-29T10:41:18.384487Z",
     "start_time": "2023-11-29T10:41:18.369999Z"
    }
   },
   "outputs": [
    {
     "name": "stdout",
     "output_type": "stream",
     "text": [
      "0\n",
      "1\n",
      "2\n",
      "3\n",
      "4\n",
      "5\n",
      "6\n",
      "7\n",
      "8\n",
      "9\n",
      "10\n",
      "11\n",
      "12\n",
      "13\n",
      "14\n",
      "15\n",
      "16\n",
      "17\n",
      "18\n",
      "19\n",
      "20\n",
      "21\n",
      "22\n",
      "23\n",
      "24\n",
      "25\n",
      "26\n",
      "27\n",
      "28\n",
      "29\n",
      "30\n",
      "31\n",
      "32\n",
      "33\n",
      "34\n",
      "35\n",
      "36\n",
      "37\n",
      "38\n",
      "39\n",
      "40\n",
      "41\n",
      "42\n",
      "43\n",
      "44\n",
      "45\n",
      "46\n",
      "47\n",
      "48\n",
      "49\n",
      "50\n",
      "51\n",
      "52\n",
      "53\n",
      "54\n",
      "55\n",
      "56\n",
      "57\n",
      "58\n",
      "59\n",
      "60\n",
      "61\n",
      "62\n",
      "63\n",
      "64\n",
      "65\n",
      "66\n",
      "67\n",
      "68\n",
      "69\n",
      "70\n",
      "71\n",
      "72\n",
      "73\n",
      "74\n",
      "75\n",
      "76\n",
      "77\n",
      "78\n",
      "79\n",
      "80\n",
      "81\n",
      "82\n",
      "83\n",
      "84\n",
      "85\n",
      "86\n",
      "87\n",
      "88\n",
      "89\n",
      "90\n",
      "91\n",
      "92\n",
      "93\n",
      "94\n",
      "95\n",
      "96\n",
      "97\n",
      "98\n",
      "99\n"
     ]
    }
   ],
   "source": [
    "#161. 답변\n",
    "for num in range(0,100):\n",
    "    print(num)"
   ]
  },
  {
   "cell_type": "code",
   "execution_count": 40,
   "id": "f6dc28f0",
   "metadata": {
    "ExecuteTime": {
     "end_time": "2023-11-29T10:42:08.415394Z",
     "start_time": "2023-11-29T10:42:08.410579Z"
    }
   },
   "outputs": [
    {
     "name": "stdout",
     "output_type": "stream",
     "text": [
      "2002\n",
      "2006\n",
      "2010\n",
      "2014\n",
      "2018\n",
      "2022\n",
      "2026\n",
      "2030\n",
      "2034\n",
      "2038\n",
      "2042\n",
      "2046\n",
      "2050\n"
     ]
    }
   ],
   "source": [
    "#162. 답변\n",
    "for num in range(2002,2051,4):\n",
    "    print(num)"
   ]
  },
  {
   "cell_type": "code",
   "execution_count": 42,
   "id": "a46cf109",
   "metadata": {
    "ExecuteTime": {
     "end_time": "2023-11-29T10:43:12.516180Z",
     "start_time": "2023-11-29T10:43:12.511868Z"
    }
   },
   "outputs": [
    {
     "name": "stdout",
     "output_type": "stream",
     "text": [
      "3\n",
      "6\n",
      "9\n",
      "12\n",
      "15\n",
      "18\n",
      "21\n",
      "24\n",
      "27\n",
      "30\n"
     ]
    }
   ],
   "source": [
    "#163. 답변\n",
    "for num in range(3,31,3):\n",
    "    print(num)"
   ]
  },
  {
   "cell_type": "code",
   "execution_count": 43,
   "id": "fd35f773",
   "metadata": {
    "ExecuteTime": {
     "end_time": "2023-11-29T10:43:36.817097Z",
     "start_time": "2023-11-29T10:43:36.811971Z"
    }
   },
   "outputs": [
    {
     "name": "stdout",
     "output_type": "stream",
     "text": [
      "99\n",
      "98\n",
      "97\n",
      "96\n",
      "95\n",
      "94\n",
      "93\n",
      "92\n",
      "91\n",
      "90\n",
      "89\n",
      "88\n",
      "87\n",
      "86\n",
      "85\n",
      "84\n",
      "83\n",
      "82\n",
      "81\n",
      "80\n",
      "79\n",
      "78\n",
      "77\n",
      "76\n",
      "75\n",
      "74\n",
      "73\n",
      "72\n",
      "71\n",
      "70\n",
      "69\n",
      "68\n",
      "67\n",
      "66\n",
      "65\n",
      "64\n",
      "63\n",
      "62\n",
      "61\n",
      "60\n",
      "59\n",
      "58\n",
      "57\n",
      "56\n",
      "55\n",
      "54\n",
      "53\n",
      "52\n",
      "51\n",
      "50\n",
      "49\n",
      "48\n",
      "47\n",
      "46\n",
      "45\n",
      "44\n",
      "43\n",
      "42\n",
      "41\n",
      "40\n",
      "39\n",
      "38\n",
      "37\n",
      "36\n",
      "35\n",
      "34\n",
      "33\n",
      "32\n",
      "31\n",
      "30\n",
      "29\n",
      "28\n",
      "27\n",
      "26\n",
      "25\n",
      "24\n",
      "23\n",
      "22\n",
      "21\n",
      "20\n",
      "19\n",
      "18\n",
      "17\n",
      "16\n",
      "15\n",
      "14\n",
      "13\n",
      "12\n",
      "11\n",
      "10\n",
      "9\n",
      "8\n",
      "7\n",
      "6\n",
      "5\n",
      "4\n",
      "3\n",
      "2\n",
      "1\n",
      "0\n"
     ]
    }
   ],
   "source": [
    "#164. 답변\n",
    "for num in range(100):\n",
    "    print(99 - num)"
   ]
  },
  {
   "cell_type": "code",
   "execution_count": 45,
   "id": "c85803b1",
   "metadata": {
    "ExecuteTime": {
     "end_time": "2023-11-29T10:44:35.724860Z",
     "start_time": "2023-11-29T10:44:35.720724Z"
    }
   },
   "outputs": [
    {
     "name": "stdout",
     "output_type": "stream",
     "text": [
      "0.0\n",
      "0.1\n",
      "0.2\n",
      "0.3\n",
      "0.4\n",
      "0.5\n",
      "0.6\n",
      "0.7\n",
      "0.8\n",
      "0.9\n"
     ]
    }
   ],
   "source": [
    "#165. 답변\n",
    "for num in range(0,10):\n",
    "    print(float(num/10))"
   ]
  },
  {
   "cell_type": "code",
   "execution_count": 46,
   "id": "f1027f33",
   "metadata": {
    "ExecuteTime": {
     "end_time": "2023-11-29T10:45:11.126458Z",
     "start_time": "2023-11-29T10:45:11.120949Z"
    }
   },
   "outputs": [
    {
     "name": "stdout",
     "output_type": "stream",
     "text": [
      "3 x 1  =  3\n",
      "3 x 2  =  6\n",
      "3 x 3  =  9\n",
      "3 x 4  =  12\n",
      "3 x 5  =  15\n",
      "3 x 6  =  18\n",
      "3 x 7  =  21\n",
      "3 x 8  =  24\n",
      "3 x 9  =  27\n"
     ]
    }
   ],
   "source": [
    "#166. 답변\n",
    "for num in range(1, 10) :\n",
    "    print (3, \"x\", num, \" = \", 3 * num)"
   ]
  },
  {
   "cell_type": "code",
   "execution_count": 47,
   "id": "c96818f2",
   "metadata": {
    "ExecuteTime": {
     "end_time": "2023-11-29T10:45:41.976248Z",
     "start_time": "2023-11-29T10:45:41.970943Z"
    }
   },
   "outputs": [
    {
     "name": "stdout",
     "output_type": "stream",
     "text": [
      "3 x 1  =  3\n",
      "3 x 3  =  9\n",
      "3 x 5  =  15\n",
      "3 x 7  =  21\n",
      "3 x 9  =  27\n"
     ]
    }
   ],
   "source": [
    "#167. 답변\n",
    "num = 3\n",
    "for i in range(1, 10, 2) :\n",
    "    print (num, \"x\", i, \" = \", num * i)"
   ]
  },
  {
   "cell_type": "code",
   "execution_count": 48,
   "id": "003dad84",
   "metadata": {
    "ExecuteTime": {
     "end_time": "2023-11-29T10:46:44.393898Z",
     "start_time": "2023-11-29T10:46:44.388928Z"
    }
   },
   "outputs": [
    {
     "name": "stdout",
     "output_type": "stream",
     "text": [
      "합 : 55\n"
     ]
    }
   ],
   "source": [
    "#168. 답변\n",
    "total = 0\n",
    "for num in range(1, 11):\n",
    "    total += num\n",
    "print (\"합 :\", total)"
   ]
  },
  {
   "cell_type": "code",
   "execution_count": 49,
   "id": "d7a3a7aa",
   "metadata": {
    "ExecuteTime": {
     "end_time": "2023-11-29T10:47:20.846116Z",
     "start_time": "2023-11-29T10:47:20.840924Z"
    }
   },
   "outputs": [
    {
     "name": "stdout",
     "output_type": "stream",
     "text": [
      "합 : 25\n"
     ]
    }
   ],
   "source": [
    "#169. 답변\n",
    "total = 0\n",
    "for num in range(1, 11, 2):\n",
    "    total += num\n",
    "print (\"합 :\", total)"
   ]
  },
  {
   "cell_type": "code",
   "execution_count": 50,
   "id": "1613ad36",
   "metadata": {
    "ExecuteTime": {
     "end_time": "2023-11-29T10:47:49.222604Z",
     "start_time": "2023-11-29T10:47:49.216917Z"
    }
   },
   "outputs": [
    {
     "name": "stdout",
     "output_type": "stream",
     "text": [
      "3486784401\n"
     ]
    }
   ],
   "source": [
    "#170. 답변\n",
    "total = 1\n",
    "for num in range(1, 11) :\n",
    "    total *= i\n",
    "print(total)"
   ]
  },
  {
   "cell_type": "code",
   "execution_count": 51,
   "id": "2430b381",
   "metadata": {
    "ExecuteTime": {
     "end_time": "2023-11-29T10:53:09.263581Z",
     "start_time": "2023-11-29T10:53:09.259045Z"
    }
   },
   "outputs": [
    {
     "name": "stdout",
     "output_type": "stream",
     "text": [
      "32100\n",
      "32150\n",
      "32000\n",
      "32500\n"
     ]
    }
   ],
   "source": [
    "#171. 답변\n",
    "price_list = [32100, 32150, 32000, 32500]\n",
    "for num in range(0,len(price_list)):\n",
    "    print(price_list[num])"
   ]
  },
  {
   "cell_type": "code",
   "execution_count": 52,
   "id": "870ba0f9",
   "metadata": {
    "ExecuteTime": {
     "end_time": "2023-11-29T10:53:47.836910Z",
     "start_time": "2023-11-29T10:53:47.831839Z"
    }
   },
   "outputs": [
    {
     "name": "stdout",
     "output_type": "stream",
     "text": [
      "0 32100\n",
      "1 32150\n",
      "2 32000\n",
      "3 32500\n"
     ]
    }
   ],
   "source": [
    "#172. 답변\n",
    "price_list = [32100, 32150, 32000, 32500]\n",
    "for num in range(0,len(price_list)):\n",
    "    print(num, price_list[num])"
   ]
  },
  {
   "cell_type": "code",
   "execution_count": 53,
   "id": "d0730a48",
   "metadata": {
    "ExecuteTime": {
     "end_time": "2023-11-29T10:55:22.819579Z",
     "start_time": "2023-11-29T10:55:22.814954Z"
    }
   },
   "outputs": [
    {
     "name": "stdout",
     "output_type": "stream",
     "text": [
      "3 32100\n",
      "2 32150\n",
      "1 32000\n",
      "0 32500\n"
     ]
    }
   ],
   "source": [
    "#173. 답변\n",
    "price_list = [32100, 32150, 32000, 32500]\n",
    "for num in range(0,len(price_list)):\n",
    "    print(3-num, price_list[num])"
   ]
  },
  {
   "cell_type": "code",
   "execution_count": 54,
   "id": "1ccd2145",
   "metadata": {
    "ExecuteTime": {
     "end_time": "2023-11-29T10:56:35.455669Z",
     "start_time": "2023-11-29T10:56:35.449802Z"
    }
   },
   "outputs": [
    {
     "name": "stdout",
     "output_type": "stream",
     "text": [
      "100 32150\n",
      "110 32000\n",
      "120 32500\n"
     ]
    }
   ],
   "source": [
    "#174. 답변\n",
    "price_list = [32100, 32150, 32000, 32500]\n",
    "for num in range(1,len(price_list)):\n",
    "    print(90+10*num, price_list[num])"
   ]
  },
  {
   "cell_type": "code",
   "execution_count": 57,
   "id": "d43cf608",
   "metadata": {
    "ExecuteTime": {
     "end_time": "2023-11-29T11:01:01.985513Z",
     "start_time": "2023-11-29T11:01:01.979594Z"
    }
   },
   "outputs": [
    {
     "name": "stdout",
     "output_type": "stream",
     "text": [
      "가 나\n",
      "나 다\n",
      "다 라\n"
     ]
    }
   ],
   "source": [
    "#175. 답변\n",
    "my_list = [\"가\", \"나\", \"다\", \"라\"]\n",
    "for num in range(len(my_list)-1):\n",
    "    print(my_list[num],my_list[num+1])"
   ]
  },
  {
   "cell_type": "code",
   "execution_count": 58,
   "id": "4a64c16f",
   "metadata": {
    "ExecuteTime": {
     "end_time": "2023-11-29T11:06:03.226516Z",
     "start_time": "2023-11-29T11:06:03.222546Z"
    }
   },
   "outputs": [
    {
     "name": "stdout",
     "output_type": "stream",
     "text": [
      "가 나 다\n",
      "나 다 라\n",
      "다 라 마\n"
     ]
    }
   ],
   "source": [
    "#176. 답변\n",
    "my_list = [\"가\", \"나\", \"다\", \"라\",\"마\"]\n",
    "for num in range(len(my_list)-2):\n",
    "    print(my_list[num],my_list[num+1], my_list[num+2])"
   ]
  },
  {
   "cell_type": "code",
   "execution_count": 61,
   "id": "ee925298",
   "metadata": {
    "ExecuteTime": {
     "end_time": "2023-11-29T11:09:36.266549Z",
     "start_time": "2023-11-29T11:09:36.260481Z"
    }
   },
   "outputs": [
    {
     "name": "stdout",
     "output_type": "stream",
     "text": [
      "라 다\n",
      "다 나\n",
      "나 가\n",
      "가 라\n"
     ]
    }
   ],
   "source": [
    "#177. 답변\n",
    "my_list = [\"가\", \"나\", \"다\", \"라\"]\n",
    "for num in range(len(my_list)):\n",
    "    print(my_list[3 - num],my_list[2 - num])"
   ]
  },
  {
   "cell_type": "code",
   "execution_count": 62,
   "id": "cc741de5",
   "metadata": {
    "ExecuteTime": {
     "end_time": "2023-11-29T11:11:09.303085Z",
     "start_time": "2023-11-29T11:11:09.297612Z"
    }
   },
   "outputs": [
    {
     "name": "stdout",
     "output_type": "stream",
     "text": [
      "100\n",
      "200\n",
      "400\n"
     ]
    }
   ],
   "source": [
    "#178. 답변\n",
    "my_list = [100, 200, 400, 800]\n",
    "for num in range(len(my_list) - 1):\n",
    "    print(abs(my_list[num+1] - my_list[num]))"
   ]
  },
  {
   "cell_type": "code",
   "execution_count": 64,
   "id": "c12eb8bf",
   "metadata": {
    "ExecuteTime": {
     "end_time": "2023-11-29T11:12:49.611412Z",
     "start_time": "2023-11-29T11:12:49.605592Z"
    }
   },
   "outputs": [
    {
     "name": "stdout",
     "output_type": "stream",
     "text": [
      "233.33333333333334\n",
      "466.6666666666667\n",
      "733.3333333333334\n",
      "1033.3333333333333\n"
     ]
    }
   ],
   "source": [
    "#179. 답변\n",
    "my_list = [100, 200, 400, 800, 1000, 1300]\n",
    "for num in range(len(my_list) - 2):\n",
    "    print((my_list[num]+my_list[num+1]+my_list[num+2])/3)"
   ]
  },
  {
   "cell_type": "code",
   "execution_count": 77,
   "id": "aecfb8bc",
   "metadata": {
    "ExecuteTime": {
     "end_time": "2023-11-29T11:38:49.798766Z",
     "start_time": "2023-11-29T11:38:49.793256Z"
    }
   },
   "outputs": [
    {
     "name": "stdout",
     "output_type": "stream",
     "text": [
      "[50, 100, 30, 80, 0]\n"
     ]
    }
   ],
   "source": [
    "#180. 답변\n",
    "low_prices  = [100, 200, 400, 800, 1000]\n",
    "high_prices = [150, 300, 430, 880, 1000]\n",
    "volatility = []\n",
    "for num in range(len(low_prices)):\n",
    "    volatility.append(high_prices[num]-low_prices[num])\n",
    "print(volatility)"
   ]
  },
  {
   "cell_type": "code",
   "execution_count": 76,
   "id": "b3fe9267",
   "metadata": {
    "ExecuteTime": {
     "end_time": "2023-11-29T11:38:47.812304Z",
     "start_time": "2023-11-29T11:38:47.808258Z"
    }
   },
   "outputs": [],
   "source": [
    "#181. 답변\n",
    "apart = [ [\"101호\", \"102호\"], [\"201호\", \"202호\"], [\"301호\", \"302호\"] ]"
   ]
  },
  {
   "cell_type": "code",
   "execution_count": 75,
   "id": "e5604c1f",
   "metadata": {
    "ExecuteTime": {
     "end_time": "2023-11-29T11:38:46.426765Z",
     "start_time": "2023-11-29T11:38:46.422049Z"
    }
   },
   "outputs": [],
   "source": [
    "#182. 답변\n",
    "stock = [ [\"시가\", 100, 200, 300], [\"종가\", 80, 210, 330] ]"
   ]
  },
  {
   "cell_type": "code",
   "execution_count": 74,
   "id": "c89c212d",
   "metadata": {
    "ExecuteTime": {
     "end_time": "2023-11-29T11:38:45.106378Z",
     "start_time": "2023-11-29T11:38:45.102031Z"
    }
   },
   "outputs": [],
   "source": [
    "#183. 답변\n",
    "stock = {\"시가\": [100, 200, 300], \"종가\": [80, 210, 330] }"
   ]
  },
  {
   "cell_type": "code",
   "execution_count": 73,
   "id": "cf8933ae",
   "metadata": {
    "ExecuteTime": {
     "end_time": "2023-11-29T11:38:43.625575Z",
     "start_time": "2023-11-29T11:38:43.621463Z"
    }
   },
   "outputs": [],
   "source": [
    "#184. 답변\n",
    "stock = {\"10/10\": [80, 110, 70, 90], \"10/11\": [210, 230, 190, 200] }"
   ]
  },
  {
   "cell_type": "code",
   "execution_count": 72,
   "id": "c284e5a0",
   "metadata": {
    "ExecuteTime": {
     "end_time": "2023-11-29T11:38:41.769678Z",
     "start_time": "2023-11-29T11:38:41.765259Z"
    }
   },
   "outputs": [],
   "source": [
    "#185. 답변\n",
    "apart = [ [101, 102], [201, 202], [301, 302] ]"
   ]
  },
  {
   "cell_type": "code",
   "execution_count": 71,
   "id": "06801602",
   "metadata": {
    "ExecuteTime": {
     "end_time": "2023-11-29T11:38:39.293982Z",
     "start_time": "2023-11-29T11:38:39.288265Z"
    }
   },
   "outputs": [
    {
     "name": "stdout",
     "output_type": "stream",
     "text": [
      "101 호\n",
      "102 호\n",
      "201 호\n",
      "202 호\n",
      "301 호\n",
      "302 호\n"
     ]
    }
   ],
   "source": [
    "#186. 답변\n",
    "apart = [ [101, 102], [201, 202], [301, 302] ]\n",
    "for row in apart:\n",
    "    for col in row:\n",
    "        print(col, \"호\")"
   ]
  },
  {
   "cell_type": "code",
   "execution_count": 70,
   "id": "4a795945",
   "metadata": {
    "ExecuteTime": {
     "end_time": "2023-11-29T11:38:38.000722Z",
     "start_time": "2023-11-29T11:38:37.995839Z"
    }
   },
   "outputs": [
    {
     "name": "stdout",
     "output_type": "stream",
     "text": [
      "301 호\n",
      "302 호\n",
      "201 호\n",
      "202 호\n",
      "101 호\n",
      "102 호\n"
     ]
    }
   ],
   "source": [
    "#187. 답변\n",
    "apart = [ [101, 102], [201, 202], [301, 302] ]\n",
    "for row in apart[::-1]:\n",
    "    for col in row:\n",
    "        print(col, \"호\")"
   ]
  },
  {
   "cell_type": "code",
   "execution_count": 69,
   "id": "f6f91195",
   "metadata": {
    "ExecuteTime": {
     "end_time": "2023-11-29T11:38:36.567488Z",
     "start_time": "2023-11-29T11:38:36.562071Z"
    }
   },
   "outputs": [
    {
     "name": "stdout",
     "output_type": "stream",
     "text": [
      "101 호\n",
      "-----\n",
      "102 호\n",
      "-----\n",
      "201 호\n",
      "-----\n",
      "202 호\n",
      "-----\n",
      "301 호\n",
      "-----\n",
      "302 호\n",
      "-----\n"
     ]
    }
   ],
   "source": [
    "#188. 답변\n",
    "apart = [ [101, 102], [201, 202], [301, 302] ]\n",
    "for row in apart:\n",
    "    for col in row:\n",
    "        print(col, \"호\")\n",
    "        print(\"-\" * 5)"
   ]
  },
  {
   "cell_type": "code",
   "execution_count": 68,
   "id": "88c7c4bb",
   "metadata": {
    "ExecuteTime": {
     "end_time": "2023-11-29T11:38:33.554869Z",
     "start_time": "2023-11-29T11:38:33.550781Z"
    }
   },
   "outputs": [
    {
     "name": "stdout",
     "output_type": "stream",
     "text": [
      "101 호\n",
      "102 호\n",
      "-----\n",
      "201 호\n",
      "202 호\n",
      "-----\n",
      "301 호\n",
      "302 호\n",
      "-----\n"
     ]
    }
   ],
   "source": [
    "#189. 답변\n",
    "apart = [ [101, 102], [201, 202], [301, 302] ]\n",
    "for row in apart:\n",
    "    for col in row:\n",
    "        print(col, \"호\")\n",
    "    print(\"-----\")"
   ]
  },
  {
   "cell_type": "code",
   "execution_count": 78,
   "id": "7e761ca2",
   "metadata": {
    "ExecuteTime": {
     "end_time": "2023-11-29T11:40:33.329225Z",
     "start_time": "2023-11-29T11:40:33.322783Z"
    }
   },
   "outputs": [
    {
     "name": "stdout",
     "output_type": "stream",
     "text": [
      "101 호\n",
      "102 호\n",
      "201 호\n",
      "202 호\n",
      "301 호\n",
      "302 호\n",
      "-----\n"
     ]
    }
   ],
   "source": [
    "#190. 답변\n",
    "apart = [ [101, 102], [201, 202], [301, 302] ]\n",
    "for row in apart:\n",
    "    for col in row:\n",
    "        print(col, \"호\")\n",
    "print(\"-----\")"
   ]
  },
  {
   "cell_type": "code",
   "execution_count": 79,
   "id": "2d86dd40",
   "metadata": {
    "ExecuteTime": {
     "end_time": "2023-11-29T11:42:39.062253Z",
     "start_time": "2023-11-29T11:42:39.057208Z"
    }
   },
   "outputs": [
    {
     "name": "stdout",
     "output_type": "stream",
     "text": [
      "2000.28\n",
      "3050.427\n",
      "2050.2870000000003\n",
      "1980.2772\n",
      "7501.05\n",
      "2050.2870000000003\n",
      "2050.2870000000003\n",
      "1980.2772\n",
      "15452.163\n",
      "15052.107\n",
      "15552.177\n",
      "14902.086000000001\n"
     ]
    }
   ],
   "source": [
    "#191. 답변\n",
    "data = [\n",
    "    [ 2000,  3050,  2050,  1980],\n",
    "    [ 7500,  2050,  2050,  1980],\n",
    "    [15450, 15050, 15550, 14900]\n",
    "]\n",
    "\n",
    "for line in data:\n",
    "    for column in line:\n",
    "        print(column * 1.00014)\n"
   ]
  },
  {
   "cell_type": "code",
   "execution_count": 80,
   "id": "dce00cb7",
   "metadata": {
    "ExecuteTime": {
     "end_time": "2023-11-29T11:43:00.636799Z",
     "start_time": "2023-11-29T11:43:00.630067Z"
    }
   },
   "outputs": [
    {
     "name": "stdout",
     "output_type": "stream",
     "text": [
      "2000.28\n",
      "3050.427\n",
      "2050.2870000000003\n",
      "1980.2772\n",
      "----\n",
      "7501.05\n",
      "2050.2870000000003\n",
      "2050.2870000000003\n",
      "1980.2772\n",
      "----\n",
      "15452.163\n",
      "15052.107\n",
      "15552.177\n",
      "14902.086000000001\n",
      "----\n"
     ]
    }
   ],
   "source": [
    "#192. 답변\n",
    "data = [\n",
    "    [ 2000,  3050,  2050,  1980],\n",
    "    [ 7500,  2050,  2050,  1980],\n",
    "    [15450, 15050, 15550, 14900]\n",
    "]\n",
    "\n",
    "for line in data:\n",
    "    for column in line:\n",
    "        print(column * 1.00014)\n",
    "    print(\"----\")"
   ]
  },
  {
   "cell_type": "code",
   "execution_count": 81,
   "id": "c44e88ce",
   "metadata": {
    "ExecuteTime": {
     "end_time": "2023-11-29T11:43:47.136979Z",
     "start_time": "2023-11-29T11:43:47.131194Z"
    }
   },
   "outputs": [
    {
     "name": "stdout",
     "output_type": "stream",
     "text": [
      "[2000.28, 3050.427, 2050.2870000000003, 1980.2772, 7501.05, 2050.2870000000003, 2050.2870000000003, 1980.2772, 15452.163, 15052.107, 15552.177, 14902.086000000001]\n"
     ]
    }
   ],
   "source": [
    "#193. 답변\n",
    "result = []\n",
    "data = [\n",
    "    [ 2000,  3050,  2050,  1980],\n",
    "    [ 7500,  2050,  2050,  1980],\n",
    "    [15450, 15050, 15550, 14900]\n",
    "]\n",
    "\n",
    "for line in data:\n",
    "    for column in line:\n",
    "        result.append(column * 1.00014)\n",
    "print(result)"
   ]
  },
  {
   "cell_type": "code",
   "execution_count": 82,
   "id": "b167394d",
   "metadata": {
    "ExecuteTime": {
     "end_time": "2023-11-29T11:45:43.526051Z",
     "start_time": "2023-11-29T11:45:43.520023Z"
    }
   },
   "outputs": [
    {
     "name": "stdout",
     "output_type": "stream",
     "text": [
      "[[2000.28, 3050.427, 2050.2870000000003, 1980.2772], [7501.05, 2050.2870000000003, 2050.2870000000003, 1980.2772], [15452.163, 15052.107, 15552.177, 14902.086000000001]]\n"
     ]
    }
   ],
   "source": [
    "#194. 답변\n",
    "result = []\n",
    "data = [\n",
    "    [ 2000,  3050,  2050,  1980],\n",
    "    [ 7500,  2050,  2050,  1980],\n",
    "    [15450, 15050, 15550, 14900]\n",
    "]\n",
    "\n",
    "for line in data:\n",
    "    arr = []\n",
    "    for column in line:\n",
    "        arr.append(column * 1.00014)\n",
    "    result.append(arr)\n",
    "print(result)"
   ]
  },
  {
   "cell_type": "code",
   "execution_count": 83,
   "id": "2a7d3bc7",
   "metadata": {
    "ExecuteTime": {
     "end_time": "2023-11-29T11:50:30.051703Z",
     "start_time": "2023-11-29T11:50:30.046003Z"
    }
   },
   "outputs": [
    {
     "name": "stdout",
     "output_type": "stream",
     "text": [
      "100\n",
      "190\n",
      "310\n"
     ]
    }
   ],
   "source": [
    "#195. 답변\n",
    "ohlc = [[\"open\", \"high\", \"low\", \"close\"],\n",
    "        [100, 110, 70, 100],\n",
    "        [200, 210, 180, 190],\n",
    "        [300, 310, 300, 310]]\n",
    "\n",
    "for row in ohlc[1:]:\n",
    "    print(row[3])"
   ]
  },
  {
   "cell_type": "code",
   "execution_count": null,
   "id": "d8321a6d",
   "metadata": {
    "ExecuteTime": {
     "end_time": "2023-11-29T08:24:38.623853Z",
     "start_time": "2023-11-29T08:24:38.618355Z"
    }
   },
   "outputs": [],
   "source": [
    "#196. 답변\n",
    "ohlc = [[\"open\", \"high\", \"low\", \"close\"],\n",
    "        [100, 110, 70, 100],\n",
    "        [200, 210, 180, 190],\n",
    "        [300, 310, 300, 310]]\n",
    "\n",
    "for row in ohlc[1:]:\n",
    "    if (row[3] > 150):\n",
    "        print(row[3])"
   ]
  },
  {
   "cell_type": "code",
   "execution_count": 84,
   "id": "53ee70e4",
   "metadata": {
    "ExecuteTime": {
     "end_time": "2023-11-29T11:52:04.880068Z",
     "start_time": "2023-11-29T11:52:04.873588Z"
    }
   },
   "outputs": [
    {
     "name": "stdout",
     "output_type": "stream",
     "text": [
      "100\n",
      "310\n"
     ]
    }
   ],
   "source": [
    "#197. 답변\n",
    "ohlc = [[\"open\", \"high\", \"low\", \"close\"],\n",
    "        [100, 110, 70, 100],\n",
    "        [200, 210, 180, 190],\n",
    "        [300, 310, 300, 310]]\n",
    "for row in ohlc[1:]:\n",
    "    if (row[3] >= row[0]):\n",
    "        print(row[3])"
   ]
  },
  {
   "cell_type": "code",
   "execution_count": 85,
   "id": "50fe769e",
   "metadata": {
    "ExecuteTime": {
     "end_time": "2023-11-29T11:52:19.461606Z",
     "start_time": "2023-11-29T11:52:19.454933Z"
    }
   },
   "outputs": [],
   "source": [
    "#198. 답변\n",
    "ohlc = [[\"open\", \"high\", \"low\", \"close\"],\n",
    "        [100, 110, 70, 100],\n",
    "        [200, 210, 180, 190],\n",
    "        [300, 310, 300, 310]]\n",
    "volatility = []\n",
    "for row in ohlc[1:]:\n",
    "    volatility.append(row[1]-row[2])"
   ]
  },
  {
   "cell_type": "code",
   "execution_count": 86,
   "id": "0da6278e",
   "metadata": {
    "ExecuteTime": {
     "end_time": "2023-11-29T11:52:42.123358Z",
     "start_time": "2023-11-29T11:52:42.117079Z"
    }
   },
   "outputs": [
    {
     "name": "stdout",
     "output_type": "stream",
     "text": [
      "10\n"
     ]
    }
   ],
   "source": [
    "#199. 답변\n",
    "ohlc = [[\"open\", \"high\", \"low\", \"close\"],\n",
    "        [100, 110, 70, 100],\n",
    "        [200, 210, 180, 190],\n",
    "        [300, 310, 300, 310]]\n",
    "for row in ohlc[1:]:\n",
    "    if row[3] > row[0]:\n",
    "        print(row[1]-row[2])"
   ]
  },
  {
   "cell_type": "code",
   "execution_count": 88,
   "id": "027bf439",
   "metadata": {
    "ExecuteTime": {
     "end_time": "2023-11-29T12:08:47.977472Z",
     "start_time": "2023-11-29T12:08:47.970869Z"
    }
   },
   "outputs": [],
   "source": [
    "#200. 답변\n",
    "ohlc = [[\"open\", \"high\", \"low\", \"close\"],\n",
    "        [100, 110, 70, 100],\n",
    "        [200, 210, 180, 190],\n",
    "        [300, 310, 300, 310]]\n",
    "plus = 0\n",
    "for row in ohlc[1:]:\n",
    "    plus += (row[3] - row[0])"
   ]
  },
  {
   "cell_type": "code",
   "execution_count": 11,
   "id": "cf8c033a",
   "metadata": {
    "ExecuteTime": {
     "end_time": "2023-11-30T10:43:29.614411Z",
     "start_time": "2023-11-30T10:43:29.607886Z"
    }
   },
   "outputs": [
    {
     "name": "stdout",
     "output_type": "stream",
     "text": [
      "비트코인\n"
     ]
    }
   ],
   "source": [
    "#201. 답변\n",
    "\n",
    "def print_coin():\n",
    "    print(\"비트코인\")"
   ]
  },
  {
   "cell_type": "code",
   "execution_count": null,
   "id": "4a78ddc0",
   "metadata": {
    "ExecuteTime": {
     "end_time": "2023-11-30T10:58:31.512032Z",
     "start_time": "2023-11-30T10:58:31.507097Z"
    }
   },
   "outputs": [],
   "source": [
    "#202. 답변\n",
    "print_coin()"
   ]
  },
  {
   "cell_type": "code",
   "execution_count": null,
   "id": "8514d8d4",
   "metadata": {
    "ExecuteTime": {
     "end_time": "2023-11-30T10:58:31.512032Z",
     "start_time": "2023-11-30T10:58:31.507097Z"
    }
   },
   "outputs": [],
   "source": [
    "#203. 답변\n",
    "for i in range(100):\n",
    "    print_coin()"
   ]
  },
  {
   "cell_type": "code",
   "execution_count": null,
   "id": "85d5dab7",
   "metadata": {
    "ExecuteTime": {
     "end_time": "2023-11-30T10:58:31.512032Z",
     "start_time": "2023-11-30T10:58:31.507097Z"
    }
   },
   "outputs": [],
   "source": [
    "#204. 답변\n",
    "def print_coins():\n",
    "    for i in range(100):\n",
    "        print(\"비트코인\")"
   ]
  },
  {
   "cell_type": "code",
   "execution_count": null,
   "id": "3bbcc16b",
   "metadata": {
    "ExecuteTime": {
     "end_time": "2023-11-30T10:58:31.512032Z",
     "start_time": "2023-11-30T10:58:31.507097Z"
    }
   },
   "outputs": [],
   "source": [
    "#205. 답변\n",
    "#함수가 정의되기 전에 먼저 함수가 호출됨"
   ]
  },
  {
   "cell_type": "code",
   "execution_count": null,
   "id": "99c3e025",
   "metadata": {
    "ExecuteTime": {
     "end_time": "2023-11-30T10:58:31.512032Z",
     "start_time": "2023-11-30T10:58:31.507097Z"
    }
   },
   "outputs": [],
   "source": [
    "#206. 답변\n",
    "#A, B, C, A, B 순서로 값이 출력됨"
   ]
  },
  {
   "cell_type": "code",
   "execution_count": null,
   "id": "28c30d5d",
   "metadata": {
    "ExecuteTime": {
     "end_time": "2023-11-30T10:58:31.512032Z",
     "start_time": "2023-11-30T10:58:31.507097Z"
    }
   },
   "outputs": [],
   "source": [
    "#207. 답변\n",
    "#A, C, B, E, D"
   ]
  },
  {
   "cell_type": "code",
   "execution_count": 13,
   "id": "c55baf85",
   "metadata": {
    "ExecuteTime": {
     "end_time": "2023-11-30T10:58:31.512032Z",
     "start_time": "2023-11-30T10:58:31.507097Z"
    }
   },
   "outputs": [
    {
     "name": "stdout",
     "output_type": "stream",
     "text": [
      "7\n"
     ]
    }
   ],
   "source": [
    "#208. 답변 매개변수 = parameter 인자 = arguments\n",
    "def add_num(a,b):\n",
    "    c = a + b\n",
    "    return c\n",
    "\n",
    "a = add_num(3,4)\n",
    "print(a)\n"
   ]
  },
  {
   "cell_type": "code",
   "execution_count": 16,
   "id": "8d3e51e6",
   "metadata": {
    "ExecuteTime": {
     "end_time": "2023-11-30T10:58:31.512032Z",
     "start_time": "2023-11-30T10:58:31.507097Z"
    }
   },
   "outputs": [
    {
     "name": "stdout",
     "output_type": "stream",
     "text": [
      "3\n"
     ]
    }
   ],
   "source": [
    "#209. 답변\n",
    "def n_plus_1 (n) :\n",
    "    result = n + 1\n",
    "\n",
    "n_plus_1(3)\n",
    "print (result)"
   ]
  },
  {
   "cell_type": "code",
   "execution_count": null,
   "id": "3def494b",
   "metadata": {
    "ExecuteTime": {
     "end_time": "2023-11-30T10:58:31.512032Z",
     "start_time": "2023-11-30T10:58:31.507097Z"
    }
   },
   "outputs": [],
   "source": [
    "#210. 답변\n",
    "#B C B C B C A"
   ]
  },
  {
   "cell_type": "code",
   "execution_count": null,
   "id": "22969fdf",
   "metadata": {
    "ExecuteTime": {
     "end_time": "2023-11-30T10:58:31.512032Z",
     "start_time": "2023-11-30T10:58:31.507097Z"
    }
   },
   "outputs": [],
   "source": [
    "#211. 답변\n",
    "#화면에 '안녕'과 'Hi'가 출력됨"
   ]
  },
  {
   "cell_type": "code",
   "execution_count": null,
   "id": "35dc1352",
   "metadata": {
    "ExecuteTime": {
     "end_time": "2023-11-30T10:58:31.512032Z",
     "start_time": "2023-11-30T10:58:31.507097Z"
    }
   },
   "outputs": [],
   "source": [
    "#212. 답변\n",
    "#화면에 7 15가 출력됨"
   ]
  },
  {
   "cell_type": "code",
   "execution_count": null,
   "id": "dc1e522c",
   "metadata": {
    "ExecuteTime": {
     "end_time": "2023-11-30T10:58:31.512032Z",
     "start_time": "2023-11-30T10:58:31.507097Z"
    }
   },
   "outputs": [],
   "source": [
    "#213. 답변\n",
    "#인수로 아무값도 넣지 않아서"
   ]
  },
  {
   "cell_type": "code",
   "execution_count": null,
   "id": "db807428",
   "metadata": {
    "ExecuteTime": {
     "end_time": "2023-11-30T10:58:31.512032Z",
     "start_time": "2023-11-30T10:58:31.507097Z"
    }
   },
   "outputs": [],
   "source": [
    "#214. 답변\n",
    "# 문자열인 \"안녕\"과 정수인 3은 더해질 수 없음"
   ]
  },
  {
   "cell_type": "code",
   "execution_count": null,
   "id": "43845877",
   "metadata": {
    "ExecuteTime": {
     "end_time": "2023-11-30T10:58:31.512032Z",
     "start_time": "2023-11-30T10:58:31.507097Z"
    }
   },
   "outputs": [],
   "source": [
    "#215. 답변\n",
    "def print_with_smile (string) :\n",
    "    print (string + \":D\")"
   ]
  },
  {
   "cell_type": "code",
   "execution_count": null,
   "id": "087fa3d4",
   "metadata": {
    "ExecuteTime": {
     "end_time": "2023-11-30T10:58:31.512032Z",
     "start_time": "2023-11-30T10:58:31.507097Z"
    }
   },
   "outputs": [],
   "source": [
    "#216. 답변\n",
    "print_with_smile(\"안녕하세요\")"
   ]
  },
  {
   "cell_type": "code",
   "execution_count": null,
   "id": "0e00edf6",
   "metadata": {
    "ExecuteTime": {
     "end_time": "2023-11-30T10:58:31.512032Z",
     "start_time": "2023-11-30T10:58:31.507097Z"
    }
   },
   "outputs": [],
   "source": [
    "#217. 답변\n",
    "def print_upper_price(price) :\n",
    "    print(price * 1.3)"
   ]
  },
  {
   "cell_type": "code",
   "execution_count": null,
   "id": "4387c9b5",
   "metadata": {
    "ExecuteTime": {
     "end_time": "2023-11-30T10:58:31.512032Z",
     "start_time": "2023-11-30T10:58:31.507097Z"
    }
   },
   "outputs": [],
   "source": [
    "#218. 답변\n",
    "def print_sum (a, b) :\n",
    "    print (a + b)"
   ]
  },
  {
   "cell_type": "code",
   "execution_count": null,
   "id": "2d9e2aac",
   "metadata": {
    "ExecuteTime": {
     "end_time": "2023-11-30T10:58:31.512032Z",
     "start_time": "2023-11-30T10:58:31.507097Z"
    }
   },
   "outputs": [],
   "source": [
    "#219. 답변\n",
    "def print_arithmetic_operation(a, b):\n",
    "    print(a, \"+\", b, \"=\", a + b)\n",
    "    print(a, \"-\", b, \"=\", a - b)\n",
    "    print(a, \"*\", b, \"=\", a * b)\n",
    "    print(a, \"/\", b, \"=\", a / b)"
   ]
  },
  {
   "cell_type": "code",
   "execution_count": null,
   "id": "ddddc828",
   "metadata": {
    "ExecuteTime": {
     "end_time": "2023-11-30T10:58:31.512032Z",
     "start_time": "2023-11-30T10:58:31.507097Z"
    }
   },
   "outputs": [],
   "source": [
    "#220. 답변\n",
    "def print_max(a, b, c) :\n",
    "    max_val = 0\n",
    "    if a > max_val :\n",
    "        max_val = a\n",
    "    if b > max_val :\n",
    "        max_val = b\n",
    "    if c > max_val :\n",
    "        max_val = c\n",
    "    print(max_val)"
   ]
  },
  {
   "cell_type": "code",
   "execution_count": null,
   "id": "b91d441b",
   "metadata": {
    "ExecuteTime": {
     "end_time": "2023-11-30T10:58:31.512032Z",
     "start_time": "2023-11-30T10:58:31.507097Z"
    }
   },
   "outputs": [],
   "source": [
    "#221. 답변\n",
    "def print_reverse(string) :\n",
    "    print(string[::-1])"
   ]
  },
  {
   "cell_type": "code",
   "execution_count": null,
   "id": "8fadacd5",
   "metadata": {
    "ExecuteTime": {
     "end_time": "2023-11-30T10:58:31.512032Z",
     "start_time": "2023-11-30T10:58:31.507097Z"
    }
   },
   "outputs": [],
   "source": [
    "#222. 답변\n",
    "def print_score(score_list) :\n",
    "    print(sum(score_list)/len(score_list))"
   ]
  },
  {
   "cell_type": "code",
   "execution_count": null,
   "id": "7ae89933",
   "metadata": {
    "ExecuteTime": {
     "end_time": "2023-11-30T10:58:31.512032Z",
     "start_time": "2023-11-30T10:58:31.507097Z"
    }
   },
   "outputs": [],
   "source": [
    "#223. 답변\n",
    "def print_even (my_list) :\n",
    "    for v in my_list :\n",
    "        if v % 2 == 0 :\n",
    "            print(v)"
   ]
  },
  {
   "cell_type": "code",
   "execution_count": null,
   "id": "c0be3061",
   "metadata": {
    "ExecuteTime": {
     "end_time": "2023-11-30T10:58:31.512032Z",
     "start_time": "2023-11-30T10:58:31.507097Z"
    }
   },
   "outputs": [],
   "source": [
    "#224. 답변\n",
    "def print_keys(dic):\n",
    "    for keys in dic.keys():\n",
    "        print(keys)"
   ]
  },
  {
   "cell_type": "code",
   "execution_count": null,
   "id": "8d32fbc9",
   "metadata": {
    "ExecuteTime": {
     "end_time": "2023-11-30T10:58:31.512032Z",
     "start_time": "2023-11-30T10:58:31.507097Z"
    }
   },
   "outputs": [],
   "source": [
    "#225. 답변\n",
    "def print_value_by_key (my_dict, key) :\n",
    "    print(my_dict[key])"
   ]
  },
  {
   "cell_type": "code",
   "execution_count": null,
   "id": "38ed58b3",
   "metadata": {
    "ExecuteTime": {
     "end_time": "2023-11-30T10:58:31.512032Z",
     "start_time": "2023-11-30T10:58:31.507097Z"
    }
   },
   "outputs": [],
   "source": [
    "#226. 답변\n",
    "def print_5xn(line):\n",
    "    chunk_num = int(len(line) / 5)\n",
    "    for x in range(chunk_num + 1) :\n",
    "        print(line[x * 5: x * 5 + 5])"
   ]
  },
  {
   "cell_type": "code",
   "execution_count": null,
   "id": "e45e566b",
   "metadata": {
    "ExecuteTime": {
     "end_time": "2023-11-30T10:58:31.512032Z",
     "start_time": "2023-11-30T10:58:31.507097Z"
    }
   },
   "outputs": [],
   "source": [
    "#227. 답변\n",
    "def print_mxn(line, num):\n",
    "    chunk_num = int(len(line) / num)\n",
    "    for x in range(chunk_num + 1) :\n",
    "        print(line[x * num: x * num + num])"
   ]
  },
  {
   "cell_type": "code",
   "execution_count": null,
   "id": "2237d74b",
   "metadata": {
    "ExecuteTime": {
     "end_time": "2023-11-30T10:58:31.512032Z",
     "start_time": "2023-11-30T10:58:31.507097Z"
    }
   },
   "outputs": [],
   "source": [
    "#228. 답변\n",
    "def calc_monthly_salary(annual_pay) :\n",
    "    monthly_pay = int(annual_pay / 12)\n",
    "    return monthly_pay"
   ]
  },
  {
   "cell_type": "code",
   "execution_count": null,
   "id": "7a01516a",
   "metadata": {
    "ExecuteTime": {
     "end_time": "2023-11-30T10:58:31.512032Z",
     "start_time": "2023-11-30T10:58:31.507097Z"
    }
   },
   "outputs": [],
   "source": [
    "#229. 답변\n",
    "def my_print (a, b) :\n",
    "    print(\"왼쪽:\", a)\n",
    "    print(\"오른쪽:\", b)\n",
    "\n",
    "my_print(a=100, b=200)"
   ]
  },
  {
   "cell_type": "code",
   "execution_count": null,
   "id": "acfc8520",
   "metadata": {
    "ExecuteTime": {
     "end_time": "2023-11-30T10:58:31.512032Z",
     "start_time": "2023-11-30T10:58:31.507097Z"
    }
   },
   "outputs": [],
   "source": [
    "#230. 답변\n",
    "def my_print (a, b) :\n",
    "    print(\"왼쪽:\", a)\n",
    "    print(\"오른쪽:\", b)\n",
    "\n",
    "my_print(b=100, a=200)"
   ]
  },
  {
   "cell_type": "code",
   "execution_count": 15,
   "id": "d0bc7631",
   "metadata": {
    "ExecuteTime": {
     "end_time": "2023-11-30T10:58:31.512032Z",
     "start_time": "2023-11-30T10:58:31.507097Z"
    }
   },
   "outputs": [
    {
     "name": "stdout",
     "output_type": "stream",
     "text": [
      "3\n"
     ]
    }
   ],
   "source": [
    "#231. 답변\n",
    "#result가 지역 변수이기 때문에 오류가 발생함"
   ]
  },
  {
   "cell_type": "code",
   "execution_count": null,
   "id": "c664cde9",
   "metadata": {
    "ExecuteTime": {
     "end_time": "2023-11-30T10:58:31.512032Z",
     "start_time": "2023-11-30T10:58:31.507097Z"
    }
   },
   "outputs": [],
   "source": [
    "#232. 답변\n",
    "def make_url(string) :\n",
    "    url = \"www.\" + string + \".com\"\n",
    "    return url"
   ]
  },
  {
   "cell_type": "code",
   "execution_count": null,
   "id": "c67c2003",
   "metadata": {
    "ExecuteTime": {
     "end_time": "2023-11-30T10:58:31.512032Z",
     "start_time": "2023-11-30T10:58:31.507097Z"
    }
   },
   "outputs": [],
   "source": [
    "#233. 답변\n",
    "def make_list (string) :\n",
    "    my_list = []\n",
    "    for 변수 in string :\n",
    "        my_list.append(변수)\n",
    "    return my_list"
   ]
  },
  {
   "cell_type": "code",
   "execution_count": 2,
   "id": "0c6fec1b",
   "metadata": {
    "ExecuteTime": {
     "end_time": "2023-11-30T10:58:31.512032Z",
     "start_time": "2023-11-30T10:58:31.507097Z"
    }
   },
   "outputs": [
    {
     "data": {
      "text/plain": [
       "[4, 6, 8]"
      ]
     },
     "execution_count": 2,
     "metadata": {},
     "output_type": "execute_result"
    }
   ],
   "source": [
    "#234. 답변\n",
    "def pickup_even (num_list):\n",
    "    result = []\n",
    "    for num in num_list:\n",
    "        if num%2 == 0:\n",
    "            result.append(num)\n",
    "    return result\n",
    "\n",
    "pickup_even([3, 4, 5, 6, 7, 8])"
   ]
  },
  {
   "cell_type": "code",
   "execution_count": null,
   "id": "51120df0",
   "metadata": {
    "ExecuteTime": {
     "end_time": "2023-11-30T10:58:31.512032Z",
     "start_time": "2023-11-30T10:58:31.507097Z"
    }
   },
   "outputs": [],
   "source": [
    "#235. 답변\n",
    "def convert_int (string) :\n",
    "    return int(string.replace(',', ''))"
   ]
  },
  {
   "cell_type": "code",
   "execution_count": null,
   "id": "37642513",
   "metadata": {
    "ExecuteTime": {
     "end_time": "2023-11-30T10:58:31.512032Z",
     "start_time": "2023-11-30T10:58:31.507097Z"
    }
   },
   "outputs": [],
   "source": [
    "#236. 답변\n",
    "# 변수 a에는 14가 할당되고, b에는 함수(14)의 실행값인 18이 할당되고, c에는 함수(18)의 실행값인 22가 할당됨"
   ]
  },
  {
   "cell_type": "code",
   "execution_count": 3,
   "id": "1f881c49",
   "metadata": {
    "ExecuteTime": {
     "end_time": "2023-11-30T10:58:31.512032Z",
     "start_time": "2023-11-30T10:58:31.507097Z"
    }
   },
   "outputs": [
    {
     "name": "stdout",
     "output_type": "stream",
     "text": [
      "22\n"
     ]
    }
   ],
   "source": [
    "#237. 답변\n",
    "# 중첩 함수에서 가장 안쪽부터 시작해서 결국 236번 문제와 같은 22가 변수 c에 할당됨"
   ]
  },
  {
   "cell_type": "code",
   "execution_count": null,
   "id": "3487d4cb",
   "metadata": {
    "ExecuteTime": {
     "end_time": "2023-11-30T10:58:31.512032Z",
     "start_time": "2023-11-30T10:58:31.507097Z"
    }
   },
   "outputs": [],
   "source": [
    "#238. 답변\n",
    "# 변수 c에는 140이라는 값이 할당된다."
   ]
  },
  {
   "cell_type": "code",
   "execution_count": null,
   "id": "15cf3c42",
   "metadata": {
    "ExecuteTime": {
     "end_time": "2023-11-30T10:58:31.512032Z",
     "start_time": "2023-11-30T10:58:31.507097Z"
    }
   },
   "outputs": [],
   "source": [
    "#239. 답변\n",
    "# 변수 c에는 16이라는 값이 할당되어 화면에 16이 출력됨"
   ]
  },
  {
   "cell_type": "code",
   "execution_count": 4,
   "id": "4c4e4585",
   "metadata": {
    "ExecuteTime": {
     "end_time": "2023-11-30T10:58:31.512032Z",
     "start_time": "2023-11-30T10:58:31.507097Z"
    }
   },
   "outputs": [
    {
     "name": "stdout",
     "output_type": "stream",
     "text": [
      "28\n"
     ]
    }
   ],
   "source": [
    "#240. 답변\n",
    "#28"
   ]
  }
 ],
 "metadata": {
  "kernelspec": {
   "display_name": "Python 3 (ipykernel)",
   "language": "python",
   "name": "python3"
  },
  "language_info": {
   "codemirror_mode": {
    "name": "ipython",
    "version": 3
   },
   "file_extension": ".py",
   "mimetype": "text/x-python",
   "name": "python",
   "nbconvert_exporter": "python",
   "pygments_lexer": "ipython3",
   "version": "3.11.5"
  },
  "toc": {
   "base_numbering": 1,
   "nav_menu": {},
   "number_sections": true,
   "sideBar": true,
   "skip_h1_title": false,
   "title_cell": "Table of Contents",
   "title_sidebar": "Contents",
   "toc_cell": false,
   "toc_position": {
    "height": "calc(100% - 180px)",
    "left": "10px",
    "top": "150px",
    "width": "297px"
   },
   "toc_section_display": true,
   "toc_window_display": false
  }
 },
 "nbformat": 4,
 "nbformat_minor": 5
}
