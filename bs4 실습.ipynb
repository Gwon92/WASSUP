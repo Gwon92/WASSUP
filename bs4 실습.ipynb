{
 "cells": [
  {
   "cell_type": "code",
   "execution_count": 1,
   "id": "a4181492",
   "metadata": {
    "ExecuteTime": {
     "end_time": "2023-12-07T04:37:33.738339Z",
     "start_time": "2023-12-07T04:37:33.558309Z"
    }
   },
   "outputs": [],
   "source": [
    "from bs4 import BeautifulSoup\n",
    "import lxml\n"
   ]
  },
  {
   "cell_type": "code",
   "execution_count": 2,
   "id": "1f6e6520",
   "metadata": {
    "ExecuteTime": {
     "end_time": "2023-12-07T04:37:56.580593Z",
     "start_time": "2023-12-07T04:37:56.522446Z"
    }
   },
   "outputs": [],
   "source": [
    "BeautifulSoup?"
   ]
  },
  {
   "cell_type": "code",
   "execution_count": 4,
   "id": "4f17443b",
   "metadata": {
    "ExecuteTime": {
     "end_time": "2023-12-07T04:40:54.786830Z",
     "start_time": "2023-12-07T04:40:54.782171Z"
    }
   },
   "outputs": [],
   "source": [
    "# sample\n",
    "html = '''\n",
    "<div id=prices >\n",
    "    <table >\n",
    "        <tr class=bb>\n",
    "            <th class=\"bb lm lft\">Date\n",
    "            <th class=\"rgt bb\">Open\n",
    "            <th class=\"rgt bb\">High\n",
    "            <th class=\"rgt bb\">Low\n",
    "            <th class=\"rgt bb\">Close\n",
    "            <th class=\"rgt bb rm\">Volume\n",
    "        <tr>\n",
    "            <td class=\"lm\">Feb 28, 2014\n",
    "            <td class=\"rgt\">100.71\n",
    "            <td class=\"rgt\">100.71\n",
    "            <td class=\"rgt\">100.71\n",
    "            <td class=\"rgt\">100.71\n",
    "            <td class=\"rgt rm\">0\n",
    "     </table>\n",
    "'''"
   ]
  },
  {
   "cell_type": "code",
   "execution_count": 5,
   "id": "d4292fab",
   "metadata": {
    "ExecuteTime": {
     "end_time": "2023-12-07T04:40:56.531922Z",
     "start_time": "2023-12-07T04:40:56.513519Z"
    }
   },
   "outputs": [
    {
     "data": {
      "text/plain": [
       "<html><body><div id=\"prices\">\n",
       "<table>\n",
       "<tr class=\"bb\">\n",
       "<th class=\"bb lm lft\">Date\n",
       "            </th><th class=\"rgt bb\">Open\n",
       "            </th><th class=\"rgt bb\">High\n",
       "            </th><th class=\"rgt bb\">Low\n",
       "            </th><th class=\"rgt bb\">Close\n",
       "            </th><th class=\"rgt bb rm\">Volume\n",
       "        </th></tr><tr>\n",
       "<td class=\"lm\">Feb 28, 2014\n",
       "            </td><td class=\"rgt\">100.71\n",
       "            </td><td class=\"rgt\">100.71\n",
       "            </td><td class=\"rgt\">100.71\n",
       "            </td><td class=\"rgt\">100.71\n",
       "            </td><td class=\"rgt rm\">0\n",
       "     </td></tr></table>\n",
       "</div></body></html>"
      ]
     },
     "execution_count": 5,
     "metadata": {},
     "output_type": "execute_result"
    }
   ],
   "source": [
    " #lxml의 HTML파서\n",
    "BeautifulSoup(html, 'lxml')"
   ]
  },
  {
   "cell_type": "code",
   "execution_count": 8,
   "id": "216a3752",
   "metadata": {
    "ExecuteTime": {
     "end_time": "2023-12-07T04:43:00.661543Z",
     "start_time": "2023-12-07T04:43:00.651493Z"
    }
   },
   "outputs": [
    {
     "data": {
      "text/plain": [
       "\n",
       "<div id=\"prices\">\n",
       "<table>\n",
       "<tr class=\"bb\">\n",
       "<th class=\"bb lm lft\">Date\n",
       "            <th class=\"rgt bb\">Open\n",
       "            <th class=\"rgt bb\">High\n",
       "            <th class=\"rgt bb\">Low\n",
       "            <th class=\"rgt bb\">Close\n",
       "            <th class=\"rgt bb rm\">Volume\n",
       "        <tr>\n",
       "<td class=\"lm\">Feb 28, 2014\n",
       "            <td class=\"rgt\">100.71\n",
       "            <td class=\"rgt\">100.71\n",
       "            <td class=\"rgt\">100.71\n",
       "            <td class=\"rgt\">100.71\n",
       "            <td class=\"rgt rm\">0\n",
       "     </td></td></td></td></td></td></tr></th></th></th></th></th></th></tr></table>\n",
       "</div>"
      ]
     },
     "execution_count": 8,
     "metadata": {},
     "output_type": "execute_result"
    }
   ],
   "source": [
    "# 파이썬 표준 html파서\n",
    "BeautifulSoup(html, 'html.parser') "
   ]
  },
  {
   "cell_type": "code",
   "execution_count": 16,
   "id": "76e2a80c",
   "metadata": {
    "ExecuteTime": {
     "end_time": "2023-12-07T05:05:51.923054Z",
     "start_time": "2023-12-07T05:05:51.915153Z"
    },
    "scrolled": true
   },
   "outputs": [],
   "source": [
    "html_file = open('sample/market.html', encoding='utf-8')\n",
    "html_src = html_file.read()\n",
    "html_file.close()"
   ]
  },
  {
   "cell_type": "code",
   "execution_count": 17,
   "id": "fd3ad10d",
   "metadata": {
    "ExecuteTime": {
     "end_time": "2023-12-07T05:05:55.215544Z",
     "start_time": "2023-12-07T05:05:55.208362Z"
    }
   },
   "outputs": [
    {
     "data": {
      "text/plain": [
       "'<html>\\n    <body>\\n        <h1> 과일 목록 </h1>\\n        <div>\\n                <p id=\\'banana\\' class=\\'fruit\\' title=\\'바나나\\'>\\n                      <span class = \\'price\\'> 3000원 </span>\\n                      <span class = \\'count\\'> 10개 </span>\\n                      <span class = \\'store\\'> 바나나가게 </span>\\n                      <a href = \\'https://www.banana.com\\'> banana.com </a>\\n                </p>\\n                <p id=\\'cherry\\' class=\\'fruit\\' title=\\'체리\\'>\\n                    <span class = \\'price\\'> 100원 </span>\\n                    <span class = \\'count\\'> 50개 </span>\\n                    <span class = \\'store\\'> 체리가게</span>\\n                    <a href = \\'https://www.cherry.com\\'> cherry.com </a>\\n                </p>\\n                <p id=\\'orange\\' class=\\'fruit best\\' title=\\'오렌지\\'>\\n                    <span class = \\'price\\'> 500원 </span>\\n                    <span class = \\'count\\'> 20개 </span>\\n                    <span class = \\'store\\'> 오렌지가게</span>\\n                    <a href = \\'https://www.orange.com\\'> orange.com </a>\\n                    <span>\\n                        <a href=\"https://www.orange.blog/\">오렌지 효능</a>\\n                    </span>\\n                </p>\\n        </div>\\n    </body> \\n</html>'"
      ]
     },
     "execution_count": 17,
     "metadata": {},
     "output_type": "execute_result"
    }
   ],
   "source": [
    "html_src"
   ]
  },
  {
   "cell_type": "code",
   "execution_count": 18,
   "id": "77728b01",
   "metadata": {
    "ExecuteTime": {
     "end_time": "2023-12-07T05:06:41.983714Z",
     "start_time": "2023-12-07T05:06:41.978486Z"
    }
   },
   "outputs": [
    {
     "name": "stdout",
     "output_type": "stream",
     "text": [
      "<html>\n",
      "    <body>\n",
      "        <h1> 과일 목록 </h1>\n",
      "        <div>\n",
      "                <p id='banana' class='fruit' title='바나나'>\n",
      "                      <span class = 'price'> 3000원 </span>\n",
      "                      <span class = 'count'> 10개 </span>\n",
      "                      <span class = 'store'> 바나나가게 </span>\n",
      "                      <a href = 'https://www.banana.com'> banana.com </a>\n",
      "                </p>\n",
      "                <p id='cherry' class='fruit' title='체리'>\n",
      "                    <span class = 'price'> 100원 </span>\n",
      "                    <span class = 'count'> 50개 </span>\n",
      "                    <span class = 'store'> 체리가게</span>\n",
      "                    <a href = 'https://www.cherry.com'> cherry.com </a>\n",
      "                </p>\n",
      "                <p id='orange' class='fruit best' title='오렌지'>\n",
      "                    <span class = 'price'> 500원 </span>\n",
      "                    <span class = 'count'> 20개 </span>\n",
      "                    <span class = 'store'> 오렌지가게</span>\n",
      "                    <a href = 'https://www.orange.com'> orange.com </a>\n",
      "                    <span>\n",
      "                        <a href=\"https://www.orange.blog/\">오렌지 효능</a>\n",
      "                    </span>\n",
      "                </p>\n",
      "        </div>\n",
      "    </body> \n",
      "</html>\n"
     ]
    }
   ],
   "source": [
    "print(html_src)"
   ]
  },
  {
   "cell_type": "code",
   "execution_count": 19,
   "id": "cc993aa4",
   "metadata": {
    "ExecuteTime": {
     "end_time": "2023-12-07T05:07:44.419668Z",
     "start_time": "2023-12-07T05:07:44.413443Z"
    }
   },
   "outputs": [],
   "source": [
    "# DOM구조로 변환(구문 분석)\n",
    "soup = BeautifulSoup(html_src, 'lxml')"
   ]
  },
  {
   "cell_type": "code",
   "execution_count": 20,
   "id": "2355c5c4",
   "metadata": {
    "ExecuteTime": {
     "end_time": "2023-12-07T05:07:49.646089Z",
     "start_time": "2023-12-07T05:07:49.639951Z"
    }
   },
   "outputs": [
    {
     "data": {
      "text/plain": [
       "bs4.BeautifulSoup"
      ]
     },
     "execution_count": 20,
     "metadata": {},
     "output_type": "execute_result"
    }
   ],
   "source": [
    "type(soup)"
   ]
  },
  {
   "cell_type": "code",
   "execution_count": 21,
   "id": "3db025d0",
   "metadata": {
    "ExecuteTime": {
     "end_time": "2023-12-07T05:09:10.522173Z",
     "start_time": "2023-12-07T05:09:10.513471Z"
    },
    "scrolled": true
   },
   "outputs": [
    {
     "data": {
      "text/plain": [
       "<html>\n",
       "<body>\n",
       "<h1> 과일 목록 </h1>\n",
       "<div>\n",
       "<p class=\"fruit\" id=\"banana\" title=\"바나나\">\n",
       "<span class=\"price\"> 3000원 </span>\n",
       "<span class=\"count\"> 10개 </span>\n",
       "<span class=\"store\"> 바나나가게 </span>\n",
       "<a href=\"https://www.banana.com\"> banana.com </a>\n",
       "</p>\n",
       "<p class=\"fruit\" id=\"cherry\" title=\"체리\">\n",
       "<span class=\"price\"> 100원 </span>\n",
       "<span class=\"count\"> 50개 </span>\n",
       "<span class=\"store\"> 체리가게</span>\n",
       "<a href=\"https://www.cherry.com\"> cherry.com </a>\n",
       "</p>\n",
       "<p class=\"fruit best\" id=\"orange\" title=\"오렌지\">\n",
       "<span class=\"price\"> 500원 </span>\n",
       "<span class=\"count\"> 20개 </span>\n",
       "<span class=\"store\"> 오렌지가게</span>\n",
       "<a href=\"https://www.orange.com\"> orange.com </a>\n",
       "<span>\n",
       "<a href=\"https://www.orange.blog/\">오렌지 효능</a>\n",
       "</span>\n",
       "</p>\n",
       "</div>\n",
       "</body>\n",
       "</html>"
      ]
     },
     "execution_count": 21,
     "metadata": {},
     "output_type": "execute_result"
    }
   ],
   "source": [
    "soup"
   ]
  },
  {
   "cell_type": "code",
   "execution_count": 22,
   "id": "584aa7ad",
   "metadata": {
    "ExecuteTime": {
     "end_time": "2023-12-07T05:10:39.597134Z",
     "start_time": "2023-12-07T05:10:39.590233Z"
    }
   },
   "outputs": [
    {
     "data": {
      "text/plain": [
       "<p class=\"fruit\" id=\"banana\" title=\"바나나\">\n",
       "<span class=\"price\"> 3000원 </span>\n",
       "<span class=\"count\"> 10개 </span>\n",
       "<span class=\"store\"> 바나나가게 </span>\n",
       "<a href=\"https://www.banana.com\"> banana.com </a>\n",
       "</p>"
      ]
     },
     "execution_count": 22,
     "metadata": {},
     "output_type": "execute_result"
    }
   ],
   "source": [
    "soup.find('p')"
   ]
  },
  {
   "cell_type": "code",
   "execution_count": 23,
   "id": "bf2df695",
   "metadata": {
    "ExecuteTime": {
     "end_time": "2023-12-07T05:10:50.048202Z",
     "start_time": "2023-12-07T05:10:50.041443Z"
    }
   },
   "outputs": [
    {
     "data": {
      "text/plain": [
       "bs4.element.Tag"
      ]
     },
     "execution_count": 23,
     "metadata": {},
     "output_type": "execute_result"
    }
   ],
   "source": [
    "type(soup.find('p'))"
   ]
  },
  {
   "cell_type": "code",
   "execution_count": 24,
   "id": "0520427e",
   "metadata": {
    "ExecuteTime": {
     "end_time": "2023-12-07T05:10:55.349516Z",
     "start_time": "2023-12-07T05:10:55.342259Z"
    }
   },
   "outputs": [
    {
     "data": {
      "text/plain": [
       "[<p class=\"fruit\" id=\"banana\" title=\"바나나\">\n",
       " <span class=\"price\"> 3000원 </span>\n",
       " <span class=\"count\"> 10개 </span>\n",
       " <span class=\"store\"> 바나나가게 </span>\n",
       " <a href=\"https://www.banana.com\"> banana.com </a>\n",
       " </p>,\n",
       " <p class=\"fruit\" id=\"cherry\" title=\"체리\">\n",
       " <span class=\"price\"> 100원 </span>\n",
       " <span class=\"count\"> 50개 </span>\n",
       " <span class=\"store\"> 체리가게</span>\n",
       " <a href=\"https://www.cherry.com\"> cherry.com </a>\n",
       " </p>,\n",
       " <p class=\"fruit best\" id=\"orange\" title=\"오렌지\">\n",
       " <span class=\"price\"> 500원 </span>\n",
       " <span class=\"count\"> 20개 </span>\n",
       " <span class=\"store\"> 오렌지가게</span>\n",
       " <a href=\"https://www.orange.com\"> orange.com </a>\n",
       " <span>\n",
       " <a href=\"https://www.orange.blog/\">오렌지 효능</a>\n",
       " </span>\n",
       " </p>]"
      ]
     },
     "execution_count": 24,
     "metadata": {},
     "output_type": "execute_result"
    }
   ],
   "source": [
    "soup.find_all('p')"
   ]
  },
  {
   "cell_type": "code",
   "execution_count": 25,
   "id": "24bc34f8",
   "metadata": {
    "ExecuteTime": {
     "end_time": "2023-12-07T05:14:49.297496Z",
     "start_time": "2023-12-07T05:14:49.289529Z"
    }
   },
   "outputs": [
    {
     "data": {
      "text/plain": [
       "<p class=\"fruit best\" id=\"orange\" title=\"오렌지\">\n",
       "<span class=\"price\"> 500원 </span>\n",
       "<span class=\"count\"> 20개 </span>\n",
       "<span class=\"store\"> 오렌지가게</span>\n",
       "<a href=\"https://www.orange.com\"> orange.com </a>\n",
       "<span>\n",
       "<a href=\"https://www.orange.blog/\">오렌지 효능</a>\n",
       "</span>\n",
       "</p>"
      ]
     },
     "execution_count": 25,
     "metadata": {},
     "output_type": "execute_result"
    }
   ],
   "source": [
    "soup.find('p', id=\"orange\")"
   ]
  },
  {
   "cell_type": "code",
   "execution_count": 26,
   "id": "434bbe6f",
   "metadata": {
    "ExecuteTime": {
     "end_time": "2023-12-07T05:14:56.014138Z",
     "start_time": "2023-12-07T05:14:56.008394Z"
    }
   },
   "outputs": [
    {
     "data": {
      "text/plain": [
       "[<p class=\"fruit\" id=\"banana\" title=\"바나나\">\n",
       " <span class=\"price\"> 3000원 </span>\n",
       " <span class=\"count\"> 10개 </span>\n",
       " <span class=\"store\"> 바나나가게 </span>\n",
       " <a href=\"https://www.banana.com\"> banana.com </a>\n",
       " </p>,\n",
       " <p class=\"fruit\" id=\"cherry\" title=\"체리\">\n",
       " <span class=\"price\"> 100원 </span>\n",
       " <span class=\"count\"> 50개 </span>\n",
       " <span class=\"store\"> 체리가게</span>\n",
       " <a href=\"https://www.cherry.com\"> cherry.com </a>\n",
       " </p>,\n",
       " <p class=\"fruit best\" id=\"orange\" title=\"오렌지\">\n",
       " <span class=\"price\"> 500원 </span>\n",
       " <span class=\"count\"> 20개 </span>\n",
       " <span class=\"store\"> 오렌지가게</span>\n",
       " <a href=\"https://www.orange.com\"> orange.com </a>\n",
       " <span>\n",
       " <a href=\"https://www.orange.blog/\">오렌지 효능</a>\n",
       " </span>\n",
       " </p>]"
      ]
     },
     "execution_count": 26,
     "metadata": {},
     "output_type": "execute_result"
    }
   ],
   "source": [
    "soup.find_all(class_='fruit')"
   ]
  },
  {
   "cell_type": "code",
   "execution_count": 27,
   "id": "7f68e847",
   "metadata": {
    "ExecuteTime": {
     "end_time": "2023-12-07T05:15:13.157729Z",
     "start_time": "2023-12-07T05:15:13.150013Z"
    }
   },
   "outputs": [
    {
     "data": {
      "text/plain": [
       "[<p class=\"fruit\" id=\"banana\" title=\"바나나\">\n",
       " <span class=\"price\"> 3000원 </span>\n",
       " <span class=\"count\"> 10개 </span>\n",
       " <span class=\"store\"> 바나나가게 </span>\n",
       " <a href=\"https://www.banana.com\"> banana.com </a>\n",
       " </p>,\n",
       " <p class=\"fruit\" id=\"cherry\" title=\"체리\">\n",
       " <span class=\"price\"> 100원 </span>\n",
       " <span class=\"count\"> 50개 </span>\n",
       " <span class=\"store\"> 체리가게</span>\n",
       " <a href=\"https://www.cherry.com\"> cherry.com </a>\n",
       " </p>,\n",
       " <p class=\"fruit best\" id=\"orange\" title=\"오렌지\">\n",
       " <span class=\"price\"> 500원 </span>\n",
       " <span class=\"count\"> 20개 </span>\n",
       " <span class=\"store\"> 오렌지가게</span>\n",
       " <a href=\"https://www.orange.com\"> orange.com </a>\n",
       " <span>\n",
       " <a href=\"https://www.orange.blog/\">오렌지 효능</a>\n",
       " </span>\n",
       " </p>]"
      ]
     },
     "execution_count": 27,
     "metadata": {},
     "output_type": "execute_result"
    }
   ],
   "source": [
    "soup.select('p')"
   ]
  },
  {
   "cell_type": "code",
   "execution_count": 28,
   "id": "9f958e0f",
   "metadata": {
    "ExecuteTime": {
     "end_time": "2023-12-07T05:15:20.729126Z",
     "start_time": "2023-12-07T05:15:20.722007Z"
    }
   },
   "outputs": [
    {
     "data": {
      "text/plain": [
       "<p class=\"fruit\" id=\"banana\" title=\"바나나\">\n",
       "<span class=\"price\"> 3000원 </span>\n",
       "<span class=\"count\"> 10개 </span>\n",
       "<span class=\"store\"> 바나나가게 </span>\n",
       "<a href=\"https://www.banana.com\"> banana.com </a>\n",
       "</p>"
      ]
     },
     "execution_count": 28,
     "metadata": {},
     "output_type": "execute_result"
    }
   ],
   "source": [
    "soup.select_one('p')\n"
   ]
  },
  {
   "cell_type": "code",
   "execution_count": 29,
   "id": "73210e09",
   "metadata": {
    "ExecuteTime": {
     "end_time": "2023-12-07T05:15:25.922012Z",
     "start_time": "2023-12-07T05:15:25.914668Z"
    }
   },
   "outputs": [
    {
     "data": {
      "text/plain": [
       "[<p class=\"fruit best\" id=\"orange\" title=\"오렌지\">\n",
       " <span class=\"price\"> 500원 </span>\n",
       " <span class=\"count\"> 20개 </span>\n",
       " <span class=\"store\"> 오렌지가게</span>\n",
       " <a href=\"https://www.orange.com\"> orange.com </a>\n",
       " <span>\n",
       " <a href=\"https://www.orange.blog/\">오렌지 효능</a>\n",
       " </span>\n",
       " </p>]"
      ]
     },
     "execution_count": 29,
     "metadata": {},
     "output_type": "execute_result"
    }
   ],
   "source": [
    "soup.select('#orange') # id 속성"
   ]
  },
  {
   "cell_type": "code",
   "execution_count": 30,
   "id": "8b82103a",
   "metadata": {
    "ExecuteTime": {
     "end_time": "2023-12-07T05:15:34.760331Z",
     "start_time": "2023-12-07T05:15:34.751623Z"
    }
   },
   "outputs": [
    {
     "data": {
      "text/plain": [
       "<p class=\"fruit best\" id=\"orange\" title=\"오렌지\">\n",
       "<span class=\"price\"> 500원 </span>\n",
       "<span class=\"count\"> 20개 </span>\n",
       "<span class=\"store\"> 오렌지가게</span>\n",
       "<a href=\"https://www.orange.com\"> orange.com </a>\n",
       "<span>\n",
       "<a href=\"https://www.orange.blog/\">오렌지 효능</a>\n",
       "</span>\n",
       "</p>"
      ]
     },
     "execution_count": 30,
     "metadata": {},
     "output_type": "execute_result"
    }
   ],
   "source": [
    "soup.select_one('#orange')"
   ]
  },
  {
   "cell_type": "code",
   "execution_count": 31,
   "id": "50a5efe0",
   "metadata": {
    "ExecuteTime": {
     "end_time": "2023-12-07T05:15:40.082834Z",
     "start_time": "2023-12-07T05:15:40.074995Z"
    }
   },
   "outputs": [
    {
     "data": {
      "text/plain": [
       "[<span class=\"price\"> 3000원 </span>,\n",
       " <span class=\"price\"> 100원 </span>,\n",
       " <span class=\"price\"> 500원 </span>]"
      ]
     },
     "execution_count": 31,
     "metadata": {},
     "output_type": "execute_result"
    }
   ],
   "source": [
    "soup.select('.price') # class 속성"
   ]
  },
  {
   "cell_type": "code",
   "execution_count": 32,
   "id": "13fa54df",
   "metadata": {
    "ExecuteTime": {
     "end_time": "2023-12-07T05:15:44.431711Z",
     "start_time": "2023-12-07T05:15:44.424257Z"
    }
   },
   "outputs": [
    {
     "data": {
      "text/plain": [
       "[<p class=\"fruit best\" id=\"orange\" title=\"오렌지\">\n",
       " <span class=\"price\"> 500원 </span>\n",
       " <span class=\"count\"> 20개 </span>\n",
       " <span class=\"store\"> 오렌지가게</span>\n",
       " <a href=\"https://www.orange.com\"> orange.com </a>\n",
       " <span>\n",
       " <a href=\"https://www.orange.blog/\">오렌지 효능</a>\n",
       " </span>\n",
       " </p>]"
      ]
     },
     "execution_count": 32,
     "metadata": {},
     "output_type": "execute_result"
    }
   ],
   "source": [
    "soup.select('p#orange') #AND관계"
   ]
  },
  {
   "cell_type": "code",
   "execution_count": 33,
   "id": "c42bc0de",
   "metadata": {
    "ExecuteTime": {
     "end_time": "2023-12-07T05:15:51.739534Z",
     "start_time": "2023-12-07T05:15:51.731988Z"
    }
   },
   "outputs": [
    {
     "data": {
      "text/plain": [
       "[<span class=\"store\"> 바나나가게 </span>,\n",
       " <a href=\"https://www.banana.com\"> banana.com </a>,\n",
       " <span class=\"store\"> 체리가게</span>,\n",
       " <a href=\"https://www.cherry.com\"> cherry.com </a>,\n",
       " <span class=\"store\"> 오렌지가게</span>,\n",
       " <a href=\"https://www.orange.com\"> orange.com </a>,\n",
       " <a href=\"https://www.orange.blog/\">오렌지 효능</a>]"
      ]
     },
     "execution_count": 33,
     "metadata": {},
     "output_type": "execute_result"
    }
   ],
   "source": [
    "soup.select('a, .store')  # , = OR 관계"
   ]
  },
  {
   "cell_type": "code",
   "execution_count": 34,
   "id": "fe98114d",
   "metadata": {
    "ExecuteTime": {
     "end_time": "2023-12-07T05:18:02.584909Z",
     "start_time": "2023-12-07T05:18:02.577907Z"
    }
   },
   "outputs": [
    {
     "data": {
      "text/plain": [
       "[<p class=\"fruit best\" id=\"orange\" title=\"오렌지\">\n",
       " <span class=\"price\"> 500원 </span>\n",
       " <span class=\"count\"> 20개 </span>\n",
       " <span class=\"store\"> 오렌지가게</span>\n",
       " <a href=\"https://www.orange.com\"> orange.com </a>\n",
       " <span>\n",
       " <a href=\"https://www.orange.blog/\">오렌지 효능</a>\n",
       " </span>\n",
       " </p>]"
      ]
     },
     "execution_count": 34,
     "metadata": {},
     "output_type": "execute_result"
    }
   ],
   "source": [
    "soup.select('.fruit.best') # 클래스값이 2개인 태그, "
   ]
  },
  {
   "cell_type": "code",
   "execution_count": 35,
   "id": "3c016910",
   "metadata": {
    "ExecuteTime": {
     "end_time": "2023-12-07T05:27:04.952349Z",
     "start_time": "2023-12-07T05:27:04.944503Z"
    }
   },
   "outputs": [
    {
     "data": {
      "text/plain": [
       "[<p class=\"fruit best\" id=\"orange\" title=\"오렌지\">\n",
       " <span class=\"price\"> 500원 </span>\n",
       " <span class=\"count\"> 20개 </span>\n",
       " <span class=\"store\"> 오렌지가게</span>\n",
       " <a href=\"https://www.orange.com\"> orange.com </a>\n",
       " <span>\n",
       " <a href=\"https://www.orange.blog/\">오렌지 효능</a>\n",
       " </span>\n",
       " </p>]"
      ]
     },
     "execution_count": 35,
     "metadata": {},
     "output_type": "execute_result"
    }
   ],
   "source": [
    "soup.select('.fruit.best') # 클래스값이 2개인 태그, "
   ]
  },
  {
   "cell_type": "code",
   "execution_count": 36,
   "id": "3cb86464",
   "metadata": {
    "ExecuteTime": {
     "end_time": "2023-12-07T05:27:09.730456Z",
     "start_time": "2023-12-07T05:27:09.725483Z"
    }
   },
   "outputs": [
    {
     "data": {
      "text/plain": [
       "[<a href=\"https://www.orange.com\"> orange.com </a>]"
      ]
     },
     "execution_count": 36,
     "metadata": {},
     "output_type": "execute_result"
    }
   ],
   "source": [
    "soup.select('.fruit.best>a')"
   ]
  },
  {
   "cell_type": "code",
   "execution_count": 37,
   "id": "81288292",
   "metadata": {
    "ExecuteTime": {
     "end_time": "2023-12-07T05:27:13.846433Z",
     "start_time": "2023-12-07T05:27:13.839433Z"
    }
   },
   "outputs": [
    {
     "data": {
      "text/plain": [
       "[<a href=\"https://www.orange.com\"> orange.com </a>]"
      ]
     },
     "execution_count": 37,
     "metadata": {},
     "output_type": "execute_result"
    }
   ],
   "source": [
    "soup.select('.fruit.best > a') # > 자식관계(공백주의) )"
   ]
  },
  {
   "cell_type": "code",
   "execution_count": 38,
   "id": "9b74e203",
   "metadata": {
    "ExecuteTime": {
     "end_time": "2023-12-07T05:27:18.309161Z",
     "start_time": "2023-12-07T05:27:18.302897Z"
    }
   },
   "outputs": [
    {
     "data": {
      "text/plain": [
       "[<a href=\"https://www.orange.com\"> orange.com </a>,\n",
       " <a href=\"https://www.orange.blog/\">오렌지 효능</a>]"
      ]
     },
     "execution_count": 38,
     "metadata": {},
     "output_type": "execute_result"
    }
   ],
   "source": [
    "soup.select('.fruit.best a')# 공백 자손 관계"
   ]
  },
  {
   "cell_type": "code",
   "execution_count": 39,
   "id": "f3ffc017",
   "metadata": {
    "ExecuteTime": {
     "end_time": "2023-12-07T05:27:25.621443Z",
     "start_time": "2023-12-07T05:27:25.613562Z"
    }
   },
   "outputs": [
    {
     "data": {
      "text/plain": [
       "[<a href=\"https://www.orange.blog/\">오렌지 효능</a>]"
      ]
     },
     "execution_count": 39,
     "metadata": {},
     "output_type": "execute_result"
    }
   ],
   "source": [
    "soup.select('.fruit.best > span > a')"
   ]
  },
  {
   "cell_type": "code",
   "execution_count": 40,
   "id": "d5589faa",
   "metadata": {
    "ExecuteTime": {
     "end_time": "2023-12-07T05:27:29.185157Z",
     "start_time": "2023-12-07T05:27:29.178560Z"
    }
   },
   "outputs": [
    {
     "data": {
      "text/plain": [
       "bs4.element.ResultSet"
      ]
     },
     "execution_count": 40,
     "metadata": {},
     "output_type": "execute_result"
    }
   ],
   "source": [
    "mylist = soup.select('.fruit.best a')\n",
    "type(mylist)"
   ]
  },
  {
   "cell_type": "code",
   "execution_count": 41,
   "id": "7901a2e1",
   "metadata": {
    "ExecuteTime": {
     "end_time": "2023-12-07T05:27:33.238282Z",
     "start_time": "2023-12-07T05:27:33.233063Z"
    }
   },
   "outputs": [
    {
     "data": {
      "text/plain": [
       "bs4.element.Tag"
      ]
     },
     "execution_count": 41,
     "metadata": {},
     "output_type": "execute_result"
    }
   ],
   "source": [
    "type(mylist[0])"
   ]
  },
  {
   "cell_type": "code",
   "execution_count": 42,
   "id": "af069d6a",
   "metadata": {
    "ExecuteTime": {
     "end_time": "2023-12-07T05:27:37.728039Z",
     "start_time": "2023-12-07T05:27:37.723710Z"
    }
   },
   "outputs": [
    {
     "name": "stdout",
     "output_type": "stream",
     "text": [
      " orange.com \n",
      "오렌지 효능\n"
     ]
    }
   ],
   "source": [
    "for tagItem in mylist :\n",
    "    print(tagItem.text)"
   ]
  },
  {
   "cell_type": "code",
   "execution_count": 43,
   "id": "e73fa0eb",
   "metadata": {
    "ExecuteTime": {
     "end_time": "2023-12-07T05:31:25.114880Z",
     "start_time": "2023-12-07T05:31:25.110404Z"
    }
   },
   "outputs": [
    {
     "name": "stdout",
     "output_type": "stream",
     "text": [
      "<a href=\"https://www.orange.blog/\">오렌지 효능</a>\n"
     ]
    }
   ],
   "source": [
    "print(tagItem)"
   ]
  },
  {
   "cell_type": "code",
   "execution_count": 44,
   "id": "c848607c",
   "metadata": {
    "ExecuteTime": {
     "end_time": "2023-12-07T05:31:33.470311Z",
     "start_time": "2023-12-07T05:31:33.465314Z"
    }
   },
   "outputs": [
    {
     "name": "stdout",
     "output_type": "stream",
     "text": [
      "https://www.orange.com\n",
      "https://www.orange.blog/\n"
     ]
    }
   ],
   "source": [
    "for item in mylist :\n",
    "    print(item['href'])"
   ]
  },
  {
   "cell_type": "code",
   "execution_count": 45,
   "id": "27132d96",
   "metadata": {
    "ExecuteTime": {
     "end_time": "2023-12-07T05:31:46.915349Z",
     "start_time": "2023-12-07T05:31:46.910503Z"
    }
   },
   "outputs": [],
   "source": [
    "items = soup.select('.fruit')"
   ]
  },
  {
   "cell_type": "code",
   "execution_count": 46,
   "id": "3a0ba2b3",
   "metadata": {
    "ExecuteTime": {
     "end_time": "2023-12-07T05:31:51.659872Z",
     "start_time": "2023-12-07T05:31:51.654395Z"
    }
   },
   "outputs": [
    {
     "name": "stdout",
     "output_type": "stream",
     "text": [
      "[<p class=\"fruit\" id=\"banana\" title=\"바나나\">\n",
      "<span class=\"price\"> 3000원 </span>\n",
      "<span class=\"count\"> 10개 </span>\n",
      "<span class=\"store\"> 바나나가게 </span>\n",
      "<a href=\"https://www.banana.com\"> banana.com </a>\n",
      "</p>, <p class=\"fruit\" id=\"cherry\" title=\"체리\">\n",
      "<span class=\"price\"> 100원 </span>\n",
      "<span class=\"count\"> 50개 </span>\n",
      "<span class=\"store\"> 체리가게</span>\n",
      "<a href=\"https://www.cherry.com\"> cherry.com </a>\n",
      "</p>, <p class=\"fruit best\" id=\"orange\" title=\"오렌지\">\n",
      "<span class=\"price\"> 500원 </span>\n",
      "<span class=\"count\"> 20개 </span>\n",
      "<span class=\"store\"> 오렌지가게</span>\n",
      "<a href=\"https://www.orange.com\"> orange.com </a>\n",
      "<span>\n",
      "<a href=\"https://www.orange.blog/\">오렌지 효능</a>\n",
      "</span>\n",
      "</p>]\n"
     ]
    }
   ],
   "source": [
    "print(items)"
   ]
  },
  {
   "cell_type": "code",
   "execution_count": 47,
   "id": "a373a951",
   "metadata": {
    "ExecuteTime": {
     "end_time": "2023-12-07T05:32:03.600078Z",
     "start_time": "2023-12-07T05:32:03.593595Z"
    },
    "scrolled": true
   },
   "outputs": [
    {
     "name": "stdout",
     "output_type": "stream",
     "text": [
      "바나나  3000원   10개   바나나가게 \n",
      "체리  100원   50개   체리가게\n",
      "오렌지  500원   20개   오렌지가게\n"
     ]
    }
   ],
   "source": [
    "for item in items:    \n",
    "    name = item['title']\n",
    "    price = item.find('span','price').text\n",
    "    count = item.find('span','count').text\n",
    "    store = item.find('span', 'store').text\n",
    "    print(name, price, count, store) "
   ]
  },
  {
   "cell_type": "code",
   "execution_count": 48,
   "id": "b5ed2f87",
   "metadata": {
    "ExecuteTime": {
     "end_time": "2023-12-07T05:59:45.606683Z",
     "start_time": "2023-12-07T05:59:45.601354Z"
    }
   },
   "outputs": [],
   "source": [
    "e = soup.find('p', id=\"orange\")"
   ]
  },
  {
   "cell_type": "code",
   "execution_count": 49,
   "id": "710852fe",
   "metadata": {
    "ExecuteTime": {
     "end_time": "2023-12-07T05:59:49.161306Z",
     "start_time": "2023-12-07T05:59:49.155354Z"
    }
   },
   "outputs": [
    {
     "data": {
      "text/plain": [
       "'p'"
      ]
     },
     "execution_count": 49,
     "metadata": {},
     "output_type": "execute_result"
    }
   ],
   "source": [
    "e.name"
   ]
  },
  {
   "cell_type": "code",
   "execution_count": 50,
   "id": "2e98db7c",
   "metadata": {
    "ExecuteTime": {
     "end_time": "2023-12-07T05:59:53.116518Z",
     "start_time": "2023-12-07T05:59:53.109100Z"
    }
   },
   "outputs": [
    {
     "data": {
      "text/plain": [
       "{'id': 'orange', 'class': ['fruit', 'best'], 'title': '오렌지'}"
      ]
     },
     "execution_count": 50,
     "metadata": {},
     "output_type": "execute_result"
    }
   ],
   "source": [
    "e.attrs"
   ]
  },
  {
   "cell_type": "code",
   "execution_count": 51,
   "id": "d955046b",
   "metadata": {
    "ExecuteTime": {
     "end_time": "2023-12-07T05:59:58.207878Z",
     "start_time": "2023-12-07T05:59:58.201346Z"
    }
   },
   "outputs": [
    {
     "data": {
      "text/plain": [
       "'오렌지'"
      ]
     },
     "execution_count": 51,
     "metadata": {},
     "output_type": "execute_result"
    }
   ],
   "source": [
    "e['title']"
   ]
  },
  {
   "cell_type": "code",
   "execution_count": 52,
   "id": "328d5856",
   "metadata": {
    "ExecuteTime": {
     "end_time": "2023-12-07T06:00:01.798671Z",
     "start_time": "2023-12-07T06:00:01.794346Z"
    }
   },
   "outputs": [],
   "source": [
    "e.string"
   ]
  },
  {
   "cell_type": "code",
   "execution_count": 53,
   "id": "ce92b170",
   "metadata": {
    "ExecuteTime": {
     "end_time": "2023-12-07T06:00:06.986547Z",
     "start_time": "2023-12-07T06:00:06.981994Z"
    }
   },
   "outputs": [
    {
     "name": "stdout",
     "output_type": "stream",
     "text": [
      "None\n"
     ]
    }
   ],
   "source": [
    "print(e.string)"
   ]
  },
  {
   "cell_type": "code",
   "execution_count": 54,
   "id": "804085b4",
   "metadata": {
    "ExecuteTime": {
     "end_time": "2023-12-07T06:00:11.483699Z",
     "start_time": "2023-12-07T06:00:11.477435Z"
    }
   },
   "outputs": [
    {
     "data": {
      "text/plain": [
       "<generator object Tag._all_strings at 0x00000240F82B2A40>"
      ]
     },
     "execution_count": 54,
     "metadata": {},
     "output_type": "execute_result"
    }
   ],
   "source": [
    "e.strings"
   ]
  },
  {
   "cell_type": "code",
   "execution_count": 55,
   "id": "91e723f5",
   "metadata": {
    "ExecuteTime": {
     "end_time": "2023-12-07T06:00:18.987334Z",
     "start_time": "2023-12-07T06:00:18.982334Z"
    },
    "scrolled": true
   },
   "outputs": [
    {
     "name": "stdout",
     "output_type": "stream",
     "text": [
      "\n",
      "\n",
      " 500원 \n",
      "\n",
      "\n",
      " 20개 \n",
      "\n",
      "\n",
      " 오렌지가게\n",
      "\n",
      "\n",
      " orange.com \n",
      "\n",
      "\n",
      "\n",
      "\n",
      "오렌지 효능\n",
      "\n",
      "\n",
      "\n",
      "\n"
     ]
    }
   ],
   "source": [
    "for item in e.strings:\n",
    "    print(item)"
   ]
  },
  {
   "cell_type": "code",
   "execution_count": 56,
   "id": "c12f678a",
   "metadata": {
    "ExecuteTime": {
     "end_time": "2023-12-07T06:00:30.780271Z",
     "start_time": "2023-12-07T06:00:30.775212Z"
    }
   },
   "outputs": [
    {
     "data": {
      "text/plain": [
       "'\\n 500원 \\n 20개 \\n 오렌지가게\\n orange.com \\n\\n오렌지 효능\\n\\n'"
      ]
     },
     "execution_count": 56,
     "metadata": {},
     "output_type": "execute_result"
    }
   ],
   "source": [
    "e.text"
   ]
  },
  {
   "cell_type": "code",
   "execution_count": 57,
   "id": "09a1f9e4",
   "metadata": {
    "ExecuteTime": {
     "end_time": "2023-12-07T06:01:56.652463Z",
     "start_time": "2023-12-07T06:01:56.644007Z"
    }
   },
   "outputs": [
    {
     "data": {
      "text/plain": [
       "<div>\n",
       "<p class=\"fruit\" id=\"banana\" title=\"바나나\">\n",
       "<span class=\"price\"> 3000원 </span>\n",
       "<span class=\"count\"> 10개 </span>\n",
       "<span class=\"store\"> 바나나가게 </span>\n",
       "<a href=\"https://www.banana.com\"> banana.com </a>\n",
       "</p>\n",
       "<p class=\"fruit\" id=\"cherry\" title=\"체리\">\n",
       "<span class=\"price\"> 100원 </span>\n",
       "<span class=\"count\"> 50개 </span>\n",
       "<span class=\"store\"> 체리가게</span>\n",
       "<a href=\"https://www.cherry.com\"> cherry.com </a>\n",
       "</p>\n",
       "<p class=\"fruit best\" id=\"orange\" title=\"오렌지\">\n",
       "<span class=\"price\"> 500원 </span>\n",
       "<span class=\"count\"> 20개 </span>\n",
       "<span class=\"store\"> 오렌지가게</span>\n",
       "<a href=\"https://www.orange.com\"> orange.com </a>\n",
       "<span>\n",
       "<a href=\"https://www.orange.blog/\">오렌지 효능</a>\n",
       "</span>\n",
       "</p>\n",
       "</div>"
      ]
     },
     "execution_count": 57,
     "metadata": {},
     "output_type": "execute_result"
    }
   ],
   "source": [
    "e.parent"
   ]
  },
  {
   "cell_type": "code",
   "execution_count": 58,
   "id": "a1f95570",
   "metadata": {
    "ExecuteTime": {
     "end_time": "2023-12-07T06:02:01.396439Z",
     "start_time": "2023-12-07T06:02:01.390272Z"
    }
   },
   "outputs": [
    {
     "data": {
      "text/plain": [
       "<generator object PageElement.parents at 0x00000240F829A680>"
      ]
     },
     "execution_count": 58,
     "metadata": {},
     "output_type": "execute_result"
    }
   ],
   "source": [
    "e.parents"
   ]
  },
  {
   "cell_type": "code",
   "execution_count": 59,
   "id": "edcb7c57",
   "metadata": {
    "ExecuteTime": {
     "end_time": "2023-12-07T06:02:07.953409Z",
     "start_time": "2023-12-07T06:02:07.948160Z"
    }
   },
   "outputs": [
    {
     "name": "stdout",
     "output_type": "stream",
     "text": [
      "div\n",
      "body\n",
      "html\n",
      "[document]\n"
     ]
    }
   ],
   "source": [
    "for item in e.parents:\n",
    "    print(item.name)"
   ]
  },
  {
   "cell_type": "code",
   "execution_count": 60,
   "id": "11135b9e",
   "metadata": {
    "ExecuteTime": {
     "end_time": "2023-12-07T06:02:13.513862Z",
     "start_time": "2023-12-07T06:02:13.507139Z"
    }
   },
   "outputs": [
    {
     "data": {
      "text/plain": [
       "['\\n',\n",
       " <span class=\"price\"> 500원 </span>,\n",
       " '\\n',\n",
       " <span class=\"count\"> 20개 </span>,\n",
       " '\\n',\n",
       " <span class=\"store\"> 오렌지가게</span>,\n",
       " '\\n',\n",
       " <a href=\"https://www.orange.com\"> orange.com </a>,\n",
       " '\\n',\n",
       " <span>\n",
       " <a href=\"https://www.orange.blog/\">오렌지 효능</a>\n",
       " </span>,\n",
       " '\\n']"
      ]
     },
     "execution_count": 60,
     "metadata": {},
     "output_type": "execute_result"
    }
   ],
   "source": [
    "# 모든 자식 요소(list)\n",
    "e.contents"
   ]
  },
  {
   "cell_type": "code",
   "execution_count": 61,
   "id": "e3e745b1",
   "metadata": {
    "ExecuteTime": {
     "end_time": "2023-12-07T06:02:17.993230Z",
     "start_time": "2023-12-07T06:02:17.986879Z"
    }
   },
   "outputs": [
    {
     "data": {
      "text/plain": [
       "<list_iterator at 0x240f8307670>"
      ]
     },
     "execution_count": 61,
     "metadata": {},
     "output_type": "execute_result"
    }
   ],
   "source": [
    "# 모든 자식 요소(eter)\n",
    "e.children"
   ]
  },
  {
   "cell_type": "code",
   "execution_count": 62,
   "id": "f237a218",
   "metadata": {
    "ExecuteTime": {
     "end_time": "2023-12-07T06:02:22.429940Z",
     "start_time": "2023-12-07T06:02:22.424447Z"
    }
   },
   "outputs": [
    {
     "name": "stdout",
     "output_type": "stream",
     "text": [
      "None\n",
      "span\n",
      "None\n",
      "span\n",
      "None\n",
      "span\n",
      "None\n",
      "a\n",
      "None\n",
      "span\n",
      "None\n"
     ]
    }
   ],
   "source": [
    "for item in e.children:\n",
    "    print(item.name)"
   ]
  },
  {
   "cell_type": "code",
   "execution_count": 23,
   "id": "3ce05b19",
   "metadata": {
    "ExecuteTime": {
     "end_time": "2023-12-07T11:21:12.737447Z",
     "start_time": "2023-12-07T11:21:11.404333Z"
    }
   },
   "outputs": [
    {
     "name": "stdout",
     "output_type": "stream",
     "text": [
      "<!DOCTYPE html>\n",
      "<html class=\"no-js\" lang=\"ko-KR\"><head><meta content=\"IE=edge,chrome=1\" http-equiv=\"X-UA-Compatible\"/><meta charset=\"utf-8\"/><meta content=\"user-scalable=no, initial-scale=1, maximum-scale=1.0, minimum-scale=1.0, width=device-width, height=device-height\" name=\"viewport\"/><meta content=\"telephone=no\" name=\"format-detection\"/><meta content=\"e226347a1bf86fd2208589cfb8c239b8e9edd065\" name=\"naver-site-verification\"><meta content=\"3U6Lv_nn4NmO_ucYbLXOf6V-RYUWKddqOuEzA9UZI9M\" name=\"google-site-verification\"><link href=\"http://gmpg.org/xfn/11\" rel=\"profile\"/> <script src=\"https://www.googleoptimize.com/optimize.js?id=OPT-PHNLM7N\"></script> <!-- Google Tag Manager for WordPress by gtm4wp.com --> <script data-cfasync=\"false\" data-pagespeed-no-defer=\"\">var gtm4wp_datalayer_name = \"dataLayer\";\n",
      "\tvar dataLayer = dataLayer || [];</script> <!-- End Google Tag Manager for WordPress by gtm4wp.com --> <!-- This site is optimized with the Yoast SEO plugin v15.3 - https://yoast.com/wordpress/plugins/seo/ --><link href=\"https://www.technologyreview.kr/wp-content/cache/autoptimize/1/css/autoptimize_f801d4b20375f6303d3a730fbe2344da.css\" media=\"all\" rel=\"stylesheet\"/><title>마침내 공개된 구글 차세대 AI 모델 '제미나이'는 무엇을 시사하나 - MIT 테크놀로지 리뷰 | MIT Techonology Review Korea</title><meta content=\"index, follow, max-snippet:-1, max-image-preview:large, max-video-preview:-1\" name=\"robots\"><link href=\"https://www.technologyreview.kr/google-deepminds-new-gemini-model-looks-amazing-but-could-signal-peak-ai-hype/\" rel=\"canonical\"><meta content=\"ko_KR\" property=\"og:locale\"><meta content=\"article\" property=\"og:type\"/><meta content=\"마침내 공개된 구글 차세대 AI 모델 '제미나이'는 무엇을 시사하나 - MIT 테크놀로지 리뷰 | MIT Techonology Review Korea\" property=\"og:title\"/><meta content=\"구글 딥마인드가 6일(현지시간) 차세대 대규모언어모델(LLM) 제미나이(Gemini)를 전격 공개했다. 구글은 제미나이가 모든 면에서 경쟁 제품인 오픈AI의 GPT-4를 능가한다고 광고했지만 약간의 성능 차만 확인됐을 뿐이다.\" property=\"og:description\"/><meta content=\"https://www.technologyreview.kr/google-deepminds-new-gemini-model-looks-amazing-but-could-signal-peak-ai-hype/\" property=\"og:url\"/><meta content=\"MIT 테크놀로지 리뷰 | MIT Techonology Review Korea\" property=\"og:site_name\"/><meta content=\"2023-12-06T22:27:48+00:00\" property=\"article:published_time\"/><meta content=\"2023-12-06T22:34:30+00:00\" property=\"article:modified_time\"/><meta content=\"https://www.technologyreview.kr/wp-content/uploads/2023/12/image01-1.png\" property=\"og:image\"/><meta content=\"1119\" property=\"og:image:width\"/><meta content=\"620\" property=\"og:image:height\"/><meta content=\"summary_large_image\" name=\"twitter:card\"/> <script class=\"yoast-schema-graph\" type=\"application/ld+json\">{\"@context\":\"https://schema.org\",\"@graph\":[{\"@type\":\"Organization\",\"@id\":\"https://www.technologyreview.kr/#organization\",\"name\":\"MIT Technology Review\",\"url\":\"https://www.technologyreview.kr/\",\"sameAs\":[],\"logo\":{\"@type\":\"ImageObject\",\"@id\":\"https://www.technologyreview.kr/#logo\",\"inLanguage\":\"ko-KR\",\"url\":\"\",\"caption\":\"MIT Technology Review\"},\"image\":{\"@id\":\"https://www.technologyreview.kr/#logo\"}},{\"@type\":\"WebSite\",\"@id\":\"https://www.technologyreview.kr/#website\",\"url\":\"https://www.technologyreview.kr/\",\"name\":\"MIT \\ud14c\\ud06c\\ub180\\ub85c\\uc9c0 \\ub9ac\\ubdf0 | MIT Techonology Review Korea\",\"description\":\"\\uae30\\uc220\\ub85c \\uc138\\uc0c1\\uc744 \\uc774\\ub86d\\uac8c \\ud569\\ub2c8\\ub2e4\",\"publisher\":{\"@id\":\"https://www.technologyreview.kr/#organization\"},\"potentialAction\":[{\"@type\":\"SearchAction\",\"target\":\"https://www.technologyreview.kr/?s={search_term_string}\",\"query-input\":\"required name=search_term_string\"}],\"inLanguage\":\"ko-KR\"},{\"@type\":\"ImageObject\",\"@id\":\"https://www.technologyreview.kr/google-deepminds-new-gemini-model-looks-amazing-but-could-signal-peak-ai-hype/#primaryimage\",\"inLanguage\":\"ko-KR\",\"url\":\"https://www.technologyreview.kr/wp-content/uploads/2023/12/image01-1.png\",\"width\":1119,\"height\":620,\"caption\":\"GOOGLE\"},{\"@type\":\"WebPage\",\"@id\":\"https://www.technologyreview.kr/google-deepminds-new-gemini-model-looks-amazing-but-could-signal-peak-ai-hype/#webpage\",\"url\":\"https://www.technologyreview.kr/google-deepminds-new-gemini-model-looks-amazing-but-could-signal-peak-ai-hype/\",\"name\":\"\\ub9c8\\uce68\\ub0b4 \\uacf5\\uac1c\\ub41c \\uad6c\\uae00 \\ucc28\\uc138\\ub300 AI \\ubaa8\\ub378 '\\uc81c\\ubbf8\\ub098\\uc774'\\ub294 \\ubb34\\uc5c7\\uc744 \\uc2dc\\uc0ac\\ud558\\ub098 - MIT \\ud14c\\ud06c\\ub180\\ub85c\\uc9c0 \\ub9ac\\ubdf0 | MIT Techonology Review Korea\",\"isPartOf\":{\"@id\":\"https://www.technologyreview.kr/#website\"},\"primaryImageOfPage\":{\"@id\":\"https://www.technologyreview.kr/google-deepminds-new-gemini-model-looks-amazing-but-could-signal-peak-ai-hype/#primaryimage\"},\"datePublished\":\"2023-12-06T22:27:48+00:00\",\"dateModified\":\"2023-12-06T22:34:30+00:00\",\"inLanguage\":\"ko-KR\",\"potentialAction\":[{\"@type\":\"ReadAction\",\"target\":[\"https://www.technologyreview.kr/google-deepminds-new-gemini-model-looks-amazing-but-could-signal-peak-ai-hype/\"]}]},{\"@type\":\"Article\",\"@id\":\"https://www.technologyreview.kr/google-deepminds-new-gemini-model-looks-amazing-but-could-signal-peak-ai-hype/#article\",\"isPartOf\":{\"@id\":\"https://www.technologyreview.kr/google-deepminds-new-gemini-model-looks-amazing-but-could-signal-peak-ai-hype/#webpage\"},\"author\":{\"@id\":\"https://www.technologyreview.kr/#/schema/person/a853809e8ba1ceb6672fb1f9d143dd2e\"},\"headline\":\"\\ub9c8\\uce68\\ub0b4 \\uacf5\\uac1c\\ub41c \\uad6c\\uae00 \\ucc28\\uc138\\ub300 AI \\ubaa8\\ub378 &#8216;\\uc81c\\ubbf8\\ub098\\uc774&#8217;\\ub294 \\ubb34\\uc5c7\\uc744 \\uc2dc\\uc0ac\\ud558\\ub098\",\"datePublished\":\"2023-12-06T22:27:48+00:00\",\"dateModified\":\"2023-12-06T22:34:30+00:00\",\"mainEntityOfPage\":{\"@id\":\"https://www.technologyreview.kr/google-deepminds-new-gemini-model-looks-amazing-but-could-signal-peak-ai-hype/#webpage\"},\"publisher\":{\"@id\":\"https://www.technologyreview.kr/#organization\"},\"image\":{\"@id\":\"https://www.technologyreview.kr/google-deepminds-new-gemini-model-looks-amazing-but-could-signal-peak-ai-hype/#primaryimage\"},\"keywords\":\"GPT-4,\\uad6c\\uae00,\\ub300\\uaddc\\ubaa8\\uc5b8\\uc5b4\\ubaa8\\ub378,\\ub525\\ub9c8\\uc778\\ub4dc,\\ub9c8\\uc774\\ud06c\\ub85c\\uc18c\\ud504\\ud2b8,\\ub9cc\\ub2a5\\uae30\\uacc4,\\uba40\\ud2f0\\ubaa8\\ub2ec,\\uc0dd\\uc131\\ud615AI,\\uc624\\ud508AI,\\uc778\\uacf5\\uc9c0\\ub2a5,\\uc81c\\ubbf8\\ub098\\uc774,\\ucc57GPT\",\"articleSection\":\"\\uc778\\uacf5\\uc9c0\\ub2a5\",\"inLanguage\":\"ko-KR\"},{\"@type\":\"Person\",\"@id\":\"https://www.technologyreview.kr/#/schema/person/a853809e8ba1ceb6672fb1f9d143dd2e\",\"name\":\"Melissa Heikkil\\u00e4\"}]}</script> <!-- / Yoast SEO plugin. --><link href=\"//www.technologyreview.kr\" rel=\"dns-prefetch\"><link href=\"//js.hs-scripts.com\" rel=\"dns-prefetch\"/><link href=\"//kit.fontawesome.com\" rel=\"dns-prefetch\"/><link href=\"//cdn.jsdelivr.net\" rel=\"dns-prefetch\"/><link href=\"//developers.kakao.com\" rel=\"dns-prefetch\"/><link href=\"//s.w.org\" rel=\"dns-prefetch\"/><link href=\"https://www.technologyreview.kr/feed/\" rel=\"alternate\" title=\"MIT 테크놀로지 리뷰 | MIT Techonology Review Korea » 피드\" type=\"application/rss+xml\"/><link href=\"https://www.technologyreview.kr/comments/feed/\" rel=\"alternate\" title=\"MIT 테크놀로지 리뷰 | MIT Techonology Review Korea » 댓글 피드\" type=\"application/rss+xml\"/> <script type=\"text/javascript\">window._wpemojiSettings = {\"baseUrl\":\"https:\\/\\/s.w.org\\/images\\/core\\/emoji\\/13.0.0\\/72x72\\/\",\"ext\":\".png\",\"svgUrl\":\"https:\\/\\/s.w.org\\/images\\/core\\/emoji\\/13.0.0\\/svg\\/\",\"svgExt\":\".svg\",\"source\":{\"concatemoji\":\"https:\\/\\/www.technologyreview.kr\\/wp-includes\\/js\\/wp-emoji-release.min.js?ver=5.5.12\"}};\n",
      "\t\t\t!function(e,a,t){var n,r,o,i=a.createElement(\"canvas\"),p=i.getContext&&i.getContext(\"2d\");function s(e,t){var a=String.fromCharCode;p.clearRect(0,0,i.width,i.height),p.fillText(a.apply(this,e),0,0);e=i.toDataURL();return p.clearRect(0,0,i.width,i.height),p.fillText(a.apply(this,t),0,0),e===i.toDataURL()}function c(e){var t=a.createElement(\"script\");t.src=e,t.defer=t.type=\"text/javascript\",a.getElementsByTagName(\"head\")[0].appendChild(t)}for(o=Array(\"flag\",\"emoji\"),t.supports={everything:!0,everythingExceptFlag:!0},r=0;r<o.length;r++)t.supports[o[r]]=function(e){if(!p||!p.fillText)return!1;switch(p.textBaseline=\"top\",p.font=\"600 32px Arial\",e){case\"flag\":return s([127987,65039,8205,9895,65039],[127987,65039,8203,9895,65039])?!1:!s([55356,56826,55356,56819],[55356,56826,8203,55356,56819])&&!s([55356,57332,56128,56423,56128,56418,56128,56421,56128,56430,56128,56423,56128,56447],[55356,57332,8203,56128,56423,8203,56128,56418,8203,56128,56421,8203,56128,56430,8203,56128,56423,8203,56128,56447]);case\"emoji\":return!s([55357,56424,8205,55356,57212],[55357,56424,8203,55356,57212])}return!1}(o[r]),t.supports.everything=t.supports.everything&&t.supports[o[r]],\"flag\"!==o[r]&&(t.supports.everythingExceptFlag=t.supports.everythingExceptFlag&&t.supports[o[r]]);t.supports.everythingExceptFlag=t.supports.everythingExceptFlag&&!t.supports.flag,t.DOMReady=!1,t.readyCallback=function(){t.DOMReady=!0},t.supports.everything||(n=function(){t.readyCallback()},a.addEventListener?(a.addEventListener(\"DOMContentLoaded\",n,!1),e.addEventListener(\"load\",n,!1)):(e.attachEvent(\"onload\",n),a.attachEvent(\"onreadystatechange\",function(){\"complete\"===a.readyState&&t.readyCallback()})),(n=t.source||{}).concatemoji?c(n.concatemoji):n.wpemoji&&n.twemoji&&(c(n.twemoji),c(n.wpemoji)))}(window,document,window._wpemojiSettings);</script> <link href=\"//cdn.jsdelivr.net/jquery.slick/1.4.1/slick.css?ver=1.4.1\" id=\"slick-css-css\" media=\"all\" rel=\"stylesheet\" type=\"text/css\"/><link href=\"https://www.technologyreview.kr/wp-content/cache/autoptimize/1/css/autoptimize_single_bd8ae838982493ae260681a3d990a7dd.css?generated=1701910071&amp;ver=1.18.2\" id=\"popup-maker-site-css\" media=\"all\" rel=\"stylesheet\" type=\"text/css\"/> <script id=\"jquery-core-js\" src=\"https://www.technologyreview.kr/wp-content/cache/autoptimize/1/js/autoptimize_single_49edccea2e7ba985cadc9ba0531cbed1.js?ver=1.12.4-wp\" type=\"text/javascript\"></script> <script id=\"wpp-json\" type=\"application/json\">{\"sampling_active\":0,\"sampling_rate\":100,\"ajax_url\":\"https:\\/\\/www.technologyreview.kr\\/wp-json\\/wordpress-popular-posts\\/v1\\/popular-posts\",\"ID\":25882,\"token\":\"2564c4abf4\",\"lang\":0,\"debug\":0}</script> <script id=\"fontawesome-js-js\" src=\"https://kit.fontawesome.com/c19fff7056.js?ver=5.5.12\" type=\"text/javascript\"></script> <script id=\"kakao-script-js\" src=\"//developers.kakao.com/sdk/js/kakao.min.js?ver=0.0.5\" type=\"text/javascript\"></script> <script id=\"my_loadmore-js-extra\" type=\"text/javascript\">/* <![CDATA[ */\n",
      "var misha_loadmore_params = {\"ajaxurl\":\"https:\\/\\/www.technologyreview.kr\\/wp-admin\\/admin-ajax.php\",\"posts\":\"{\\\"page\\\":0,\\\"name\\\":\\\"google-deepminds-new-gemini-model-looks-amazing-but-could-signal-peak-ai-hype\\\",\\\"error\\\":\\\"\\\",\\\"m\\\":\\\"\\\",\\\"p\\\":0,\\\"post_parent\\\":\\\"\\\",\\\"subpost\\\":\\\"\\\",\\\"subpost_id\\\":\\\"\\\",\\\"attachment\\\":\\\"\\\",\\\"attachment_id\\\":0,\\\"pagename\\\":\\\"\\\",\\\"page_id\\\":0,\\\"second\\\":\\\"\\\",\\\"minute\\\":\\\"\\\",\\\"hour\\\":\\\"\\\",\\\"day\\\":0,\\\"monthnum\\\":0,\\\"year\\\":0,\\\"w\\\":0,\\\"category_name\\\":\\\"\\\",\\\"tag\\\":\\\"\\\",\\\"cat\\\":\\\"\\\",\\\"tag_id\\\":\\\"\\\",\\\"author\\\":\\\"\\\",\\\"author_name\\\":\\\"\\\",\\\"feed\\\":\\\"\\\",\\\"tb\\\":\\\"\\\",\\\"paged\\\":0,\\\"meta_key\\\":\\\"\\\",\\\"meta_value\\\":\\\"\\\",\\\"preview\\\":\\\"\\\",\\\"s\\\":\\\"\\\",\\\"sentence\\\":\\\"\\\",\\\"title\\\":\\\"\\\",\\\"fields\\\":\\\"\\\",\\\"menu_order\\\":\\\"\\\",\\\"embed\\\":\\\"\\\",\\\"category__in\\\":[],\\\"category__not_in\\\":[],\\\"category__and\\\":[],\\\"post__in\\\":[],\\\"post__not_in\\\":[],\\\"post_name__in\\\":[],\\\"tag__in\\\":[],\\\"tag__not_in\\\":[],\\\"tag__and\\\":[],\\\"tag_slug__in\\\":[],\\\"tag_slug__and\\\":[],\\\"post_parent__in\\\":[],\\\"post_parent__not_in\\\":[],\\\"author__in\\\":[],\\\"author__not_in\\\":[],\\\"orderby\\\":\\\"menu_order\\\",\\\"order\\\":\\\"ASC\\\",\\\"ignore_sticky_posts\\\":false,\\\"suppress_filters\\\":false,\\\"cache_results\\\":true,\\\"update_post_term_cache\\\":true,\\\"lazy_load_term_meta\\\":true,\\\"update_post_meta_cache\\\":true,\\\"post_type\\\":\\\"\\\",\\\"posts_per_page\\\":10,\\\"nopaging\\\":false,\\\"comments_per_page\\\":\\\"50\\\",\\\"no_found_rows\\\":false}\",\"current_page\":\"1\",\"max_page\":\"0\"};\n",
      "/* ]]> */</script> <link href=\"https://www.technologyreview.kr/wp-json/\" rel=\"https://api.w.org/\"/><link href=\"https://www.technologyreview.kr/wp-json/wp/v2/posts/25882\" rel=\"alternate\" type=\"application/json\"/><link href=\"https://www.technologyreview.kr/xmlrpc.php?rsd\" rel=\"EditURI\" title=\"RSD\" type=\"application/rsd+xml\"/><link href=\"https://www.technologyreview.kr/wp-includes/wlwmanifest.xml\" rel=\"wlwmanifest\" type=\"application/wlwmanifest+xml\"/><meta content=\"WordPress 5.5.12\" name=\"generator\"/><link href=\"https://www.technologyreview.kr/?p=25882\" rel=\"shortlink\"/><link href=\"https://www.technologyreview.kr/wp-json/oembed/1.0/embed?url=https%3A%2F%2Fwww.technologyreview.kr%2Fgoogle-deepminds-new-gemini-model-looks-amazing-but-could-signal-peak-ai-hype%2F\" rel=\"alternate\" type=\"application/json+oembed\"/><link href=\"https://www.technologyreview.kr/wp-json/oembed/1.0/embed?url=https%3A%2F%2Fwww.technologyreview.kr%2Fgoogle-deepminds-new-gemini-model-looks-amazing-but-could-signal-peak-ai-hype%2F&amp;format=xml\" rel=\"alternate\" type=\"text/xml+oembed\"/><meta content=\"25882\" property=\"dable:item_id\"/><meta content=\"2023-12-07T07:27:48+09:00\" property=\"dable:published_time\"/><meta content=\"Melissa Heikkilä\" property=\"dable:author\"/><meta content=\"https://www.technologyreview.kr/wp-content/uploads/2023/12/image01-1-250x139.png\" property=\"dable:image\"/><meta content=\"인공지능\" property=\"article:section\"/> <!-- DO NOT COPY THIS SNIPPET! Start of Page Analytics Tracking for HubSpot WordPress plugin v10.1.16--> <script class=\"hsq-set-content-id\" data-content-id=\"blog-post\" type=\"text/javascript\">var _hsq = _hsq || [];\n",
      "\t\t\t\t_hsq.push([\"setContentType\", \"blog-post\"]);</script> <!-- DO NOT COPY THIS SNIPPET! End of Page Analytics Tracking for HubSpot WordPress plugin --> <!-- Google Tag Manager for WordPress by gtm4wp.com --> <!-- GTM Container placement set to footer --> <script data-cfasync=\"false\" data-pagespeed-no-defer=\"\" type=\"text/javascript\">var dataLayer_content = {\"pagePostType\":\"post\",\"pagePostType2\":\"single-post\",\"pageCategory\":[\"ai\"],\"pageAttributes\":[\"gpt-4\",\"%ea%b5%ac%ea%b8%80\",\"%eb%8c%80%ea%b7%9c%eb%aa%a8%ec%96%b8%ec%96%b4%eb%aa%a8%eb%8d%b8\",\"%eb%94%a5%eb%a7%88%ec%9d%b8%eb%93%9c\",\"%eb%a7%88%ec%9d%b4%ed%81%ac%eb%a1%9c%ec%86%8c%ed%94%84%ed%8a%b8\",\"%eb%a7%8c%eb%8a%a5%ea%b8%b0%ea%b3%84\",\"%eb%a9%80%ed%8b%b0%eb%aa%a8%eb%8b%ac\",\"%ec%83%9d%ec%84%b1%ed%98%95ai\",\"%ec%98%a4%ed%94%88ai\",\"%ec%9d%b8%ea%b3%b5%ec%a7%80%eb%8a%a5\",\"%ec%a0%9c%eb%af%b8%eb%82%98%ec%9d%b4\",\"%ec%b1%97gpt\"],\"pagePostAuthor\":\"Melissa Heikkilä\"};\n",
      "\tdataLayer.push( dataLayer_content );</script> <script data-cfasync=\"false\">(function(w,d,s,l,i){w[l]=w[l]||[];w[l].push({'gtm.start':\n",
      "new Date().getTime(),event:'gtm.js'});var f=d.getElementsByTagName(s)[0],\n",
      "j=d.createElement(s),dl=l!='dataLayer'?'&l='+l:'';j.async=true;j.src=\n",
      "'//www.googletagmanager.com/gtm.'+'js?id='+i+dl;f.parentNode.insertBefore(j,f);\n",
      "})(window,document,'script','dataLayer','GTM-M9TZ84C');</script> <!-- End Google Tag Manager --> <!-- End Google Tag Manager for WordPress by gtm4wp.com --><meta content=\"joD8C1iWZGnGouVIjlP275i-MX0zR1aD66vSw_KxkRU\" name=\"google-site-verification\"><link href=\"https://www.technologyreview.kr/wp-content/uploads/2021/02/cropped-MITTR_Monogram_Light_RGB-32x32.png\" rel=\"icon\" sizes=\"32x32\"/><link href=\"https://www.technologyreview.kr/wp-content/uploads/2021/02/cropped-MITTR_Monogram_Light_RGB-192x192.png\" rel=\"icon\" sizes=\"192x192\"/><link href=\"https://www.technologyreview.kr/wp-content/uploads/2021/02/cropped-MITTR_Monogram_Light_RGB-180x180.png\" rel=\"apple-touch-icon\"/><meta content=\"https://www.technologyreview.kr/wp-content/uploads/2021/02/cropped-MITTR_Monogram_Light_RGB-270x270.png\" name=\"msapplication-TileImage\"> <script>window.admin_ajax_url = 'https://www.technologyreview.kr/wp-admin/admin-ajax.php';\n",
      "        window.template_directory_uri = 'https://www.technologyreview.kr/wp-content/themes/mtr';</script> </meta></meta></link></meta></link></meta></meta></meta></head><body class=\"post-template-default single single-post postid-25882 single-format-standard loco post-google-deepminds-new-gemini-model-looks-amazing-but-could-signal-peak-ai-hype\">\n",
      "<!-- GTM Container placement set to footer --> <!-- Google Tag Manager (noscript) --> <noscript><iframe aria-hidden=\"true\" height=\"0\" src=\"https://www.googletagmanager.com/ns.html?id=GTM-M9TZ84C\" style=\"display:none;visibility:hidden\" width=\"0\"></iframe></noscript> <!-- End Google Tag Manager (noscript) --><header id=\"main-header\"><div class=\"container\"><div class=\"header-inner\"><div class=\"site-title desktop\"><div class=\"logo_container\"> <a class=\"logo-color\" href=\"https://www.technologyreview.kr/\"> <picture id=\"logo\">\n",
      "<source srcset=\"https://www.technologyreview.kr/wp-content/uploads/2022/08/Untitled-13-수정-e1661136015958.png.webp\" type=\"image/webp\"/>\n",
      "<img alt=\"MIT 테크놀로지 리뷰 | MIT Techonology Review Korea\" src=\"https://www.technologyreview.kr/wp-content/uploads/2022/08/Untitled-13-수정-e1661136015958.png\"/>\n",
      "</picture>\n",
      "</a></div></div><!--.site-title--><div class=\"site-title mobile\"><div class=\"site-symbol\"> <a class=\"symbol\" href=\"https://www.technologyreview.kr/\"> <picture>\n",
      "<source srcset=\"https://www.technologyreview.kr/wp-content/uploads/2023/04/MITTR_Monogram_Light_RGB.png.webp\" type=\"image/webp\"/>\n",
      "<img alt=\"MIT 테크놀로지 리뷰 | MIT Techonology Review Korea\" src=\"https://www.technologyreview.kr/wp-content/uploads/2023/04/MITTR_Monogram_Light_RGB.png\"/>\n",
      "</picture>\n",
      "</a></div><!-- .site-symbol --><div class=\"site-logo\"> <a class=\"logo-horizontal\" href=\"https://www.technologyreview.kr/\"> <picture>\n",
      "<source srcset=\"https://www.technologyreview.kr/wp-content/uploads/2023/04/MITTR_Primary_Single_RGB_P.png.webp\" type=\"image/webp\"/>\n",
      "<img alt=\"MIT 테크놀로지 리뷰 | MIT Techonology Review Korea\" src=\"https://www.technologyreview.kr/wp-content/uploads/2023/04/MITTR_Primary_Single_RGB_P.png\"/>\n",
      "</picture>\n",
      "</a></div><!-- .site-symbol --></div><!--.site-title--><div class=\"site-nav desktop-nav\" id=\"site-nav\"><nav id=\"util\"><div class=\"menu-util-menu-container\"><ul class=\"util-menu\" id=\"menu-util-menu\"><li class=\"menu-item menu-item-type-custom menu-item-object-custom menu-item-94\" id=\"menu-item-94\"><a href=\"/account/login/?redirect_to=%2Fgoogle-deepminds-new-gemini-model-looks-amazing-but-could-signal-peak-ai-hype%2F\">로그인</a></li><li class=\"menu-item menu-item-type-custom menu-item-object-custom menu-item-95\" id=\"menu-item-95\"><a href=\"/account/register/\">회원가입</a></li><li class=\"menu-item menu-item-type-custom menu-item-object-custom menu-item-96\" id=\"menu-item-96\"><a href=\"/account/subscribe/\">구독 신청</a></li><li class=\"menu-item search\"><form action=\"https://www.technologyreview.kr/\" id=\"navSearchform\" method=\"get\" role=\"search\"><input id=\"s\" name=\"s\" placeholder=\"search\" type=\"text\"/><button id=\"searchsubmit\" type=\"submit\" value=\"검색하기\"></button><i class=\"far fa-search\"></i></form></li></ul></div></nav><nav id=\"primary\"><div class=\"menu-main-menu-container\"><ul class=\"primary-menu\" id=\"menu-main-menu\"><li class=\"menu-item menu-item-type-custom menu-item-object-custom menu-item-has-children menu-item-85\" id=\"menu-item-85\"><a href=\"#\">토픽</a><ul class=\"sub-menu\"><li class=\"menu-item menu-item-type-taxonomy menu-item-object-category menu-item-15759\" id=\"menu-item-15759\"><a href=\"https://www.technologyreview.kr/category/10-breakthrough-technologies/\">10대 미래 기술</a></li><li class=\"menu-item menu-item-type-taxonomy menu-item-object-category current-post-ancestor current-menu-parent current-post-parent menu-item-87\" id=\"menu-item-87\"><a href=\"https://www.technologyreview.kr/category/ai/\">인공지능</a></li><li class=\"menu-item menu-item-type-taxonomy menu-item-object-category menu-item-1604\" id=\"menu-item-1604\"><a href=\"https://www.technologyreview.kr/category/tech-policy/technology-and-society/\">기술정책</a></li><li class=\"menu-item menu-item-type-taxonomy menu-item-object-category menu-item-1606\" id=\"menu-item-1606\"><a href=\"https://www.technologyreview.kr/category/computing/\">컴퓨팅</a></li><li class=\"menu-item menu-item-type-taxonomy menu-item-object-category menu-item-86\" id=\"menu-item-86\"><a href=\"https://www.technologyreview.kr/category/bio/\">바이오</a></li><li class=\"menu-item menu-item-type-taxonomy menu-item-object-category menu-item-89\" id=\"menu-item-89\"><a href=\"https://www.technologyreview.kr/category/climate-change/\">기후변화 · 에너지</a></li><li class=\"menu-item menu-item-type-taxonomy menu-item-object-category menu-item-88\" id=\"menu-item-88\"><a href=\"https://www.technologyreview.kr/category/blockchain/\">블록체인</a></li><li class=\"menu-item menu-item-type-taxonomy menu-item-object-category menu-item-317\" id=\"menu-item-317\"><a href=\"https://www.technologyreview.kr/category/space/\">우주</a></li><li class=\"menu-item menu-item-type-taxonomy menu-item-object-category menu-item-1605\" id=\"menu-item-1605\"><a href=\"https://www.technologyreview.kr/category/smartcity/\">스마트시티</a></li><li class=\"menu-item menu-item-type-taxonomy menu-item-object-category menu-item-5175\" id=\"menu-item-5175\"><a href=\"https://www.technologyreview.kr/category/insight/\">인사이트 컬럼</a></li></ul></li><li class=\"menu-item menu-item-type-post_type menu-item-object-page menu-item-3086\" id=\"menu-item-3086\"><a href=\"https://www.technologyreview.kr/special-report/\">스페셜 리포트</a></li><li class=\"menu-item menu-item-type-custom menu-item-object-custom menu-item-10746\" id=\"menu-item-10746\"><a href=\"/special/magazine/\">매거진</a></li><li class=\"menu-item menu-item-type-post_type menu-item-object-page menu-item-has-children menu-item-5137\" id=\"menu-item-5137\"><a href=\"https://www.technologyreview.kr/iu35-innovator-under-35/\">35세 미만 혁신가</a><ul class=\"sub-menu\"><li class=\"menu-item menu-item-type-post_type menu-item-object-page menu-item-10605\" id=\"menu-item-10605\"><a href=\"https://www.technologyreview.kr/iu35-innovator-under-35/\">35세 미만 혁신가</a></li><li class=\"menu-item menu-item-type-custom menu-item-object-custom menu-item-14392\" id=\"menu-item-14392\"><a href=\"https://www.technologyreview.kr/innovators-under-35-2022/\">Innovators Under 35 – 2022년 한국 수상자 발표</a></li><li class=\"menu-item menu-item-type-post_type menu-item-object-page menu-item-8211\" id=\"menu-item-8211\"><a href=\"https://www.technologyreview.kr/iu35korea/\">Innovators Under 35 – 2021년 한국 수상자 발표</a></li></ul></li><li class=\"menu-item menu-item-type-post_type menu-item-object-page menu-item-178\" id=\"menu-item-178\"><a href=\"https://www.technologyreview.kr/newsletter/\">뉴스레터</a></li><li class=\"menu-item menu-item-type-custom menu-item-object-custom menu-item-2397\" id=\"menu-item-2397\"><a href=\"https://www.technologyreview.kr/special/events/\">테크 라이브</a></li></ul></div></nav></div><div class=\"mobile-nav\"><div class=\"mobile-search\"> <i class=\"far fa-search search\"></i></div><div class=\"hamburger\"> <span></span> <span></span> <span></span></div></div><!--.mobile-nav--></div></div><!--.container--><div class=\"mobile-search-form\"><form action=\"https://www.technologyreview.kr/\" id=\"navSearchform\" method=\"get\" role=\"search\"><input id=\"s\" name=\"s\" placeholder=\"search\" type=\"text\"/><button id=\"searchsubmit\" type=\"submit\" value=\"검색\"><i class=\"far fa-search\"></i></button></form></div></header><header class=\"scroll-header transition\" id=\"main-header\"><div class=\"container\"><div class=\"header-inner\"><div class=\"site-title\"><div class=\"site-symbol\"> <a class=\"symbol\" href=\"https://www.technologyreview.kr/\"> <picture>\n",
      "<source srcset=\"https://www.technologyreview.kr/wp-content/uploads/2023/04/MITTR_Monogram_Light_RGB.png.webp\" type=\"image/webp\"/>\n",
      "<img alt=\"MIT 테크놀로지 리뷰 | MIT Techonology Review Korea\" src=\"https://www.technologyreview.kr/wp-content/uploads/2023/04/MITTR_Monogram_Light_RGB.png\"/>\n",
      "</picture>\n",
      "</a></div><!-- .site-symbol --><div class=\"site-logo\"> <a class=\"logo-horizontal\" href=\"https://www.technologyreview.kr/\"> <picture>\n",
      "<source srcset=\"https://www.technologyreview.kr/wp-content/uploads/2023/04/MITTR_Primary_Single_RGB_P.png.webp\" type=\"image/webp\"/>\n",
      "<img alt=\"MIT 테크놀로지 리뷰 | MIT Techonology Review Korea\" src=\"https://www.technologyreview.kr/wp-content/uploads/2023/04/MITTR_Primary_Single_RGB_P.png\"/>\n",
      "</picture>\n",
      "</a></div><!-- .site-symbol --></div><!--.site-title--><div class=\"site-nav desktop-nav\" id=\"site-nav\"><nav id=\"util\"><div class=\"menu-util-menu-container\"><ul class=\"util-menu\" id=\"menu-util-menu-1\"><li class=\"menu-item menu-item-type-custom menu-item-object-custom menu-item-94\"><a href=\"/account/login/?redirect_to=%2Fgoogle-deepminds-new-gemini-model-looks-amazing-but-could-signal-peak-ai-hype%2F\">로그인</a></li><li class=\"menu-item menu-item-type-custom menu-item-object-custom menu-item-95\"><a href=\"/account/register/\">회원가입</a></li><li class=\"menu-item menu-item-type-custom menu-item-object-custom menu-item-96\"><a href=\"/account/subscribe/\">구독 신청</a></li><li class=\"menu-item search\"><form action=\"https://www.technologyreview.kr/\" id=\"navSearchform\" method=\"get\" role=\"search\"><input id=\"s\" name=\"s\" placeholder=\"search\" type=\"text\"/><button id=\"searchsubmit\" type=\"submit\" value=\"검색하기\"></button><i class=\"far fa-search\"></i></form></li></ul></div></nav><nav id=\"primary\"><div class=\"menu-main-menu-container\"><ul class=\"primary-menu\" id=\"menu-main-menu-1\"><li class=\"menu-item menu-item-type-custom menu-item-object-custom menu-item-has-children menu-item-85\"><a href=\"#\">토픽</a><ul class=\"sub-menu\"><li class=\"menu-item menu-item-type-taxonomy menu-item-object-category menu-item-15759\"><a href=\"https://www.technologyreview.kr/category/10-breakthrough-technologies/\">10대 미래 기술</a></li><li class=\"menu-item menu-item-type-taxonomy menu-item-object-category current-post-ancestor current-menu-parent current-post-parent menu-item-87\"><a href=\"https://www.technologyreview.kr/category/ai/\">인공지능</a></li><li class=\"menu-item menu-item-type-taxonomy menu-item-object-category menu-item-1604\"><a href=\"https://www.technologyreview.kr/category/tech-policy/technology-and-society/\">기술정책</a></li><li class=\"menu-item menu-item-type-taxonomy menu-item-object-category menu-item-1606\"><a href=\"https://www.technologyreview.kr/category/computing/\">컴퓨팅</a></li><li class=\"menu-item menu-item-type-taxonomy menu-item-object-category menu-item-86\"><a href=\"https://www.technologyreview.kr/category/bio/\">바이오</a></li><li class=\"menu-item menu-item-type-taxonomy menu-item-object-category menu-item-89\"><a href=\"https://www.technologyreview.kr/category/climate-change/\">기후변화 · 에너지</a></li><li class=\"menu-item menu-item-type-taxonomy menu-item-object-category menu-item-88\"><a href=\"https://www.technologyreview.kr/category/blockchain/\">블록체인</a></li><li class=\"menu-item menu-item-type-taxonomy menu-item-object-category menu-item-317\"><a href=\"https://www.technologyreview.kr/category/space/\">우주</a></li><li class=\"menu-item menu-item-type-taxonomy menu-item-object-category menu-item-1605\"><a href=\"https://www.technologyreview.kr/category/smartcity/\">스마트시티</a></li><li class=\"menu-item menu-item-type-taxonomy menu-item-object-category menu-item-5175\"><a href=\"https://www.technologyreview.kr/category/insight/\">인사이트 컬럼</a></li></ul></li><li class=\"menu-item menu-item-type-post_type menu-item-object-page menu-item-3086\"><a href=\"https://www.technologyreview.kr/special-report/\">스페셜 리포트</a></li><li class=\"menu-item menu-item-type-custom menu-item-object-custom menu-item-10746\"><a href=\"/special/magazine/\">매거진</a></li><li class=\"menu-item menu-item-type-post_type menu-item-object-page menu-item-has-children menu-item-5137\"><a href=\"https://www.technologyreview.kr/iu35-innovator-under-35/\">35세 미만 혁신가</a><ul class=\"sub-menu\"><li class=\"menu-item menu-item-type-post_type menu-item-object-page menu-item-10605\"><a href=\"https://www.technologyreview.kr/iu35-innovator-under-35/\">35세 미만 혁신가</a></li><li class=\"menu-item menu-item-type-custom menu-item-object-custom menu-item-14392\"><a href=\"https://www.technologyreview.kr/innovators-under-35-2022/\">Innovators Under 35 – 2022년 한국 수상자 발표</a></li><li class=\"menu-item menu-item-type-post_type menu-item-object-page menu-item-8211\"><a href=\"https://www.technologyreview.kr/iu35korea/\">Innovators Under 35 – 2021년 한국 수상자 발표</a></li></ul></li><li class=\"menu-item menu-item-type-post_type menu-item-object-page menu-item-178\"><a href=\"https://www.technologyreview.kr/newsletter/\">뉴스레터</a></li><li class=\"menu-item menu-item-type-custom menu-item-object-custom menu-item-2397\"><a href=\"https://www.technologyreview.kr/special/events/\">테크 라이브</a></li></ul></div></nav></div><div class=\"mobile-nav\"><div class=\"hamburger\"> <span></span> <span></span> <span></span></div></div><!--.mobile-nav--></div></div><!--.container--></header> <!-- #content --><div class=\"loco-main-content\" id=\"content\"><div class=\"content-wrapper\"><article id=\"post-25882\"><div class=\"single-featured-img\"> <img alt=\"\" class=\"attachment-post-thumbnail size-post-thumbnail wp-post-image\" height=\"620\" loading=\"lazy\" sizes=\"(max-width: 1119px) 100vw, 1119px\" src=\"https://www.technologyreview.kr/wp-content/uploads/2023/12/image01-1.png\" srcset=\"https://www.technologyreview.kr/wp-content/uploads/2023/12/image01-1.png 1119w, https://www.technologyreview.kr/wp-content/uploads/2023/12/image01-1-300x166.png 300w, https://www.technologyreview.kr/wp-content/uploads/2023/12/image01-1-1024x567.png 1024w, https://www.technologyreview.kr/wp-content/uploads/2023/12/image01-1-768x426.png 768w, https://www.technologyreview.kr/wp-content/uploads/2023/12/image01-1-250x139.png 250w, https://www.technologyreview.kr/wp-content/uploads/2023/12/image01-1-640x355.png 640w\" width=\"1119\"/><div class=\"featured-caption\">GOOGLE</div></div><!-- .single-featured-img --><div class=\"container\"><div class=\"single-content-wrap\"><div class=\"col-left\"><div class=\"single-title title-area\"><div class=\"topic-categories\"> <span class=\"post-cat\"><a href=\"https://www.technologyreview.kr/category/ai/\">인공지능</a></span></div><!-- .topic-categories --> <a class=\"eng-topic-link\" href=\"https://www.technologyreview.com/2023/12/06/1084471/google-deepminds-new-gemini-model-looks-amazing-but-could-signal-peak-ai-hype/\" target=\"_blank\">Google DeepMind’s new Gemini model looks amazing—but could signal peak AI hype</a><h1 class=\"entry-title\">마침내 공개된 구글 차세대 AI 모델 ‘제미나이’는 무엇을 시사하나</h1><div class=\"post-excerpt\"> 구글 딥마인드가 6일(현지시간) 차세대 대규모언어모델(LLM) 제미나이(Gemini)를 전격 공개했다. 구글은 제미나이가 모든 면에서 경쟁 제품인 오픈AI의 GPT-4를 능가한다고 광고했지만 약간의 성능 차만 확인됐을 뿐이다.</div><!-- .post-excerpt --><div class=\"single-post-meta\"><div class=\"author-title\"> <a class=\"author-link\" href=\"https://www.technologyreview.kr/author/test/\"> <span class=\"author-name\"> Melissa Heikkilä </span> </a></div><p class=\"post-date\">2023년 12월 7일</p></div><!-- .single-post-meta --><div class=\"single-share\"><ul class=\"share-buttons\"><li> <a class=\"share-facebook\" href=\"https://www.facebook.com/sharer/sharer.php?u=https%3A%2F%2Fwww.technologyreview.kr%2Fgoogle-deepminds-new-gemini-model-looks-amazing-but-could-signal-peak-ai-hype%2F\" target=\"_blank\"> <svg data-name=\"facebook\" id=\"facebook\" viewbox=\"0 0 30 30\" xmlns=\"http://www.w3.org/2000/svg\"><title>facebook</title> <path d=\"M16.499 12.17v-1.704c0-.737.183-1.136 1.441-1.136h1.56V6.5h-2.4c-3.001 0-4.2 1.867-4.2 3.966v1.704h-2.4v2.829h2.4V23.5h3.599v-8.501h2.642l.359-2.83h-3.001z\"></path> </svg> <!-- <span>Share</span> --> </a></li><li> <a class=\"share-twitter\" href=\"https://twitter.com/intent/tweet?text=%EB%A7%88%EC%B9%A8%EB%82%B4+%EA%B3%B5%EA%B0%9C%EB%90%9C+%EA%B5%AC%EA%B8%80+%EC%B0%A8%EC%84%B8%EB%8C%80+AI+%EB%AA%A8%EB%8D%B8+%E2%80%98%EC%A0%9C%EB%AF%B8%EB%82%98%EC%9D%B4%E2%80%99%EB%8A%94+%EB%AC%B4%EC%97%87%EC%9D%84+%EC%8B%9C%EC%82%AC%ED%95%98%EB%82%98&amp;url=https%3A%2F%2Fwww.technologyreview.kr%2Fgoogle-deepminds-new-gemini-model-looks-amazing-but-could-signal-peak-ai-hype%2F&amp;via=beyondX\" target=\"_blank\"> <svg data-name=\"twitter\" id=\"twitter\" viewbox=\"0 0 30 30\" xmlns=\"http://www.w3.org/2000/svg\"><title>twitter</title> <path d=\"M12.217 21.5c5.66 0 8.758-5.001 8.758-9.34a8.8 8.8 0 00-.011-.424 6.574 6.574 0 001.536-1.692 6.005 6.005 0 01-1.767.508 3.269 3.269 0 001.355-1.814 5.97 5.97 0 01-1.955.797A2.983 2.983 0 0017.885 8.5c-1.7 0-3.076 1.469-3.076 3.28 0 .263.028.513.076.75-2.553-.138-4.823-1.447-6.343-3.432a3.449 3.449 0 00-.414 1.652c0 1.14.543 2.142 1.366 2.733a2.98 2.98 0 01-1.391-.409l-.001.04c0 1.588 1.06 2.916 2.472 3.215-.262.076-.533.12-.816.12-.195 0-.39-.024-.575-.061.39 1.302 1.526 2.253 2.874 2.28-1.055.879-2.38 1.406-3.824 1.406-.248 0-.492-.015-.733-.047a8.348 8.348 0 004.717 1.473\"></path> </svg> <!-- <span>Tweet</span> --> </a></li> <!--<li> <a class=\"share-googleplus\" href=\"https://plus.google.com/share?url=https%3A%2F%2Fwww.technologyreview.kr%2Fgoogle-deepminds-new-gemini-model-looks-amazing-but-could-signal-peak-ai-hype%2F\" target=\"_blank\"> <svg id=\"googleplus\" data-name=\"googleplus\" xmlns=\"http://www.w3.org/2000/svg\" viewBox=\"0 0 59.45 37.8\"><title>googleplus</title> <path d=\"M21.65,53.45a18.9,18.9,0,0,1,0-37.8,18.05,18.05,0,0,1,12.66,5l-5.13,4.93a10.61,10.61,0,0,0-7.53-2.91,11.94,11.94,0,0,0,0,23.88c7.48,0,10.29-5.39,10.73-8.15H21.65V31.9H39.49A16,16,0,0,1,39.8,35C39.8,45.79,32.55,53.45,21.65,53.45Zm40.51-16.2H56.77v5.39H51.35V37.25H46V31.84h5.39V26.45h5.42v5.39H62.2Z\" transform=\"translate(-2.75 -15.65)\"/> </svg> <span>Recommend</span> </a></li> --> <!--<li> <a class=\"share-pinterest\" href=\"http://pinterest.com/pin/create/button/?url=https%3A%2F%2Fwww.technologyreview.kr%2Fgoogle-deepminds-new-gemini-model-looks-amazing-but-could-signal-peak-ai-hype%2F&amp;media=https%3A%2F%2Fwww.technologyreview.kr%2Fwp-content%2Fuploads%2F2023%2F12%2Fimage01-1.png&amp;description=%EB%A7%88%EC%B9%A8%EB%82%B4+%EA%B3%B5%EA%B0%9C%EB%90%9C+%EA%B5%AC%EA%B8%80+%EC%B0%A8%EC%84%B8%EB%8C%80+AI+%EB%AA%A8%EB%8D%B8+%E2%80%98%EC%A0%9C%EB%AF%B8%EB%82%98%EC%9D%B4%E2%80%99%EB%8A%94+%EB%AC%B4%EC%97%87%EC%9D%84+%EC%8B%9C%EC%82%AC%ED%95%98%EB%82%98\" target=\"_blank\"> <svg id=\"pinterest\" data-name=\"pinterest\" xmlns=\"http://www.w3.org/2000/svg\" viewBox=\"0 0 96 96\"><title>pinterest</title> <path d=\"M31.78,63a30.1,30.1,0,0,1-8.73-1.28,25.52,25.52,0,0,0,3.12-6.56s.36-1.36,2.16-8.45c1,2,4.16,3.84,7.48,3.84,9.89,0,16.61-9,16.61-21.09,0-9.09-7.72-17.61-19.49-17.61C18.37,11.83,11,22.32,11,31c0,5.28,2,10,6.28,11.77a1.06,1.06,0,0,0,1.52-.8c.16-.52.48-1.88.64-2.44A1.51,1.51,0,0,0,19,37.85a8.93,8.93,0,0,1-2-6C17,24,22.77,17.07,32.1,17.07c8.24,0,12.81,5,12.81,11.81,0,8.85-3.92,16.33-9.77,16.33a4.76,4.76,0,0,1-4.84-5.92C31.22,35.41,33,31.2,33,28.4c0-2.52-1.36-4.64-4.16-4.64-3.28,0-5.92,3.4-5.92,8a12.81,12.81,0,0,0,1,4.88c-3.36,14.25-4,16.73-4,16.73a26.94,26.94,0,0,0-.52,7.08A30.77,30.77,0,1,1,31.78,63Z\" transform=\"translate( 16 15)\"/> </svg> --> <!-- <span>Pin</span> --> <!-- </a></li> --><li> <a class=\"share-kakao\" data-img-url=\"https://www.technologyreview.kr/wp-content/uploads/2023/12/image01-1-150x150.png\" data-title=\"마침내 공개된 구글 차세대 AI 모델 ‘제미나이’는 무엇을 시사하나\" data-url=\"https://www.technologyreview.kr/google-deepminds-new-gemini-model-looks-amazing-but-could-signal-peak-ai-hype/\" href=\"javascript:;\" id=\"kakao-link-btn\"> <svg data-name=\"kakao\" id=\"kakao\" viewbox=\"0 0 96 96\" xmlns=\"http://www.w3.org/2000/svg\"><title>Kakao</title> <path d=\"M47.8,20.5c-16.3,0-29.4,10.4-29.4,23.2c0,8.3,5.5,15.6,13.8,19.7c-0.5,1.6-2.9,10-3,10.7c0,0-0.1,0.5,0.3,0.7\n",
      " s0.7,0,0.7,0c0.9-0.1,10.7-7,12.4-8.2c1.7,0.2,3.4,0.4,5.2,0.4c16.3,0,29.4-10.4,29.4-23.2C77.2,30.9,64,20.5,47.8,20.5L47.8,20.5z\"></path> </svg> <!-- <span>Pin</span> --> </a></li></ul> <script type=\"text/javascript\">jQuery(function($) {\n",
      "\n",
      "        Kakao.init(\"0a8a085a32a63aed6caebcf66a25ee90\");\n",
      "        // // 카카오링크 버튼을 생성합니다. 처음 한번만 호출하면 됩니다.\n",
      "        const kakaoBtn = $('#kakao-link-btn');\n",
      "        const title = kakaoBtn.data('title');\n",
      "        const url = kakaoBtn.data('url');\n",
      "        const imgUrl = kakaoBtn.data('img-url');\n",
      "        Kakao.Link.createDefaultButton({\n",
      "          container: '#kakao-link-btn',\n",
      "          objectType: 'feed',\n",
      "          content: {\n",
      "            title: title,\n",
      "            //description: '내용, 주로 해시태그',\n",
      "            //imageUrl: document.images[0].src,\n",
      "            imageUrl: imgUrl,\n",
      "            //imageUrl: document.images[0].src,\n",
      "            link: {\n",
      "              webUrl: document.location.href,\n",
      "              mobileWebUrl: document.location.href\n",
      "              //webUrl: url,\n",
      "              //mobileWebUrl: url\n",
      "            }\n",
      "          },\n",
      "          buttons: [\n",
      "            {\n",
      "              title: '바로가기',\n",
      "              link: {\n",
      "                mobileWebUrl: document.location.href,\n",
      "                webUrl: document.location.href\n",
      "                //mobileWebUrl: url,\n",
      "                //webUrl: url\n",
      "              }\n",
      "            }  \n",
      "          ]\n",
      "        });\n",
      "\n",
      "    });</script> </div><!-- .single-share --></div><!-- .single-title.title-area --><div class=\"single-content\"><p>오랫동안 소문만 무성했던 구글 딥마인드의 생성형 AI인 제미나이(Gemini)가 공개됐다. 오픈AI의 GPT-4에 맞서기 위해 딥마인드가 내놓은 이 야심작을 둘러싸고 몇 달 동안 알려진 과장된 소문이 정말 맞는지도 확인할 수 있게 됐다.</p><p>구글은 마침내 6일(현지시간) 그동안 비밀리에 작업해 온 결과물을 공개했다. 먼저 과장된 소문이 정당한지에 대한 답부터 한다면 “그럴 수도 있고 아닐 수도 있다.”</p><p>제미나이는 구글이 AI 패권을 차지하려 경쟁사인 오픈AI와 마이크로소프트에 맞서기 위해 내놓은 역대 최대 규모의 AI 모델이다. 이 모델이 다양한 기능에서 동급 최강의 성능을 자랑하는, 한 전문가의 표현을 빌리자면 소위 ‘만능 기계(everything machine)’라는 데는 의심의 여지가 없다.</p><p>구글과 모회사 알파벳의 순다르 피차이(Sundar Pichai) 최고경영자(CEO)는 MIT 테크놀로지 리뷰와의 인터뷰에서 “제미나이는 선천적으로 더 뛰어난 능력을 갖고 있다”면서 이같이 첨언했다. “이것은 플랫폼이다. AI는 웹이나 모바일보다 더 엄청난 플랫폼의 변화이다. 따라서 이것은 우리에게 큰 도약을 상징한다.”</p><p>구글에게는 ‘큰’ 도약일 수 있겠으나, 이 분야 전체적으로 봤을 때 ‘거대한’ 도약까지는 아니다. 구글 딥마인드는 제미나이가 32개의 표준 성능 측정 기준 중 30개에서 GPT-4를 앞선다고 주장한다. 하지만 둘 사이의 격차는 그다지 크지 않다. 구글 딥마인드는 현재 AI가 가진 최고 기능을 하나의 강력한 패키지로 통합해냈다. 딥마인드가 공개한 데모로 판단해 봤을 때 제미나이는 많은 작업을 아주 능숙하게 수행하지만, 이전에 보지 못했던 작업을 하는 모습은 거의 보여주지 않았다. 제미나이가 차세대의 트렌드를 이끌어 갈 ‘거대한 무엇(big thing)’일 거란 온갖 소문과 달리 이것이 우리가 AI 열풍이 정점에 도달했다는 걸 알려주는 신호일지도 모른다. 적어도 지금은 말이다.</p><p>온라인 검색을 전문으로 연구하는 워싱턴 대학교의 치라그 샤(Chirag Shah) 교수는 제미나이 출시를 애플이 매년 새 아이폰을 출시하는 것에 비유했다. 그는 “이제 우리는 너무 많은 것을 보았기 때문에 이걸 봐도 별다른 감흥을 느끼지 못하는 다른 한계에 도달했을 수도 있다”고 말했다.</p><p>GPT-4와 마찬가지로 제미나이는 텍스트, 이미지, 오디오 등 여러 종류의 입력된 정보를 처리하도록 훈련된 멀티모달(multimodal) AI이다. 제미나이는 이러한 다양한 형식을 결합해서 집안일부터 대학 수학과 경제에 이르기까지 모든 질문에 답할 수 있다.</p><p>구글은 기자들을 대상으로 한 데모에서 제미나이가 차트의 기존 스크린샷을 찍고, 수백 페이지에 달하는 연구 자료를 새로운 데이터로 분석한 다음, 새로운 정보로 차트를 업데이트하는 기능을 보여줬다. 또 다른 예로 제미나이에게 팬으로 요리하던 오믈렛 사진을 보여주며 오믈렛이 아직 익지 않았는지 물어보자(텍스트가 아닌 음성으로) 제미나이는 “달걀이 아직 묽어서 안 익었다”라고 대답했다.</p><p>하지만 대부분의 사람들이 제미나이가 가진 능력을 제대로 경험해 보려면 좀 더 기다려야 한다. 이번에 출시된 버전은 구글의 텍스트 기반 검색 챗봇인 바드(Bard)의 백엔드(back end)로, 구글은 제미나이가 바드에 더 발전된 추론, 계획, 이해 기능을 선사해줄 것으로 기대했다. 제미나이의 정식 버전은 앞으로 몇 달에 걸쳐 단계적으로 출시될 예정이다. 제미나이가 성능을 강화한 새로운 바드는 우선 유럽연합(EU)과 영국을 제외한 170여 개국에서 영어로 제공될 예정이다. 이는 구글이 현지 규제 당국과 ’조율‘하기 위한 조치라고 바드를 총괄하는 시시 샤오(Sissie Hsiao) 구글 부사장이 밝혔다.</p><p>제미나이는 울트라, 프로, 나노라는 세 가지 형태로 제공된다. 울트라는 모든 기능을 갖춘 버전이며, 프로와 나노는 더 제한된 컴퓨팅 리소스로 돌아가는 애플리케이션용이다. 나노는 구글의 신형 픽셀 휴대폰을 비롯한 여러 기기에서 실행되도록 설계됐다. 개발자와 기업은 12월 13일부터 제미나이 프로에 액세스할 수 있다. 가장 강력한 모델인 제미나이 울트라는 광범위한 신뢰와 안전 점검을 거친 후 내년 초에 출시될 예정이라고 구글 경영진은 밝혔다.</p><p>피차이는 “제미나이 모델의 시대가 왔다고 생각한다”면서 “이것이 바로 구글 딥마인드가 AI를 구축하고 발전시키는 방식이다. 따라서 이것은 항상 우리의 AI 기술 발전의 최전선을 대표할 것”이라고 말했다.</p><div aria-hidden=\"true\" class=\"wp-block-spacer\" style=\"height:43px\"></div><h4><strong>더 크고</strong><strong>, </strong><strong>더 좋고</strong><strong>, </strong><strong>더 빠르고</strong><strong>, </strong><strong>더 강력한가</strong><strong>?</strong></h4><p>오픈AI의 가장 강력한 모델인 GPT-4는 현재 업계 최고 표준으로 여겨지고 있다. 구글은 제미나이가 오픈AI의 이전 모델인 GPT 3.5보다 성능이 뛰어나다고 자랑했지만, 구글 경영진은 그렇다면 제미나이가 GPT-4를 얼마나 뛰어넘는지에 대한 질문에 대한 답을 회피했다.</p><p>하지만 구글은 특히 MMLU(massive multitask language understanding, 대규모 다중작업 언어 이해) 벤치마크(테스트) 점수를 강조했다. 이것은 독해력과 대학 수학 및 물리학과 경제학과 사회과학 객관식 퀴즈 등 텍스트와 이미지가 포함된 작업에서 모델의 성능을 측정하기 위해 고안된 일련의 테스트다. 피차이는 “텍스트만으로 구성된 문제에서 제미나이는 90%, 인간 전문가는 약 89%의 점수를 받았다”고 설명했다. GPT-4는 이러한 유형의 문제에서 86%의 점수를 받았다. 멀티모달 문제에서는 제미나이가 59%, GPT-4가 57%의 점수를 받았다. 피차이는 “제미나이는 이 임곗값(GPT-4의 점수)을 넘어선 최초의 모델이다”라고 말했다.</p><p>뉴멕시코에 소재한 산타페 연구소에서 AI 연구원으로 있는 멜라니 미첼(Melanie Mitchell)은 벤치마크 데이터 세트에 대한 제미나이의 성능을 매우 인상적이라고 평가했다. 그러면서 “제미나이가 매우 정교한 AI 시스템인 것은 분명하지만 실제로 GPT-4보다 훨씬 더 능력이 뛰어난지는 분명하지 않다”고 덧붙였다.</p><p>제미나이의 벤치마크 점수는 좋지만, 학습 데이터에 무엇이 들어있는지 모르기 때문에 이 수치를 어떻게 해석해야 할지 알기 어렵다고 스탠퍼드 대학교의 기초 모델 연구 센터의 책임자인 퍼시 리앙(Percy Liang)은 밝혔다.</p><p>또한 미첼은 제미나이가 이미지와 비디오보다 언어와 코드 벤치마크에서 훨씬 더 우수한 성능을 보인다는 점을 지적하며 “멀티모달 기반 모델이 많은 작업에 일반적이고 강력하고 유용하게 사용되려면 아직 갈 길이 멀다”고 주장했다.</p><p>구글 딥마인드는 인간 테스터들로부터 받은 피드백을 통해 제미나이가 더 사실에 근거해 정확성을 높이고, 요청이 있을 때 출처를 제시하고, 대답할 수 없는 질문에 직면했을 때 말도 안 되는 말을 뱉어내지 않고 회피하는 훈련을 시켰다. 딥마인드는 이를 통해 AI의 고질적 문제로 거론되는, 오답을 마치 정답처럼 말하는 환각(hallucination) 문제를 완화할 수 있다고 주장한다. 그러나 기반 기술을 근본적으로 개편하지 않는 한 이런 대규모언어모델(large language model, 이하 LLM)은 계속해서 새로운 것을 만들어낼 것이다.</p><p>전문가들은 구글이 제미나이의 성능을 측정하는 데 사용한 벤치마크가 엄청난 통찰력을 주는지 불분명하며, 투명한 정보가 확보되지 않으면 구글의 주장을 확인하기 어렵다고 말했다.</p><p>에밀리 벤더(Emily Bender) 워싱턴 대학교 컴퓨터 언어학 교수는 “구글은 제미나이를 다양한 방식으로 사용할 수 있는 범용 모델인 만능 기계로 광고하고 있지만 이렇게 다양한 용도로 사용될 것으로 예상되는 모델을 평가할 때 제한적인 벤치마크만을 사용하고 있다”면서 “이는 사실상 철저한 평가가 불가능하다는 것을 의미한다”고 주장했다.</p><p>샤 교수도 궁극적으로 일반 사용자에게는 경쟁 모델에 비해 점진적 수준으로 개선된 기능이 큰 차이를 느끼지 못하게 만들 수도 있다고 지적하며 “사람들이 ‘아, 이게 더 낫네’라고 생각하는 것보다 편의성, 브랜드 인지도, 기존 통합 여부가 더 중요하다”는 의견을 내놓았다.</p><div aria-hidden=\"true\" class=\"wp-block-spacer\" style=\"height:44px\"></div><h4><strong>길고 더딘 구축</strong></h4><p>제미나이는 등장하기까지 오랜 시간이 걸렸다. 구글은 2023년 4월 자사의 AI 연구 부서인 구글 브레인(Google Brain)과 런던에 소재한 알파벳의 AI 연구소인 딥마인드를 합병한다고 발표했다. 이에 따라 구글은 3월에 출시된 챗GPT 유료 버전의 근간이 되는 오픈AI의 가장 진보된 LLM인 GPT-4에 대한 대항마를 개발하기 위해 1년 내내 노력해 왔다.</p><p>구글은 AI 분야에서 경쟁사를 따라잡고 추월할 수 있다는 것을 투자자들에게 보여줘야 한다는 강한 압박을 받아왔다. 구글은 수년간 강력한 AI 모델을 개발해 사용해 왔지만, 평판 손상과 안전 문제를 우려한 나머지 대중이 사용할 수 있는 도구를 출시하는 데 주저해 왔다.</p><p>제프리 힌튼(Geoffrey Hinton) 전 구글 연구원은 지난 4월 회사를 떠나면서 MIT 테크놀로지 리뷰와의 인터뷰에서 “구글은 이러한 기술을 대중에게 공개하는 데 매우 신중했다”면서 “일어날 수 있는 나쁜 일이 너무 많아서 구글의 평판을 망치고 싶지 않았기 때문이다”고 말했다. 신뢰할 수 없거나 시장성이 없어 보이는 기술에 직면했을 때 구글은 더 큰 위험을 놓칠 때까지 안전하게 행동했다.</p><p>구글은 결함이 있는 제품을 출시하면 역효과가 날 수 있다는 사실을 뼈저리게 배워왔다. 지난 2월에 챗GPT의 경쟁 제품인 바드를 공개했을 때 과학자들은 곧 바드가 내세운 광고 자체에서 이미 사실적 오류가 있음을 발견했다. 이 사건으로 인해 구글의 시가총액은 1,000억 달러(약 131조 원)나 증발했다.</p><p>지난 5월 구글은 이메일부터 생산성 소프트웨어에 이르기까지 대부분의 제품에 생성형 AI를 도입한다고 발표했다. 하지만 결과적으로 이는 비평가들에게 깊은 인상을 남기지 못했다. 예를 들어, 챗봇이 존재하지 않는 이메일을 참조하는 등의 문제가 발생했기 때문이다.</p><p>이는 LLM에서 일관되게 발생하는 문제이다. 이것이 사람이 쓴 것처럼 보이는 텍스트를 생성하는 데는 뛰어나지만, 생성형 AI 시스템은 정기적으로 무언가를 지어낸다. 그리고 이런 문제가 있는 것도 아니다. 또한 해킹하기가 쉽고 편견으로 가득 차 있다. 더불어 이러한 시스템을 사용하는 과정에서 환경 오염이 심하다.</p><p>구글은 이러한 문제들과 환각 문제 중 어느 것도 해결하지 못했다. 구글이 후자의 문제에 대한 해결책으로 사람들이 구글 검색을 사용해 챗봇의 답변을 다시 확인할 수 있게 했지만 이는 온라인 검색 결과 자체의 정확성에 의존하는 방식이다.</p><p>제미나이는 이러한 생성형 AI의 정점일 수도 있다. 하지만 LLM을 기반으로 구축된 AI가 앞으로 어디로 향할지는 불분명하다. 일부 연구원들은 우리가 다음 정점에 도달할 기슭에 서 있는 게 아니라 정체기에 들어선 것일 수 있다고 생각한다.</p><p>하지만 피차이는 낙관적이다. 그는 “앞으로도 많은 (발전의) 여지가 있다”면서 이렇게 덧붙였다. “나는 멀티모달이 엄청나게 될 거라고 생각한다. 이 모델들에 더 많은 추론을 하도록 가르치면 점점 더 큰 혁신이 일어날 것이다. 더 깊은 혁신은 아직 오지 않았다. 모든 점을 종합해 봤을 때 우리는 진정 이제 아주 시작 단계에 서 있을 뿐이라고 느낀다.”</p></div><!-- .single-content --><div class=\"newsletter-form-wrap-2\"> <button class=\"close-btn\">╳</button><h3>MIT Technology Review 뉴스레터 구독</h3><h4 class=\"newsletter-form-title\">가장 빠르게, 가장 편하게 MIT Technology Review의 최신 컨텐츠를 받아 보세요.</h4><link href=\"https://s3.ap-northeast-2.amazonaws.com/resource.stibee.com/subscribe/stb_subscribe_form_style.css\" rel=\"stylesheet\"/><div id=\"stb_subscribe\"><form accept-charset=\"utf-8\" action=\"https://stibee.com/api/v1.0/lists/u18sv3Af1UVteYnPZVFCCKyNqw6vsQ==/public/subscribers\" class=\"stb_form\" id=\"stb_subscribe_form\" method=\"POST\" name=\"stb_subscribe_form\" novalidate=\"\" target=\"_blank\"><div class=\"g29slzqt\"><fieldset class=\"stb_form_set\"> <input class=\"stb_form_set_input\" id=\"stb_email\" name=\"email\" placeholder=\"이메일 주소\" type=\"email\"/><div class=\"stb_form_msg_error\" id=\"stb_email_error\"></div></fieldset><div class=\"stb_form_policy\"> <label> <input id=\"stb_policy\" type=\"checkbox\" value=\"stb_policy_true\"/> <button class=\"stb_form_modal_open_btn\" data-modal=\"stb_form_policy_modal\" id=\"stb_form_modal_open\" type=\"button\">개인정보 수집 및 이용</button>에 동의합니다. </label><div class=\"stb_form_msg_error\" id=\"stb_policy_error\"></div><div class=\"stb_form_modal stb_form_policy_text blind\" id=\"stb_form_policy_modal\"><div class=\"stb_form_modal_body\"><h1 class=\"stb_form_modal_title\">개인정보 수집 및 이용</h1><p class=\"stb_form_modal_text\"> 뉴스레터 발송을 위한 최소한의 개인정보를 수집하고 이용합니다. 수집된 정보는 발송 외 다른 목적으로 이용되지 않으며, 서비스가 종료되거나 구독을 해지할 경우 즉시 파기됩니다.</p><div class=\"stb_form_modal_btn\"> <button class=\"stb_form_modal_close_btn\" data-modal=\"stb_form_policy_modal\" id=\"stb_form_modal_close\" type=\"button\">닫기</button></div></div><div class=\"stb_form_modal_bg\" id=\"stb_form_modal_bg\"></div></div></div></div><fieldset class=\"stb_form_set_submit\"> <button class=\"stb_form_submit_button\" id=\"stb_form_submit_button\" style=\"background-color: rgb(62, 129, 246); color: rgb(255, 255, 255);\" type=\"submit\">구독하기</button></fieldset></form><div class=\"stb_form_result\" id=\"stb_form_result\"></div> <script async=\"\" defer=\"\" src=\"https://www.google.com/recaptcha/api.js\"></script> <script src=\"https://s3.ap-northeast-2.amazonaws.com/resource.stibee.com/subscribe/stb_subscribe_form.js\" type=\"text/javascript\"></script> </div><!-- .col-right --></div><!-- .newsletter-form-wrap --> <script type=\"text/javascript\">jQuery(function($) {\n",
      "\t$('#stb_subscribe_form').submit(function() {\n",
      "\t\tvar value = STBSUBFORM.getValue();\n",
      "        if (STBSUBFORM.validate(value)) {\n",
      "\t\t\t$.post(admin_ajax_url, {\n",
      "\t\t\t\taction: 'mtr_add_newsletter_subs',\n",
      "\t\t\t\tnonce: '13425ea239',\n",
      "\t\t\t\temail: $('#stb_email').val()\n",
      "\t\t\t});\n",
      "\t\t}\n",
      "\t\treturn true;\n",
      "\t});\n",
      "\t$('.newsletter-form-wrap-2 .close-btn').click(function() {\n",
      "\t\t$('.newsletter-form-wrap-2').fadeOut();\n",
      "\t});\n",
      "});</script> </div><!-- .col-left --><div class=\"col-right\"><div class=\"topic-side-banner-area\"><div class=\"banner-item c_dot_tech\"></div><!-- .banner-item --></div><!-- .site-top-banner-area --><div style=\"margin-top: 2em;\"><h4 class=\"title\">인기 기사</h4> <!-- WordPress Popular Posts --><ul class=\"wpp-list\"><li><a href=\"https://www.technologyreview.kr/google-deepminds-new-gemini-model-looks-amazing-but-could-signal-peak-ai-hype/\" target=\"_self\"><img alt=\"\" class=\"wpp-thumbnail wpp_featured wpp_cached_thumb\" height=\"0\" loading=\"lazy\" src=\"https://www.technologyreview.kr/wp-content/uploads/wordpress-popular-posts/25882-featured-100x0.png\" width=\"100\"/></a> <a class=\"wpp-post-title\" href=\"https://www.technologyreview.kr/google-deepminds-new-gemini-model-looks-amazing-but-could-signal-peak-ai-hype/\" target=\"_self\">마침내 공개된 구글 차세대 AI 모델 ‘제미나이’는 무엇을 시사하나</a> <span class=\"wpp-meta post-stats\"></span></li><li><a href=\"https://www.technologyreview.kr/ai-is-at-an-inflection-point-fei-fei-li-says/\" target=\"_self\"><img alt=\"\" class=\"wpp-thumbnail wpp_featured wpp_cached_thumb\" height=\"0\" loading=\"lazy\" src=\"https://www.technologyreview.kr/wp-content/uploads/wordpress-popular-posts/25744-featured-100x0.png\" width=\"100\"/></a> <a class=\"wpp-post-title\" href=\"https://www.technologyreview.kr/ai-is-at-an-inflection-point-fei-fei-li-says/\" target=\"_self\">“AI는 지금 전환기에 있다”…페이페이 리가 말하는 인류의 과제</a> <span class=\"wpp-meta post-stats\"></span></li><li><a href=\"https://www.technologyreview.kr/10-breakthrough-technologies-2023/\" target=\"_self\"><img alt=\"미래 기술\" class=\"wpp-thumbnail wpp_featured wpp_cached_thumb\" height=\"0\" loading=\"lazy\" src=\"https://www.technologyreview.kr/wp-content/uploads/wordpress-popular-posts/15274-featured-100x0.png\" width=\"100\"/></a> <a class=\"wpp-post-title\" href=\"https://www.technologyreview.kr/10-breakthrough-technologies-2023/\" target=\"_self\">MIT 테크놀로지 리뷰가 선정한 2023년 10대 미래 기술</a> <span class=\"wpp-meta post-stats\"></span></li><li><a href=\"https://www.technologyreview.kr/1082828-how-did-life-begin/\" target=\"_self\"><img alt=\"\" class=\"wpp-thumbnail wpp_featured wpp_cached_thumb\" height=\"0\" loading=\"lazy\" src=\"https://www.technologyreview.kr/wp-content/uploads/wordpress-popular-posts/25377-featured-100x0.jpg\" width=\"100\"/></a> <a class=\"wpp-post-title\" href=\"https://www.technologyreview.kr/1082828-how-did-life-begin/\" target=\"_self\">[연말 담론 시리즈 #2] AI, 생명의 기원에 대한 수수께끼를 풀다</a> <span class=\"wpp-meta post-stats\"></span></li><li><a href=\"https://www.technologyreview.kr/%ea%b5%ac%ea%b8%80-%eb%94%a5%eb%a7%88%ec%9d%b8%eb%93%9c-ai%eb%a1%9c-%ec%8b%a0%ec%86%8c%ec%9e%ac-700%ec%97%ac-%ec%a2%85-%eb%b0%9c%ea%b2%ac/\" target=\"_self\"><img alt=\"\" class=\"wpp-thumbnail wpp_featured wpp_cached_thumb\" height=\"0\" loading=\"lazy\" src=\"https://www.technologyreview.kr/wp-content/uploads/wordpress-popular-posts/25859-featured-100x0.jpg\" width=\"100\"/></a> <a class=\"wpp-post-title\" href=\"https://www.technologyreview.kr/%ea%b5%ac%ea%b8%80-%eb%94%a5%eb%a7%88%ec%9d%b8%eb%93%9c-ai%eb%a1%9c-%ec%8b%a0%ec%86%8c%ec%9e%ac-700%ec%97%ac-%ec%a2%85-%eb%b0%9c%ea%b2%ac/\" target=\"_self\">구글 딥마인드, AI로 신소재 700여 종 발견</a> <span class=\"wpp-meta post-stats\"></span></li></ul></div></div><!-- .col-right --></div><!-- .single-content-wrap --><div class=\"content-restriction-section transition\"><div class=\"container\"><div class=\"content-restriction-wrapper\"><div class=\"col-left\"><div class=\"restriction-msg\"> <!--<p class=\"notice\">* MIT Technology Review는 총 3회의 미리보기를 제공합니다.</p> --><p class=\"access-count\">미리보기 <span class=\"yellow\">2회</span> 중 <span class=\"yellow\">1회</span></p><p class=\"restriction-msg-txt\">MIT Technology Review 구독을 시작하시면 모든 기사를 제한 없이 이용할 수 있습니다.</p></div><!-- .restriction-msg --><div class=\"cta\"> <a class=\"btn-loco btn-cta\" href=\"/account/subscribe/\"><span>유료회원 플랜보기</span><i class=\"far fa-long-arrow-right\"></i></a> <a class=\"btn-loco\" href=\"/account/login/\"><span>로그인하기</span><i class=\"far fa-long-arrow-right\"></i></a></div></div> <!--<div class=\"col-right\"> <img src=\"/assets/img/tr-mediums.png\"></div> --></div><!-- .content-restriction-wrapper --></div> <a class=\"btn-shrink\" href=\"#\"><span class=\"shrink-icon\"><i class=\"fal fa-chevron-circle-down\"></i></span></a></div> <script type=\"text/javascript\">jQuery(function($){ // use jQuery code inside this to avoid \"$ is not defined\" error\n",
      "\t\t$('.btn-shrink').click(function(e){\n",
      "                    $('.content-restriction-section').remove();\n",
      "                    return false;\n",
      "                        \n",
      "                        \n",
      "                        /*\n",
      "\t \t\te.preventDefault();\n",
      "\t\t\t$(this).parent().toggleClass('shrink');\n",
      "                        */\n",
      "\t\t});\n",
      "\t});</script> </div><!-- .container --></article><div class=\"related-topics-section\"><div class=\"container\"><div class=\"title-area\"><h2 class=\"entry-title\">연관 토픽</h2></div><!-- .title-area --><ul class=\"related-topics-list\"><li><article class=\"grid-item slide-up\" id=\"post-25865\"><div class=\"post-item general-list\"><div class=\"img-box\"> <a class=\"featured-image\" href=\"https://www.technologyreview.kr/%ec%b1%97gpt-%ea%b0%99%ec%9d%80-ai-%eb%aa%a8%eb%8d%b8%ec%9d%b4-%ec%95%84%ed%94%84%eb%a6%ac%ec%b9%b4-%ec%96%b8%ec%96%b4-%ec%9d%b4%ed%95%b4-%eb%aa%bb-%ed%95%98%ec%9e%90-%ec%83%9d%ea%b8%b4-%ec%9d%bc/\"> <!--?php print_thumbnail( $thumb, $thumbnail[\"use_timthumb\"], $titletext, $width, $height ); ?--> <img alt=\"\" class=\"attachment-loco-list-thumb size-loco-list-thumb wp-post-image\" height=\"320\" loading=\"lazy\" src=\"https://www.technologyreview.kr/wp-content/uploads/2023/12/image03-1-429x320.png\" width=\"429\"/> </a></div><div class=\"txt-box\"><h5 class=\"entry-title\"> <a href=\"https://www.technologyreview.kr/%ec%b1%97gpt-%ea%b0%99%ec%9d%80-ai-%eb%aa%a8%eb%8d%b8%ec%9d%b4-%ec%95%84%ed%94%84%eb%a6%ac%ec%b9%b4-%ec%96%b8%ec%96%b4-%ec%9d%b4%ed%95%b4-%eb%aa%bb-%ed%95%98%ec%9e%90-%ec%83%9d%ea%b8%b4-%ec%9d%bc/\"> 챗GPT 같은 AI 모델이 아프리카 언어를 이해 못 하자 생긴 일 </a></h5><div class=\"post-info\"> <span class=\"post-date\">2023년 12월 6일</span></div></div></div> <!-- .post-item --></article> <!-- article --></li><li><article class=\"grid-item slide-up\" id=\"post-25859\"><div class=\"post-item general-list\"><div class=\"img-box\"> <a class=\"featured-image\" href=\"https://www.technologyreview.kr/%ea%b5%ac%ea%b8%80-%eb%94%a5%eb%a7%88%ec%9d%b8%eb%93%9c-ai%eb%a1%9c-%ec%8b%a0%ec%86%8c%ec%9e%ac-700%ec%97%ac-%ec%a2%85-%eb%b0%9c%ea%b2%ac/\"> <!--?php print_thumbnail( $thumb, $thumbnail[\"use_timthumb\"], $titletext, $width, $height ); ?--> <img alt=\"\" class=\"attachment-loco-list-thumb size-loco-list-thumb wp-post-image\" height=\"320\" loading=\"lazy\" src=\"https://www.technologyreview.kr/wp-content/uploads/2023/12/image1-2-500x320.jpg\" width=\"500\"/> </a></div><div class=\"txt-box\"><h5 class=\"entry-title\"> <a href=\"https://www.technologyreview.kr/%ea%b5%ac%ea%b8%80-%eb%94%a5%eb%a7%88%ec%9d%b8%eb%93%9c-ai%eb%a1%9c-%ec%8b%a0%ec%86%8c%ec%9e%ac-700%ec%97%ac-%ec%a2%85-%eb%b0%9c%ea%b2%ac/\"> 구글 딥마인드, AI로 신소재 700여 종 발견 </a></h5><div class=\"post-info\"> <span class=\"post-date\">2023년 12월 7일</span></div></div></div> <!-- .post-item --></article> <!-- article --></li><li><article class=\"grid-item slide-up\" id=\"post-25778\"><div class=\"post-item general-list\"><div class=\"img-box\"> <a class=\"featured-image\" href=\"https://www.technologyreview.kr/ai-power-grid-improvement/\"> <!--?php print_thumbnail( $thumb, $thumbnail[\"use_timthumb\"], $titletext, $width, $height ); ?--> <img alt=\"\" class=\"attachment-loco-list-thumb size-loco-list-thumb wp-post-image\" height=\"320\" loading=\"lazy\" src=\"https://www.technologyreview.kr/wp-content/uploads/2023/12/PLACEHOLDER_image1-500x320.jpg\" width=\"500\"/> </a></div><div class=\"txt-box\"><h5 class=\"entry-title\"> <a href=\"https://www.technologyreview.kr/ai-power-grid-improvement/\"> AI로 전력망의 속도와 복구력을 높이는 4가지 방법 </a></h5><div class=\"post-info\"> <span class=\"post-date\">2023년 12월 4일</span></div></div></div> <!-- .post-item --></article> <!-- article --></li><li><article class=\"grid-item slide-up\" id=\"post-25744\"><div class=\"post-item general-list\"><div class=\"img-box\"> <a class=\"featured-image\" href=\"https://www.technologyreview.kr/ai-is-at-an-inflection-point-fei-fei-li-says/\"> <!--?php print_thumbnail( $thumb, $thumbnail[\"use_timthumb\"], $titletext, $width, $height ); ?--> <img alt=\"\" class=\"attachment-loco-list-thumb size-loco-list-thumb wp-post-image\" height=\"320\" loading=\"lazy\" src=\"https://www.technologyreview.kr/wp-content/uploads/2023/11/image02-6-500x320.png\" width=\"500\"/> </a></div><div class=\"txt-box\"><h5 class=\"entry-title\"> <a href=\"https://www.technologyreview.kr/ai-is-at-an-inflection-point-fei-fei-li-says/\"> “AI는 지금 전환기에 있다”…페이페이 리가 말하는 인류의 과제 </a></h5><div class=\"post-info\"> <span class=\"post-date\">2023년 11월 30일</span></div></div></div> <!-- .post-item --></article> <!-- article --></li></ul></div></div> <script type=\"text/javascript\">jQuery(function($) {\n",
      "\tif ($('.content-restriction-message').length == 0) {\n",
      "\t\tvar textLength = 0;\n",
      "\t\t$('.single-content p').each(function() {\n",
      "\t\t\ttextLength += $(this).text().length;\n",
      "\t\t\tconsole.log(textLength);\n",
      "\t\t\tif (textLength > 800) {\n",
      "\t\t\t\t$('.newsletter-form-wrap-2').insertAfter($(this));\n",
      "\t\t\t\treturn false;\n",
      "\t\t\t}\n",
      "\t\t});\n",
      "\n",
      "\t}\n",
      "\t\n",
      "});</script> </div><!--.content-wrapper--></div><!--#content--><footer class=\"footer\" id=\"footer\"><div class=\"footer-sns-section\"><div class=\"container\"><div class=\"footer-sns-title-area title-area\"><h5 class=\"footer-sns-title\">팔로우하세요 <span class=\"font-400\">핵심 기술과 혁신의 뉴스를 SNS 나 메일로 받기</span></h5></div><!-- .footer-sns-title --><ul class=\"footer-sns-list\"><li> <a href=\"https://www.facebook.com/mittechnologyreview.kr\" target=\"_blank\"> <i class=\"fab fa-facebook-f\"></i> </a></li><li> <a href=\"https://www.linkedin.com/company/mit-technology-review-korean/\" target=\"_blank\"> <i class=\"fab fa-linkedin-in\"></i> </a></li><li> <a href=\"https://www.technologyreview.kr/newsletter/\"> <i class=\"fas fa-envelope\"></i> </a></li><li> <a href=\"https://www.technologyreview.kr/feed/\" target=\"_blank\"> <i class=\"fas fa-rss\"></i> </a></li></ul><!-- footer-sns-list --></div><!-- .container --></div><!-- .footer-sns-section --><div class=\"footer-content-section section\"><div class=\"container\"><div class=\"footer-content-row\"><div class=\"col-left\"> <a class=\"logo-color logo navy\" href=\"https://www.technologyreview.kr/\"> <picture id=\"logo\">\n",
      "<source srcset=\"https://www.technologyreview.kr/wp-content/uploads/2022/08/Untitled-24-수정-e1661136064814.png.webp\" type=\"image/webp\"/>\n",
      "<img alt=\"MIT 테크놀로지 리뷰 | MIT Techonology Review Korea\" src=\"https://www.technologyreview.kr/wp-content/uploads/2022/08/Untitled-24-수정-e1661136064814.png\"/>\n",
      "</picture>\n",
      "</a><p class=\"publisher\"></p><p class=\"slogan\">MIT 테크놀로지 리뷰는 기술로 세상을 이롭게 한다는 미션을 추구합니다.</p><p class=\"company-info-txt\">MIT Technology Review Korean Edition 편집장 : Mat Honan |\n",
      " 한국 에디션 발행인 &amp; 편집인 : 박세정 | <!-- 편집장 :  | --> 개인정보관리책임자 : 박세정<br/> 주소 : 서울특별시 종로구 새문안로 92 (신문로1가), 5층 503호 | 대표번호 : 02-2038-3690 | 이메일 : customer@technologyreview.kr<br/> 사업자등록번호 : 주식회사 디엠케이글로벌 451-88-00827 <a href=\"https://www.ftc.go.kr/bizCommPop.do?wrkr_no=4518800827\" target=\"_blank\">[사업자정보확인]</a> | 통신판매업 신고번호 : 제 2018-서울영등포-0513호<br/> 정보간행물 신고번호 : 종로 다00053</p></div><!-- .col-left --><div class=\"col-right\"><div class=\"footer-nav\" id=\"footer-nav\"><nav id=\"footerNav\"><div class=\"menu-footer-menu-container\"><ul class=\"footer-menu\" id=\"menu-footer-menu\"><li class=\"menu-item menu-item-type-post_type menu-item-object-page menu-item-1488\" id=\"menu-item-1488\"><a href=\"https://www.technologyreview.kr/request/\">취재 및 광고요청</a></li><li class=\"menu-item menu-item-type-post_type menu-item-object-page menu-item-privacy-policy menu-item-139\" id=\"menu-item-139\"><a href=\"https://www.technologyreview.kr/privacy-policy/\">개인정보 보호정책</a></li><li class=\"menu-item menu-item-type-post_type menu-item-object-page menu-item-17175\" id=\"menu-item-17175\"><a href=\"https://www.technologyreview.kr/%ec%9d%b8%ed%84%b0%eb%84%b7%ec%8b%a0%eb%ac%b8-%ec%9c%a4%eb%a6%ac%ea%b0%95%eb%a0%b9/\">인터넷신문 윤리강령</a></li><li class=\"menu-item menu-item-type-post_type menu-item-object-page menu-item-140\" id=\"menu-item-140\"><a href=\"https://www.technologyreview.kr/terms-of-use/\">이용약관</a></li></ul></div></nav></div><div class=\"logo-operator\"> <picture>\n",
      "<source srcset=\"https://www.technologyreview.kr/wp-content/uploads/2022/09/DMK_2-e1664160940363.png.webp\" type=\"image/webp\"/>\n",
      "<img src=\"https://www.technologyreview.kr/wp-content/uploads/2022/09/DMK_2-e1664160940363.png\"/>\n",
      "</picture>\n",
      "</div><ul class=\"sns-list\"></ul></div><!-- .col-right --> <a href=\"#\" id=\"move-top-btn\"><span class=\"circle shadow\"><i class=\"far fa-arrow-up\"></i></span></a></div><!--.footer-content-row--><div class=\"copyright-txt\">copyright © 2023 MIT 테크놀로지 리뷰 | MIT Techonology Review Korea</div></div><!-- .container --></div><!-- .footer-content-section --></footer><!--//#footer --><div class=\"nav-overlay overlay-bg\" id=\"mNavOverlay\"><div class=\"site-top-banner-area\"><div class=\"banner-item c_dot_tech\"></div><!-- .banner-item --></div><!-- .site-top-banner-area --><div class=\"mobile-nav-wrap\"><nav id=\"m-util\"><div class=\"menu-util-menu-container\"><ul class=\"util-menu\" id=\"menu-util-menu-2\"><li class=\"menu-item menu-item-type-custom menu-item-object-custom menu-item-94\"><a href=\"/account/login/?redirect_to=%2Fgoogle-deepminds-new-gemini-model-looks-amazing-but-could-signal-peak-ai-hype%2F\">로그인</a></li><li class=\"menu-item menu-item-type-custom menu-item-object-custom menu-item-95\"><a href=\"/account/register/\">회원가입</a></li><li class=\"menu-item menu-item-type-custom menu-item-object-custom menu-item-96\"><a href=\"/account/subscribe/\">구독 신청</a></li><li class=\"menu-item search\"><form action=\"https://www.technologyreview.kr/\" id=\"navSearchform\" method=\"get\" role=\"search\"><input id=\"s\" name=\"s\" placeholder=\"search\" type=\"text\"><button id=\"searchsubmit\" type=\"submit\" value=\"검색하기\"></button><i class=\"far fa-search\"></i></input></form></li></ul></div></nav><nav id=\"m-main\"><div class=\"menu-main-menu-container\"><ul class=\"primary-menu\" id=\"menu-main-menu-2\"><li class=\"menu-item menu-item-type-custom menu-item-object-custom menu-item-has-children menu-item-85\"><a href=\"#\">토픽</a><ul class=\"sub-menu\"><li class=\"menu-item menu-item-type-taxonomy menu-item-object-category menu-item-15759\"><a href=\"https://www.technologyreview.kr/category/10-breakthrough-technologies/\">10대 미래 기술</a></li><li class=\"menu-item menu-item-type-taxonomy menu-item-object-category current-post-ancestor current-menu-parent current-post-parent menu-item-87\"><a href=\"https://www.technologyreview.kr/category/ai/\">인공지능</a></li><li class=\"menu-item menu-item-type-taxonomy menu-item-object-category menu-item-1604\"><a href=\"https://www.technologyreview.kr/category/tech-policy/technology-and-society/\">기술정책</a></li><li class=\"menu-item menu-item-type-taxonomy menu-item-object-category menu-item-1606\"><a href=\"https://www.technologyreview.kr/category/computing/\">컴퓨팅</a></li><li class=\"menu-item menu-item-type-taxonomy menu-item-object-category menu-item-86\"><a href=\"https://www.technologyreview.kr/category/bio/\">바이오</a></li><li class=\"menu-item menu-item-type-taxonomy menu-item-object-category menu-item-89\"><a href=\"https://www.technologyreview.kr/category/climate-change/\">기후변화 · 에너지</a></li><li class=\"menu-item menu-item-type-taxonomy menu-item-object-category menu-item-88\"><a href=\"https://www.technologyreview.kr/category/blockchain/\">블록체인</a></li><li class=\"menu-item menu-item-type-taxonomy menu-item-object-category menu-item-317\"><a href=\"https://www.technologyreview.kr/category/space/\">우주</a></li><li class=\"menu-item menu-item-type-taxonomy menu-item-object-category menu-item-1605\"><a href=\"https://www.technologyreview.kr/category/smartcity/\">스마트시티</a></li><li class=\"menu-item menu-item-type-taxonomy menu-item-object-category menu-item-5175\"><a href=\"https://www.technologyreview.kr/category/insight/\">인사이트 컬럼</a></li></ul></li><li class=\"menu-item menu-item-type-post_type menu-item-object-page menu-item-3086\"><a href=\"https://www.technologyreview.kr/special-report/\">스페셜 리포트</a></li><li class=\"menu-item menu-item-type-custom menu-item-object-custom menu-item-10746\"><a href=\"/special/magazine/\">매거진</a></li><li class=\"menu-item menu-item-type-post_type menu-item-object-page menu-item-has-children menu-item-5137\"><a href=\"https://www.technologyreview.kr/iu35-innovator-under-35/\">35세 미만 혁신가</a><ul class=\"sub-menu\"><li class=\"menu-item menu-item-type-post_type menu-item-object-page menu-item-10605\"><a href=\"https://www.technologyreview.kr/iu35-innovator-under-35/\">35세 미만 혁신가</a></li><li class=\"menu-item menu-item-type-custom menu-item-object-custom menu-item-14392\"><a href=\"https://www.technologyreview.kr/innovators-under-35-2022/\">Innovators Under 35 – 2022년 한국 수상자 발표</a></li><li class=\"menu-item menu-item-type-post_type menu-item-object-page menu-item-8211\"><a href=\"https://www.technologyreview.kr/iu35korea/\">Innovators Under 35 – 2021년 한국 수상자 발표</a></li></ul></li><li class=\"menu-item menu-item-type-post_type menu-item-object-page menu-item-178\"><a href=\"https://www.technologyreview.kr/newsletter/\">뉴스레터</a></li><li class=\"menu-item menu-item-type-custom menu-item-object-custom menu-item-2397\"><a href=\"https://www.technologyreview.kr/special/events/\">테크 라이브</a></li></ul></div></nav></div><!--.mobile-nav-wrap--></div><div aria-modal=\"false\" class=\"pum pum-overlay pum-theme-22622 pum-theme-default-theme popmake-overlay auto_open click_open\" data-popmake='{\"id\":22630,\"slug\":\"%eb%a9%94%ec%9d%b8-%ea%b3%b5%ec%a7%80\",\"theme_id\":22622,\"cookies\":[{\"event\":\"on_popup_close\",\"settings\":{\"name\":\"pum-22630\",\"time\":\"1 day\",\"path\":true}}],\"triggers\":[{\"type\":\"auto_open\",\"settings\":{\"cookie_name\":\"pum-22630\",\"delay\":\"500\"}},{\"type\":\"click_open\",\"settings\":{\"extra_selectors\":\"\",\"cookie_name\":null}}],\"mobile_disabled\":null,\"tablet_disabled\":null,\"meta\":{\"display\":{\"stackable\":false,\"overlay_disabled\":false,\"scrollable_content\":false,\"disable_reposition\":false,\"size\":\"auto\",\"responsive_min_width\":\"0%\",\"responsive_min_width_unit\":false,\"responsive_max_width\":\"100%\",\"responsive_max_width_unit\":false,\"custom_width\":\"640px\",\"custom_width_unit\":false,\"custom_height\":\"380px\",\"custom_height_unit\":false,\"custom_height_auto\":false,\"location\":\"center\",\"position_from_trigger\":false,\"position_top\":\"100\",\"position_left\":\"0\",\"position_bottom\":\"0\",\"position_right\":\"0\",\"position_fixed\":false,\"animation_type\":\"fade\",\"animation_speed\":\"350\",\"animation_origin\":\"center top\",\"overlay_zindex\":false,\"zindex\":\"1999999999\"},\"close\":{\"text\":\"Close\",\"button_delay\":\"0\",\"overlay_click\":false,\"esc_press\":false,\"f4_press\":false},\"click_open\":[]}}' id=\"pum-22630\" role=\"dialog\"><div class=\"pum-container popmake theme-22622\" id=\"popmake-22630\"><div class=\"pum-content popmake-content\" tabindex=\"0\"><p><a href=\"https://www.technologyreview.kr/account/subscribe/\" rel=\"noopener noreferrer\" target=\"_blank\"><img alt=\"\" class=\"alignnone wp-image-25820\" height=\"426\" loading=\"lazy\" sizes=\"(max-width: 502px) 100vw, 502px\" src=\"https://www.technologyreview.kr/wp-content/uploads/2023/07/팝업-및-공지_새해-할인-캠페인.jpg\" srcset=\"https://www.technologyreview.kr/wp-content/uploads/2023/07/팝업-및-공지_새해-할인-캠페인.jpg 1246w, https://www.technologyreview.kr/wp-content/uploads/2023/07/팝업-및-공지_새해-할인-캠페인-300x254.jpg 300w, https://www.technologyreview.kr/wp-content/uploads/2023/07/팝업-및-공지_새해-할인-캠페인-1024x869.jpg 1024w, https://www.technologyreview.kr/wp-content/uploads/2023/07/팝업-및-공지_새해-할인-캠페인-768x652.jpg 768w, https://www.technologyreview.kr/wp-content/uploads/2023/07/팝업-및-공지_새해-할인-캠페인-250x212.jpg 250w, https://www.technologyreview.kr/wp-content/uploads/2023/07/팝업-및-공지_새해-할인-캠페인-640x543.jpg 640w\" width=\"502\"/></a></p></div> <button aria-label=\"Close\" class=\"pum-close popmake-close\" type=\"button\"> Close </button></div></div> <!-- GTM Container placement set to footer --> <!-- Google Tag Manager (noscript) --><script id=\"getwid-blocks-frontend-js-js-extra\" type=\"text/javascript\">/* <![CDATA[ */\n",
      "var Getwid = {\"settings\":[],\"ajax_url\":\"https:\\/\\/www.technologyreview.kr\\/wp-admin\\/admin-ajax.php\",\"nonces\":{\"recaptcha_v2_contact_form\":\"bef231e121\"}};\n",
      "/* ]]> */</script> <script id=\"leadin-script-loader-js-js-extra\" type=\"text/javascript\">/* <![CDATA[ */\n",
      "var leadin_wordpress = {\"userRole\":\"visitor\",\"pageType\":\"post\",\"leadinPluginVersion\":\"10.1.16\"};\n",
      "/* ]]> */</script> <script async=\"\" defer=\"\" id=\"hs-script-loader\" src=\"https://js.hs-scripts.com/39732853.js?integration=WordPress&amp;ver=10.1.16\" type=\"text/javascript\"></script> <script id=\"slick-js-js\" src=\"//cdn.jsdelivr.net/jquery.slick/1.4.1/slick.min.js?ver=1.4.1\" type=\"text/javascript\"></script> <script id=\"popup-maker-site-js-extra\" type=\"text/javascript\">/* <![CDATA[ */\n",
      "var pum_vars = {\"version\":\"1.18.2\",\"pm_dir_url\":\"https:\\/\\/www.technologyreview.kr\\/wp-content\\/plugins\\/popup-maker\\/\",\"ajaxurl\":\"https:\\/\\/www.technologyreview.kr\\/wp-admin\\/admin-ajax.php\",\"restapi\":\"https:\\/\\/www.technologyreview.kr\\/wp-json\\/pum\\/v1\",\"rest_nonce\":null,\"default_theme\":\"22622\",\"debug_mode\":\"\",\"disable_tracking\":\"\",\"home_url\":\"\\/\",\"message_position\":\"top\",\"core_sub_forms_enabled\":\"1\",\"popups\":[],\"cookie_domain\":\"\",\"analytics_route\":\"analytics\",\"analytics_api\":\"https:\\/\\/www.technologyreview.kr\\/wp-json\\/pum\\/v1\"};\n",
      "var pum_sub_vars = {\"ajaxurl\":\"https:\\/\\/www.technologyreview.kr\\/wp-admin\\/admin-ajax.php\",\"message_position\":\"top\"};\n",
      "var pum_popups = {\"pum-22630\":{\"triggers\":[{\"type\":\"auto_open\",\"settings\":{\"cookie_name\":\"pum-22630\",\"delay\":\"500\"}}],\"cookies\":[{\"event\":\"on_popup_close\",\"settings\":{\"name\":\"pum-22630\",\"time\":\"1 day\",\"path\":true}}],\"disable_on_mobile\":false,\"disable_on_tablet\":false,\"atc_promotion\":null,\"explain\":null,\"type_section\":null,\"theme_id\":\"22622\",\"size\":\"auto\",\"responsive_min_width\":\"0%\",\"responsive_max_width\":\"100%\",\"custom_width\":\"640px\",\"custom_height_auto\":false,\"custom_height\":\"380px\",\"scrollable_content\":false,\"animation_type\":\"fade\",\"animation_speed\":\"350\",\"animation_origin\":\"center top\",\"open_sound\":\"none\",\"custom_sound\":\"\",\"location\":\"center\",\"position_top\":\"100\",\"position_bottom\":\"0\",\"position_left\":\"0\",\"position_right\":\"0\",\"position_from_trigger\":false,\"position_fixed\":false,\"overlay_disabled\":false,\"stackable\":false,\"disable_reposition\":false,\"zindex\":\"1999999999\",\"close_button_delay\":\"0\",\"fi_promotion\":null,\"close_on_form_submission\":false,\"close_on_form_submission_delay\":\"0\",\"close_on_overlay_click\":false,\"close_on_esc_press\":false,\"close_on_f4_press\":false,\"disable_form_reopen\":false,\"disable_accessibility\":false,\"theme_slug\":\"default-theme\",\"id\":22630,\"slug\":\"%eb%a9%94%ec%9d%b8-%ea%b3%b5%ec%a7%80\"}};\n",
      "/* ]]> */</script> <script>(function($){'use strict';\n",
      "  const xpm = 0;\n",
      "  const ty = {\n",
      "    'display': 'block',\n",
      "    'position': 'absolute',\n",
      "    'width': '1px',\n",
      "    'height': '1px',\n",
      "    'overflow': 'hidden',\n",
      "    'margin': '-1px',\n",
      "    'clip': 'rect(1px,1px,1px,1px)',\n",
      "    'clipPath': 'inset(50%)'\n",
      "  };\n",
      "  if( xpm ) {\n",
      "    $('.only-non-member.menu-item').css(ty); \n",
      "  } else {\n",
      "    $('.only-tr-member.menu-item').css(ty);\n",
      "  }\n",
      "  $('.tr-menu-only.menu-item').removeClass('tr-menu-only')\n",
      "})(jQuery);</script> <!-- AceCounter Log Gathering Script V.8.0.AMZ2019080601 --> <script language=\"javascript\">var _AceGID=(function(){var Inf=['gtp9.acecounter.com','8080','AH2A44758484428','AW','0','NaPm,Ncisy','ALL','0']; var _CI=(!_AceGID)?[]:_AceGID.val;var _N=0;var _T=new Image(0,0);if(_CI.join('.').indexOf(Inf[3])<0){ _T.src =\"https://\"+ Inf[0] +'/?cookie'; _CI.push(Inf);  _N=_CI.length; } return {o: _N,val:_CI}; })();\n",
      "\tvar _AceCounter=(function(){var G=_AceGID;var _sc=document.createElement('script');var _sm=document.getElementsByTagName('script')[0];if(G.o!=0){var _A=G.val[G.o-1];var _G=(_A[0]).substr(0,_A[0].indexOf('.'));var _C=(_A[7]!='0')?(_A[2]):_A[3];var _U=(_A[5]).replace(/\\,/g,'_');_sc.src='https:'+'//cr.acecounter.com/Web/AceCounter_'+_C+'.js?gc='+_A[2]+'&py='+_A[4]+'&gd='+_G+'&gp='+_A[1]+'&up='+_U+'&rd='+(new Date().getTime());_sm.parentNode.insertBefore(_sc,_sm);return _sc.src;}})();</script> <!-- AceCounter Log Gathering Script End --> <script defer=\"\" src=\"https://www.technologyreview.kr/wp-content/cache/autoptimize/1/js/autoptimize_a3e0d25db37cfd926e2c0c931f01e27d.js\"></script></body></html><!-- Enliple Tracker Start --> <script type=\"text/javascript\">(function(a,g,e,n,t){a.enp=a.enp||function(){(a.enp.q=a.enp.q||[]).push(arguments)};n=g.createElement(e);n.async=!0;n.defer=!0;n.src=\"https://cdn.megadata.co.kr/dist/prod/enp_tracker_self_hosted.min.js\";t=g.getElementsByTagName(e)[0];t.parentNode.insertBefore(n,t)})(window,document,\"script\");\n",
      "  enp('create', 'common', 'mit6246', { device: 'B' });    \n",
      "  enp('send', 'common', 'mit6246');\n",
      "\n",
      "  enp('create', 'conversion', 'mit6246', { device: 'B', btnSelector: '#shoplic-register-btn', convType: 'B', productName: 'register'});\n",
      "  enp('create', 'conversion', 'mit6246', { device: 'B', btnSelector: '.menu-item-178', convType: 'B', productName: 'newsletter'});\n",
      "  setTimeout(function(){\n",
      "  enp('create', 'conversion', 'mit6246', { device: 'B', btnSelector: '#place_order', convType: 'B', productName: 'place order'});\n",
      "  ENP_INVOKE();\n",
      "  }, 1000)</script> <!-- Enliple Tracker End -->\n"
     ]
    }
   ],
   "source": [
    "import requests\n",
    "from bs4 import BeautifulSoup\n",
    "\n",
    "url = 'https://www.technologyreview.kr/google-deepminds-new-gemini-model-looks-amazing-but-could-signal-peak-ai-hype/'\n",
    "\n",
    "response = requests.get(url)\n",
    "\n",
    "if response.status_code == 200:\n",
    "    html = response.text\n",
    "    soup = BeautifulSoup(html, 'html.parser')\n",
    "    print(soup)\n",
    "    \n",
    "else : \n",
    "    print(response.status_code)\n",
    "\n"
   ]
  },
  {
   "cell_type": "code",
   "execution_count": 36,
   "id": "69557eb3",
   "metadata": {
    "ExecuteTime": {
     "end_time": "2023-12-07T11:33:10.433912Z",
     "start_time": "2023-12-07T11:33:10.421188Z"
    }
   },
   "outputs": [
    {
     "name": "stdout",
     "output_type": "stream",
     "text": [
      "[<p class=\"post-date\">2023년 12월 7일</p>, <p>오랫동안 소문만 무성했던 구글 딥마인드의 생성형 AI인 제미나이(Gemini)가 공개됐다. 오픈AI의 GPT-4에 맞서기 위해 딥마인드가 내놓은 이 야심작을 둘러싸고 몇 달 동안 알려진 과장된 소문이 정말 맞는지도 확인할 수 있게 됐다.</p>, <p>구글은 마침내 6일(현지시간) 그동안 비밀리에 작업해 온 결과물을 공개했다. 먼저 과장된 소문이 정당한지에 대한 답부터 한다면 “그럴 수도 있고 아닐 수도 있다.”</p>, <p>제미나이는 구글이 AI 패권을 차지하려 경쟁사인 오픈AI와 마이크로소프트에 맞서기 위해 내놓은 역대 최대 규모의 AI 모델이다. 이 모델이 다양한 기능에서 동급 최강의 성능을 자랑하는, 한 전문가의 표현을 빌리자면 소위 ‘만능 기계(everything machine)’라는 데는 의심의 여지가 없다.</p>, <p>구글과 모회사 알파벳의 순다르 피차이(Sundar Pichai) 최고경영자(CEO)는 MIT 테크놀로지 리뷰와의 인터뷰에서 “제미나이는 선천적으로 더 뛰어난 능력을 갖고 있다”면서 이같이 첨언했다. “이것은 플랫폼이다. AI는 웹이나 모바일보다 더 엄청난 플랫폼의 변화이다. 따라서 이것은 우리에게 큰 도약을 상징한다.”</p>, <p>구글에게는 ‘큰’ 도약일 수 있겠으나, 이 분야 전체적으로 봤을 때 ‘거대한’ 도약까지는 아니다. 구글 딥마인드는 제미나이가 32개의 표준 성능 측정 기준 중 30개에서 GPT-4를 앞선다고 주장한다. 하지만 둘 사이의 격차는 그다지 크지 않다. 구글 딥마인드는 현재 AI가 가진 최고 기능을 하나의 강력한 패키지로 통합해냈다. 딥마인드가 공개한 데모로 판단해 봤을 때 제미나이는 많은 작업을 아주 능숙하게 수행하지만, 이전에 보지 못했던 작업을 하는 모습은 거의 보여주지 않았다. 제미나이가 차세대의 트렌드를 이끌어 갈 ‘거대한 무엇(big thing)’일 거란 온갖 소문과 달리 이것이 우리가 AI 열풍이 정점에 도달했다는 걸 알려주는 신호일지도 모른다. 적어도 지금은 말이다.</p>, <p>온라인 검색을 전문으로 연구하는 워싱턴 대학교의 치라그 샤(Chirag Shah) 교수는 제미나이 출시를 애플이 매년 새 아이폰을 출시하는 것에 비유했다. 그는 “이제 우리는 너무 많은 것을 보았기 때문에 이걸 봐도 별다른 감흥을 느끼지 못하는 다른 한계에 도달했을 수도 있다”고 말했다.</p>, <p>GPT-4와 마찬가지로 제미나이는 텍스트, 이미지, 오디오 등 여러 종류의 입력된 정보를 처리하도록 훈련된 멀티모달(multimodal) AI이다. 제미나이는 이러한 다양한 형식을 결합해서 집안일부터 대학 수학과 경제에 이르기까지 모든 질문에 답할 수 있다.</p>, <p>구글은 기자들을 대상으로 한 데모에서 제미나이가 차트의 기존 스크린샷을 찍고, 수백 페이지에 달하는 연구 자료를 새로운 데이터로 분석한 다음, 새로운 정보로 차트를 업데이트하는 기능을 보여줬다. 또 다른 예로 제미나이에게 팬으로 요리하던 오믈렛 사진을 보여주며 오믈렛이 아직 익지 않았는지 물어보자(텍스트가 아닌 음성으로) 제미나이는 “달걀이 아직 묽어서 안 익었다”라고 대답했다.</p>, <p>하지만 대부분의 사람들이 제미나이가 가진 능력을 제대로 경험해 보려면 좀 더 기다려야 한다. 이번에 출시된 버전은 구글의 텍스트 기반 검색 챗봇인 바드(Bard)의 백엔드(back end)로, 구글은 제미나이가 바드에 더 발전된 추론, 계획, 이해 기능을 선사해줄 것으로 기대했다. 제미나이의 정식 버전은 앞으로 몇 달에 걸쳐 단계적으로 출시될 예정이다. 제미나이가 성능을 강화한 새로운 바드는 우선 유럽연합(EU)과 영국을 제외한 170여 개국에서 영어로 제공될 예정이다. 이는 구글이 현지 규제 당국과 ’조율‘하기 위한 조치라고 바드를 총괄하는 시시 샤오(Sissie Hsiao) 구글 부사장이 밝혔다.</p>, <p>제미나이는 울트라, 프로, 나노라는 세 가지 형태로 제공된다. 울트라는 모든 기능을 갖춘 버전이며, 프로와 나노는 더 제한된 컴퓨팅 리소스로 돌아가는 애플리케이션용이다. 나노는 구글의 신형 픽셀 휴대폰을 비롯한 여러 기기에서 실행되도록 설계됐다. 개발자와 기업은 12월 13일부터 제미나이 프로에 액세스할 수 있다. 가장 강력한 모델인 제미나이 울트라는 광범위한 신뢰와 안전 점검을 거친 후 내년 초에 출시될 예정이라고 구글 경영진은 밝혔다.</p>, <p>피차이는 “제미나이 모델의 시대가 왔다고 생각한다”면서 “이것이 바로 구글 딥마인드가 AI를 구축하고 발전시키는 방식이다. 따라서 이것은 항상 우리의 AI 기술 발전의 최전선을 대표할 것”이라고 말했다.</p>, <p>오픈AI의 가장 강력한 모델인 GPT-4는 현재 업계 최고 표준으로 여겨지고 있다. 구글은 제미나이가 오픈AI의 이전 모델인 GPT 3.5보다 성능이 뛰어나다고 자랑했지만, 구글 경영진은 그렇다면 제미나이가 GPT-4를 얼마나 뛰어넘는지에 대한 질문에 대한 답을 회피했다.</p>, <p>하지만 구글은 특히 MMLU(massive multitask language understanding, 대규모 다중작업 언어 이해) 벤치마크(테스트) 점수를 강조했다. 이것은 독해력과 대학 수학 및 물리학과 경제학과 사회과학 객관식 퀴즈 등 텍스트와 이미지가 포함된 작업에서 모델의 성능을 측정하기 위해 고안된 일련의 테스트다. 피차이는 “텍스트만으로 구성된 문제에서 제미나이는 90%, 인간 전문가는 약 89%의 점수를 받았다”고 설명했다. GPT-4는 이러한 유형의 문제에서 86%의 점수를 받았다. 멀티모달 문제에서는 제미나이가 59%, GPT-4가 57%의 점수를 받았다. 피차이는 “제미나이는 이 임곗값(GPT-4의 점수)을 넘어선 최초의 모델이다”라고 말했다.</p>, <p>뉴멕시코에 소재한 산타페 연구소에서 AI 연구원으로 있는 멜라니 미첼(Melanie Mitchell)은 벤치마크 데이터 세트에 대한 제미나이의 성능을 매우 인상적이라고 평가했다. 그러면서 “제미나이가 매우 정교한 AI 시스템인 것은 분명하지만 실제로 GPT-4보다 훨씬 더 능력이 뛰어난지는 분명하지 않다”고 덧붙였다.</p>, <p>제미나이의 벤치마크 점수는 좋지만, 학습 데이터에 무엇이 들어있는지 모르기 때문에 이 수치를 어떻게 해석해야 할지 알기 어렵다고 스탠퍼드 대학교의 기초 모델 연구 센터의 책임자인 퍼시 리앙(Percy Liang)은 밝혔다.</p>, <p>또한 미첼은 제미나이가 이미지와 비디오보다 언어와 코드 벤치마크에서 훨씬 더 우수한 성능을 보인다는 점을 지적하며 “멀티모달 기반 모델이 많은 작업에 일반적이고 강력하고 유용하게 사용되려면 아직 갈 길이 멀다”고 주장했다.</p>, <p>구글 딥마인드는 인간 테스터들로부터 받은 피드백을 통해 제미나이가 더 사실에 근거해 정확성을 높이고, 요청이 있을 때 출처를 제시하고, 대답할 수 없는 질문에 직면했을 때 말도 안 되는 말을 뱉어내지 않고 회피하는 훈련을 시켰다. 딥마인드는 이를 통해 AI의 고질적 문제로 거론되는, 오답을 마치 정답처럼 말하는 환각(hallucination) 문제를 완화할 수 있다고 주장한다. 그러나 기반 기술을 근본적으로 개편하지 않는 한 이런 대규모언어모델(large language model, 이하 LLM)은 계속해서 새로운 것을 만들어낼 것이다.</p>, <p>전문가들은 구글이 제미나이의 성능을 측정하는 데 사용한 벤치마크가 엄청난 통찰력을 주는지 불분명하며, 투명한 정보가 확보되지 않으면 구글의 주장을 확인하기 어렵다고 말했다.</p>, <p>에밀리 벤더(Emily Bender) 워싱턴 대학교 컴퓨터 언어학 교수는 “구글은 제미나이를 다양한 방식으로 사용할 수 있는 범용 모델인 만능 기계로 광고하고 있지만 이렇게 다양한 용도로 사용될 것으로 예상되는 모델을 평가할 때 제한적인 벤치마크만을 사용하고 있다”면서 “이는 사실상 철저한 평가가 불가능하다는 것을 의미한다”고 주장했다.</p>, <p>샤 교수도 궁극적으로 일반 사용자에게는 경쟁 모델에 비해 점진적 수준으로 개선된 기능이 큰 차이를 느끼지 못하게 만들 수도 있다고 지적하며 “사람들이 ‘아, 이게 더 낫네’라고 생각하는 것보다 편의성, 브랜드 인지도, 기존 통합 여부가 더 중요하다”는 의견을 내놓았다.</p>, <p>제미나이는 등장하기까지 오랜 시간이 걸렸다. 구글은 2023년 4월 자사의 AI 연구 부서인 구글 브레인(Google Brain)과 런던에 소재한 알파벳의 AI 연구소인 딥마인드를 합병한다고 발표했다. 이에 따라 구글은 3월에 출시된 챗GPT 유료 버전의 근간이 되는 오픈AI의 가장 진보된 LLM인 GPT-4에 대한 대항마를 개발하기 위해 1년 내내 노력해 왔다.</p>, <p>구글은 AI 분야에서 경쟁사를 따라잡고 추월할 수 있다는 것을 투자자들에게 보여줘야 한다는 강한 압박을 받아왔다. 구글은 수년간 강력한 AI 모델을 개발해 사용해 왔지만, 평판 손상과 안전 문제를 우려한 나머지 대중이 사용할 수 있는 도구를 출시하는 데 주저해 왔다.</p>, <p>제프리 힌튼(Geoffrey Hinton) 전 구글 연구원은 지난 4월 회사를 떠나면서 MIT 테크놀로지 리뷰와의 인터뷰에서 “구글은 이러한 기술을 대중에게 공개하는 데 매우 신중했다”면서 “일어날 수 있는 나쁜 일이 너무 많아서 구글의 평판을 망치고 싶지 않았기 때문이다”고 말했다. 신뢰할 수 없거나 시장성이 없어 보이는 기술에 직면했을 때 구글은 더 큰 위험을 놓칠 때까지 안전하게 행동했다.</p>, <p>구글은 결함이 있는 제품을 출시하면 역효과가 날 수 있다는 사실을 뼈저리게 배워왔다. 지난 2월에 챗GPT의 경쟁 제품인 바드를 공개했을 때 과학자들은 곧 바드가 내세운 광고 자체에서 이미 사실적 오류가 있음을 발견했다. 이 사건으로 인해 구글의 시가총액은 1,000억 달러(약 131조 원)나 증발했다.</p>, <p>지난 5월 구글은 이메일부터 생산성 소프트웨어에 이르기까지 대부분의 제품에 생성형 AI를 도입한다고 발표했다. 하지만 결과적으로 이는 비평가들에게 깊은 인상을 남기지 못했다. 예를 들어, 챗봇이 존재하지 않는 이메일을 참조하는 등의 문제가 발생했기 때문이다.</p>, <p>이는 LLM에서 일관되게 발생하는 문제이다. 이것이 사람이 쓴 것처럼 보이는 텍스트를 생성하는 데는 뛰어나지만, 생성형 AI 시스템은 정기적으로 무언가를 지어낸다. 그리고 이런 문제가 있는 것도 아니다. 또한 해킹하기가 쉽고 편견으로 가득 차 있다. 더불어 이러한 시스템을 사용하는 과정에서 환경 오염이 심하다.</p>, <p>구글은 이러한 문제들과 환각 문제 중 어느 것도 해결하지 못했다. 구글이 후자의 문제에 대한 해결책으로 사람들이 구글 검색을 사용해 챗봇의 답변을 다시 확인할 수 있게 했지만 이는 온라인 검색 결과 자체의 정확성에 의존하는 방식이다.</p>, <p>제미나이는 이러한 생성형 AI의 정점일 수도 있다. 하지만 LLM을 기반으로 구축된 AI가 앞으로 어디로 향할지는 불분명하다. 일부 연구원들은 우리가 다음 정점에 도달할 기슭에 서 있는 게 아니라 정체기에 들어선 것일 수 있다고 생각한다.</p>, <p>하지만 피차이는 낙관적이다. 그는 “앞으로도 많은 (발전의) 여지가 있다”면서 이렇게 덧붙였다. “나는 멀티모달이 엄청나게 될 거라고 생각한다. 이 모델들에 더 많은 추론을 하도록 가르치면 점점 더 큰 혁신이 일어날 것이다. 더 깊은 혁신은 아직 오지 않았다. 모든 점을 종합해 봤을 때 우리는 진정 이제 아주 시작 단계에 서 있을 뿐이라고 느낀다.”</p>, <p class=\"stb_form_modal_text\"> 뉴스레터 발송을 위한 최소한의 개인정보를 수집하고 이용합니다. 수집된 정보는 발송 외 다른 목적으로 이용되지 않으며, 서비스가 종료되거나 구독을 해지할 경우 즉시 파기됩니다.</p>, <p class=\"access-count\">미리보기 <span class=\"yellow\">2회</span> 중 <span class=\"yellow\">1회</span></p>, <p class=\"restriction-msg-txt\">MIT Technology Review 구독을 시작하시면 모든 기사를 제한 없이 이용할 수 있습니다.</p>, <p class=\"publisher\"></p>, <p class=\"slogan\">MIT 테크놀로지 리뷰는 기술로 세상을 이롭게 한다는 미션을 추구합니다.</p>, <p class=\"company-info-txt\">MIT Technology Review Korean Edition 편집장 : Mat Honan |\n",
      " 한국 에디션 발행인 &amp; 편집인 : 박세정 | <!-- 편집장 :  | --> 개인정보관리책임자 : 박세정<br/> 주소 : 서울특별시 종로구 새문안로 92 (신문로1가), 5층 503호 | 대표번호 : 02-2038-3690 | 이메일 : customer@technologyreview.kr<br/> 사업자등록번호 : 주식회사 디엠케이글로벌 451-88-00827 <a href=\"https://www.ftc.go.kr/bizCommPop.do?wrkr_no=4518800827\" target=\"_blank\">[사업자정보확인]</a> | 통신판매업 신고번호 : 제 2018-서울영등포-0513호<br/> 정보간행물 신고번호 : 종로 다00053</p>, <p><a href=\"https://www.technologyreview.kr/account/subscribe/\" rel=\"noopener noreferrer\" target=\"_blank\"><img alt=\"\" class=\"alignnone wp-image-25820\" height=\"426\" loading=\"lazy\" sizes=\"(max-width: 502px) 100vw, 502px\" src=\"https://www.technologyreview.kr/wp-content/uploads/2023/07/팝업-및-공지_새해-할인-캠페인.jpg\" srcset=\"https://www.technologyreview.kr/wp-content/uploads/2023/07/팝업-및-공지_새해-할인-캠페인.jpg 1246w, https://www.technologyreview.kr/wp-content/uploads/2023/07/팝업-및-공지_새해-할인-캠페인-300x254.jpg 300w, https://www.technologyreview.kr/wp-content/uploads/2023/07/팝업-및-공지_새해-할인-캠페인-1024x869.jpg 1024w, https://www.technologyreview.kr/wp-content/uploads/2023/07/팝업-및-공지_새해-할인-캠페인-768x652.jpg 768w, https://www.technologyreview.kr/wp-content/uploads/2023/07/팝업-및-공지_새해-할인-캠페인-250x212.jpg 250w, https://www.technologyreview.kr/wp-content/uploads/2023/07/팝업-및-공지_새해-할인-캠페인-640x543.jpg 640w\" width=\"502\"/></a></p>]\n"
     ]
    }
   ],
   "source": [
    "data = soup.select('p')\n",
    "print(data)"
   ]
  },
  {
   "cell_type": "code",
   "execution_count": 33,
   "id": "b9df2523",
   "metadata": {
    "ExecuteTime": {
     "end_time": "2023-12-07T11:29:56.997089Z",
     "start_time": "2023-12-07T11:29:56.991049Z"
    }
   },
   "outputs": [
    {
     "name": "stdout",
     "output_type": "stream",
     "text": [
      "34\n"
     ]
    }
   ],
   "source": [
    "count = 0\n",
    "for i in data:\n",
    "    text_count = i.text.count(\"제미나이\")\n",
    "    count += text_count #count = count + text_count\n",
    "print(count)"
   ]
  },
  {
   "cell_type": "code",
   "execution_count": 51,
   "id": "4799e6fe",
   "metadata": {
    "ExecuteTime": {
     "end_time": "2023-12-07T11:39:02.585139Z",
     "start_time": "2023-12-07T11:39:02.579659Z"
    }
   },
   "outputs": [
    {
     "data": {
      "text/plain": [
       "'MIT Technology Review Korean Edition 편집장 : Mat Honan |\\n 한국 에디션 발행인 & 편집인 : 박세정 |  개인정보관리책임자 : 박세정 주소 : 서울특별시 종로구 새문안로 92 (신문로1가), 5층 503호 | 대표번호 : 02-2038-3690 | 이메일 : customer@technologyreview.kr 사업자등록번호 : 주식회사 디엠케이글로벌 451-88-00827 [사업자정보확인] | 통신판매업 신고번호 : 제 2018-서울영등포-0513호 정보간행물 신고번호 : 종로 다00053'"
      ]
     },
     "execution_count": 51,
     "metadata": {},
     "output_type": "execute_result"
    }
   ],
   "source": [
    "data[35].text"
   ]
  },
  {
   "cell_type": "code",
   "execution_count": 80,
   "id": "72ea6878",
   "metadata": {
    "ExecuteTime": {
     "end_time": "2023-12-07T11:56:35.631866Z",
     "start_time": "2023-12-07T11:56:35.627325Z"
    }
   },
   "outputs": [],
   "source": [
    "html = '''<td>some text</td>\n",
    "<td></td>\n",
    "<td class=\"drerer\"><p>more text</p></td>\n",
    "<td>even <p>more text</p></td>'''"
   ]
  },
  {
   "cell_type": "code",
   "execution_count": 94,
   "id": "64c612f7",
   "metadata": {
    "ExecuteTime": {
     "end_time": "2023-12-07T12:12:49.834780Z",
     "start_time": "2023-12-07T12:12:49.826790Z"
    }
   },
   "outputs": [
    {
     "name": "stdout",
     "output_type": "stream",
     "text": [
      "[<td>some text</td>, <td></td>, <td class=\"drerer\"><p>more text</p></td>, <td>even <p>more text</p></td>]\n",
      "이건 text야 some text\n",
      "이건 string이야 some text\n",
      "이건 text야 \n",
      "이건 string이야 None\n",
      "이건 text야 more text\n",
      "이건 string이야 more text\n",
      "이건 text야 even more text\n",
      "이건 string이야 None\n"
     ]
    }
   ],
   "source": [
    "example = BeautifulSoup(html, 'html.parser')\n",
    "test = example.find_all(\"td\")\n",
    "print(test)\n",
    "for i in test:\n",
    "    print(\"이건 text야\",i.text)\n",
    "    print(\"이건 string이야\",i.string)"
   ]
  },
  {
   "cell_type": "code",
   "execution_count": 83,
   "id": "17a6de0e",
   "metadata": {
    "ExecuteTime": {
     "end_time": "2023-12-07T11:57:17.502783Z",
     "start_time": "2023-12-07T11:57:17.497633Z"
    }
   },
   "outputs": [],
   "source": [
    "html3 = \"\"\"\n",
    "<body>\n",
    "  <div>\n",
    "    <h1>오늘 할 일</h1>\n",
    "    <ol id=\"today\">\n",
    "      <li class=\"item\">자바스크립트 공부</li>\n",
    "      <li class=\"item\">고양이 화장실 청소</li>\n",
    "      <li class=\"item\">고양이 장난감 쇼핑</li>\n",
    "     </ol>\n",
    "     <h1>내일 할 일</h1>\n",
    "     <ol id=\"tomorrow\" href=\"https://www.codeit.kr\">\n",
    "     \t<li class=\"item\"><a href=\"https://developer.mozilla.org/ko/docs/Web/JavaScript\">자바스크립트 공부</a></li>\n",
    "\t<li class=\"item\">뮤지컬 공연 예매</li>\n",
    "\t<li class=\"item\">유튜브 시청</li>\n",
    "      </ol>\n",
    "  </div>\n",
    "  <script src=\"index.js\"></script>\n",
    "</body>\n",
    "\"\"\""
   ]
  },
  {
   "cell_type": "code",
   "execution_count": 93,
   "id": "0130f5c5",
   "metadata": {
    "ExecuteTime": {
     "end_time": "2023-12-07T11:59:42.949269Z",
     "start_time": "2023-12-07T11:59:42.941139Z"
    }
   },
   "outputs": [
    {
     "name": "stdout",
     "output_type": "stream",
     "text": [
      "[<li class=\"item\">자바스크립트 공부</li>, <li class=\"item\">고양이 화장실 청소</li>, <li class=\"item\">고양이 장난감 쇼핑</li>, <li class=\"item\"><a href=\"https://developer.mozilla.org/ko/docs/Web/JavaScript\">자바스크립트 공부</a></li>, <li class=\"item\">뮤지컬 공연 예매</li>, <li class=\"item\">유튜브 시청</li>]\n",
      "['item']\n",
      "이건 text야 자바스크립트 공부\n",
      "이건 string이야 자바스크립트 공부\n",
      "['item']\n",
      "이건 text야 고양이 화장실 청소\n",
      "이건 string이야 고양이 화장실 청소\n",
      "['item']\n",
      "이건 text야 고양이 장난감 쇼핑\n",
      "이건 string이야 고양이 장난감 쇼핑\n",
      "['item']\n",
      "이건 text야 자바스크립트 공부\n",
      "이건 string이야 자바스크립트 공부\n",
      "['item']\n",
      "이건 text야 뮤지컬 공연 예매\n",
      "이건 string이야 뮤지컬 공연 예매\n",
      "['item']\n",
      "이건 text야 유튜브 시청\n",
      "이건 string이야 유튜브 시청\n"
     ]
    }
   ],
   "source": [
    "example2 = BeautifulSoup(html3, 'html.parser')\n",
    "test2 = example2.find_all(\"li\")\n",
    "print(test2)\n",
    "for i in test2:\n",
    "    print(i['class'])\n",
    "    print(\"이건 text야\",i.text)\n",
    "    print(\"이건 string이야\",i.string)"
   ]
  },
  {
   "cell_type": "code",
   "execution_count": null,
   "id": "270a9543",
   "metadata": {},
   "outputs": [],
   "source": []
  }
 ],
 "metadata": {
  "kernelspec": {
   "display_name": "Python 3 (ipykernel)",
   "language": "python",
   "name": "python3"
  },
  "language_info": {
   "codemirror_mode": {
    "name": "ipython",
    "version": 3
   },
   "file_extension": ".py",
   "mimetype": "text/x-python",
   "name": "python",
   "nbconvert_exporter": "python",
   "pygments_lexer": "ipython3",
   "version": "3.11.5"
  },
  "toc": {
   "base_numbering": 1,
   "nav_menu": {},
   "number_sections": true,
   "sideBar": true,
   "skip_h1_title": false,
   "title_cell": "Table of Contents",
   "title_sidebar": "Contents",
   "toc_cell": false,
   "toc_position": {},
   "toc_section_display": true,
   "toc_window_display": false
  }
 },
 "nbformat": 4,
 "nbformat_minor": 5
}
