{
 "cells": [
  {
   "cell_type": "markdown",
   "id": "93945fa0",
   "metadata": {},
   "source": [
    "# 파일 생성"
   ]
  },
  {
   "cell_type": "code",
   "execution_count": 1,
   "id": "23562317",
   "metadata": {
    "ExecuteTime": {
     "end_time": "2023-12-04T04:45:31.303053Z",
     "start_time": "2023-12-04T04:45:31.290412Z"
    }
   },
   "outputs": [],
   "source": [
    "f = open(\"새파일.txt\", 'w')\n",
    "f.close()"
   ]
  },
  {
   "cell_type": "code",
   "execution_count": 2,
   "id": "5263dd86",
   "metadata": {
    "ExecuteTime": {
     "end_time": "2023-12-04T04:46:53.770319Z",
     "start_time": "2023-12-04T04:46:53.765355Z"
    }
   },
   "outputs": [],
   "source": [
    "f = open(\"C:\\workspace\\python\\WASSUP/새파일.txt\", 'w')\n",
    "f.close()"
   ]
  },
  {
   "cell_type": "code",
   "execution_count": 3,
   "id": "433f166c",
   "metadata": {
    "ExecuteTime": {
     "end_time": "2023-12-04T05:00:15.785829Z",
     "start_time": "2023-12-04T05:00:15.777516Z"
    }
   },
   "outputs": [],
   "source": [
    "f = open(\"C:\\workspace\\python\\WASSUP/새파일.txt\", 'w')\n",
    "for i in range(1, 11):\n",
    "    data = \"%d번째 줄입니다.\\n\" % i\n",
    "    f.write(data)\n",
    "f.close()"
   ]
  },
  {
   "cell_type": "code",
   "execution_count": 4,
   "id": "6aa68f54",
   "metadata": {
    "ExecuteTime": {
     "end_time": "2023-12-04T05:02:05.995003Z",
     "start_time": "2023-12-04T05:02:05.987427Z"
    }
   },
   "outputs": [
    {
     "name": "stdout",
     "output_type": "stream",
     "text": [
      "1번째 줄입니다.\n",
      "\n"
     ]
    }
   ],
   "source": [
    "f = open(\"C:\\workspace\\python\\WASSUP/새파일.txt\", 'r')\n",
    "line = f.readline()\n",
    "print(line)\n",
    "f.close()"
   ]
  },
  {
   "cell_type": "code",
   "execution_count": 5,
   "id": "7b7226de",
   "metadata": {
    "ExecuteTime": {
     "end_time": "2023-12-04T05:02:29.820592Z",
     "start_time": "2023-12-04T05:02:29.812712Z"
    }
   },
   "outputs": [
    {
     "name": "stdout",
     "output_type": "stream",
     "text": [
      "1번째 줄입니다.\n",
      "\n",
      "2번째 줄입니다.\n",
      "\n",
      "3번째 줄입니다.\n",
      "\n",
      "4번째 줄입니다.\n",
      "\n",
      "5번째 줄입니다.\n",
      "\n",
      "6번째 줄입니다.\n",
      "\n",
      "7번째 줄입니다.\n",
      "\n",
      "8번째 줄입니다.\n",
      "\n",
      "9번째 줄입니다.\n",
      "\n",
      "10번째 줄입니다.\n",
      "\n"
     ]
    }
   ],
   "source": [
    "f = open(\"C:\\workspace\\python\\WASSUP/새파일.txt\", 'r')\n",
    "while True:\n",
    "    line = f.readline()\n",
    "    if not line: break\n",
    "    print(line)\n",
    "f.close()"
   ]
  },
  {
   "cell_type": "code",
   "execution_count": 6,
   "id": "94c7775f",
   "metadata": {
    "ExecuteTime": {
     "end_time": "2023-12-04T05:09:28.649996Z",
     "start_time": "2023-12-04T05:09:28.643045Z"
    }
   },
   "outputs": [
    {
     "name": "stdout",
     "output_type": "stream",
     "text": [
      "1번째 줄입니다.\n",
      "2번째 줄입니다.\n",
      "3번째 줄입니다.\n",
      "4번째 줄입니다.\n",
      "5번째 줄입니다.\n",
      "6번째 줄입니다.\n",
      "7번째 줄입니다.\n",
      "8번째 줄입니다.\n",
      "9번째 줄입니다.\n",
      "10번째 줄입니다.\n",
      "\n"
     ]
    }
   ],
   "source": [
    "f = open(\"C:\\workspace\\python\\WASSUP/새파일.txt\", 'r')\n",
    "data = f.read()\n",
    "print(data)\n",
    "f.close()"
   ]
  },
  {
   "cell_type": "code",
   "execution_count": 7,
   "id": "ddfdc032",
   "metadata": {
    "ExecuteTime": {
     "end_time": "2023-12-04T05:09:45.414790Z",
     "start_time": "2023-12-04T05:09:45.409621Z"
    }
   },
   "outputs": [
    {
     "name": "stdout",
     "output_type": "stream",
     "text": [
      "1번째 줄입니다.\n",
      "\n",
      "2번째 줄입니다.\n",
      "\n",
      "3번째 줄입니다.\n",
      "\n",
      "4번째 줄입니다.\n",
      "\n",
      "5번째 줄입니다.\n",
      "\n",
      "6번째 줄입니다.\n",
      "\n",
      "7번째 줄입니다.\n",
      "\n",
      "8번째 줄입니다.\n",
      "\n",
      "9번째 줄입니다.\n",
      "\n",
      "10번째 줄입니다.\n",
      "\n"
     ]
    }
   ],
   "source": [
    "f = open(\"C:\\workspace\\python\\WASSUP/새파일.txt\", 'r')\n",
    "for line in f:\n",
    "    print(line)\n",
    "f.close()"
   ]
  },
  {
   "cell_type": "code",
   "execution_count": 8,
   "id": "701eb0f3",
   "metadata": {
    "ExecuteTime": {
     "end_time": "2023-12-04T05:10:11.961401Z",
     "start_time": "2023-12-04T05:10:11.954735Z"
    }
   },
   "outputs": [],
   "source": [
    "f = open(\"C:\\workspace\\python\\WASSUP/새파일.txt\",'a')\n",
    "for i in range(11, 20):\n",
    "    data = \"%d번째 줄입니다.\\n\" % i\n",
    "    f.write(data)\n",
    "f.close()"
   ]
  },
  {
   "cell_type": "code",
   "execution_count": 9,
   "id": "c0fd70b8",
   "metadata": {
    "ExecuteTime": {
     "end_time": "2023-12-04T05:46:58.909130Z",
     "start_time": "2023-12-04T05:46:58.900913Z"
    }
   },
   "outputs": [
    {
     "name": "stdout",
     "output_type": "stream",
     "text": [
      "3\n",
      "7\n"
     ]
    }
   ],
   "source": [
    "result = 0\n",
    "\n",
    "def add(num):\n",
    "    global result\n",
    "    result += num  # 결괏값(result)에 입력값(num) 더하기\n",
    "    return result  # 결괏값 리턴\n",
    "\n",
    "print(add(3))\n",
    "print(add(4))"
   ]
  },
  {
   "cell_type": "code",
   "execution_count": 10,
   "id": "ad43e9b9",
   "metadata": {
    "ExecuteTime": {
     "end_time": "2023-12-04T05:47:34.672793Z",
     "start_time": "2023-12-04T05:47:34.667671Z"
    }
   },
   "outputs": [
    {
     "name": "stdout",
     "output_type": "stream",
     "text": [
      "3\n",
      "7\n",
      "3\n",
      "10\n"
     ]
    }
   ],
   "source": [
    "result1 = 0\n",
    "result2 = 0\n",
    "\n",
    "def add1(num):  # 계산기1\n",
    "    global result1\n",
    "    result1 += num\n",
    "    return result1\n",
    "\n",
    "def add2(num):  # 계산기2\n",
    "    global result2\n",
    "    result2 += num\n",
    "    return result2\n",
    "\n",
    "print(add1(3))\n",
    "print(add1(4))\n",
    "print(add2(3))\n",
    "print(add2(7))"
   ]
  },
  {
   "cell_type": "code",
   "execution_count": 11,
   "id": "6f56da1c",
   "metadata": {
    "ExecuteTime": {
     "end_time": "2023-12-04T05:48:53.604664Z",
     "start_time": "2023-12-04T05:48:53.599215Z"
    },
    "scrolled": true
   },
   "outputs": [
    {
     "name": "stdout",
     "output_type": "stream",
     "text": [
      "3\n",
      "7\n",
      "3\n",
      "10\n"
     ]
    }
   ],
   "source": [
    "class Calculator:\n",
    "    def __init__(self):\n",
    "        self.result = 0\n",
    "\n",
    "    def add(self, num):\n",
    "        self.result += num\n",
    "        return self.result\n",
    "\n",
    "cal1 = Calculator()\n",
    "cal2 = Calculator()\n",
    "\n",
    "print(cal1.add(3))\n",
    "print(cal1.add(4))\n",
    "print(cal2.add(3))\n",
    "print(cal2.add(7))"
   ]
  },
  {
   "cell_type": "code",
   "execution_count": 12,
   "id": "3574992a",
   "metadata": {
    "ExecuteTime": {
     "end_time": "2023-12-04T05:58:59.811770Z",
     "start_time": "2023-12-04T05:58:59.804172Z"
    }
   },
   "outputs": [
    {
     "name": "stdout",
     "output_type": "stream",
     "text": [
      "3\n",
      "7\n",
      "3\n",
      "10\n"
     ]
    }
   ],
   "source": [
    "class Calculator:\n",
    "    def __init__(self):\n",
    "        self.result = 0\n",
    "\n",
    "    def add(self, num):\n",
    "        self.result += num\n",
    "        return self.result\n",
    "\n",
    "cal1 = Calculator()\n",
    "cal2 = Calculator()\n",
    "\n",
    "print(cal1.add(3))\n",
    "print(cal1.add(4))\n",
    "print(cal2.add(3))\n",
    "print(cal2.add(7))"
   ]
  },
  {
   "cell_type": "code",
   "execution_count": 13,
   "id": "f65c9bb8",
   "metadata": {
    "ExecuteTime": {
     "end_time": "2023-12-04T06:17:31.838449Z",
     "start_time": "2023-12-04T06:17:31.832897Z"
    }
   },
   "outputs": [],
   "source": [
    "class FourCal:\n",
    "     def setdata(self, first, second):\n",
    "        self.first = first\n",
    "        self.second = second"
   ]
  },
  {
   "cell_type": "code",
   "execution_count": 14,
   "id": "29a9493d",
   "metadata": {
    "ExecuteTime": {
     "end_time": "2023-12-04T06:19:28.341557Z",
     "start_time": "2023-12-04T06:19:28.336617Z"
    }
   },
   "outputs": [],
   "source": [
    "a = FourCal()\n",
    "a.setdata(4, 2)"
   ]
  },
  {
   "cell_type": "code",
   "execution_count": null,
   "id": "1bac3bf2",
   "metadata": {},
   "outputs": [],
   "source": [
    "class FourCal:\n",
    "    def __init__(self, first, second):\n",
    "        self.first = first\n",
    "        self.second = second\n",
    "    def add(self):\n",
    "        result = self.first + self.second\n",
    "        return result\n",
    "    def mul(self):\n",
    "        result = self.first * self.second\n",
    "        return result\n",
    "    def sub(self):\n",
    "        result = self.first - self.second\n",
    "        return result\n",
    "    def div(self):\n",
    "        result = self.first / self.second\n",
    "        return result"
   ]
  },
  {
   "cell_type": "code",
   "execution_count": 15,
   "id": "331ea21a",
   "metadata": {
    "ExecuteTime": {
     "end_time": "2023-12-04T06:49:25.910858Z",
     "start_time": "2023-12-04T06:49:25.903399Z"
    }
   },
   "outputs": [],
   "source": [
    "class Account:\n",
    "\n",
    "    def __init__(self, name, balance):\n",
    "        self.name = name\n",
    "        self.balance = balance\n",
    "        \n",
    "    def __str__(self):\n",
    "        print(self.account_count)\n",
    "\n",
    "    def deposit(self, amount):\n",
    "        if amount >= 1:\n",
    "            self.balance += amount\n",
    "\n",
    "    def withdraw(self, amount):\n",
    "        if self.balance > amount:\n",
    "            self.balance -= amount"
   ]
  },
  {
   "cell_type": "code",
   "execution_count": null,
   "id": "ee6206da",
   "metadata": {},
   "outputs": [],
   "source": []
  },
  {
   "cell_type": "code",
   "execution_count": null,
   "id": "96d0df1f",
   "metadata": {},
   "outputs": [],
   "source": []
  }
 ],
 "metadata": {
  "kernelspec": {
   "display_name": "Python 3 (ipykernel)",
   "language": "python",
   "name": "python3"
  },
  "language_info": {
   "codemirror_mode": {
    "name": "ipython",
    "version": 3
   },
   "file_extension": ".py",
   "mimetype": "text/x-python",
   "name": "python",
   "nbconvert_exporter": "python",
   "pygments_lexer": "ipython3",
   "version": "3.11.5"
  },
  "toc": {
   "base_numbering": 1,
   "nav_menu": {},
   "number_sections": true,
   "sideBar": true,
   "skip_h1_title": false,
   "title_cell": "Table of Contents",
   "title_sidebar": "Contents",
   "toc_cell": false,
   "toc_position": {},
   "toc_section_display": true,
   "toc_window_display": false
  }
 },
 "nbformat": 4,
 "nbformat_minor": 5
}
