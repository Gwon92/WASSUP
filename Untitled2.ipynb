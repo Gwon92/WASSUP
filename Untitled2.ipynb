{
 "cells": [
  {
   "cell_type": "code",
   "execution_count": 2,
   "id": "fd134e00",
   "metadata": {
    "ExecuteTime": {
     "end_time": "2023-12-14T11:53:03.307780Z",
     "start_time": "2023-12-14T11:52:53.506256Z"
    }
   },
   "outputs": [],
   "source": [
    "from selenium import webdriver\n",
    "from selenium.webdriver.common.by import By\n",
    "from selenium.webdriver.chrome.options import Options\n",
    "import time, random, os, pandas as pd\n",
    "\n",
    "options = Options()\n",
    "#options.add_argument(\"--start-maximized\") \n",
    "#options.add_argument(\"--headless=new\") \n",
    "options.add_experimental_option(\"detach\", True) \n",
    "\n",
    "d = webdriver.Chrome(options=options)\n",
    "\n",
    "#app_name = input(\"App 이름은 무엇인가요? : \")\n",
    "#app_url = input(\"App URL을 입력해주세요 : \")\n",
    "#scroll = int(int(input(\"몇 개의 리뷰를 가져올까요?: \"))/44)\n",
    "now = time.localtime()\n",
    "date_format = '%04d%02d%02d'%(now.tm_year, now.tm_mon, now.tm_mday)\n",
    "f_dir = f'{os.getcwd()}\\GoogleStoreReview'\n",
    "\n",
    "#test용###\n",
    "app_url = \"https://play.google.com/store/apps/details?id=com.ilevit.alwayz.android&hl=ko-KR\"\n",
    "app_name= 'test'\n",
    "scroll = 10\n",
    "#####\n",
    "\n",
    "d.get(app_url)\n",
    "\n",
    "time.sleep(random.randint(3,5))"
   ]
  },
  {
   "cell_type": "code",
   "execution_count": 8,
   "id": "569bd271",
   "metadata": {
    "ExecuteTime": {
     "end_time": "2023-12-14T11:56:55.875326Z",
     "start_time": "2023-12-14T11:56:48.103025Z"
    }
   },
   "outputs": [
    {
     "ename": "AttributeError",
     "evalue": "type object 'By' has no attribute 'CSSSELECTOR'",
     "output_type": "error",
     "traceback": [
      "\u001b[1;31m---------------------------------------------------------------------------\u001b[0m",
      "\u001b[1;31mAttributeError\u001b[0m                            Traceback (most recent call last)",
      "Cell \u001b[1;32mIn[8], line 27\u001b[0m\n\u001b[0;32m     24\u001b[0m     \u001b[38;5;28;01mreturn\u001b[39;00m review\n\u001b[0;32m     26\u001b[0m result\u001b[38;5;241m=\u001b[39m[]\n\u001b[1;32m---> 27\u001b[0m result\u001b[38;5;241m.\u001b[39mappend(text())\n\u001b[0;32m     29\u001b[0m \u001b[38;5;66;03m#result = [text(x) for x in data]\u001b[39;00m\n\u001b[0;32m     30\u001b[0m \n\u001b[0;32m     31\u001b[0m \u001b[38;5;66;03m#파일로 저장\u001b[39;00m\n\u001b[0;32m     32\u001b[0m df \u001b[38;5;241m=\u001b[39m pd\u001b[38;5;241m.\u001b[39mDataFrame(result)\n",
      "Cell \u001b[1;32mIn[8], line 23\u001b[0m, in \u001b[0;36mtext\u001b[1;34m()\u001b[0m\n\u001b[0;32m     21\u001b[0m     review[\u001b[38;5;124m'\u001b[39m\u001b[38;5;124mrat\u001b[39m\u001b[38;5;124m'\u001b[39m] \u001b[38;5;241m=\u001b[39m \u001b[38;5;28mlen\u001b[39m(i\u001b[38;5;241m.\u001b[39mfind_elements(By\u001b[38;5;241m.\u001b[39mCSS_SELECTOR, \u001b[38;5;124m'\u001b[39m\u001b[38;5;124mspan.Z1Dz7b\u001b[39m\u001b[38;5;124m'\u001b[39m))\n\u001b[0;32m     22\u001b[0m     review[\u001b[38;5;124m'\u001b[39m\u001b[38;5;124mtext\u001b[39m\u001b[38;5;124m'\u001b[39m] \u001b[38;5;241m=\u001b[39m i\u001b[38;5;241m.\u001b[39mfind_element(By\u001b[38;5;241m.\u001b[39mCSS_SELECTOR, \u001b[38;5;124m'\u001b[39m\u001b[38;5;124mdiv.h3YV2d\u001b[39m\u001b[38;5;124m'\u001b[39m)\u001b[38;5;241m.\u001b[39mtext\n\u001b[1;32m---> 23\u001b[0m     review[\u001b[38;5;124m'\u001b[39m\u001b[38;5;124mdate\u001b[39m\u001b[38;5;124m'\u001b[39m] \u001b[38;5;241m=\u001b[39m i\u001b[38;5;241m.\u001b[39mfind_element(By\u001b[38;5;241m.\u001b[39mCSSSELECTOR, \u001b[38;5;124m'\u001b[39m\u001b[38;5;124mspan.bp9Aid\u001b[39m\u001b[38;5;124m'\u001b[39m)\u001b[38;5;241m.\u001b[39mtext\n\u001b[0;32m     24\u001b[0m \u001b[38;5;28;01mreturn\u001b[39;00m review\n",
      "\u001b[1;31mAttributeError\u001b[0m: type object 'By' has no attribute 'CSSSELECTOR'"
     ]
    }
   ],
   "source": [
    "#더보기 클릭 열기\n",
    "moer ='/html/body/c-wiz[2]/div/div/div[2]/div[2]/div/div[1]/div[1]/c-wiz[4]/section/div/div[2]/div[5]/div/div/button/span'\n",
    "\n",
    "d.find_element(By.XPATH, moer).click()\n",
    "#moer.send_keys(Keys.ENTER)\n",
    "\n",
    "\n",
    "#페이지 스크롤링 \n",
    "for a in range(scroll):\n",
    "    block = d.find_element(By.CSS_SELECTOR, 'div.fysCi')\n",
    "    d.execute_script('arguments[0].scrollTop = arguments[0].scrollHeight', block ) \n",
    "\n",
    "#리뷰별로 찾고\n",
    "data = d.find_elements(By.CSS_SELECTOR, 'div.RHo1pe')\n",
    "\n",
    "#요소별 추출\n",
    "def text():\n",
    "    data = d.find_elements(By.CSS_SELECTOR, 'div.RHo1pe')\n",
    "    review={}\n",
    "    for i in data :\n",
    "        review['rat'] = len(i.find_elements(By.CSS_SELECTOR, 'span.Z1Dz7b'))\n",
    "        review['text'] = i.find_element(By.CSS_SELECTOR, 'div.h3YV2d').text\n",
    "        review['date'] = i.find_element(By.CSSSELECTOR, 'span.bp9Aid').text\n",
    "    return review\n",
    "\n",
    "result=[]\n",
    "result.append(text())\n",
    "\n",
    "#result = [text(x) for x in data]\n",
    "\n",
    "#파일로 저장\n",
    "df = pd.DataFrame(result)\n",
    "filename = f'GoogleStoreReview{appname}{scroll44}건_{date_format}.xlsx'\n",
    "df.to_excel(f_dir+\"\\\\\"+filename)\n",
    "print(f'====== {filename} 파일 저장 완료 ======')"
   ]
  }
 ],
 "metadata": {
  "kernelspec": {
   "display_name": "Python 3 (ipykernel)",
   "language": "python",
   "name": "python3"
  },
  "language_info": {
   "codemirror_mode": {
    "name": "ipython",
    "version": 3
   },
   "file_extension": ".py",
   "mimetype": "text/x-python",
   "name": "python",
   "nbconvert_exporter": "python",
   "pygments_lexer": "ipython3",
   "version": "3.11.5"
  },
  "toc": {
   "base_numbering": 1,
   "nav_menu": {},
   "number_sections": true,
   "sideBar": true,
   "skip_h1_title": false,
   "title_cell": "Table of Contents",
   "title_sidebar": "Contents",
   "toc_cell": false,
   "toc_position": {},
   "toc_section_display": true,
   "toc_window_display": false
  }
 },
 "nbformat": 4,
 "nbformat_minor": 5
}
