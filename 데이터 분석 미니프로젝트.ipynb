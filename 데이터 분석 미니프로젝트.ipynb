{
 "cells": [
  {
   "cell_type": "markdown",
   "id": "48366b94",
   "metadata": {},
   "source": [
    "# 프로젝트 개요\n",
    "* 주제 : 온라인 학습 플랫폼 사용자 행동 패턴 분석\n",
    "* 개요 :\n",
    "```\n",
    "이번 프로젝트는 학습 서비스를 이용하는 독자들 중 누가 서비스 구독을 연장할지 예측하기 위한 사전 파악에 초점을 맞추고 있습니다. 우리의 목표는 유저들의 학습 습관, 선호도, 이용 행태 등 다양한 측면을 면밀히 분석하는 것입니다.\n",
    "\n",
    "\n",
    "이를 위해, 우리는 유저들의 학습 패턴, 서비스 이용 시간, 콘텐츠에 대한 반응, 그리고 이들이 얼마나 자주 서비스를 이용하는지 등 다양한 데이터를 수집하고 분석할 계획입니다. 이 데이터는 유저들이 서비스에 얼마나 만족하고 있는지, 어떤 요소들이 그들의 구독 결정에 영향을 미치는지 이해하는 데 중요한 역할을 할 것입니다.\n",
    "```\n",
    "* 데이터셋 : mini.csv\n",
    "    * 메타데이터\n",
    "        * user_id: 사용자의 고유 식별자\n",
    "        * subscription_duration: 사용자가 서비스에 가입한 기간 (월)\n",
    "        * recent_login_time: 사용자가 마지막으로 로그인한 시간 (일)\n",
    "        * average_login_time:  사용자의 일반적인 로그인 시간\n",
    "        * average_time_per_learning_session: 각 학습 세션에 소요된 평균 시간 (분)\n",
    "        * monthly_active_learning_days: 월간 활동적인 학습 일수\n",
    "        * total_completed_courses: 완료한 총 코스 수\n",
    "        * recent_learning_achievement: 최근 학습 성취도\n",
    "        * abandoned_learning_sessions: 중단된 학습 세션 수\n",
    "        * community_engagement_level: 커뮤니티 참여도\n",
    "        * preferred_difficulty_level: 선호하는 난이도\n",
    "        * subscription_type: 구독 유형\n",
    "        * customer_inquiry_history: 고객 문의 이력\n",
    "        * payment_pattern : 사용자의 지난 3개월 간의 결제 패턴을 10진수로 표현한 값.\n",
    "          - 7: 3개월 모두 결제함\n",
    "          - 6: 첫 2개월은 결제했으나 마지막 달에는 결제하지 않음\n",
    "          - 5: 첫 달과 마지막 달에 결제함\n",
    "          - 4: 첫 달에만 결제함\n",
    "          - 3: 마지막 2개월에 결제함\n",
    "          - 2: 가운데 달에만 결제함\n",
    "          - 1: 마지막 달에만 결제함\n",
    "          - 0: 3개월 동안 결제하지 않음\n",
    "        * target: 사용자가 다음 달에도 구독을 계속할지 (1) 또는 취소할지 (0)를 나타냄"
   ]
  },
  {
   "cell_type": "markdown",
   "id": "3a61cc9c",
   "metadata": {
    "ExecuteTime": {
     "end_time": "2024-01-02T02:46:03.319335Z",
     "start_time": "2024-01-02T02:46:03.309850Z"
    }
   },
   "source": [
    "# 목표 설정\n",
    "- 이번 데이터 분석의 최종적인 목표는 '구독을 연장할 확률이 높은 유저들이 가지는 특징을 찾는다.' 입니다.\n",
    "- 이를 위해 여러가지 가설을 설정하고 데이터 분석을 시도해보려고 합니다."
   ]
  },
  {
   "cell_type": "markdown",
   "id": "554faf89",
   "metadata": {},
   "source": [
    "# 탐색적 데이터 분석 단계\n",
    "\n",
    "- 가설을 설정하기 전에 데이터를 여러 방식으로 살펴보려고 합니다.\n",
    "- 구독 연장과 직접적으로 연관이 있는 데이터는 target인 것으로 보입니다.\n",
    "- target 데이터와 다른 데이터 간의 상관 관계를 분석한다면 구독 연장하는 유저의 특징을 파악하는데 있어서 좋은 아이디어를 얻을 수 있을거라 생각했습니다."
   ]
  },
  {
   "cell_type": "markdown",
   "id": "0c2d70a6",
   "metadata": {},
   "source": [
    "## 상관 관계 분석\n",
    "\n",
    "- target 데이터와 다른 데이터 간의 상관 관계 분석을 통해 구독 연장과 관련있는 변수가 무엇인지 확인해보려 합니다."
   ]
  },
  {
   "cell_type": "code",
   "execution_count": 156,
   "id": "b19a2f25",
   "metadata": {
    "ExecuteTime": {
     "end_time": "2024-01-02T08:26:31.229916Z",
     "start_time": "2024-01-02T08:26:31.222998Z"
    }
   },
   "outputs": [],
   "source": [
    "import seaborn as sns\n",
    "import matplotlib.pyplot as plt\n",
    "import pandas as pd\n",
    "from matplotlib import font_manager, rc \n",
    "font_path = \"C:/Windows/Fonts/malgun.ttf\"\n",
    "font = font_manager.FontProperties(fname = font_path).get_name()\n",
    "rc('font', family = font)\n",
    "plt.rcParams['axes.unicode_minus'] = False"
   ]
  },
  {
   "cell_type": "code",
   "execution_count": 157,
   "id": "86c43524",
   "metadata": {
    "ExecuteTime": {
     "end_time": "2024-01-02T08:26:32.429446Z",
     "start_time": "2024-01-02T08:26:32.398997Z"
    }
   },
   "outputs": [],
   "source": [
    "# 데이터 가져오기\n",
    "df = pd.read_csv('C:\\workspace\\python\\WASSUP\\mini.csv', encoding= 'cp949')"
   ]
  },
  {
   "cell_type": "markdown",
   "id": "a2a4e48b",
   "metadata": {
    "ExecuteTime": {
     "end_time": "2024-01-02T01:14:21.783385Z",
     "start_time": "2024-01-02T01:14:20.160665Z"
    }
   },
   "source": [
    "### 데이터 정제\n",
    "- 중복 데이터 제거\n",
    "- user_id 열을 index로 지정\n",
    "- 열의 이름을 한글로 변경\n",
    "- 실수화 할 수 있는 범주형 데이터를 찾아 실수화 (추후 분석을 위해)"
   ]
  },
  {
   "cell_type": "code",
   "execution_count": 158,
   "id": "f0e2e77e",
   "metadata": {
    "ExecuteTime": {
     "end_time": "2024-01-02T08:26:34.597278Z",
     "start_time": "2024-01-02T08:26:34.578999Z"
    }
   },
   "outputs": [
    {
     "data": {
      "text/plain": [
       "0"
      ]
     },
     "execution_count": 158,
     "metadata": {},
     "output_type": "execute_result"
    }
   ],
   "source": [
    "#중복 데이터 갯수 확인\n",
    "df.duplicated().sum()"
   ]
  },
  {
   "cell_type": "code",
   "execution_count": 159,
   "id": "0631196a",
   "metadata": {
    "ExecuteTime": {
     "end_time": "2024-01-02T08:26:36.216582Z",
     "start_time": "2024-01-02T08:26:36.209993Z"
    },
    "scrolled": true
   },
   "outputs": [],
   "source": [
    "#user_id 열을 index로 지정\n",
    "df = df.set_index('user_id')"
   ]
  },
  {
   "cell_type": "code",
   "execution_count": 160,
   "id": "1cd924e8",
   "metadata": {
    "ExecuteTime": {
     "end_time": "2024-01-02T08:26:37.898003Z",
     "start_time": "2024-01-02T08:26:37.893267Z"
    }
   },
   "outputs": [],
   "source": [
    "#열의 이름을 한글로 변경\n",
    "columns = ['서비스 가입 기간(월)', '최근 로그인 시간(일)', '평균 접속 시간(분)', '세션당 평균 학습 시간(분)', '활동적인 학습 일수', '완료 코스 개수', '최근 학습성취도', '중단된 학습 세션 수', '커뮤니티 참여도', '선호 학습 난도', '구독 유형', '고객 문의 이력', '3개월 간 결제패턴', '구독 연장 여부']\n",
    "\n",
    "df.columns = columns"
   ]
  },
  {
   "cell_type": "code",
   "execution_count": 161,
   "id": "f98ccaf0",
   "metadata": {
    "ExecuteTime": {
     "end_time": "2024-01-02T08:26:39.532489Z",
     "start_time": "2024-01-02T08:26:39.524992Z"
    }
   },
   "outputs": [],
   "source": [
    "#범주형 데이터 실수화\n",
    "difficulty_level = {'Low': 0, 'Medium': 1, 'High': 2}\n",
    "df['선호 학습 난도'] = df['선호 학습 난도'].map(difficulty_level)\n",
    "#subcription_type 변수는 실수화하기 어려워서 남겨둠"
   ]
  },
  {
   "cell_type": "markdown",
   "id": "9fc8c0d6",
   "metadata": {},
   "source": [
    "### 상관 관계 분석 결과 확인"
   ]
  },
  {
   "cell_type": "code",
   "execution_count": 162,
   "id": "f2c60714",
   "metadata": {
    "ExecuteTime": {
     "end_time": "2024-01-02T08:26:41.545815Z",
     "start_time": "2024-01-02T08:26:41.537226Z"
    }
   },
   "outputs": [],
   "source": [
    "#범주형 데이터를 제외한 열만 남기기.\n",
    "data = df.drop('구독 유형', axis=1)\n",
    "#상관 관계 계산 함수 실행\n",
    "correlation_matrix = data.corr()"
   ]
  },
  {
   "cell_type": "code",
   "execution_count": 163,
   "id": "7e2b553b",
   "metadata": {
    "ExecuteTime": {
     "end_time": "2024-01-02T08:26:43.366266Z",
     "start_time": "2024-01-02T08:26:43.358988Z"
    }
   },
   "outputs": [],
   "source": [
    "#target 행은 필요 없어서 제외 시키기\n",
    "correlation_matrix = correlation_matrix.drop('구독 연장 여부',axis=0)\n",
    "#시각화를 위해 target 열에 있는 데이터만 가져오고 상관 계수 값의 크기에 따라서 정렬하기\n",
    "target_correlations = correlation_matrix['구독 연장 여부'].sort_values(ascending=False)"
   ]
  },
  {
   "cell_type": "code",
   "execution_count": 164,
   "id": "4e822af4",
   "metadata": {
    "ExecuteTime": {
     "end_time": "2024-01-02T08:26:45.371766Z",
     "start_time": "2024-01-02T08:26:45.108988Z"
    },
    "scrolled": true
   },
   "outputs": [
    {
     "data": {
      "image/png": "[encoded data removed]",
      "text/plain": [
       "<Figure size 1000x600 with 1 Axes>"
      ]
     },
     "metadata": {},
     "output_type": "display_data"
    }
   ],
   "source": [
    "#시각화 하기\n",
    "plt.figure(figsize=(10, 6))\n",
    "sns.barplot(x=target_correlations.values, y=target_correlations.index)\n",
    "#plt.xticks(rotation=90)\n",
    "plt.title('구독 연장 여부와의 상관 관계 분석')\n",
    "plt.ylabel('변수')\n",
    "plt.xlabel('상관 계수')\n",
    "plt.show()"
   ]
  },
  {
   "cell_type": "markdown",
   "id": "8c93031d",
   "metadata": {},
   "source": [
    "- 상관 관계 분석 결과, 세션당 평균 학습 시간 변수와 구독 연장 여부 변수 사이에 아주 약한 양의 상관 관계(상관 계수 0.118)가 있는 것으로 확인됩니다.\n",
    "- 그러나 상관 계수가 매우 낮기 때문에, 이 관계는 뚜렷하지 않습니다.\n",
    "- 가설을 세우지 않은 탐색적 데이터 분석 결과, 세션당 평균 학습 시간 변수와 구독 연장 여부 사이에 약한 상관 관계가 있음을 알 수 있었습니다.\n",
    "- 아직 구독 연장 여부와의 관계를 검증하지 않은 열이 존재합니다. 추가적으로 구독 유형과 구독 연장 여부 사이의 관계가 있는지 확인해보도록 하겠습니다."
   ]
  },
  {
   "cell_type": "markdown",
   "id": "ebd94b4f",
   "metadata": {},
   "source": [
    "## 구독 연장과 구독 유형 사이에는 특별한 관계가 있을까?\n",
    "\n",
    "> 가설 : 프리미엄 구독자는 베이직 구독자보다 구독 연장을 희망하는 인원의 비율이 더 높을 것이다.\n"
   ]
  },
  {
   "cell_type": "markdown",
   "id": "0c524c1b",
   "metadata": {},
   "source": [
    "### 비율 비교하기"
   ]
  },
  {
   "cell_type": "code",
   "execution_count": 165,
   "id": "50c5ddd2",
   "metadata": {
    "ExecuteTime": {
     "end_time": "2024-01-02T08:26:56.653472Z",
     "start_time": "2024-01-02T08:26:56.495974Z"
    }
   },
   "outputs": [
    {
     "data": {
      "image/png": "[encoded data removed]",
      "text/plain": [
       "<Figure size 800x700 with 2 Axes>"
      ]
     },
     "metadata": {},
     "output_type": "display_data"
    }
   ],
   "source": [
    "premium_retention = df[df['구독 유형'] == 'Premium']['구독 연장 여부'].value_counts()\n",
    "basic_retention = df[df['구독 유형'] == 'Basic']['구독 연장 여부'].value_counts()\n",
    "\n",
    "# 파이 차트 데이터 준비\n",
    "premium_user = [premium_retention[1], premium_retention[0]]  # 유지된 사용자, 유지되지 않은 사용자\n",
    "basic_user = [basic_retention[1], basic_retention[0]]  # 유지된 사용자, 유지되지 않은 사용자\n",
    "\n",
    "# 파이 차트 생성\n",
    "fig, ax = plt.subplots(1, 2, figsize=(8, 7))\n",
    "\n",
    "# 프리미엄 구독자 파이 차트\n",
    "ax[0].pie(premium_data, labels=['유지', '비유지'], autopct='%1.1f%%', startangle=45, colors=['#A4193D','#FFDFB9'])\n",
    "ax[0].set_title('프리미엄 구독자 유지 비율')\n",
    "\n",
    "# 베이직 구독자 파이 차트\n",
    "ax[1].pie(basic_data, labels=['유지', '비유지'], autopct='%1.1f%%', startangle=45, colors=[\"#2C5F2D\",\"#97BC62\"])\n",
    "ax[1].set_title('베이직 구독자 유지 비율')\n",
    "\n",
    "plt.show()"
   ]
  },
  {
   "cell_type": "markdown",
   "id": "7de52fce",
   "metadata": {},
   "source": [
    "- 프리미엄 구독자의 구독 유지 비율이 베이직 구독자의 구독 유지 비율에 비해 1%p 가량 높은 것을 확인할 수 있습니다.\n",
    "- 이것이 과연 유의미한 차이인지 확인하기 위해서 카이제곱 검정을 수행해보겠습니다."
   ]
  },
  {
   "cell_type": "code",
   "execution_count": 166,
   "id": "7d752e7e",
   "metadata": {
    "ExecuteTime": {
     "end_time": "2024-01-02T08:26:59.171179Z",
     "start_time": "2024-01-02T08:26:59.151977Z"
    }
   },
   "outputs": [
    {
     "data": {
      "text/html": [
       "<div>\n",
       "<style scoped>\n",
       "    .dataframe tbody tr th:only-of-type {\n",
       "        vertical-align: middle;\n",
       "    }\n",
       "\n",
       "    .dataframe tbody tr th {\n",
       "        vertical-align: top;\n",
       "    }\n",
       "\n",
       "    .dataframe thead th {\n",
       "        text-align: right;\n",
       "    }\n",
       "</style>\n",
       "<table border=\"1\" class=\"dataframe\">\n",
       "  <thead>\n",
       "    <tr style=\"text-align: right;\">\n",
       "      <th>구독 연장 여부</th>\n",
       "      <th>0</th>\n",
       "      <th>1</th>\n",
       "    </tr>\n",
       "    <tr>\n",
       "      <th>구독 유형</th>\n",
       "      <th></th>\n",
       "      <th></th>\n",
       "    </tr>\n",
       "  </thead>\n",
       "  <tbody>\n",
       "    <tr>\n",
       "      <th>Basic</th>\n",
       "      <td>2296</td>\n",
       "      <td>3683</td>\n",
       "    </tr>\n",
       "    <tr>\n",
       "      <th>Premium</th>\n",
       "      <td>1505</td>\n",
       "      <td>2516</td>\n",
       "    </tr>\n",
       "  </tbody>\n",
       "</table>\n",
       "</div>"
      ],
      "text/plain": [
       "구독 연장 여부     0     1\n",
       "구독 유형               \n",
       "Basic     2296  3683\n",
       "Premium   1505  2516"
      ]
     },
     "execution_count": 166,
     "metadata": {},
     "output_type": "execute_result"
    }
   ],
   "source": [
    "from scipy.stats import chi2_contingency\n",
    "contingency_table = pd.crosstab(df['구독 유형'], df['구독 연장 여부'])\n",
    "contingency_table"
   ]
  },
  {
   "cell_type": "code",
   "execution_count": 167,
   "id": "1f8552bc",
   "metadata": {
    "ExecuteTime": {
     "end_time": "2024-01-02T08:27:00.649381Z",
     "start_time": "2024-01-02T08:27:00.642701Z"
    }
   },
   "outputs": [
    {
     "data": {
      "text/plain": [
       "0.3363503107808859"
      ]
     },
     "execution_count": 167,
     "metadata": {},
     "output_type": "execute_result"
    }
   ],
   "source": [
    "result = chi2_contingency(contingency_table)\n",
    "result.pvalue"
   ]
  },
  {
   "cell_type": "markdown",
   "id": "e07c516e",
   "metadata": {},
   "source": [
    "- p-값이 약 0.336으로, 일반적으로 사용되는 유의 수준 0.05보다 큽니다. 이는 두 그룹 간의 차이가 통계적으로 유의미하지 않다는 것을 의미합니다.\n",
    "- 그러므로 프리미엄 구독자 중 구독 연장을 희망하는 비율이 베이직 구독자보다 유의미하게 높다고 주장하기 어렵습니다. 두 그룹 간의 차이는 통계적으로 유의미하지 않으며, 비율 차이도 크지 않습니다."
   ]
  },
  {
   "cell_type": "markdown",
   "id": "766add9c",
   "metadata": {},
   "source": [
    "- 변수 간의 상관 관계 분석을 통해 의미있는 인사이트를 도출하기는 어려운 것으로 보입니다.\n",
    "- 그러면 방향을 바꾸어 추가 분석을 진행해보겠습니다."
   ]
  },
  {
   "cell_type": "markdown",
   "id": "7a0de724",
   "metadata": {},
   "source": [
    "# 가장 구독 연장 비율이 높은 그룹은 어디일까?\n",
    "\n",
    "- 구독 연장 비율이 높은 그룹이 곧 구독을 연장할 확률이 높은 그룹이라고 생각합니다.\n",
    "- 구독 연장 비율이 높은 그룹을 찾기 위해 범주형 변수들을 사용하여 그룹을 형성하고, 각 그룹의 구독 연장 비율을 확인해보려고 합니다."
   ]
  },
  {
   "cell_type": "markdown",
   "id": "5a3d30bc",
   "metadata": {},
   "source": [
    "## 구독 연장 비율이 높은 그룹 확인하기"
   ]
  },
  {
   "cell_type": "code",
   "execution_count": 171,
   "id": "11b622bd",
   "metadata": {
    "ExecuteTime": {
     "end_time": "2024-01-02T08:27:55.459329Z",
     "start_time": "2024-01-02T08:27:55.441924Z"
    },
    "scrolled": true
   },
   "outputs": [
    {
     "data": {
      "text/html": [
       "<div>\n",
       "<style scoped>\n",
       "    .dataframe tbody tr th:only-of-type {\n",
       "        vertical-align: middle;\n",
       "    }\n",
       "\n",
       "    .dataframe tbody tr th {\n",
       "        vertical-align: top;\n",
       "    }\n",
       "\n",
       "    .dataframe thead th {\n",
       "        text-align: right;\n",
       "    }\n",
       "</style>\n",
       "<table border=\"1\" class=\"dataframe\">\n",
       "  <thead>\n",
       "    <tr style=\"text-align: right;\">\n",
       "      <th></th>\n",
       "      <th>구독 유형</th>\n",
       "      <th>선호 학습 난도</th>\n",
       "      <th>커뮤니티 참여도</th>\n",
       "      <th>구독 연장 여부</th>\n",
       "    </tr>\n",
       "  </thead>\n",
       "  <tbody>\n",
       "    <tr>\n",
       "      <th>9</th>\n",
       "      <td>Basic</td>\n",
       "      <td>2</td>\n",
       "      <td>1</td>\n",
       "      <td>0.680180</td>\n",
       "    </tr>\n",
       "    <tr>\n",
       "      <th>18</th>\n",
       "      <td>Premium</td>\n",
       "      <td>1</td>\n",
       "      <td>5</td>\n",
       "      <td>0.662050</td>\n",
       "    </tr>\n",
       "    <tr>\n",
       "      <th>5</th>\n",
       "      <td>Basic</td>\n",
       "      <td>1</td>\n",
       "      <td>2</td>\n",
       "      <td>0.651026</td>\n",
       "    </tr>\n",
       "    <tr>\n",
       "      <th>7</th>\n",
       "      <td>Basic</td>\n",
       "      <td>1</td>\n",
       "      <td>4</td>\n",
       "      <td>0.650000</td>\n",
       "    </tr>\n",
       "    <tr>\n",
       "      <th>6</th>\n",
       "      <td>Basic</td>\n",
       "      <td>1</td>\n",
       "      <td>3</td>\n",
       "      <td>0.647727</td>\n",
       "    </tr>\n",
       "    <tr>\n",
       "      <th>13</th>\n",
       "      <td>Basic</td>\n",
       "      <td>2</td>\n",
       "      <td>5</td>\n",
       "      <td>0.638462</td>\n",
       "    </tr>\n",
       "    <tr>\n",
       "      <th>21</th>\n",
       "      <td>Premium</td>\n",
       "      <td>2</td>\n",
       "      <td>5</td>\n",
       "      <td>0.627753</td>\n",
       "    </tr>\n",
       "    <tr>\n",
       "      <th>10</th>\n",
       "      <td>Basic</td>\n",
       "      <td>2</td>\n",
       "      <td>2</td>\n",
       "      <td>0.626459</td>\n",
       "    </tr>\n",
       "    <tr>\n",
       "      <th>15</th>\n",
       "      <td>Premium</td>\n",
       "      <td>0</td>\n",
       "      <td>5</td>\n",
       "      <td>0.623262</td>\n",
       "    </tr>\n",
       "    <tr>\n",
       "      <th>16</th>\n",
       "      <td>Premium</td>\n",
       "      <td>1</td>\n",
       "      <td>3</td>\n",
       "      <td>0.617544</td>\n",
       "    </tr>\n",
       "    <tr>\n",
       "      <th>8</th>\n",
       "      <td>Basic</td>\n",
       "      <td>1</td>\n",
       "      <td>5</td>\n",
       "      <td>0.616477</td>\n",
       "    </tr>\n",
       "    <tr>\n",
       "      <th>12</th>\n",
       "      <td>Basic</td>\n",
       "      <td>2</td>\n",
       "      <td>4</td>\n",
       "      <td>0.616279</td>\n",
       "    </tr>\n",
       "    <tr>\n",
       "      <th>3</th>\n",
       "      <td>Basic</td>\n",
       "      <td>0</td>\n",
       "      <td>5</td>\n",
       "      <td>0.615578</td>\n",
       "    </tr>\n",
       "    <tr>\n",
       "      <th>17</th>\n",
       "      <td>Premium</td>\n",
       "      <td>1</td>\n",
       "      <td>4</td>\n",
       "      <td>0.613900</td>\n",
       "    </tr>\n",
       "    <tr>\n",
       "      <th>1</th>\n",
       "      <td>Basic</td>\n",
       "      <td>0</td>\n",
       "      <td>3</td>\n",
       "      <td>0.608696</td>\n",
       "    </tr>\n",
       "    <tr>\n",
       "      <th>20</th>\n",
       "      <td>Premium</td>\n",
       "      <td>2</td>\n",
       "      <td>4</td>\n",
       "      <td>0.606936</td>\n",
       "    </tr>\n",
       "    <tr>\n",
       "      <th>14</th>\n",
       "      <td>Premium</td>\n",
       "      <td>0</td>\n",
       "      <td>4</td>\n",
       "      <td>0.603491</td>\n",
       "    </tr>\n",
       "    <tr>\n",
       "      <th>0</th>\n",
       "      <td>Basic</td>\n",
       "      <td>0</td>\n",
       "      <td>2</td>\n",
       "      <td>0.592593</td>\n",
       "    </tr>\n",
       "    <tr>\n",
       "      <th>2</th>\n",
       "      <td>Basic</td>\n",
       "      <td>0</td>\n",
       "      <td>4</td>\n",
       "      <td>0.591276</td>\n",
       "    </tr>\n",
       "    <tr>\n",
       "      <th>19</th>\n",
       "      <td>Premium</td>\n",
       "      <td>2</td>\n",
       "      <td>3</td>\n",
       "      <td>0.586207</td>\n",
       "    </tr>\n",
       "    <tr>\n",
       "      <th>4</th>\n",
       "      <td>Basic</td>\n",
       "      <td>1</td>\n",
       "      <td>1</td>\n",
       "      <td>0.584570</td>\n",
       "    </tr>\n",
       "    <tr>\n",
       "      <th>11</th>\n",
       "      <td>Basic</td>\n",
       "      <td>2</td>\n",
       "      <td>3</td>\n",
       "      <td>0.558442</td>\n",
       "    </tr>\n",
       "  </tbody>\n",
       "</table>\n",
       "</div>"
      ],
      "text/plain": [
       "      구독 유형  선호 학습 난도  커뮤니티 참여도  구독 연장 여부\n",
       "9     Basic         2         1  0.680180\n",
       "18  Premium         1         5  0.662050\n",
       "5     Basic         1         2  0.651026\n",
       "7     Basic         1         4  0.650000\n",
       "6     Basic         1         3  0.647727\n",
       "13    Basic         2         5  0.638462\n",
       "21  Premium         2         5  0.627753\n",
       "10    Basic         2         2  0.626459\n",
       "15  Premium         0         5  0.623262\n",
       "16  Premium         1         3  0.617544\n",
       "8     Basic         1         5  0.616477\n",
       "12    Basic         2         4  0.616279\n",
       "3     Basic         0         5  0.615578\n",
       "17  Premium         1         4  0.613900\n",
       "1     Basic         0         3  0.608696\n",
       "20  Premium         2         4  0.606936\n",
       "14  Premium         0         4  0.603491\n",
       "0     Basic         0         2  0.592593\n",
       "2     Basic         0         4  0.591276\n",
       "19  Premium         2         3  0.586207\n",
       "4     Basic         1         1  0.584570\n",
       "11    Basic         2         3  0.558442"
      ]
     },
     "execution_count": 171,
     "metadata": {},
     "output_type": "execute_result"
    }
   ],
   "source": [
    "grouped_data = df.groupby(['구독 유형', '선호 학습 난도','커뮤니티 참여도']).agg({\n",
    "    '구독 연장 여부': 'mean'\n",
    "}).reset_index()\n",
    "\n",
    "grouped_data.sort_values(by='구독 연장 여부', ascending=False)"
   ]
  },
  {
   "cell_type": "markdown",
   "id": "4f9f7385",
   "metadata": {},
   "source": [
    "- 확인 결과 구독 유형이 'Basic', 선호 학습 난도가 '상', '커뮤니티 참여도' 레벨이 1인 그룹의 구독 연장 비율이 약 68%로 가장 높았습니다.\n",
    "- 그러나 해당 그룹의 구독 연장 비율이 통계적으로 유의미한지는 추가 검증이 필요합니다."
   ]
  },
  {
   "cell_type": "code",
   "execution_count": 173,
   "id": "4cb1e4b8",
   "metadata": {
    "ExecuteTime": {
     "end_time": "2024-01-02T08:43:49.335426Z",
     "start_time": "2024-01-02T08:43:49.319092Z"
    }
   },
   "outputs": [
    {
     "data": {
      "text/plain": [
       "0.07166035690199918"
      ]
     },
     "execution_count": 173,
     "metadata": {},
     "output_type": "execute_result"
    }
   ],
   "source": [
    "target_group = df[(df['구독 유형'] == 'Basic') & \n",
    "                         (df['선호 학습 난도'] == 2) & \n",
    "                         (df['커뮤니티 참여도'] == 1)]\n",
    "\n",
    "rest_group = df[~((df['구독 유형'] == 'Basic') & \n",
    "                      (df['선호 학습 난도'] == 2) & \n",
    "                      (df['커뮤니티 참여도'] == 1))]\n",
    "\n",
    "contingency_table = pd.DataFrame({\n",
    "    \"타겟 그룹\": [target_group['구독 연장 여부'].sum(), len(target_group) - target_group['구독 연장 여부'].sum()],\n",
    "    \"기타 그룹\": [rest_group['구독 연장 여부'].sum(), len(rest_group) - rest_group['구독 연장 여부'].sum()]\n",
    "})\n",
    "\n",
    "\n",
    "chi2, p, dof, expected = chi2_contingency(contingency_table)\n",
    "\n",
    "p"
   ]
  },
  {
   "cell_type": "markdown",
   "id": "ad8e3684",
   "metadata": {},
   "source": [
    "- 확인 결과, p-값이 약 0.07으로, 일반적으로 사용되는 유의 수준 0.05보다 큽니다.\n",
    "- 따라서 해당 그룹의 구독 연장 비율 값이 통계적으로 유의미하다고 볼 수 없습니다.\n",
    "- 통계적으로 유의미한 수치를 가지면서 가장 높은 구독 연장 비율을 가진 그룹을 찾아보겠습니다.\n",
    "- 두번째로 구독 연장 비율이 높은 그룹의 p-value를 확인해보겠습니다."
   ]
  },
  {
   "cell_type": "code",
   "execution_count": 174,
   "id": "edfb9cb5",
   "metadata": {
    "ExecuteTime": {
     "end_time": "2024-01-02T08:52:46.279585Z",
     "start_time": "2024-01-02T08:52:46.261622Z"
    }
   },
   "outputs": [
    {
     "data": {
      "text/plain": [
       "0.017195482469714127"
      ]
     },
     "execution_count": 174,
     "metadata": {},
     "output_type": "execute_result"
    }
   ],
   "source": [
    "target_group = df[(df['구독 유형'] == 'Premium') & #구독 유형은 프리미엄\n",
    "                         (df['선호 학습 난도'] == 1) & # 선호 학습 난도는 '중'\n",
    "                         (df['커뮤니티 참여도'] == 5)] # 커뮤니티 참여도 레벨은 5\n",
    "\n",
    "rest_group = df[~((df['구독 유형'] == 'Premium') & \n",
    "                      (df['선호 학습 난도'] == 1) & \n",
    "                      (df['커뮤니티 참여도'] == 5))]\n",
    "\n",
    "contingency_table = pd.DataFrame({\n",
    "    \"타겟 그룹\": [target_group['구독 연장 여부'].sum(), len(target_group) - target_group['구독 연장 여부'].sum()],\n",
    "    \"기타 그룹\": [rest_group['구독 연장 여부'].sum(), len(rest_group) - rest_group['구독 연장 여부'].sum()]\n",
    "})\n",
    "\n",
    "\n",
    "chi2, p, dof, expected = chi2_contingency(contingency_table)\n",
    "\n",
    "p"
   ]
  },
  {
   "cell_type": "markdown",
   "id": "ed46c362",
   "metadata": {},
   "source": [
    "- 확인 결과, p-값이 약 0.07으로, 일반적으로 사용되는 유의 수준 0.05보다 작습니다.\n",
    "- 따라서 구독 유형은 '프리미엄', 선호 학습 난도는 '중', 커뮤니티 참여도 레벨은 '5'인 그룹의 구독 연장 비율이 가장 높으면서 통계적으로도 유의미하다고 볼 수 있습니다."
   ]
  }
 ],
 "metadata": {
  "kernelspec": {
   "display_name": "Python 3 (ipykernel)",
   "language": "python",
   "name": "python3"
  },
  "language_info": {
   "codemirror_mode": {
    "name": "ipython",
    "version": 3
   },
   "file_extension": ".py",
   "mimetype": "text/x-python",
   "name": "python",
   "nbconvert_exporter": "python",
   "pygments_lexer": "ipython3",
   "version": "3.11.5"
  },
  "toc": {
   "base_numbering": 1,
   "nav_menu": {},
   "number_sections": true,
   "sideBar": true,
   "skip_h1_title": false,
   "title_cell": "Table of Contents",
   "title_sidebar": "Contents",
   "toc_cell": false,
   "toc_position": {},
   "toc_section_display": true,
   "toc_window_display": false
  }
 },
 "nbformat": 4,
 "nbformat_minor": 5
}
